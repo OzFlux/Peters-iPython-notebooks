{
 "metadata": {
  "name": "",
  "signature": "sha256:fa188fb20092bacabb6cc7ed3bdb078c78d9fdb4a06f16ebbc915514720a6ac2"
 },
 "nbformat": 3,
 "nbformat_minor": 0,
 "worksheets": [
  {
   "cells": [
    {
     "cell_type": "code",
     "collapsed": false,
     "input": [
      "import Tkinter\n",
      "import ttk"
     ],
     "language": "python",
     "metadata": {},
     "outputs": [],
     "prompt_number": 1
    },
    {
     "cell_type": "code",
     "collapsed": false,
     "input": [
      "def calculate(*args):\n",
      "    try:\n",
      "        value = float(feet.get())\n",
      "        meters.set((0.3048 * value * 10000.0 + 0.5)/10000.0)\n",
      "    except ValueError:\n",
      "        pass\n",
      "    \n",
      "root = Tkinter.Tk()\n",
      "root.title(\"Feet to Meters\")\n",
      "\n",
      "mainframe = ttk.Frame(root, padding=\"3 3 12 12\")\n",
      "mainframe.grid(column=0, row=0, sticky=(N, W, E, S))\n",
      "mainframe.columnconfigure(0, weight=1)\n",
      "mainframe.rowconfigure(0, weight=1)\n",
      "\n",
      "feet = StringVar()\n",
      "meters = StringVar()\n",
      "\n",
      "feet_entry = ttk.Entry(mainframe, width=7, textvariable=feet)\n",
      "feet_entry.grid(column=2, row=1, sticky=(W, E))\n",
      "\n",
      "ttk.Label(mainframe, textvariable=meters).grid(column=2, row=2, sticky=(W, E))\n",
      "ttk.Button(mainframe, text=\"Calculate\", command=calculate).grid(column=3, row=3, sticky=W)\n",
      "\n",
      "ttk.Label(mainframe, text=\"feet\").grid(column=3, row=1, sticky=W)\n",
      "ttk.Label(mainframe, text=\"is equivalent to\").grid(column=1, row=2, sticky=E)\n",
      "ttk.Label(mainframe, text=\"meters\").grid(column=3, row=2, sticky=W)\n",
      "\n",
      "for child in mainframe.winfo_children(): child.grid_configure(padx=5, pady=5)\n",
      "\n",
      "feet_entry.focus()\n",
      "root.bind('<Return>', calculate)\n",
      "\n",
      "root.mainloop()"
     ],
     "language": "python",
     "metadata": {},
     "outputs": []
    },
    {
     "cell_type": "code",
     "collapsed": false,
     "input": [
      "def option_not_implemented():\n",
      "    print \"option not implemented\""
     ],
     "language": "python",
     "metadata": {},
     "outputs": [],
     "prompt_number": 12
    },
    {
     "cell_type": "code",
     "collapsed": false,
     "input": [
      "parent = Tkinter.Tk()\n",
      "parent.title(\"Tab interface\")\n",
      "n = ttk.Notebook(parent)\n",
      "f1 = ttk.Frame(n); # first page, which would get widgets gridded into it\n",
      "L1Label = ttk.Label(f1,text='L1: Raw data')\n",
      "L1Label.grid(row=0,column=0,columnspan=2)\n",
      "L2Label = ttk.Label(f1,text='L2: QA/QC')\n",
      "L2Label.grid(row=0,column=2,columnspan=2)\n",
      "L3Label = ttk.Label(f1,text='L3: Process')\n",
      "L3Label.grid(row=0,column=4,columnspan=2)\n",
      "doL1Button = ttk.Button (f1, text=\"Read L1 file\", command=option_not_implemented )\n",
      "doL1Button.grid(row=1,column=0,columnspan=2)\n",
      "doL2Button = ttk.Button (f1, text=\"Do L2 QA/QC\", command=option_not_implemented )\n",
      "doL2Button.grid(row=1,column=2,columnspan=2)\n",
      "doL3Button = ttk.Button (f1, text=\"Do L3 processing\", command=option_not_implemented )\n",
      "doL3Button.grid(row=1,column=4,columnspan=2)\n",
      "\n",
      "#ttk.Button(f1, text='Exit', command=parent.destroy).grid(column=1, row=1)\n",
      "f2 = ttk.Frame(n); # second page\n",
      "ttk.Button(f2, text='Exit', command=parent.destroy).grid(column=1, row=1)\n",
      "n.add(f1, text='One')\n",
      "n.add(f2, text='Two')\n",
      "n.grid()\n",
      "parent.mainloop()"
     ],
     "language": "python",
     "metadata": {},
     "outputs": [],
     "prompt_number": 13
    },
    {
     "cell_type": "code",
     "collapsed": false,
     "input": [],
     "language": "python",
     "metadata": {},
     "outputs": []
    }
   ],
   "metadata": {}
  }
 ]
}