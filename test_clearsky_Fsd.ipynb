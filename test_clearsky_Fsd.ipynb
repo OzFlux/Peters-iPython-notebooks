{
 "metadata": {
  "name": "",
  "signature": "sha256:d5f9d262bc0a1ff083bd07c9d2d06c276267056d2f2ea28c0cb068007ade46ed"
 },
 "nbformat": 3,
 "nbformat_minor": 0,
 "worksheets": [
  {
   "cells": [
    {
     "cell_type": "code",
     "collapsed": false,
     "input": [
      "%run basics\n",
      "import pytz\n",
      "import re\n",
      "%matplotlib"
     ],
     "language": "python",
     "metadata": {},
     "outputs": [
      {
       "output_type": "stream",
       "stream": "stdout",
       "text": [
        "Using matplotlib backend: Qt4Agg\n"
       ]
      }
     ],
     "prompt_number": 1
    },
    {
     "cell_type": "code",
     "collapsed": false,
     "input": [
      "def get_clearsky_Fsd(ds):\n",
      "    \"\"\"\n",
      "    Calculate downwelling radiation at surface.\n",
      "    Code from Ian McHugh.\n",
      "    \"\"\"\n",
      "    # set a value for \"k\", the extinction coefficient\n",
      "    k = 0.25\n",
      "    # get the latitude and longitude\n",
      "    lat_decdeg = float(ds.globalattributes[\"latitude\"])\n",
      "    long_decdeg = float(ds.globalattributes[\"longitude\"])\n",
      "    if \"elevation\" in ds.globalattributes:\n",
      "        ALT_m = int(re.sub(\"[^0123456789\\.]\",\"\",str(ds.globalattributes[\"elevation\"])))\n",
      "    else:\n",
      "        ALT_m = 1.0\n",
      "    rec_length = int(ds.globalattributes[\"time_step\"])\n",
      "    # Ian's original code queried AskGeo for the UTC offset in milliseconds\n",
      "    # and converted that to hours.  Here we use the time zone given in the\n",
      "    # netCDF file global attributes.\n",
      "    # get the time zone\n",
      "    time_zone = ds.globalattributes[\"time_zone\"]\n",
      "    # get a pytz object\n",
      "    tz = pytz.timezone(time_zone)\n",
      "    # use the same \"current\" date as Ian\n",
      "    cdt = datetime.datetime(2013,6,1,0,0,0)\n",
      "    # get the offset to UTC time as a timedelta object\n",
      "    utcoffset = tz.utcoffset(cdt)\n",
      "    # get the offset as hours\n",
      "    GMT_zone = utcoffset.seconds/float(3600)\n",
      "    # get the datetime\n",
      "    ldt = ds.series[\"DateTime\"][\"Data\"]\n",
      "    # get the day of the year from local time\n",
      "    #DOY = numpy.array([dt.timetuple().tm_yday for dt in ldt])\n",
      "    start_doy = ldt[0].timetuple().tm_yday\n",
      "    end_doy = ldt[-2].timetuple().tm_yday\n",
      "    DOY = numpy.arange(start_doy,end_doy+1,1)\n",
      "    # For each day calculate equation of time correction, solar noon, declination and TOA radiation\n",
      "    array_EqofTime=0.17*numpy.sin(4*numpy.pi*(DOY-80)/373)-0.129*numpy.sin(2*numpy.pi*(DOY-8)/355) # DiLaura (1984)\n",
      "    array_solar_noon=12+(GMT_zone*15.0-long_decdeg)/360*24-array_EqofTime # Me\n",
      "    array_decl=numpy.radians(23.4)*numpy.sin((DOY+284)/365.0*2*numpy.pi) # Oke (1987)\n",
      "    array_TOArad=(1+0.034*numpy.cos(DOY/365.25*2*numpy.pi))*1367.0 # Duffie and Beckman (1980)\n",
      "    # Create an hour angle array for each minute of day and each day of year\n",
      "    array_h=numpy.tile(numpy.linspace(0,1439.0/1440*24,num=1440),(len(DOY),1))\n",
      "    array_h=abs(numpy.radians((array_solar_noon.reshape(len(DOY),1)-array_h)*15))\n",
      "    # Duplicate declination array for each time of day\n",
      "    array_decl=numpy.tile(array_decl,(1440,1)).T\n",
      "    # Calculate zenith angles\n",
      "    array_z=numpy.arccos(numpy.sin(numpy.radians(lat_decdeg))*numpy.sin(array_decl)+numpy.cos(numpy.radians(lat_decdeg))*numpy.cos(array_decl)*numpy.cos(array_h))\n",
      "    array_z_msk=numpy.ma.masked_greater_equal(array_z,numpy.pi/2) # Mask night values\n",
      "    # Calculate optical air mass term for all valid Z \n",
      "    array_m=(numpy.exp(-1*ALT_m/8343.5)/(numpy.cos(array_z_msk)+0.15*(numpy.degrees(90-array_z_msk)+3.855)**-1.253)) # Wunderlich (1972)\n",
      "    # Instantaneous clear sky surface radiation in Wm-2 for each minute of the day\n",
      "    array_Kdown_clr_mins=array_TOArad.reshape(len(array_TOArad),1)*numpy.exp(-k*array_m)*numpy.cos(array_z_msk)\n",
      "    # Aggregate one-minute instantaneous clear sky rad to period average\n",
      "    array_Kdown_clr_hr=numpy.empty([len(DOY),1440/rec_length])\n",
      "    for i in xrange(len(DOY)):\n",
      "        array_temp=array_Kdown_clr_mins[i][:].reshape(1440/rec_length,rec_length) # Temporary bins\n",
      "        array_Kdown_clr_hr[i][:]=numpy.ma.mean(array_temp,axis=1) # Average bin content\n",
      "    # Aggregate to daily\n",
      "    array_Kdown_clr_daily=(array_Kdown_clr_hr*(rec_length*60.0/10**6)).sum(axis=1)\n",
      "    #return array_Kdown_clr_daily,array_Kdown_clr_hr\n",
      "    return array_Kdown_clr_hr.flatten(order=\"C\")"
     ],
     "language": "python",
     "metadata": {},
     "outputs": [],
     "prompt_number": 2
    },
    {
     "cell_type": "code",
     "collapsed": false,
     "input": [
      "def get_clearsky_radiation(doy,params):\n",
      "    longitude = params[\"longitude\"]\n",
      "    GMT_zone = params[\"GMT_zone\"]\n",
      "    eot = equation_of_time(doy)\n",
      "    solar_noon = get_solar_noon(eot,longitude,GMT_zone)\n",
      "    declination = get_declination(doy)\n",
      "    flux_toa = get_radiation_topofatmosphere(doy)\n",
      "    "
     ],
     "language": "python",
     "metadata": {},
     "outputs": []
    },
    {
     "cell_type": "code",
     "collapsed": false,
     "input": [
      "# read the netCDF file\n",
      "ncname = qcio.get_filename_dialog()\n",
      "ds = qcio.nc_read_series(ncname)\n",
      "ts = int(ds.globalattributes[\"time_step\"])\n",
      "ntsInDay = int(24.0*60.0/float(ts))"
     ],
     "language": "python",
     "metadata": {},
     "outputs": [],
     "prompt_number": 3
    },
    {
     "cell_type": "code",
     "collapsed": false,
     "input": [
      "# get the clear sky radiation\n",
      "Fsd_cs = get_clearsky_Fsd(ds)"
     ],
     "language": "python",
     "metadata": {},
     "outputs": [],
     "prompt_number": 4
    },
    {
     "cell_type": "code",
     "collapsed": false,
     "input": [
      "# get the measured downwelling shortwave\n",
      "Fsd,f,a = qcutils.GetSeriesasMA(ds,\"Fsd\")"
     ],
     "language": "python",
     "metadata": {},
     "outputs": [],
     "prompt_number": 5
    },
    {
     "cell_type": "code",
     "collapsed": false,
     "input": [
      "# plot\n",
      "ldt = ds.series[\"DateTime\"][\"Data\"]\n",
      "fig = plt.figure()\n",
      "plt.plot(ldt,Fsd,'b.')\n",
      "plt.plot(ldt,Fsd_cs,'r+')\n",
      "plt.show()"
     ],
     "language": "python",
     "metadata": {},
     "outputs": [],
     "prompt_number": 6
    },
    {
     "cell_type": "code",
     "collapsed": false,
     "input": [
      "start_date = ldt[0]\n",
      "end_date = start_date+dateutil.relativedelta.relativedelta(months=1)\n",
      "si = qcutils.GetDateIndex(ldt,str(start_date),ts=ts,match=\"startnextday\",default=0)\n",
      "ei = qcutils.GetDateIndex(ldt,str(end_date),ts=ts,match=\"endpreviousday\",default=len(ldt))\n",
      "nDays = int((ei-si+1)/ntsInDay)\n",
      "Fsd_period = Fsd[si:ei+1].reshape(nDays,ntsInDay)\n",
      "Fsd_cs_period = Fsd_cs[si:ei+1].reshape(nDays,ntsInDay)\n",
      "Fsd_max = numpy.ma.max(Fsd_period,axis=0)\n",
      "Fsd_cs_max = numpy.ma.max(Fsd_cs_period,axis=0)"
     ],
     "language": "python",
     "metadata": {},
     "outputs": [],
     "prompt_number": 7
    },
    {
     "cell_type": "code",
     "collapsed": false,
     "input": [
      "fig = plt.figure()\n",
      "plt.plot(numpy.arange(0,len(Fsd_max)),Fsd_max,'b.')\n",
      "plt.plot(numpy.arange(0,len(Fsd_max)),Fsd_cs_max,'r+')\n",
      "plt.show()"
     ],
     "language": "python",
     "metadata": {},
     "outputs": [],
     "prompt_number": 8
    },
    {
     "cell_type": "code",
     "collapsed": false,
     "input": [
      "k = 0.25\n",
      "time_zone = ds.globalattributes[\"time_zone\"]\n",
      "long_decdeg = float(ds.globalattributes[\"longitude\"])\n",
      "lat_decdeg = float(ds.globalattributes[\"latitude\"])\n",
      "if \"elevation\" in ds.globalattributes:\n",
      "    ALT_m = int(re.sub(\"[^0123456789\\.]\",\"\",str(ds.globalattributes[\"elevation\"])))\n",
      "else:\n",
      "    ALT_m = 1.0\n",
      "rec_length = int(ds.globalattributes[\"time_step\"])\n",
      "tz = pytz.timezone(time_zone)\n",
      "cdt = datetime.datetime(2013,6,1,0,0,0)\n",
      "utcoffset = tz.utcoffset(cdt)\n",
      "GMT_zone = utcoffset.seconds/float(3600)\n",
      "start_doy = ldt[0].timetuple().tm_yday\n",
      "end_doy = ldt[-2].timetuple().tm_yday\n",
      "DOY = numpy.arange(start_doy,end_doy+1,1)\n",
      "\n",
      "array_EqofTime=0.17*numpy.sin(4*numpy.pi*(DOY-80)/373)-0.129*numpy.sin(2*numpy.pi*(DOY-8)/355)\n",
      "array_solar_noon=12+(GMT_zone*15.0-long_decdeg)/360*24-array_EqofTime\n",
      "array_decl=numpy.radians(23.4)*numpy.sin((DOY+284)/365.0*2*numpy.pi)\n",
      "array_TOArad=(1+0.034*numpy.cos(DOY/365.25*2*numpy.pi))*1367.0\n",
      "array_hh=numpy.tile(numpy.linspace(0,1439.0/1440*24,num=1440),(len(DOY),1))\n",
      "array_h=abs(numpy.radians((array_solar_noon.reshape(len(DOY),1)-array_hh)*15))\n",
      "array_decl=numpy.tile(array_decl,(1440,1)).T\n",
      "array_z=numpy.arccos(numpy.sin(numpy.radians(lat_decdeg))*numpy.sin(array_decl)+numpy.cos(numpy.radians(lat_decdeg))*numpy.cos(array_decl)*numpy.cos(array_h))\n",
      "array_z_msk=numpy.ma.masked_greater_equal(array_z,numpy.pi/2)\n",
      "array_m=(numpy.exp(-1*ALT_m/8343.5)/(numpy.cos(array_z_msk)+0.15*(numpy.degrees(90-array_z_msk)+3.855)**-1.253))\n",
      "array_Kdown_clr_mins=array_TOArad.reshape(len(array_TOArad),1)*numpy.exp(-k*array_m)*numpy.cos(array_z_msk)\n",
      "array_Kdown_clr_hr=numpy.empty([len(DOY),1440/rec_length])\n",
      "for i in xrange(len(DOY)):\n",
      "    array_temp=array_Kdown_clr_mins[i][:].reshape(1440/rec_length,rec_length) # Temporary bins\n",
      "    array_Kdown_clr_hr[i][:]=numpy.ma.mean(array_temp,axis=1) # Average bin content\n",
      "Fsd_cs_im = array_Kdown_clr_hr.flatten(order=\"C\")"
     ],
     "language": "python",
     "metadata": {},
     "outputs": [],
     "prompt_number": 29
    },
    {
     "cell_type": "code",
     "collapsed": false,
     "input": [
      "k = 0.208\n",
      "ddd,f,a = qcutils.GetSeries(ds,\"Ddd\")\n",
      "hhh,f,a = qcutils.GetSeries(ds,\"Hdh\")\n",
      "# correct decimal hour to refer to centre of period rather than end of period\n",
      "hhh = hhh - float(ts)/(60.0*2)\n",
      "\n",
      "eot = 0.17*numpy.sin(4*numpy.pi*(ddd-80)/373)-0.129*numpy.sin(2*numpy.pi*(ddd-8)/355)\n",
      "solar_noon = 12+(GMT_zone*15.0-long_decdeg)/360*24-eot\n",
      "declination = numpy.radians(23.4)*numpy.sin((ddd+284)/365.0*2*numpy.pi)\n",
      "Fsd_TOA = (1+0.034*numpy.cos(ddd/365.25*2*numpy.pi))*1367.0\n",
      "hour_angle = abs(numpy.radians((solar_noon-hhh)*15))\n",
      "zenith = numpy.arccos(numpy.sin(numpy.radians(lat_decdeg))*numpy.sin(declination)+numpy.cos(numpy.radians(lat_decdeg))*numpy.cos(declination)*numpy.cos(hour_angle))\n",
      "zenith = numpy.ma.masked_greater_equal(zenith,numpy.pi/2)\n",
      "air_mass_ratio = (numpy.exp(-1*ALT_m/8343.5)/(numpy.cos(zenith)+0.15*(numpy.degrees(90-zenith)+3.855)**-1.253))\n",
      "Fsd_cs_pri = Fsd_TOA*numpy.exp(-k*air_mass_ratio)*numpy.cos(zenith)"
     ],
     "language": "python",
     "metadata": {},
     "outputs": [],
     "prompt_number": 69
    },
    {
     "cell_type": "code",
     "collapsed": false,
     "input": [
      "fig = plt.figure()\n",
      "plt.plot(array_hh[0,:],array_h[0,:])\n",
      "plt.plot(hhh[0:47],hour_angle[0:47],'r+')\n",
      "plt.show()"
     ],
     "language": "python",
     "metadata": {},
     "outputs": [],
     "prompt_number": 17
    },
    {
     "cell_type": "code",
     "collapsed": false,
     "input": [
      "fig2 = plt.figure()\n",
      "plt.plot(array_hh[0,:],array_z_msk[0,:])\n",
      "plt.plot(hhh[0:47],zenith[0:47],'r+')\n",
      "plt.show()"
     ],
     "language": "python",
     "metadata": {},
     "outputs": [],
     "prompt_number": 24
    },
    {
     "cell_type": "code",
     "collapsed": false,
     "input": [
      "fig3 = plt.figure()\n",
      "plt.plot(array_hh[0,:],array_m[0,:])\n",
      "plt.plot(hhh[0:47],air_mass_ratio[0:47],'r+')\n",
      "plt.show()"
     ],
     "language": "python",
     "metadata": {},
     "outputs": [],
     "prompt_number": 28
    },
    {
     "cell_type": "code",
     "collapsed": false,
     "input": [
      "fig4 = plt.figure()\n",
      "plt.plot(hhh[0:47],Fsd_cs_im[0:47])\n",
      "plt.plot(hhh[0:47],Fsd_cs_pri[0:47],'r+')\n",
      "plt.show()"
     ],
     "language": "python",
     "metadata": {},
     "outputs": [],
     "prompt_number": 36
    },
    {
     "cell_type": "code",
     "collapsed": false,
     "input": [
      "Fsd_cs_im_period = Fsd_cs_im[si:ei+1].reshape(nDays,ntsInDay)\n",
      "Fsd_cs_im_max = numpy.ma.max(Fsd_cs_im_period,axis=0)\n",
      "Fsd_cs_pri_period = Fsd_cs_pri[si:ei+1].reshape(nDays,ntsInDay)\n",
      "Fsd_cs_pri_max = numpy.ma.max(Fsd_cs_pri_period,axis=0)"
     ],
     "language": "python",
     "metadata": {},
     "outputs": [],
     "prompt_number": 70
    },
    {
     "cell_type": "code",
     "collapsed": false,
     "input": [
      "fig5 = plt.figure()\n",
      "plt.plot(numpy.arange(0,len(Fsd_max)),Fsd_max,'b.')\n",
      "plt.plot(numpy.arange(0,len(Fsd_max)),Fsd_cs_im_max,'r+')\n",
      "plt.plot(numpy.arange(0,len(Fsd_max)),Fsd_cs_pri_max,'g^')\n",
      "plt.show()"
     ],
     "language": "python",
     "metadata": {},
     "outputs": [],
     "prompt_number": 71
    },
    {
     "cell_type": "code",
     "collapsed": false,
     "input": [],
     "language": "python",
     "metadata": {},
     "outputs": []
    }
   ],
   "metadata": {}
  }
 ]
}