{
 "cells": [
  {
   "cell_type": "code",
   "execution_count": 1,
   "metadata": {
    "collapsed": false
   },
   "outputs": [
    {
     "name": "stdout",
     "output_type": "stream",
     "text": [
      "Using matplotlib backend: Qt4Agg\n"
     ]
    }
   ],
   "source": [
    "%run basics\n",
    "%matplotlib\n",
    "from scipy.optimize import curve_fit"
   ]
  },
  {
   "cell_type": "code",
   "execution_count": 2,
   "metadata": {
    "collapsed": true
   },
   "outputs": [],
   "source": [
    "def ER_LloydTaylor(T,rb,E0):\n",
    "#    return rb*numpy.exp(E0*(1/(c.Tref-c.T0)-1/(T-c.T0)))\n",
    "    return rb*numpy.exp(E0*(1/(288.13-227.13)-1/((T+273.15)-227.13)))"
   ]
  },
  {
   "cell_type": "code",
   "execution_count": 3,
   "metadata": {
    "collapsed": true
   },
   "outputs": [],
   "source": [
    "def NEE_RHLRC_D(data,alpha,beta,k,D0,rb,E0):\n",
    "    Fsd = data[\"Fsd\"]\n",
    "    D = data[\"D\"]\n",
    "    T = data[\"T\"]\n",
    "    NEE = -1*GPP_RHLRC_D(Fsd,D,alpha,beta,k,D0) + ER_LloydTaylor(T,rb,E0)\n",
    "    return NEE\n",
    "\n",
    "def GPP_RHLRC_D(Fsd,D,alpha,beta,k,D0):\n",
    "    beta = beta*SHD_func_Lasslop(D,k,D0)\n",
    "    GPP = alpha*beta*Fsd/(alpha*Fsd+beta)\n",
    "    return GPP\n",
    "\n",
    "def SHD_func_Lasslop(D,k,D0):\n",
    "    SHD_func = numpy.ones(len(D))\n",
    "    idx = numpy.where(D>D0)[0]\n",
    "    if isinstance(k,numpy.ndarray):\n",
    "        SHD_func[idx] = numpy.exp(-k[idx]*(D[idx]-D0))\n",
    "    else:\n",
    "        SHD_func[idx] = numpy.exp(-k*(D[idx]-D0))\n",
    "    return SHD_func"
   ]
  },
  {
   "cell_type": "code",
   "execution_count": 4,
   "metadata": {
    "collapsed": true
   },
   "outputs": [],
   "source": [
    "def interp_params(param_rslt_array):\n",
    "\n",
    "    def do_interp(array_1D):\n",
    "        xp = numpy.arange(len(arr))\n",
    "        fp = array_1D[:]\n",
    "        nan_index = numpy.isnan(fp)\n",
    "        fp[nan_index] = numpy.interp(xp[nan_index], xp[~nan_index], fp[~nan_index])\n",
    "        return fp\n",
    "\n",
    "    arr = param_rslt_array.copy()\n",
    "    num_vars = numpy.shape(arr)\n",
    "    if len(num_vars) == 1:\n",
    "        arr = do_interp(arr)\n",
    "    else:\n",
    "        num_vars = num_vars[1]\n",
    "        for i in range(num_vars):\n",
    "            arr[:, i] = do_interp(arr[:, i])\n",
    "\n",
    "    return arr"
   ]
  },
  {
   "cell_type": "code",
   "execution_count": 5,
   "metadata": {
    "collapsed": true
   },
   "outputs": [],
   "source": [
    "def ApplyQuantileFilter(data,quantile):\n",
    "    lower = float(quantile)\n",
    "    upper = float(100)-lower\n",
    "    q = numpy.percentile(numpy.ma.compressed(data),[lower,upper])\n",
    "    return numpy.ma.masked_where((data<q[0])|(data>q[1]),data)"
   ]
  },
  {
   "cell_type": "code",
   "execution_count": 6,
   "metadata": {
    "collapsed": true
   },
   "outputs": [],
   "source": [
    "def get_LT_params(ldt,ER,T,info):\n",
    "    \"\"\"\n",
    "    Purpose:\n",
    "     Returns rb and E0 for the Lloyd & Taylor respiration function.\n",
    "    Usage:\n",
    "    Author: PRI\n",
    "    Date: April 2016\n",
    "    \"\"\"\n",
    "    mta = numpy.array([])\n",
    "    LT_results = {\"start_date\":mta,\"mid_date\":mta,\"end_date\":mta,\n",
    "                  \"rb\":mta,\"E0\":mta}\n",
    "    LT_prior = {\"rb\":1.0,\"E0\":100}\n",
    "    start_date = ldt[0]\n",
    "    last_date = ldt[-1]\n",
    "    end_date = start_date+datetime.timedelta(days=info[\"window_length\"])\n",
    "    last_E0_OK = False\n",
    "    while end_date<=last_date:\n",
    "        LT_results[\"start_date\"] = numpy.append(LT_results[\"start_date\"],start_date)\n",
    "        LT_results[\"mid_date\"] = numpy.append(LT_results[\"mid_date\"],start_date+(end_date-start_date)/2)\n",
    "        LT_results[\"end_date\"] = numpy.append(LT_results[\"end_date\"],end_date)\n",
    "        si = qcutils.GetDateIndex(ldt,str(start_date),ts=ts)\n",
    "        ei = qcutils.GetDateIndex(ldt,str(end_date),ts=ts)\n",
    "        Tsub = numpy.ma.compressed(T[si:ei+1])\n",
    "        ERsub = numpy.ma.compressed(ER[si:ei+1])\n",
    "        if len(ERsub)>=10:\n",
    "            LT_prior[\"rb\"] = numpy.mean(ERsub)\n",
    "            p0 = [LT_prior[\"rb\"],LT_prior[\"E0\"]]\n",
    "            popt,pcov = curve_fit(ER_LloydTaylor,Tsub,ERsub,p0=p0)\n",
    "            # QC results\n",
    "            if popt[1]<50 or popt[1]>400:\n",
    "                if last_E0_OK:\n",
    "                    popt[1] = LT_results[\"E0\"][-1]\n",
    "                    last_E0_OK = False\n",
    "                else:\n",
    "                    if popt[1]<50: popt[1] = float(50)\n",
    "                    if popt[1]>400: popt[1] = float(400)\n",
    "                    last_E0_OK = False\n",
    "            else:\n",
    "                last_E0_OK = True\n",
    "            LT_results[\"rb\"] = numpy.append(LT_results[\"rb\"],popt[0])\n",
    "            LT_results[\"E0\"] = numpy.append(LT_results[\"E0\"],popt[1])\n",
    "        else:\n",
    "            LT_results[\"rb\"] = numpy.append(LT_results[\"rb\"],numpy.nan)\n",
    "            LT_results[\"E0\"] = numpy.append(LT_results[\"E0\"],numpy.nan)\n",
    "        start_date = start_date+datetime.timedelta(days=info[\"window_offset\"])\n",
    "        end_date = start_date+datetime.timedelta(days=info[\"window_length\"])\n",
    "    #    start_date = end_date\n",
    "    #    end_date = start_date+dateutil.relativedelta.relativedelta(years=1)\n",
    "    return LT_results"
   ]
  },
  {
   "cell_type": "code",
   "execution_count": 7,
   "metadata": {
    "collapsed": true
   },
   "outputs": [],
   "source": [
    "def get_LL_params(ldt,Fsd,D,T,NEE,ER,LT_results,info):\n",
    "    # Lasslop as it was written in Lasslop et al (2010), mostly ...\n",
    "    # Actually, the only intended difference is the window length and offset\n",
    "    # Lasslop et al used window_length=4, window_offset=2\n",
    "    mta = numpy.array([])\n",
    "    LL_results = {\"start_date\":mta,\"mid_date\":mta,\"end_date\":mta,\n",
    "                  \"alpha\":mta,\"beta\":mta,\"k\":mta,\"rb\":mta,\n",
    "                  \"alpha_low\":mta,\"rb_low\":mta,\"rb_prior\":mta,\"E0\":mta}\n",
    "    LL_prior = {\"rb\":1.0,\"alpha\":0.01,\"beta\":10,\"k\":0}\n",
    "    LL_fixed = {\"D0\":1}\n",
    "    D0 = LL_fixed[\"D0\"]\n",
    "    drivers = {}\n",
    "    start_date = ldt[0]\n",
    "    last_date = ldt[-1]\n",
    "    end_date = start_date+datetime.timedelta(days=info[\"window_length\"])\n",
    "    while end_date<=last_date:\n",
    "        #print start_date,end_date\n",
    "        sub_results = {\"RMSE\":[],\"alpha\":[],\"beta\":[],\"k\":[],\"rb\":[]}\n",
    "        si = qcutils.GetDateIndex(ldt,str(start_date),ts=ts)\n",
    "        ei = qcutils.GetDateIndex(ldt,str(end_date),ts=ts)\n",
    "        drivers[\"Fsd\"] = numpy.ma.compressed(Fsd[si:ei+1])\n",
    "        drivers[\"D\"] = numpy.ma.compressed(D[si:ei+1])\n",
    "        drivers[\"T\"] = numpy.ma.compressed(T[si:ei+1])\n",
    "        NEEsub = numpy.ma.compressed(NEE[si:ei+1])\n",
    "        ERsub = numpy.ma.compressed(ER[si:ei+1])\n",
    "        mid_date = start_date+(end_date-start_date)/2\n",
    "        # get the value of E0 for the period closest to the mid-point of this period\n",
    "        diffs = [abs(dt-mid_date) for dt in LT_results[\"mid_date\"]]\n",
    "        val,idx = min((val,idx) for (idx,val) in enumerate(diffs))\n",
    "        LL_results[\"E0\"] = numpy.append(LL_results[\"E0\"],LT_results[\"E0_int\"][idx])\n",
    "        LL_results[\"start_date\"] = numpy.append(LL_results[\"start_date\"],start_date)\n",
    "        LL_results[\"mid_date\"] = numpy.append(LL_results[\"mid_date\"],mid_date)\n",
    "        LL_results[\"end_date\"] = numpy.append(LL_results[\"end_date\"],end_date)\n",
    "        if len(NEEsub)>=10:\n",
    "            # alpha and rb from linear fit between NEE and Fsd at low light levels\n",
    "            idx = numpy.where(drivers[\"Fsd\"]<100)[0]\n",
    "            alpha_low,rb_low = numpy.polyfit(drivers[\"Fsd\"][idx],NEEsub[idx],1)\n",
    "            if len(ERsub)>=10: LL_prior[\"rb\"] = numpy.mean(ERsub)\n",
    "            for bm in [0.5,1,2]:\n",
    "                #print \"Doing beta multiplier: \",bm\n",
    "                LL_prior[\"beta\"] = numpy.abs(numpy.percentile(NEEsub,3)-numpy.percentile(NEEsub,97))\n",
    "                LL_prior[\"beta\"] = bm*LL_prior[\"beta\"]\n",
    "                E0 = LL_results[\"E0\"][-1]\n",
    "                p0 = [LL_prior[\"alpha\"],LL_prior[\"beta\"],LL_prior[\"k\"],LL_prior[\"rb\"]]\n",
    "                try:\n",
    "                    fopt = lambda x,alpha,beta,k,rb:NEE_RHLRC_D(x,alpha,beta,k,D0,rb,E0)\n",
    "                    popt,pcov = curve_fit(fopt,drivers,NEEsub,p0=p0)\n",
    "                    alpha,beta,k,rb = popt[0],popt[1],popt[2],popt[3]\n",
    "                    last_alpha_OK = True\n",
    "                except RuntimeError:\n",
    "                    #print \" Setting all parameters to NaN: 1\"\n",
    "                    alpha,beta,k,rb = numpy.nan,numpy.nan,numpy.nan,numpy.nan\n",
    "                    last_alpha_OK = False\n",
    "                # QC the parameters\n",
    "                # k first\n",
    "                if numpy.isnan(k) or k<0 or k>2:\n",
    "                    k = 0\n",
    "                    try:\n",
    "                        p0 = [LL_prior[\"alpha\"],LL_prior[\"beta\"],LL_prior[\"rb\"]]\n",
    "                        fopt = lambda x,alpha,beta,rb:NEE_RHLRC_D(x,alpha,beta,k,D0,rb,E0)\n",
    "                        popt,pcov = curve_fit(fopt,drivers,NEEsub,p0=p0)\n",
    "                        alpha,beta,rb = popt[0],popt[1],popt[2]\n",
    "                        last_alpha_OK = True\n",
    "                    except RuntimeError:\n",
    "                        #print \" Setting all parameters to NaN: 2\"\n",
    "                        alpha,beta,k,rb = numpy.nan,numpy.nan,numpy.nan,numpy.nan\n",
    "                        last_alpha_OK = False\n",
    "                # then alpha\n",
    "                if numpy.isnan(alpha) or alpha<0 or alpha>0.22:\n",
    "                    if last_alpha_OK==True:\n",
    "                        alpha = LL_results[\"alpha\"][-1]\n",
    "                    else:\n",
    "                        alpha = 0\n",
    "                    try:\n",
    "                        p0 = [LL_prior[\"beta\"],LL_prior[\"k\"],LL_prior[\"rb\"]]\n",
    "                        fopt = lambda x,beta,k,rb:NEE_RHLRC_D(x,alpha,beta,k,D0,rb,E0)\n",
    "                        popt,pcov = curve_fit(fopt,drivers,NEEsub,p0=p0)\n",
    "                        beta,k,rb = popt[0],popt[1],popt[2]\n",
    "                    except RuntimeError:\n",
    "                        #print \" Setting all parameters to NaN: 3\"\n",
    "                        alpha,beta,k,rb = numpy.nan,numpy.nan,numpy.nan,numpy.nan\n",
    "                # then beta\n",
    "                if beta<0:\n",
    "                    beta = 0\n",
    "                    try:\n",
    "                        p0 = [LL_prior[\"alpha\"],LL_prior[\"k\"],LL_prior[\"rb\"]]\n",
    "                        fopt = lambda x,alpha,k,rb:NEE_RHLRC_D(x,alpha,beta,k,D0,rb,E0)\n",
    "                        popt,pcov = curve_fit(fopt,drivers,NEEsub,p0=p0)\n",
    "                        alpha,k,rb = popt[0],popt[1],popt[2]\n",
    "                    except RuntimeError:\n",
    "                        #print \" Setting all parameters to NaN: 4\"\n",
    "                        alpha,beta,k,rb = numpy.nan,numpy.nan,numpy.nan,numpy.nan\n",
    "                elif beta>250:\n",
    "                    #print \" Setting all parameters to NaN: 5\"\n",
    "                    alpha,beta,k,rb = numpy.nan,numpy.nan,numpy.nan,numpy.nan\n",
    "                # and finally rb\n",
    "                if rb<0:\n",
    "                    #print \" Setting all parameters to NaN: 6\"\n",
    "                    alpha,beta,k,rb = numpy.nan,numpy.nan,numpy.nan,numpy.nan\n",
    "                # now get the RMSE for this set of parameters\n",
    "                if not numpy.isnan(alpha) and not numpy.isnan(beta) and not numpy.isnan(k) and not numpy.isnan(rb):\n",
    "                    NEEest = NEE_RHLRC_D(drivers,alpha,beta,k,D0,rb,E0)\n",
    "                    sub_results[\"RMSE\"].append(numpy.sqrt(numpy.mean((NEEsub-NEEest)**2)))\n",
    "                    sub_results[\"alpha\"].append(alpha)\n",
    "                    sub_results[\"beta\"].append(beta)\n",
    "                    sub_results[\"k\"].append(k)\n",
    "                    sub_results[\"rb\"].append(rb)\n",
    "            # now find the minimum RMSE and the set of parameters for the minimum\n",
    "            if len(sub_results[\"RMSE\"])!=0:\n",
    "                min_RMSE = min(sub_results[\"RMSE\"])\n",
    "                idx = sub_results[\"RMSE\"].index(min_RMSE)\n",
    "                LL_results[\"alpha\"] = numpy.append(LL_results[\"alpha\"],sub_results[\"alpha\"][idx])\n",
    "                LL_results[\"alpha_low\"] = numpy.append(LL_results[\"alpha_low\"],float(-1)*alpha_low)\n",
    "                LL_results[\"rb\"] = numpy.append(LL_results[\"rb\"],sub_results[\"rb\"][idx])\n",
    "                LL_results[\"rb_low\"] = numpy.append(LL_results[\"rb_low\"],rb_low)\n",
    "                LL_results[\"rb_prior\"] = numpy.append(LL_results[\"rb_prior\"],LL_prior[\"rb\"])\n",
    "                LL_results[\"beta\"] = numpy.append(LL_results[\"beta\"],sub_results[\"beta\"][idx])\n",
    "                LL_results[\"k\"] = numpy.append(LL_results[\"k\"],sub_results[\"k\"][idx])\n",
    "            else:\n",
    "                LL_results[\"alpha\"] = numpy.append(LL_results[\"alpha\"],numpy.nan)\n",
    "                LL_results[\"alpha_low\"] = numpy.append(LL_results[\"alpha_low\"],float(-1)*alpha_low)\n",
    "                LL_results[\"rb\"] = numpy.append(LL_results[\"rb\"],numpy.nan)\n",
    "                LL_results[\"rb_low\"] = numpy.append(LL_results[\"rb_low\"],rb_low)\n",
    "                LL_results[\"rb_prior\"] = numpy.append(LL_results[\"rb_prior\"],LL_prior[\"rb\"])\n",
    "                LL_results[\"beta\"] = numpy.append(LL_results[\"beta\"],numpy.nan)\n",
    "                LL_results[\"k\"] = numpy.append(LL_results[\"k\"],numpy.nan)\n",
    "        else:\n",
    "            LL_results[\"alpha\"] = numpy.append(LL_results[\"alpha\"],numpy.nan)\n",
    "            LL_results[\"alpha_low\"] = numpy.append(LL_results[\"alpha_low\"],float(-1)*alpha_low)\n",
    "            LL_results[\"rb\"] = numpy.append(LL_results[\"rb\"],numpy.nan)\n",
    "            LL_results[\"rb_low\"] = numpy.append(LL_results[\"rb_low\"],rb_low)\n",
    "            LL_results[\"rb_prior\"] = numpy.append(LL_results[\"rb_prior\"],LL_prior[\"rb\"])\n",
    "            LL_results[\"beta\"] = numpy.append(LL_results[\"beta\"],numpy.nan)\n",
    "            LL_results[\"k\"] = numpy.append(LL_results[\"k\"],numpy.nan)\n",
    "        # update the start and end datetimes\n",
    "        start_date = start_date+datetime.timedelta(days=info[\"window_offset\"])\n",
    "        end_date = start_date+datetime.timedelta(days=info[\"window_length\"])\n",
    "    LL_results[\"D0\"] = D0\n",
    "    return LL_results"
   ]
  },
  {
   "cell_type": "code",
   "execution_count": 8,
   "metadata": {
    "collapsed": true
   },
   "outputs": [],
   "source": [
    "def plot_LTparams_ER(ldt,ER,ER_LT,LT_results):\n",
    "    fig, axs = plt.subplots(3,1,sharex=True,figsize=(24,6))\n",
    "    axs[0].plot(LT_results[\"mid_date\"],LT_results[\"rb\"],'bo')\n",
    "    axs[0].set_ylabel(\"rb (umol/m2/s)\")\n",
    "    axs[1].plot(LT_results[\"mid_date\"],LT_results[\"E0\"],'bo')\n",
    "    axs[1].set_ylabel(\"E0 (C)\")\n",
    "    axs[2].plot(ldt,ER,'bo')\n",
    "    axs[2].plot(ldt,ER_LT,'r--')\n",
    "    axs[2].axhline(y=0,linewidth=4,color=\"r\")\n",
    "    axs[2].set_ylabel(\"ER (umol/m2/s)\")\n",
    "    plt.tight_layout()\n",
    "    plt.draw()"
   ]
  },
  {
   "cell_type": "code",
   "execution_count": null,
   "metadata": {
    "collapsed": true
   },
   "outputs": [],
   "source": [
    "def plot_LLparams(LT_results,LL_results):\n",
    "    fig, axs = plt.subplots(4,1,sharex=True,figsize=(24,6))\n",
    "    axs[0].plot(LT_results[\"mid_date\"],LT_results[\"rb\"],'bo')\n",
    "    axs[0].plot(LL_results[\"mid_date\"],LL_results[\"rb\"],'ro')\n",
    "    axs[0].plot(LL_results[\"mid_date\"],LL_results[\"rb_low\"],'go')\n",
    "    axs[0].plot(LL_results[\"mid_date\"],LL_results[\"rb_prior\"],'yo')\n",
    "    axs[0].set_ylabel(\"rb\")\n",
    "    axs[1].plot(LL_results[\"mid_date\"],LL_results[\"alpha\"],'bo')\n",
    "    axs[1].plot(LL_results[\"mid_date\"],LL_results[\"alpha_low\"],'ro')\n",
    "    axs[1].set_ylabel(\"alpha\")\n",
    "    axs[2].plot(LL_results[\"mid_date\"],LL_results[\"beta\"],'bo')\n",
    "    axs[2].set_ylabel(\"beta\")\n",
    "    axs[3].plot(LL_results[\"mid_date\"],LL_results[\"k\"],'bo')\n",
    "    axs[3].set_ylabel(\"k\")\n",
    "    plt.tight_layout()\n",
    "    plt.show()"
   ]
  },
  {
   "cell_type": "code",
   "execution_count": 9,
   "metadata": {
    "collapsed": false
   },
   "outputs": [],
   "source": [
    "#ncname =\"../Sites/Whroo/Data/Portal/Whroo_L5.nc\"\n",
    "ncname =\"../Sites/Calperum/Data/Portal/Calperum_L5.nc\"\n",
    "ds = qcio.nc_read_series(ncname)\n",
    "ldt = ds.series[\"DateTime\"][\"Data\"]\n",
    "ts = int(ds.globalattributes[\"time_step\"])\n",
    "site_name = ds.globalattributes[\"site_name\"]\n",
    "nrecs = int(ds.globalattributes[\"nc_nrecs\"])"
   ]
  },
  {
   "cell_type": "code",
   "execution_count": 10,
   "metadata": {
    "collapsed": true
   },
   "outputs": [],
   "source": [
    "# get the data and synchronise the gaps\n",
    "indicator = numpy.ones(nrecs,dtype=numpy.int)\n",
    "Fsd,f,a = qcutils.GetSeriesasMA(ds,\"Fsd\")\n",
    "idx = numpy.where(f!=0)[0]\n",
    "indicator[idx] = numpy.int(0)\n",
    "D,f,a = qcutils.GetSeriesasMA(ds,\"VPD\")\n",
    "idx = numpy.where(f!=0)[0]\n",
    "indicator[idx] = numpy.int(0)\n",
    "T,f,a = qcutils.GetSeriesasMA(ds,\"Ta\")\n",
    "idx = numpy.where(f!=0)[0]\n",
    "indicator[idx] = numpy.int(0)\n",
    "ustar,f,a = qcutils.GetSeriesasMA(ds,\"ustar\")\n",
    "idx = numpy.where(f!=0)[0]\n",
    "indicator[idx] = numpy.int(0)\n",
    "Fc,f,a = qcutils.GetSeriesasMA(ds,\"Fc\")\n",
    "idx = numpy.where(f!=0)[0]\n",
    "indicator[idx] = numpy.int(0)"
   ]
  },
  {
   "cell_type": "code",
   "execution_count": 11,
   "metadata": {
    "collapsed": false
   },
   "outputs": [],
   "source": [
    "indicator_night = numpy.copy(indicator)\n",
    "# apply a day/night filter\n",
    "idx = numpy.where(Fsd>=10)[0]\n",
    "indicator_night[idx] = numpy.int(0)\n",
    "# apply a simple ustar filter\n",
    "idx = numpy.where(ustar<=0.24)[0]\n",
    "indicator_night[idx] = numpy.int(0)"
   ]
  },
  {
   "cell_type": "code",
   "execution_count": 12,
   "metadata": {
    "collapsed": true
   },
   "outputs": [],
   "source": [
    "# synchronise the gaps and apply the ustar filter\n",
    "T_night = numpy.ma.masked_where(indicator_night==0,T)\n",
    "ustar_night = numpy.ma.masked_where(indicator_night==0,ustar)\n",
    "ER = numpy.ma.masked_where(indicator_night==0,Fc)"
   ]
  },
  {
   "cell_type": "code",
   "execution_count": 13,
   "metadata": {
    "collapsed": false
   },
   "outputs": [],
   "source": [
    "fig, axs = plt.subplots(3,1,sharex=True,figsize=(24,6))\n",
    "axs[0].plot(ldt,ustar_night,'bo')\n",
    "axs[0].set_ylabel(\"ustar (m/s)\")\n",
    "axs[1].plot(ldt,T_night,'bo')\n",
    "axs[1].set_ylabel(\"T (C)\")\n",
    "axs[2].plot(ldt,ER,'bo')\n",
    "axs[2].axhline(y=0,linewidth=4,color=\"r\")\n",
    "axs[2].set_ylabel(\"ER (umol/m2/s)\")\n",
    "plt.tight_layout()\n",
    "plt.draw()"
   ]
  },
  {
   "cell_type": "code",
   "execution_count": 14,
   "metadata": {
    "collapsed": true
   },
   "outputs": [],
   "source": [
    "info = {\"window_length\":30,\"window_offset\":5}\n",
    "LT_results = get_LT_params(ldt,ER,T_night,info)"
   ]
  },
  {
   "cell_type": "code",
   "execution_count": 15,
   "metadata": {
    "collapsed": false
   },
   "outputs": [],
   "source": [
    "LT_results[\"rb_int\"] = interp_params(LT_results[\"rb\"])\n",
    "LT_results[\"E0_int\"] = interp_params(LT_results[\"E0\"])"
   ]
  },
  {
   "cell_type": "code",
   "execution_count": 16,
   "metadata": {
    "collapsed": true
   },
   "outputs": [],
   "source": [
    "fig,axs = plt.subplots(2,sharex=True,figsize=(24,6))\n",
    "axs[0].plot(LT_results[\"mid_date\"],LT_results[\"rb\"],'b.')\n",
    "axs[0].plot(LT_results[\"mid_date\"],LT_results[\"rb_int\"],'r+')\n",
    "axs[1].plot(LT_results[\"mid_date\"],LT_results[\"E0\"],'b.')\n",
    "axs[1].plot(LT_results[\"mid_date\"],LT_results[\"E0_int\"],'r+')\n",
    "plt.tight_layout()\n",
    "plt.draw()"
   ]
  },
  {
   "cell_type": "code",
   "execution_count": 17,
   "metadata": {
    "collapsed": false
   },
   "outputs": [],
   "source": [
    "ntsperday = float(24)*float(60)/float(ts)\n",
    "days_at_beginning = float(info[\"window_length\"])/2 - float(info[\"window_offset\"])/2\n",
    "rb_beginning = numpy.ones(days_at_beginning*ntsperday)*LT_results[\"rb_int\"][0]\n",
    "rb_middle = numpy.repeat(LT_results[\"rb_int\"],info[\"window_offset\"]*ntsperday)\n",
    "nend = len(ldt) - (len(rb_beginning)+len(rb_middle))\n",
    "rb_end = numpy.ones(nend)*LT_results[\"rb_int\"][-1]\n",
    "rb_tts = numpy.concatenate((rb_beginning,rb_middle,rb_end))\n",
    "E0_beginning = numpy.ones(days_at_beginning*ntsperday)*LT_results[\"E0_int\"][0]\n",
    "E0_middle = numpy.repeat(LT_results[\"E0_int\"],info[\"window_offset\"]*ntsperday)\n",
    "nend = len(ldt) - (len(E0_beginning)+len(E0_middle))\n",
    "E0_end = numpy.ones(nend)*LT_results[\"E0_int\"][-1]\n",
    "E0_tts = numpy.concatenate((E0_beginning,E0_middle,E0_end))\n",
    "ER_LT = ER_LloydTaylor(T,rb_tts,E0_tts)"
   ]
  },
  {
   "cell_type": "code",
   "execution_count": 18,
   "metadata": {
    "collapsed": true
   },
   "outputs": [],
   "source": [
    "plot_LTparams_ER(ldt,ER,ER_LT,LT_results)"
   ]
  },
  {
   "cell_type": "code",
   "execution_count": 19,
   "metadata": {
    "collapsed": true
   },
   "outputs": [],
   "source": [
    "indicator_day = numpy.copy(indicator)\n",
    "# apply a day/night filter\n",
    "idx = numpy.where(Fsd<=10)[0]\n",
    "indicator_day[idx] = numpy.int(0)"
   ]
  },
  {
   "cell_type": "code",
   "execution_count": 20,
   "metadata": {
    "collapsed": false
   },
   "outputs": [],
   "source": [
    "# synchronise the gaps and apply the day/night filter\n",
    "Fsd_day = numpy.ma.masked_where(indicator_day==0,Fsd)\n",
    "D_day = numpy.ma.masked_where(indicator_day==0,D)\n",
    "T_day = numpy.ma.masked_where(indicator_day==0,T)\n",
    "NEE_day = numpy.ma.masked_where(indicator_day==0,Fc)"
   ]
  },
  {
   "cell_type": "code",
   "execution_count": 21,
   "metadata": {
    "collapsed": false
   },
   "outputs": [
    {
     "name": "stderr",
     "output_type": "stream",
     "text": [
      "/home/peter/anaconda/lib/python2.7/site-packages/scipy/optimize/minpack.py:604: OptimizeWarning: Covariance of the parameters could not be estimated\n",
      "  category=OptimizeWarning)\n"
     ]
    }
   ],
   "source": [
    "LL_results = get_LL_params(ldt,Fsd_day,D_day,T_day,NEE_day,ER,LT_results,info)"
   ]
  },
  {
   "cell_type": "code",
   "execution_count": 22,
   "metadata": {
    "collapsed": false
   },
   "outputs": [],
   "source": [
    "LL_results[\"alpha_int\"] = interp_params(LL_results[\"alpha\"])\n",
    "LL_results[\"beta_int\"] = interp_params(LL_results[\"beta\"])\n",
    "LL_results[\"k_int\"] = interp_params(LL_results[\"k\"])\n",
    "LL_results[\"rb_int\"] = interp_params(LL_results[\"rb\"])\n",
    "LL_results[\"E0_int\"] = interp_params(LL_results[\"E0\"])"
   ]
  },
  {
   "cell_type": "code",
   "execution_count": 23,
   "metadata": {
    "collapsed": true
   },
   "outputs": [],
   "source": [
    "plot_LLparams(LT_results,LL_results)"
   ]
  },
  {
   "cell_type": "code",
   "execution_count": 24,
   "metadata": {
    "collapsed": false
   },
   "outputs": [],
   "source": [
    "ntsperday = float(24)*float(60)/float(ts)\n",
    "days_at_beginning = float(info[\"window_length\"])/2 - float(info[\"window_offset\"])/2\n",
    "int_list = [\"alpha_int\",\"beta_int\",\"k_int\",\"rb_int\",\"E0_int\"]\n",
    "tts_list = [\"alpha_tts\",\"beta_tts\",\"k_tts\",\"rb_tts\",\"E0_tts\"]\n",
    "for tts_item,int_item in zip(tts_list,int_list):\n",
    "    beginning = numpy.ones(days_at_beginning*ntsperday)*LL_results[int_item][0]\n",
    "    middle = numpy.repeat(LL_results[int_item],info[\"window_offset\"]*ntsperday)\n",
    "    nend = len(ldt) - (len(rb_beginning)+len(rb_middle))\n",
    "    end = numpy.ones(nend)*LL_results[int_item][-1]\n",
    "    LL_results[tts_item] = numpy.concatenate((beginning,middle,end))"
   ]
  },
  {
   "cell_type": "code",
   "execution_count": 25,
   "metadata": {
    "collapsed": false
   },
   "outputs": [],
   "source": [
    "D0 = LL_results[\"D0\"]\n",
    "rb = LL_results[\"rb_tts\"]\n",
    "E0 = LL_results[\"E0_tts\"]\n",
    "ER_LL = ER_LloydTaylor(T,rb,E0)\n",
    "alpha = LL_results[\"alpha_tts\"]\n",
    "beta = LL_results[\"beta_tts\"]\n",
    "k = LL_results[\"k_tts\"]\n",
    "GPP_LL = GPP_RHLRC_D(Fsd,D,alpha,beta,k,D0)\n",
    "data = {\"Fsd\":Fsd,\"T\":T,\"D\":D}\n",
    "NEE_LL = NEE_RHLRC_D(data,alpha,beta,k,D0,rb,E0)"
   ]
  },
  {
   "cell_type": "code",
   "execution_count": 26,
   "metadata": {
    "collapsed": false
   },
   "outputs": [],
   "source": [
    "fig, axs = plt.subplots(2,1,sharex=True,figsize=(24,6))\n",
    "axs[0].plot(ldt,ER,'bo')\n",
    "axs[0].plot(ldt,ER_LT,'r--')\n",
    "axs[0].plot(ldt,ER_LL,'g-')\n",
    "axs[0].set_ylabel(\"ER (umol/m2/s)\")\n",
    "axs[0].axhline(y=0,linewidth=4,color=\"r\")\n",
    "axs[1].plot(ldt,Fc,'bo')\n",
    "axs[1].plot(ldt,NEE_LL,'r-',linewidth=4)\n",
    "axs[1].set_ylabel(\"NEE (umol/m2/s)\")\n",
    "axs[1].axhline(y=0,linewidth=3,color=\"g\")\n",
    "plt.tight_layout()\n",
    "plt.show()"
   ]
  },
  {
   "cell_type": "code",
   "execution_count": null,
   "metadata": {
    "collapsed": true
   },
   "outputs": [],
   "source": [
    "# Lasslop with k fixed at 0.2\n",
    "# Actually, the only intended difference is the window length and offset\n",
    "# Lasslop et al used window_length=4, window_offset=2\n",
    "LL_results = {\"start_date\":[],\"mid_date\":[],\"end_date\":[],\n",
    "              \"alpha\":[],\"beta\":[],\"k\":[],\"rb\":[],\n",
    "              \"alpha_low\":[],\"rb_low\":[]}\n",
    "LL_prior = {\"rb\":1.0,\"alpha\":0.01,\"beta\":10}\n",
    "LL_fixed = {\"E0\":100,\"D0\":1,\"k\":0.2}\n",
    "drivers = {}\n",
    "window_length = 30\n",
    "window_offset = 5\n",
    "start_date = ldt[0]\n",
    "last_date = ldt[-1]\n",
    "#last_date = start_date+datetime.timedelta(days=5*window_length)\n",
    "end_date = start_date+datetime.timedelta(days=window_length)\n",
    "while end_date<=last_date:\n",
    "    #print start_date,end_date\n",
    "    sub_results = {\"RMSE\":[],\"alpha\":[],\"beta\":[],\"k\":[],\"rb\":[]}\n",
    "    si = qcutils.GetDateIndex(ldt,str(start_date),ts=ts)\n",
    "    ei = qcutils.GetDateIndex(ldt,str(end_date),ts=ts)\n",
    "    drivers[\"Fsd\"] = numpy.ma.compressed(Fsd_day[si:ei+1])\n",
    "    drivers[\"D\"] = numpy.ma.compressed(D_day[si:ei+1])\n",
    "    drivers[\"T\"] = numpy.ma.compressed(T_day[si:ei+1])\n",
    "    NEEsub = numpy.ma.compressed(NEE_day[si:ei+1])\n",
    "    ERsub = numpy.ma.compressed(ER[si:ei+1])\n",
    "    mid_date = start_date+(start_date-end_date)/2\n",
    "    if len(NEEsub)>=10:\n",
    "        # alpha and rb from linear fit between NEE and Fsd at low light levels\n",
    "        idx = numpy.where(drivers[\"Fsd\"]<100)[0]\n",
    "        alpha_low,rb_low = numpy.polyfit(drivers[\"Fsd\"][idx],NEEsub[idx],1)\n",
    "        LL_prior[\"rb\"] = numpy.mean(ERsub)\n",
    "        for bm in [0.5,1,2]:\n",
    "            #print \"Doing beta multiplier: \",bm\n",
    "            LL_prior[\"beta\"] = numpy.abs(numpy.percentile(NEEsub,3)-numpy.percentile(NEEsub,97))\n",
    "            LL_prior[\"beta\"] = bm*LL_prior[\"beta\"]\n",
    "            diffs = [abs(dt-mid_date) for dt in LT_results[\"mid_date\"]]\n",
    "            val,idx = min((val,idx) for (idx,val) in enumerate(diffs))\n",
    "            LL_fixed[\"E0\"] = LT_results[\"E0\"][idx]\n",
    "            E0 = LL_fixed[\"E0\"]\n",
    "            D0 = LL_fixed[\"D0\"]\n",
    "            k = LL_fixed[\"k\"]\n",
    "            p0 = [LL_prior[\"alpha\"],LL_prior[\"beta\"],LL_prior[\"rb\"]]\n",
    "            try:\n",
    "                fopt = lambda x,alpha,beta,rb:NEE_RHLRC_D(x,alpha,beta,k,D0,rb,E0)\n",
    "                popt,pcov = curve_fit(fopt,drivers,NEEsub,p0=p0)\n",
    "                alpha,beta,rb = popt[0],popt[1],popt[2]\n",
    "                last_alpha_OK = True\n",
    "            except RuntimeError:\n",
    "                #print \" Setting all parameters to NaN: 1\"\n",
    "                alpha,beta,rb = numpy.nan,numpy.nan,numpy.nan\n",
    "                last_alpha_OK = False\n",
    "            # QC the parameters\n",
    "            # then alpha\n",
    "            if numpy.isnan(alpha) or alpha<0 or alpha>0.22:\n",
    "                if last_alpha_OK==True:\n",
    "                    alpha = LL_results[\"alpha\"][-1]\n",
    "                else:\n",
    "                    alpha = 0\n",
    "                try:\n",
    "                    p0 = [LL_prior[\"beta\"],LL_prior[\"rb\"]]\n",
    "                    fopt = lambda x,beta,rb:NEE_RHLRC_D(x,alpha,beta,k,D0,rb,E0)\n",
    "                    popt,pcov = curve_fit(fopt,drivers,NEEsub,p0=p0)\n",
    "                    beta,rb = popt[0],popt[1]\n",
    "                except RuntimeError:\n",
    "                    #print \" Setting all parameters to NaN: 3\"\n",
    "                    alpha,beta,rb = numpy.nan,numpy.nan,numpy.nan\n",
    "            # then beta\n",
    "            if beta<0:\n",
    "                beta = 0\n",
    "                try:\n",
    "                    p0 = [LL_prior[\"alpha\"],LL_prior[\"rb\"]]\n",
    "                    fopt = lambda x,alpha,rb:NEE_RHLRC_D(x,alpha,beta,k,D0,rb,E0)\n",
    "                    popt,pcov = curve_fit(fopt,drivers,NEEsub,p0=p0)\n",
    "                    alpha,rb = popt[0],popt[1]\n",
    "                except RuntimeError:\n",
    "                    #print \" Setting all parameters to NaN: 4\"\n",
    "                    alpha,beta,rb = numpy.nan,numpy.nan,numpy.nan\n",
    "            elif beta>250:\n",
    "                #print \" Setting all parameters to NaN: 5\"\n",
    "                alpha,beta,rb = numpy.nan,numpy.nan,numpy.nan\n",
    "            # and finally rb\n",
    "            if rb<0:\n",
    "                #print \" Setting all parameters to NaN: 6\"\n",
    "                alpha,beta,rb = numpy.nan,numpy.nan,numpy.nan\n",
    "            # now get the RMSE for this set of parameters\n",
    "            if not numpy.isnan(alpha) and not numpy.isnan(beta) and not numpy.isnan(rb):\n",
    "                NEEest = NEE_RHLRC_D(drivers,alpha,beta,k,D0,rb,E0)\n",
    "                sub_results[\"RMSE\"].append(numpy.sqrt(numpy.mean((NEEsub-NEEest)**2)))\n",
    "                sub_results[\"alpha\"].append(alpha)\n",
    "                sub_results[\"beta\"].append(beta)\n",
    "                sub_results[\"rb\"].append(rb)\n",
    "        # now find the minimum RMSE and the set of parameters for the minimum\n",
    "        if len(sub_results[\"RMSE\"])!=0:\n",
    "            LL_results[\"start_date\"].append(start_date)\n",
    "            LL_results[\"mid_date\"].append(mid_date)\n",
    "            LL_results[\"end_date\"].append(end_date)\n",
    "            min_RMSE = min(sub_results[\"RMSE\"])\n",
    "            idx = sub_results[\"RMSE\"].index(min_RMSE)\n",
    "            LL_results[\"alpha\"].append(sub_results[\"alpha\"][idx])\n",
    "            alpha_low = float(-1)*alpha_low\n",
    "            LL_results[\"alpha_low\"].append(alpha_low)\n",
    "            LL_results[\"rb_low\"].append(rb_low)\n",
    "            LL_results[\"beta\"].append(sub_results[\"beta\"][idx])\n",
    "            LL_results[\"rb\"].append(sub_results[\"rb\"][idx])\n",
    "    # update the start and end datetimes\n",
    "    start_date = start_date+datetime.timedelta(days=window_offset)\n",
    "    end_date = start_date+datetime.timedelta(days=window_length)"
   ]
  },
  {
   "cell_type": "code",
   "execution_count": null,
   "metadata": {
    "collapsed": false
   },
   "outputs": [],
   "source": [
    "fig = plt.figure(figsize=(24,6))\n",
    "ax1 = plt.subplot(311)\n",
    "plt.plot(LT_results[\"end_date\"],LT_results[\"rb\"],'b.')\n",
    "plt.plot(LL_results[\"end_date\"],LL_results[\"rb\"],'r+')\n",
    "plt.plot(LL_results[\"end_date\"],LL_results[\"rb_low\"],'g^')\n",
    "plt.ylabel(\"rb\")\n",
    "ax2 = plt.subplot(312,sharex=ax1)\n",
    "plt.plot(LL_results[\"end_date\"],LL_results[\"alpha\"],'b.')\n",
    "plt.plot(LL_results[\"end_date\"],LL_results[\"alpha_low\"],'r+')\n",
    "plt.ylabel(\"alpha\")\n",
    "ax3 = plt.subplot(313,sharex=ax1)\n",
    "plt.plot(LL_results[\"end_date\"],LL_results[\"beta\"],'b.')\n",
    "plt.ylabel(\"beta\")\n",
    "plt.tight_layout()\n",
    "plt.show()"
   ]
  },
  {
   "cell_type": "code",
   "execution_count": null,
   "metadata": {
    "collapsed": true
   },
   "outputs": [],
   "source": []
  }
 ],
 "metadata": {
  "kernelspec": {
   "display_name": "Python 2",
   "language": "python",
   "name": "python2"
  },
  "language_info": {
   "codemirror_mode": {
    "name": "ipython",
    "version": 2
   },
   "file_extension": ".py",
   "mimetype": "text/x-python",
   "name": "python",
   "nbconvert_exporter": "python",
   "pygments_lexer": "ipython2",
   "version": "2.7.11"
  }
 },
 "nbformat": 4,
 "nbformat_minor": 0
}
