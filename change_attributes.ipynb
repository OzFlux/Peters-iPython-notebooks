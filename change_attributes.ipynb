{
 "metadata": {
  "name": "change_attributes"
 }, 
 "nbformat": 2, 
 "worksheets": [
  {
   "cells": [
    {
     "cell_type": "code", 
     "collapsed": true, 
     "input": [
      "import os", 
      "import sys", 
      "# check the scripts directory is present", 
      "if not os.path.exists(\"../scripts/\"):", 
      "    print \"The scripts directory is missing\"", 
      "    sys.exit()", 
      "# since the scripts directory is there, try importing the modules", 
      "sys.path.append('../scripts')", 
      "import dateutil", 
      "import qcio", 
      "import qcutils", 
      "import qcts", 
      "import qcplot", 
      "import statsmodels.api as sm"
     ], 
     "language": "python", 
     "outputs": [], 
     "prompt_number": 1
    }, 
    {
     "cell_type": "code", 
     "collapsed": false, 
     "input": [
      "nc_name = qcio.get_filename_dialog(path=\"../../Sites\")"
     ], 
     "language": "python", 
     "outputs": [], 
     "prompt_number": 4
    }, 
    {
     "cell_type": "code", 
     "collapsed": true, 
     "input": [
      "ds = qcio.nc_read_series(nc_name)"
     ], 
     "language": "python", 
     "outputs": [], 
     "prompt_number": 15
    }, 
    {
     "cell_type": "code", 
     "collapsed": true, 
     "input": [
      "for var in ds.series.keys():", 
      "    ds.series[var][\"Attr\"][\"missing_value\"] = -9999"
     ], 
     "language": "python", 
     "outputs": [], 
     "prompt_number": 6
    }, 
    {
     "cell_type": "code", 
     "collapsed": true, 
     "input": [
      "for var in ds.series.keys():", 
      "    if \"valid_range\" in ds.series[var][\"Attr\"].keys():", 
      "        valid_range = ds.series[var][\"Attr\"][\"valid_range\"]", 
      "        if '\"' in valid_range: valid_range = valid_range.replace('\"','')"
     ], 
     "language": "python", 
     "outputs": [], 
     "prompt_number": 16
    }, 
    {
     "cell_type": "code", 
     "collapsed": false, 
     "input": [
      "for attr in ds.series[\"Fsd\"][\"Attr\"].keys():", 
      "    print attr,ds.series[\"Fsd\"][\"Attr\"][attr]"
     ], 
     "language": "python", 
     "outputs": [
      {
       "output_type": "stream", 
       "stream": "stdout", 
       "text": [
        "instrument Kipp and Zonen CNR1(not CNR4!)", 
        "ancillary_variables Fsd QC flag", 
        "height 70 m", 
        "coverage_L2 84", 
        "long_name Down-welling short wave", 
        "standard_name surface_downwelling_shortwave_flux_in_air", 
        "serial_number ", 
        "units W/m2", 
        "coverage_L3 84", 
        "valid_range -10,1500", 
        "rangecheck_upper [1500]*12", 
        "rangecheck_lower [-10]*12"
       ]
      }
     ], 
     "prompt_number": 19
    }, 
    {
     "cell_type": "code", 
     "collapsed": true, 
     "input": [
      "out_name = nc_name.replace(\".nc\",\"_vr.nc\")"
     ], 
     "language": "python", 
     "outputs": [], 
     "prompt_number": 20
    }, 
    {
     "cell_type": "code", 
     "collapsed": true, 
     "input": [
      "ncfile = qcio.nc_open_write(out_name)"
     ], 
     "language": "python", 
     "outputs": [], 
     "prompt_number": 21
    }, 
    {
     "cell_type": "code", 
     "collapsed": false, 
     "input": [
      "qcio.nc_write_series(ncfile,ds)"
     ], 
     "language": "python", 
     "outputs": [], 
     "prompt_number": 22
    }, 
    {
     "cell_type": "code", 
     "collapsed": true, 
     "input": [], 
     "language": "python", 
     "outputs": []
    }
   ]
  }
 ]
}