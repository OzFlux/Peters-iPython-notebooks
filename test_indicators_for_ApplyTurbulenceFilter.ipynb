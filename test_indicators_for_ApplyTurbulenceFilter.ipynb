{
 "cells": [
  {
   "cell_type": "code",
   "execution_count": 1,
   "metadata": {
    "collapsed": false
   },
   "outputs": [
    {
     "name": "stdout",
     "output_type": "stream",
     "text": [
      "Using matplotlib backend: Qt4Agg\n"
     ]
    }
   ],
   "source": [
    "%run basics\n",
    "%matplotlib"
   ]
  },
  {
   "cell_type": "code",
   "execution_count": 2,
   "metadata": {
    "collapsed": false
   },
   "outputs": [],
   "source": [
    "cf = qcio.load_controlfile(path='controlfiles')\n",
    "infilename = qcio.get_infilenamefromcf(cf)\n",
    "ds = qcio.nc_read_series(infilename)\n",
    "ts = ds.globalattributes[\"time_step\"]\n",
    "ldt = ds.series[\"DateTime\"][\"Data\"]\n",
    "Fc_data,Fc_flag,Fc_attr = qcutils.GetSeriesasMA(ds,\"Fc\")"
   ]
  },
  {
   "cell_type": "code",
   "execution_count": 3,
   "metadata": {
    "collapsed": false
   },
   "outputs": [],
   "source": [
    "ustar,f,a = qcutils.GetSeriesasMA(ds,\"ustar\")\n",
    "Fsd,f,a = qcutils.GetSeriesasMA(ds,\"Fsd\")\n",
    "if \"solar_altitude\" not in ds.series.keys(): qcts.get_synthetic_fsd(ds)\n",
    "Fsd_syn,f,a = qcutils.GetSeriesasMA(ds,\"Fsd_syn\")\n",
    "sa,f,a = qcutils.GetSeriesasMA(ds,\"solar_altitude\")"
   ]
  },
  {
   "cell_type": "code",
   "execution_count": 4,
   "metadata": {
    "collapsed": true
   },
   "outputs": [],
   "source": [
    "indicators = {}\n",
    "ustar_dict = qcrp.get_ustar_thresholds(cf,ldt)\n",
    "indicators[\"turbulence\"] = qcrp.get_turbulence_indicator_ustar(ldt,ustar,ustar_dict,ts)\n",
    "indicator = numpy.copy(indicators[\"turbulence\"][\"values\"])"
   ]
  },
  {
   "cell_type": "code",
   "execution_count": 5,
   "metadata": {
    "collapsed": false
   },
   "outputs": [],
   "source": [
    "indicators[\"day\"] = qcrp.get_day_indicator(cf,Fsd,Fsd_syn,sa)\n",
    "opt = qcutils.get_keyvaluefromcf(cf,[\"Options\"],\"AcceptDayTimes\",default=\"Yes\")\n",
    "if opt.lower()==\"yes\":\n",
    "    idx = numpy.where(indicators[\"day\"][\"values\"]==1)[0]\n",
    "    indicator[idx] = numpy.int(1)"
   ]
  },
  {
   "cell_type": "code",
   "execution_count": 6,
   "metadata": {
    "collapsed": true
   },
   "outputs": [],
   "source": [
    "fig = plt.figure(figsize=(24,6))\n",
    "plt.plot(ldt,Fsd,'bo')\n",
    "plt.plot(ldt,Fsd_syn,'go')\n",
    "plt.plot(ldt,indicators[\"day\"],'r+')\n",
    "plt.tight_layout()\n",
    "plt.show()"
   ]
  },
  {
   "cell_type": "code",
   "execution_count": 7,
   "metadata": {
    "collapsed": false
   },
   "outputs": [],
   "source": [
    "indicators[\"evening\"] = qcrp.get_evening_indicator(cf,Fsd,Fsd_syn,sa,ts)\n",
    "indicators[\"dayevening\"] = indicators[\"day\"]+indicators[\"evening\"]\n",
    "opt = qcutils.get_keyvaluefromcf(cf,[\"Options\"],\"UseEveningFilter\",default=\"Yes\")\n",
    "if opt.lower()==\"yes\":\n",
    "    idx = numpy.where(indicators[\"dayevening\"]==0)[0]\n",
    "    indicator[idx] = numpy.int(0)"
   ]
  },
  {
   "cell_type": "code",
   "execution_count": 8,
   "metadata": {
    "collapsed": false
   },
   "outputs": [],
   "source": [
    "fig=plt.figure(figsize=(24,6))\n",
    "ax1 = plt.subplot(511)\n",
    "plt.plot(ldt,indicators[\"turbulence\"],'b.')\n",
    "plt.ylim([-0.5,1.5])\n",
    "ax2 = plt.subplot(512,sharex=ax1)\n",
    "plt.plot(ldt,indicators[\"day\"],'b.')\n",
    "plt.ylim([-0.5,1.5])\n",
    "ax3 = plt.subplot(513,sharex=ax1)\n",
    "plt.plot(ldt,indicators[\"evening\"],'b.')\n",
    "plt.ylim([-0.5,1.5])\n",
    "ax4 = plt.subplot(514,sharex=ax1)\n",
    "plt.plot(ldt,indicators[\"dayevening\"],'b.')\n",
    "plt.ylim([-0.5,1.5])\n",
    "ax5 = plt.subplot(515,sharex=ax1)\n",
    "plt.plot(ldt,indicator,'b.')\n",
    "plt.ylim([-0.5,1.5])\n",
    "plt.tight_layout()\n",
    "plt.show()"
   ]
  },
  {
   "cell_type": "code",
   "execution_count": null,
   "metadata": {
    "collapsed": true
   },
   "outputs": [],
   "source": []
  }
 ],
 "metadata": {
  "kernelspec": {
   "display_name": "Python 2",
   "language": "python",
   "name": "python2"
  },
  "language_info": {
   "codemirror_mode": {
    "name": "ipython",
    "version": 2
   },
   "file_extension": ".py",
   "mimetype": "text/x-python",
   "name": "python",
   "nbconvert_exporter": "python",
   "pygments_lexer": "ipython2",
   "version": "2.7.11"
  }
 },
 "nbformat": 4,
 "nbformat_minor": 0
}
