{
 "metadata": {
  "name": "",
  "signature": "sha256:36bb0e1ac302cf4222d24bb0e6b357048700ebf9b72aff69ec886158b0a1c4b8"
 },
 "nbformat": 3,
 "nbformat_minor": 0,
 "worksheets": [
  {
   "cells": [
    {
     "cell_type": "code",
     "collapsed": false,
     "input": [
      "%run basics\n",
      "import qcll"
     ],
     "language": "python",
     "metadata": {},
     "outputs": [],
     "prompt_number": 1
    },
    {
     "cell_type": "code",
     "collapsed": false,
     "input": [
      "def get_configdictionary(cf):\n",
      "    configs_dict = {\"nan_value\":c.missing_value,\n",
      "                    \"output_plots\":False,\n",
      "                    \"msmt_interval_hrs\":0.5,\n",
      "                    \"QC_accept_code\":0}\n",
      "    opt = qcutils.get_keyvaluefromcf(cf,[\"Options\"],\"minimum_temperature_spread\",default=5)\n",
      "    configs_dict[\"minimum_temperature_spread\"] = int(opt)\n",
      "    opt = qcutils.get_keyvaluefromcf(cf,[\"Options\"],\"step_size_days\",default=5)\n",
      "    configs_dict[\"step_size_days\"] = int(opt)\n",
      "    opt = qcutils.get_keyvaluefromcf(cf,[\"Options\"],\"window_size_days\",default=15)\n",
      "    configs_dict[\"window_size_days\"] = int(opt)\n",
      "    opt = qcutils.get_keyvaluefromcf(cf,[\"Options\"],\"minimum_pct_annual\",default=30)\n",
      "    configs_dict[\"minimum_pct_annual\"] = int(opt)\n",
      "    opt = qcutils.get_keyvaluefromcf(cf,[\"Options\"],\"minimum_pct_noct_window\",default=20)\n",
      "    configs_dict[\"minimum_pct_noct_window\"] = int(opt)\n",
      "    opt = qcutils.get_keyvaluefromcf(cf,[\"Options\"],\"minimum_pct_day_window\",default=50)\n",
      "    configs_dict[\"minimum_pct_day_window\"] = int(opt)\n",
      "    opt = qcutils.get_keyvaluefromcf(cf,[\"Options\"],\"plot_path\",default=\"\")\n",
      "    configs_dict[\"plot_output_path\"] = str(opt)\n",
      "    return configs_dict"
     ],
     "language": "python",
     "metadata": {},
     "outputs": [],
     "prompt_number": 2
    },
    {
     "cell_type": "code",
     "collapsed": false,
     "input": [
      "def get_datadictionary(configs_dict,ds):\n",
      "    data_dict = {}\n",
      "    # datetime\n",
      "    dt = ds.series[\"DateTime\"][\"Data\"]\n",
      "    # ustar-filtered Fc for use with the Lasslop et al method\n",
      "    Fc_data,Fc_flag,Fc_attr = qcutils.GetSeriesasMA(ds,\"Fc_filtered\")\n",
      "    # ecosystem respiration as nocturnal, ustar-filtered Fc for Lloyd-Taylor method\n",
      "    Fre_data,Fre_flag,Fre_attr = qcutils.GetSeriesasMA(ds,\"Fre\")\n",
      "    # downwelling shortwave radiation\n",
      "    Fsd_data,Fsd_flag,Fsd_attr = qcutils.GetSeriesasMA(ds,\"Fsd\")\n",
      "    # air temperature\n",
      "    Ta_data,Ta_flag,Ta_attr = qcutils.GetSeriesasMA(ds,\"Ta\")\n",
      "    # soil temperature\n",
      "    Ts_data,Ta_flag,Ta_attr = qcutils.GetSeriesasMA(ds,\"Ts\")\n",
      "    # vapour pressure deficit\n",
      "    VPD_data,VPD_flag,VPD_attr = qcutils.GetSeriesasMA(ds,\"VPD\")\n",
      "    # friction velocity\n",
      "    ustar_data,ustar_flag,ustar_attr = qcutils.GetSeriesasMA(ds,\"ustar\")\n",
      "    # choose only \"good\" data\n",
      "    #  - rules for \"good\" are:\n",
      "    #     - \n",
      "    return data_dict"
     ],
     "language": "python",
     "metadata": {},
     "outputs": []
    },
    {
     "cell_type": "code",
     "collapsed": false,
     "input": [
      "cf = qcio.load_controlfile(path='../controlfiles')\n",
      "configs_dict = get_configdictionary(cf)"
     ],
     "language": "python",
     "metadata": {},
     "outputs": [],
     "prompt_number": 3
    },
    {
     "cell_type": "code",
     "collapsed": false,
     "input": [
      "file_path = qcutils.get_keyvaluefromcf(cf,[\"Files\"],\"file_path\",default=\"\")\n",
      "in_filename = qcutils.get_keyvaluefromcf(cf,[\"Files\"],\"in_filename\",default=\"\")\n",
      "in_name = os.path.join(file_path,in_filename)\n",
      "ds = qcio.nc_read_series(in_name)\n",
      "if int(ds.globalattributes[\"time_step\"])==60: configs_dict[\"msmt_interval_hrs\"] = 1\n"
     ],
     "language": "python",
     "metadata": {},
     "outputs": []
    }
   ],
   "metadata": {}
  }
 ]
}