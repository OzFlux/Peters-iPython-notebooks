{
 "metadata": {
  "name": "",
  "signature": "sha256:1dabd3d60921f082e366b72b87d51fdd6235d68c953bbe4f27e19ea7aaa5f21b"
 },
 "nbformat": 3,
 "nbformat_minor": 0,
 "worksheets": [
  {
   "cells": [
    {
     "cell_type": "code",
     "collapsed": false,
     "input": [
      "%run basics"
     ],
     "language": "python",
     "metadata": {},
     "outputs": [],
     "prompt_number": 1
    },
    {
     "cell_type": "code",
     "collapsed": false,
     "input": [
      "ncFullName=qcio.get_filename_dialog(path=\"../../Sites\")"
     ],
     "language": "python",
     "metadata": {},
     "outputs": [],
     "prompt_number": 2
    },
    {
     "cell_type": "code",
     "collapsed": false,
     "input": [
      "netCDF4.default_encoding = 'latin-1'\n",
      "ds = qcio.DataStructure()\n",
      "# check to see if the requested file exists, return empty ds if it doesn't\n",
      "if not qcutils.file_exists(ncFullName,mode=\"quiet\"):\n",
      "    log.error(' netCDF file '+ncFullName+' not found')\n",
      "    raise Exception(\"nc_read_series: file not found\")\n",
      "# file probably exists, so let's read it\n",
      "ncFile = netCDF4.Dataset(ncFullName,'r')\n",
      "# now deal with the global attributes\n",
      "gattrlist = ncFile.ncattrs()\n",
      "if len(gattrlist)!=0:\n",
      "    for gattr in gattrlist:\n",
      "        ds.globalattributes[gattr] = getattr(ncFile,gattr)\n",
      "    if \"time_step\" in ds.globalattributes: c.ts = ds.globalattributes[\"time_step\"]\n",
      "# get a list of the variables in the netCDF file (not their QC flags)\n",
      "varlist = [x for x in ncFile.variables.keys() if \"_QCFlag\" not in x]\n",
      "for ThisOne in varlist:\n",
      "    # skip variables that do not have time as a dimension\n",
      "    dimlist = [x.lower() for x in ncFile.variables[ThisOne].dimensions]\n",
      "    if \"time\" not in dimlist: continue\n",
      "    # create the series in the data structure\n",
      "    ds.series[unicode(ThisOne)] = {}\n",
      "    # get the data and the QC flag\n",
      "    data,flag,attr = qcio.nc_read_var(ncFile,ThisOne)\n",
      "    ds.series[ThisOne][\"Data\"] = data\n",
      "    ds.series[ThisOne][\"Flag\"] = flag\n",
      "    ds.series[ThisOne][\"Attr\"] = attr\n",
      "ncFile.close()\n",
      "# make sure all values of -9999 have non-zero QC flag\n",
      "qcutils.CheckQCFlags(ds)\n",
      "# put a list of Python datetime objects into ds\n",
      "qcutils.get_datetimefromymdhms(ds)"
     ],
     "language": "python",
     "metadata": {},
     "outputs": [],
     "prompt_number": 3
    },
    {
     "cell_type": "code",
     "collapsed": false,
     "input": [
      "nRecs = int(ds.globalattributes[\"nc_nrecs\"])\n",
      "ts = int(ds.globalattributes[\"time_step\"])\n",
      "ldt = ds.series[\"DateTime\"][\"Data\"]\n",
      "nc_time = netCDF4.date2num(ldt,\"days since 1800-01-01 00:00:00.0\",calendar=\"gregorian\")\n",
      "flag = numpy.zeros(nRecs,dtype=numpy.int32)\n",
      "attr = qcutils.MakeAttributeDictionary(long_name=\"time\",standard_name=\"time\",units=\"days since 1800-01-01 00:00:00.0\",\n",
      "                                       calendar=\"gregorian\")\n",
      "qcutils.CreateSeries(ds,\"time\",nc_time,Flag=flag,Attr=attr)"
     ],
     "language": "python",
     "metadata": {},
     "outputs": [],
     "prompt_number": 11
    },
    {
     "cell_type": "code",
     "collapsed": false,
     "input": [
      "def rounddt(dt,ts=30):\n",
      "    dt += datetime.timedelta(minutes=int(ts/2))\n",
      "    dt -= datetime.timedelta(minutes=dt.minute % int(ts),seconds=dt.second,microseconds=dt.microsecond)\n",
      "    return dt"
     ],
     "language": "python",
     "metadata": {},
     "outputs": [],
     "prompt_number": 32
    },
    {
     "cell_type": "code",
     "collapsed": false,
     "input": [
      "dt = numpy.array([(ldt[i]-ldt[i-1]).total_seconds() for i in range(1,len(ldt))])\n",
      "idx = numpy.where(dt!=ts*60)[0]\n",
      "if len(idx)!=0:\n",
      "    print \"Non-integral time steps found\",len(idx),\"times out of\",str(nRecs)\n",
      "    print \"Maximum time step was\",numpy.max(dt),\"seconds, minimum time step was\",numpy.min(dt)\n",
      "    dt_diffs = numpy.array([(ldt[i]-rounddt(ldt[i],ts=ts)).total_seconds() for i in range(1,len(ldt))])\n",
      "    print \"Maximum drift was\",numpy.max(dt_diffs),\"seconds, minimum drift was\",numpy.min(dt_diffs),\"seconds\"\n",
      "    ans = raw_input(\"Do you want to [Q]uit, [I]nterploate or [R]ound? \")\n",
      "    if ans.lower()==\"q\":\n",
      "        print \"Quiting ...\"\n",
      "        #sys.exit()\n",
      "    if ans.lower()==\"i\": print \"Interpolate\"\n",
      "    if ans.lower()==\"r\":\n",
      "        print \"Rounding to the nearest time step\"\n",
      "        ldt_rounded = [rounddt(dt,ts=ts) for dt in ldt]\n",
      "        rdt = numpy.array([(ldt_rounded[i]-ldt_rounded[i-1]).total_seconds() for i in range(1,len(ldt))])\n",
      "        print \"Maximum time step is now\",numpy.max(rdt),\"seconds, minimum time step is now\",numpy.min(rdt)"
     ],
     "language": "python",
     "metadata": {},
     "outputs": [
      {
       "output_type": "stream",
       "stream": "stdout",
       "text": [
        "Non-integral time steps found 80 times out of 17520\n",
        "Maximum time step was 1801.0 seconds, minimum time step was 1799.0\n",
        "Maximum drift was 50.0 seconds, minimum drift was 0.0 seconds\n"
       ]
      },
      {
       "name": "stdout",
       "output_type": "stream",
       "stream": "stdout",
       "text": [
        "Do you want to [Q]uit, [I]nterploate or [R]ound? r\n"
       ]
      },
      {
       "output_type": "stream",
       "stream": "stdout",
       "text": [
        "Rounding to the nearest time step\n",
        "Maximum time step is now 1800.0 seconds, minimum time step is now 1800.0\n"
       ]
      }
     ],
     "prompt_number": 45
    },
    {
     "cell_type": "code",
     "collapsed": false,
     "input": [
      "fig = plt.figure()\n",
      "plt.plot(ldt[1:],dt,'b.')\n",
      "plt.show()"
     ],
     "language": "python",
     "metadata": {},
     "outputs": [],
     "prompt_number": 8
    },
    {
     "cell_type": "code",
     "collapsed": false,
     "input": [
      "# round the start and end datetimes to the nearest integral time steps\n",
      "print ldt[0],ldt[-1]\n",
      "sd = rounddt(ldt[0],ts=ts)\n",
      "ed = rounddt(ldt[-1],ts=ts)\n",
      "print sd,ed"
     ],
     "language": "python",
     "metadata": {},
     "outputs": [
      {
       "output_type": "stream",
       "stream": "stdout",
       "text": [
        "2010-01-01 00:30:00 2011-01-01 00:00:50\n",
        "2010-01-01 00:30:00 2011-01-01 00:00:00\n"
       ]
      }
     ],
     "prompt_number": 34
    },
    {
     "cell_type": "code",
     "collapsed": false,
     "input": [],
     "language": "python",
     "metadata": {},
     "outputs": []
    }
   ],
   "metadata": {}
  }
 ]
}