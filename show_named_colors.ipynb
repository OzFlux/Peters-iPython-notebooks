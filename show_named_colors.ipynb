{
 "cells": [
  {
   "cell_type": "code",
   "execution_count": 1,
   "metadata": {
    "collapsed": true
   },
   "outputs": [],
   "source": [
    "import matplotlib.pyplot as plt\n",
    "import matplotlib.patches as patches\n",
    "import matplotlib.colors as colors\n",
    "import math\n",
    "\n",
    "\n",
    "fig = plt.figure()\n",
    "ax = fig.add_subplot(111)\n",
    "\n",
    "ratio = 1.0 / 3.0\n",
    "count = math.ceil(math.sqrt(len(colors.cnames)))\n",
    "x_count = count * ratio\n",
    "y_count = count / ratio\n",
    "x = 0\n",
    "y = 0\n",
    "w = 1 / x_count\n",
    "h = 1 / y_count\n",
    "\n",
    "for c in colors.cnames:\n",
    "    pos = (x / x_count, y / y_count)\n",
    "    ax.add_patch(patches.Rectangle(pos, w, h, color=c))\n",
    "    ax.annotate(c, xy=pos)\n",
    "    if y >= y_count-1:\n",
    "        x += 1\n",
    "        y = 0\n",
    "    else:\n",
    "        y += 1\n",
    "\n",
    "plt.show()"
   ]
  },
  {
   "cell_type": "code",
   "execution_count": null,
   "metadata": {
    "collapsed": true
   },
   "outputs": [],
   "source": []
  }
 ],
 "metadata": {
  "kernelspec": {
   "display_name": "Python 2",
   "language": "python",
   "name": "python2"
  },
  "language_info": {
   "codemirror_mode": {
    "name": "ipython",
    "version": 2
   },
   "file_extension": ".py",
   "mimetype": "text/x-python",
   "name": "python",
   "nbconvert_exporter": "python",
   "pygments_lexer": "ipython2",
   "version": "2.7.11"
  }
 },
 "nbformat": 4,
 "nbformat_minor": 0
}
