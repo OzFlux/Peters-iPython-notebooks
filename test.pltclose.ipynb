{
 "metadata": {
  "name": "",
  "signature": "sha256:1b1daedb5cbcdd1076a7f2df97d527fbc9612ea661985336adc91a8813b7a52e"
 },
 "nbformat": 3,
 "nbformat_minor": 0,
 "worksheets": [
  {
   "cells": [
    {
     "cell_type": "code",
     "collapsed": false,
     "input": [
      "import matplotlib.pyplot as plt\n",
      "import Tkinter as tk"
     ],
     "language": "python",
     "metadata": {},
     "outputs": [],
     "prompt_number": 3
    },
    {
     "cell_type": "code",
     "collapsed": false,
     "input": [
      "def plot_something():\n",
      "    fig=plt.figure(1)\n",
      "    plt.plot([0,1,2,3,4,5,6,7,8,9],[0,2,4,6,8,10,12,14,16,18,])\n",
      "    plt.show()\n",
      "    #plt.close(fig)"
     ],
     "language": "python",
     "metadata": {},
     "outputs": [],
     "prompt_number": 16
    },
    {
     "cell_type": "code",
     "collapsed": false,
     "input": [
      "root=tk.Tk()\n",
      "root.withdraw()\n",
      "b = tk.Button(root, text=\"Plot something\", command=plot_something)\n",
      "b.pack()\n",
      "\n",
      "root.mainloop()"
     ],
     "language": "python",
     "metadata": {},
     "outputs": []
    },
    {
     "cell_type": "code",
     "collapsed": false,
     "input": [
      "plot_something()"
     ],
     "language": "python",
     "metadata": {},
     "outputs": [],
     "prompt_number": 17
    },
    {
     "cell_type": "code",
     "collapsed": false,
     "input": [
      "plt.plot([0,1,2,3,4])"
     ],
     "language": "python",
     "metadata": {},
     "outputs": [
      {
       "metadata": {},
       "output_type": "pyout",
       "prompt_number": 18,
       "text": [
        "[<matplotlib.lines.Line2D at 0x7f998c801090>]"
       ]
      }
     ],
     "prompt_number": 18
    },
    {
     "cell_type": "code",
     "collapsed": false,
     "input": [],
     "language": "python",
     "metadata": {},
     "outputs": []
    }
   ],
   "metadata": {}
  }
 ]
}