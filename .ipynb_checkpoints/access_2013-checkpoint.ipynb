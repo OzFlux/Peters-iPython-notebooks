{
 "metadata": {
  "name": "",
  "signature": "sha256:77314dc88da8d76fbd8fe9f82ae10b7d30c98d1c48dd602d7f489f7578fb6d33"
 },
 "nbformat": 3,
 "nbformat_minor": 0,
 "worksheets": [
  {
   "cells": [
    {
     "cell_type": "code",
     "collapsed": false,
     "input": [
      "import sys\n",
      "sys.path.append('../scripts')\n",
      "import constants as c\n",
      "import glob\n",
      "import qcio\n",
      "import qcutils"
     ],
     "language": "python",
     "metadata": {},
     "outputs": [],
     "prompt_number": 1
    },
    {
     "cell_type": "code",
     "collapsed": false,
     "input": [
      "class ACCESSData(object):\n",
      "    def __init__(self):\n",
      "        self.globalattr = {}\n",
      "        self.variables = {}\n",
      "        self.varattr = {}"
     ],
     "language": "python",
     "metadata": {},
     "outputs": [],
     "prompt_number": 2
    },
    {
     "cell_type": "code",
     "collapsed": false,
     "input": [
      "def access_read_mfiles(file_list=[],var_list=[]):\n",
      "    #ds = qcio.DataStructure()\n",
      "    f = ACCESSData()\n",
      "    #print file_list[0]\n",
      "    ncfile = Dataset(file_list[0])\n",
      "    # get the global attributes\n",
      "    for gattr in ncfile.ncattrs():\n",
      "        f.globalattr[gattr] = getattr(ncfile,gattr)\n",
      "    dims = ncfile.dimensions\n",
      "    shape = (len(dims[\"time\"]),len(dims[\"lat\"]),len(dims[\"lon\"]))\n",
      "    if len(var_list)==0: var_list=ncfile.variables.keys()\n",
      "    # load the data from the first file into the data structure\n",
      "    for var in var_list:\n",
      "        access_name = cf[\"Variables\"][var][\"access_name\"]\n",
      "        if access_name in ncfile.variables.keys():\n",
      "            f.variables[access_name] = ncfile.variables[access_name][:]\n",
      "            f.varattr[access_name] = {}\n",
      "            for this_attr in ncfile.variables[access_name].ncattrs():\n",
      "                f.varattr[access_name][this_attr] = getattr(ncfile.variables[access_name],this_attr)\n",
      "        else:\n",
      "            print \"ACCESS variable \"+access_name+\" not found in \"+file_list[0]\n",
      "            f.variables[access_name] = makedummyseries(shape)\n",
      "    ncfile.close()\n",
      "    if len(file_list)>1:\n",
      "        # loop over the remaining files and append the data\n",
      "        for filename in file_list[1:]:\n",
      "            #print filename\n",
      "            ncfile = Dataset(filename)\n",
      "            for var in var_list:\n",
      "                access_name = cf[\"Variables\"][var][\"access_name\"]\n",
      "                #print var,ncfile.variables[access_name].shape\n",
      "                if access_name in ncfile.variables.keys():\n",
      "                    f.variables[access_name] = numpy.concatenate((f.variables[access_name],ncfile.variables[access_name][:]),axis=0)\n",
      "                    if access_name not in f.varattr.keys():\n",
      "                        f.varattr[access_name] = {}\n",
      "                        for this_attr in ncfile.variables[access_name].ncattrs():\n",
      "                            f.varattr[access_name][this_attr] = getattr(ncfile.variables[access_name],this_attr) \n",
      "                else:\n",
      "                    print \"ACCESS variable \"+access_name+\" not found in \"+filename\n",
      "                    empty_series = makedummyseries(shape)\n",
      "                    f.variables[access_name] = numpy.concatenate((f.variables[access_name],empty_series),axis=0)\n",
      "            ncfile.close()\n",
      "    return f"
     ],
     "language": "python",
     "metadata": {},
     "outputs": [],
     "prompt_number": 3
    },
    {
     "cell_type": "code",
     "collapsed": false,
     "input": [
      "cf = qcio.load_controlfile(path='../controlfiles')\n",
      "var_list = cf[\"Variables\"].keys()\n",
      "site_list = cf[\"Sites\"].keys()"
     ],
     "language": "python",
     "metadata": {},
     "outputs": [],
     "prompt_number": 4
    },
    {
     "cell_type": "code",
     "collapsed": false,
     "input": [
      "infilename = cf[\"Sites\"][site_list[0]][\"in_filepath\"]+cf[\"Sites\"][site_list[0]][\"in_filename\"]"
     ],
     "language": "python",
     "metadata": {},
     "outputs": [],
     "prompt_number": 5
    },
    {
     "cell_type": "code",
     "collapsed": false,
     "input": [
      "file_list = sorted(glob.glob(infilename))\n",
      "nFiles = len(file_list)\n",
      "print \"Processing \"+str(nFiles)+\" files\"\n",
      "outfilename = cf[\"Sites\"][site_list[0]][\"out_filepath\"]+cf[\"Sites\"][site_list[0]][\"out_filename\"]"
     ],
     "language": "python",
     "metadata": {},
     "outputs": [
      {
       "output_type": "stream",
       "stream": "stdout",
       "text": [
        "Processing 366 files\n"
       ]
      },
      {
       "ename": "NameError",
       "evalue": "name 'site' is not defined",
       "output_type": "pyerr",
       "traceback": [
        "\u001b[1;31m---------------------------------------------------------------------------\u001b[0m\n\u001b[1;31mNameError\u001b[0m                                 Traceback (most recent call last)",
        "\u001b[1;32m<ipython-input-6-a5ddaf2ad762>\u001b[0m in \u001b[0;36m<module>\u001b[1;34m()\u001b[0m\n\u001b[0;32m      2\u001b[0m \u001b[0mnFiles\u001b[0m \u001b[1;33m=\u001b[0m \u001b[0mlen\u001b[0m\u001b[1;33m(\u001b[0m\u001b[0mfile_list\u001b[0m\u001b[1;33m)\u001b[0m\u001b[1;33m\u001b[0m\u001b[0m\n\u001b[0;32m      3\u001b[0m \u001b[1;32mprint\u001b[0m \u001b[1;34m\"Processing \"\u001b[0m\u001b[1;33m+\u001b[0m\u001b[0mstr\u001b[0m\u001b[1;33m(\u001b[0m\u001b[0mnFiles\u001b[0m\u001b[1;33m)\u001b[0m\u001b[1;33m+\u001b[0m\u001b[1;34m\" files\"\u001b[0m\u001b[1;33m\u001b[0m\u001b[0m\n\u001b[1;32m----> 4\u001b[1;33m \u001b[0moutfilename\u001b[0m \u001b[1;33m=\u001b[0m \u001b[0mcf\u001b[0m\u001b[1;33m[\u001b[0m\u001b[1;34m\"Sites\"\u001b[0m\u001b[1;33m]\u001b[0m\u001b[1;33m[\u001b[0m\u001b[0msite\u001b[0m\u001b[1;33m]\u001b[0m\u001b[1;33m[\u001b[0m\u001b[1;34m\"out_filepath\"\u001b[0m\u001b[1;33m]\u001b[0m\u001b[1;33m+\u001b[0m\u001b[0mcf\u001b[0m\u001b[1;33m[\u001b[0m\u001b[1;34m\"Sites\"\u001b[0m\u001b[1;33m]\u001b[0m\u001b[1;33m[\u001b[0m\u001b[0msite\u001b[0m\u001b[1;33m]\u001b[0m\u001b[1;33m[\u001b[0m\u001b[1;34m\"out_filename\"\u001b[0m\u001b[1;33m]\u001b[0m\u001b[1;33m\u001b[0m\u001b[0m\n\u001b[0m",
        "\u001b[1;31mNameError\u001b[0m: name 'site' is not defined"
       ]
      }
     ],
     "prompt_number": 6
    },
    {
     "cell_type": "code",
     "collapsed": false,
     "input": [],
     "language": "python",
     "metadata": {},
     "outputs": []
    }
   ],
   "metadata": {}
  }
 ]
}