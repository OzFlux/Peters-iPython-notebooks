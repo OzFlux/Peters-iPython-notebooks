{
 "metadata": {
  "name": "",
  "signature": "sha256:0421d44289970fdedcc9ae26f3769e4e8dc9093c50f19dc432ebaa53c774e125"
 },
 "nbformat": 3,
 "nbformat_minor": 0,
 "worksheets": []
}