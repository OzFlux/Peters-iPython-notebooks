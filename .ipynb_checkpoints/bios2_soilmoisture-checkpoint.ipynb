{
 "metadata": {
  "name": "",
  "signature": "sha256:67c85aaf71b935377a55836f8c7a398dad802374e3ae576f6163afd7ae59ef28"
 },
 "nbformat": 3,
 "nbformat_minor": 0,
 "worksheets": [
  {
   "cells": [
    {
     "cell_type": "code",
     "collapsed": false,
     "input": [
      "import sys\n",
      "sys.path.append('../scripts')\n",
      "import constants as c\n",
      "import glob\n",
      "import qcio\n",
      "import qcutils\n",
      "import netCDF4\n",
      "import matplotlib.pyplot as plt"
     ],
     "language": "python",
     "metadata": {},
     "outputs": [],
     "prompt_number": 2
    },
    {
     "cell_type": "code",
     "collapsed": false,
     "input": [
      "bios_name=qcio.get_filename_dialog()"
     ],
     "language": "python",
     "metadata": {},
     "outputs": [],
     "prompt_number": 3
    },
    {
     "cell_type": "code",
     "collapsed": false,
     "input": [
      "bios_ncfile=netCDF4.Dataset(bios_name)\n",
      "time=bios_ncfile.variables[\"time\"][:]\n",
      "time_units=getattr(bios_ncfile.variables[\"time\"],\"units\")\n",
      "dt_bios=netCDF4.num2date(time,time_units)\n",
      "Sws_bios=bios_ncfile.variables[\"SoilMoist\"][:,0,0]\n",
      "Precip_bios=1800*bios_ncfile.variables[\"Rainf\"][:,0]\n",
      "Fsd_bios=bios_ncfile.variables[\"SWdown\"][:,0]"
     ],
     "language": "python",
     "metadata": {},
     "outputs": [],
     "prompt_number": 47
    },
    {
     "cell_type": "code",
     "collapsed": false,
     "input": [
      "si_bios=qcutils.GetDateIndex(list(dt),\"2012-01-01 00:00\")\n",
      "ei_bios=qcutils.GetDateIndex(list(dt),\"2013-01-01 00:00\")"
     ],
     "language": "python",
     "metadata": {},
     "outputs": [],
     "prompt_number": 35
    },
    {
     "cell_type": "code",
     "collapsed": false,
     "input": [
      "access_name=qcio.get_filename_dialog()"
     ],
     "language": "python",
     "metadata": {},
     "outputs": [],
     "prompt_number": 36
    },
    {
     "cell_type": "code",
     "collapsed": false,
     "input": [
      "ds_access=qcio.nc_read_series(access_name)\n",
      "dt_access=ds_access.series[\"DateTime\"][\"Data\"]\n",
      "Sws_access,f,a=qcutils.GetSeriesasMA(ds_access,\"Sws_11\")\n",
      "Precip_access,f,a=qcutils.GetSeriesasMA(ds_access,\"Precip_11\")\n",
      "Fsd_access,f,a=qcutils.GetSeriesasMA(ds_access,\"Fsd_11\")"
     ],
     "language": "python",
     "metadata": {},
     "outputs": [],
     "prompt_number": 49
    },
    {
     "cell_type": "code",
     "collapsed": false,
     "input": [
      "tower_name=qcio.get_filename_dialog()"
     ],
     "language": "python",
     "metadata": {},
     "outputs": [],
     "prompt_number": 38
    },
    {
     "cell_type": "code",
     "collapsed": false,
     "input": [
      "ds_tower=qcio.nc_read_series(tower_name)\n",
      "dt_tower=ds_tower.series[\"DateTime\"][\"Data\"]\n",
      "Sws_tower,f,a=qcutils.GetSeriesasMA(ds_tower,\"Sws\")\n",
      "Precip_tower,f,a=qcutils.GetSeriesasMA(ds_tower,\"Precip\")\n",
      "Fsd_tower,f,a=qcutils.GetSeriesasMA(ds_tower,\"Fsd\")"
     ],
     "language": "python",
     "metadata": {},
     "outputs": [],
     "prompt_number": 54
    },
    {
     "cell_type": "code",
     "collapsed": false,
     "input": [
      "fig=plt.figure()\n",
      "plt.plot(list(dt_bios[si_bios:ei_bios]),Sws_bios[si_bios:ei_bios],'b.')\n",
      "plt.plot(dt_access,Sws_access,'r+')\n",
      "plt.plot(dt_tower,Sws_tower,'go')"
     ],
     "language": "python",
     "metadata": {},
     "outputs": [
      {
       "metadata": {},
       "output_type": "pyout",
       "prompt_number": 51,
       "text": [
        "[<matplotlib.lines.Line2D at 0x7ff7fbfd71d0>]"
       ]
      }
     ],
     "prompt_number": 51
    },
    {
     "cell_type": "code",
     "collapsed": false,
     "input": [
      "fig=plt.figure()\n",
      "plt.plot(list(dt_bios[si_bios:ei_bios]),Precip_bios[si_bios:ei_bios],'b.')\n",
      "plt.plot(dt_access,Precip_access,'r+')\n",
      "plt.plot(dt_tower,Precip_tower,'go')"
     ],
     "language": "python",
     "metadata": {},
     "outputs": [
      {
       "metadata": {},
       "output_type": "pyout",
       "prompt_number": 52,
       "text": [
        "[<matplotlib.lines.Line2D at 0x7ff7fa16bf90>]"
       ]
      }
     ],
     "prompt_number": 52
    },
    {
     "cell_type": "code",
     "collapsed": false,
     "input": [
      "fig=plt.figure()\n",
      "plt.plot(list(dt_bios[si_bios:ei_bios]),Fsd_bios[si_bios:ei_bios],'b.')\n",
      "plt.plot(dt_access,Fsd_access,'r+')\n",
      "plt.plot(dt_tower,Fsd_tower,'go')"
     ],
     "language": "python",
     "metadata": {},
     "outputs": [
      {
       "metadata": {},
       "output_type": "pyout",
       "prompt_number": 55,
       "text": [
        "[<matplotlib.lines.Line2D at 0x7ff7f9035f50>]"
       ]
      }
     ],
     "prompt_number": 55
    },
    {
     "cell_type": "code",
     "collapsed": false,
     "input": [],
     "language": "python",
     "metadata": {},
     "outputs": []
    }
   ],
   "metadata": {}
  }
 ]
}