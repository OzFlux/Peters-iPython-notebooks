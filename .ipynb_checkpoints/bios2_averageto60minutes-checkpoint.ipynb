{
 "metadata": {
  "name": "",
  "signature": "sha256:6ea0e26165f0bb7de44eddd5c253f9b653c12b729d9d20b9d6e09e78276283fd"
 },
 "nbformat": 3,
 "nbformat_minor": 0,
 "worksheets": [
  {
   "cells": [
    {
     "cell_type": "code",
     "collapsed": false,
     "input": [
      "%run basics"
     ],
     "language": "python",
     "metadata": {},
     "outputs": [],
     "prompt_number": 1
    },
    {
     "cell_type": "code",
     "collapsed": false,
     "input": [
      "ncname=qcio.get_filename_dialog()"
     ],
     "language": "python",
     "metadata": {},
     "outputs": [],
     "prompt_number": 2
    },
    {
     "cell_type": "code",
     "collapsed": false,
     "input": [
      "ncfile=netCDF4.Dataset(ncname)\n",
      "ts=30"
     ],
     "language": "python",
     "metadata": {},
     "outputs": [],
     "prompt_number": 3
    },
    {
     "cell_type": "code",
     "collapsed": false,
     "input": [
      "time=ncfile.variables[\"time\"][:]\n",
      "time_units=getattr(ncfile.variables[\"time\"],\"units\")\n",
      "ldt=list(netCDF4.num2date(time,time_units))\n",
      "ldt=qcutils.RoundDateTime(ldt,ts=ts)"
     ],
     "language": "python",
     "metadata": {},
     "outputs": [],
     "prompt_number": 4
    },
    {
     "cell_type": "code",
     "collapsed": false,
     "input": [
      "si = qcutils.GetDateIndex(ldt,\"2000-01-01\",default=0,ts=ts,match=\"startnexthour\")\n",
      "ei = qcutils.GetDateIndex(ldt,\"2015-01-01\",default=-1,ts=ts,match=\"endprevioushour\")\n",
      "print ldt[si],ldt[ei]"
     ],
     "language": "python",
     "metadata": {},
     "outputs": [
      {
       "output_type": "stream",
       "stream": "stdout",
       "text": [
        "2000-01-01 00:30:00 2014-03-01 00:00:00\n"
       ]
      }
     ],
     "prompt_number": 32
    },
    {
     "cell_type": "code",
     "collapsed": false,
     "input": [
      "ldt_30=ldt[si:ei+1]\n",
      "minutes=[ldt_30[i].minute for i in range(len(ldt_30))]"
     ],
     "language": "python",
     "metadata": {},
     "outputs": [],
     "prompt_number": 33
    },
    {
     "cell_type": "code",
     "collapsed": false,
     "input": [
      "var=ncfile.variables[\"SWdown\"][:]\n",
      "Fsd_30=numpy.squeeze(var[si:ei+1])"
     ],
     "language": "python",
     "metadata": {},
     "outputs": [],
     "prompt_number": 34
    },
    {
     "cell_type": "code",
     "collapsed": false,
     "input": [
      "Fsd_30_2d=numpy.reshape(Fsd_30,(len(Fsd_30)/2,2))\n",
      "Fsd_60=numpy.average(Fsd_30_2d,axis=1)"
     ],
     "language": "python",
     "metadata": {},
     "outputs": [],
     "prompt_number": 35
    },
    {
     "cell_type": "code",
     "collapsed": false,
     "input": [
      "ldt_60=[ldt_30[i] for i in range(len(ldt_30)) if ldt_30[i].minute==0]\n",
      "print ldt_60[0],ldt_60[1]"
     ],
     "language": "python",
     "metadata": {},
     "outputs": [
      {
       "output_type": "stream",
       "stream": "stdout",
       "text": [
        "2000-01-01 01:00:00 2000-01-01 02:00:00\n"
       ]
      }
     ],
     "prompt_number": 36
    },
    {
     "cell_type": "code",
     "collapsed": false,
     "input": [
      "fig=plt.figure()\n",
      "plt.plot(ldt_30,Fsd_30,'b.')\n",
      "plt.plot(ldt_60,Fsd_60,'r+')\n",
      "plt.show()"
     ],
     "language": "python",
     "metadata": {},
     "outputs": [],
     "prompt_number": 37
    },
    {
     "cell_type": "code",
     "collapsed": false,
     "input": [
      "si_30=qcutils.GetDateIndex(ldt_30,\"2006-01-08\",default=0,ts=ts,match=\"startnexthour\")\n",
      "ei_30=qcutils.GetDateIndex(ldt_30,\"2006-01-09\",default=-1,ts=ts,match=\"endprevioushour\")\n",
      "si_60=qcutils.GetDateIndex(ldt_60,\"2006-01-08\",default=0,ts=ts,match=\"startnexthour\")\n",
      "ei_60=qcutils.GetDateIndex(ldt_60,\"2006-01-09\",default=-1,ts=ts,match=\"endprevioushour\")"
     ],
     "language": "python",
     "metadata": {},
     "outputs": [
      {
       "ename": "IndexError",
       "evalue": "list index out of range",
       "output_type": "pyerr",
       "traceback": [
        "\u001b[1;31m---------------------------------------------------------------------------\u001b[0m\n\u001b[1;31mIndexError\u001b[0m                                Traceback (most recent call last)",
        "\u001b[1;32m<ipython-input-38-2d7210c72fa1>\u001b[0m in \u001b[0;36m<module>\u001b[1;34m()\u001b[0m\n\u001b[0;32m      1\u001b[0m \u001b[0msi_30\u001b[0m\u001b[1;33m=\u001b[0m\u001b[0mqcutils\u001b[0m\u001b[1;33m.\u001b[0m\u001b[0mGetDateIndex\u001b[0m\u001b[1;33m(\u001b[0m\u001b[0mldt_30\u001b[0m\u001b[1;33m,\u001b[0m\u001b[1;34m\"2006-01-08\"\u001b[0m\u001b[1;33m,\u001b[0m\u001b[0mdefault\u001b[0m\u001b[1;33m=\u001b[0m\u001b[1;36m0\u001b[0m\u001b[1;33m,\u001b[0m\u001b[0mts\u001b[0m\u001b[1;33m=\u001b[0m\u001b[0mts\u001b[0m\u001b[1;33m,\u001b[0m\u001b[0mmatch\u001b[0m\u001b[1;33m=\u001b[0m\u001b[1;34m\"startnexthour\"\u001b[0m\u001b[1;33m)\u001b[0m\u001b[1;33m\u001b[0m\u001b[0m\n\u001b[0;32m      2\u001b[0m \u001b[0mei_30\u001b[0m\u001b[1;33m=\u001b[0m\u001b[0mqcutils\u001b[0m\u001b[1;33m.\u001b[0m\u001b[0mGetDateIndex\u001b[0m\u001b[1;33m(\u001b[0m\u001b[0mldt_30\u001b[0m\u001b[1;33m,\u001b[0m\u001b[1;34m\"2006-01-09\"\u001b[0m\u001b[1;33m,\u001b[0m\u001b[0mdefault\u001b[0m\u001b[1;33m=\u001b[0m\u001b[1;36m0\u001b[0m\u001b[1;33m,\u001b[0m\u001b[0mts\u001b[0m\u001b[1;33m=\u001b[0m\u001b[0mts\u001b[0m\u001b[1;33m,\u001b[0m\u001b[0mmatch\u001b[0m\u001b[1;33m=\u001b[0m\u001b[1;34m\"endprevioushour\"\u001b[0m\u001b[1;33m)\u001b[0m\u001b[1;33m\u001b[0m\u001b[0m\n\u001b[1;32m----> 3\u001b[1;33m \u001b[0msi_60\u001b[0m\u001b[1;33m=\u001b[0m\u001b[0mqcutils\u001b[0m\u001b[1;33m.\u001b[0m\u001b[0mGetDateIndex\u001b[0m\u001b[1;33m(\u001b[0m\u001b[0mldt_60\u001b[0m\u001b[1;33m,\u001b[0m\u001b[1;34m\"2006-01-08\"\u001b[0m\u001b[1;33m,\u001b[0m\u001b[0mdefault\u001b[0m\u001b[1;33m=\u001b[0m\u001b[1;36m0\u001b[0m\u001b[1;33m,\u001b[0m\u001b[0mts\u001b[0m\u001b[1;33m=\u001b[0m\u001b[0mts\u001b[0m\u001b[1;33m,\u001b[0m\u001b[0mmatch\u001b[0m\u001b[1;33m=\u001b[0m\u001b[1;34m\"startnexthour\"\u001b[0m\u001b[1;33m)\u001b[0m\u001b[1;33m\u001b[0m\u001b[0m\n\u001b[0m\u001b[0;32m      4\u001b[0m \u001b[0mei_60\u001b[0m\u001b[1;33m=\u001b[0m\u001b[0mqcutils\u001b[0m\u001b[1;33m.\u001b[0m\u001b[0mGetDateIndex\u001b[0m\u001b[1;33m(\u001b[0m\u001b[0mldt_60\u001b[0m\u001b[1;33m,\u001b[0m\u001b[1;34m\"2006-01-09\"\u001b[0m\u001b[1;33m,\u001b[0m\u001b[0mdefault\u001b[0m\u001b[1;33m=\u001b[0m\u001b[1;36m0\u001b[0m\u001b[1;33m,\u001b[0m\u001b[0mts\u001b[0m\u001b[1;33m=\u001b[0m\u001b[0mts\u001b[0m\u001b[1;33m,\u001b[0m\u001b[0mmatch\u001b[0m\u001b[1;33m=\u001b[0m\u001b[1;34m\"endprevioushour\"\u001b[0m\u001b[1;33m)\u001b[0m\u001b[1;33m\u001b[0m\u001b[0m\n",
        "\u001b[1;32m/home/peter/OzFlux/OzFluxQC/scripts/qcutils.py\u001b[0m in \u001b[0;36mGetDateIndex\u001b[1;34m(datetimeseries, date, ts, default, match)\u001b[0m\n\u001b[0;32m    563\u001b[0m             \u001b[1;31m# if the time step is 60 then it is always the start of the next hour\u001b[0m\u001b[1;33m\u001b[0m\u001b[1;33m\u001b[0m\u001b[0m\n\u001b[0;32m    564\u001b[0m             \u001b[1;31m# we assume here that the time period ends on the datetime stamp\u001b[0m\u001b[1;33m\u001b[0m\u001b[1;33m\u001b[0m\u001b[0m\n\u001b[1;32m--> 565\u001b[1;33m             \u001b[1;32mwhile\u001b[0m \u001b[0mdatetimeseries\u001b[0m\u001b[1;33m[\u001b[0m\u001b[0mi\u001b[0m\u001b[1;33m]\u001b[0m\u001b[1;33m.\u001b[0m\u001b[0mminute\u001b[0m\u001b[1;33m!=\u001b[0m\u001b[0mts\u001b[0m\u001b[1;33m:\u001b[0m\u001b[1;33m\u001b[0m\u001b[0m\n\u001b[0m\u001b[0;32m    566\u001b[0m                 \u001b[1;31m# iterate until the minutes equal the time step\u001b[0m\u001b[1;33m\u001b[0m\u001b[1;33m\u001b[0m\u001b[0m\n\u001b[0;32m    567\u001b[0m                 \u001b[0mi\u001b[0m \u001b[1;33m=\u001b[0m \u001b[0mi\u001b[0m \u001b[1;33m+\u001b[0m \u001b[1;36m1\u001b[0m\u001b[1;33m\u001b[0m\u001b[0m\n",
        "\u001b[1;31mIndexError\u001b[0m: list index out of range"
       ]
      }
     ],
     "prompt_number": 38
    },
    {
     "cell_type": "code",
     "collapsed": false,
     "input": [
      "print Fsd_30[si_30:ei_30+1]"
     ],
     "language": "python",
     "metadata": {},
     "outputs": []
    },
    {
     "cell_type": "code",
     "collapsed": false,
     "input": [],
     "language": "python",
     "metadata": {},
     "outputs": []
    }
   ],
   "metadata": {}
  }
 ]
}