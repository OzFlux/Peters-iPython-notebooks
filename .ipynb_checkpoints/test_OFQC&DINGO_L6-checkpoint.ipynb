{
 "metadata": {
  "name": "",
  "signature": "sha256:d2669bc2a1865115687cf511533c7c9725aef205077669eb92f1d49b9e116287"
 },
 "nbformat": 3,
 "nbformat_minor": 0,
 "worksheets": [
  {
   "cells": [
    {
     "cell_type": "code",
     "collapsed": false,
     "input": [
      "%run basics\n",
      "%matplotlib"
     ],
     "language": "python",
     "metadata": {},
     "outputs": [
      {
       "output_type": "stream",
       "stream": "stdout",
       "text": [
        "Using matplotlib backend: Qt4Agg\n"
       ]
      }
     ],
     "prompt_number": 1
    },
    {
     "cell_type": "code",
     "collapsed": false,
     "input": [
      "cf = qcio.load_controlfile(path=\"controlfiles\")\n",
      "l6name = qcio.get_outfilenamefromcf(cf)\n",
      "ds = qcio.nc_read_series(l6name)\n",
      "site_name = ds.globalattributes[\"site_name\"]\n",
      "dt = monthly_dict[\"DateTime\"][\"data\"]"
     ],
     "language": "python",
     "metadata": {},
     "outputs": [],
     "prompt_number": 50
    },
    {
     "cell_type": "code",
     "collapsed": false,
     "input": [
      "series_dict = qcrp.L6_summary_createseriesdict(cf,ds)"
     ],
     "language": "python",
     "metadata": {},
     "outputs": [],
     "prompt_number": 5
    },
    {
     "cell_type": "code",
     "collapsed": false,
     "input": [
      "monthly_dict = qcrp.L6_summary_monthly(ds,series_dict)\n",
      "print monthly_dict.keys()"
     ],
     "language": "python",
     "metadata": {},
     "outputs": [
      {
       "output_type": "stream",
       "stream": "stdout",
       "text": [
        "['GPP_BIOS2', 'GPP_DINGO', 'Ts', 'DateTime', 'GPP_SOLO', 'NEP_SOLO', 'NEE_SOLO', 'Sws', 'Ta', 'ps', 'Fc', 'Ws', 'Fe', 'Fg', 'Fh', 'NEP_FFNET', 'Fn', 'Fsd', 'NEE_FFNET', 'Flu', 'Precip', 'Fsu', 'ET', 'Fld', 'RH', 'NEP_DINGO', 'ustar', 'Cc', 'Ah', 'GPP_FFNET', 'q', 'NEE_DINGO', 'Fre_FFNET', 'Fre_DINGO', 'Fre_SOLO']\n"
       ]
      }
     ],
     "prompt_number": 16
    },
    {
     "cell_type": "code",
     "collapsed": false,
     "input": [
      "# NEE\n",
      "nee_ofqc = monthly_dict[\"NEE_SOLO\"][\"data\"]\n",
      "nee_dingo = monthly_dict[\"NEE_DINGO\"][\"data\"]\n",
      "m,b = numpy.polyfit(nee_ofqc,nee_dingo,1)\n",
      "r = numpy.corrcoef(nee_ofqc,nee_dingo)\n",
      "eqnstr = 'y = %.3fx + %.3f, r = %.3f'%(m,b,r[0][1])\n",
      "titlestr = site_name+\": NEE\"\n",
      "fig = plt.figure()\n",
      "# time series\n",
      "ax1 = plt.subplot(2,1,1)\n",
      "plt.title(titlestr)\n",
      "plt.plot(dt,nee_ofqc,label=\"OFQC\")\n",
      "plt.plot(dt,nee_dingo,label=\"DINGO\")\n",
      "plt.legend(loc=\"lower left\",frameon=False,prop={'size':10})\n",
      "plt.ylabel(\"NEE gC/month\")\n",
      "# XY plot\n",
      "ax2 = plt.subplot(2,1,2)\n",
      "plt.plot(nee_ofqc,nee_dingo,'bo')\n",
      "plt.plot(nee_ofqc,m*nee_ofqc+b,'r--')\n",
      "plt.xlabel(\"OFQC gC/month\")\n",
      "plt.ylabel(\"DINGO gC/month\")\n",
      "plt.text(0.5,0.9,eqnstr,transform=ax2.transAxes,horizontalalignment='center')\n",
      "plt.show()"
     ],
     "language": "python",
     "metadata": {},
     "outputs": [],
     "prompt_number": 55
    },
    {
     "cell_type": "code",
     "collapsed": false,
     "input": [
      "# GPP\n",
      "gpp_ofqc = monthly_dict[\"GPP_SOLO\"][\"data\"]\n",
      "gpp_dingo = -1*monthly_dict[\"GPP_DINGO\"][\"data\"]\n",
      "gpp_bios2 = monthly_dict[\"GPP_BIOS2\"][\"data\"]\n",
      "m,b = numpy.polyfit(gpp_ofqc,gpp_dingo,1)\n",
      "r = numpy.corrcoef(gpp_ofqc,gpp_dingo)\n",
      "eqnstr = 'y = %.3fx + %.3f, r = %.3f'%(m,b,r[0][1])\n",
      "titlestr = site_name+\": GPP\"\n",
      "fig = plt.figure()\n",
      "# time series\n",
      "ax1 = plt.subplot(2,1,1)\n",
      "plt.title(titlestr)\n",
      "plt.plot(dt,gpp_ofqc,label=\"OFQC\")\n",
      "plt.plot(dt,gpp_dingo,label=\"DINGO\")\n",
      "plt.plot(dt,gpp_bios2,label=\"BIOS2\")\n",
      "plt.legend(loc=\"upper left\",frameon=False,prop={'size':10})\n",
      "plt.ylabel(\"GPP gC/month\")\n",
      "# XY plot\n",
      "ax2 = plt.subplot(2,1,2)\n",
      "plt.plot(gpp_ofqc,gpp_dingo,'bo')\n",
      "plt.plot(gpp_ofqc,m*gpp_ofqc+b,'r--')\n",
      "plt.xlabel(\"OFQC gC/month\")\n",
      "plt.ylabel(\"DINGO gC/month\")\n",
      "plt.text(0.5,0.9,eqnstr,transform=ax2.transAxes,horizontalalignment='center')\n",
      "plt.show()"
     ],
     "language": "python",
     "metadata": {},
     "outputs": [],
     "prompt_number": 54
    },
    {
     "cell_type": "code",
     "collapsed": false,
     "input": [
      "# Reco\n",
      "fre_ofqc = monthly_dict[\"Fre_SOLO\"][\"data\"]\n",
      "fre_dingo = monthly_dict[\"Fre_DINGO\"][\"data\"]\n",
      "m,b = numpy.polyfit(fre_ofqc,fre_dingo,1)\n",
      "r = numpy.corrcoef(fre_ofqc,fre_dingo)\n",
      "eqnstr = 'y = %.3fx + %.3f, r = %.3f'%(m,b,r[0][1])\n",
      "titlestr = site_name+\": Fre\"\n",
      "fig = plt.figure()\n",
      "# time series\n",
      "ax1 = plt.subplot(2,1,1)\n",
      "plt.title(titlestr)\n",
      "plt.plot(dt,fre_ofqc,label=\"OFQC\")\n",
      "plt.plot(dt,fre_dingo,label=\"DINGO\")\n",
      "plt.legend(loc=\"upper left\",frameon=False,prop={'size':10})\n",
      "plt.ylabel(\"Fre gC/month\")\n",
      "# XY plot\n",
      "ax2 = plt.subplot(2,1,2)\n",
      "plt.plot(fre_ofqc,fre_dingo,'bo')\n",
      "plt.plot(fre_ofqc,m*fre_ofqc+b,'r--')\n",
      "plt.xlabel(\"OFQC gC/month\")\n",
      "plt.ylabel(\"DINGO gC/month\")\n",
      "plt.text(0.5,0.9,eqnstr,transform=ax2.transAxes,horizontalalignment='center')\n",
      "plt.show()"
     ],
     "language": "python",
     "metadata": {},
     "outputs": [],
     "prompt_number": 56
    },
    {
     "cell_type": "code",
     "collapsed": false,
     "input": [
      "# time series of \"closure\"\n",
      "nee_ofqc2 = -1*(gpp_ofqc-fre_ofqc)\n",
      "nee_dingo2 = -1*(gpp_dingo-fre_dingo)\n",
      "fig=plt.figure()\n",
      "ax1 = plt.subplot(2,1,1)\n",
      "plt.plot(dt,nee_ofqc,label=\"Orig\")\n",
      "plt.plot(dt,nee_ofqc2,label=\"Synth\")\n",
      "plt.ylabel(\"NEE (OFQC,gC/month)\")\n",
      "plt.legend(loc=\"lower left\")\n",
      "ax2 = plt.subplot(2,1,2,sharex=ax1)\n",
      "plt.plot(dt,nee_dingo,label=\"Orig\")\n",
      "plt.plot(dt,nee_dingo2,label=\"Synth\")\n",
      "plt.ylabel(\"NEE (DINGO,gC/month)\")\n",
      "plt.legend(loc=\"upper right\")\n",
      "plt.xlabel(\"Date\")\n",
      "plt.show()"
     ],
     "language": "python",
     "metadata": {},
     "outputs": [],
     "prompt_number": 57
    },
    {
     "cell_type": "code",
     "collapsed": false,
     "input": [],
     "language": "python",
     "metadata": {},
     "outputs": []
    }
   ],
   "metadata": {}
  }
 ]
}