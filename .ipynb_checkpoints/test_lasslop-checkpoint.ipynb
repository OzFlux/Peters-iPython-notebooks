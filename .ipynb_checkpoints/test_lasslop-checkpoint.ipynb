{
 "metadata": {
  "name": "",
  "signature": "sha256:92dcb6f35cee4f00dc50c0fa797bc87320298ba546df7c76a8185edad3c1d8fc"
 },
 "nbformat": 3,
 "nbformat_minor": 0,
 "worksheets": [
  {
   "cells": [
    {
     "cell_type": "code",
     "collapsed": false,
     "input": [
      "%run basics\n",
      "%matplotlib"
     ],
     "language": "python",
     "metadata": {},
     "outputs": [
      {
       "output_type": "stream",
       "stream": "stdout",
       "text": [
        "Using matplotlib backend: Qt4Agg\n"
       ]
      }
     ],
     "prompt_number": 1
    },
    {
     "cell_type": "code",
     "collapsed": false,
     "input": [
      "def NEE_Lasslop(Fsd,D,T,alpha,beta0,k,rb,D0,E0):\n",
      "    NEE = -1*GPP_Lasslop(Fsd,D,alpha,beta0,k,D0) + Reco_LloydTaylor(T,rb,E0)\n",
      "    return NEE"
     ],
     "language": "python",
     "metadata": {},
     "outputs": [],
     "prompt_number": 2
    },
    {
     "cell_type": "code",
     "collapsed": false,
     "input": [
      "def GPP_Lasslop(Fsd,D,alpha,beta0,k,D0):\n",
      "    beta = beta0*VPD_Lasslop(D,k,D0)\n",
      "    GPP = alpha*beta*Fsd/(alpha*Fsd+beta)\n",
      "    return GPP"
     ],
     "language": "python",
     "metadata": {},
     "outputs": [],
     "prompt_number": 3
    },
    {
     "cell_type": "code",
     "collapsed": false,
     "input": [
      "def VPD_Lasslop(D,k,D0):\n",
      "    VPD = numpy.ones(len(D))\n",
      "    idx = numpy.where(D>D0)[0]\n",
      "    VPD[idx] = numpy.exp(-k*(D[idx]-D0))\n",
      "    return VPD"
     ],
     "language": "python",
     "metadata": {},
     "outputs": [],
     "prompt_number": 4
    },
    {
     "cell_type": "code",
     "collapsed": false,
     "input": [
      "def Reco_LloydTaylor(T,rb,E0):\n",
      "    return rb*numpy.exp(E0*(1/(c.Tref-c.T0)-1/(T-c.T0)))"
     ],
     "language": "python",
     "metadata": {},
     "outputs": [],
     "prompt_number": 5
    },
    {
     "cell_type": "code",
     "collapsed": false,
     "input": [
      "def plot_Reco(fig,i,Reco,T,Sws,weight_type='Huber'):\n",
      "    ax = fig.add_subplot(2,2,i)\n",
      "    popt,pcov = irls_leastsq(residuals_LT,[2,200],args=(Reco,T),maxfev=3,weight_type=weight_type)\n",
      "    resid = Reco - Reco_LloydTaylor(T,popt[0],popt[1])\n",
      "    weights = CalculateWeights(resid,weight_type=weight_type)\n",
      "    plt.scatter(T,Reco,c=weights)\n",
      "    #mean,edges,number = scipy.stats.binned_statistic(T,Reco,statistic='mean')\n",
      "    #mid = [(edges[i]+edges[i+1])/2 for i in range(0,len(edges)-1)]\n",
      "    #plt.plot(mid,mean,'ro')\n",
      "    Xfit = numpy.linspace(numpy.min(T),numpy.max(T),100)\n",
      "    Yfit = Reco_LloydTaylor(Xfit,popt[0],popt[1])\n",
      "    plt.plot(Xfit,Yfit,'r-')\n",
      "    text_str = ('%.2f < Sws < %.2f'%(Sws[0],Sws[-1]))\n",
      "    plt.text(0.5,0.9,text_str,horizontalalignment='center',transform=ax.transAxes)\n",
      "    text_str = ('rb=%.2f,E0=%.2f'%(popt[0],popt[-1]))\n",
      "    plt.text(0.5,0.8,text_str,horizontalalignment='center',transform=ax.transAxes)"
     ],
     "language": "python",
     "metadata": {},
     "outputs": [],
     "prompt_number": 6
    },
    {
     "cell_type": "code",
     "collapsed": false,
     "input": [
      "def irls_leastsq(func,p0,args=(),maxfev=3,weight_type='Huber'):\n",
      "    weighted = False\n",
      "    p,cov = scipy.optimize.leastsq(func,p0,args=args+(weighted,weight_type))\n",
      "    print 'After non-weighted call to leastsq: ',p[0],p[1]\n",
      "    n=1\n",
      "    weighted = True\n",
      "    while n<=maxfev:\n",
      "        p,cov = scipy.optimize.leastsq(func,[p[0],p[1]],args=args+(weighted,weight_type))\n",
      "        print 'Weighted call '+str(n)+' to leastsq: ',p[0],p[1]\n",
      "        n = n + 1\n",
      "    return p,cov"
     ],
     "language": "python",
     "metadata": {},
     "outputs": [],
     "prompt_number": 7
    },
    {
     "cell_type": "code",
     "collapsed": false,
     "input": [
      "def residuals_LT(p,Reco,T,weighted,weight_type):\n",
      "    rb = p[0]\n",
      "    E0 = p[1]\n",
      "    resid = Reco - Reco_LloydTaylor(T,rb,E0)\n",
      "    if weighted:\n",
      "        weights = CalculateWeights(resid,weight_type=weight_type)\n",
      "        return resid*weights\n",
      "    else:\n",
      "        return resid"
     ],
     "language": "python",
     "metadata": {},
     "outputs": [],
     "prompt_number": 8
    },
    {
     "cell_type": "code",
     "collapsed": false,
     "input": [
      "def residuals_LL(p,NEE,Fsd,D,T,D0,E0,weighted,weight_type):\n",
      "    alpha = p[0]\n",
      "    beta0 = p[1]\n",
      "    k = p[2]\n",
      "    rb = p[3]\n",
      "    resid = NEE - NEE_Lasslop(Fsd,D,T,alpha,beta0,k,rb,D0,E0)\n",
      "    if weighted:\n",
      "        weights = CalculateWeights(resid,weight_type=weight_type)\n",
      "        return resid*weights\n",
      "    else:\n",
      "        return resid"
     ],
     "language": "python",
     "metadata": {},
     "outputs": [],
     "prompt_number": 9
    },
    {
     "cell_type": "code",
     "collapsed": false,
     "input": [
      "def CalculateWeights(resid,weight_type='Huber'):\n",
      "    if weight_type.lower()=='tukey':\n",
      "        weights = TukeyBiweight(MAD_scale(resid))\n",
      "    elif weight_type.lower()=='huber':\n",
      "        weights = HuberTWeight(MAD_scale(resid))\n",
      "    elif weight_type.lower()=='ols':\n",
      "        weights = OLSWeight(MAD_scale(resid))\n",
      "    else:\n",
      "        print \"CalculateWeights: Unknown weight type, used Huber's t weight\"\n",
      "        weights = HuberTWeight(MAD_scale(resid))\n",
      "    return weights"
     ],
     "language": "python",
     "metadata": {},
     "outputs": [],
     "prompt_number": 10
    },
    {
     "cell_type": "code",
     "collapsed": false,
     "input": [
      "def TukeyBiweight(x):\n",
      "    return ((numpy.abs(x)<1.0)*(1.0 - x**2)**2)"
     ],
     "language": "python",
     "metadata": {},
     "outputs": [],
     "prompt_number": 11
    },
    {
     "cell_type": "code",
     "collapsed": false,
     "input": [
      "def HuberTWeight(x):\n",
      "    weights = numpy.ones(len(x))\n",
      "    idx = numpy.where(numpy.abs(x)>1.345)[0]\n",
      "    weights[idx] = 1.345/numpy.abs(x[idx])\n",
      "    return weights"
     ],
     "language": "python",
     "metadata": {},
     "outputs": [],
     "prompt_number": 12
    },
    {
     "cell_type": "code",
     "collapsed": false,
     "input": [
      "def OLSWeight(x):\n",
      "    weights = numpy.ones(len(x))\n",
      "    return weights"
     ],
     "language": "python",
     "metadata": {},
     "outputs": [],
     "prompt_number": 13
    },
    {
     "cell_type": "code",
     "collapsed": false,
     "input": [
      "def MAD_scale(resid):\n",
      "    scale = numpy.median(numpy.abs(resid - numpy.median(resid))) / 0.6745\n",
      "    return resid/scale"
     ],
     "language": "python",
     "metadata": {},
     "outputs": [],
     "prompt_number": 14
    },
    {
     "cell_type": "code",
     "collapsed": false,
     "input": [
      "ncname = qcio.get_filename_dialog(path=\"../../Sites/HowardSprings/Data/Processed/all\")\n",
      "print ncname\n",
      "ds = qcio.nc_read_series(ncname)\n",
      "ldt = ds.series[\"DateTime\"][\"Data\"]\n",
      "ts = int(ds.globalattributes[\"time_step\"])\n",
      "site_name = ds.globalattributes[\"site_name\"]"
     ],
     "language": "python",
     "metadata": {},
     "outputs": [
      {
       "output_type": "stream",
       "stream": "stderr",
       "text": [
        "ERROR:qc.utils:get_UTCfromlocaltime: time_zone not in global attributes, checking elsewhere ...\n"
       ]
      },
      {
       "output_type": "stream",
       "stream": "stdout",
       "text": [
        "/home/peter/OzFlux/Sites/Whroo/Data/Processed/all/Whroo_2011_to_2013_L3.nc\n"
       ]
      }
     ],
     "prompt_number": 38
    },
    {
     "cell_type": "code",
     "collapsed": false,
     "input": [
      "Fsd,f,a = qcutils.GetSeriesasMA(ds,\"Fsd\")\n",
      "D,f,a = qcutils.GetSeriesasMA(ds,\"SHD\")\n",
      "T,f,a = qcutils.GetSeriesasMA(ds,\"Ts\")\n",
      "Fc,f,a = qcutils.GetSeriesasMA(ds,\"Fc\")\n",
      "fig1,axs = plt.subplots(nrows=4,ncols=1,sharex=True)\n",
      "axs[0].plot(Fsd)\n",
      "axs[1].plot(D)\n",
      "axs[2].plot(T)\n",
      "axs[3].plot(Fc)\n",
      "plt.show\n",
      "Fc = numpy.ma.masked_where(f!=0,Fc)\n",
      "Fc_day = numpy.ma.masked_where(Fsd<=10,Fc)\n",
      "mask = Fc_day.mask\n",
      "for item in [D,T]:\n",
      "    mask = numpy.ma.mask_or(mask,item.mask)\n",
      "NEP_day = -1*numpy.ma.array(Fc_day,mask=mask)\n",
      "Fsd = numpy.ma.array(Fsd,mask=mask)\n",
      "D = numpy.ma.array(D,mask=mask)\n",
      "T = numpy.ma.array(T,mask=mask)"
     ],
     "language": "python",
     "metadata": {},
     "outputs": [],
     "prompt_number": 39
    },
    {
     "cell_type": "code",
     "collapsed": false,
     "input": [
      "plt.plot(T)\n",
      "plt.show()"
     ],
     "language": "python",
     "metadata": {},
     "outputs": [],
     "prompt_number": 30
    },
    {
     "cell_type": "code",
     "collapsed": false,
     "input": [
      "start_date = ldt[0]\n",
      "end_date = datetime.datetime(start_date.year+1,1,1)+datetime.timedelta(minutes=ts)\n",
      "this_date = start_date + datetime.timedelta(days=10)\n",
      "while this_date<end_date:\n",
      "    si = qcutils.GetDateIndex(ldt,str(start_date),ts=ts)\n",
      "    ei = qcutils.GetDateIndex(ldt,str(this_date),ts=ts)\n",
      "    NEP_plt = numpy.ma.compressed(NEP_day[si:ei+1])\n",
      "    Fsd_plt = numpy.ma.compressed(Fsd[si:ei+1])\n",
      "    D_plt = numpy.ma.compressed(D[si:ei+1])\n",
      "    T_plt = numpy.ma.compressed(T[si:ei+1])\n",
      "    popt,pcov = irls_leastsq(residuals_LL,[0.1,100,0,2],args=(NEP_plt,Fsd_plt,D_plt,T_plt,0.01,210),maxfev=3,weight_type='Huber')\n",
      "    print start_date,this_date,popt[0],popt[1]\n",
      "    start_date = start_date + datetime.timedelta(days=5)\n",
      "    this_date = start_date + datetime.timedelta(days=10)"
     ],
     "language": "python",
     "metadata": {},
     "outputs": [
      {
       "ename": "TypeError",
       "evalue": "Improper input: N=4 must not exceed M=0",
       "output_type": "pyerr",
       "traceback": [
        "\u001b[1;31m---------------------------------------------------------------------------\u001b[0m\n\u001b[1;31mTypeError\u001b[0m                                 Traceback (most recent call last)",
        "\u001b[1;32m<ipython-input-33-08dcf69e2212>\u001b[0m in \u001b[0;36m<module>\u001b[1;34m()\u001b[0m\n\u001b[0;32m      9\u001b[0m     \u001b[0mD_plt\u001b[0m \u001b[1;33m=\u001b[0m \u001b[0mnumpy\u001b[0m\u001b[1;33m.\u001b[0m\u001b[0mma\u001b[0m\u001b[1;33m.\u001b[0m\u001b[0mcompressed\u001b[0m\u001b[1;33m(\u001b[0m\u001b[0mD\u001b[0m\u001b[1;33m[\u001b[0m\u001b[0msi\u001b[0m\u001b[1;33m:\u001b[0m\u001b[0mei\u001b[0m\u001b[1;33m+\u001b[0m\u001b[1;36m1\u001b[0m\u001b[1;33m]\u001b[0m\u001b[1;33m)\u001b[0m\u001b[1;33m\u001b[0m\u001b[0m\n\u001b[0;32m     10\u001b[0m     \u001b[0mT_plt\u001b[0m \u001b[1;33m=\u001b[0m \u001b[0mnumpy\u001b[0m\u001b[1;33m.\u001b[0m\u001b[0mma\u001b[0m\u001b[1;33m.\u001b[0m\u001b[0mcompressed\u001b[0m\u001b[1;33m(\u001b[0m\u001b[0mT\u001b[0m\u001b[1;33m[\u001b[0m\u001b[0msi\u001b[0m\u001b[1;33m:\u001b[0m\u001b[0mei\u001b[0m\u001b[1;33m+\u001b[0m\u001b[1;36m1\u001b[0m\u001b[1;33m]\u001b[0m\u001b[1;33m)\u001b[0m\u001b[1;33m\u001b[0m\u001b[0m\n\u001b[1;32m---> 11\u001b[1;33m     \u001b[0mpopt\u001b[0m\u001b[1;33m,\u001b[0m\u001b[0mpcov\u001b[0m \u001b[1;33m=\u001b[0m \u001b[0mirls_leastsq\u001b[0m\u001b[1;33m(\u001b[0m\u001b[0mresiduals_LL\u001b[0m\u001b[1;33m,\u001b[0m\u001b[1;33m[\u001b[0m\u001b[1;36m0.1\u001b[0m\u001b[1;33m,\u001b[0m\u001b[1;36m100\u001b[0m\u001b[1;33m,\u001b[0m\u001b[1;36m0\u001b[0m\u001b[1;33m,\u001b[0m\u001b[1;36m2\u001b[0m\u001b[1;33m]\u001b[0m\u001b[1;33m,\u001b[0m\u001b[0margs\u001b[0m\u001b[1;33m=\u001b[0m\u001b[1;33m(\u001b[0m\u001b[0mNEP_plt\u001b[0m\u001b[1;33m,\u001b[0m\u001b[0mFsd_plt\u001b[0m\u001b[1;33m,\u001b[0m\u001b[0mD_plt\u001b[0m\u001b[1;33m,\u001b[0m\u001b[0mT_plt\u001b[0m\u001b[1;33m,\u001b[0m\u001b[1;36m0.01\u001b[0m\u001b[1;33m,\u001b[0m\u001b[1;36m210\u001b[0m\u001b[1;33m)\u001b[0m\u001b[1;33m,\u001b[0m\u001b[0mmaxfev\u001b[0m\u001b[1;33m=\u001b[0m\u001b[1;36m3\u001b[0m\u001b[1;33m,\u001b[0m\u001b[0mweight_type\u001b[0m\u001b[1;33m=\u001b[0m\u001b[1;34m'Huber'\u001b[0m\u001b[1;33m)\u001b[0m\u001b[1;33m\u001b[0m\u001b[0m\n\u001b[0m\u001b[0;32m     12\u001b[0m     \u001b[1;32mprint\u001b[0m \u001b[0mstart_date\u001b[0m\u001b[1;33m,\u001b[0m\u001b[0mthis_date\u001b[0m\u001b[1;33m,\u001b[0m\u001b[0mpopt\u001b[0m\u001b[1;33m[\u001b[0m\u001b[1;36m0\u001b[0m\u001b[1;33m]\u001b[0m\u001b[1;33m,\u001b[0m\u001b[0mpopt\u001b[0m\u001b[1;33m[\u001b[0m\u001b[1;36m1\u001b[0m\u001b[1;33m]\u001b[0m\u001b[1;33m\u001b[0m\u001b[0m\n\u001b[0;32m     13\u001b[0m     \u001b[0mstart_date\u001b[0m \u001b[1;33m=\u001b[0m \u001b[0mstart_date\u001b[0m \u001b[1;33m+\u001b[0m \u001b[0mdatetime\u001b[0m\u001b[1;33m.\u001b[0m\u001b[0mtimedelta\u001b[0m\u001b[1;33m(\u001b[0m\u001b[0mdays\u001b[0m\u001b[1;33m=\u001b[0m\u001b[1;36m5\u001b[0m\u001b[1;33m)\u001b[0m\u001b[1;33m\u001b[0m\u001b[0m\n",
        "\u001b[1;32m<ipython-input-7-8fa80dd34b61>\u001b[0m in \u001b[0;36mirls_leastsq\u001b[1;34m(func, p0, args, maxfev, weight_type)\u001b[0m\n\u001b[0;32m      1\u001b[0m \u001b[1;32mdef\u001b[0m \u001b[0mirls_leastsq\u001b[0m\u001b[1;33m(\u001b[0m\u001b[0mfunc\u001b[0m\u001b[1;33m,\u001b[0m\u001b[0mp0\u001b[0m\u001b[1;33m,\u001b[0m\u001b[0margs\u001b[0m\u001b[1;33m=\u001b[0m\u001b[1;33m(\u001b[0m\u001b[1;33m)\u001b[0m\u001b[1;33m,\u001b[0m\u001b[0mmaxfev\u001b[0m\u001b[1;33m=\u001b[0m\u001b[1;36m3\u001b[0m\u001b[1;33m,\u001b[0m\u001b[0mweight_type\u001b[0m\u001b[1;33m=\u001b[0m\u001b[1;34m'Huber'\u001b[0m\u001b[1;33m)\u001b[0m\u001b[1;33m:\u001b[0m\u001b[1;33m\u001b[0m\u001b[0m\n\u001b[0;32m      2\u001b[0m     \u001b[0mweighted\u001b[0m \u001b[1;33m=\u001b[0m \u001b[0mFalse\u001b[0m\u001b[1;33m\u001b[0m\u001b[0m\n\u001b[1;32m----> 3\u001b[1;33m     \u001b[0mp\u001b[0m\u001b[1;33m,\u001b[0m\u001b[0mcov\u001b[0m \u001b[1;33m=\u001b[0m \u001b[0mscipy\u001b[0m\u001b[1;33m.\u001b[0m\u001b[0moptimize\u001b[0m\u001b[1;33m.\u001b[0m\u001b[0mleastsq\u001b[0m\u001b[1;33m(\u001b[0m\u001b[0mfunc\u001b[0m\u001b[1;33m,\u001b[0m\u001b[0mp0\u001b[0m\u001b[1;33m,\u001b[0m\u001b[0margs\u001b[0m\u001b[1;33m=\u001b[0m\u001b[0margs\u001b[0m\u001b[1;33m+\u001b[0m\u001b[1;33m(\u001b[0m\u001b[0mweighted\u001b[0m\u001b[1;33m,\u001b[0m\u001b[0mweight_type\u001b[0m\u001b[1;33m)\u001b[0m\u001b[1;33m)\u001b[0m\u001b[1;33m\u001b[0m\u001b[0m\n\u001b[0m\u001b[0;32m      4\u001b[0m     \u001b[1;32mprint\u001b[0m \u001b[1;34m'After non-weighted call to leastsq: '\u001b[0m\u001b[1;33m,\u001b[0m\u001b[0mp\u001b[0m\u001b[1;33m[\u001b[0m\u001b[1;36m0\u001b[0m\u001b[1;33m]\u001b[0m\u001b[1;33m,\u001b[0m\u001b[0mp\u001b[0m\u001b[1;33m[\u001b[0m\u001b[1;36m1\u001b[0m\u001b[1;33m]\u001b[0m\u001b[1;33m\u001b[0m\u001b[0m\n\u001b[0;32m      5\u001b[0m     \u001b[0mn\u001b[0m\u001b[1;33m=\u001b[0m\u001b[1;36m1\u001b[0m\u001b[1;33m\u001b[0m\u001b[0m\n",
        "\u001b[1;32m/home/peter/anaconda/lib/python2.7/site-packages/scipy/optimize/minpack.pyc\u001b[0m in \u001b[0;36mleastsq\u001b[1;34m(func, x0, args, Dfun, full_output, col_deriv, ftol, xtol, gtol, maxfev, epsfcn, factor, diag)\u001b[0m\n\u001b[0;32m    370\u001b[0m     \u001b[0mm\u001b[0m \u001b[1;33m=\u001b[0m \u001b[0mshape\u001b[0m\u001b[1;33m[\u001b[0m\u001b[1;36m0\u001b[0m\u001b[1;33m]\u001b[0m\u001b[1;33m\u001b[0m\u001b[0m\n\u001b[0;32m    371\u001b[0m     \u001b[1;32mif\u001b[0m \u001b[0mn\u001b[0m \u001b[1;33m>\u001b[0m \u001b[0mm\u001b[0m\u001b[1;33m:\u001b[0m\u001b[1;33m\u001b[0m\u001b[0m\n\u001b[1;32m--> 372\u001b[1;33m         \u001b[1;32mraise\u001b[0m \u001b[0mTypeError\u001b[0m\u001b[1;33m(\u001b[0m\u001b[1;34m'Improper input: N=%s must not exceed M=%s'\u001b[0m \u001b[1;33m%\u001b[0m \u001b[1;33m(\u001b[0m\u001b[0mn\u001b[0m\u001b[1;33m,\u001b[0m \u001b[0mm\u001b[0m\u001b[1;33m)\u001b[0m\u001b[1;33m)\u001b[0m\u001b[1;33m\u001b[0m\u001b[0m\n\u001b[0m\u001b[0;32m    373\u001b[0m     \u001b[1;32mif\u001b[0m \u001b[0mepsfcn\u001b[0m \u001b[1;32mis\u001b[0m \u001b[0mNone\u001b[0m\u001b[1;33m:\u001b[0m\u001b[1;33m\u001b[0m\u001b[0m\n\u001b[0;32m    374\u001b[0m         \u001b[0mepsfcn\u001b[0m \u001b[1;33m=\u001b[0m \u001b[0mfinfo\u001b[0m\u001b[1;33m(\u001b[0m\u001b[0mdtype\u001b[0m\u001b[1;33m)\u001b[0m\u001b[1;33m.\u001b[0m\u001b[0meps\u001b[0m\u001b[1;33m\u001b[0m\u001b[0m\n",
        "\u001b[1;31mTypeError\u001b[0m: Improper input: N=4 must not exceed M=0"
       ]
      }
     ],
     "prompt_number": 33
    },
    {
     "cell_type": "code",
     "collapsed": false,
     "input": [
      "print len(NEP_day)"
     ],
     "language": "python",
     "metadata": {},
     "outputs": [
      {
       "output_type": "stream",
       "stream": "stdout",
       "text": [
        "52607\n"
       ]
      }
     ],
     "prompt_number": 19
    },
    {
     "cell_type": "code",
     "collapsed": false,
     "input": [
      "plt.plot(Fsd)\n",
      "plt.show()"
     ],
     "language": "python",
     "metadata": {},
     "outputs": [],
     "prompt_number": 26
    },
    {
     "cell_type": "code",
     "collapsed": false,
     "input": [],
     "language": "python",
     "metadata": {},
     "outputs": []
    }
   ],
   "metadata": {}
  }
 ]
}