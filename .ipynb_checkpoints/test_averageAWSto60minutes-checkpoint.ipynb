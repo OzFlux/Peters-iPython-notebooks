{
 "metadata": {
  "name": "",
  "signature": "sha256:4f25d57ccc9a23c67ae27195f6035a8d6e9ed68f3f34c4f18552ca4a5693bf05"
 },
 "nbformat": 3,
 "nbformat_minor": 0,
 "worksheets": [
  {
   "cells": [
    {
     "cell_type": "code",
     "collapsed": false,
     "input": [
      "%run basics"
     ],
     "language": "python",
     "metadata": {},
     "outputs": [],
     "prompt_number": 1
    },
    {
     "cell_type": "code",
     "collapsed": false,
     "input": [
      "aws_name=qcio.get_filename_dialog(path=\"../Sites\")"
     ],
     "language": "python",
     "metadata": {},
     "outputs": [],
     "prompt_number": 7
    },
    {
     "cell_type": "code",
     "collapsed": false,
     "input": [
      "ds_aws_30minute = qcio.nc_read_series(aws_name)\n",
      "has_gaps = qcutils.CheckTimeStep(ds_aws_30minute)\n",
      "if has_gaps:\n",
      "    print \"Problems found with time step\"\n",
      "    qcutils.FixTimeStep(ds_aws_30minute)\n",
      "    qcutils.get_ymdhmsfromdatetime(ds_aws_30minute)\n",
      "dt_aws_30minute = ds_aws_30minute.series[\"DateTime\"][\"Data\"]\n",
      "ddt=[dt_aws_30minute[i+1]-dt_aws_30minute[i] for i in range(0,len(dt_aws_30minute)-1)]\n",
      "print \"Minimum time step is\",min(ddt),\" Maximum time step is\",max(ddt)"
     ],
     "language": "python",
     "metadata": {},
     "outputs": [
      {
       "output_type": "stream",
       "stream": "stdout",
       "text": [
        "Minimum time step is 0:30:00  Maximum time step is 0:30:00\n"
       ]
      }
     ],
     "prompt_number": 8
    },
    {
     "cell_type": "code",
     "collapsed": false,
     "input": [
      "dt_aws_30minute = ds_aws_30minute.series[\"DateTime\"][\"Data\"]\n",
      "start_date = dt_aws_30minute[0]\n",
      "end_date = dt_aws_30minute[-1]\n",
      "si_wholehour = qcutils.GetDateIndex(dt_aws_30minute,str(start_date),ts=30,match=\"startnexthour\")\n",
      "ei_wholehour = qcutils.GetDateIndex(dt_aws_30minute,str(end_date),ts=30,match=\"endprevioushour\")\n",
      "start_date = dt_aws_30minute[si_wholehour]\n",
      "end_date = dt_aws_30minute[ei_wholehour]\n",
      "dt_aws_30minute_array = numpy.array(dt_aws_30minute[si_wholehour:ei_wholehour+1])\n",
      "nRecs_30minute = len(dt_aws_30minute_array)\n",
      "dt_aws_2d = numpy.reshape(dt_aws_30minute_array,(nRecs_30minute/2,2))\n",
      "dt_aws_60minute = list(dt_aws_2d[:,1])\n",
      "nRecs_60minute = len(dt_aws_60minute)"
     ],
     "language": "python",
     "metadata": {},
     "outputs": [],
     "prompt_number": 9
    },
    {
     "cell_type": "code",
     "collapsed": false,
     "input": [
      "series_list = ds_aws_30minute.series.keys()\n",
      "for item in [\"DateTime\",\"Ddd\",\"Day\",\"Minute\",\"xlDateTime\",\"Hour\",\"time\",\"Month\",\"Second\",\"Year\"]:\n",
      "    if item in series_list: series_list.remove(item)"
     ],
     "language": "python",
     "metadata": {},
     "outputs": [],
     "prompt_number": 10
    },
    {
     "cell_type": "code",
     "collapsed": false,
     "input": [
      "# get the 60 minute data structure\n",
      "ds_aws_60minute = qcio.DataStructure()\n",
      "# get the global attributes\n",
      "for item in ds_aws_30minute.globalattributes.keys():\n",
      "    ds_aws_60minute.globalattributes[item] = ds_aws_30minute.globalattributes[item]\n",
      "# overwrite with 60 minute values as appropriate\n",
      "ds_aws_60minute.globalattributes[\"nc_nrecs\"] = str(nRecs_60minute)\n",
      "ds_aws_60minute.globalattributes[\"time_step\"] = str(60)\n",
      "# put the Python datetime into the data structure\n",
      "ds_aws_60minute.series[\"DateTime\"] = {}\n",
      "ds_aws_60minute.series[\"DateTime\"][\"Data\"] = dt_aws_60minute\n",
      "ds_aws_60minute.series[\"DateTime\"][\"Flag\"] = numpy.zeros(nRecs_60minute,dtype=numpy.int32)\n",
      "ds_aws_60minute.series[\"DateTime\"][\"Attr\"] = qcutils.MakeAttributeDictionary(long_name=\"DateTime in local time zone\",units=\"None\")\n",
      "# add the Excel datetime, year, month etc\n",
      "qcutils.get_xldatefromdatetime(ds_aws_60minute)\n",
      "qcutils.get_ymdhmsfromdatetime(ds_aws_60minute)\n",
      "# loop over the series and take the average (every thing but Precip) or sum (Precip)\n",
      "for item in series_list:\n",
      "    if \"Precip\" in item:\n",
      "        data_30minute,flag_30minute,attr = qcutils.GetSeriesasMA(ds_aws_30minute,item,si=si_wholehour,ei=ei_wholehour)\n",
      "        data_2d = numpy.reshape(data_30minute,(nRecs_30minute/2,2))\n",
      "        flag_2d = numpy.reshape(flag_30minute,(nRecs_30minute/2,2))\n",
      "        data_60minute = numpy.ma.sum(data_2d,axis=1)\n",
      "        flag_60minute = numpy.ma.max(flag_2d,axis=1)\n",
      "        qcutils.CreateSeries(ds_aws_60minute,item,data_60minute,Flag=flag_60minute,Attr=attr)\n",
      "    elif \"Wd\" in item:\n",
      "        Ws_30minute,flag_30minute,attr = qcutils.GetSeriesasMA(ds_aws_30minute,item,si=si_wholehour,ei=ei_wholehour)\n",
      "        Wd_30minute,flag_30minute,attr = qcutils.GetSeriesasMA(ds_aws_30minute,item,si=si_wholehour,ei=ei_wholehour)\n",
      "        U_30minute,V_30minute = qcutils.convert_WsWdtoUV(Ws_30minute,Wd_30minute)\n",
      "        U_2d = numpy.reshape(U_30minute,(nRecs_30minute/2,2))\n",
      "        V_2d = numpy.reshape(V_30minute,(nRecs_30minute/2,2))\n",
      "        flag_2d = numpy.reshape(flag_30minute,(nRecs_30minute/2,2))\n",
      "        U_60minute = numpy.ma.sum(U_2d,axis=1)\n",
      "        V_60minute = numpy.ma.sum(V_2d,axis=1)\n",
      "        Ws_60minute,Wd_60minute = qcutils.convert_UVtoWsWd(U_60minute,V_60minute)\n",
      "        flag_60minute = numpy.ma.max(flag_2d,axis=1)\n",
      "        qcutils.CreateSeries(ds_aws_60minute,item,Wd_60minute,Flag=flag_60minute,Attr=attr)\n",
      "    else:\n",
      "        data_30minute,flag_30minute,attr = qcutils.GetSeriesasMA(ds_aws_30minute,item,si=si_wholehour,ei=ei_wholehour)\n",
      "        data_2d = numpy.reshape(data_30minute,(nRecs_30minute/2,2))\n",
      "        flag_2d = numpy.reshape(flag_30minute,(nRecs_30minute/2,2))\n",
      "        data_60minute = numpy.ma.average(data_2d,axis=1)\n",
      "        flag_60minute = numpy.ma.max(flag_2d,axis=1)\n",
      "        qcutils.CreateSeries(ds_aws_60minute,item,data_60minute,Flag=flag_60minute,Attr=attr)\n",
      "# write out the 60 minute data\n",
      "nc_60minute = aws_name.replace('.nc','_60minute.nc')\n",
      "ncfile = qcio.nc_open_write(nc_60minute)\n",
      "qcio.nc_write_series(ncfile, ds_aws_60minute, ndims=1)"
     ],
     "language": "python",
     "metadata": {},
     "outputs": [],
     "prompt_number": 11
    },
    {
     "cell_type": "code",
     "collapsed": false,
     "input": [],
     "language": "python",
     "metadata": {},
     "outputs": []
    }
   ],
   "metadata": {}
  }
 ]
}