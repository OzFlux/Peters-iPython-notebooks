{
 "metadata": {
  "name": "",
  "signature": "sha256:89c74aa6cab904e354334d914cfa8c0e88c1d483285695cbde4685c7ad3b949a"
 },
 "nbformat": 3,
 "nbformat_minor": 0,
 "worksheets": [
  {
   "cells": [
    {
     "cell_type": "code",
     "collapsed": false,
     "input": [
      "%run basics\n",
      "%matplotlib\n",
      "import neurolab"
     ],
     "language": "python",
     "metadata": {},
     "outputs": [
      {
       "output_type": "stream",
       "stream": "stdout",
       "text": [
        "Using matplotlib backend: Qt4Agg\n"
       ]
      }
     ],
     "prompt_number": 1
    },
    {
     "cell_type": "code",
     "collapsed": false,
     "input": [
      "ncname = \"../../Sites/Tumbarumba/Data/Processed/all/Tumbarumba_2001_to_2014_L4.nc\"\n",
      "ds = qcio.nc_read_series(ncname)\n",
      "dt = ds.series[\"DateTime\"][\"Data\"]\n",
      "ts = int(ds.globalattributes[\"time_step\"])"
     ],
     "language": "python",
     "metadata": {},
     "outputs": [],
     "prompt_number": 2
    },
    {
     "cell_type": "code",
     "collapsed": false,
     "input": [
      "start_date = \"2010-02-01\"\n",
      "end_date = \"2010-03-01\"\n",
      "si = qcutils.GetDateIndex(dt,start_date,ts=ts)\n",
      "ei = qcutils.GetDateIndex(dt,end_date,ts=ts)\n",
      "ldt = dt[si:ei+1]\n",
      "Fh,f,a = qcutils.GetSeriesasMA(ds,\"Fh\",si=si,ei=ei)\n",
      "Fa,f,a = qcutils.GetSeriesasMA(ds,\"Fa\",si=si,ei=ei)\n",
      "Ta,f,a = qcutils.GetSeriesasMA(ds,\"Ta\",si=si,ei=ei)\n",
      "Ws,f,a = qcutils.GetSeriesasMA(ds,\"Ws\",si=si,ei=ei)"
     ],
     "language": "python",
     "metadata": {},
     "outputs": [],
     "prompt_number": 3
    },
    {
     "cell_type": "code",
     "collapsed": false,
     "input": [
      "target = \"Fh\"\n",
      "#drivers = [\"Fa\",\"Ta\",\"Ws\"]\n",
      "drivers = [\"Fa\",\"Ws\"]\n",
      "ndrivers = len(drivers)\n",
      "# prepare the input and target data for training\n",
      "tar,f,a = qcutils.GetSeriesasMA(ds,target,si=si,ei=ei)\n",
      "mask = numpy.ma.getmask(tar)\n",
      "for val in drivers:\n",
      "    d,f,a = qcutils.GetSeriesasMA(ds,val,si=si,ei=ei)\n",
      "    mask = numpy.ma.mask_or(mask,d.mask)\n",
      "tar.mask = mask\n",
      "nRecs = numpy.ma.count(tar)\n",
      "data_nm = numpy.empty((nRecs,len(drivers)+1))\n",
      "for idx,val in enumerate(drivers):\n",
      "    d,f,a = qcutils.GetSeriesasMA(ds,val,si=si,ei=ei)\n",
      "    d.mask = mask\n",
      "    data_nm[:,idx] = numpy.ma.compressed(d)\n",
      "data_nm[:,idx+1] = numpy.ma.compressed(tar)\n",
      "input_train = data_nm[:,0:idx+1]\n",
      "target_train = data_nm[:,idx+1]\n",
      "input_train = input_train.reshape(len(input_train),len(drivers))\n",
      "target_train = target_train.reshape(len(target_train),1)"
     ],
     "language": "python",
     "metadata": {},
     "outputs": [],
     "prompt_number": 23
    },
    {
     "cell_type": "code",
     "collapsed": false,
     "input": [
      "minmax = []\n",
      "for i in range(input_train.shape[1]):\n",
      "    mm = [numpy.min(input_train[:,i]),numpy.max(input_train[:,i])]\n",
      "    minmax.append(mm)\n",
      "print minmax"
     ],
     "language": "python",
     "metadata": {},
     "outputs": [
      {
       "output_type": "stream",
       "stream": "stdout",
       "text": [
        "[[-107.4208984375, 861.11688232421875], [0.75125002861022949, 7.3629999160766602]]\n"
       ]
      }
     ],
     "prompt_number": 24
    },
    {
     "cell_type": "code",
     "collapsed": false,
     "input": [
      "#net = neurolab.net.newelm(minmax,[24,16,1],[neurolab.trans.TanSig(),neurolab.trans.TanSig(),neurolab.trans.PureLin()])\n",
      "net = neurolab.net.newelm(minmax,[4,2,1],[neurolab.trans.TanSig(),neurolab.trans.PureLin(),neurolab.trans.PureLin()])\n",
      "net.trainf = neurolab.train.train_rprop"
     ],
     "language": "python",
     "metadata": {},
     "outputs": [],
     "prompt_number": 35
    },
    {
     "cell_type": "code",
     "collapsed": false,
     "input": [
      "error = net.train(input_train, target_train, epochs=500, show=100)"
     ],
     "language": "python",
     "metadata": {},
     "outputs": [
      {
       "output_type": "stream",
       "stream": "stdout",
       "text": [
        "Epoch: 100; Error: 1778.41763747;\n",
        "Epoch: 200; Error: 1349.82356695;"
       ]
      },
      {
       "output_type": "stream",
       "stream": "stdout",
       "text": [
        "\n",
        "Epoch: 300; Error: 1275.9983895;"
       ]
      },
      {
       "output_type": "stream",
       "stream": "stdout",
       "text": [
        "\n",
        "Epoch: 400; Error: 1265.7085538;"
       ]
      },
      {
       "output_type": "stream",
       "stream": "stdout",
       "text": [
        "\n",
        "Epoch: 500; Error: 1263.98725032;"
       ]
      },
      {
       "output_type": "stream",
       "stream": "stdout",
       "text": [
        "\n",
        "The maximum number of train epochs is reached\n"
       ]
      }
     ],
     "prompt_number": 36
    },
    {
     "cell_type": "code",
     "collapsed": false,
     "input": [
      "fig=plt.figure()\n",
      "plt.plot(error)\n",
      "plt.show()"
     ],
     "language": "python",
     "metadata": {},
     "outputs": [],
     "prompt_number": 12
    },
    {
     "cell_type": "code",
     "collapsed": false,
     "input": [
      "input_predict = numpy.empty((len(tar),len(drivers)))\n",
      "for idx,val in enumerate(drivers):\n",
      "    d,f,a = qcutils.GetSeries(ds,val,si=si,ei=ei)\n",
      "    input_predict[:,idx] = d[:]\n",
      "input_predict = input_predict.reshape(len(tar),len(drivers))\n",
      "out = net.sim(input_predict)"
     ],
     "language": "python",
     "metadata": {},
     "outputs": [],
     "prompt_number": 37
    },
    {
     "cell_type": "code",
     "collapsed": false,
     "input": [
      "fig=plt.figure()\n",
      "plt.subplot(411)\n",
      "plt.plot(ldt,Ws,'b.')\n",
      "plt.subplot(412)\n",
      "plt.plot(ldt,Ta,'b.')\n",
      "plt.subplot(413)\n",
      "plt.plot(ldt,Fa,'b.')\n",
      "plt.subplot(414)\n",
      "plt.plot(ldt,Fh,'b.')\n",
      "plt.plot(ldt,out,'r-')\n",
      "plt.show()"
     ],
     "language": "python",
     "metadata": {},
     "outputs": [],
     "prompt_number": 38
    },
    {
     "cell_type": "code",
     "collapsed": false,
     "input": [],
     "language": "python",
     "metadata": {},
     "outputs": []
    }
   ],
   "metadata": {}
  }
 ]
}