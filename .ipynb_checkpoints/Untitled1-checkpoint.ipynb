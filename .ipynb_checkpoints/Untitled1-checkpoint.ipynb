{
 "metadata": {
  "name": "",
  "signature": "sha256:12c0066c4bb390438a3270b1cd9acb16c159e1c9efad94f2a630ed2e8a0237d1"
 },
 "nbformat": 3,
 "nbformat_minor": 0,
 "worksheets": []
}