{
 "metadata": {
  "name": "",
  "signature": "sha256:eb93da454e3cf333468982bbfe453b14bdf897240a7fa92c6d4c65feec4f6ba8"
 },
 "nbformat": 3,
 "nbformat_minor": 0,
 "worksheets": [
  {
   "cells": [
    {
     "cell_type": "code",
     "collapsed": false,
     "input": [
      "%run basics\n",
      "import collections\n",
      "import xlrd"
     ],
     "language": "python",
     "metadata": {},
     "outputs": [],
     "prompt_number": 23
    },
    {
     "cell_type": "code",
     "collapsed": false,
     "input": [
      "cfname = \"../controlfiles/Whroo/all/L6.txt\"\n",
      "cf = qcio.get_controlfilecontents(cfname)"
     ],
     "language": "python",
     "metadata": {},
     "outputs": [],
     "prompt_number": 7
    },
    {
     "cell_type": "code",
     "collapsed": false,
     "input": [
      "cpd_path = \"../\"+cf[\"Files\"][\"file_path\"]\n",
      "cpd_name = cpd_path+cf[\"Files\"][\"cpd_filename\"]\n",
      "cpd_wb = xlrd.open_workbook(cpd_name)\n",
      "annual_ws = cpd_wb.sheet_by_name(\"Annual\")\n",
      "header_list = [x for x in annual_ws.row_values(0)]\n",
      "year_list = [str(int(x)) for x in annual_ws.col_values(0)[1:]]"
     ],
     "language": "python",
     "metadata": {},
     "outputs": [],
     "prompt_number": 18
    },
    {
     "cell_type": "code",
     "collapsed": false,
     "input": [
      "print header_list\n",
      "print year_list"
     ],
     "language": "python",
     "metadata": {},
     "outputs": [
      {
       "output_type": "stream",
       "stream": "stdout",
       "text": [
        "['', u'total', u'norm_a1_median', u'norm_a2_median', u'qcpass', u'qcpass_prop', u'a_valid', u'b_valid', u'ustar_mean', u'ustar_sig', u'ustar_n', u'crit_t', u'95%ci_lower', u'95%ci_upper', u'skew', u'kurt']\n",
        "['2012', '2013', '2014']\n"
       ]
      }
     ],
     "prompt_number": 19
    },
    {
     "cell_type": "code",
     "collapsed": false,
     "input": [
      "cpd_annual_dict = collections.OrderedDict()\n",
      "for year in year_list:\n",
      "    cpd_annual_dict[year] = collections.OrderedDict()\n",
      "    for item in header_list:\n",
      "        xlcol = header_list.index(item)\n",
      "        cpd_annual_dict[year][item] = [x for x in annual_ws.col_values(xlcol)[1:]]"
     ],
     "language": "python",
     "metadata": {},
     "outputs": [],
     "prompt_number": 28
    },
    {
     "cell_type": "code",
     "collapsed": false,
     "input": [
      "print cpd_annual_dict.keys()"
     ],
     "language": "python",
     "metadata": {},
     "outputs": [
      {
       "output_type": "stream",
       "stream": "stdout",
       "text": [
        "['2012', '2013', '2014']\n"
       ]
      }
     ],
     "prompt_number": 29
    },
    {
     "cell_type": "code",
     "collapsed": false,
     "input": [
      "print cpd_annual_dict[\"2012\"][\"95%ci_lower\"]"
     ],
     "language": "python",
     "metadata": {},
     "outputs": [
      {
       "output_type": "stream",
       "stream": "stdout",
       "text": [
        "[0.2331197238049992, 0.15992023463997512, 0.14845410037730544]\n"
       ]
      }
     ],
     "prompt_number": 32
    },
    {
     "cell_type": "code",
     "collapsed": false,
     "input": [],
     "language": "python",
     "metadata": {},
     "outputs": []
    }
   ],
   "metadata": {}
  }
 ]
}