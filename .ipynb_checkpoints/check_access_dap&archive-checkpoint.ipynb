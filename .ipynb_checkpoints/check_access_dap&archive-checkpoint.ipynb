{
 "metadata": {
  "name": "",
  "signature": "sha256:93568f1953ceaca7a8c8f09f11eb9f5550494413be17504086dea761e109333b"
 },
 "nbformat": 3,
 "nbformat_minor": 0,
 "worksheets": [
  {
   "cells": [
    {
     "cell_type": "code",
     "collapsed": false,
     "input": [
      "%run basics\n",
      "%matplotlib"
     ],
     "language": "python",
     "metadata": {},
     "outputs": [
      {
       "output_type": "stream",
       "stream": "stdout",
       "text": [
        "Using matplotlib backend: Qt4Agg\n"
       ]
      }
     ],
     "prompt_number": 1
    },
    {
     "cell_type": "code",
     "collapsed": false,
     "input": [
      "site_list = [\"AdelaideRiver\",\"AliceSpringsMulga\",\"Calperum\",\"CapeTribulation\",\n",
      "             \"CumberlandPlains\",\"DalyUncleared\",\"Gingin\",\n",
      "             \"GreatWesternWoodlands\",\"HowardSprings\",\"RiggsCreek\",\"RobsonCreek\",\n",
      "             \"Samford\",\"SturtPlains\",\"TiTreeEast\",\"Tumbarumba\",\"Whroo\"]"
     ],
     "language": "python",
     "metadata": {},
     "outputs": [],
     "prompt_number": 5
    },
    {
     "cell_type": "code",
     "collapsed": false,
     "input": [
      "for site in site_list:\n",
      "    print \"Processing \"+site\n",
      "    # file names\n",
      "    access_archive_mame = \"../Sites/\"+site+\"/Data/ACCESS/\"+site+\"_ACCESS.nc\"\n",
      "    access_dap_name = \"../ACCESS/201505/\"+site+\"_ACCESS_201505.nc\"\n",
      "    # read the files\n",
      "    ds_archive = qcio.nc_read_series(access_archive_mame)\n",
      "    ds_dap = qcio.nc_read_series(access_dap_name)\n",
      "    site_name = ds_archive.globalattributes[\"site_name\"]\n",
      "    # get the start and end datetimes of the overlap period\n",
      "    dt_archive = ds_archive.series[\"DateTime\"][\"Data\"]\n",
      "    dt_dap = ds_dap.series[\"DateTime\"][\"Data\"]\n",
      "    start_date = max([dt_archive[0],dt_dap[0]])\n",
      "    end_date = min([dt_archive[-1],dt_dap[-1]])\n",
      "    print start_date,end_date\n",
      "    # get the indices of the overlap period\n",
      "    si_archive = qcutils.GetDateIndex(dt_archive,str(start_date))\n",
      "    ei_archive = qcutils.GetDateIndex(dt_archive,str(end_date))\n",
      "    si_dap = qcutils.GetDateIndex(dt_dap,str(start_date))\n",
      "    ei_dap = qcutils.GetDateIndex(dt_dap,str(end_date))\n",
      "    # get the data for the overlap period\n",
      "    ldt_archive = dt_archive[si_archive:ei_archive+1]\n",
      "    ldt_dap = dt_dap[si_dap:ei_dap+1]\n",
      "    archive = {}\n",
      "    dap = {}\n",
      "    series_list = [\"Fsd\",\"Ta\",\"Ah\",\"Ws\",\"Precip\"]\n",
      "    for item in series_list:\n",
      "        label = item+\"_11\"\n",
      "        archive[item],flag,attr = qcutils.GetSeriesasMA(ds_archive,label,si=si_archive,ei=ei_archive)\n",
      "        dap[item],flag,attr = qcutils.GetSeriesasMA(ds_dap,label,si=si_dap,ei=ei_dap)\n",
      "    # plot\n",
      "    title = site+\": ACCESS Archive versus DAP\"\n",
      "    fig = plt.figure()\n",
      "    plt.figtext(0.5,0.95,title,ha='center',size=16)\n",
      "    ax1 = plt.subplot(511)\n",
      "    ax1.plot(ldt_archive,archive[\"Fsd\"],'b.',label=\"Archive\")\n",
      "    ax1.plot(ldt_dap,dap[\"Fsd\"],'r+',label=\"DAP\")\n",
      "    plt.ylabel(\"Fsd (W/m2)\")\n",
      "    ax2 = plt.subplot(512,sharex=ax1)\n",
      "    ax2.plot(ldt_archive,archive[\"Ta\"],'b.',label=\"Archive\")\n",
      "    ax2.plot(ldt_dap,dap[\"Ta\"],'r+',label=\"DAP\")\n",
      "    plt.ylabel(\"Ta (C)\")\n",
      "    ax3 = plt.subplot(513,sharex=ax1)\n",
      "    ax3.plot(ldt_archive,archive[\"Ah\"],'b.',label=\"Archive\")\n",
      "    ax3.plot(ldt_dap,dap[\"Ah\"],'r+',label=\"DAP\")\n",
      "    plt.ylabel(\"Ah (g/m3)\")\n",
      "    ax4 = plt.subplot(514,sharex=ax1)\n",
      "    ax4.plot(ldt_archive,archive[\"Ws\"],'b.',label=\"Archive\")\n",
      "    ax4.plot(ldt_dap,dap[\"Ws\"],'r+',label=\"DAP\")\n",
      "    plt.ylabel(\"Ws (m/s)\")\n",
      "    ax5 = plt.subplot(515,sharex=ax1)\n",
      "    ax5.plot(ldt_archive,archive[\"Precip\"],'b.',label=\"Archive\")\n",
      "    ax5.plot(ldt_dap,dap[\"Precip\"],'r+',label=\"DAP\")\n",
      "    plt.ylabel(\"Precip (mm)\")\n",
      "    plt.legend(loc='upper left',frameon=False,prop={'size':10})\n",
      "    figname = \"plots/\"+site+\"_DAP_vs_Archive.png\"\n",
      "    fig.savefig(figname,format='png')\n",
      "    plt.show()"
     ],
     "language": "python",
     "metadata": {},
     "outputs": [
      {
       "output_type": "stream",
       "stream": "stdout",
       "text": [
        "Processing AdelaideRiver\n",
        "2015-05-11 15:30:00"
       ]
      },
      {
       "output_type": "stream",
       "stream": "stdout",
       "text": [
        " 2015-06-01 08:30:00\n",
        "Processing AliceSpringsMulga"
       ]
      },
      {
       "output_type": "stream",
       "stream": "stdout",
       "text": [
        "\n",
        "2015-05-11 15:30:00"
       ]
      },
      {
       "output_type": "stream",
       "stream": "stdout",
       "text": [
        " 2015-06-01 08:30:00\n",
        "Processing Calperum"
       ]
      },
      {
       "output_type": "stream",
       "stream": "stdout",
       "text": [
        "\n",
        "2015-05-11 15:30:00"
       ]
      },
      {
       "output_type": "stream",
       "stream": "stdout",
       "text": [
        " 2015-06-01 08:30:00\n",
        "Processing CapeTribulation"
       ]
      },
      {
       "output_type": "stream",
       "stream": "stdout",
       "text": [
        "\n",
        "2015-05-11 16:00:00"
       ]
      },
      {
       "output_type": "stream",
       "stream": "stdout",
       "text": [
        " 2015-06-01 09:00:00\n",
        "Processing CumberlandPlains"
       ]
      },
      {
       "output_type": "stream",
       "stream": "stdout",
       "text": [
        "\n",
        "2015-05-11 16:00:00"
       ]
      },
      {
       "output_type": "stream",
       "stream": "stdout",
       "text": [
        " 2015-06-01 09:00:00\n",
        "Processing DalyUncleared"
       ]
      },
      {
       "output_type": "stream",
       "stream": "stdout",
       "text": [
        "\n",
        "2015-05-11 15:30:00"
       ]
      },
      {
       "output_type": "stream",
       "stream": "stdout",
       "text": [
        " 2015-06-01 08:30:00\n",
        "Processing Gingin"
       ]
      },
      {
       "output_type": "stream",
       "stream": "stdout",
       "text": [
        "\n",
        "2015-05-11 14:00:00"
       ]
      },
      {
       "output_type": "stream",
       "stream": "stdout",
       "text": [
        " 2015-06-01 07:00:00\n",
        "Processing GreatWesternWoodlands"
       ]
      },
      {
       "output_type": "stream",
       "stream": "stdout",
       "text": [
        "\n",
        "2015-05-11 14:00:00"
       ]
      },
      {
       "output_type": "stream",
       "stream": "stdout",
       "text": [
        " 2015-06-01 07:00:00\n",
        "Processing HowardSprings"
       ]
      },
      {
       "output_type": "stream",
       "stream": "stdout",
       "text": [
        "\n",
        "2015-05-11 15:30:00"
       ]
      },
      {
       "output_type": "stream",
       "stream": "stdout",
       "text": [
        " 2015-06-01 08:30:00\n",
        "Processing RiggsCreek"
       ]
      },
      {
       "output_type": "stream",
       "stream": "stdout",
       "text": [
        "\n",
        "2015-05-11 16:00:00"
       ]
      },
      {
       "output_type": "stream",
       "stream": "stdout",
       "text": [
        " 2015-06-01 09:00:00\n",
        "Processing RobsonCreek"
       ]
      },
      {
       "output_type": "stream",
       "stream": "stdout",
       "text": [
        "\n",
        "2015-05-11 16:00:00"
       ]
      },
      {
       "output_type": "stream",
       "stream": "stdout",
       "text": [
        " 2015-06-01 09:00:00\n",
        "Processing Samford"
       ]
      },
      {
       "output_type": "stream",
       "stream": "stdout",
       "text": [
        "\n",
        "2015-05-11 16:00:00"
       ]
      },
      {
       "output_type": "stream",
       "stream": "stdout",
       "text": [
        " 2015-06-01 09:00:00\n",
        "Processing SturtPlains"
       ]
      },
      {
       "output_type": "stream",
       "stream": "stdout",
       "text": [
        "\n",
        "2015-05-11 15:30:00"
       ]
      },
      {
       "output_type": "stream",
       "stream": "stdout",
       "text": [
        " 2015-06-01 08:30:00\n",
        "Processing TiTreeEast"
       ]
      },
      {
       "output_type": "stream",
       "stream": "stdout",
       "text": [
        "\n",
        "2015-05-11 15:30:00"
       ]
      },
      {
       "output_type": "stream",
       "stream": "stdout",
       "text": [
        " 2015-06-01 08:30:00\n",
        "Processing Tumbarumba"
       ]
      },
      {
       "output_type": "stream",
       "stream": "stdout",
       "text": [
        "\n",
        "2015-05-11 16:00:00"
       ]
      },
      {
       "output_type": "stream",
       "stream": "stdout",
       "text": [
        " 2015-06-01 09:00:00\n",
        "Processing Whroo"
       ]
      },
      {
       "output_type": "stream",
       "stream": "stdout",
       "text": [
        "\n",
        "2015-05-11 16:00:00"
       ]
      },
      {
       "output_type": "stream",
       "stream": "stdout",
       "text": [
        " 2015-06-01 09:00:00\n"
       ]
      }
     ],
     "prompt_number": 6
    },
    {
     "cell_type": "code",
     "collapsed": false,
     "input": [],
     "language": "python",
     "metadata": {},
     "outputs": []
    }
   ],
   "metadata": {}
  }
 ]
}