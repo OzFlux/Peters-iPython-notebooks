{
 "metadata": {
  "name": "",
  "signature": "sha256:7d1d8aff07d3ace59cbe0512bd43760962cda6ee74abc31f24ce381c6e521a31"
 },
 "nbformat": 3,
 "nbformat_minor": 0,
 "worksheets": [
  {
   "cells": [
    {
     "cell_type": "code",
     "collapsed": false,
     "input": [
      "%run basics\n",
      "%matplotlib"
     ],
     "language": "python",
     "metadata": {},
     "outputs": [
      {
       "output_type": "stream",
       "stream": "stdout",
       "text": [
        "Using matplotlib backend: Qt4Agg\n"
       ]
      }
     ],
     "prompt_number": 1
    },
    {
     "cell_type": "code",
     "collapsed": false,
     "input": [
      "def perdelta(start, end, delta):\n",
      "    \"\"\"\n",
      "    Yields an iterator of datetime objects from start to end with time step delta.\n",
      "    \"\"\"\n",
      "    curr = start\n",
      "    while curr <= end:\n",
      "        yield curr\n",
      "        curr += delta"
     ],
     "language": "python",
     "metadata": {},
     "outputs": [],
     "prompt_number": 149
    },
    {
     "cell_type": "code",
     "collapsed": false,
     "input": [
      "# fire events\n",
      "fire_events = {}\n",
      "fire_events[\"2001-08-06\"] = {\"intensity\":3550,\"uncertainty\":640,\"units\":\"kW/m\"}\n",
      "fire_events[\"2002-08-18\"] = {\"intensity\":3000,\"uncertainty\":None,\"units\":\"kW/m\"}\n",
      "fire_events[\"2003-08-29\"] = {\"intensity\":3200,\"uncertainty\":None,\"units\":\"kW/m\"}\n",
      "fire_events[\"2004-08-18\"] = {\"intensity\":3610,\"uncertainty\":745,\"units\":\"kW/m\"}\n",
      "fire_events[\"2005-06-08\"] = {\"intensity\":1399,\"uncertainty\":837,\"units\":\"kW/m\"}\n",
      "fire_events[\"2006-05-26\"] = {\"intensity\":1047,\"uncertainty\":232,\"units\":\"kW/m\"}\n",
      "fire_events[\"2009-08-06\"] = {\"intensity\":2000,\"uncertainty\":None,\"units\":\"kW/m\"}\n",
      "fire_events[\"2011-05-18\"] = {\"intensity\":964,\"uncertainty\":345,\"units\":\"kW/m\"}\n",
      "fire_events[\"2012-08-19\"] = {\"intensity\":2500,\"uncertainty\":None,\"units\":\"kW/m\"}\n",
      "fire_events[\"2013-06-07\"] = {\"intensity\":1000,\"uncertainty\":None,\"units\":\"kW/m\"}\n",
      "fire_events[\"2014-09-12\"] = {\"intensity\":2200,\"uncertainty\":None,\"units\":\"kW/m\"}\n",
      "fire_events[\"2015-04-29\"] = {\"intensity\":500,\"uncertainty\":None,\"units\":\"kW/m\"}\n",
      "fire_dates = [dateutil.parser.parse(fd) for fd in fire_events.keys()]"
     ],
     "language": "python",
     "metadata": {},
     "outputs": [],
     "prompt_number": 54
    },
    {
     "cell_type": "code",
     "collapsed": false,
     "input": [
      "# DINGO version of interpolated and smoothed EVI data\n",
      "dingo_name = \"../../Sites/HowardSprings/Data/MODIS/HowardSprings_MODIS.nc\"\n",
      "dingo_file = netCDF4.Dataset(dingo_name,\"r\")\n",
      "dingo_time = dingo_file.variables[\"time\"][:]\n",
      "dingo_time_units = getattr(dingo_file.variables[\"time\"],\"units\")\n",
      "dingo_dt = netCDF4.num2date(dingo_time,dingo_time_units)\n",
      "dingo_evi_interp = dingo_file.variables[\"EVI_MODIS_interp\"][:]\n",
      "dingo_evi_smooth = dingo_file.variables[\"EVI_MODIS_smooth\"][:]"
     ],
     "language": "python",
     "metadata": {},
     "outputs": [],
     "prompt_number": 49
    },
    {
     "cell_type": "code",
     "collapsed": false,
     "input": [
      "dap_url = \"http://www.auscover.org.au/thredds/dodsC/\"\n",
      "dap_folder = \"auscover/lpdaac-aggregates/c5/v2-nc4/aust/MOD13Q1.005/\"\n",
      "dap_name = \"MOD13Q1.aggregated.aust.005.enhanced_vegetation_index.ncml\"\n",
      "dap_file = dap_url+dap_folder+dap_name\n",
      "print dap_file"
     ],
     "language": "python",
     "metadata": {},
     "outputs": [
      {
       "output_type": "stream",
       "stream": "stdout",
       "text": [
        "http://www.auscover.org.au/thredds/dodsC/auscover/lpdaac-aggregates/c5/v2-nc4/aust/MOD13Q1.005/MOD13Q1.aggregated.aust.005.enhanced_vegetation_index.ncml\n"
       ]
      }
     ],
     "prompt_number": 7
    },
    {
     "cell_type": "code",
     "collapsed": false,
     "input": [
      "nc_file = netCDF4.Dataset(dap_file,\"r\")"
     ],
     "language": "python",
     "metadata": {},
     "outputs": [],
     "prompt_number": 8
    },
    {
     "cell_type": "code",
     "collapsed": false,
     "input": [
      "lat_resolution = getattr(nc_file,\"geospatial_lat_resolution\")\n",
      "lon_resolution = getattr(nc_file,\"geospatial_lon_resolution\")\n",
      "print lat_resolution,lon_resolution"
     ],
     "language": "python",
     "metadata": {},
     "outputs": [
      {
       "output_type": "stream",
       "stream": "stdout",
       "text": [
        "0.002348643256 0.002348643256\n"
       ]
      }
     ],
     "prompt_number": 9
    },
    {
     "cell_type": "code",
     "collapsed": false,
     "input": [
      "site_name = \"HowardSprings\"\n",
      "site_latitude = -12.495200\n",
      "site_longitude = 131.150050\n",
      "ts = 30\n",
      "cutout_width = 3\n",
      "cutout_height = 3\n",
      "delta_width = cutout_width*lat_resolution/2\n",
      "delta_height = cutout_height*lon_resolution/2"
     ],
     "language": "python",
     "metadata": {},
     "outputs": [],
     "prompt_number": 155
    },
    {
     "cell_type": "code",
     "collapsed": false,
     "input": [
      "lat_bound_lower = site_latitude - delta_width\n",
      "lat_bound_upper = site_latitude + delta_width\n",
      "lon_bound_lower = site_longitude - delta_height\n",
      "lon_bound_upper = site_longitude + delta_height"
     ],
     "language": "python",
     "metadata": {},
     "outputs": [],
     "prompt_number": 136
    },
    {
     "cell_type": "code",
     "collapsed": false,
     "input": [
      "lat = nc_file.variables[\"latitude\"][:]\n",
      "lon = nc_file.variables[\"longitude\"][:]"
     ],
     "language": "python",
     "metadata": {},
     "outputs": [],
     "prompt_number": 137
    },
    {
     "cell_type": "code",
     "collapsed": false,
     "input": [
      "modis_time = nc_file.variables[\"time\"][:]\n",
      "modis_time_units = getattr(nc_file.variables[\"time\"],\"units\")\n",
      "modis_dt =  netCDF4.num2date(modis_time,modis_time_units)\n",
      "print modis_dt[0],modis_dt[-1]"
     ],
     "language": "python",
     "metadata": {},
     "outputs": [
      {
       "output_type": "stream",
       "stream": "stdout",
       "text": [
        "2000-02-18 00:00:00 2015-06-10 00:00:00\n"
       ]
      }
     ],
     "prompt_number": 150
    },
    {
     "cell_type": "code",
     "collapsed": false,
     "input": [
      "lat_index = numpy.where((lat>=lat_bound_lower)&(lat<=lat_bound_upper))[0]\n",
      "lon_index = numpy.where((lon>=lon_bound_lower)&(lon<=lon_bound_upper))[0]\n",
      "# get the EVI\n",
      "evi = nc_file.variables[\"evi\"][:,lat_index,lon_index]\n",
      "# get the quality flags\n",
      "quality = nc_file.variables[\"quality\"][:,lat_index,lon_index]\n",
      "# get the \"typical mask\"\n",
      "#typical_mask = nc_file.variables[\"typical_mask\"][:,lat_index,lon_index]"
     ],
     "language": "python",
     "metadata": {},
     "outputs": [],
     "prompt_number": 139
    },
    {
     "cell_type": "code",
     "collapsed": false,
     "input": [
      "ok_mask = numpy.ones_like(evi)\n",
      "ok_list = [2048,2049,2052,2053,2112,2113,2116,2117,2560,2561,2564,2565,2624,2625,2628,2629]\n",
      "#for item in ok_list:\n",
      "#    index = numpy.ma.where(quality==item)[0]\n",
      "#    ok_mask[index] = 0\n",
      "evi_masked = numpy.ma.masked_where(ok_mask==0,evi)\n",
      "evi_masked_median = numpy.ma.median(evi_masked.reshape(evi_masked.shape[0],-1),axis=1)\n",
      "print evi_masked.shape,evi_masked_median.shape"
     ],
     "language": "python",
     "metadata": {},
     "outputs": [
      {
       "output_type": "stream",
       "stream": "stdout",
       "text": [
        "(348, 3, 3) (348,)\n"
       ]
      }
     ],
     "prompt_number": 177
    },
    {
     "cell_type": "code",
     "collapsed": false,
     "input": [
      "fig=plt.figure()\n",
      "for i in range(evi.shape[1]):\n",
      "    for j in range(evi.shape[2]):\n",
      "        plt.plot(modis_dt,evi[:,i,j],'b.')\n",
      "plt.plot(dingo_dt,dingo_evi_interp[:,0,0],'r-')\n",
      "plt.plot(dingo_dt,dingo_evi_smooth[:,0,0],'g-')\n",
      "for item in fire_dates: plt.axvline(item)\n",
      "plt.show()"
     ],
     "language": "python",
     "metadata": {},
     "outputs": [],
     "prompt_number": 152
    },
    {
     "cell_type": "code",
     "collapsed": false,
     "input": [
      "start = modis_dt[0]\n",
      "end = modis_dt[-1]\n",
      "modis_dt_interp = [result for result in perdelta(start,end,datetime.timedelta(minutes=ts))]\n",
      "modis_time_interp = netCDF4.date2num(modis_dt_interp,modis_time_units)\n",
      "modis_time_masked = numpy.ma.masked_where(numpy.ma.getmaskarray(evi_masked_median)==True,modis_time)\n",
      "modis_time_comp = numpy.ma.compressed(modis_time_masked)\n",
      "evi_masked_median_comp = numpy.ma.compressed(evi_masked_median)\n",
      "x_org = modis_time_comp\n",
      "y_org = evi_masked_median_comp\n",
      "f = scipy.interpolate.interp1d(x_org,y_org,bounds_error=False)\n",
      "x_int = modis_time_interp\n",
      "evi_interp = f(x_int)\n",
      "evi_interp_smooth= scipy.signal.savgol_filter(evi_interp, 5001, 2, 0, 1)"
     ],
     "language": "python",
     "metadata": {},
     "outputs": [],
     "prompt_number": 182
    },
    {
     "cell_type": "code",
     "collapsed": false,
     "input": [
      "s = scipy.interpolate.InterpolatedUnivariateSpline(x_org,y_org)\n",
      "evi_interp_smooth = s(x_int)"
     ],
     "language": "python",
     "metadata": {},
     "outputs": [],
     "prompt_number": 171
    },
    {
     "cell_type": "code",
     "collapsed": false,
     "input": [
      "fig=plt.figure()\n",
      "for i in range(evi_masked.shape[1]):\n",
      "    for j in range(evi_masked.shape[2]):\n",
      "        plt.plot(modis_dt,evi_masked[:,i,j],'b.')\n",
      "plt.plot(dt,evi_masked_median,'ro')\n",
      "plt.plot(modis_dt_interp,evi_interp,'y-')\n",
      "plt.plot(modis_dt_interp,evi_interp_smooth,'r-')\n",
      "#plt.plot(dingo_dt,dingo_evi_interp[:,0,0],'r-')\n",
      "plt.plot(dingo_dt,dingo_evi_smooth[:,0,0],'g-')\n",
      "for item in fire_dates: plt.axvline(item)\n",
      "plt.show()"
     ],
     "language": "python",
     "metadata": {},
     "outputs": [],
     "prompt_number": 183
    },
    {
     "cell_type": "code",
     "collapsed": false,
     "input": [
      "flag_masks = getattr(nc_file.variables[\"quality\"],\"flag_masks\")\n",
      "flag_values = getattr(nc_file.variables[\"quality\"],\"flag_values\")\n",
      "flag_meanings = getattr(nc_file.variables[\"quality\"],\"flag_meanings\")\n",
      "comment = getattr(nc_file.variables[\"quality\"],\"comment\")"
     ],
     "language": "python",
     "metadata": {},
     "outputs": [],
     "prompt_number": 85
    },
    {
     "cell_type": "code",
     "collapsed": false,
     "input": [
      "flag_meanings_list = flag_meanings.split(\" \")\n",
      "print len(flag_masks),len(flag_values),len(flag_meanings_list)"
     ],
     "language": "python",
     "metadata": {},
     "outputs": [
      {
       "output_type": "stream",
       "stream": "stdout",
       "text": [
        "37 37 37\n"
       ]
      }
     ],
     "prompt_number": 82
    },
    {
     "cell_type": "code",
     "collapsed": false,
     "input": [
      "for i in range(len(flag_values)):\n",
      "    print flag_masks[i],\",\",flag_values[i],\" - \",flag_meanings_list[i]"
     ],
     "language": "python",
     "metadata": {},
     "outputs": [
      {
       "output_type": "stream",
       "stream": "stdout",
       "text": [
        "3 , 0  -  vi_produced_with_good_quality\n",
        "3 , 1  -  vi_produced_but_check_other_qa\n",
        "3 , 2  -  pixel_produced_but_most_probably_cloudy\n",
        "3 , 3  -  pixel_not_produced_due_to_other_reasons_than_clouds\n",
        "60 , 0  -  vi_usefulness_highest_quality\n",
        "60 , 4  -  vi_usefulness_lower_quality\n",
        "60 , 8  -  vi_usefulness_decreasing_quality\n",
        "60 , 16  -  vi_usefulness_decreasing_quality\n",
        "60 , 32  -  vi_usefulness_decreasing_quality\n",
        "60 , 36  -  vi_usefulness_decreasing_quality\n",
        "60 , 40  -  vi_usefulness_decreasing_quality\n",
        "60 , 48  -  vi_usefulness_lowest_quality\n",
        "60 , 52  -  vi_usefulness_quality_so_low_that_it_is_not_useful\n",
        "60 , 56  -  vi_usefulness_l1b_data_faulty\n",
        "60 , 60  -  vi_usefulness_not_useful_for_any_other_reason_not_processed\n",
        "192 , 0  -  aerosol_quantity_climatology\n",
        "192 , 64  -  aerosol_quantity_low\n",
        "192 , 128  -  aerosol_quantity_average\n",
        "192 , 192  -  aerosol_quantity_high\n",
        "256 , 0  -  adjacent_cloud_detected_no\n",
        "256 , 256  -  adjacent_cloud_detected_yes\n",
        "512 , 0  -  atmosphere_brdf_correction_no\n",
        "512 , 512  -  atmosphere_brdf_correction_yes\n",
        "1024 , 0  -  mixed_clouds_no\n",
        "1024 , 1024  -  mixed_clouds_yes\n",
        "14336 , 14336  -  land_water_shallow_ocean\n",
        "14336 , 14336  -  land_water_land_nothing_else_but_land\n",
        "14336 , 14336  -  land_water_ocean_coastlines_and_lake_shorelines\n",
        "14336 , 14336  -  land_water_shallow_inland_water\n",
        "14336 , 14336  -  land_water_ephemeral_water\n",
        "14336 , 14336  -  land_water_deep_inland_water\n",
        "14336 , 14336  -  land_water_moderate_or_continental_ocean\n",
        "14336 , 14336  -  land_water_deep_ocean\n",
        "16384 , 0  -  possible_snow_ice_no\n",
        "16384 , 16384  -  possible_snow_ice_yes\n",
        "32768 , 0  -  Possible_shadow_no\n",
        "32768 , 32768  -  Possible_shadow_yes\n"
       ]
      }
     ],
     "prompt_number": 84
    },
    {
     "cell_type": "code",
     "collapsed": false,
     "input": [
      "print comment"
     ],
     "language": "python",
     "metadata": {},
     "outputs": [
      {
       "output_type": "stream",
       "stream": "stdout",
       "text": [
        "Bits are numbered from 0 (least significant bit)\n",
        "    Bit      Description      Key\n",
        "    0-1      MODLAND QA         00 = VI produced with good quality\n",
        "                                01 = VI produced, but check other QA\n",
        "                                10 = Pixel produced, but most probably cloudy\n",
        "                                11 = Pixel not produced due to other reasons\n",
        "                                     than clouds\n",
        "    2-5      VI usefulness    0000 = Highest quality\n",
        "                              0001 = Lower quality\n",
        "                              0010 = Decreasing quality\n",
        "                              0100 = Decreasing quality\n",
        "                              1000 = Decreasing quality\n",
        "                              1001 = Decreasing quality\n",
        "                              1010 = Decreasing quality\n",
        "                              1100 = Lowest quality\n",
        "                              1101 = Quality so low that it is not useful\n",
        "                              1110 = L1B data faulty\n",
        "                              1111 = Not useful for any other reason/not\n",
        "                                     processed\n",
        "    6-7      Aerosol quantity\n",
        "                                00 = Climatology\n",
        "                                01 = Low\n",
        "                                10 = Average\n",
        "                                11 = High\n",
        "    8        Adjacent cloud detected\n",
        "                                 0 = No\n",
        "                                 1 = Yes\n",
        "    9        Atmosphere BRDF correction\n",
        "                                 0 = No\n",
        "                                 1 = Yes\n",
        "    10       Mixed clouds        0 = No\n",
        "                                 1 = Yes\n",
        "    11-13    Land/water        000 = Shallow ocean\n",
        "                               001 = Land (nothing else but land)\n",
        "                               010 = Ocean coastlines and lake shorelines\n",
        "                               011 = Shallow inland water\n",
        "                               100 = Ephemeral water\n",
        "                               101 = Deep inland water\n",
        "                               110 = Moderate or continental ocean\n",
        "                               111 = Deep ocean\n",
        "    14       Possible snow/ice\n",
        "                                 0 = No\n",
        "                                 1 = Yes\n",
        "    15       Possible shadow     0 = No\n",
        "                                 1 = Yes\n",
        "\n"
       ]
      }
     ],
     "prompt_number": 86
    },
    {
     "cell_type": "code",
     "collapsed": false,
     "input": [
      "bin(2048)[2:]"
     ],
     "language": "python",
     "metadata": {},
     "outputs": [
      {
       "metadata": {},
       "output_type": "pyout",
       "prompt_number": 108,
       "text": [
        "'100000000000'"
       ]
      }
     ],
     "prompt_number": 108
    },
    {
     "cell_type": "code",
     "collapsed": false,
     "input": [
      "int('100000000100',2)"
     ],
     "language": "python",
     "metadata": {},
     "outputs": [
      {
       "metadata": {},
       "output_type": "pyout",
       "prompt_number": 112,
       "text": [
        "2052"
       ]
      }
     ],
     "prompt_number": 112
    },
    {
     "cell_type": "code",
     "collapsed": false,
     "input": [],
     "language": "python",
     "metadata": {},
     "outputs": []
    }
   ],
   "metadata": {}
  }
 ]
}