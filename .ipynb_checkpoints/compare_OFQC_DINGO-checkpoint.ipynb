{
 "metadata": {
  "name": "",
  "signature": "sha256:c8097423db14a8917b37ee02b6c716601f777f6eddee251fb1d8d039d35deb51"
 },
 "nbformat": 3,
 "nbformat_minor": 0,
 "worksheets": [
  {
   "cells": [
    {
     "cell_type": "code",
     "collapsed": false,
     "input": [
      "%run basics\n",
      "import xlrd\n",
      "import matplotlib.dates as mdates\n",
      "%matplotlib"
     ],
     "language": "python",
     "metadata": {},
     "outputs": [
      {
       "output_type": "stream",
       "stream": "stdout",
       "text": [
        "Using matplotlib backend: Qt4Agg\n"
       ]
      }
     ],
     "prompt_number": 1
    },
    {
     "cell_type": "code",
     "collapsed": false,
     "input": [
      "def xl_read_data(xl_sheet,datemode,header_row=1,units_row=0,dt_col=0,firstdata_row=2):\n",
      "    header_list = [item for item in xl_sheet.row_values(header_row)]\n",
      "    data = {}\n",
      "    data[\"DateTime\"] = {}\n",
      "    dt_header = xl_sheet.cell_value(rowx=header_row,colx=dt_col)\n",
      "    xlcol = header_list.index(dt_header)\n",
      "    xl_dt = xl_sheet.col_values(xlcol)[firstdata_row:xl_sheet.nrows]\n",
      "    data[\"DateTime\"][\"data\"] = [xlrd.xldate.xldate_as_datetime(item,datemode) for item in xl_dt]\n",
      "    header_list.remove(dt_header)\n",
      "    for item in header_list:\n",
      "        data[item] = {}\n",
      "        xlcol = header_list.index(item)+1\n",
      "        data[item][\"data\"] = numpy.array(xl_sheet.col_values(xlcol)[firstdata_row:xl_sheet.nrows],dtype=numpy.float64)\n",
      "        data[item][\"units\"] = xl_sheet.cell_value(rowx=units_row,colx=xlcol)\n",
      "    return data"
     ],
     "language": "python",
     "metadata": {},
     "outputs": [],
     "prompt_number": 2
    },
    {
     "cell_type": "code",
     "collapsed": false,
     "input": [
      "ofqc_name = \"../../Sites/Calperum/Data/Processed/all/Calperum_L6_Summary.xls\"\n",
      "dingo_name = \"../../Sites/Calperum/Data/DINGO/V12a/Calperum_L6_Summary.xls\"\n",
      "site_name = \"Calperum\""
     ],
     "language": "python",
     "metadata": {},
     "outputs": [],
     "prompt_number": 47
    },
    {
     "cell_type": "code",
     "collapsed": false,
     "input": [
      "ofqc_wbk = xlrd.open_workbook(ofqc_name)\n",
      "ofqc_monthly = ofqc_wbk.sheet_by_name(\"Monthly\")\n",
      "ofqc_data = xl_read_data(ofqc_monthly,ofqc_wbk.datemode)"
     ],
     "language": "python",
     "metadata": {},
     "outputs": [],
     "prompt_number": 49
    },
    {
     "cell_type": "code",
     "collapsed": false,
     "input": [
      "dingo_wbk = xlrd.open_workbook(dingo_name)\n",
      "dingo_monthly = dingo_wbk.sheet_by_name(\"Monthly\")\n",
      "dingo_data = xl_read_data(dingo_monthly,dingo_wbk.datemode)"
     ],
     "language": "python",
     "metadata": {},
     "outputs": [],
     "prompt_number": 50
    },
    {
     "cell_type": "code",
     "collapsed": false,
     "input": [
      "dingo_data[\"GPP\"][\"data\"] = -1*dingo_data[\"GPP\"][\"data\"]"
     ],
     "language": "python",
     "metadata": {},
     "outputs": [],
     "prompt_number": 51
    },
    {
     "cell_type": "code",
     "collapsed": false,
     "input": [
      "start_date = max([ofqc_data[\"DateTime\"][\"data\"][0],dingo_data[\"DateTime\"][\"data\"][0]])\n",
      "end_date = min([ofqc_data[\"DateTime\"][\"data\"][-1],dingo_data[\"DateTime\"][\"data\"][-1]])\n",
      "osi = ofqc_data[\"DateTime\"][\"data\"].index(start_date)\n",
      "oei = ofqc_data[\"DateTime\"][\"data\"].index(end_date)\n",
      "dsi = dingo_data[\"DateTime\"][\"data\"].index(start_date)\n",
      "dei = dingo_data[\"DateTime\"][\"data\"].index(end_date)"
     ],
     "language": "python",
     "metadata": {},
     "outputs": [],
     "prompt_number": 52
    },
    {
     "cell_type": "code",
     "collapsed": false,
     "input": [
      "ofqc_ET_sum = numpy.sum(ofqc_data[\"ET\"][\"data\"][osi:oei])\n",
      "dingo_ET_sum = numpy.sum(dingo_data[\"ET\"][\"data\"][dsi:dei])\n",
      "ofqc_NEE_sum = numpy.sum(ofqc_data[\"NEE_FFNET\"][\"data\"][osi:oei])\n",
      "dingo_NEE_sum = numpy.sum(dingo_data[\"NEE\"][\"data\"][dsi:dei])\n",
      "ofqc_Fre_sum = numpy.sum(ofqc_data[\"Fre_FFNET\"][\"data\"][osi:oei])\n",
      "dingo_Fre_sum = numpy.sum(dingo_data[\"Fre\"][\"data\"][dsi:dei])\n",
      "ofqc_GPP_sum = numpy.sum(ofqc_data[\"GPP_FFNET\"][\"data\"][osi:oei])\n",
      "dingo_GPP_sum = numpy.sum(dingo_data[\"GPP\"][\"data\"][dsi:dei])"
     ],
     "language": "python",
     "metadata": {},
     "outputs": [],
     "prompt_number": 53
    },
    {
     "cell_type": "code",
     "collapsed": false,
     "input": [
      "date_fmt = mdates.DateFormatter('%Y-%m')\n",
      "ddt = dingo_data[\"DateTime\"][\"data\"][dsi:dei]\n",
      "odt = ofqc_data[\"DateTime\"][\"data\"][osi:oei]\n",
      "title_str = site_name+\": \"+start_date.strftime(\"%Y-%m-%d\")+\" to \"\n",
      "title_str = title_str+end_date.strftime(\"%Y-%m-%d\")\n",
      "fig,(ax1,ax2,ax3,ax4) = plt.subplots(4, sharex=True)\n",
      "plt.figtext(0.5,0.95,title_str,horizontalalignment='center',fontsize=14)\n",
      "ax1.plot(ddt,dingo_data[\"ET\"][\"data\"][dsi:dei],'r+',label=\"DINGO\")\n",
      "ax1.plot(odt,ofqc_data[\"ET\"][\"data\"][osi:oei],'bo',label=\"OzFluxQC\")\n",
      "ax1.set_ylabel(\"ET\\n(mm)\")\n",
      "ax1.legend(loc=\"lower left\",prop={'size':8})\n",
      "ax1.text(1.012,0.6,\"{0}\".format(int(dingo_ET_sum)),color='b',horizontalalignment='left',transform=ax1.transAxes)\n",
      "ax1.text(1.012,0.4,\"{0}\".format(int(ofqc_ET_sum)),color='r',horizontalalignment='left',transform=ax1.transAxes)\n",
      "ax2.plot(ddt,dingo_data[\"NEE\"][\"data\"][dsi:dei],'bo',label=\"DINGO\")\n",
      "ax2.plot(odt,ofqc_data[\"NEE_FFNET\"][\"data\"][osi:oei],'ro',label=\"OzFluxQC\")\n",
      "ax2.set_ylabel(\"NEE\\n(gC/m2)\")\n",
      "ax2.text(1.012,0.6,\"{0}\".format(int(dingo_NEE_sum)),color='b',horizontalalignment='left',transform=ax2.transAxes)\n",
      "ax2.text(1.012,0.4,\"{0}\".format(int(ofqc_NEE_sum)),color='r',horizontalalignment='left',transform=ax2.transAxes)\n",
      "ax3.plot(ddt,dingo_data[\"Fre\"][\"data\"][dsi:dei],'bo',label=\"DINGO\")\n",
      "ax3.plot(odt,ofqc_data[\"Fre_FFNET\"][\"data\"][osi:oei],'ro',label=\"OzFluxQC\")\n",
      "ax3.set_ylabel(\"Fre\\n(gC/m2)\")\n",
      "ax3.text(1.012,0.6,\"{0}\".format(int(dingo_Fre_sum)),color='b',horizontalalignment='left',transform=ax3.transAxes)\n",
      "ax3.text(1.012,0.4,\"{0}\".format(int(ofqc_Fre_sum)),color='r',horizontalalignment='left',transform=ax3.transAxes)\n",
      "ax4.plot(ddt,dingo_data[\"GPP\"][\"data\"][dsi:dei],'bo',label=\"DINGO\")\n",
      "ax4.plot(odt,ofqc_data[\"GPP_FFNET\"][\"data\"][osi:oei],'ro',label=\"OzFluxQC\")\n",
      "ax4.set_ylabel(\"GPP\\n(gC/m2)\")\n",
      "ax4.text(1.012,0.6,\"{0}\".format(int(dingo_GPP_sum)),color='b',horizontalalignment='left',transform=ax4.transAxes)\n",
      "ax4.text(1.012,0.4,\"{0}\".format(int(ofqc_GPP_sum)),color='r',horizontalalignment='left',transform=ax4.transAxes)\n",
      "ax4.xaxis.set_major_formatter(date_fmt)\n",
      "fig.subplots_adjust(hspace=0,left=0.12,right=0.90)\n",
      "plt.setp([a.get_xticklabels() for a in fig.axes[:-1]], visible=False)\n",
      "plt.show()"
     ],
     "language": "python",
     "metadata": {},
     "outputs": [],
     "prompt_number": 57
    },
    {
     "cell_type": "code",
     "collapsed": false,
     "input": [],
     "language": "python",
     "metadata": {},
     "outputs": []
    }
   ],
   "metadata": {}
  }
 ]
}