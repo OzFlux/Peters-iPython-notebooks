{
 "metadata": {
  "name": "",
  "signature": "sha256:3ec6b812b7d00cc6bd43fb2f6b485ebbc2ce3c4a19be0322706c7b727491a238"
 },
 "nbformat": 3,
 "nbformat_minor": 0,
 "worksheets": [
  {
   "cells": [
    {
     "cell_type": "code",
     "collapsed": false,
     "input": [
      "%run basics\n",
      "%matplotlib"
     ],
     "language": "python",
     "metadata": {},
     "outputs": [
      {
       "output_type": "stream",
       "stream": "stdout",
       "text": [
        "Using matplotlib backend: Qt4Agg\n"
       ]
      }
     ],
     "prompt_number": 1
    },
    {
     "cell_type": "code",
     "collapsed": false,
     "input": [
      "def find_indices(a,b):\n",
      "    tmpset = set(a)\n",
      "    indices = [i for i,item in enumerate(b) if item in tmpset]\n",
      "    return indices"
     ],
     "language": "python",
     "metadata": {},
     "outputs": [],
     "prompt_number": 2
    },
    {
     "cell_type": "code",
     "collapsed": false,
     "input": [
      "tower_name = qcio.get_filename_dialog(path=\"../../Sites/\")"
     ],
     "language": "python",
     "metadata": {},
     "outputs": [],
     "prompt_number": 3
    },
    {
     "cell_type": "code",
     "collapsed": false,
     "input": [
      "access_name = qcio.get_filename_dialog(path=\"../../Sites\")"
     ],
     "language": "python",
     "metadata": {},
     "outputs": [],
     "prompt_number": 4
    },
    {
     "cell_type": "code",
     "collapsed": false,
     "input": [
      "ds_tower = qcio.nc_read_series(tower_name)"
     ],
     "language": "python",
     "metadata": {},
     "outputs": [],
     "prompt_number": 5
    },
    {
     "cell_type": "code",
     "collapsed": false,
     "input": [
      "ds_alternate = qcio.nc_read_series(access_name)"
     ],
     "language": "python",
     "metadata": {},
     "outputs": [],
     "prompt_number": 6
    },
    {
     "cell_type": "code",
     "collapsed": false,
     "input": [
      "ldt_tower = ds_tower.series[\"DateTime\"][\"Data\"]\n",
      "start_tower = ldt_tower[0]\n",
      "end_tower = ldt_tower[-1]\n",
      "ldt_alternate = ds_alternate.series[\"DateTime\"][\"Data\"]\n",
      "start_alternate = ldt_alternate[0]\n",
      "end_alternate = ldt_alternate[-1]"
     ],
     "language": "python",
     "metadata": {},
     "outputs": [],
     "prompt_number": 7
    },
    {
     "cell_type": "code",
     "collapsed": false,
     "input": [
      "start_overlap = start_alternate>=start_tower and start_alternate<=end_tower\n",
      "end_overlap = end_alternate>=start_alternate and end_alternate<=end_tower\n",
      "overlap = start_overlap or end_overlap\n",
      "print start_overlap,end_overlap,overlap"
     ],
     "language": "python",
     "metadata": {},
     "outputs": [
      {
       "output_type": "stream",
       "stream": "stdout",
       "text": [
        "True False True\n"
       ]
      }
     ],
     "prompt_number": 8
    },
    {
     "cell_type": "code",
     "collapsed": false,
     "input": [
      "print ldt_tower[0],ldt_tower[-1]\n",
      "print ldt_alternate[0],ldt_alternate[-1]"
     ],
     "language": "python",
     "metadata": {},
     "outputs": [
      {
       "output_type": "stream",
       "stream": "stdout",
       "text": [
        "2010-01-01 00:00:00 2012-01-01 00:00:00\n",
        "2011-01-01 10:00:00 2015-01-01 09:00:00\n"
       ]
      }
     ],
     "prompt_number": 9
    },
    {
     "cell_type": "code",
     "collapsed": false,
     "input": [
      "# index of alternate datetimes that are also in tower datetimes\n",
      "alternate_index = find_indices(ldt_tower,ldt_alternate)\n",
      "# index of tower datetimes that are also in alternate datetimes\n",
      "tower_index = find_indices(ldt_alternate,ldt_tower)"
     ],
     "language": "python",
     "metadata": {},
     "outputs": [],
     "prompt_number": 10
    },
    {
     "cell_type": "code",
     "collapsed": false,
     "input": [
      "ldta = [ldt_alternate[i] for i in alternate_index]\n",
      "ldtt = [ldt_tower[i] for i in tower_index]\n",
      "ldta==ldtt"
     ],
     "language": "python",
     "metadata": {},
     "outputs": [
      {
       "metadata": {},
       "output_type": "pyout",
       "prompt_number": 11,
       "text": [
        "True"
       ]
      }
     ],
     "prompt_number": 11
    },
    {
     "cell_type": "code",
     "collapsed": false,
     "input": [
      "alternate_series_list = [item for item in ds_alternate.series.keys() if \"_QCFlag\" not in item]"
     ],
     "language": "python",
     "metadata": {},
     "outputs": [],
     "prompt_number": 12
    },
    {
     "cell_type": "code",
     "collapsed": false,
     "input": [
      "nRecs_tower = ds_tower.globalattributes[\"nc_nrecs\"]\n",
      "ds_alternate_overlap = qcio.DataStructure()\n",
      "ds_alternate_overlap.globalattributes = ds_alternate.globalattributes\n",
      "ds_alternate_overlap.series[\"DateTime\"] = ds_tower.series[\"DateTime\"]\n",
      "ds_alternate_overlap.globalattributes[\"nc_nrecs\"] = nRecs_tower\n",
      "for series in alternate_series_list:\n",
      "    if series in [\"DateTime\",\"DateTime_UTC\"]: continue\n",
      "    data,flag,attr = qcutils.GetSeriesasMA(ds_alternate,series)\n",
      "    data_overlap = numpy.full(nRecs_tower,c.missing_value,dtype=numpy.float64)\n",
      "    flag_overlap = numpy.ones(nRecs_tower,dtype=numpy.int32)\n",
      "    data_overlap[tower_index] = data[alternate_index]\n",
      "    flag_overlap[tower_index] = flag[alternate_index]\n",
      "    attr_overlap = attr\n",
      "    qcutils.CreateSeries(ds_alternate_overlap,series,data_overlap,Flag=flag_overlap,Attr=attr_overlap)"
     ],
     "language": "python",
     "metadata": {},
     "outputs": [],
     "prompt_number": 16
    },
    {
     "cell_type": "code",
     "collapsed": false,
     "input": [
      "Fsd_tower,f,a = qcutils.GetSeriesasMA(ds_tower,\"Fsd\")\n",
      "Fsd_alt,f,a = qcutils.GetSeriesasMA(ds_alternate_overlap,\"Fsd_11\")\n",
      "fig=plt.figure()\n",
      "plt.plot(ldt_tower,Fsd_tower,'b.')\n",
      "plt.plot(ldt_tower,Fsd_alt,'r+')\n",
      "plt.show()"
     ],
     "language": "python",
     "metadata": {},
     "outputs": [],
     "prompt_number": 17
    },
    {
     "cell_type": "code",
     "collapsed": false,
     "input": [],
     "language": "python",
     "metadata": {},
     "outputs": []
    }
   ],
   "metadata": {}
  }
 ]
}