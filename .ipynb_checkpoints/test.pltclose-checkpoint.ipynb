{
 "metadata": {
  "name": "",
  "signature": "sha256:a7c9b9b90530eb55833f2a7f7caaaa757c9ee44e3505ca9b20f6788f2d3a592f"
 },
 "nbformat": 3,
 "nbformat_minor": 0,
 "worksheets": [
  {
   "cells": [
    {
     "cell_type": "code",
     "collapsed": false,
     "input": [
      "import matplotlib.pyplot as plt\n",
      "import Tkinter as tk"
     ],
     "language": "python",
     "metadata": {},
     "outputs": [],
     "prompt_number": 3
    },
    {
     "cell_type": "code",
     "collapsed": false,
     "input": [
      "def plot_something():\n",
      "    fig=plt.figure(1)\n",
      "    plt.plot([0,1,2,3,4,5,6,7,8,9],[0,2,4,6,8,10,12,14,16,18,])\n",
      "    plt.show()\n",
      "    #plt.close(fig)"
     ],
     "language": "python",
     "metadata": {},
     "outputs": [],
     "prompt_number": 14
    },
    {
     "cell_type": "code",
     "collapsed": false,
     "input": [
      "root=tk.Tk()\n",
      "root.withdraw()\n",
      "b = tk.Button(root, text=\"Plot something\", command=plot_something)\n",
      "b.pack()\n",
      "\n",
      "root.mainloop()"
     ],
     "language": "python",
     "metadata": {},
     "outputs": []
    },
    {
     "cell_type": "code",
     "collapsed": false,
     "input": [
      "plot_something()"
     ],
     "language": "python",
     "metadata": {},
     "outputs": [],
     "prompt_number": 15
    },
    {
     "cell_type": "code",
     "collapsed": false,
     "input": [],
     "language": "python",
     "metadata": {},
     "outputs": []
    }
   ],
   "metadata": {}
  }
 ]
}