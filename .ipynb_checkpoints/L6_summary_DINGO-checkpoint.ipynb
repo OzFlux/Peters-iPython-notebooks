{
 "metadata": {
  "name": "",
  "signature": "sha256:7b84743b2ed14450b6542c97e9148921323d0753a26da6f5ef5c81c61fe7125b"
 },
 "nbformat": 3,
 "nbformat_minor": 0,
 "worksheets": [
  {
   "cells": [
    {
     "cell_type": "code",
     "collapsed": false,
     "input": [
      "%run basics\n",
      "%matplotlib\n",
      "import qcrp\n",
      "import os"
     ],
     "language": "python",
     "metadata": {},
     "outputs": [
      {
       "output_type": "stream",
       "stream": "stdout",
       "text": [
        "Using matplotlib backend: Qt4Agg\n"
       ]
      }
     ],
     "prompt_number": 1
    },
    {
     "cell_type": "code",
     "collapsed": false,
     "input": [
      "nc_name = qcio.get_filename_dialog(path=\"../../Sites/\")\n",
      "path_name = os.path.split(nc_name)\n",
      "data_path = path_name[0]\n",
      "plot_path = data_path.replace(\"Data\",\"Plots\")\n",
      "if not os.path.exists(plot_path): os.makedirs(plot_path)"
     ],
     "language": "python",
     "metadata": {},
     "outputs": [],
     "prompt_number": 2
    },
    {
     "cell_type": "code",
     "collapsed": false,
     "input": [
      "ds = qcio.nc_read_series(nc_name)"
     ],
     "language": "python",
     "metadata": {},
     "outputs": [],
     "prompt_number": 3
    },
    {
     "cell_type": "code",
     "collapsed": false,
     "input": [
      "qcrp.CalculateET(ds)"
     ],
     "language": "python",
     "metadata": {},
     "outputs": [],
     "prompt_number": 4
    },
    {
     "cell_type": "code",
     "collapsed": false,
     "input": [
      "series_dict = {\"daily\":{},\"annual\":{},\"cumulative\":{},\"lists\":{}}\n",
      "sdl = series_dict[\"lists\"]\n",
      "sdl[\"nee\"] = [\"NEE\"]\n",
      "sdl[\"gpp\"] = [\"GPP\"]\n",
      "sdl[\"fre\"] = [\"Fre\"]\n",
      "sdl[\"co2\"] = sdl[\"nee\"]+sdl[\"gpp\"]+sdl[\"fre\"]\n",
      "for item in sdl[\"co2\"]:\n",
      "    series_dict[\"daily\"][item] = {}\n",
      "    series_dict[\"cumulative\"][item] = {}\n",
      "    series_dict[\"daily\"][item][\"operator\"] = \"sum\"\n",
      "    series_dict[\"daily\"][item][\"format\"] = \"0.00\"\n",
      "    series_dict[\"cumulative\"][item][\"operator\"] = \"sum\"\n",
      "    series_dict[\"cumulative\"][item][\"format\"] = \"0.00\"\n",
      "\n",
      "series_dict[\"daily\"][\"Fe\"] = {\"operator\":\"average\",\"format\":\"0.0\"}\n",
      "series_dict[\"daily\"][\"Fh\"] = {\"operator\":\"average\",\"format\":\"0.0\"}\n",
      "series_dict[\"daily\"][\"Fg\"] = {\"operator\":\"average\",\"format\":\"0.0\"}\n",
      "series_dict[\"daily\"][\"Fn\"] = {\"operator\":\"average\",\"format\":\"0.0\"}\n",
      "\n",
      "series_dict[\"daily\"][\"ET\"] = {\"operator\":\"sum\",\"format\":\"0.0\"}\n",
      "series_dict[\"daily\"][\"Precip\"] = {\"operator\":\"sum\",\"format\":\"0.0\"}\n",
      "series_dict[\"cumulative\"][\"ET\"] = series_dict[\"daily\"][\"ET\"]\n",
      "series_dict[\"cumulative\"][\"Precip\"] = series_dict[\"daily\"][\"Precip\"]\n",
      "series_dict[\"annual\"] = series_dict[\"daily\"]\n",
      "series_dict[\"monthly\"] = series_dict[\"daily\"]"
     ],
     "language": "python",
     "metadata": {},
     "outputs": [],
     "prompt_number": 5
    },
    {
     "cell_type": "code",
     "collapsed": false,
     "input": [
      "xl_name = nc_name.replace(\".nc\",\"_Summary.xls\")\n",
      "xl_file = qcio.xl_open_write(xl_name)"
     ],
     "language": "python",
     "metadata": {},
     "outputs": [],
     "prompt_number": 6
    },
    {
     "cell_type": "code",
     "collapsed": false,
     "input": [
      "daily_dict = qcrp.L6_summary_daily(xl_file,ds,series_dict)"
     ],
     "language": "python",
     "metadata": {},
     "outputs": [],
     "prompt_number": 7
    },
    {
     "cell_type": "code",
     "collapsed": false,
     "input": [
      "monthly_dict = qcrp.L6_summary_monthly(xl_file,ds,series_dict)"
     ],
     "language": "python",
     "metadata": {},
     "outputs": [],
     "prompt_number": 8
    },
    {
     "cell_type": "code",
     "collapsed": false,
     "input": [
      "annual_dict = qcrp.L6_summary_annual(xl_file,ds,series_dict)"
     ],
     "language": "python",
     "metadata": {},
     "outputs": [],
     "prompt_number": 9
    },
    {
     "cell_type": "code",
     "collapsed": false,
     "input": [
      "cumulative_dict = qcrp.L6_summary_cumulative(xl_file,ds,series_dict)"
     ],
     "language": "python",
     "metadata": {},
     "outputs": [],
     "prompt_number": 10
    },
    {
     "cell_type": "code",
     "collapsed": false,
     "input": [
      "xl_file.save(xl_name)"
     ],
     "language": "python",
     "metadata": {},
     "outputs": [],
     "prompt_number": 11
    },
    {
     "cell_type": "code",
     "collapsed": false,
     "input": [
      "cf = {\"Options\":{\"call_mode\":\"interactive\"},\"Files\":{\"plot_path\":plot_path}}\n",
      "qcrp.L6_summary_plotdaily(cf,ds,daily_dict)\n",
      "qcrp.L6_summary_plotcumulative(cf,ds,cumulative_dict)"
     ],
     "language": "python",
     "metadata": {},
     "outputs": [],
     "prompt_number": 12
    },
    {
     "cell_type": "code",
     "collapsed": false,
     "input": [],
     "language": "python",
     "metadata": {},
     "outputs": []
    }
   ],
   "metadata": {}
  }
 ]
}