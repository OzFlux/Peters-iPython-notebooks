{
 "metadata": {
  "name": "",
  "signature": "sha256:cf1eb8e499b1a765322011ccbda5951c9928c184ed8c9e29e0902424e626b245"
 },
 "nbformat": 3,
 "nbformat_minor": 0,
 "worksheets": [
  {
   "cells": [
    {
     "cell_type": "code",
     "collapsed": false,
     "input": [
      "%run basics\n",
      "import csv"
     ],
     "language": "python",
     "metadata": {},
     "outputs": [],
     "prompt_number": 1
    },
    {
     "cell_type": "code",
     "collapsed": false,
     "input": [
      "csvname=qcio.get_filename_dialog()"
     ],
     "language": "python",
     "metadata": {},
     "outputs": [],
     "prompt_number": 2
    },
    {
     "cell_type": "code",
     "collapsed": false,
     "input": [
      "# in here we open the file, read the header, work out the columns we want and then close the file\n",
      "csvfile = open(csvname,'rb')\n",
      "csvreader = csv.reader(csvfile)\n",
      "header = csvreader.next()\n",
      "dt_col=header.index(\"MODISdatecopy_new\")\n",
      "eviint_col = header.index(\"250m_16_days_EVI_new_interp\")\n",
      "evismo_col = header.index(\"250m_16_days_EVI_new_smooth\")\n",
      "print dt_col,eviint_col,evismo_col\n",
      "csvfile.close()"
     ],
     "language": "python",
     "metadata": {},
     "outputs": [
      {
       "output_type": "stream",
       "stream": "stdout",
       "text": [
        "170 171 172\n"
       ]
      }
     ],
     "prompt_number": 8
    },
    {
     "cell_type": "code",
     "collapsed": false,
     "input": [
      "evi=numpy.genfromtxt(csvname,skip_header=1,delimiter=\",\",usecols=(dt_col,eviint_col,evismo_col))"
     ],
     "language": "python",
     "metadata": {},
     "outputs": [],
     "prompt_number": 86
    },
    {
     "cell_type": "code",
     "collapsed": false,
     "input": [
      "ds=qcio.DataStructure()\n",
      "ds.globalattributes[\"xl_datemode\"]=0\n",
      "ds.globalattributes[\"time_step\"]=30\n",
      "ds.globalattributes[\"time_zone\"]=\"Australia/Darwin\"\n",
      "ds.globalattributes[\"latitude\"]=-34.00206\n",
      "ds.globalattributes[\"longitude\"]=140.58912"
     ],
     "language": "python",
     "metadata": {},
     "outputs": [],
     "prompt_number": 79
    },
    {
     "cell_type": "code",
     "collapsed": false,
     "input": [
      "ds.series[\"xlDateTime\"]={}\n",
      "ds.series[\"xlDateTime\"][\"Data\"]=numpy.array(evi[:,0]+1,dtype=numpy.float64)\n",
      "nRecs=len(ds.series[\"xlDateTime\"][\"Data\"])\n",
      "ds.globalattributes[\"nc_nrecs\"]=nRecs\n",
      "flag=numpy.zeros(nRecs,dtype=numpy.int32)\n",
      "ds.series[\"xlDateTime\"][\"Flag\"]=flag\n",
      "ds.series[\"xlDateTime\"][\"Attr\"]={}\n",
      "ds.series[\"xlDateTime\"][\"Attr\"][\"long_name\"]=\"Date/time in Excel format\"\n",
      "ds.series[\"xlDateTime\"][\"Attr\"][\"units\"]=\"days since 1899-12-31 00:00:00 +9:30\"\n",
      "ds.series[\"xlDateTime\"][\"Attr\"][\"standard_name\"]=\"not defined\"\n",
      "ds.series[\"xlDateTime\"][\"Attr\"][\"cf_role\"]=\"timeseries_id\""
     ],
     "language": "python",
     "metadata": {},
     "outputs": [],
     "prompt_number": 80
    },
    {
     "cell_type": "code",
     "collapsed": false,
     "input": [
      "qcutils.get_datetimefromxldate(ds)\n",
      "qcutils.get_ymdhms_from_datetime(ds)"
     ],
     "language": "python",
     "metadata": {},
     "outputs": [],
     "prompt_number": 81
    },
    {
     "cell_type": "code",
     "collapsed": false,
     "input": [
      "ldt=ds.series[\"DateTime\"][\"Data\"]\n",
      "print ldt[0],ldt[-1]"
     ],
     "language": "python",
     "metadata": {},
     "outputs": [
      {
       "output_type": "stream",
       "stream": "stdout",
       "text": [
        "2000-02-18 00:00:00 2014-08-13 00:00:00\n"
       ]
      }
     ],
     "prompt_number": 82
    },
    {
     "cell_type": "code",
     "collapsed": false,
     "input": [
      "attr=qcutils.MakeAttributeDictionary(long_name=\"MODIS EVI, 250m, interpolated\",units=\"none\")\n",
      "qcutils.CreateSeries(ds,\"EVI_MODIS_interp\",evi[:,1],Flag=flag,Attr=attr)\n",
      "attr=qcutils.MakeAttributeDictionary(long_name=\"MODIS EVI, 250m, interpolated and smooothed\",units=\"none\")\n",
      "qcutils.CreateSeries(ds,\"EVI_MODIS_smooth\",evi[:,2],Flag=flag,Attr=attr)"
     ],
     "language": "python",
     "metadata": {},
     "outputs": [],
     "prompt_number": 83
    },
    {
     "cell_type": "code",
     "collapsed": false,
     "input": [
      "ncname=\"../../Sites/Calperum/Data/MODIS/Calperum_MODIS_20000218to20140813.nc\"\n",
      "ncfile=qcio.nc_open_write(ncname)\n",
      "qcio.nc_write_series(ncfile,ds)"
     ],
     "language": "python",
     "metadata": {},
     "outputs": [],
     "prompt_number": 84
    },
    {
     "cell_type": "code",
     "collapsed": false,
     "input": [],
     "language": "python",
     "metadata": {},
     "outputs": []
    }
   ],
   "metadata": {}
  }
 ]
}