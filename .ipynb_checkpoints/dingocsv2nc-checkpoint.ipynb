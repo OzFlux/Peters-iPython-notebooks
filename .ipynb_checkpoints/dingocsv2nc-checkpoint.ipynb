{
 "metadata": {
  "name": "",
  "signature": "sha256:b55f5c7aaf40ad884decc7b564c7ae0b5f1099e80d289e5c9bab94ea71af1f0f"
 },
 "nbformat": 3,
 "nbformat_minor": 0,
 "worksheets": [
  {
   "cells": [
    {
     "cell_type": "code",
     "collapsed": false,
     "input": [
      "%run basics\n",
      "import csv\n",
      "%matplotlib"
     ],
     "language": "python",
     "metadata": {},
     "outputs": [
      {
       "output_type": "stream",
       "stream": "stdout",
       "text": [
        "Using matplotlib backend: Qt4Agg\n"
       ]
      }
     ],
     "prompt_number": 1
    },
    {
     "cell_type": "code",
     "collapsed": false,
     "input": [
      "# get the control file\n",
      "cf = qcio.load_controlfile(path='../controlfiles')\n",
      "# list of series to be read from CSV file\n",
      "series_list = cf[\"Variables\"].keys()\n",
      "csv_list = []\n",
      "for item in series_list:\n",
      "    csv_list.append(cf[\"Variables\"][item][\"csv\"][\"name\"])\n",
      "# name of input CSV file\n",
      "csv_name = qcio.get_infilenamefromcf(cf)"
     ],
     "language": "python",
     "metadata": {},
     "outputs": [],
     "prompt_number": 2
    },
    {
     "cell_type": "code",
     "collapsed": false,
     "input": [
      "# get the header row\n",
      "csv_file = open(csv_name, \"rb\")\n",
      "datareader = csv.reader(csv_file)\n",
      "headerrow = datareader.next()\n",
      "csv_file.close()"
     ],
     "language": "python",
     "metadata": {},
     "outputs": [],
     "prompt_number": 3
    },
    {
     "cell_type": "code",
     "collapsed": false,
     "input": [
      "# read the CSV file\n",
      "data = numpy.genfromtxt(csv_name,delimiter=\",\",skip_header=1,names=headerrow,\n",
      "                        usecols=csv_list,filling_values=-9999,dtype=None)"
     ],
     "language": "python",
     "metadata": {},
     "outputs": [],
     "prompt_number": 4
    },
    {
     "cell_type": "code",
     "collapsed": false,
     "input": [
      "data[\"Fn_Con\"][0:10]"
     ],
     "language": "python",
     "metadata": {},
     "outputs": [
      {
       "metadata": {},
       "output_type": "pyout",
       "prompt_number": 5,
       "text": [
        "array([-26.91558791, -22.05371   , -19.16194   , -16.91185   ,\n",
        "       -18.1424    , -16.98848   , -11.93495   , -14.55581   ,\n",
        "       -13.40802   , -14.3668    ])"
       ]
      }
     ],
     "prompt_number": 5
    },
    {
     "cell_type": "code",
     "collapsed": false,
     "input": [
      "# get an instance of the data structure\n",
      "ds = qcio.DataStructure()\n",
      "# set some global attributes\n",
      "ds.globalattributes['featureType'] = 'timeseries'\n",
      "ds.globalattributes['csv_filename'] = csv_name\n",
      "ds.globalattributes['nc_nrecs'] = len(data)\n",
      "for gattr in cf['Global'].keys():\n",
      "    ds.globalattributes[gattr] = cf['Global'][gattr]"
     ],
     "language": "python",
     "metadata": {},
     "outputs": [],
     "prompt_number": 6
    },
    {
     "cell_type": "code",
     "collapsed": false,
     "input": [
      "dt = [datetime.datetime.strptime(x,\"%Y-%m-%d %H:%M:%S\") for x in data[\"DateTime\"]]\n",
      "ds.series[\"DateTime\"][\"Data\"] = dt\n",
      "ds.series[\"DateTime\"][\"Flag\"] = numpy.zeros(len(data),dtype=numpy.int32)\n",
      "ds.series[\"DateTime\"][\"Attr\"] = {\"long_name\":\"Datetime in local timezone\",\"units\":\"None\" }\n",
      "if \"DateTime\" in series_list: series_list.remove(\"DateTime\")"
     ],
     "language": "python",
     "metadata": {},
     "outputs": []
    },
    {
     "cell_type": "code",
     "collapsed": false,
     "input": [
      "# put the data into the data structure\n",
      "nRecs = ds.globalattributes[\"nc_nrecs\"]\n",
      "for item in series_list:\n",
      "    ds.series[item] = {}\n",
      "    ds.series[item][\"Data\"] = numpy.array(data[cf[\"Variables\"][item][\"csv\"][\"name\"]],dtype=numpy.float64)\n",
      "    ds.series[item][\"Flag\"] = numpy.zeros(nRecs,dtype=numpy.int32)\n",
      "    ds.series[item][\"Attr\"] = cf[\"Variables\"][item][\"Attr\"]"
     ],
     "language": "python",
     "metadata": {},
     "outputs": [],
     "prompt_number": 9
    },
    {
     "cell_type": "code",
     "collapsed": false,
     "input": [],
     "language": "python",
     "metadata": {},
     "outputs": []
    },
    {
     "cell_type": "code",
     "collapsed": false,
     "input": [
      "# get the datetime series\n",
      "qcutils.get_datetimefromxldate(ds)\n",
      "qcutils.round_datetime(ds,mode=\"nearest_second\")\n",
      "fixtimestepmethod = qcutils.get_keyvaluefromcf(cf,[\"Options\"],\"FixTimeStepMethod\",default=\"round\")\n",
      "if qcutils.CheckTimeStep(ds): qcutils.FixTimeStep(ds,fixtimestepmethod=fixtimestepmethod)\n",
      "qcutils.get_xldatefromdatetime(ds)\n",
      "qcutils.get_ymdhmsfromdatetime(ds)\n",
      "ds.globalattributes['start_date'] = str(ds.series['DateTime']['Data'][0])\n",
      "ds.globalattributes['end_date'] = str(ds.series['DateTime']['Data'][-1])"
     ],
     "language": "python",
     "metadata": {},
     "outputs": [
      {
       "ename": "KeyError",
       "evalue": "'xl_datemode'",
       "output_type": "pyerr",
       "traceback": [
        "\u001b[1;31m---------------------------------------------------------------------------\u001b[0m\n\u001b[1;31mKeyError\u001b[0m                                  Traceback (most recent call last)",
        "\u001b[1;32m<ipython-input-10-c2dd3c173c14>\u001b[0m in \u001b[0;36m<module>\u001b[1;34m()\u001b[0m\n\u001b[0;32m      1\u001b[0m \u001b[1;31m# get the datetime series\u001b[0m\u001b[1;33m\u001b[0m\u001b[1;33m\u001b[0m\u001b[0m\n\u001b[1;32m----> 2\u001b[1;33m \u001b[0mqcutils\u001b[0m\u001b[1;33m.\u001b[0m\u001b[0mget_datetimefromxldate\u001b[0m\u001b[1;33m(\u001b[0m\u001b[0mds\u001b[0m\u001b[1;33m)\u001b[0m\u001b[1;33m\u001b[0m\u001b[0m\n\u001b[0m\u001b[0;32m      3\u001b[0m \u001b[0mqcutils\u001b[0m\u001b[1;33m.\u001b[0m\u001b[0mround_datetime\u001b[0m\u001b[1;33m(\u001b[0m\u001b[0mds\u001b[0m\u001b[1;33m,\u001b[0m\u001b[0mmode\u001b[0m\u001b[1;33m=\u001b[0m\u001b[1;34m\"nearest_second\"\u001b[0m\u001b[1;33m)\u001b[0m\u001b[1;33m\u001b[0m\u001b[0m\n\u001b[0;32m      4\u001b[0m \u001b[0mfixtimestepmethod\u001b[0m \u001b[1;33m=\u001b[0m \u001b[0mqcutils\u001b[0m\u001b[1;33m.\u001b[0m\u001b[0mget_keyvaluefromcf\u001b[0m\u001b[1;33m(\u001b[0m\u001b[0mcf\u001b[0m\u001b[1;33m,\u001b[0m\u001b[1;33m[\u001b[0m\u001b[1;34m\"options\"\u001b[0m\u001b[1;33m]\u001b[0m\u001b[1;33m,\u001b[0m\u001b[1;34m\"FixTimeStepMethod\"\u001b[0m\u001b[1;33m,\u001b[0m\u001b[0mdefault\u001b[0m\u001b[1;33m=\u001b[0m\u001b[1;34m\"round\"\u001b[0m\u001b[1;33m)\u001b[0m\u001b[1;33m\u001b[0m\u001b[0m\n\u001b[0;32m      5\u001b[0m \u001b[1;32mif\u001b[0m \u001b[0mqcutils\u001b[0m\u001b[1;33m.\u001b[0m\u001b[0mCheckTimeStep\u001b[0m\u001b[1;33m(\u001b[0m\u001b[0mds\u001b[0m\u001b[1;33m)\u001b[0m\u001b[1;33m:\u001b[0m \u001b[0mqcutils\u001b[0m\u001b[1;33m.\u001b[0m\u001b[0mFixTimeStep\u001b[0m\u001b[1;33m(\u001b[0m\u001b[0mds\u001b[0m\u001b[1;33m,\u001b[0m\u001b[0mfixtimestepmethod\u001b[0m\u001b[1;33m=\u001b[0m\u001b[0mfixtimestepmethod\u001b[0m\u001b[1;33m)\u001b[0m\u001b[1;33m\u001b[0m\u001b[0m\n",
        "\u001b[1;32m/home/peter/OzFlux/OzFluxQC/scripts/qcutils.pyc\u001b[0m in \u001b[0;36mget_datetimefromxldate\u001b[1;34m(ds)\u001b[0m\n\u001b[0;32m   1025\u001b[0m     \u001b[0mxldate\u001b[0m \u001b[1;33m=\u001b[0m \u001b[0mds\u001b[0m\u001b[1;33m.\u001b[0m\u001b[0mseries\u001b[0m\u001b[1;33m[\u001b[0m\u001b[1;34m'xlDateTime'\u001b[0m\u001b[1;33m]\u001b[0m\u001b[1;33m[\u001b[0m\u001b[1;34m'Data'\u001b[0m\u001b[1;33m]\u001b[0m\u001b[1;33m\u001b[0m\u001b[0m\n\u001b[0;32m   1026\u001b[0m     \u001b[0mnRecs\u001b[0m \u001b[1;33m=\u001b[0m \u001b[0mlen\u001b[0m\u001b[1;33m(\u001b[0m\u001b[0mds\u001b[0m\u001b[1;33m.\u001b[0m\u001b[0mseries\u001b[0m\u001b[1;33m[\u001b[0m\u001b[1;34m'xlDateTime'\u001b[0m\u001b[1;33m]\u001b[0m\u001b[1;33m[\u001b[0m\u001b[1;34m'Data'\u001b[0m\u001b[1;33m]\u001b[0m\u001b[1;33m)\u001b[0m\u001b[1;33m\u001b[0m\u001b[0m\n\u001b[1;32m-> 1027\u001b[1;33m     \u001b[0mdatemode\u001b[0m \u001b[1;33m=\u001b[0m \u001b[0mint\u001b[0m\u001b[1;33m(\u001b[0m\u001b[0mds\u001b[0m\u001b[1;33m.\u001b[0m\u001b[0mglobalattributes\u001b[0m\u001b[1;33m[\u001b[0m\u001b[1;34m'xl_datemode'\u001b[0m\u001b[1;33m]\u001b[0m\u001b[1;33m)\u001b[0m\u001b[1;33m\u001b[0m\u001b[0m\n\u001b[0m\u001b[0;32m   1028\u001b[0m     \u001b[0mds\u001b[0m\u001b[1;33m.\u001b[0m\u001b[0mseries\u001b[0m\u001b[1;33m[\u001b[0m\u001b[0municode\u001b[0m\u001b[1;33m(\u001b[0m\u001b[1;34m'DateTime'\u001b[0m\u001b[1;33m)\u001b[0m\u001b[1;33m]\u001b[0m \u001b[1;33m=\u001b[0m \u001b[1;33m{\u001b[0m\u001b[1;33m}\u001b[0m\u001b[1;33m\u001b[0m\u001b[0m\n\u001b[0;32m   1029\u001b[0m     \u001b[0mds\u001b[0m\u001b[1;33m.\u001b[0m\u001b[0mseries\u001b[0m\u001b[1;33m[\u001b[0m\u001b[1;34m'DateTime'\u001b[0m\u001b[1;33m]\u001b[0m\u001b[1;33m[\u001b[0m\u001b[1;34m'Data'\u001b[0m\u001b[1;33m]\u001b[0m \u001b[1;33m=\u001b[0m \u001b[1;33m[\u001b[0m\u001b[0mNone\u001b[0m\u001b[1;33m]\u001b[0m\u001b[1;33m*\u001b[0m\u001b[0mnRecs\u001b[0m\u001b[1;33m\u001b[0m\u001b[0m\n",
        "\u001b[1;31mKeyError\u001b[0m: 'xl_datemode'"
       ]
      }
     ],
     "prompt_number": 10
    },
    {
     "cell_type": "code",
     "collapsed": false,
     "input": [
      "# write the data to an OzFlux netCDF file\n",
      "outfilename = get_outfilenamefromcf(cf)\n",
      "nc_file = nc_open_write(outfilename)\n",
      "nc_write_series(nc_file,ds)"
     ],
     "language": "python",
     "metadata": {},
     "outputs": []
    }
   ],
   "metadata": {}
  }
 ]
}