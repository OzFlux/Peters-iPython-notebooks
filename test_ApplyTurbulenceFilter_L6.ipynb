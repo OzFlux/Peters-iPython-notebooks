{
 "cells": [
  {
   "cell_type": "code",
   "execution_count": null,
   "metadata": {
    "collapsed": false
   },
   "outputs": [],
   "source": [
    "%run basics\n",
    "%matplotlib"
   ]
  },
  {
   "cell_type": "code",
   "execution_count": null,
   "metadata": {
    "collapsed": false
   },
   "outputs": [],
   "source": [
    "cf = qcio.load_controlfile(path='controlfiles')\n",
    "infilename = qcio.get_infilenamefromcf(cf)\n",
    "ds5 = qcio.nc_read_series(infilename)"
   ]
  },
  {
   "cell_type": "code",
   "execution_count": null,
   "metadata": {
    "collapsed": true
   },
   "outputs": [],
   "source": [
    "ds6_old = qcio.copy_datastructure(cf,ds5)\n",
    "qcutils.UpdateGlobalAttributes(cf,ds6_old,\"L6\")\n",
    "qcrp.ParseL6ControlFile(cf,ds6_old)\n",
    "result = qcrp.GetERFromFc(cf,ds6_old)"
   ]
  },
  {
   "cell_type": "code",
   "execution_count": null,
   "metadata": {
    "collapsed": true
   },
   "outputs": [],
   "source": [
    "ds6_new = qcio.copy_datastructure(cf,ds5)\n",
    "qcutils.UpdateGlobalAttributes(cf,ds6_new,\"L6\")\n",
    "qcrp.ParseL6ControlFile(cf,ds6_new)\n",
    "qcck.ApplyTurbulenceFilter(cf,ds6_new)\n",
    "result = qcrp.GetERFromFc2(cf,ds6_new)"
   ]
  },
  {
   "cell_type": "code",
   "execution_count": null,
   "metadata": {
    "collapsed": true
   },
   "outputs": [],
   "source": [
    "ldt = ds6_new.series[\"DateTime\"][\"Data\"]"
   ]
  },
  {
   "cell_type": "code",
   "execution_count": null,
   "metadata": {
    "collapsed": false
   },
   "outputs": [],
   "source": [
    "ER_old,ER_old_flag,ER_old_attr = qcutils.GetSeriesasMA(ds6_old,\"ER\")\n",
    "ER_new,ER_new_flag,ER_new_attr = qcutils.GetSeriesasMA(ds6_new,\"ER\")\n",
    "fig=plt.figure()\n",
    "ax1 = plt.subplot(211)\n",
    "plt.plot(ldt,ER_old,'b.')\n",
    "plt.plot(ldt,ER_new,'r+')\n",
    "ax2 = plt.subplot(212,sharex=ax1)\n",
    "plt.plot(ldt,ER_old_flag,'b.')\n",
    "plt.plot(ldt,ER_new_flag,'r+')\n",
    "plt.show()"
   ]
  },
  {
   "cell_type": "code",
   "execution_count": null,
   "metadata": {
    "collapsed": true
   },
   "outputs": [],
   "source": [
    "qcrp.ERUsingSOLO(cf,ds6_old)"
   ]
  },
  {
   "cell_type": "code",
   "execution_count": null,
   "metadata": {
    "collapsed": true
   },
   "outputs": [],
   "source": [
    "qcrp.ERUsingSOLO(cf,ds6_new)"
   ]
  },
  {
   "cell_type": "code",
   "execution_count": null,
   "metadata": {
    "collapsed": false
   },
   "outputs": [],
   "source": [
    "ER_SOLO_old,ER_SOLO_old_flag,ER_SOLO_old_attr = qcutils.GetSeriesasMA(ds6_old,\"ER_SOLO_all\")\n",
    "ER_SOLO_new,ER_SOLO_new_flag,ER_SOLO_new_attr = qcutils.GetSeriesasMA(ds6_new,\"ER_SOLO_all\")\n",
    "fig=plt.figure()\n",
    "ax1 = plt.subplot(211)\n",
    "plt.plot(ldt,ER_SOLO_old,'b.')\n",
    "plt.plot(ldt,ER_SOLO_new,'r+')\n",
    "ax2 = plt.subplot(212,sharex=ax1)\n",
    "plt.plot(ldt,ER_SOLO_old_flag,'b.')\n",
    "plt.plot(ldt,ER_SOLO_new_flag,'r+')\n",
    "plt.show()"
   ]
  },
  {
   "cell_type": "code",
   "execution_count": null,
   "metadata": {
    "collapsed": true
   },
   "outputs": [],
   "source": [
    "qcrp.ERUsingFFNET(cf,ds6_old)"
   ]
  },
  {
   "cell_type": "code",
   "execution_count": null,
   "metadata": {
    "collapsed": true
   },
   "outputs": [],
   "source": [
    "qcrp.ERUsingFFNET(cf,ds6_new)"
   ]
  },
  {
   "cell_type": "code",
   "execution_count": null,
   "metadata": {
    "collapsed": false
   },
   "outputs": [],
   "source": [
    "qcrp.ERUsingLloydTaylor(cf,ds6_old)"
   ]
  },
  {
   "cell_type": "code",
   "execution_count": null,
   "metadata": {
    "collapsed": false
   },
   "outputs": [],
   "source": [
    "qcrp.ERUsingLloydTaylor(cf,ds6_new)"
   ]
  },
  {
   "cell_type": "code",
   "execution_count": null,
   "metadata": {
    "collapsed": true
   },
   "outputs": [],
   "source": [
    "qcts.MergeSeriesUsingDict(ds6_old,merge_order=\"standard\")"
   ]
  },
  {
   "cell_type": "code",
   "execution_count": null,
   "metadata": {
    "collapsed": true
   },
   "outputs": [],
   "source": [
    "qcts.MergeSeriesUsingDict(ds6_new,merge_order=\"standard\")"
   ]
  },
  {
   "cell_type": "code",
   "execution_count": null,
   "metadata": {
    "collapsed": true
   },
   "outputs": [],
   "source": [
    "ER_SOLO_old,ER_SOLO_old_flag,ER_SOLO_old_attr = qcutils.GetSeriesasMA(ds6_old,\"ER_SOLO\")\n",
    "ER_SOLO_new,ER_SOLO_new_flag,ER_SOLO_new_attr = qcutils.GetSeriesasMA(ds6_new,\"ER_SOLO\")\n",
    "fig=plt.figure()\n",
    "ax1 = plt.subplot(211)\n",
    "plt.plot(ldt,ER_SOLO_old,'b.')\n",
    "plt.plot(ldt,ER_SOLO_new,'r+')\n",
    "ax2 = plt.subplot(212,sharex=ax1)\n",
    "plt.plot(ldt,ER_SOLO_old_flag,'b.')\n",
    "plt.plot(ldt,ER_SOLO_new_flag,'r+')\n",
    "plt.show()"
   ]
  },
  {
   "cell_type": "code",
   "execution_count": null,
   "metadata": {
    "collapsed": true
   },
   "outputs": [],
   "source": [
    "qcrp.CalculateNEE(cf,ds6_old)"
   ]
  },
  {
   "cell_type": "code",
   "execution_count": null,
   "metadata": {
    "collapsed": true
   },
   "outputs": [],
   "source": [
    "qcrp.CalculateNEE(cf,ds6_new)"
   ]
  },
  {
   "cell_type": "code",
   "execution_count": null,
   "metadata": {
    "collapsed": true
   },
   "outputs": [],
   "source": [
    "NEE_SOLO_old,NEE_SOLO_old_flag,NEE_SOLO_old_attr = qcutils.GetSeriesasMA(ds6_old,\"NEE_SOLO\")\n",
    "NEE_SOLO_new,NEE_SOLO_new_flag,NEE_SOLO_new_attr = qcutils.GetSeriesasMA(ds6_new,\"NEE_SOLO\")\n",
    "fig=plt.figure()\n",
    "ax1 = plt.subplot(211)\n",
    "plt.plot(ldt,NEE_SOLO_old,'b.')\n",
    "plt.plot(ldt,NEE_SOLO_new,'r+')\n",
    "ax2 = plt.subplot(212,sharex=ax1)\n",
    "plt.plot(ldt,NEE_SOLO_old_flag,'b.')\n",
    "plt.plot(ldt,NEE_SOLO_new_flag,'r+')\n",
    "plt.show()"
   ]
  },
  {
   "cell_type": "code",
   "execution_count": null,
   "metadata": {
    "collapsed": false
   },
   "outputs": [],
   "source": [
    "True==1"
   ]
  },
  {
   "cell_type": "code",
   "execution_count": null,
   "metadata": {
    "collapsed": true
   },
   "outputs": [],
   "source": []
  }
 ],
 "metadata": {
  "kernelspec": {
   "display_name": "Python 2",
   "language": "python",
   "name": "python2"
  },
  "language_info": {
   "codemirror_mode": {
    "name": "ipython",
    "version": 2
   },
   "file_extension": ".py",
   "mimetype": "text/x-python",
   "name": "python",
   "nbconvert_exporter": "python",
   "pygments_lexer": "ipython2",
   "version": "2.7.11"
  }
 },
 "nbformat": 4,
 "nbformat_minor": 0
}
