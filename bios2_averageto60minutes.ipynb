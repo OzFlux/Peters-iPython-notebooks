{
 "metadata": {
  "name": "",
  "signature": "sha256:1b47c61e4fac02c23a4b83fc68002acb54a9609a4cd23ded74e75a0928de9ec9"
 },
 "nbformat": 3,
 "nbformat_minor": 0,
 "worksheets": [
  {
   "cells": [
    {
     "cell_type": "code",
     "collapsed": false,
     "input": [
      "%run basics"
     ],
     "language": "python",
     "metadata": {},
     "outputs": [],
     "prompt_number": 1
    },
    {
     "cell_type": "code",
     "collapsed": false,
     "input": [
      "def GetDateIndex(datetimeseries,date,ts=30,default=0,match='exact'):\n",
      "    '''\n",
      "    PURPOSE:\n",
      "     Return the index of a date/datetime string in an array of datetime objects\n",
      "    USAGE:\n",
      "     si = qcutils.GetDateIndex(datetimeseries,date_str,ts=30,default=0,match='exact')\n",
      "    where\n",
      "     datetimeseries - array of datetime objects\n",
      "     date_str       - a date or date/time string in a format dateutils can parse\n",
      "     ts             - time step for the data, optional (integer)\n",
      "     default        - default value, optional (integer)\n",
      "     match          - type of match (string) options are:\n",
      "                      \"exact\"           - finds the specified datetime and returns\n",
      "                                          the index\n",
      "                      \"startnextday\"    - returns the index of the first time period\n",
      "                                          in the next day\n",
      "                      \"endpreviousday\"  - returns the index of the last time period\n",
      "                                          in the previous day\n",
      "                      \"startnexthour\"   - returns the index of the first time period\n",
      "                                          in the next hour\n",
      "                      \"endprevioushour\" - returns the index of the last time period\n",
      "                                          in the next hour\n",
      "                NOTE: \"startnextday\" and \"endpreviousday\" can be used to pick\n",
      "                    out time periods with an integer number of days\n",
      "    AUTHOR: PRI\n",
      "    '''\n",
      "    try:\n",
      "        if len(date)!=0:\n",
      "            i = datetimeseries.index(dateutil.parser.parse(date))\n",
      "        else:\n",
      "            if default==-1:\n",
      "                i = len(datetimeseries)-1\n",
      "            else:\n",
      "                i = default\n",
      "    except ValueError:\n",
      "        if default==-1:\n",
      "            i = len(datetimeseries)-1\n",
      "        else:\n",
      "            i = default\n",
      "    if match==\"exact\":\n",
      "        # if an exact match is required, do nothing\n",
      "        pass\n",
      "    elif match=='startnextday':\n",
      "        while abs(datetimeseries[i].hour+float(datetimeseries[i].minute)/60-float(ts)/60)>c.eps:\n",
      "            i = i + 1\n",
      "    elif match==\"startnexthour\":\n",
      "        # check the time step value\n",
      "        if int(ts)!=60:\n",
      "            # if the time step is 60 then it is always the start of the next hour\n",
      "            # we assume here that the time period ends on the datetime stamp\n",
      "            print i\n",
      "            while datetimeseries[i].minute!=ts:\n",
      "                # iterate until the minutes equal the time step\n",
      "                i = i + 1\n",
      "    elif match=='endpreviousday':\n",
      "        while abs(datetimeseries[i].hour+float(datetimeseries[i].minute)/60)>c.eps:\n",
      "            i = i - 1\n",
      "    elif match==\"endprevioushour\":\n",
      "        # check the time step value\n",
      "        if int(ts)!=60:\n",
      "            # if the time step is 60 then it is always the end of the previous hour\n",
      "            # we assume here that the time period ends on the datetime stamp\n",
      "            while datetimeseries[i].minute!=0:\n",
      "                # iterate until the minutes equal 0\n",
      "                i = i - 1\n",
      "    else:\n",
      "        log.error(\"GetDateIndex: Unrecognised match option\")\n",
      "    return i"
     ],
     "language": "python",
     "metadata": {},
     "outputs": [],
     "prompt_number": 48
    },
    {
     "cell_type": "code",
     "collapsed": false,
     "input": [
      "ncname=qcio.get_filename_dialog()"
     ],
     "language": "python",
     "metadata": {},
     "outputs": [],
     "prompt_number": 2
    },
    {
     "cell_type": "code",
     "collapsed": false,
     "input": [
      "ncfile=netCDF4.Dataset(ncname)\n",
      "ts=30"
     ],
     "language": "python",
     "metadata": {},
     "outputs": [],
     "prompt_number": 41
    },
    {
     "cell_type": "code",
     "collapsed": false,
     "input": [
      "time=ncfile.variables[\"time\"][:]\n",
      "time_units=getattr(ncfile.variables[\"time\"],\"units\")\n",
      "ldt=list(netCDF4.num2date(time,time_units))\n",
      "ldt=qcutils.RoundDateTime(ldt,ts=ts)"
     ],
     "language": "python",
     "metadata": {},
     "outputs": [],
     "prompt_number": 42
    },
    {
     "cell_type": "code",
     "collapsed": false,
     "input": [
      "si = GetDateIndex(ldt,\"2000-01-01\",default=0,ts=ts,match=\"startnexthour\")\n",
      "ei = GetDateIndex(ldt,\"2015-01-01\",default=-1,ts=ts,match=\"endprevioushour\")\n",
      "print ldt[si],ldt[ei]"
     ],
     "language": "python",
     "metadata": {},
     "outputs": [
      {
       "output_type": "stream",
       "stream": "stdout",
       "text": [
        "2000-01-01 00:30:00 2014-03-01 00:00:00\n"
       ]
      }
     ],
     "prompt_number": 43
    },
    {
     "cell_type": "code",
     "collapsed": false,
     "input": [
      "ldt_30=ldt[si:ei+1]\n",
      "ldt_60=[ldt_30[i] for i in range(len(ldt_30)) if ldt_30[i].minute==0]\n",
      "print ldt_60[0],ldt_60[1]"
     ],
     "language": "python",
     "metadata": {},
     "outputs": [
      {
       "output_type": "stream",
       "stream": "stdout",
       "text": [
        "2000-01-01 01:00:00 2000-01-01 02:00:00\n"
       ]
      }
     ],
     "prompt_number": 44
    },
    {
     "cell_type": "code",
     "collapsed": false,
     "input": [
      "var=ncfile.variables[\"SWdown\"][:]\n",
      "Fsd_30=numpy.squeeze(var[si:ei+1])\n",
      "Fsd_30_2d=numpy.reshape(Fsd_30,(len(Fsd_30)/2,2))\n",
      "Fsd_60=numpy.average(Fsd_30_2d,axis=1)"
     ],
     "language": "python",
     "metadata": {},
     "outputs": [],
     "prompt_number": 45
    },
    {
     "cell_type": "code",
     "collapsed": false,
     "input": [
      "fig=plt.figure()\n",
      "plt.plot(ldt_30,Fsd_30,'b.')\n",
      "plt.plot(ldt_60,Fsd_60,'r+')\n",
      "plt.show()"
     ],
     "language": "python",
     "metadata": {},
     "outputs": [],
     "prompt_number": 46
    },
    {
     "cell_type": "code",
     "collapsed": false,
     "input": [
      "si_30=GetDateIndex(ldt_30,\"2006-01-08\",default=0,ts=ts,match=\"startnexthour\")\n",
      "ei_30=GetDateIndex(ldt_30,\"2006-01-09\",default=-1,ts=ts,match=\"endprevioushour\")\n",
      "si_60=GetDateIndex(ldt_60,\"2006-01-08\",default=0,ts=60,match=\"startnexthour\")\n",
      "ei_60=GetDateIndex(ldt_60,\"2006-01-09\",default=-1,ts=60,match=\"endprevioushour\")"
     ],
     "language": "python",
     "metadata": {},
     "outputs": [
      {
       "output_type": "stream",
       "stream": "stdout",
       "text": [
        "105551\n"
       ]
      }
     ],
     "prompt_number": 50
    },
    {
     "cell_type": "code",
     "collapsed": false,
     "input": [
      "for i in range(si_30,ei_30+1):\n",
      "    print ldt_30[i],Fsd_30[i]"
     ],
     "language": "python",
     "metadata": {},
     "outputs": [
      {
       "output_type": "stream",
       "stream": "stdout",
       "text": [
        "2006-01-08 00:30:00 0.0\n",
        "2006-01-08 01:00:00 0.0\n",
        "2006-01-08 01:30:00 0.0\n",
        "2006-01-08 02:00:00 0.0\n",
        "2006-01-08 02:30:00 0.0\n",
        "2006-01-08 03:00:00 0.0\n",
        "2006-01-08 03:30:00 0.0\n",
        "2006-01-08 04:00:00 0.0\n",
        "2006-01-08 04:30:00 0.0\n",
        "2006-01-08 05:00:00 30.5816\n",
        "2006-01-08 05:30:00 139.55\n",
        "2006-01-08 06:00:00 250.415\n",
        "2006-01-08 06:30:00 361.28\n",
        "2006-01-08 07:00:00 470.247\n",
        "2006-01-08 07:30:00 575.454\n",
        "2006-01-08 08:00:00 675.099\n",
        "2006-01-08 08:30:00 767.478\n",
        "2006-01-08 09:00:00 851.009\n",
        "2006-01-08 09:30:00 924.264\n",
        "2006-01-08 10:00:00 985.99\n",
        "2006-01-08 10:30:00 1035.13\n",
        "2006-01-08 11:00:00 1070.84\n",
        "2006-01-08 11:30:00 1092.52\n",
        "2006-01-08 12:00:00 1099.78\n",
        "2006-01-08 12:30:00 1092.52\n",
        "2006-01-08 13:00:00 1070.84\n",
        "2006-01-08 13:30:00 1035.13\n",
        "2006-01-08 14:00:00 985.99\n",
        "2006-01-08 14:30:00 924.264\n",
        "2006-01-08 15:00:00 851.009\n",
        "2006-01-08 15:30:00 767.478\n",
        "2006-01-08 16:00:00 675.099\n",
        "2006-01-08 16:30:00 575.454\n",
        "2006-01-08 17:00:00 470.248\n",
        "2006-01-08 17:30:00 361.279\n",
        "2006-01-08 18:00:00 250.415\n",
        "2006-01-08 18:30:00 139.55\n",
        "2006-01-08 19:00:00 30.5816\n",
        "2006-01-08 19:30:00 0.0\n",
        "2006-01-08 20:00:00 0.0\n",
        "2006-01-08 20:30:00 0.0\n",
        "2006-01-08 21:00:00 0.0\n",
        "2006-01-08 21:30:00 0.0\n",
        "2006-01-08 22:00:00 0.0\n",
        "2006-01-08 22:30:00 0.0\n",
        "2006-01-08 23:00:00 0.0\n",
        "2006-01-08 23:30:00 0.0\n",
        "2006-01-09 00:00:00 0.0\n"
       ]
      }
     ],
     "prompt_number": 52
    },
    {
     "cell_type": "code",
     "collapsed": false,
     "input": [
      "for i in range(si_60,ei_60+1):\n",
      "    print ldt_60[i],Fsd_60[i]"
     ],
     "language": "python",
     "metadata": {},
     "outputs": [
      {
       "output_type": "stream",
       "stream": "stdout",
       "text": [
        "2006-01-08 00:00:00 0.0\n",
        "2006-01-08 01:00:00 0.0\n",
        "2006-01-08 02:00:00 0.0\n",
        "2006-01-08 03:00:00 0.0\n",
        "2006-01-08 04:00:00 0.0\n",
        "2006-01-08 05:00:00 15.2908\n",
        "2006-01-08 06:00:00 194.982\n",
        "2006-01-08 07:00:00 415.764\n",
        "2006-01-08 08:00:00 625.277\n",
        "2006-01-08 09:00:00 809.243\n",
        "2006-01-08 10:00:00 955.127\n",
        "2006-01-08 11:00:00 1052.99\n",
        "2006-01-08 12:00:00 1096.15\n",
        "2006-01-08 13:00:00 1081.68\n",
        "2006-01-08 14:00:00 1010.56\n",
        "2006-01-08 15:00:00 887.637\n",
        "2006-01-08 16:00:00 721.288\n",
        "2006-01-08 17:00:00 522.851\n",
        "2006-01-08 18:00:00 305.847\n",
        "2006-01-08 19:00:00 85.0658\n",
        "2006-01-08 20:00:00 0.0\n",
        "2006-01-08 21:00:00 0.0\n",
        "2006-01-08 22:00:00 0.0\n",
        "2006-01-08 23:00:00 0.0\n",
        "2006-01-09 00:00:00 0.0\n"
       ]
      }
     ],
     "prompt_number": 53
    },
    {
     "cell_type": "code",
     "collapsed": false,
     "input": [],
     "language": "python",
     "metadata": {},
     "outputs": []
    }
   ],
   "metadata": {}
  }
 ]
}