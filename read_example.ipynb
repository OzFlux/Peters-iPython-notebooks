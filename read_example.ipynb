{
 "metadata": {
  "name": "",
  "signature": "sha256:8de9657acd2d51a2997f279607e11a92359f54e05220b71c42fbe03555cbb79e"
 },
 "nbformat": 3,
 "nbformat_minor": 0,
 "worksheets": [
  {
   "cells": [
    {
     "cell_type": "code",
     "collapsed": false,
     "input": [
      "import datetime\n",
      "import matplotlib.pyplot as plt\n",
      "import netCDF4\n",
      "import os\n",
      "import pandas as pd"
     ],
     "language": "python",
     "metadata": {},
     "outputs": [],
     "prompt_number": 1
    },
    {
     "cell_type": "code",
     "collapsed": false,
     "input": [
      "def read_netcdf(nc_full_name,variable_list=[]):\n",
      "    # open the netCDF file\n",
      "    nc_file = netCDF4.Dataset(nc_full_name,\"r\")\n",
      "    # creat the attribute dictionary\n",
      "    attr = {}\n",
      "    attr[\"global\"] = {}\n",
      "    attr[\"variable\"] = {}\n",
      "    # get the global attributes\n",
      "    gattrlist = nc_file.ncattrs()\n",
      "    if len(gattrlist)!=0:\n",
      "        for item in gattrlist:\n",
      "            attr[\"global\"][item] = getattr(nc_file,item)\n",
      "    # get a list of Python datetimes\n",
      "    time = time = nc_file.variables[\"time\"][:]\n",
      "    time_units = getattr(nc_file.variables[\"time\"],\"units\")\n",
      "    dt = list(netCDF4.num2date(time,time_units))\n",
      "    # get a list of variables to read from the netCDF file\n",
      "    # was a variable list passed in as variable_list?\n",
      "    if len(variable_list)==0:\n",
      "        # if not, get the variable list from the netCDF file contents\n",
      "        variable_list = nc_file.variables.keys()\n",
      "    else:\n",
      "        # if so, add the QC flags to the list entered as an argument\n",
      "        flag_list = []\n",
      "        for item in variable_list: flag_list.append(item+\"_QCFlag\")\n",
      "        variable_list = variable_list+flag_list\n",
      "    # create the data dictionary\n",
      "    data = {}\n",
      "    # loop over the variables to be read\n",
      "    for item in variable_list:\n",
      "        # get the number of dimensions\n",
      "        # variables in OzFlux netCDF files can have 1 (time) or 3 dimensions (time,latitude,longitude)\n",
      "        ndims = len(nc_file.variables[item].shape)\n",
      "        if ndims==1:\n",
      "            data[item] = ncFile.variables[item][:]\n",
      "        elif ndims==3:\n",
      "            data[item] = nc_file.variables[item][:,0,0]\n",
      "        else:\n",
      "            raise Exception(\"unrecognised number of dimensions for variable\"+str(item))\n",
      "        # get the variable attributes\n",
      "        vattrlist = nc_file.variables[item].ncattrs()\n",
      "        if len(vattrlist)!=0:\n",
      "            attr[\"variable\"][item] = {}\n",
      "            for vattr in vattrlist:\n",
      "                attr[\"variable\"][item][vattr] = getattr(nc_file.variables[item],vattr)\n",
      "    # close the netCDF file\n",
      "    nc_file.close()\n",
      "    # convert the dictionary to a Pandas data frame\n",
      "    df = pd.DataFrame(data,index=dt)\n",
      "    return df,attr"
     ],
     "language": "python",
     "metadata": {},
     "outputs": [],
     "prompt_number": 2
    },
    {
     "cell_type": "code",
     "collapsed": false,
     "input": [
      "nc_full_name = \"../../Sites/Whroo/Data/Processed/all/Whroo_2011_to_2014_L6.nc\"\n",
      "variable_list = ['Fsd','Ta','VPD','NEE_SOLO']"
     ],
     "language": "python",
     "metadata": {},
     "outputs": [],
     "prompt_number": 3
    },
    {
     "cell_type": "code",
     "collapsed": false,
     "input": [
      "df,attr = read_netcdf(nc_full_name,variable_list=variable_list)"
     ],
     "language": "python",
     "metadata": {},
     "outputs": [],
     "prompt_number": 4
    },
    {
     "cell_type": "code",
     "collapsed": false,
     "input": [
      "fig=plt.figure()\n",
      "ax1 = plt.subplot(411)\n",
      "ax1.plot(df['Fsd'])\n",
      "ax2 = plt.subplot(412)\n",
      "ax2.plot(df['Ta'])\n",
      "ax3 = plt.subplot(413)\n",
      "ax3.plot(df['VPD'])\n",
      "ax4 = plt.subplot(414)\n",
      "ax4.plot(df['NEE_SOLO'])\n",
      "plt.show()"
     ],
     "language": "python",
     "metadata": {},
     "outputs": [],
     "prompt_number": 5
    },
    {
     "cell_type": "code",
     "collapsed": false,
     "input": [
      "attr.keys()"
     ],
     "language": "python",
     "metadata": {},
     "outputs": [
      {
       "metadata": {},
       "output_type": "pyout",
       "prompt_number": 6,
       "text": [
        "['variable', 'global']"
       ]
      }
     ],
     "prompt_number": 6
    },
    {
     "cell_type": "code",
     "collapsed": false,
     "input": [
      "attr[\"variable\"].keys()"
     ],
     "language": "python",
     "metadata": {},
     "outputs": [
      {
       "metadata": {},
       "output_type": "pyout",
       "prompt_number": 8,
       "text": [
        "['Fsd',\n",
        " 'Fsd_QCFlag',\n",
        " 'NEE_SOLO_QCFlag',\n",
        " 'VPD',\n",
        " 'NEE_SOLO',\n",
        " 'Ta_QCFlag',\n",
        " 'VPD_QCFlag',\n",
        " 'Ta']"
       ]
      }
     ],
     "prompt_number": 8
    },
    {
     "cell_type": "code",
     "collapsed": false,
     "input": [],
     "language": "python",
     "metadata": {},
     "outputs": []
    }
   ],
   "metadata": {}
  }
 ]
}