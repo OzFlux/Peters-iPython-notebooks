{
 "metadata": {
  "name": "",
  "signature": "sha256:a389bddb5399778cfb368f6556abb02a24b06200b26e9e9692b6a4d2dfef4071"
 },
 "nbformat": 3,
 "nbformat_minor": 0,
 "worksheets": [
  {
   "cells": [
    {
     "cell_type": "code",
     "collapsed": false,
     "input": [
      "%run basics"
     ],
     "language": "python",
     "metadata": {},
     "outputs": [],
     "prompt_number": 2
    },
    {
     "cell_type": "code",
     "collapsed": false,
     "input": [
      "tower_name=qcio.get_filename_dialog(path=\"../../Sites/\")\n",
      "aws_name=qcio.get_filename_dialog(path=\"../../Sites/\")"
     ],
     "language": "python",
     "metadata": {},
     "outputs": [],
     "prompt_number": 3
    },
    {
     "cell_type": "code",
     "collapsed": false,
     "input": [
      "ds_tower=qcio.nc_read_series(tower_name)"
     ],
     "language": "python",
     "metadata": {},
     "outputs": [],
     "prompt_number": 4
    },
    {
     "cell_type": "code",
     "collapsed": false,
     "input": [
      "ds_aws=qcio.nc_read_series(aws_name)"
     ],
     "language": "python",
     "metadata": {},
     "outputs": [],
     "prompt_number": 5
    },
    {
     "cell_type": "code",
     "collapsed": false,
     "input": [
      "dt_tower=ds_tower.series[\"DateTime\"][\"Data\"]\n",
      "dt_aws=ds_aws.series[\"DateTime\"][\"Data\"]"
     ],
     "language": "python",
     "metadata": {},
     "outputs": [],
     "prompt_number": 6
    },
    {
     "cell_type": "code",
     "collapsed": false,
     "input": [
      "startdate = \"2011-01-01 00:30\"\n",
      "enddate = \"2012-01-01 00:00\"\n",
      "si_tower=qcutils.GetDateIndex(dt_tower,startdate)\n",
      "ei_tower=qcutils.GetDateIndex(dt_tower,enddate)\n",
      "si_aws=qcutils.GetDateIndex(dt_aws,startdate)\n",
      "ei_aws=qcutils.GetDateIndex(dt_aws,enddate)\n",
      "ldt_towere=dt_tower[si_tower:ei_tower+1]\n",
      "ldt_aws=dt_aws[si_aws:ei_aws+1]"
     ],
     "language": "python",
     "metadata": {},
     "outputs": [],
     "prompt_number": 18
    },
    {
     "cell_type": "code",
     "collapsed": false,
     "input": [
      "Ts_tower,f,a=qcutils.GetSeriesasMA(ds_tower,\"Ts\")\n",
      "Flu_tower,f,a=qcutils.GetSeriesasMA(ds_tower,\"Flu\")\n",
      "Ts_bios,f,a=qcutils.GetSeriesasMA(ds_bios,\"Ts\",si=si_bios,ei=ei_bios)\n",
      "Flu_bios,f,a=qcutils.GetSeriesasMA(ds_bios,\"Flu\",si=si_bios,ei=ei_bios)"
     ],
     "language": "python",
     "metadata": {},
     "outputs": [],
     "prompt_number": 19
    },
    {
     "cell_type": "code",
     "collapsed": false,
     "input": [
      "fig=plt.figure(1)\n",
      "ax1=plt.subplot(411)\n",
      "ax1.plot(dt_tower,Ts_tower,'b.')\n",
      "plt.ylabel(\"Ts_tower\")\n",
      "ax2=plt.subplot(412)\n",
      "ax2.plot(dt_bios,Ts_bios,'b.')\n",
      "plt.ylabel(\"Ts_BIOS2\")\n",
      "ax3=plt.subplot(413)\n",
      "ax3.plot(dt_tower,Flu_tower,'r+')\n",
      "plt.ylabel(\"Flu_tower\")\n",
      "ax4=plt.subplot(414)\n",
      "ax4.plot(dt_bios,Flu_bios,'r+')\n",
      "plt.ylabel(\"Flu_BIOS2\")\n",
      "plt.show()"
     ],
     "language": "python",
     "metadata": {},
     "outputs": [],
     "prompt_number": 22
    },
    {
     "cell_type": "code",
     "collapsed": false,
     "input": [],
     "language": "python",
     "metadata": {},
     "outputs": []
    }
   ],
   "metadata": {}
  }
 ]
}