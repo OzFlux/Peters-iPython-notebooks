{
 "metadata": {
  "name": "",
  "signature": "sha256:523a0b359e256d88c2ce45eb0f3bfcfa8854f4a0794c975ae22545db426ce8cc"
 },
 "nbformat": 3,
 "nbformat_minor": 0,
 "worksheets": [
  {
   "cells": [
    {
     "cell_type": "code",
     "collapsed": false,
     "input": [
      "%run basics\n",
      "%matplotlib\n",
      "import xlwt"
     ],
     "language": "python",
     "metadata": {},
     "outputs": [
      {
       "output_type": "stream",
       "stream": "stdout",
       "text": [
        "Using matplotlib backend: Qt4Agg\n"
       ]
      }
     ],
     "prompt_number": 1
    },
    {
     "cell_type": "code",
     "collapsed": false,
     "input": [
      "def xl_write_data(xlSheet,data):\n",
      "    xlCol = 0\n",
      "    # write the data to the xl file\n",
      "    series_list = data.keys()\n",
      "    xlSheet.write(1,xlCol,'Day')\n",
      "    nrows = len(data[\"DateTime\"])\n",
      "    ncols = len(series_list)\n",
      "    d_xf = xlwt.easyxf(num_format_str='dd/mm/yyyy')\n",
      "    for j in range(nrows):\n",
      "        xlSheet.write(j+2,xlCol,data[\"DateTime\"][j],d_xf)\n",
      "    series_list.remove(\"DateTime\")\n",
      "    series_list.sort()\n",
      "    for item in series_list:\n",
      "        xlCol = xlCol + 1\n",
      "        xlSheet.write(0,xlCol,data[item][\"units\"])\n",
      "        xlSheet.write(1,xlCol,item)\n",
      "        d_xf = xlwt.easyxf(num_format_str=data[item][\"format\"])\n",
      "        for j in range(nrows):\n",
      "            xlSheet.write(j+2,xlCol,float(data[item][\"data\"][j]),d_xf)"
     ],
     "language": "python",
     "metadata": {},
     "outputs": [],
     "prompt_number": 2
    },
    {
     "cell_type": "code",
     "collapsed": false,
     "input": [
      "#nc_name = \"../../Sites/HowardSprings/Data/Processed/all/HowardSprings_2002_to_2014_L6.nc\"\n",
      "nc_name = \"../../Sites/Tumbarumba/Data/Processed/all/yearly/Tumbarumba_2001_to_2014_L6.nc\"\n",
      "xl_name = nc_name.replace(\".nc\",\"_Summary.xls\")\n",
      "cf = qcio.get_controlfilecontents(\"../controlfiles/standard/L6_summary.txt\")"
     ],
     "language": "python",
     "metadata": {},
     "outputs": [],
     "prompt_number": 3
    },
    {
     "cell_type": "code",
     "collapsed": false,
     "input": [
      "ds = qcio.nc_read_series(nc_name)\n",
      "dt = ds.series[\"DateTime\"][\"Data\"]\n",
      "ts = int(ds.globalattributes[\"time_step\"])"
     ],
     "language": "python",
     "metadata": {},
     "outputs": [],
     "prompt_number": 4
    },
    {
     "cell_type": "code",
     "collapsed": false,
     "input": [
      "# calculate ET if it is not present\n",
      "if \"ET\" not in ds.series.keys():\n",
      "    Fe,flag,attr = qcutils.GetSeriesasMA(ds,\"Fe\")\n",
      "    ET = Fe*ts*60/c.Lv\n",
      "    attr[\"long_name\"] = \"Evapo-transpiration calculated from latent heat flux\"\n",
      "    attr[\"units\"] = \"mm\"\n",
      "    qcutils.CreateSeries(ds,\"ET\",ET,Flag=flag,Attr=attr)"
     ],
     "language": "python",
     "metadata": {},
     "outputs": [],
     "prompt_number": 5
    },
    {
     "cell_type": "code",
     "collapsed": false,
     "input": [
      "# adjust units of NEE, NEP, GPP and Fre\n",
      "nee_list = [item for item in cf[\"Variables\"].keys() if \"NEE\" in item]\n",
      "nep_list = [item for item in cf[\"Variables\"].keys() if \"NEP\" in item]\n",
      "gpp_list = [item for item in cf[\"Variables\"].keys() if \"GPP\" in item]\n",
      "fre_list = [item for item in cf[\"Variables\"].keys() if \"Fre\" in item]\n",
      "co2_list = nee_list+nep_list+gpp_list+fre_list\n",
      "for item in co2_list:\n",
      "    data,flag,attr = qcutils.GetSeriesasMA(ds,item)\n",
      "    data = data*12.01*ts*60/1E6\n",
      "    attr[\"units\"] = \"gC/m2\"\n",
      "    qcutils.CreateSeries(ds,item,data,Flag=flag,Attr=attr)"
     ],
     "language": "python",
     "metadata": {},
     "outputs": [],
     "prompt_number": 6
    },
    {
     "cell_type": "code",
     "collapsed": false,
     "input": [
      "# open the Excel workbook\n",
      "xl_file = xlwt.Workbook()"
     ],
     "language": "python",
     "metadata": {},
     "outputs": [],
     "prompt_number": 22
    },
    {
     "cell_type": "code",
     "collapsed": false,
     "input": [
      "# daily averages and totals\n",
      "first_date = dt[0]\n",
      "si = qcutils.GetDateIndex(dt,str(first_date),ts=ts,default=0,match=\"startnextday\")\n",
      "start_date = dt[si]\n",
      "last_date = dt[-1]\n",
      "ei = qcutils.GetDateIndex(dt,str(last_date),ts=ts,default=len(dt)-1,match=\"endpreviousday\")\n",
      "end_date = dt[ei]\n",
      "ldt = dt[si:ei+1]\n",
      "ntsInDay = int(24.0*60.0/float(ts))\n",
      "nDays = int(len(ldt))/ntsInDay\n",
      "ldt_daily = [ldt[0]+datetime.timedelta(days=i) for i in range(0,nDays)]\n",
      "daily_dict = {\"DateTime\":ldt_daily}\n",
      "for item in cf[\"Variables\"].keys():\n",
      "    if item not in ds.series.keys(): continue\n",
      "    daily_dict[item] = {}\n",
      "    data_1d,flag,attr = qcutils.GetSeriesasMA(ds,item,si=si,ei=ei)\n",
      "    daily_dict[item][\"units\"] = attr[\"units\"]\n",
      "    data_2d = data_1d.reshape(nDays,ntsInDay)\n",
      "    if cf[\"Variables\"][item][\"operator\"].lower()==\"average\":\n",
      "        daily_dict[item][\"data\"] = numpy.ma.average(data_2d,axis=1)\n",
      "    elif cf[\"Variables\"][item][\"operator\"].lower()==\"sum\":\n",
      "        daily_dict[item][\"data\"] = numpy.ma.sum(data_2d,axis=1)\n",
      "        daily_dict[item][\"units\"] = daily_dict[item][\"units\"]+\"/day\"\n",
      "    else:\n",
      "        print \"unrecognised operator\"\n",
      "    daily_dict[item][\"format\"] = cf[\"Variables\"][item][\"format\"]\n",
      "# add the daily worksheet to the summary Excel file\n",
      "xl_sheet = xl_file.add_sheet(\"Daily\")\n",
      "xl_write_data(xl_sheet,daily_dict)"
     ],
     "language": "python",
     "metadata": {},
     "outputs": [],
     "prompt_number": 23
    },
    {
     "cell_type": "code",
     "collapsed": false,
     "input": [
      "# annual averages and totals\n",
      "start_year = ldt[0].year\n",
      "end_year = ldt[-1].year\n",
      "year_list = range(start_year,end_year+1,1)\n",
      "annual_dict = {\"DateTime\":[datetime.datetime(yr,1,1) for yr in year_list]}\n",
      "# create arrays in annual_dict\n",
      "for item in cf[\"Variables\"].keys():\n",
      "    annual_dict[item] = {\"data\":numpy.array([float(-9999)]*len(year_list))}\n",
      "annual_dict[\"ET\"] = {\"data\":numpy.array([float(-9999)]*len(year_list))}\n",
      "for i,year in enumerate(year_list):\n",
      "    if ts==30:\n",
      "        start_date = str(year)+\"-01-01 00:30\"\n",
      "    elif ts==60:\n",
      "        start_date = str(year)+\"-01-01 01:00\"\n",
      "    end_date = str(year+1)+\"-01-01 00:00\"\n",
      "    si = qcutils.GetDateIndex(dt,start_date,ts=ts,default=0)\n",
      "    ei = qcutils.GetDateIndex(dt,end_date,ts=ts,default=len(dt)-1)\n",
      "    for item in cf[\"Variables\"].keys():\n",
      "        if item not in ds.series.keys(): continue\n",
      "        data_1d,flag,attr = qcutils.GetSeriesasMA(ds,item,si=si,ei=ei)\n",
      "        annual_dict[item][\"units\"] = attr[\"units\"]\n",
      "        if cf[\"Variables\"][item][\"operator\"].lower()==\"average\":\n",
      "            annual_dict[item][\"data\"][i] = numpy.ma.average(data_1d)\n",
      "        elif cf[\"Variables\"][item][\"operator\"].lower()==\"sum\":\n",
      "            annual_dict[item][\"data\"][i] = numpy.ma.sum(data_1d)\n",
      "            annual_dict[item][\"units\"] = annual_dict[item][\"units\"]+\"/year\"\n",
      "        else:\n",
      "            print \"unrecognised operator\"\n",
      "        annual_dict[item][\"format\"] = cf[\"Variables\"][item][\"format\"]\n",
      "# add the annual worksheet to the summary Excel file\n",
      "xl_sheet = xl_file.add_sheet(\"Annual\")\n",
      "xl_write_data(xl_sheet,annual_dict)"
     ],
     "language": "python",
     "metadata": {},
     "outputs": [],
     "prompt_number": 24
    },
    {
     "cell_type": "code",
     "collapsed": false,
     "input": [
      "# cumulative totals\n",
      "h2o_list = [\"Precip\",\"ET\"]\n",
      "nee_list = [item for item in cf[\"Variables\"].keys() if \"NEE\" in item]\n",
      "nep_list = [item for item in cf[\"Variables\"].keys() if \"NEP\" in item]\n",
      "gpp_list = [item for item in cf[\"Variables\"].keys() if \"GPP\" in item]\n",
      "fre_list = [item for item in cf[\"Variables\"].keys() if \"Fre\" in item]\n",
      "co2_list = nee_list+nep_list+gpp_list+fre_list\n",
      "series_list = h2o_list+co2_list\n",
      "cumulative_dict = {}\n",
      "for i,year in enumerate(year_list):\n",
      "    cumulative_dict[str(year)] = {}\n",
      "    if ts==30:\n",
      "        start_date = str(year)+\"-01-01 00:30\"\n",
      "    elif ts==60:\n",
      "        start_date = str(year)+\"-01-01 01:00\"\n",
      "    end_date = str(year+1)+\"-01-01 00:00\"\n",
      "    si = qcutils.GetDateIndex(dt,start_date,ts=ts,default=0)\n",
      "    ei = qcutils.GetDateIndex(dt,end_date,ts=ts,default=len(dt)-1)\n",
      "    ldt = dt[si:ei+1]\n",
      "    cumulative_dict[str(year)][\"DateTime\"] = ldt\n",
      "    for item in series_list:\n",
      "        cumulative_dict[str(year)][item] = {}\n",
      "        data,flag,attr = qcutils.GetSeriesasMA(ds,item,si=si,ei=ei)\n",
      "        cumulative_dict[str(year)][item][\"data\"] = numpy.ma.cumsum(data)\n",
      "        cumulative_dict[str(year)][item][\"units\"] = attr[\"units\"]+\"/year\"\n",
      "        cumulative_dict[str(year)][item][\"format\"] = cf[\"Variables\"][item][\"format\"]\n",
      "    xl_sheet = xl_file.add_sheet(\"Cumulative(\"+str(year)+\")\")\n",
      "    xl_write_data(xl_sheet,cumulative_dict[str(year)])"
     ],
     "language": "python",
     "metadata": {},
     "outputs": [],
     "prompt_number": 25
    },
    {
     "cell_type": "code",
     "collapsed": false,
     "input": [
      "# close the Excel workbook\n",
      "xl_file.save(xl_name)"
     ],
     "language": "python",
     "metadata": {},
     "outputs": [],
     "prompt_number": 26
    },
    {
     "cell_type": "code",
     "collapsed": false,
     "input": [
      "# plot time series of NEE, GPP and Reco\n",
      "fig=plt.figure(1)\n",
      "plt.plot(daily_dict[\"DateTime\"],daily_dict[\"NEE_SOLO\"][\"data\"])\n",
      "plt.plot(daily_dict[\"DateTime\"],daily_dict[\"GPP_SOLO\"][\"data\"])\n",
      "plt.plot(daily_dict[\"DateTime\"],daily_dict[\"Fre_SOLO\"][\"data\"])\n",
      "plt.show()\n",
      "fig=plt.figure(2)\n",
      "plt.plot(daily_dict[\"DateTime\"],daily_dict[\"NEE_FFNET\"][\"data\"])\n",
      "plt.plot(daily_dict[\"DateTime\"],daily_dict[\"GPP_FFNET\"][\"data\"])\n",
      "plt.plot(daily_dict[\"DateTime\"],daily_dict[\"Fre_FFNET\"][\"data\"])\n",
      "plt.show()"
     ],
     "language": "python",
     "metadata": {},
     "outputs": [],
     "prompt_number": 28
    },
    {
     "cell_type": "code",
     "collapsed": false,
     "input": [],
     "language": "python",
     "metadata": {},
     "outputs": []
    }
   ],
   "metadata": {}
  }
 ]
}