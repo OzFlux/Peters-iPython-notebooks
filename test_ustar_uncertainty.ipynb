{
 "cells": [
  {
   "cell_type": "code",
   "execution_count": 1,
   "metadata": {
    "collapsed": false
   },
   "outputs": [
    {
     "name": "stdout",
     "output_type": "stream",
     "text": [
      "Using matplotlib backend: Qt4Agg\n"
     ]
    }
   ],
   "source": [
    "%run basics\n",
    "%matplotlib\n",
    "import collections\n",
    "import qcrpLL\n",
    "from matplotlib.patches import Polygon\n",
    "import xlrd"
   ]
  },
  {
   "cell_type": "code",
   "execution_count": 2,
   "metadata": {
    "collapsed": true
   },
   "outputs": [],
   "source": [
    "def normal_dist(bins,mu,sigma):\n",
    "    return 1/(sigma*numpy.sqrt(2*numpy.pi))*numpy.exp(-(bins-mu)**2 /(2*sigma**2))"
   ]
  },
  {
   "cell_type": "code",
   "execution_count": 3,
   "metadata": {
    "collapsed": true
   },
   "outputs": [],
   "source": [
    "def colour_boxes(ax,bp,data,nsites,nalts):\n",
    "    boxColors = {1:['darkkhaki'],2:['darkkhaki','royalblue'],\n",
    "                 3:['red','darkkhaki','royalblue']}\n",
    "    numBoxes = nsites*nalts\n",
    "    medians = list(range(numBoxes))\n",
    "    for i in range(numBoxes):\n",
    "        box = bp['boxes'][i]\n",
    "        boxX = []\n",
    "        boxY = []\n",
    "        for j in range(5):\n",
    "            boxX.append(box.get_xdata()[j])\n",
    "            boxY.append(box.get_ydata()[j])\n",
    "        boxCoords = list(zip(boxX, boxY))\n",
    "        # Alternate between Dark Khaki and Royal Blue\n",
    "        k = i % nalts\n",
    "        boxPolygon = Polygon(boxCoords, facecolor=boxColors[nalts][k])\n",
    "        ax.add_patch(boxPolygon)\n",
    "        # Now draw the median lines back over what we just filled in\n",
    "        med = bp['medians'][i]\n",
    "        medianX = []\n",
    "        medianY = []\n",
    "        for j in range(2):\n",
    "            medianX.append(med.get_xdata()[j])\n",
    "            medianY.append(med.get_ydata()[j])\n",
    "            ax.plot(medianX, medianY, 'k')\n",
    "            medians[i] = medianY[0]"
   ]
  },
  {
   "cell_type": "code",
   "execution_count": 4,
   "metadata": {
    "collapsed": true
   },
   "outputs": [],
   "source": [
    "def get_data_xlsheet(sheet,frow,label):\n",
    "    header = sheet.row_values(frow-1)\n",
    "    col = header.index(label)\n",
    "    lrow = int(sheet.nrows)\n",
    "    a = numpy.array(active_sheet.col_values(col)[frow:lrow])\n",
    "    idx = numpy.where(~numpy.isnan(a)&(a!=-9999))[0]\n",
    "    return a[idx]"
   ]
  },
  {
   "cell_type": "code",
   "execution_count": 5,
   "metadata": {
    "collapsed": false
   },
   "outputs": [],
   "source": [
    "mu,sigma = 0.41,0.1\n",
    "s = numpy.random.normal(mu,sigma,100)\n",
    "idx = numpy.where(s>0)[0]\n",
    "s2 = s[idx]\n",
    "fig,axs = plt.subplots(2,figsize=(6,6))\n",
    "count, bins, ignored = axs[0].hist(s,10,normed=True)\n",
    "axs[0].plot(bins,normal_dist(bins,mu,sigma),linewidth=2, color='r')\n",
    "count, bins, ignored = axs[1].hist(s2,10,normed=True)\n",
    "axs[1].plot(bins,normal_dist(bins,mu,sigma),linewidth=2, color='r')\n",
    "plt.show()"
   ]
  },
  {
   "cell_type": "code",
   "execution_count": 6,
   "metadata": {
    "collapsed": true
   },
   "outputs": [],
   "source": [
    "cf_name = \"controlfiles/Whroo/Portal/L6_uncertainty.txt\"\n",
    "cf = qcio.get_controlfilecontents(cf_name)\n",
    "in_name = qcio.get_infilenamefromcf(cf)\n",
    "ds = qcio.nc_read_series(in_name)\n",
    "ts = int(ds.globalattributes[\"time_step\"])\n",
    "ntsperday = float(24)*float(60)/float(ts)\n",
    "ldt = ds.series[\"DateTime\"][\"Data\"]\n",
    "qcrp.ParseL6ControlFile(cf,ds)"
   ]
  },
  {
   "cell_type": "code",
   "execution_count": 7,
   "metadata": {
    "collapsed": false
   },
   "outputs": [],
   "source": [
    "months = collections.OrderedDict()\n",
    "months[\"ER_LT\"] = collections.OrderedDict()\n",
    "months[\"GPP_LT\"] = collections.OrderedDict()\n",
    "months[\"NEE_LT\"] = collections.OrderedDict()\n",
    "info = {\"window_length\":30,\"window_offset\":5,\"ts\":ts}\n",
    "days_at_beginning = float(info[\"window_length\"])/2 - float(info[\"window_offset\"])/2\n",
    "int_list = [\"rb_int\",\"E0_int\"]\n",
    "tts_list = [\"rb_tts\",\"E0_tts\"]\n",
    "\n",
    "si = qcutils.GetDateIndex(ldt,str(ldt[0]),ts=ts,default=0,match=\"startnextmonth\")\n",
    "ei = qcutils.GetDateIndex(ldt,str(ldt[-1]),ts=ts,default=len(ldt)-1,match=\"endpreviousmonth\")\n",
    "ldt = ldt[si:ei+1]\n",
    "Fsd,Fsd_flag,Fsd_attr = qcutils.GetSeriesasMA(ds,\"Fsd\",si=si,ei=ei)\n",
    "Ta,Ta_flag,Ta_attr = qcutils.GetSeriesasMA(ds,\"Ta\",si=si,ei=ei)\n",
    "if \"solar_altitude\" not in ds.series.keys(): qcts.get_synthetic_fsd(ds)\n",
    "Fsd_syn,f,a = qcutils.GetSeriesasMA(ds,\"Fsd_syn\",si=si,ei=ei)\n",
    "sa,f,a = qcutils.GetSeriesasMA(ds,\"solar_altitude\",si=si,ei=ei)\n",
    "ustar,ustar_flag,ustar_attr = qcutils.GetSeriesasMA(ds,\"ustar\",si=si,ei=ei)\n",
    "Fc,Fc_flag,Fc_attr = qcutils.GetSeriesasMA(ds,\"Fc\",si=si,ei=ei)\n",
    "Fc_ok = numpy.ma.masked_where((Fc_flag!=0)|(ustar_flag!=0)|(Ta_flag!=0),Fc,copy=True)\n",
    "Ta_ok = numpy.ma.masked_where((Fc_flag!=0)|(ustar_flag!=0)|(Ta_flag!=0),Ta,copy=True)"
   ]
  },
  {
   "cell_type": "code",
   "execution_count": 8,
   "metadata": {
    "collapsed": false
   },
   "outputs": [
    {
     "name": "stdout",
     "output_type": "stream",
     "text": [
      "2016-05-02 14:31:09.735316 0\n",
      "2016-05-02 14:31:19.129018 10\n",
      "2016-05-02 14:31:28.496607 20\n",
      "2016-05-02 14:31:37.899276 30\n",
      "2016-05-02 14:31:47.454362 40\n",
      "2016-05-02 14:31:56.984028 50\n",
      "2016-05-02 14:32:06.485962 60\n",
      "2016-05-02 14:32:16.021169 70\n",
      "2016-05-02 14:32:25.419779 80\n",
      "2016-05-02 14:32:34.804118 90\n",
      "2016-05-02 14:32:44.172359 99\n"
     ]
    }
   ],
   "source": [
    "nthresholds = len(s2)\n",
    "for i,ustar_threshold in enumerate(s2):\n",
    "    data = {}\n",
    "    if (i%10)==0: print datetime.datetime.now(),i\n",
    "    #print datetime.datetime.now(),i\n",
    "    ustar_dict = qcrp.get_ustar_thresholds_annual(ldt,ustar_threshold)\n",
    "    # get the ustar indicator (1==>turbulent)\n",
    "    turb_ind = qcrp.get_turbulence_indicator_ustar(ldt,ustar,ustar_dict,ts)\n",
    "    Fc_filtered = numpy.ma.masked_where(turb_ind[\"values\"]==0,Fc_ok,copy=True)\n",
    "    Ta_filtered = numpy.ma.masked_where(turb_ind[\"values\"]==0,Ta_ok,copy=True)\n",
    "    # get the daytime indicator (1==>daytime)\n",
    "    day_ind = qcrp.get_day_indicator(cf,Fsd,Fsd_syn,sa)\n",
    "    \n",
    "    ER_night = numpy.ma.masked_where(day_ind[\"values\"]==1,Fc_filtered,copy=True)\n",
    "    Ta_night = numpy.ma.masked_where(day_ind[\"values\"]==1,Ta_filtered,copy=True)\n",
    "    # get rb and E0 for the windows\n",
    "    LT_results = qcrpLL.get_LT_params(ldt,ER_night,Ta_night,info)\n",
    "    # interpolate rb and E0 across missing windows\n",
    "    LT_results[\"rb_int\"] = qcrpLL.interp_params(LT_results[\"rb\"])\n",
    "    LT_results[\"E0_int\"] = qcrpLL.interp_params(LT_results[\"E0\"])\n",
    "    # repeat windowed rb and Eo across the tower time step\n",
    "    for tts_item,int_item in zip(tts_list,int_list):\n",
    "        beginning = numpy.ones(days_at_beginning*ntsperday)*LT_results[int_item][0]\n",
    "        middle = numpy.repeat(LT_results[int_item],info[\"window_offset\"]*ntsperday)\n",
    "        nend = len(ldt) - (len(beginning)+len(middle))\n",
    "        end = numpy.ones(nend)*LT_results[int_item][-1]\n",
    "        LT_results[tts_item] = numpy.concatenate((beginning,middle,end))\n",
    "    # get the Lloyd-Taylor ecosystem respiration\n",
    "    ER_LT_all = qcrpLL.ER_LloydTaylor(Ta,LT_results[\"rb_tts\"],LT_results[\"E0_tts\"])\n",
    "    # merge with observations\n",
    "    data[\"ER_LT\"] = numpy.ma.copy(ER_night)\n",
    "    idx = numpy.where(numpy.ma.getmaskarray(data[\"ER_LT\"])==True)[0]\n",
    "    data[\"ER_LT\"][idx] = ER_LT_all[idx]\n",
    "    # get the NEE\n",
    "    data[\"NEE_LT\"] = numpy.ma.copy(Fc)\n",
    "    idx = numpy.where(day_ind[\"values\"]==0)[0]\n",
    "    data[\"NEE_LT\"][idx] = data[\"ER_LT\"][idx]\n",
    "    # partition NEE to get GPP\n",
    "    data[\"GPP_LT\"] = float(-1)*data[\"NEE_LT\"]+data[\"ER_LT\"]\n",
    "    # get the monthly totals\n",
    "    series_list = data.keys()\n",
    "    series_list.sort()\n",
    "    # loop over the months in the data file\n",
    "    start_date = ldt[0]\n",
    "    end_date = start_date+dateutil.relativedelta.relativedelta(months=1)\n",
    "    end_date = end_date-dateutil.relativedelta.relativedelta(minutes=ts)\n",
    "    last_date = ldt[-1]\n",
    "    while start_date<=last_date:\n",
    "        si = qcutils.GetDateIndex(ldt,str(start_date),ts=ts,default=0)\n",
    "        ei = qcutils.GetDateIndex(ldt,str(end_date),ts=ts,default=len(ldt)-1)\n",
    "        td = ldt[si].strftime(\"%Y-%m-%d\")\n",
    "        for item in [\"ER_LT\",\"GPP_LT\",\"NEE_LT\"]:\n",
    "            if not td in months[item].keys(): months[item][td] = numpy.array([])\n",
    "            data_1d = data[item][si:ei+1]*12.01*ts*60/1E6\n",
    "            months[item][td] = numpy.append(months[item][td],numpy.ma.sum(data_1d))\n",
    "        start_date = end_date+dateutil.relativedelta.relativedelta(minutes=ts)\n",
    "        end_date = start_date+dateutil.relativedelta.relativedelta(months=1)\n",
    "        end_date = end_date-dateutil.relativedelta.relativedelta(minutes=ts)\n",
    "print datetime.datetime.now(),i"
   ]
  },
  {
   "cell_type": "code",
   "execution_count": 10,
   "metadata": {
    "collapsed": true
   },
   "outputs": [],
   "source": [
    "import cPickle as pickle\n",
    "with open(\"../Sites/Whroo/Data/months.pickle\", 'wb') as handle:\n",
    "  pickle.dump(months, handle, protocol=pickle.HIGHEST_PROTOCOL)"
   ]
  },
  {
   "cell_type": "code",
   "execution_count": null,
   "metadata": {
    "collapsed": true
   },
   "outputs": [],
   "source": [
    "with open(\"../Sites/Whroo/Data/months.pickle\", 'wb') as handle:\n",
    "  months = pickle.load(handle)"
   ]
  },
  {
   "cell_type": "code",
   "execution_count": 37,
   "metadata": {
    "collapsed": false
   },
   "outputs": [],
   "source": [
    "xl_path = \"../Sites/Whroo/Data/Portal/\"\n",
    "xl_name = xl_path+\"Whroo_L6_filteredL5_Summary.xls\"\n",
    "xl_book = xlrd.open_workbook(xl_name)\n",
    "datemode = xl_book.datemode"
   ]
  },
  {
   "cell_type": "code",
   "execution_count": 38,
   "metadata": {
    "collapsed": false
   },
   "outputs": [],
   "source": [
    "active_sheet = xl_book.sheet_by_name(\"Monthly\")\n",
    "xldt_l6summary = get_data_xlsheet(active_sheet,2,\"Months\")\n",
    "nee_lt_reddyproc = get_data_xlsheet(active_sheet,2,\"NEE_REddyProc\")\n",
    "nee_lt_fluxnet = get_data_xlsheet(active_sheet,2,\"NEE_LT_FluxNet\")\n",
    "idx = numpy.where(nee_lt_fluxnet==0)[0]\n",
    "nee_lt_fluxnet[idx] = nee_lt_reddyproc[idx]\n",
    "nee_ll_fluxnet = get_data_xlsheet(active_sheet,2,\"NEE_LL_FluxNet\")\n",
    "idx = numpy.where(nee_ll_fluxnet==0)[0]\n",
    "nee_ll_fluxnet[idx] = nee_lt_reddyproc[idx]\n",
    "nee_lt_ozfluxqc = get_data_xlsheet(active_sheet,2,\"NEE_LT\")\n",
    "nee_ll_ozfluxqc = get_data_xlsheet(active_sheet,2,\"NEE_LL\")\n",
    "nee_solo_ozfluxqc = get_data_xlsheet(active_sheet,2,\"NEE_SOLO\")\n",
    "nee_dingo = get_data_xlsheet(active_sheet,2,\"NEE_DINGO\")\n",
    "\n",
    "nee_alt_max = numpy.copy(nee_lt_reddyproc)\n",
    "nee_alt_min = numpy.copy(nee_lt_reddyproc)\n",
    "for item in [nee_lt_fluxnet,nee_ll_fluxnet,nee_lt_ozfluxqc,nee_ll_ozfluxqc,nee_solo_ozfluxqc,nee_dingo]:\n",
    "    nee_alt_max = numpy.maximum(nee_alt_max,item)\n",
    "    nee_alt_min = numpy.minimum(nee_alt_min,item)\n",
    "x_alt_nee = range(1,len(nee_alt_max)+1)"
   ]
  },
  {
   "cell_type": "code",
   "execution_count": 42,
   "metadata": {
    "collapsed": true
   },
   "outputs": [],
   "source": [
    "gpp_lt_reddyproc = get_data_xlsheet(active_sheet,2,\"GPP_REddyProc\")\n",
    "gpp_lt_fluxnet = get_data_xlsheet(active_sheet,2,\"GPP_LT_FluxNet\")\n",
    "idx = numpy.where(gpp_lt_fluxnet==0)[0]\n",
    "gpp_lt_fluxnet[idx] = gpp_lt_reddyproc[idx]\n",
    "gpp_ll_fluxnet = get_data_xlsheet(active_sheet,2,\"GPP_LL_FluxNet\")\n",
    "idx = numpy.where(gpp_ll_fluxnet==0)[0]\n",
    "gpp_ll_fluxnet[idx] = gpp_lt_reddyproc[idx]\n",
    "gpp_lt_ozfluxqc = get_data_xlsheet(active_sheet,2,\"GPP_LT\")\n",
    "gpp_ll_ozfluxqc = get_data_xlsheet(active_sheet,2,\"GPP_LL\")\n",
    "gpp_solo_ozfluxqc = get_data_xlsheet(active_sheet,2,\"GPP_SOLO\")\n",
    "gpp_dingo = get_data_xlsheet(active_sheet,2,\"GPP_DINGO\")\n",
    "gpp_dingo = float(-1)*gpp_dingo\n",
    "\n",
    "gpp_alt_max = numpy.copy(gpp_lt_reddyproc)\n",
    "gpp_alt_min = numpy.copy(gpp_lt_reddyproc)\n",
    "for item in [gpp_lt_fluxnet,gpp_ll_fluxnet,gpp_lt_ozfluxqc,gpp_ll_ozfluxqc,gpp_solo_ozfluxqc,gpp_dingo]:\n",
    "    gpp_alt_max = numpy.maximum(gpp_alt_max,item)\n",
    "    gpp_alt_min = numpy.minimum(gpp_alt_min,item)\n",
    "x_alt_gpp = range(1,len(gpp_alt_max)+1)"
   ]
  },
  {
   "cell_type": "code",
   "execution_count": 40,
   "metadata": {
    "collapsed": true
   },
   "outputs": [],
   "source": [
    "er_lt_reddyproc = get_data_xlsheet(active_sheet,2,\"ER_REddyProc\")\n",
    "er_lt_fluxnet = get_data_xlsheet(active_sheet,2,\"ER_LT_FluxNet\")\n",
    "idx = numpy.where(er_lt_fluxnet==0)[0]\n",
    "er_lt_fluxnet[idx] = er_lt_reddyproc[idx]\n",
    "er_ll_fluxnet = get_data_xlsheet(active_sheet,2,\"ER_LL_FluxNet\")\n",
    "idx = numpy.where(er_ll_fluxnet==0)[0]\n",
    "er_ll_fluxnet[idx] = er_lt_reddyproc[idx]\n",
    "er_lt_ozfluxqc = get_data_xlsheet(active_sheet,2,\"ER_LT\")\n",
    "er_ll_ozfluxqc = get_data_xlsheet(active_sheet,2,\"ER_LL\")\n",
    "er_solo_ozfluxqc = get_data_xlsheet(active_sheet,2,\"ER_SOLO\")\n",
    "er_dingo = get_data_xlsheet(active_sheet,2,\"ER_DINGO\")\n",
    "\n",
    "er_alt_max = numpy.copy(er_lt_reddyproc)\n",
    "er_alt_min = numpy.copy(er_lt_reddyproc)\n",
    "for item in [er_lt_fluxnet,er_ll_fluxnet,er_lt_ozfluxqc,er_ll_ozfluxqc,er_solo_ozfluxqc,er_dingo]:\n",
    "    er_alt_max = numpy.maximum(er_alt_max,item)\n",
    "    er_alt_min = numpy.minimum(er_alt_min,item)\n",
    "x_alt_er = range(1,len(er_alt_max)+1)"
   ]
  },
  {
   "cell_type": "code",
   "execution_count": 20,
   "metadata": {
    "collapsed": false
   },
   "outputs": [],
   "source": [
    "basedate = datetime.datetime(1899, 12, 30)\n",
    "dt_l6summary = [None]*len(xldt_l6summary)\n",
    "for i in range(len(xldt_l6summary)):\n",
    "    dt_l6summary[i] = basedate + datetime.timedelta(days=xldt_l6summary[i] + 1462 * datemode)"
   ]
  },
  {
   "cell_type": "code",
   "execution_count": 45,
   "metadata": {
    "collapsed": false
   },
   "outputs": [],
   "source": [
    "nee = []; nee_max = []; nee_min = []\n",
    "er = []; er_max = []; er_min = []\n",
    "gpp = []; gpp_max = []; gpp_min = []\n",
    "xlabels_months = []; xlabels_years = []\n",
    "for item in months[\"GPP_LT\"].keys():\n",
    "    gpp.append(months[\"GPP_LT\"][item])\n",
    "    gpp_max.append(numpy.max(months[\"GPP_LT\"][item]))\n",
    "    gpp_min.append(numpy.min(months[\"GPP_LT\"][item]))\n",
    "    str_parts = item.split(\"-\")\n",
    "    if str_parts[1]==\"06\": str_parts[1] = str_parts[1]+\"\\n\"+str_parts[0]\n",
    "    xlabels_months.append(str_parts[1])\n",
    "    xlabels_years.append(str_parts[0])\n",
    "for item in months[\"ER_LT\"].keys():\n",
    "    er.append(months[\"ER_LT\"][item])\n",
    "    er_max.append(numpy.max(months[\"ER_LT\"][item]))\n",
    "    er_min.append(numpy.min(months[\"ER_LT\"][item]))\n",
    "for item in months[\"NEE_LT\"].keys():\n",
    "    nee.append(months[\"NEE_LT\"][item])\n",
    "    nee_max.append(numpy.max(months[\"NEE_LT\"][item]))\n",
    "    nee_min.append(numpy.min(months[\"NEE_LT\"][item]))"
   ]
  },
  {
   "cell_type": "code",
   "execution_count": 103,
   "metadata": {
    "collapsed": false
   },
   "outputs": [],
   "source": [
    "# plot NEE, ER and GPP on a single axis\n",
    "fig,axs = plt.subplots(1,figsize=(8,4),sharex=True)\n",
    "axs.set_title(\"Whroo: Monthly NEE, GPP and ER\")\n",
    "axs.plot([],[],color='red',linewidth=5,label=\"NEE\")\n",
    "axs.fill_between(x_alt_nee[0:-1],nee_alt_max[0:-1],nee_alt_min[0:-1],facecolor='lightsalmon', alpha=0.5)\n",
    "axs.fill_between(x,nee_max,nee_min,facecolor='red')\n",
    "axs.plot([],[],color='green',linewidth=5,label=\"GPP\")\n",
    "axs.fill_between(x_alt_gpp[0:-1],gpp_alt_max[0:-1],gpp_alt_min[0:-1],facecolor='lightgreen', alpha=0.5)\n",
    "axs.fill_between(x,gpp_max,gpp_min,facecolor='green')\n",
    "axs.plot([],[],color='blue',linewidth=5,label=\"ER\")\n",
    "axs.fill_between(x_alt_er[0:-1],er_alt_max[0:-1],er_alt_min[0:-1],facecolor='lightblue', alpha=0.5)\n",
    "axs.fill_between(x,er_max,er_min,facecolor='blue')\n",
    "legend = axs.legend(loc='upper left',ncol=3,frameon=False)\n",
    "axs.set_ylabel(\"$gCm^{-2}month^{-1}$\",fontsize=16,fontweight='bold')\n",
    "axs.set_xlim([1,len(x)])\n",
    "plt.xticks(numpy.arange(1,len(x)+1,1))\n",
    "xtickNames = plt.setp(axs, xticklabels=xlabels_months)\n",
    "plt.setp(xtickNames, rotation=0, fontsize=12)\n",
    "plt.setp(axs.get_xticklabels()[::2], visible=False)\n",
    "fig.savefig(\"../Sites/Whroo/Plots/uncertainty_versus_range.svg\",format=\"svg\")\n",
    "plt.show()"
   ]
  },
  {
   "cell_type": "code",
   "execution_count": 72,
   "metadata": {
    "collapsed": false
   },
   "outputs": [],
   "source": [
    "nalts = 1\n",
    "nsites = len(months[\"NEE_LT\"].keys())\n",
    "minor_ticks = [x for x in range(nalts,nalts*nsites,nalts)]\n",
    "x = range(1,len(nee_lt_ozfluxqc))\n",
    "fig,axs = plt.subplots(3,figsize=(8,6),sharex=True)\n",
    "#fig.canvas.set_window_title(var)\n",
    "plt.subplots_adjust(hspace=0.15)\n",
    "axs[0].set_title(\"Whroo: Monthly NEE, GPP and ER\")\n",
    "axs[0].fill_between(x,nee_max,nee_min)\n",
    "axs[0].fill_between(x_alt_nee[0:-1],nee_alt_max[0:-1],nee_alt_min[0:-1],facecolor='lightblue', alpha=0.5)\n",
    "axs[0].set_ylabel(\"NEE\")\n",
    "axs[0].set_xlim([1,44])\n",
    "\n",
    "axs[1].fill_between(x,gpp_max,gpp_min)\n",
    "axs[1].fill_between(x_alt_gpp[0:-1],gpp_alt_max[0:-1],gpp_alt_min[0:-1],facecolor='lightblue', alpha=0.5)\n",
    "axs[1].set_ylabel(\"GPP\")\n",
    "\n",
    "axs[2].fill_between(x,er_max,er_min)\n",
    "axs[2].fill_between(x_alt_er[0:-1],er_alt_max[0:-1],er_alt_min[0:-1],facecolor='lightblue', alpha=0.5)\n",
    "axs[2].set_ylabel(\"ER\")\n",
    "\n",
    "xticklabels = axs[0].get_xticklabels()+axs[1].get_xticklabels()\n",
    "plt.setp(xticklabels, visible=False)\n",
    "plt.xticks(numpy.arange(1,45,1))\n",
    "xtickNames = plt.setp(axs[2], xticklabels=xlabels_months)\n",
    "plt.setp(xtickNames, rotation=0, fontsize=10)\n",
    "plt.setp(axs[2].get_xticklabels()[::2], visible=False)\n",
    "\n",
    "plt.show()"
   ]
  },
  {
   "cell_type": "code",
   "execution_count": 84,
   "metadata": {
    "collapsed": false
   },
   "outputs": [],
   "source": [
    "fig, ax1 = plt.subplots()\n",
    "ax1.fill_between(x,nee_max,nee_min)\n",
    "ax1.fill_between(x,er_max,er_min)\n",
    "ax1.set_ylim(-100,250)\n",
    "ax2 = ax1.twinx()\n",
    "ax2.fill_between(x,gpp_max,gpp_min)\n",
    "ax2.set_ylim(-150,200)\n",
    "plt.show()"
   ]
  },
  {
   "cell_type": "code",
   "execution_count": 85,
   "metadata": {
    "collapsed": true
   },
   "outputs": [],
   "source": [
    "fig,(ax1,ax2) = plt.subplots(2, 1, sharex=True)\n",
    "ax1.fill_between(x,gpp_max,gpp_min)\n",
    "ax2.fill_between(x,nee_max,nee_min)\n",
    "ax2.fill_between(x,er_max,er_min)\n",
    "ax1.set_ylim(0,200)\n",
    "ax2.set_ylim(-100,150)\n",
    "\n",
    "ax1.spines['bottom'].set_visible(False)\n",
    "ax2.spines['top'].set_visible(False)\n",
    "ax1.xaxis.tick_top()\n",
    "ax1.tick_params(labeltop='off')  # don't put tick labels at the top\n",
    "ax2.xaxis.tick_bottom()\n",
    "\n",
    "plt.show()"
   ]
  },
  {
   "cell_type": "code",
   "execution_count": null,
   "metadata": {
    "collapsed": true
   },
   "outputs": [],
   "source": [
    "fig,axs = plt.subplots(3,figsize=(12,6),sharex=True)\n",
    "axs[0].plot(ldt,data[\"NEE_LT\"],'bo')\n",
    "axs[0].set_ylabel(\"NEE\")\n",
    "axs[1].plot(ldt,data[\"GPP_LT\"],'bo')\n",
    "axs[1].set_ylabel(\"GPP\")\n",
    "axs[2].plot(ldt,data[\"ER_LT\"],'bo')\n",
    "axs[2].set_ylabel(\"ER\")\n",
    "plt.tight_layout()\n",
    "plt.show()"
   ]
  },
  {
   "cell_type": "code",
   "execution_count": null,
   "metadata": {
    "collapsed": true
   },
   "outputs": [],
   "source": []
  }
 ],
 "metadata": {
  "kernelspec": {
   "display_name": "Python 2",
   "language": "python",
   "name": "python2"
  },
  "language_info": {
   "codemirror_mode": {
    "name": "ipython",
    "version": 2
   },
   "file_extension": ".py",
   "mimetype": "text/x-python",
   "name": "python",
   "nbconvert_exporter": "python",
   "pygments_lexer": "ipython2",
   "version": "2.7.11"
  }
 },
 "nbformat": 4,
 "nbformat_minor": 0
}
