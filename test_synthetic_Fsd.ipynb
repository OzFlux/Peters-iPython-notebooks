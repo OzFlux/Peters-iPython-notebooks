{
 "metadata": {
  "name": "",
  "signature": "sha256:788da8b80d5145cdc5fc647e059c2aab0ae7d6c408a51cc4fe44d7c020320d29"
 },
 "nbformat": 3,
 "nbformat_minor": 0,
 "worksheets": [
  {
   "cells": [
    {
     "cell_type": "code",
     "collapsed": false,
     "input": [
      "%run basics\n",
      "import pytz\n",
      "%matplotlib"
     ],
     "language": "python",
     "metadata": {},
     "outputs": []
    },
    {
     "cell_type": "code",
     "collapsed": false,
     "input": [],
     "language": "python",
     "metadata": {},
     "outputs": []
    }
   ],
   "metadata": {}
  }
 ]
}