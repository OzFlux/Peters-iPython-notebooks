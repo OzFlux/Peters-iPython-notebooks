{
 "cells": [
  {
   "cell_type": "code",
   "execution_count": 1,
   "metadata": {
    "collapsed": false
   },
   "outputs": [
    {
     "name": "stdout",
     "output_type": "stream",
     "text": [
      "Using matplotlib backend: Qt4Agg\n"
     ]
    }
   ],
   "source": [
    "%run basics\n",
    "%matplotlib"
   ]
  },
  {
   "cell_type": "code",
   "execution_count": 2,
   "metadata": {
    "collapsed": true
   },
   "outputs": [],
   "source": [
    "def residuals_LloydTaylor(params,ER,T,weighted,weight_type):\n",
    "    rb = params[0]\n",
    "    E0 = params[1]\n",
    "    resid = ER - ER_LloydTaylor(T,rb,E0)\n",
    "    if weighted:\n",
    "        weights = CalculateWeights(resid,weight_type=weight_type)\n",
    "        return resid*weights\n",
    "    else:\n",
    "        return resid\n",
    "\n",
    "def ER_LloydTaylor(T,rb,E0):\n",
    "#    return rb*numpy.exp(E0*(1/(c.Tref-c.T0)-1/(T-c.T0)))\n",
    "    return rb*numpy.exp(E0*(1/(288.13-227.13)-1/((T+273.15)-227.13)))"
   ]
  },
  {
   "cell_type": "code",
   "execution_count": 3,
   "metadata": {
    "collapsed": true
   },
   "outputs": [],
   "source": [
    "def residuals_RHLRC_D(params,NEE,Fsd,D,T,D0,E0,weighted,weight_type):\n",
    "    alpha = params[0]\n",
    "    beta = params[1]\n",
    "    k = params[2]\n",
    "    rb = params[3]\n",
    "    resid = NEE - NEE_RHLRC_D(Fsd,D,T,alpha,beta,k,D0,rb,E0)\n",
    "    if weighted:\n",
    "        weights = CalculateWeights(resid,weight_type=weight_type)\n",
    "        return resid*weights\n",
    "    else:\n",
    "        return resid\n",
    "\n",
    "def NEE_RHLRC_D(Fsd,D,T,alpha,beta,k,D0,rb,E0):\n",
    "    NEE = -1*GPP_RHLRC_D(Fsd,D,alpha,beta,k,D0) + ER_LloydTaylor(T,rb,E0)\n",
    "    return NEE\n",
    "\n",
    "def GPP_RHLRC_D(Fsd,D,alpha,beta,k,D0):\n",
    "    beta = beta*SHD_func_Lasslop(D,k,D0)\n",
    "    GPP = alpha*beta*Fsd/(alpha*Fsd+beta)\n",
    "    return GPP\n",
    "\n",
    "def SHD_func_Lasslop(D,k,D0):\n",
    "    SHD_func = numpy.ones(len(D))\n",
    "    idx = numpy.where(D>D0)[0]\n",
    "    SHD_func[idx] = numpy.exp(-k*(D[idx]-D0))\n",
    "    return SHD_func"
   ]
  },
  {
   "cell_type": "code",
   "execution_count": 4,
   "metadata": {
    "collapsed": true
   },
   "outputs": [],
   "source": [
    "def irls_leastsq(func,p0,args=(),maxfev=3,weight_type='Huber',mode='verbose'):\n",
    "    weighted = False\n",
    "    popt,pcov = scipy.optimize.leastsq(func,p0,args=args+(weighted,weight_type))\n",
    "    if mode=='verbose':\n",
    "        print 'After non-weighted call to leastsq: ',popt\n",
    "    n=1\n",
    "    weighted = True\n",
    "    while n<=maxfev:\n",
    "        popt,pcov = scipy.optimize.leastsq(func,popt,args=args+(weighted,weight_type))\n",
    "        if mode=='verbose':\n",
    "            print 'Weighted call '+str(n)+' to leastsq: ',popt\n",
    "        ER_fit = ER_LloydTaylor(args[1],popt[0],popt[1])\n",
    "        resid = args[0] - ER_fit\n",
    "        weights = CalculateWeights(resid,weight_type=weight_type)\n",
    "        n = n + 1\n",
    "    return popt,pcov\n",
    "\n",
    "def CalculateWeights(resid,weight_type='Huber'):\n",
    "    if weight_type.lower()=='tukey':\n",
    "        weights = TukeyBiweight(MAD_scale(resid))\n",
    "    elif weight_type.lower()=='huber':\n",
    "        weights = HuberTWeight(MAD_scale(resid))\n",
    "    elif weight_type.lower()=='ols':\n",
    "        weights = OLSWeight(MAD_scale(resid))\n",
    "    else:\n",
    "        print \"CalculateWeights: Unknown weight type, used Huber's t weight\"\n",
    "        weights = HuberTWeight(MAD_scale(resid))\n",
    "    return weights\n",
    "\n",
    "def TukeyBiweight(x):\n",
    "    return ((numpy.abs(x)<1.0)*(1.0 - x**2)**2)\n",
    "\n",
    "def HuberTWeight(x):\n",
    "    weights = numpy.ones(len(x))\n",
    "    idx = numpy.where(numpy.abs(x)>1.345)[0]\n",
    "    weights[idx] = 1.345/numpy.abs(x[idx])\n",
    "    return weights\n",
    "\n",
    "def OLSWeight(x):\n",
    "    weights = numpy.ones(len(x))\n",
    "    return weights\n",
    "\n",
    "def MAD_scale(resid):\n",
    "    scale = numpy.median(numpy.abs(resid - numpy.median(resid))) / 0.6745\n",
    "    return resid/scale"
   ]
  },
  {
   "cell_type": "code",
   "execution_count": 5,
   "metadata": {
    "collapsed": true
   },
   "outputs": [],
   "source": [
    "ncname =\"../Sites/Whroo/Data/Portal/Whroo_L3.nc\"\n",
    "ds = qcio.nc_read_series(ncname)\n",
    "ldt = ds.series[\"DateTime\"][\"Data\"]\n",
    "ts = int(ds.globalattributes[\"time_step\"])\n",
    "site_name = ds.globalattributes[\"site_name\"]\n",
    "nrecs = int(ds.globalattributes[\"nc_nrecs\"])"
   ]
  },
  {
   "cell_type": "code",
   "execution_count": 6,
   "metadata": {
    "collapsed": true
   },
   "outputs": [],
   "source": [
    "# get the data and synchronise the gaps\n",
    "indicator = numpy.ones(nrecs,dtype=numpy.int)\n",
    "Fsd,f,a = qcutils.GetSeriesasMA(ds,\"Fsd\")\n",
    "idx = numpy.where(f!=0)[0]\n",
    "indicator[idx] = numpy.int(0)\n",
    "D,f,a = qcutils.GetSeriesasMA(ds,\"VPD\")\n",
    "idx = numpy.where(f!=0)[0]\n",
    "indicator[idx] = numpy.int(0)\n",
    "T,f,a = qcutils.GetSeriesasMA(ds,\"Ta\")\n",
    "idx = numpy.where(f!=0)[0]\n",
    "indicator[idx] = numpy.int(0)\n",
    "ustar,f,a = qcutils.GetSeriesasMA(ds,\"ustar\")\n",
    "idx = numpy.where(f!=0)[0]\n",
    "indicator[idx] = numpy.int(0)\n",
    "Fc,f,a = qcutils.GetSeriesasMA(ds,\"Fc\")\n",
    "idx = numpy.where(f!=0)[0]\n",
    "indicator[idx] = numpy.int(0)"
   ]
  },
  {
   "cell_type": "code",
   "execution_count": 7,
   "metadata": {
    "collapsed": false
   },
   "outputs": [],
   "source": [
    "indicator_night = numpy.copy(indicator)\n",
    "# apply a day/night filter\n",
    "idx = numpy.where(Fsd>=10)[0]\n",
    "indicator_night[idx] = numpy.int(0)\n",
    "# apply a simple ustar filter\n",
    "idx = numpy.where(ustar<=0.4)[0]\n",
    "indicator_night[idx] = numpy.int(0)"
   ]
  },
  {
   "cell_type": "code",
   "execution_count": 8,
   "metadata": {
    "collapsed": true
   },
   "outputs": [],
   "source": [
    "# synchronise the gaps and apply the ustar filter\n",
    "T_night = numpy.ma.masked_where(indicator_night==0,T)\n",
    "ER = numpy.ma.masked_where(indicator_night==0,Fc)"
   ]
  },
  {
   "cell_type": "code",
   "execution_count": 9,
   "metadata": {
    "collapsed": false
   },
   "outputs": [
    {
     "name": "stderr",
     "output_type": "stream",
     "text": [
      "/home/peter/anaconda/lib/python2.7/site-packages/scipy/optimize/minpack.py:421: RuntimeWarning: Number of calls to function has reached maxfev = 600.\n",
      "  warnings.warn(errors[info][0], RuntimeWarning)\n"
     ]
    }
   ],
   "source": [
    "# loop over the windows and get E0\n",
    "LT_results = {\"start_date\":[],\"mid_date\":[],\"end_date\":[],\"rb\":[],\"E0\":[]}\n",
    "LT_prior = {\"rb\":1.0,\"E0\":100}\n",
    "window_length = 30\n",
    "window_offset = 5\n",
    "start_date = ldt[0]\n",
    "last_date = ldt[-1]\n",
    "end_date = start_date+datetime.timedelta(days=window_length)\n",
    "last_E0_OK = False\n",
    "while end_date<=last_date:\n",
    "    si = qcutils.GetDateIndex(ldt,str(start_date),ts=ts)\n",
    "    ei = qcutils.GetDateIndex(ldt,str(end_date),ts=ts)\n",
    "    Tsub = numpy.ma.compressed(T_night[si:ei+1])\n",
    "    ERsub = numpy.ma.compressed(ER[si:ei+1])\n",
    "    LT_results[\"start_date\"].append(start_date)\n",
    "    LT_results[\"mid_date\"].append(start_date+(start_date-end_date)/2)\n",
    "    LT_results[\"end_date\"].append(end_date)\n",
    "    if len(ERsub)>=10:\n",
    "        LT_prior[\"rb\"] = numpy.mean(ERsub)\n",
    "        p0 = [LT_prior[\"rb\"],LT_prior[\"E0\"]]\n",
    "        popt,pcov = irls_leastsq(residuals_LloydTaylor,p0,\n",
    "                                 args=(ERsub,Tsub),maxfev=3,\n",
    "                                 weight_type='Huber',mode='quiet')\n",
    "        # QC results\n",
    "        if popt[1]<50 or popt[1]>400:\n",
    "            if last_E0_OK:\n",
    "                popt[1] = LT_results[\"E0\"][-1]\n",
    "                last_E0_OK = False\n",
    "            else:\n",
    "                if popt[1]<50: popt[1] = float(50)\n",
    "                if popt[1]>400: popt[1] = float(400)\n",
    "                last_E0_OK = False\n",
    "        else:\n",
    "            last_E0_OK = True\n",
    "    else:\n",
    "        popt[0] = LT_prior[\"rb\"]\n",
    "        popt[1] = LT_prior[\"E0\"]\n",
    "    LT_results[\"rb\"].append(popt[0])\n",
    "    LT_results[\"E0\"].append(popt[1])\n",
    "    start_date = start_date+datetime.timedelta(days=window_offset)\n",
    "    end_date = start_date+datetime.timedelta(days=window_length)"
   ]
  },
  {
   "cell_type": "code",
   "execution_count": 10,
   "metadata": {
    "collapsed": false
   },
   "outputs": [],
   "source": [
    "fig = plt.figure(figsize=(24,6))\n",
    "ax1 = plt.subplot(211)\n",
    "plt.plot(LT_results[\"end_date\"],LT_results[\"rb\"],'b.')\n",
    "plt.ylabel(\"rb\")\n",
    "ax2 = plt.subplot(212)\n",
    "plt.plot(LT_results[\"end_date\"],LT_results[\"E0\"],'b.')\n",
    "plt.ylabel(\"E0\")\n",
    "plt.tight_layout()\n",
    "plt.show()"
   ]
  },
  {
   "cell_type": "code",
   "execution_count": 10,
   "metadata": {
    "collapsed": true
   },
   "outputs": [],
   "source": [
    "indicator_day = numpy.copy(indicator)\n",
    "# apply a day/night filter\n",
    "idx = numpy.where(Fsd<10)[0]\n",
    "indicator_day[idx] = numpy.int(0)"
   ]
  },
  {
   "cell_type": "code",
   "execution_count": 11,
   "metadata": {
    "collapsed": true
   },
   "outputs": [],
   "source": [
    "# synchronise the gaps and apply the day/night filter\n",
    "Fsd_day = numpy.ma.masked_where(indicator_day==0,Fsd)\n",
    "D_day = numpy.ma.masked_where(indicator_day==0,D)\n",
    "T_day = numpy.ma.masked_where(indicator_day==0,T)\n",
    "NEE_day = numpy.ma.masked_where(indicator_day==0,Fc)"
   ]
  },
  {
   "cell_type": "code",
   "execution_count": 53,
   "metadata": {
    "collapsed": false
   },
   "outputs": [],
   "source": [
    "LL_results = {\"start_date\":[],\"mid_date\":[],\"end_date\":[],\n",
    "              \"alpha\":[],\"beta\":[],\"k\":[],\"rb\":[]}\n",
    "LL_prior = {\"rb\":1.0,\"alpha\":0.01,\"beta\":10,\"k\":0}\n",
    "LL_fixed = {\"E0\":100,\"D0\":1}\n",
    "window_length = 30\n",
    "window_offset = 5\n",
    "start_date = ldt[0]\n",
    "last_date = ldt[-1]\n",
    "end_date = start_date+datetime.timedelta(days=window_length)\n",
    "while end_date<=last_date:\n",
    "    si = qcutils.GetDateIndex(ldt,str(start_date),ts=ts)\n",
    "    ei = qcutils.GetDateIndex(ldt,str(end_date),ts=ts)\n",
    "    Fsdsub = numpy.ma.compressed(Fsd_day[si:ei+1])\n",
    "    Dsub = numpy.ma.compressed(D_day[si:ei+1])\n",
    "    Tsub = numpy.ma.compressed(T_day[si:ei+1])\n",
    "    NEEsub = numpy.ma.compressed(NEE_day[si:ei+1])\n",
    "    ERsub = numpy.ma.compressed(ER[si:ei+1])\n",
    "    LL_results[\"start_date\"].append(start_date)\n",
    "    mid_date = start_date+(start_date-end_date)/2\n",
    "    LL_results[\"mid_date\"].append(mid_date)\n",
    "    LL_results[\"end_date\"].append(end_date)\n",
    "    if len(NEEsub)>=10:\n",
    "        LL_prior[\"rb\"] = numpy.mean(ERsub)\n",
    "        LL_prior[\"beta\"] = numpy.abs(numpy.percentile(NEEsub,3)-numpy.percentile(NEEsub,97))\n",
    "        diffs = [abs(dt-mid_date) for dt in LT_results[\"mid_date\"]]\n",
    "        val,idx = min((val,idx) for (idx,val) in enumerate(diffs))\n",
    "        LL_fixed[\"E0\"] = LT_results[\"E0\"][idx]\n",
    "        p0 = [LL_prior[\"alpha\"],LL_prior[\"beta\"],LL_prior[\"k\"],LL_prior[\"rb\"]]\n",
    "        popt,pcov = irls_leastsq(residuals_RHLRC_D,p0,\n",
    "                                 args=(NEEsub,Fsdsub,Dsub,Tsub,LL_fixed[\"D0\"],LL_fixed[\"E0\"]),\n",
    "                                 maxfev=3,weight_type='Huber',mode=\"quiet\")\n",
    "        # need to put parameter QC here\n",
    "        # if rb is negative, discard whole parameter set\n",
    "        if popt[3]<=0: popt = [numpy.nan,numpy.nan,numpy.nan,numpy.nan]\n",
    "        # if beta is negative or greater than 250, discard whole parameter set\n",
    "        if popt[1]<=0:\n",
    "            popt = [numpy.nan,numpy.nan,numpy.nan,numpy.nan]\n",
    "        if popt[1]>=250:\n",
    "            popt = [numpy.nan,numpy.nan,numpy.nan,numpy.nan]\n",
    "        # if k is negative, discard whole parameter set\n",
    "        if popt[2]<=0: popt = [numpy.nan,numpy.nan,numpy.nan,numpy.nan]\n",
    "    else:\n",
    "        #popt = [LL_prior[\"alpha\"],LL_prior[\"beta\"],LL_prior[\"k\"],LL_prior[\"rb\"]]\n",
    "        popt = [numpy.nan,numpy.nan,numpy.nan,numpy.nan]\n",
    "    LL_results[\"alpha\"].append(popt[0])\n",
    "    LL_results[\"beta\"].append(popt[1])\n",
    "    LL_results[\"k\"].append(popt[2])\n",
    "    LL_results[\"rb\"].append(popt[3])\n",
    "    start_date = start_date+datetime.timedelta(days=window_offset)\n",
    "    end_date = start_date+datetime.timedelta(days=window_length)"
   ]
  },
  {
   "cell_type": "code",
   "execution_count": 54,
   "metadata": {
    "collapsed": true
   },
   "outputs": [],
   "source": [
    "fig = plt.figure(figsize=(24,6))\n",
    "ax1 = plt.subplot(411)\n",
    "plt.plot(LT_results[\"end_date\"],LT_results[\"rb\"],'b.')\n",
    "plt.plot(LL_results[\"end_date\"],LL_results[\"rb\"],'r+')\n",
    "plt.ylabel(\"rb\")\n",
    "ax2 = plt.subplot(412,sharex=ax1)\n",
    "plt.plot(LL_results[\"end_date\"],LL_results[\"alpha\"],'b.')\n",
    "plt.ylabel(\"alpha\")\n",
    "ax3 = plt.subplot(413,sharex=ax1)\n",
    "plt.plot(LL_results[\"end_date\"],LL_results[\"beta\"],'b.')\n",
    "plt.ylabel(\"beta\")\n",
    "ax4 = plt.subplot(414,sharex=ax1)\n",
    "plt.plot(LL_results[\"end_date\"],LL_results[\"k\"],'b.')\n",
    "plt.ylabel(\"k\")\n",
    "plt.tight_layout()\n",
    "plt.show()"
   ]
  },
  {
   "cell_type": "code",
   "execution_count": null,
   "metadata": {
    "collapsed": true
   },
   "outputs": [],
   "source": []
  }
 ],
 "metadata": {
  "kernelspec": {
   "display_name": "Python 2",
   "language": "python",
   "name": "python2"
  },
  "language_info": {
   "codemirror_mode": {
    "name": "ipython",
    "version": 2
   },
   "file_extension": ".py",
   "mimetype": "text/x-python",
   "name": "python",
   "nbconvert_exporter": "python",
   "pygments_lexer": "ipython2",
   "version": "2.7.11"
  }
 },
 "nbformat": 4,
 "nbformat_minor": 0
}
