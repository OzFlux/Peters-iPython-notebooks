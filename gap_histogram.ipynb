{
 "cells": [
  {
   "cell_type": "code",
   "execution_count": 1,
   "metadata": {
    "collapsed": false
   },
   "outputs": [
    {
     "name": "stdout",
     "output_type": "stream",
     "text": [
      "Using matplotlib backend: Qt4Agg\n"
     ]
    }
   ],
   "source": [
    "%run basics\n",
    "%matplotlib"
   ]
  },
  {
   "cell_type": "code",
   "execution_count": null,
   "metadata": {
    "collapsed": true
   },
   "outputs": [],
   "source": [
    "name_list = [\"../Sites/AdelaideRiver/Data/Portal/AdelaideRiver_L3.nc\",\n",
    "             \"../Sites/AdelaideRiver/Data/Portal/AdelaideRiver_L3.nc\"]"
   ]
  },
  {
   "cell_type": "code",
   "execution_count": 2,
   "metadata": {
    "collapsed": true
   },
   "outputs": [],
   "source": [
    "nc_name = qcio.get_filename_dialog(path=\"../Sites\")"
   ]
  },
  {
   "cell_type": "code",
   "execution_count": 3,
   "metadata": {
    "collapsed": true
   },
   "outputs": [],
   "source": [
    "ds = qcio.nc_read_series(nc_name)\n",
    "ts = int(ds.globalattributes[\"time_step\"])"
   ]
  },
  {
   "cell_type": "code",
   "execution_count": 13,
   "metadata": {
    "collapsed": false
   },
   "outputs": [],
   "source": [
    "# number of time steps per hour\n",
    "n = 60/ts\n",
    "bins = [0,2*n+1,24*n+1,5*24*n+1,30*24*n+1,365*24*n]\n",
    "bin_labels = [\"<2hrs\",\"<1day\",\"<5days\",\"<30days\",\">30 days\",\"365 days\"]\n",
    "# radiation\n",
    "rad = ['Fsd','Fsu','Fld','Flu','Fn']\n",
    "rad_gap_len = numpy.array([])\n",
    "for item in rad:\n",
    "    data,flag,attr = qcutils.GetSeriesasMA(ds,item)\n",
    "    mask = numpy.ma.getmaskarray(data)\n",
    "    gap_startend = qcutils.contiguous_regions(mask)\n",
    "    for i in range(len(gap_startend)):\n",
    "        length = gap_startend[i][1]-gap_startend[i][0]\n",
    "        rad_gap_len = numpy.append(rad_gap_len,length)\n",
    "# meteorology\n",
    "met = ['Ah','Cc','Precip','ps','Ta','Ws','Wd']\n",
    "met_gap_len = numpy.array([])\n",
    "for item in met:\n",
    "    data,flag,attr = qcutils.GetSeriesasMA(ds,item)\n",
    "    mask = numpy.ma.getmaskarray(data)\n",
    "    gap_startend = qcutils.contiguous_regions(mask)\n",
    "    for i in range(len(gap_startend)):\n",
    "        length = gap_startend[i][1]-gap_startend[i][0]\n",
    "        met_gap_len = numpy.append(met_gap_len,length)\n",
    "# soil\n",
    "soil = ['Fg','Ts','Sws']\n",
    "soil_gap_len = numpy.array([])\n",
    "for item in soil:\n",
    "    data,flag,attr = qcutils.GetSeriesasMA(ds,item)\n",
    "    mask = numpy.ma.getmaskarray(data)\n",
    "    gap_startend = qcutils.contiguous_regions(mask)\n",
    "    for i in range(len(gap_startend)):\n",
    "        length = gap_startend[i][1]-gap_startend[i][0]\n",
    "        soil_gap_len = numpy.append(soil_gap_len,length)\n",
    "# fluxes\n",
    "flux = ['Fm','ustar','Fh','Fe','Fc']\n",
    "flux_gap_len = numpy.array([])\n",
    "for item in flux:\n",
    "    data,flag,attr = qcutils.GetSeriesasMA(ds,item)\n",
    "    mask = numpy.ma.getmaskarray(data)\n",
    "    gap_startend = qcutils.contiguous_regions(mask)\n",
    "    for i in range(len(gap_startend)):\n",
    "        length = gap_startend[i][1]-gap_startend[i][0]\n",
    "        flux_gap_len = numpy.append(flux_gap_len,length)"
   ]
  },
  {
   "cell_type": "code",
   "execution_count": 23,
   "metadata": {
    "collapsed": false
   },
   "outputs": [],
   "source": [
    "rad_hist,rad_edges = numpy.histogram(rad_gap_len,bins=bins)\n",
    "met_hist,met_edges = numpy.histogram(met_gap_len,bins=bins)\n",
    "soil_hist,met_edges = numpy.histogram(soil_gap_len,bins=bins)\n",
    "flux_hist,met_edges = numpy.histogram(flux_gap_len,bins=bins)\n",
    "bar_width = 0.35\n",
    "fig,axs = plt.subplots(2,2,figsize=(10,10))\n",
    "index = numpy.arange(len(rad_hist))\n",
    "axs[0,0].bar(index,rad_hist)\n",
    "axs[0,0].set_title(\"Radiation\")\n",
    "axs[0,0].set_ylabel(\"Occurrences\")\n",
    "axs[0,0].set_xticks(index+bar_width)\n",
    "axs[0,0].set_xticklabels(bin_labels)\n",
    "axs[0,1].bar(index,met_hist)\n",
    "axs[0,1].set_title(\"Meteorology\")\n",
    "axs[0,1].set_xticks(index+bar_width)\n",
    "axs[0,1].set_xticklabels(bin_labels)\n",
    "axs[1,0].bar(index,soil_hist)\n",
    "axs[1,0].set_title(\"Soil\")\n",
    "axs[1,0].set_xlabel(\"Gap length\")\n",
    "axs[1,0].set_ylabel(\"Occurrences\")\n",
    "axs[1,0].set_xticks(index+bar_width)\n",
    "axs[1,0].set_xticklabels(bin_labels)\n",
    "axs[1,1].bar(index,flux_hist)\n",
    "axs[1,1].set_title(\"Fluxes\")\n",
    "axs[1,1].set_xlabel(\"Gap length\")\n",
    "axs[1,1].set_xticks(index+bar_width)\n",
    "axs[1,1].set_xticklabels(bin_labels)\n",
    "plt.tight_layout()\n",
    "plt.show()"
   ]
  },
  {
   "cell_type": "code",
   "execution_count": null,
   "metadata": {
    "collapsed": true
   },
   "outputs": [],
   "source": []
  }
 ],
 "metadata": {
  "kernelspec": {
   "display_name": "Python 2",
   "language": "python",
   "name": "python2"
  },
  "language_info": {
   "codemirror_mode": {
    "name": "ipython",
    "version": 2
   },
   "file_extension": ".py",
   "mimetype": "text/x-python",
   "name": "python",
   "nbconvert_exporter": "python",
   "pygments_lexer": "ipython2",
   "version": "2.7.11"
  }
 },
 "nbformat": 4,
 "nbformat_minor": 0
}
