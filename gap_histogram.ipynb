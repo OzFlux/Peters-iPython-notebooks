{
 "cells": [
  {
   "cell_type": "code",
   "execution_count": 1,
   "metadata": {
    "collapsed": false
   },
   "outputs": [
    {
     "name": "stdout",
     "output_type": "stream",
     "text": [
      "Using matplotlib backend: Qt4Agg\n"
     ]
    }
   ],
   "source": [
    "%run basics\n",
    "%matplotlib"
   ]
  },
  {
   "cell_type": "code",
   "execution_count": 6,
   "metadata": {
    "collapsed": true
   },
   "outputs": [],
   "source": [
    "name_list = [\"/mnt/OzFlux/Sites/Calperum/Data/Portal/Calperum_L3.nc\"]"
   ]
  },
  {
   "cell_type": "code",
   "execution_count": 34,
   "metadata": {
    "collapsed": true
   },
   "outputs": [],
   "source": [
    "name_list = [\"/mnt/OzFlux/Sites/AdelaideRiver/Data/Portal/AdelaideRiver_L3.nc\",\n",
    "            \"/mnt/OzFlux/Sites/AliceSpringsMulga/Data/Portal/AliceSpringsMulga_L3.nc\",\n",
    "            \"/mnt/OzFlux/Sites/Calperum/Data/Portal/Calperum_L3.nc\",\n",
    "            \"/mnt/OzFlux/Sites/CapeTribulation/Data/Portal/CapeTribulation_L3.nc\",\n",
    "            \"/mnt/OzFlux/Sites/CowBay/Data/Portal/CowBay_L3.nc\",\n",
    "            \"/mnt/OzFlux/Sites/CumberlandPlains/Data/Portal/CumberlandPlains_L3.nc\",\n",
    "            \"/mnt/OzFlux/Sites/DalyPasture/Data/Portal/DalyPasture_L3.nc\",\n",
    "            \"/mnt/OzFlux/Sites/DalyUncleared/Data/Portal/DalyUncleared_L3.nc\",\n",
    "            \"/mnt/OzFlux/Sites/DryRiver/Data/Portal/DryRiver_L3.nc\",\n",
    "            \"/mnt/OzFlux/Sites/Emerald/Data/Portal/Emerald_L3.nc\",\n",
    "            \"/mnt/OzFlux/Sites/FoggDam/Data/Portal/FoggDam_L3.nc\",\n",
    "            \"/mnt/OzFlux/Sites/Gingin/Data/Portal/Gingin_L3.nc\",\n",
    "            \"/mnt/OzFlux/Sites/GreatWesternWoodlands/Data/Portal/GreatWesternWoodlands_L3.nc\",\n",
    "            \"/mnt/OzFlux/Sites/HowardSprings/Data/Portal/HowardSprings_L3.nc\",\n",
    "            \"/mnt/OzFlux/Sites/Otway/Data/Portal/Otway_L3.nc\",\n",
    "            \"/mnt/OzFlux/Sites/RedDirtMelonFarm/Data/Portal/RedDirtMelonFarm_L3.nc\",\n",
    "            \"/mnt/OzFlux/Sites/RiggsCreek/Data/Portal/RiggsCreek_L3.nc\",\n",
    "            \"/mnt/OzFlux/Sites/RobsonCreek/Data/Portal/RobsonCreek_L3.nc\",\n",
    "            \"/mnt/OzFlux/Sites/Samford/Data/Portal/Samford_L3.nc\",\n",
    "            \"/mnt/OzFlux/Sites/SturtPlains/Data/Portal/SturtPlains_L3.nc\",\n",
    "            \"/mnt/OzFlux/Sites/Tumbarumba/Data/Portal/Tumbarumba_L3.nc\",\n",
    "            \"/mnt/OzFlux/Sites/Whroo/Data/Portal/Whroo_L3.nc\",\n",
    "            \"/mnt/OzFlux/Sites/WombatStateForest/Data/Portal/WombatStateForest_L3.nc\",\n",
    "            \"/mnt/OzFlux/Sites/Yanco/Data/Portal/Yanco_L3.nc\"]"
   ]
  },
  {
   "cell_type": "code",
   "execution_count": 35,
   "metadata": {
    "collapsed": false
   },
   "outputs": [
    {
     "name": "stdout",
     "output_type": "stream",
     "text": [
      "Processing  /mnt/OzFlux/Sites/AdelaideRiver/Data/Portal/AdelaideRiver_L3.nc\n",
      "Processing  /mnt/OzFlux/Sites/AliceSpringsMulga/Data/Portal/AliceSpringsMulga_L3.nc\n",
      "Processing  /mnt/OzFlux/Sites/Calperum/Data/Portal/Calperum_L3.nc\n",
      "Processing  /mnt/OzFlux/Sites/CapeTribulation/Data/Portal/CapeTribulation_L3.nc\n",
      "Processing  /mnt/OzFlux/Sites/CowBay/Data/Portal/CowBay_L3.nc\n",
      "Processing  /mnt/OzFlux/Sites/CumberlandPlains/Data/Portal/CumberlandPlains_L3.nc\n",
      "Processing  /mnt/OzFlux/Sites/DalyPasture/Data/Portal/DalyPasture_L3.nc\n",
      "Processing  /mnt/OzFlux/Sites/DalyUncleared/Data/Portal/DalyUncleared_L3.nc\n",
      "Processing  /mnt/OzFlux/Sites/DryRiver/Data/Portal/DryRiver_L3.nc\n",
      "Processing  /mnt/OzFlux/Sites/Emerald/Data/Portal/Emerald_L3.nc\n",
      "Processing  /mnt/OzFlux/Sites/FoggDam/Data/Portal/FoggDam_L3.nc\n",
      "Processing  /mnt/OzFlux/Sites/Gingin/Data/Portal/Gingin_L3.nc\n",
      "Processing  /mnt/OzFlux/Sites/GreatWesternWoodlands/Data/Portal/GreatWesternWoodlands_L3.nc\n",
      "Processing  /mnt/OzFlux/Sites/HowardSprings/Data/Portal/HowardSprings_L3.nc\n",
      "Processing  /mnt/OzFlux/Sites/Otway/Data/Portal/Otway_L3.nc\n",
      "Processing  /mnt/OzFlux/Sites/RedDirtMelonFarm/Data/Portal/RedDirtMelonFarm_L3.nc\n",
      "Processing  /mnt/OzFlux/Sites/RiggsCreek/Data/Portal/RiggsCreek_L3.nc\n",
      "Processing  /mnt/OzFlux/Sites/RobsonCreek/Data/Portal/RobsonCreek_L3.nc\n",
      "Processing  /mnt/OzFlux/Sites/Samford/Data/Portal/Samford_L3.nc\n",
      "Processing  /mnt/OzFlux/Sites/SturtPlains/Data/Portal/SturtPlains_L3.nc\n",
      "Processing  /mnt/OzFlux/Sites/Tumbarumba/Data/Portal/Tumbarumba_L3.nc\n",
      "Processing  /mnt/OzFlux/Sites/Whroo/Data/Portal/Whroo_L3.nc\n",
      "Processing  /mnt/OzFlux/Sites/WombatStateForest/Data/Portal/WombatStateForest_L3.nc\n",
      "Processing  /mnt/OzFlux/Sites/Yanco/Data/Portal/Yanco_L3.nc\n"
     ]
    }
   ],
   "source": [
    "rad = ['Fsd','Fsu','Fld','Flu','Fn']\n",
    "met = ['Ah','Cc','Precip','ps','Ta','Ws','Wd']\n",
    "soil = ['Fg','Ts','Sws']\n",
    "flux = ['Fm','ustar','Fh','Fe','Fc']\n",
    "rad_gap_len = numpy.array([])\n",
    "met_gap_len = numpy.array([])\n",
    "soil_gap_len = numpy.array([])\n",
    "flux_gap_len = numpy.array([])\n",
    "for nc_name in name_list:\n",
    "    print \"Processing \",nc_name\n",
    "    ds = qcio.nc_read_series(nc_name)\n",
    "    ts = int(ds.globalattributes[\"time_step\"])\n",
    "    # number of time steps per hour\n",
    "    n = 60/ts\n",
    "    bins = [0,2*n+1,24*n+1,5*24*n+1,30*24*n+1,365*24*n]\n",
    "    bin_labels = [\"<2hrs\",\"<1day\",\"<5days\",\"<30days\",\">30days\",\"365 days\"]\n",
    "    # radiation\n",
    "    for item in rad:\n",
    "        data,flag,attr = qcutils.GetSeriesasMA(ds,item)\n",
    "        mask = numpy.ma.getmaskarray(data)\n",
    "        gap_startend = qcutils.contiguous_regions(mask)\n",
    "        for i in range(len(gap_startend)):\n",
    "            length = gap_startend[i][1]-gap_startend[i][0]\n",
    "            rad_gap_len = numpy.append(rad_gap_len,length)\n",
    "    # meteorology\n",
    "    for item in met:\n",
    "        data,flag,attr = qcutils.GetSeriesasMA(ds,item)\n",
    "        mask = numpy.ma.getmaskarray(data)\n",
    "        gap_startend = qcutils.contiguous_regions(mask)\n",
    "        for i in range(len(gap_startend)):\n",
    "            length = gap_startend[i][1]-gap_startend[i][0]\n",
    "            met_gap_len = numpy.append(met_gap_len,length)\n",
    "    # soil\n",
    "    for item in soil:\n",
    "        data,flag,attr = qcutils.GetSeriesasMA(ds,item)\n",
    "        mask = numpy.ma.getmaskarray(data)\n",
    "        gap_startend = qcutils.contiguous_regions(mask)\n",
    "        for i in range(len(gap_startend)):\n",
    "            length = gap_startend[i][1]-gap_startend[i][0]\n",
    "            soil_gap_len = numpy.append(soil_gap_len,length)\n",
    "    # fluxes\n",
    "    for item in flux:\n",
    "        data,flag,attr = qcutils.GetSeriesasMA(ds,item)\n",
    "        mask = numpy.ma.getmaskarray(data)\n",
    "        gap_startend = qcutils.contiguous_regions(mask)\n",
    "        for i in range(len(gap_startend)):\n",
    "            length = gap_startend[i][1]-gap_startend[i][0]\n",
    "            flux_gap_len = numpy.append(flux_gap_len,length)"
   ]
  },
  {
   "cell_type": "code",
   "execution_count": 36,
   "metadata": {
    "collapsed": false
   },
   "outputs": [],
   "source": [
    "rad_hist,rad_edges = numpy.histogram(rad_gap_len,bins=bins)\n",
    "rad_hist = rad_hist.astype(float)/float(numpy.sum(rad_hist))\n",
    "met_hist,met_edges = numpy.histogram(met_gap_len,bins=bins)\n",
    "met_hist = met_hist.astype(float)/float(numpy.sum(met_hist))\n",
    "soil_hist,soil_edges = numpy.histogram(soil_gap_len,bins=bins)\n",
    "soil_hist = soil_hist.astype(float)/float(numpy.sum(soil_hist))\n",
    "flux_hist,flux_edges = numpy.histogram(flux_gap_len,bins=bins)\n",
    "flux_hist = flux_hist.astype(float)/float(numpy.sum(flux_hist))\n",
    "bar_width = 0.35\n",
    "fig,axs = plt.subplots(2,2,figsize=(10,10))\n",
    "index = numpy.arange(len(rad_hist))\n",
    "axs[0,0].bar(index,rad_hist)\n",
    "axs[0,0].set_title(\"Radiation\")\n",
    "axs[0,0].set_ylabel(\"Frequency\",fontsize=16)\n",
    "#axs[0,0].set_ylabel(\"Occurrences\",fontsize=16)\n",
    "axs[0,0].set_xticks(index+bar_width)\n",
    "axs[0,0].set_xticklabels(bin_labels)\n",
    "axs[0,1].bar(index,met_hist)\n",
    "axs[0,1].set_title(\"Meteorology\")\n",
    "axs[0,1].set_xticks(index+bar_width)\n",
    "axs[0,1].set_xticklabels(bin_labels)\n",
    "axs[1,0].bar(index,soil_hist)\n",
    "axs[1,0].set_title(\"Soil\")\n",
    "axs[1,0].set_xlabel(\"Gap length\",fontsize=16)\n",
    "axs[1,0].set_ylabel(\"Frequency\",fontsize=16)\n",
    "#axs[1,0].set_ylabel(\"Occurrences\",fontsize=16)\n",
    "axs[1,0].set_xticks(index+bar_width)\n",
    "axs[1,0].set_xticklabels(bin_labels)\n",
    "axs[1,1].bar(index,flux_hist)\n",
    "axs[1,1].set_title(\"Fluxes\")\n",
    "axs[1,1].set_xlabel(\"Gap length\",fontsize=16)\n",
    "axs[1,1].set_xticks(index+bar_width)\n",
    "axs[1,1].set_xticklabels(bin_labels)\n",
    "plt.tight_layout()\n",
    "plt.show()"
   ]
  },
  {
   "cell_type": "code",
   "execution_count": 44,
   "metadata": {
    "collapsed": false
   },
   "outputs": [],
   "source": [
    "from scipy import stats\n",
    "rad_sum,rad_edges,rad_num = stats.binned_statistic(rad_gap_len,rad_gap_len,bins=bins,statistic=\"sum\")\n",
    "rad_sum = rad_sum.astype(float)/float(numpy.sum(rad_sum))\n",
    "met_sum,met_edges,met_num = stats.binned_statistic(met_gap_len,met_gap_len,bins=bins,statistic=\"sum\")\n",
    "met_sum = met_sum.astype(float)/float(numpy.sum(met_sum))\n",
    "soil_sum,soil_edges,soil_num = stats.binned_statistic(soil_gap_len,soil_gap_len,bins=bins,statistic=\"sum\")\n",
    "soil_sum = soil_sum.astype(float)/float(numpy.sum(soil_sum))\n",
    "flux_sum,flux_edges,flux_num = stats.binned_statistic(flux_gap_len,flux_gap_len,bins=bins,statistic=\"sum\")\n",
    "flux_sum = flux_sum.astype(float)/float(numpy.sum(flux_sum))\n",
    "bar_width = 0.35\n",
    "fig,axs = plt.subplots(2,2,figsize=(10,10))\n",
    "index = numpy.arange(len(rad_hist[0]))\n",
    "axs[0,0].bar(index,rad_sum)\n",
    "axs[0,0].set_title(\"Radiation\")\n",
    "#axs[0,0].set_ylabel(\"Frequency\",fontsize=16)\n",
    "axs[0,0].set_ylabel(\"Fraction of all gaps\",fontsize=16)\n",
    "axs[0,0].set_xticks(index+bar_width)\n",
    "axs[0,0].set_xticklabels(bin_labels)\n",
    "axs[0,1].bar(index,met_sum)\n",
    "axs[0,1].set_title(\"Meteorology\")\n",
    "axs[0,1].set_xticks(index+bar_width)\n",
    "axs[0,1].set_xticklabels(bin_labels)\n",
    "axs[1,0].bar(index,soil_sum)\n",
    "axs[1,0].set_title(\"Soil\")\n",
    "axs[1,0].set_xlabel(\"Gap length\",fontsize=16)\n",
    "#axs[1,0].set_ylabel(\"Frequency\",fontsize=16)\n",
    "axs[1,0].set_ylabel(\"Fraction of all gaps\",fontsize=16)\n",
    "axs[1,0].set_xticks(index+bar_width)\n",
    "axs[1,0].set_xticklabels(bin_labels)\n",
    "axs[1,1].bar(index,flux_sum)\n",
    "axs[1,1].set_title(\"Fluxes\")\n",
    "axs[1,1].set_xlabel(\"Gap length\",fontsize=16)\n",
    "axs[1,1].set_xticks(index+bar_width)\n",
    "axs[1,1].set_xticklabels(bin_labels)\n",
    "plt.tight_layout()\n",
    "plt.show()"
   ]
  },
  {
   "cell_type": "code",
   "execution_count": null,
   "metadata": {
    "collapsed": true
   },
   "outputs": [],
   "source": []
  }
 ],
 "metadata": {
  "kernelspec": {
   "display_name": "Python 2",
   "language": "python",
   "name": "python2"
  },
  "language_info": {
   "codemirror_mode": {
    "name": "ipython",
    "version": 2
   },
   "file_extension": ".py",
   "mimetype": "text/x-python",
   "name": "python",
   "nbconvert_exporter": "python",
   "pygments_lexer": "ipython2",
   "version": "2.7.11"
  }
 },
 "nbformat": 4,
 "nbformat_minor": 0
}
