{
 "cells": [
  {
   "cell_type": "code",
   "execution_count": 1,
   "metadata": {
    "collapsed": false
   },
   "outputs": [
    {
     "name": "stdout",
     "output_type": "stream",
     "text": [
      "Using matplotlib backend: Qt4Agg\n"
     ]
    }
   ],
   "source": [
    "%run basics\n",
    "%matplotlib\n",
    "import pysolar\n",
    "import pytz"
   ]
  },
  {
   "cell_type": "code",
   "execution_count": null,
   "metadata": {
    "collapsed": true
   },
   "outputs": [],
   "source": [
    "def solar_altitude_IMcH():\n",
    "    pass\n"
   ]
  },
  {
   "cell_type": "code",
   "execution_count": 2,
   "metadata": {
    "collapsed": false
   },
   "outputs": [],
   "source": [
    "ecmwf_name = \"../ECMWF/2014.nc\"\n",
    "ecmwf_file = netCDF4.Dataset(ecmwf_name)"
   ]
  },
  {
   "cell_type": "code",
   "execution_count": 3,
   "metadata": {
    "collapsed": false
   },
   "outputs": [],
   "source": [
    "latitude = ecmwf_file.variables[\"latitude\"][:]\n",
    "longitude = ecmwf_file.variables[\"longitude\"][:]\n",
    "# [0,0] is top left\n",
    "#print latitude[0],longitude[0]\n",
    "#print latitude[-1],longitude[-1]\n",
    "lat_resolution = abs(latitude[-1]-latitude[0])/(len(latitude)-1)\n",
    "lon_resolution = abs(longitude[-1]-longitude[0])/(len(longitude)-1)\n",
    "#print lat_resolution,lon_resolution"
   ]
  },
  {
   "cell_type": "code",
   "execution_count": 4,
   "metadata": {
    "collapsed": false
   },
   "outputs": [],
   "source": [
    "# get the time and convert to Python datetime object\n",
    "ecmwf_time = ecmwf_file.variables[\"time\"][:]\n",
    "time_units = getattr(ecmwf_file.variables[\"time\"],\"units\")\n",
    "dt_ecmwf =  netCDF4.num2date(ecmwf_time,time_units)\n",
    "hour_utc = numpy.array([dt.hour for dt in dt_ecmwf])\n",
    "#print dt_ecmwf[0],dt_ecmwf[-1]"
   ]
  },
  {
   "cell_type": "code",
   "execution_count": 5,
   "metadata": {
    "collapsed": true
   },
   "outputs": [],
   "source": [
    "# variables are dimensioned [time,latitude,longitude]\n",
    "Fsd_3d = ecmwf_file.variables[\"ssrd\"][:,:,:]"
   ]
  },
  {
   "cell_type": "code",
   "execution_count": 6,
   "metadata": {
    "collapsed": false
   },
   "outputs": [
    {
     "name": "stdout",
     "output_type": "stream",
     "text": [
      "36 47 -36.75 144.75\n"
     ]
    }
   ],
   "source": [
    "site_name = \"Whroo\"\n",
    "site_timezone = \"Australia/Melbourne\"\n",
    "site_latitude = -36.67305\n",
    "site_longitude = 145.02621\n",
    "site_lat_index = int(((latitude[0]-site_latitude)/lat_resolution)+0.5)\n",
    "site_lon_index = int(((site_longitude-longitude[0])/lon_resolution)+0.5)\n",
    "print site_lat_index,site_lon_index,latitude[site_lat_index],longitude[site_lon_index]"
   ]
  },
  {
   "cell_type": "code",
   "execution_count": 7,
   "metadata": {
    "collapsed": false
   },
   "outputs": [],
   "source": [
    "Fsd_accum = Fsd_3d[:,site_lat_index,site_lon_index]"
   ]
  },
  {
   "cell_type": "code",
   "execution_count": 18,
   "metadata": {
    "collapsed": false
   },
   "outputs": [],
   "source": [
    "site_tz = pytz.timezone(site_timezone)\n",
    "# make utc_dt timezone aware\n",
    "dt_ecmwf_utc = [x.replace(tzinfo=pytz.utc) for x in dt_ecmwf]\n",
    "# get local time from UTC\n",
    "dt_ecmwf_loc = [x.astimezone(site_tz) for x in dt_ecmwf_utc]\n",
    "# NOTE: will have to disable daylight saving at some stage, towers stay on Standard Time\n",
    "# PRI hopes that the following line will do this ...\n",
    "#dt_ecmwf_loc = [x-x.dst() for x in dt_ecmwf_loc]\n",
    "# make local time timezone naive to match datetimes in OzFluxQC\n",
    "dt_ecmwf_ntz = [x.replace(tzinfo=None) for x in dt_ecmwf_loc]\n",
    "dt_ecmwf_cor = [x - datetime.timedelta(hours=1.5) for x in dt_ecmwf_ntz]"
   ]
  },
  {
   "cell_type": "code",
   "execution_count": 9,
   "metadata": {
    "collapsed": false
   },
   "outputs": [],
   "source": [
    "# Downwelling shortwave in ERA-I is a cummulative value that is reset to 0\n",
    "# at 0300 and 1500 UTC.  Here we convert the cummulative values to\n",
    "# 3 hourly values.\n",
    "Fsd_erai_3hr = numpy.ediff1d(Fsd_accum,to_begin=0)\n",
    "idx = numpy.where((hour_utc==3)|(hour_utc==15))[0]\n",
    "Fsd_erai_3hr[idx] = Fsd_accum[idx]\n",
    "Fsd_erai_3hr = Fsd_erai_3hr/(3*3600)"
   ]
  },
  {
   "cell_type": "code",
   "execution_count": null,
   "metadata": {
    "collapsed": true
   },
   "outputs": [],
   "source": [
    "fig=plt.figure()\n",
    "plt.plot(dt_ecmwf,Fsd_accum,'b.')\n",
    "plt.show()"
   ]
  },
  {
   "cell_type": "code",
   "execution_count": 10,
   "metadata": {
    "collapsed": false
   },
   "outputs": [],
   "source": [
    "tower_name = \"../Sites/Whroo/Data/Portal/Whroo_2014_L3.nc\"\n",
    "tower_file = netCDF4.Dataset(tower_name)\n",
    "tower_time = tower_file.variables[\"time\"][:]\n",
    "time_units = getattr(tower_file.variables[\"time\"],\"units\")\n",
    "dt_tower =  netCDF4.num2date(tower_time,time_units)\n",
    "Fsd_tower = tower_file.variables[\"Fsd\"][:,0,0]"
   ]
  },
  {
   "cell_type": "code",
   "execution_count": 16,
   "metadata": {
    "collapsed": true
   },
   "outputs": [],
   "source": [
    "alt_solar_3hr = numpy.array([pysolar.GetAltitude(site_latitude,site_longitude,dt) for dt in dt_ecmwf_utc])"
   ]
  },
  {
   "cell_type": "code",
   "execution_count": 19,
   "metadata": {
    "collapsed": false
   },
   "outputs": [],
   "source": [
    "fig=plt.figure()\n",
    "plt.plot(dt_tower,Fsd_tower,'b-')\n",
    "plt.plot(dt_ecmwf_cor,Fsd_erai_3hr,'r+')\n",
    "plt.plot(dt_ecmwf_cor,1000*numpy.sin(numpy.deg2rad(alt_solar_3hr)),'g^')\n",
    "plt.show()"
   ]
  },
  {
   "cell_type": "code",
   "execution_count": null,
   "metadata": {
    "collapsed": true
   },
   "outputs": [],
   "source": [
    "# Now we interpolate from the 3 hourly ERA-I time step to the tower time step using the solar altitude.\n",
    "Fsd_erai_1hr = numpy.zeros(len(Fsd_erai_3hr)*3)\n",
    "idx = numpy.array(range(0,len(Fsd_erai_3hr)))\n",
    "Fsd_erai_1hr[idx*3] = Fsd_erai_3hr[idx]\n",
    "Fsd_erai_1hr[idx*3+1] = Fsd_erai_3hr[idx]\n",
    "Fsd_erai_1hr[idx*3+2] = Fsd_erai_3hr[idx]\n",
    "# now get the 1 hour datetime series\n",
    "dt_erai_1hr = [x for x in qcutils.perdelta(dt_ecmwf_cor[0],dt_ecmwf_cor[-1],datetime.timedelta(minutes=60))]\n",
    "#dt_erai_1hr = [dt_ecmwf_cor[0]-datetime.timedelta(minutes=60)]+dt_erai_1hr\n",
    "#dt_erai_1hr = dt_erai_1hr+[dt_ecmwf_cor[-1]+datetime.timedelta(minutes=60)]"
   ]
  },
  {
   "cell_type": "code",
   "execution_count": null,
   "metadata": {
    "collapsed": false
   },
   "outputs": [],
   "source": [
    "fig=plt.figure()\n",
    "plt.plot(dt_tower,Fsd_tower,'b-')\n",
    "plt.plot(dt_erai_1hrb,Fsd_erai_1hr,'r+')\n",
    "plt.show()"
   ]
  },
  {
   "cell_type": "code",
   "execution_count": null,
   "metadata": {
    "collapsed": true
   },
   "outputs": [],
   "source": [
    "# get the solar altitude, we will use this later to interpolate the ERA Interim\n",
    "# data from the ERA-I 3 hour time step to the tower time step.\n",
    "alt_solar_3hr = numpy.array([pysolar.GetAltitude(site_latitude,site_longitude,dt) for dt in dt_ecmwf])\n",
    "idx = numpy.where(alt_solar_3hr<=0)[0]\n",
    "alt_solar_3hr[idx] = float(0)\n",
    "alt_solar_1hr = numpy.zeros(len(alt_solar_3hr)*3)\n",
    "idx = numpy.array(range(0,len(alt_solar_3hr)))\n",
    "alt_solar_1hr[idx*3] = alt_solar_3hr[idx]\n",
    "alt_solar_1hr[idx*3+1] = alt_solar_3hr[idx]\n",
    "alt_solar_1hr[idx*3+2] = alt_solar_3hr[idx]"
   ]
  },
  {
   "cell_type": "code",
   "execution_count": null,
   "metadata": {
    "collapsed": true
   },
   "outputs": [],
   "source": [
    "# now get the true solar altitude\n",
    "dt_erai_utc_1hr = [x for x in qcutils.perdelta(dt_ecmwf[0],dt_ecmwf[-1],datetime.timedelta(minutes=60))]\n",
    "#dt_erai_utc_1hr = [dt_ecmwf[0]-datetime.timedelta(minutes=60)]+dt_erai_utc_1hr\n",
    "#dt_erai_utc_1hr = dt_erai_utc_1hr+[dt_ecmwf[-1]+datetime.timedelta(minutes=60)]\n",
    "alt_solar = numpy.array([pysolar.GetAltitude(site_latitude,site_longitude,dt) for dt in dt_erai_utc_1hr])\n",
    "idx = numpy.where(alt_solar<=0)[0]\n",
    "alt_solar[idx] = float(0)"
   ]
  },
  {
   "cell_type": "code",
   "execution_count": null,
   "metadata": {
    "collapsed": false
   },
   "outputs": [],
   "source": [
    "fig=plt.figure()\n",
    "plt.plot(dt_ecmwf_cor,alt_solar_3hr)\n",
    "plt.plot(dt_erai_1hr,alt_solar_1hr,'r+')\n",
    "plt.plot(dt_erai_1hr,alt_solar,'g^')\n",
    "plt.show()"
   ]
  },
  {
   "cell_type": "code",
   "execution_count": null,
   "metadata": {
    "collapsed": false
   },
   "outputs": [],
   "source": [
    "fig=plt.figure()\n",
    "plt.plot(dt_ecmwf_cor,1000*numpy.sin(numpy.deg2rad(alt_solar_3hr)),'b.')\n",
    "plt.plot(dt_erai_1hr,1000*numpy.sin(numpy.deg2rad(alt_solar)),'b^')\n",
    "plt.plot(dt_ecmwf_cor,Fsd_erai_3hr,'r+')\n",
    "plt.show()"
   ]
  },
  {
   "cell_type": "code",
   "execution_count": null,
   "metadata": {
    "collapsed": false
   },
   "outputs": [],
   "source": [
    "ratio = numpy.sin(numpy.deg2rad(alt_solar))/numpy.sin(numpy.deg2rad(alt_solar_1hr))\n",
    "Fsd_erai_1hr = ratio*Fsd_erai_1hr\n",
    "fig=plt.figure()\n",
    "plt.plot(dt_tower,Fsd_tower,'b-')\n",
    "plt.plot(dt_erai_1hr,Fsd_erai_1hr,'r+')\n",
    "plt.ylim([0,1200])\n",
    "plt.show()"
   ]
  },
  {
   "cell_type": "code",
   "execution_count": null,
   "metadata": {
    "collapsed": true
   },
   "outputs": [],
   "source": [
    "from scipy.interpolate import InterpolatedUnivariateSpline\n",
    "order = 1\n"
   ]
  }
 ],
 "metadata": {
  "kernelspec": {
   "display_name": "Python 2",
   "language": "python",
   "name": "python2"
  },
  "language_info": {
   "codemirror_mode": {
    "name": "ipython",
    "version": 2
   },
   "file_extension": ".py",
   "mimetype": "text/x-python",
   "name": "python",
   "nbconvert_exporter": "python",
   "pygments_lexer": "ipython2",
   "version": "2.7.10"
  }
 },
 "nbformat": 4,
 "nbformat_minor": 0
}
