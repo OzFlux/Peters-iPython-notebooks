{
 "metadata": {
  "name": "",
  "signature": "sha256:9566eb8e1b0ac32c0eb0331866d7adb4fa15c36859b256568ce9688e169f7d45"
 },
 "nbformat": 3,
 "nbformat_minor": 0,
 "worksheets": [
  {
   "cells": [
    {
     "cell_type": "code",
     "collapsed": false,
     "input": [
      "%run basics\n",
      "%matplotlib"
     ],
     "language": "python",
     "metadata": {},
     "outputs": [
      {
       "output_type": "stream",
       "stream": "stdout",
       "text": [
        "Using matplotlib backend: Qt4Agg\n"
       ]
      }
     ],
     "prompt_number": 1
    },
    {
     "cell_type": "code",
     "collapsed": false,
     "input": [
      "def NEE_Lasslop(Fsd,D,T,D0,E0,alpha,beta0,k,rb):\n",
      "    NEE = -1*GPP_Lasslop(Fsd,D,alpha,beta0,k,D0) + Reco_LloydTaylor(T,rb,E0)\n",
      "    return NEE"
     ],
     "language": "python",
     "metadata": {},
     "outputs": [],
     "prompt_number": 2
    },
    {
     "cell_type": "code",
     "collapsed": false,
     "input": [
      "def NEE_Isaac(Fsd,D,T,D0,E0,alpha,beta0,rb):\n",
      "#def NEE_Isaac(args,params):\n",
      "    NEE = -1*GPP_Isaac(Fsd,D,alpha,beta0,D0) + Reco_LloydTaylor(T,rb,E0)\n",
      "    return NEE"
     ],
     "language": "python",
     "metadata": {},
     "outputs": [],
     "prompt_number": 3
    },
    {
     "cell_type": "code",
     "collapsed": false,
     "input": [
      "def NEE_NRH_Isaac(Fsd,D,T,D0,E0,alpha,beta0,eta,rb):\n",
      "    NEE = -1*GPP_NRH_Isaac(Fsd,D,alpha,beta0,eta,D0) + Reco_LloydTaylor(T,rb,E0)\n",
      "    return NEE"
     ],
     "language": "python",
     "metadata": {},
     "outputs": [],
     "prompt_number": 4
    },
    {
     "cell_type": "code",
     "collapsed": false,
     "input": [
      "def GPP_Lasslop(Fsd,D,alpha,beta0,k,D0):\n",
      "    beta = beta0*SHD_func_Lasslop(D,k,D0)\n",
      "    GPP = alpha*beta*Fsd/(alpha*Fsd+beta)\n",
      "    return GPP"
     ],
     "language": "python",
     "metadata": {},
     "outputs": [],
     "prompt_number": 5
    },
    {
     "cell_type": "code",
     "collapsed": false,
     "input": [
      "def GPP_Isaac(Fsd,D,alpha,beta0,D0):\n",
      "    beta = beta0*SHD_func_Isaac(D,D0)\n",
      "    GPP = alpha*beta*Fsd/(alpha*Fsd+beta)\n",
      "    return GPP"
     ],
     "language": "python",
     "metadata": {},
     "outputs": [],
     "prompt_number": 6
    },
    {
     "cell_type": "code",
     "collapsed": false,
     "input": [
      "def GPP_NRH_Isaac(Fsd,D,alpha,beta0,eta,D0):\n",
      "    beta = beta0*SHD_func_Isaac(D,D0)\n",
      "    GPP = (1/(2*eta))*(alpha*Fsd+beta-numpy.sqrt((alpha*Fsd+beta)**2-4*alpha*beta*eta*Fsd))\n",
      "    return GPP"
     ],
     "language": "python",
     "metadata": {},
     "outputs": [],
     "prompt_number": 7
    },
    {
     "cell_type": "code",
     "collapsed": false,
     "input": [
      "def SHD_func_Lasslop(D,k,D0):\n",
      "    SHD_func = numpy.ones(len(D))\n",
      "    idx = numpy.where(D>D0)[0]\n",
      "    SHD_func[idx] = numpy.exp(-k*(D[idx]-D0))\n",
      "    return SHD_func"
     ],
     "language": "python",
     "metadata": {},
     "outputs": [],
     "prompt_number": 8
    },
    {
     "cell_type": "code",
     "collapsed": false,
     "input": [
      "def SHD_func_Isaac(D,D0):\n",
      "    SHD_func = numpy.ones(len(D))\n",
      "    idx = numpy.where(D>D0)[0]\n",
      "    SHD_func[idx] = 1/(1+(D[idx]-D0)/D0)\n",
      "    return SHD_func"
     ],
     "language": "python",
     "metadata": {},
     "outputs": [],
     "prompt_number": 9
    },
    {
     "cell_type": "code",
     "collapsed": false,
     "input": [
      "def Reco_LloydTaylor(T,rb,E0):\n",
      "#    return rb*numpy.exp(E0*(1/(c.Tref-c.T0)-1/(T-c.T0)))\n",
      "    return rb*numpy.exp(E0*(1/(288.13-227.13)-1/((T+273.15)-227.13)))"
     ],
     "language": "python",
     "metadata": {},
     "outputs": [],
     "prompt_number": 10
    },
    {
     "cell_type": "code",
     "collapsed": false,
     "input": [
      "def plot_Reco(fig,i,Reco,T,Sws,weight_type='Huber'):\n",
      "    ax = fig.add_subplot(2,2,i)\n",
      "    popt,pcov = irls_leastsq(residuals_LT,[2,200],args=(Reco,T),maxfev=3,weight_type=weight_type)\n",
      "    resid = Reco - Reco_LloydTaylor(T,popt[0],popt[1])\n",
      "    weights = CalculateWeights(resid,weight_type=weight_type)\n",
      "    plt.scatter(T,Reco,c=weights)\n",
      "    #mean,edges,number = scipy.stats.binned_statistic(T,Reco,statistic='mean')\n",
      "    #mid = [(edges[i]+edges[i+1])/2 for i in range(0,len(edges)-1)]\n",
      "    #plt.plot(mid,mean,'ro')\n",
      "    Xfit = numpy.linspace(numpy.min(T),numpy.max(T),100)\n",
      "    Yfit = Reco_LloydTaylor(Xfit,popt[0],popt[1])\n",
      "    plt.plot(Xfit,Yfit,'r-')\n",
      "    text_str = ('%.2f < Sws < %.2f'%(Sws[0],Sws[-1]))\n",
      "    plt.text(0.5,0.9,text_str,horizontalalignment='center',transform=ax.transAxes)\n",
      "    text_str = ('rb=%.2f,E0=%.2f'%(popt[0],popt[-1]))\n",
      "    plt.text(0.5,0.8,text_str,horizontalalignment='center',transform=ax.transAxes)"
     ],
     "language": "python",
     "metadata": {},
     "outputs": [],
     "prompt_number": 11
    },
    {
     "cell_type": "code",
     "collapsed": false,
     "input": [
      "def irls_leastsq(func,p0,args=(),maxfev=3,weight_type='Huber'):\n",
      "    weighted = False\n",
      "    popt,pcov = scipy.optimize.leastsq(func,p0,args=args+(weighted,weight_type))\n",
      "    print 'After non-weighted call to leastsq: ',popt\n",
      "    n=1\n",
      "    weighted = True\n",
      "    while n<=maxfev:\n",
      "        popt,pcov = scipy.optimize.leastsq(func,popt,args=args+(weighted,weight_type))\n",
      "        print 'Weighted call '+str(n)+' to leastsq: ',popt\n",
      "        NEE_plt = NEE_Isaac(args[1],args[2],args[3],args[4],args[5],popt[0],popt[1],popt[2])\n",
      "#        NEE_plt = NEE_Isaac(args[1:],popt)\n",
      "        resid = args[0] - NEE_plt\n",
      "        weights = CalculateWeights(resid,weight_type=weight_type)\n",
      "        fig = plt.figure()\n",
      "        plt.scatter(args[1],args[0],c=weights)\n",
      "        plt.plot(args[1],NEE_plt,'r+')\n",
      "        plt.show()\n",
      "        n = n + 1\n",
      "    return popt,pcov"
     ],
     "language": "python",
     "metadata": {},
     "outputs": [],
     "prompt_number": 12
    },
    {
     "cell_type": "code",
     "collapsed": false,
     "input": [
      "def residuals_LloydTaylor(params,Reco,T,weighted,weight_type):\n",
      "    rb = params[0]\n",
      "    E0 = params[1]\n",
      "    resid = Reco - Reco_LloydTaylor(T,rb,E0)\n",
      "    if weighted:\n",
      "        weights = CalculateWeights(resid,weight_type=weight_type)\n",
      "        return resid*weights\n",
      "    else:\n",
      "        return resid"
     ],
     "language": "python",
     "metadata": {},
     "outputs": [],
     "prompt_number": 13
    },
    {
     "cell_type": "code",
     "collapsed": false,
     "input": [
      "def residuals_Lasslop(params,NEE,Fsd,D,T,D0,E0,weighted,weight_type):\n",
      "    alpha = params[0]\n",
      "    beta0 = params[1]\n",
      "    k = params[2]\n",
      "    rb = params[3]\n",
      "    resid = NEE - NEE_Lasslop(Fsd,D,T,D0,E0,alpha,beta0,k,rb)\n",
      "    if weighted:\n",
      "        weights = CalculateWeights(resid,weight_type=weight_type)\n",
      "        return resid*weights\n",
      "    else:\n",
      "        return resid"
     ],
     "language": "python",
     "metadata": {},
     "outputs": [],
     "prompt_number": 14
    },
    {
     "cell_type": "code",
     "collapsed": false,
     "input": [
      "def residuals_Isaac(params,NEE,Fsd,D,T,D0,E0,weighted,weight_type):\n",
      "    alpha = params[0]\n",
      "    beta0 = params[1]\n",
      "    eta = params[2]\n",
      "    rb = params[3]\n",
      "    resid = NEE - NEE_NRH_Isaac(Fsd,D,T,D0,E0,alpha,beta0,eta,rb)\n",
      "    if weighted:\n",
      "        weights = CalculateWeights(resid,weight_type=weight_type)\n",
      "        return resid*weights\n",
      "    else:\n",
      "        return resid"
     ],
     "language": "python",
     "metadata": {},
     "outputs": [],
     "prompt_number": 15
    },
    {
     "cell_type": "code",
     "collapsed": false,
     "input": [
      "def CalculateWeights(resid,weight_type='Huber'):\n",
      "    if weight_type.lower()=='tukey':\n",
      "        weights = TukeyBiweight(MAD_scale(resid))\n",
      "    elif weight_type.lower()=='huber':\n",
      "        weights = HuberTWeight(MAD_scale(resid))\n",
      "    elif weight_type.lower()=='ols':\n",
      "        weights = OLSWeight(MAD_scale(resid))\n",
      "    else:\n",
      "        print \"CalculateWeights: Unknown weight type, used Huber's t weight\"\n",
      "        weights = HuberTWeight(MAD_scale(resid))\n",
      "    return weights"
     ],
     "language": "python",
     "metadata": {},
     "outputs": [],
     "prompt_number": 16
    },
    {
     "cell_type": "code",
     "collapsed": false,
     "input": [
      "def TukeyBiweight(x):\n",
      "    return ((numpy.abs(x)<1.0)*(1.0 - x**2)**2)"
     ],
     "language": "python",
     "metadata": {},
     "outputs": [],
     "prompt_number": 17
    },
    {
     "cell_type": "code",
     "collapsed": false,
     "input": [
      "def HuberTWeight(x):\n",
      "    weights = numpy.ones(len(x))\n",
      "    idx = numpy.where(numpy.abs(x)>1.345)[0]\n",
      "    weights[idx] = 1.345/numpy.abs(x[idx])\n",
      "    return weights"
     ],
     "language": "python",
     "metadata": {},
     "outputs": [],
     "prompt_number": 18
    },
    {
     "cell_type": "code",
     "collapsed": false,
     "input": [
      "def OLSWeight(x):\n",
      "    weights = numpy.ones(len(x))\n",
      "    return weights"
     ],
     "language": "python",
     "metadata": {},
     "outputs": [],
     "prompt_number": 19
    },
    {
     "cell_type": "code",
     "collapsed": false,
     "input": [
      "def MAD_scale(resid):\n",
      "    scale = numpy.median(numpy.abs(resid - numpy.median(resid))) / 0.6745\n",
      "    return resid/scale"
     ],
     "language": "python",
     "metadata": {},
     "outputs": [],
     "prompt_number": 20
    },
    {
     "cell_type": "code",
     "collapsed": false,
     "input": [
      "ncname = qcio.get_filename_dialog(path=\"../../Sites/HowardSprings/Data/Processed/all\")\n",
      "print ncname\n",
      "ds = qcio.nc_read_series(ncname)\n",
      "ldt = ds.series[\"DateTime\"][\"Data\"]\n",
      "ts = int(ds.globalattributes[\"time_step\"])\n",
      "site_name = ds.globalattributes[\"site_name\"]"
     ],
     "language": "python",
     "metadata": {},
     "outputs": [
      {
       "output_type": "stream",
       "stream": "stdout",
       "text": [
        "/home/peter/OzFlux/Sites/HowardSprings/Data/Processed/all/HowardSprings_2011_to_2013_L5.nc\n"
       ]
      }
     ],
     "prompt_number": 21
    },
    {
     "cell_type": "code",
     "collapsed": false,
     "input": [
      "Fsd,f,a = qcutils.GetSeriesasMA(ds,\"Fsd\")\n",
      "D,f,a = qcutils.GetSeriesasMA(ds,\"SHD\")\n",
      "T,f,a = qcutils.GetSeriesasMA(ds,\"Ts\")\n",
      "Fc,f,a = qcutils.GetSeriesasMA(ds,\"Fc\")"
     ],
     "language": "python",
     "metadata": {},
     "outputs": [],
     "prompt_number": 22
    },
    {
     "cell_type": "code",
     "collapsed": false,
     "input": [
      "fig = plt.figure(1)\n",
      "ax1=plt.subplot(411)\n",
      "plt.plot(ldt,Fsd)\n",
      "ax2=plt.subplot(412,sharex=ax1)\n",
      "plt.plot(ldt,D)\n",
      "ax3=plt.subplot(413,sharex=ax1)\n",
      "plt.plot(ldt,T)\n",
      "ax4=plt.subplot(414,sharex=ax1)\n",
      "plt.plot(ldt,Fc)\n",
      "plt.show()"
     ],
     "language": "python",
     "metadata": {},
     "outputs": [],
     "prompt_number": 23
    },
    {
     "cell_type": "code",
     "collapsed": false,
     "input": [
      "Fc = numpy.ma.masked_where(f!=0,Fc)\n",
      "Fc_day = numpy.ma.masked_where(Fsd<=10,Fc)\n",
      "mask = Fc_day.mask\n",
      "for item in [D,T]:\n",
      "    mask = numpy.ma.mask_or(mask,item.mask)\n",
      "NEE_day = numpy.ma.array(Fc_day,mask=mask)\n",
      "Fsd = numpy.ma.array(Fsd,mask=mask)\n",
      "D = numpy.ma.array(D,mask=mask)\n",
      "T = numpy.ma.array(T,mask=mask)"
     ],
     "language": "python",
     "metadata": {},
     "outputs": [],
     "prompt_number": 24
    },
    {
     "cell_type": "code",
     "collapsed": false,
     "input": [
      "fig = plt.figure(1)\n",
      "ax1=plt.subplot(411)\n",
      "plt.plot(ldt,Fsd)\n",
      "ax2=plt.subplot(412,sharex=ax1)\n",
      "plt.plot(ldt,D)\n",
      "ax3=plt.subplot(413,sharex=ax1)\n",
      "plt.plot(ldt,T)\n",
      "ax4=plt.subplot(414,sharex=ax1)\n",
      "plt.plot(ldt,NEE_day)\n",
      "plt.show()"
     ],
     "language": "python",
     "metadata": {},
     "outputs": [],
     "prompt_number": 25
    },
    {
     "cell_type": "code",
     "collapsed": false,
     "input": [
      "start_date = ldt[0]\n",
      "end_date = datetime.datetime(start_date.year+1,1,1)+datetime.timedelta(minutes=ts)\n",
      "this_date = start_date + datetime.timedelta(days=10)\n",
      "#while this_date<end_date:\n",
      "si = qcutils.GetDateIndex(ldt,str(start_date),ts=ts)\n",
      "ei = qcutils.GetDateIndex(ldt,str(this_date),ts=ts)\n",
      "ldt_plt = ldt[si:ei+1]\n",
      "NEE_plt = NEE_day[si:ei+1]\n",
      "Fsd_plt = Fsd[si:ei+1]\n",
      "D_plt = D[si:ei+1]\n",
      "T_plt = T[si:ei+1]\n",
      "idx = numpy.ma.where(NEE_plt.mask==False)[0]\n",
      "ldt_plt = [ldt_plt[i] for i in idx]\n",
      "NEE_plt = numpy.ma.compressed(NEE_plt)\n",
      "Fsd_plt = numpy.ma.compressed(Fsd_plt)\n",
      "D_plt = numpy.ma.compressed(D_plt)\n",
      "T_plt = numpy.ma.compressed(T_plt)"
     ],
     "language": "python",
     "metadata": {},
     "outputs": [],
     "prompt_number": 26
    },
    {
     "cell_type": "code",
     "collapsed": false,
     "input": [
      "fig=plt.figure(1)\n",
      "ax1=plt.subplot(411)\n",
      "plt.plot(ldt_plt,Fsd_plt,'b.')\n",
      "ax2=plt.subplot(412,sharex=ax1)\n",
      "plt.plot(ldt_plt,D_plt,'b.')\n",
      "ax3=plt.subplot(413,sharex=ax1)\n",
      "plt.plot(ldt_plt,T_plt,'b.')\n",
      "ax4=plt.subplot(414,sharex=ax1)\n",
      "plt.plot(ldt_plt,NEE_plt,'b.')\n",
      "plt.show()"
     ],
     "language": "python",
     "metadata": {},
     "outputs": [],
     "prompt_number": 27
    },
    {
     "cell_type": "code",
     "collapsed": false,
     "input": [
      "fig=plt.figure(1)\n",
      "plt.plot(Fsd_plt,NEE_plt,'b.')\n",
      "plt.show()"
     ],
     "language": "python",
     "metadata": {},
     "outputs": [],
     "prompt_number": 26
    },
    {
     "cell_type": "code",
     "collapsed": false,
     "input": [
      "#popt,pcov = irls_leastsq(residuals_Lasslop,[0.1,100,0,1],args=(NEE_plt,Fsd_plt,D_plt,T_plt,0.005,210),maxfev=3,weight_type='Huber')\n",
      "popt,pcov = irls_leastsq(residuals_Isaac,[0.1,100,1,1],args=(NEE_plt,Fsd_plt,D_plt,T_plt,0.005,50),maxfev=3,weight_type='Huber')\n",
      "print start_date,this_date,popt\n",
      "start_date = start_date + datetime.timedelta(days=5)\n",
      "this_date = start_date + datetime.timedelta(days=10)"
     ],
     "language": "python",
     "metadata": {},
     "outputs": [
      {
       "output_type": "stream",
       "stream": "stdout",
       "text": [
        "After non-weighted call to leastsq:  [  3.99699570e-02   7.51855105e+01   2.77850107e-01   1.00000000e+00]\n",
        "Weighted call 1 to leastsq:  [  3.92300536e-02   7.56530178e+01   2.73494580e-01   1.00000000e+00]\n",
        "Weighted call 2 to leastsq: "
       ]
      },
      {
       "output_type": "stream",
       "stream": "stdout",
       "text": [
        " [  3.92300550e-02   7.56530243e+01   2.73494709e-01   1.00000000e+00]\n",
        "Weighted call 3 to leastsq: "
       ]
      },
      {
       "output_type": "stream",
       "stream": "stdout",
       "text": [
        " [  3.92300550e-02   7.56530243e+01   2.73494709e-01   1.00000000e+00]\n",
        "2011-01-16 00:30:00"
       ]
      },
      {
       "output_type": "stream",
       "stream": "stdout",
       "text": [
        " 2011-01-26 00:30:00 [  3.92300550e-02   7.56530243e+01   2.73494709e-01   1.00000000e+00]\n"
       ]
      }
     ],
     "prompt_number": 31
    },
    {
     "cell_type": "code",
     "collapsed": false,
     "input": [
      "fig=plt.figure()\n",
      "plt.plot(D_plt,SHD_func_Isaac(D_plt,0.005),'b.')\n",
      "plt.show()"
     ],
     "language": "python",
     "metadata": {},
     "outputs": [],
     "prompt_number": 44
    },
    {
     "cell_type": "code",
     "collapsed": false,
     "input": [],
     "language": "python",
     "metadata": {},
     "outputs": []
    }
   ],
   "metadata": {}
  }
 ]
}