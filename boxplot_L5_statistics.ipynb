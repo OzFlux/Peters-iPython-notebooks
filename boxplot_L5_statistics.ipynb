{
 "cells": [
  {
   "cell_type": "code",
   "execution_count": 1,
   "metadata": {
    "collapsed": false
   },
   "outputs": [
    {
     "name": "stdout",
     "output_type": "stream",
     "text": [
      "Using matplotlib backend: Qt4Agg\n"
     ]
    }
   ],
   "source": [
    "%run basics\n",
    "%matplotlib\n",
    "import xlrd\n",
    "from matplotlib.patches import Polygon"
   ]
  },
  {
   "cell_type": "code",
   "execution_count": 2,
   "metadata": {
    "collapsed": true
   },
   "outputs": [],
   "source": [
    "def get_data_xlsheet(sheet,frow,label):\n",
    "    header = sheet.row_values(frow-1)\n",
    "    col = header.index(label)\n",
    "    lrow = int(sheet.nrows)\n",
    "    a = numpy.array(active_sheet.col_values(col)[frow:lrow])\n",
    "    idx = numpy.where(~numpy.isnan(a)&(a!=-9999))[0]\n",
    "    return a[idx]"
   ]
  },
  {
   "cell_type": "code",
   "execution_count": 3,
   "metadata": {
    "collapsed": true
   },
   "outputs": [],
   "source": [
    "def colour_boxes(ax,bp,data,nsites,nalts):\n",
    "    boxColors = {1:['darkkhaki'],2:['darkkhaki','royalblue'],\n",
    "                 3:['red','darkkhaki','royalblue']}\n",
    "    numBoxes = nsites*nalts\n",
    "    medians = list(range(numBoxes))\n",
    "    for i in range(numBoxes):\n",
    "        box = bp['boxes'][i]\n",
    "        boxX = []\n",
    "        boxY = []\n",
    "        for j in range(5):\n",
    "            boxX.append(box.get_xdata()[j])\n",
    "            boxY.append(box.get_ydata()[j])\n",
    "        boxCoords = list(zip(boxX, boxY))\n",
    "        # Alternate between Dark Khaki and Royal Blue\n",
    "        k = i % nalts\n",
    "        boxPolygon = Polygon(boxCoords, facecolor=boxColors[nalts][k])\n",
    "        ax.add_patch(boxPolygon)\n",
    "        # Now draw the median lines back over what we just filled in\n",
    "        med = bp['medians'][i]\n",
    "        medianX = []\n",
    "        medianY = []\n",
    "        for j in range(2):\n",
    "            medianX.append(med.get_xdata()[j])\n",
    "            medianY.append(med.get_ydata()[j])\n",
    "            ax.plot(medianX, medianY, 'k')\n",
    "            medians[i] = medianY[0]"
   ]
  },
  {
   "cell_type": "code",
   "execution_count": 4,
   "metadata": {
    "collapsed": true
   },
   "outputs": [],
   "source": [
    "def create_site_dict(FluxNet_ID):\n",
    "    d = {\"FluxNet_ID\":FluxNet_ID,\n",
    "        \"ustar\":{\"60\":{\"RMSE\":[],\"r\":[],\"Var ratio\":[],\"Bias\":[]},\n",
    "                 \"182\":{\"RMSE\":[],\"r\":[],\"Var ratio\":[],\"Bias\":[]},\n",
    "                 \"365\":{\"RMSE\":[],\"r\":[],\"Var ratio\":[],\"Bias\":[]},\n",
    "                 \"all\":{\"RMSE\":[],\"r\":[],\"Var ratio\":[],\"Bias\":[]}},\n",
    "        \"Fh\":{\"60\":{\"RMSE\":[],\"r\":[],\"Var ratio\":[],\"Bias\":[]},\n",
    "              \"182\":{\"RMSE\":[],\"r\":[],\"Var ratio\":[],\"Bias\":[]},\n",
    "              \"365\":{\"RMSE\":[],\"r\":[],\"Var ratio\":[],\"Bias\":[]},\n",
    "              \"all\":{\"RMSE\":[],\"r\":[],\"Var ratio\":[],\"Bias\":[]}},\n",
    "        \"Fe\":{\"60\":{\"RMSE\":[],\"r\":[],\"Var ratio\":[],\"Bias\":[]},\n",
    "              \"182\":{\"RMSE\":[],\"r\":[],\"Var ratio\":[],\"Bias\":[]},\n",
    "              \"365\":{\"RMSE\":[],\"r\":[],\"Var ratio\":[],\"Bias\":[]},\n",
    "              \"all\":{\"RMSE\":[],\"r\":[],\"Var ratio\":[],\"Bias\":[]}},\n",
    "        \"Fc\":{\"60\":{\"RMSE\":[],\"r\":[],\"Var ratio\":[],\"Bias\":[]},\n",
    "              \"182\":{\"RMSE\":[],\"r\":[],\"Var ratio\":[],\"Bias\":[]},\n",
    "              \"365\":{\"RMSE\":[],\"r\":[],\"Var ratio\":[],\"Bias\":[]},\n",
    "              \"all\":{\"RMSE\":[],\"r\":[],\"Var ratio\":[],\"Bias\":[]}}}\n",
    "    return d"
   ]
  },
  {
   "cell_type": "code",
   "execution_count": 5,
   "metadata": {
    "collapsed": true
   },
   "outputs": [],
   "source": [
    "# make a dictionary of sites ...\n",
    "sites = {\"Calperum\":{\"FluxNet_ID\":\"AU-Cpr\"},\n",
    "         \"CumberlandPlains\":{\"FluxNet_ID\":\"AU-Cum\"},\n",
    "         \"DalyUncleared\":{\"FluxNet_ID\":\"AU-DaS\"},\n",
    "         \"Gingin\":{\"FluxNet_ID\":\"AU-Gin\"},\n",
    "         \"HowardSprings\":{\"FluxNet_ID\":\"AU-How\"},\n",
    "         \"SturtPlains\":{\"FluxNet_ID\":\"AU-Stp\"},\n",
    "         \"Tumbarumba\":{\"FluxNet_ID\":\"AU-Tum\"},\n",
    "         \"Whroo\":{\"FluxNet_ID\":\"AU-Whr\"},\n",
    "         \"WombatStateForest\":{\"FluxNet_ID\":\"AU-Wom\"}}\n",
    "# ... and a dictionary for the data\n",
    "data = {}\n",
    "for site in sites.keys():\n",
    "    data[site] = create_site_dict(sites[site][\"FluxNet_ID\"])"
   ]
  },
  {
   "cell_type": "code",
   "execution_count": 6,
   "metadata": {
    "collapsed": true
   },
   "outputs": [],
   "source": [
    "site_name_list = data.keys()\n",
    "site_name_list.sort()\n",
    "nsites = len(site_name_list)"
   ]
  },
  {
   "cell_type": "code",
   "execution_count": 7,
   "metadata": {
    "collapsed": false
   },
   "outputs": [],
   "source": [
    "# read the data from the L5 summary spreadsheets\n",
    "frow = 11\n",
    "xl_path = \"../Docs/SpecialIssue_2014/OzFluxDataPath/Data/L5_statistics/\"\n",
    "for site in site_name_list:\n",
    "    for var in [\"ustar\",\"Fh\",\"Fe\",\"Fc\"]:\n",
    "        for alt in [\"60\",\"182\"]:\n",
    "            xl_path = xl_path+alt+\"days/\"\n",
    "            xl_name = xl_path+site+\"_L5_SOLOStats.xls\"\n",
    "            xl_book = xlrd.open_workbook(xl_name)\n",
    "            sheet_name = var+\"_SOLO\"\n",
    "            active_sheet = xl_book.sheet_by_name(sheet_name)\n",
    "            for item in [\"RMSE\",\"r\",\"Var ratio\",\"Bias\"]:\n",
    "                data[site][var][alt][item] = get_data_xlsheet(active_sheet,frow,item)"
   ]
  },
  {
   "cell_type": "code",
   "execution_count": 9,
   "metadata": {
    "collapsed": false
   },
   "outputs": [],
   "source": [
    "# plot\n",
    "plot_path = \"../Docs/SpecialIssue_2014/OzFluxDataPath/Data/L5_statistics/\"\n",
    "# shuffle the data\n",
    "variables = {\"ustar\":{\"title\":\"Friction velocity\",\n",
    "                    \"units\":\"m/s\",\n",
    "                    \"alt_list\":[\"60\",\"182\"]},\n",
    "             \"Fh\":{\"title\":\"Sensible heat flux\",\n",
    "                    \"units\":\"W/m2\",\n",
    "                    \"alt_list\":[\"60\",\"182\"]},\n",
    "             \"Fe\":{\"title\":\"Latent heat flux\",\n",
    "                   \"units\":\"W/m2\",\n",
    "                   \"alt_list\":[\"60\",\"182\"]},\n",
    "             \"Fc\":{\"title\":\"CO2 flux\",\n",
    "                   \"units\":\"umol/m2/s\",\n",
    "                   \"alt_list\":[\"60\",\"182\"]}}\n",
    "boxprops = dict(linestyle='-',color='black')\n",
    "for var in variables.keys():\n",
    "    rmse = []; r =[]; var_ratio = []; bias = []\n",
    "    xlabels_site = []\n",
    "    nalts = len(variables[var][\"alt_list\"])\n",
    "    minor_ticks = [x+0.5 for x in range(nalts,nalts*nsites,nalts)]\n",
    "    for site in site_name_list:\n",
    "        for alt in variables[var][\"alt_list\"]:\n",
    "            xlabels_site.append(data[site][\"FluxNet_ID\"])\n",
    "            rmse.append(data[site][var][alt][\"RMSE\"])\n",
    "            r.append(data[site][var][alt][\"r\"])\n",
    "            var_ratio.append(data[site][var][alt][\"Var ratio\"])\n",
    "            bias.append(data[site][var][alt][\"Bias\"])\n",
    "    # do the plot\n",
    "    xlabels_site = [\"\" if i%nalts!=0 else x for i,x in enumerate(xlabels_site)]\n",
    "    fig,axs = plt.subplots(4,figsize=(8,6))\n",
    "    fig.canvas.set_window_title(var)\n",
    "    plt.subplots_adjust(hspace=0.15)\n",
    "    axs[0].set_title(variables[var][\"title\"])\n",
    "    rmse_bp = axs[0].boxplot(rmse,boxprops=boxprops,whis=0,sym=\"\",showcaps=False)\n",
    "    ylabel = \"RMSE (\"+variables[var][\"units\"]+\")\"\n",
    "    axs[0].set_ylabel(ylabel)\n",
    "    colour_boxes(axs[0],rmse_bp,rmse,nsites,nalts)\n",
    "    axs[0].set_xticks(minor_ticks, minor=True)\n",
    "    axs[0].xaxis.grid(which='minor')\n",
    "\n",
    "    r_bp = axs[1].boxplot(r,boxprops=boxprops,whis=0,sym=\"\",showcaps=False)\n",
    "    axs[1].set_ylabel(\"R\")\n",
    "    colour_boxes(axs[1],r_bp,r,nsites,nalts)\n",
    "    axs[1].set_xticks(minor_ticks, minor=True)\n",
    "    axs[1].xaxis.grid(which='minor')\n",
    "\n",
    "    vr_bp = axs[2].boxplot(var_ratio,boxprops=boxprops,whis=0,sym=\"\",showcaps=False)\n",
    "    axs[2].set_ylabel(\"Var ratio\")\n",
    "    colour_boxes(axs[2],vr_bp,var_ratio,nsites,nalts)\n",
    "    axs[2].set_xticks(minor_ticks, minor=True)\n",
    "    axs[2].xaxis.grid(which='minor')\n",
    "    axs[2].axhline(y=1,linewidth=2,linestyle=':',color='red',alpha=0.5)\n",
    "\n",
    "    bias_bp = axs[3].boxplot(bias,boxprops=boxprops,whis=0,sym=\"\",showcaps=False)\n",
    "    ylabel = \"Bias (\"+variables[var][\"units\"]+\")\"\n",
    "    axs[3].set_ylabel(ylabel)\n",
    "    colour_boxes(axs[3],bias_bp,bias,nsites,nalts)\n",
    "    axs[3].set_xticks(minor_ticks, minor=True)\n",
    "    axs[3].xaxis.grid(which='minor')\n",
    "    axs[3].axhline(y=0,linewidth=2,linestyle=':',color='red',alpha=0.5)\n",
    "\n",
    "    xticklabels = axs[0].get_xticklabels()+axs[1].get_xticklabels()+axs[2].get_xticklabels()\n",
    "    plt.setp(xticklabels, visible=False)\n",
    "    xtickNames = plt.setp(axs[3], xticklabels=xlabels_site)\n",
    "    plt.setp(xtickNames, rotation=45, fontsize=10)\n",
    "    plot_name = plot_path+var+\".eps\"\n",
    "    plt.savefig(plot_name)\n",
    "    plt.show()"
   ]
  },
  {
   "cell_type": "code",
   "execution_count": null,
   "metadata": {
    "collapsed": true
   },
   "outputs": [],
   "source": []
  }
 ],
 "metadata": {
  "kernelspec": {
   "display_name": "Python 2",
   "language": "python",
   "name": "python2"
  },
  "language_info": {
   "codemirror_mode": {
    "name": "ipython",
    "version": 2
   },
   "file_extension": ".py",
   "mimetype": "text/x-python",
   "name": "python",
   "nbconvert_exporter": "python",
   "pygments_lexer": "ipython2",
   "version": "2.7.11"
  }
 },
 "nbformat": 4,
 "nbformat_minor": 0
}
