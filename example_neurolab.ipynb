{
 "metadata": {
  "name": "",
  "signature": "sha256:8d6c87e7c2c03fef4afa06e36cec3d989c9eb20c55f12148ff3748bd447763f4"
 },
 "nbformat": 3,
 "nbformat_minor": 0,
 "worksheets": [
  {
   "cells": [
    {
     "cell_type": "code",
     "collapsed": false,
     "input": [
      "# -*- coding: utf-8 -*-\n",
      "\"\"\" \n",
      "Example of use multi-layer perceptron\n",
      "=====================================\n",
      "\n",
      "Task: Approximation function: 1/2 * sin(x)\n",
      "\n",
      "\"\"\"\n",
      "\n",
      "import neurolab as nl\n",
      "import numpy as np\n",
      "\n",
      "# Create train samples\n",
      "x = np.linspace(-7, 7, 20)\n",
      "y = np.sin(x) * 0.5\n",
      "\n",
      "size = len(x)\n",
      "\n",
      "inp = x.reshape(size,1)\n",
      "tar = y.reshape(size,1)\n",
      "\n",
      "# Create network with 2 layers and random initialized\n",
      "net = nl.net.newff([[-7, 7]],[5, 1])\n",
      "\n",
      "# Train network\n",
      "error = net.train(inp, tar, epochs=500, show=100, goal=0.02)\n",
      "\n",
      "# Simulate network\n",
      "out = net.sim(inp)\n",
      "\n",
      "# Plot result\n",
      "import pylab as pl\n",
      "pl.subplot(211)\n",
      "pl.plot(error)\n",
      "pl.xlabel('Epoch number')\n",
      "pl.ylabel('error (default SSE)')\n",
      "\n",
      "x2 = np.linspace(-6.0,6.0,150)\n",
      "y2 = net.sim(x2.reshape(x2.size,1)).reshape(x2.size)\n",
      "\n",
      "y3 = out.reshape(size)\n",
      "\n",
      "pl.subplot(212)\n",
      "pl.plot(x2, y2, '-',x , y, '.', x, y3, 'p')\n",
      "pl.legend(['train target', 'net output'])\n",
      "pl.show()"
     ],
     "language": "python",
     "metadata": {},
     "outputs": [
      {
       "output_type": "stream",
       "stream": "stdout",
       "text": [
        "The goal of learning is reached\n"
       ]
      }
     ],
     "prompt_number": 5
    },
    {
     "cell_type": "code",
     "collapsed": false,
     "input": [
      "print inp"
     ],
     "language": "python",
     "metadata": {},
     "outputs": [
      {
       "output_type": "stream",
       "stream": "stdout",
       "text": [
        "[[-7.        ]\n",
        " [-6.26315789]\n",
        " [-5.52631579]\n",
        " [-4.78947368]\n",
        " [-4.05263158]\n",
        " [-3.31578947]\n",
        " [-2.57894737]\n",
        " [-1.84210526]\n",
        " [-1.10526316]\n",
        " [-0.36842105]\n",
        " [ 0.36842105]\n",
        " [ 1.10526316]\n",
        " [ 1.84210526]\n",
        " [ 2.57894737]\n",
        " [ 3.31578947]\n",
        " [ 4.05263158]\n",
        " [ 4.78947368]\n",
        " [ 5.52631579]\n",
        " [ 6.26315789]\n",
        " [ 7.        ]]\n"
       ]
      }
     ],
     "prompt_number": 6
    },
    {
     "cell_type": "code",
     "collapsed": false,
     "input": [],
     "language": "python",
     "metadata": {},
     "outputs": []
    }
   ],
   "metadata": {}
  }
 ]
}