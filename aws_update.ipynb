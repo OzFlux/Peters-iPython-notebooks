{
 "metadata": {
  "name": "",
  "signature": "sha256:066c2a2d804a7899c8209f180cca66f7b75355aa7fdf4e20b4903f84a2f79507"
 },
 "nbformat": 3,
 "nbformat_minor": 0,
 "worksheets": [
  {
   "cells": [
    {
     "cell_type": "code",
     "collapsed": false,
     "input": [
      "%run basics\n",
      "import glob\n",
      "import ntpath"
     ],
     "language": "python",
     "metadata": {},
     "outputs": [],
     "prompt_number": 1
    },
    {
     "cell_type": "code",
     "collapsed": false,
     "input": [
      "cf = qcio.load_controlfile(path=\"../controlfiles\")"
     ],
     "language": "python",
     "metadata": {},
     "outputs": [],
     "prompt_number": 2
    },
    {
     "cell_type": "code",
     "collapsed": false,
     "input": [
      "base_pattern = \"HM01X_Data*.txt\"\n",
      "in_file_pattern = cf[\"Files\"][\"In\"][\"file_path\"]+base_pattern\n",
      "in_file_list = sorted(glob.glob(in_file_pattern))\n",
      "for in_filename in in_file_list:\n",
      "    p = ntpath.basename(in_filename).split(\"_\")\n",
      "    out_filename = cf[\"Files\"][\"Out\"][\"file_path\"]+p[0]+\"_\"+p[1]+\"_\"+p[2]+\".csv\"\n",
      "    # open the output file\n",
      "    out_file = open(out_filename,\"a\")\n",
      "    # open the first input file and append\n",
      "    print \"Adding contents of \"+in_filename+\" to \"+out_filename\n",
      "    for line in open(in_filename):\n",
      "        out_file.write(line)\n",
      "    # now loop over the folders containing the files to be appended\n",
      "    add_path_list = [cf[\"Files\"][\"Add\"][i] for i in cf[\"Files\"][\"Add\"].keys()]\n",
      "    bom_id = in_filename.split(\"_\")[2]\n",
      "    for add_path in add_path_list:\n",
      "        # build the file name\n",
      "        add_filepattern = add_path+\"HM01X_Data_\"+bom_id+\"*.txt\"\n",
      "        add_filename_list = sorted(glob.glob(add_filepattern))\n",
      "        for add_filename in add_filename_list:\n",
      "            #print \"Appending contents of \"+add_filename+\" to \"+out_filename\n",
      "            add_file = open(add_filename)\n",
      "            add_file.next()\n",
      "            for line in add_file:\n",
      "                 out_file.write(line)\n",
      "            add_file.close()\n",
      "    out_file.close()"
     ],
     "language": "python",
     "metadata": {},
     "outputs": [
      {
       "output_type": "stream",
       "stream": "stdout",
       "text": [
        "Adding contents of ../../BoM/AWS/Historic/HM01X_Data_005008_999999998179626.txt to ../../BoM/AWS/Current/HM01X_Data_005008.csv\n",
        "Adding contents of ../../BoM/AWS/Historic/HM01X_Data_007176_999999998179626.txt to ../../BoM/AWS/Current/HM01X_Data_007176.csv"
       ]
      },
      {
       "output_type": "stream",
       "stream": "stdout",
       "text": [
        "\n",
        "Adding contents of ../../BoM/AWS/Historic/HM01X_Data_007185_999999998179626.txt to ../../BoM/AWS/Current/HM01X_Data_007185.csv"
       ]
      },
      {
       "output_type": "stream",
       "stream": "stdout",
       "text": [
        "\n",
        "Adding contents of ../../BoM/AWS/Historic/HM01X_Data_009053_999999998179626.txt to ../../BoM/AWS/Current/HM01X_Data_009053.csv"
       ]
      },
      {
       "output_type": "stream",
       "stream": "stdout",
       "text": [
        "\n",
        "Adding contents of ../../BoM/AWS/Historic/HM01X_Data_009178_999999998179626.txt to ../../BoM/AWS/Current/HM01X_Data_009178.csv"
       ]
      },
      {
       "output_type": "stream",
       "stream": "stdout",
       "text": [
        "\n",
        "Adding contents of ../../BoM/AWS/Historic/HM01X_Data_009214_999999998179626.txt to ../../BoM/AWS/Current/HM01X_Data_009214.csv"
       ]
      },
      {
       "output_type": "stream",
       "stream": "stdout",
       "text": [
        "\n",
        "Adding contents of ../../BoM/AWS/Historic/HM01X_Data_012038_999999998179626.txt to ../../BoM/AWS/Current/HM01X_Data_012038.csv"
       ]
      },
      {
       "output_type": "stream",
       "stream": "stdout",
       "text": [
        "\n",
        "Adding contents of ../../BoM/AWS/Historic/HM01X_Data_012320_999999998179626.txt to ../../BoM/AWS/Current/HM01X_Data_012320.csv"
       ]
      },
      {
       "output_type": "stream",
       "stream": "stdout",
       "text": [
        "\n",
        "Adding contents of ../../BoM/AWS/Historic/HM01X_Data_014015_999999998179626.txt to ../../BoM/AWS/Current/HM01X_Data_014015.csv"
       ]
      },
      {
       "output_type": "stream",
       "stream": "stdout",
       "text": [
        "\n",
        "Adding contents of ../../BoM/AWS/Historic/HM01X_Data_014041_999999998179626.txt to ../../BoM/AWS/Current/HM01X_Data_014041.csv"
       ]
      },
      {
       "output_type": "stream",
       "stream": "stdout",
       "text": [
        "\n",
        "Adding contents of ../../BoM/AWS/Historic/HM01X_Data_014046_999999998179626.txt to ../../BoM/AWS/Current/HM01X_Data_014046.csv"
       ]
      },
      {
       "output_type": "stream",
       "stream": "stdout",
       "text": [
        "\n",
        "Adding contents of ../../BoM/AWS/Historic/HM01X_Data_014272_999999998179626.txt to ../../BoM/AWS/Current/HM01X_Data_014272.csv\n",
        "Adding contents of ../../BoM/AWS/Historic/HM01X_Data_014626_999999998179626.txt to ../../BoM/AWS/Current/HM01X_Data_014626.csv"
       ]
      },
      {
       "output_type": "stream",
       "stream": "stdout",
       "text": [
        "\n",
        "Adding contents of ../../BoM/AWS/Historic/HM01X_Data_014901_999999998179626.txt to ../../BoM/AWS/Current/HM01X_Data_014901.csv"
       ]
      },
      {
       "output_type": "stream",
       "stream": "stdout",
       "text": [
        "\n",
        "Adding contents of ../../BoM/AWS/Historic/HM01X_Data_014932_999999998179626.txt to ../../BoM/AWS/Current/HM01X_Data_014932.csv"
       ]
      },
      {
       "output_type": "stream",
       "stream": "stdout",
       "text": [
        "\n",
        "Adding contents of ../../BoM/AWS/Historic/HM01X_Data_014949_999999998179626.txt to ../../BoM/AWS/Current/HM01X_Data_014949.csv"
       ]
      },
      {
       "output_type": "stream",
       "stream": "stdout",
       "text": [
        "\n",
        "Adding contents of ../../BoM/AWS/Historic/HM01X_Data_014954_999999998179626.txt to ../../BoM/AWS/Current/HM01X_Data_014954.csv"
       ]
      },
      {
       "output_type": "stream",
       "stream": "stdout",
       "text": [
        "\n",
        "Adding contents of ../../BoM/AWS/Historic/HM01X_Data_015590_999999998179626.txt to ../../BoM/AWS/Current/HM01X_Data_015590.csv"
       ]
      },
      {
       "output_type": "stream",
       "stream": "stdout",
       "text": [
        "\n",
        "Adding contents of ../../BoM/AWS/Historic/HM01X_Data_015643_999999998179626.txt to ../../BoM/AWS/Current/HM01X_Data_015643.csv"
       ]
      },
      {
       "output_type": "stream",
       "stream": "stdout",
       "text": [
        "\n",
        "Adding contents of ../../BoM/AWS/Historic/HM01X_Data_024024_999999998179626.txt to ../../BoM/AWS/Current/HM01X_Data_024024.csv"
       ]
      },
      {
       "output_type": "stream",
       "stream": "stdout",
       "text": [
        "\n",
        "Adding contents of ../../BoM/AWS/Historic/HM01X_Data_024048_999999998179626.txt to ../../BoM/AWS/Current/HM01X_Data_024048.csv"
       ]
      },
      {
       "output_type": "stream",
       "stream": "stdout",
       "text": [
        "\n",
        "Adding contents of ../../BoM/AWS/Historic/HM01X_Data_031011_999999998179626.txt to ../../BoM/AWS/Current/HM01X_Data_031011.csv"
       ]
      },
      {
       "output_type": "stream",
       "stream": "stdout",
       "text": [
        "\n",
        "Adding contents of ../../BoM/AWS/Historic/HM01X_Data_031037_999999998179626.txt to ../../BoM/AWS/Current/HM01X_Data_031037.csv"
       ]
      },
      {
       "output_type": "stream",
       "stream": "stdout",
       "text": [
        "\n",
        "Adding contents of ../../BoM/AWS/Historic/HM01X_Data_031209_999999998179626.txt to ../../BoM/AWS/Current/HM01X_Data_031209.csv"
       ]
      },
      {
       "output_type": "stream",
       "stream": "stdout",
       "text": [
        "\n",
        "Adding contents of ../../BoM/AWS/Historic/HM01X_Data_031210_999999998179626.txt to ../../BoM/AWS/Current/HM01X_Data_031210.csv"
       ]
      },
      {
       "output_type": "stream",
       "stream": "stdout",
       "text": [
        "\n",
        "Adding contents of ../../BoM/AWS/Historic/HM01X_Data_032040_999999998179626.txt to ../../BoM/AWS/Current/HM01X_Data_032040.csv"
       ]
      },
      {
       "output_type": "stream",
       "stream": "stdout",
       "text": [
        "\n",
        "Adding contents of ../../BoM/AWS/Historic/HM01X_Data_033002_999999998179626.txt to ../../BoM/AWS/Current/HM01X_Data_033002.csv"
       ]
      },
      {
       "output_type": "stream",
       "stream": "stdout",
       "text": [
        "\n",
        "Adding contents of ../../BoM/AWS/Historic/HM01X_Data_033307_999999998179626.txt to ../../BoM/AWS/Current/HM01X_Data_033307.csv"
       ]
      },
      {
       "output_type": "stream",
       "stream": "stdout",
       "text": [
        "\n",
        "Adding contents of ../../BoM/AWS/Historic/HM01X_Data_035129_999999998179626.txt to ../../BoM/AWS/Current/HM01X_Data_035129.csv"
       ]
      },
      {
       "output_type": "stream",
       "stream": "stdout",
       "text": [
        "\n",
        "Adding contents of ../../BoM/AWS/Historic/HM01X_Data_035139_999999998179626.txt to ../../BoM/AWS/Current/HM01X_Data_035139.csv\n",
        "Adding contents of ../../BoM/AWS/Historic/HM01X_Data_035264_999999998179626.txt to ../../BoM/AWS/Current/HM01X_Data_035264.csv"
       ]
      },
      {
       "output_type": "stream",
       "stream": "stdout",
       "text": [
        "\n",
        "Adding contents of ../../BoM/AWS/Historic/HM01X_Data_040004_999999998179626.txt to ../../BoM/AWS/Current/HM01X_Data_040004.csv"
       ]
      },
      {
       "output_type": "stream",
       "stream": "stdout",
       "text": [
        "\n",
        "Adding contents of ../../BoM/AWS/Historic/HM01X_Data_040082_999999998179626.txt to ../../BoM/AWS/Current/HM01X_Data_040082.csv"
       ]
      },
      {
       "output_type": "stream",
       "stream": "stdout",
       "text": [
        "\n",
        "Adding contents of ../../BoM/AWS/Historic/HM01X_Data_040211_999999998179626.txt to ../../BoM/AWS/Current/HM01X_Data_040211.csv"
       ]
      },
      {
       "output_type": "stream",
       "stream": "stdout",
       "text": [
        "\n",
        "Adding contents of ../../BoM/AWS/Historic/HM01X_Data_040913_999999998179626.txt to ../../BoM/AWS/Current/HM01X_Data_040913.csv"
       ]
      },
      {
       "output_type": "stream",
       "stream": "stdout",
       "text": [
        "\n",
        "Adding contents of ../../BoM/AWS/Historic/HM01X_Data_041529_999999998179626.txt to ../../BoM/AWS/Current/HM01X_Data_041529.csv"
       ]
      },
      {
       "output_type": "stream",
       "stream": "stdout",
       "text": [
        "\n",
        "Adding contents of ../../BoM/AWS/Historic/HM01X_Data_067105_999999998179626.txt to ../../BoM/AWS/Current/HM01X_Data_067105.csv"
       ]
      },
      {
       "output_type": "stream",
       "stream": "stdout",
       "text": [
        "\n",
        "Adding contents of ../../BoM/AWS/Historic/HM01X_Data_067108_999999998179626.txt to ../../BoM/AWS/Current/HM01X_Data_067108.csv"
       ]
      },
      {
       "output_type": "stream",
       "stream": "stdout",
       "text": [
        "\n",
        "Adding contents of ../../BoM/AWS/Historic/HM01X_Data_067113_999999998179626.txt to ../../BoM/AWS/Current/HM01X_Data_067113.csv"
       ]
      },
      {
       "output_type": "stream",
       "stream": "stdout",
       "text": [
        "\n",
        "Adding contents of ../../BoM/AWS/Historic/HM01X_Data_067119_999999998179626.txt to ../../BoM/AWS/Current/HM01X_Data_067119.csv"
       ]
      },
      {
       "output_type": "stream",
       "stream": "stdout",
       "text": [
        "\n",
        "Adding contents of ../../BoM/AWS/Historic/HM01X_Data_070349_999999998179626.txt to ../../BoM/AWS/Current/HM01X_Data_070349.csv"
       ]
      },
      {
       "output_type": "stream",
       "stream": "stdout",
       "text": [
        "\n",
        "Adding contents of ../../BoM/AWS/Historic/HM01X_Data_071032_999999998179626.txt to ../../BoM/AWS/Current/HM01X_Data_071032.csv"
       ]
      },
      {
       "output_type": "stream",
       "stream": "stdout",
       "text": [
        "\n",
        "Adding contents of ../../BoM/AWS/Historic/HM01X_Data_071075_999999998179626.txt to ../../BoM/AWS/Current/HM01X_Data_071075.csv"
       ]
      },
      {
       "output_type": "stream",
       "stream": "stdout",
       "text": [
        "\n",
        "Adding contents of ../../BoM/AWS/Historic/HM01X_Data_072161_999999998179626.txt to ../../BoM/AWS/Current/HM01X_Data_072161.csv\n",
        "Adding contents of ../../BoM/AWS/Historic/HM01X_Data_072162_999999998179626.txt to ../../BoM/AWS/Current/HM01X_Data_072162.csv"
       ]
      },
      {
       "output_type": "stream",
       "stream": "stdout",
       "text": [
        "\n",
        "Adding contents of ../../BoM/AWS/Historic/HM01X_Data_076031_999999998179626.txt to ../../BoM/AWS/Current/HM01X_Data_076031.csv"
       ]
      },
      {
       "output_type": "stream",
       "stream": "stdout",
       "text": [
        "\n",
        "Adding contents of ../../BoM/AWS/Historic/HM01X_Data_081049_999999998179626.txt to ../../BoM/AWS/Current/HM01X_Data_081049.csv"
       ]
      },
      {
       "output_type": "stream",
       "stream": "stdout",
       "text": [
        "\n",
        "Adding contents of ../../BoM/AWS/Historic/HM01X_Data_081125_999999998179626.txt to ../../BoM/AWS/Current/HM01X_Data_081125.csv"
       ]
      },
      {
       "output_type": "stream",
       "stream": "stdout",
       "text": [
        "\n",
        "Adding contents of ../../BoM/AWS/Historic/HM01X_Data_083055_999999998179626.txt to ../../BoM/AWS/Current/HM01X_Data_083055.csv"
       ]
      },
      {
       "output_type": "stream",
       "stream": "stdout",
       "text": [
        "\n",
        "Adding contents of ../../BoM/AWS/Historic/HM01X_Data_083084_999999998179626.txt to ../../BoM/AWS/Current/HM01X_Data_083084.csv"
       ]
      },
      {
       "output_type": "stream",
       "stream": "stdout",
       "text": [
        "\n",
        "Adding contents of ../../BoM/AWS/Historic/HM01X_Data_083085_999999998179626.txt to ../../BoM/AWS/Current/HM01X_Data_083085.csv"
       ]
      },
      {
       "output_type": "stream",
       "stream": "stdout",
       "text": [
        "\n",
        "Adding contents of ../../BoM/AWS/Historic/HM01X_Data_086282_999999998179626.txt to ../../BoM/AWS/Current/HM01X_Data_086282.csv"
       ]
      },
      {
       "output_type": "stream",
       "stream": "stdout",
       "text": [
        "\n",
        "Adding contents of ../../BoM/AWS/Historic/HM01X_Data_088051_999999998179626.txt to ../../BoM/AWS/Current/HM01X_Data_088051.csv"
       ]
      },
      {
       "output_type": "stream",
       "stream": "stdout",
       "text": [
        "\n",
        "Adding contents of ../../BoM/AWS/Historic/HM01X_Data_088109_999999998179626.txt to ../../BoM/AWS/Current/HM01X_Data_088109.csv"
       ]
      },
      {
       "output_type": "stream",
       "stream": "stdout",
       "text": [
        "\n",
        "Adding contents of ../../BoM/AWS/Historic/HM01X_Data_088162_999999998179626.txt to ../../BoM/AWS/Current/HM01X_Data_088162.csv"
       ]
      },
      {
       "output_type": "stream",
       "stream": "stdout",
       "text": [
        "\n",
        "Adding contents of ../../BoM/AWS/Historic/HM01X_Data_089002_999999998179626.txt to ../../BoM/AWS/Current/HM01X_Data_089002.csv"
       ]
      },
      {
       "output_type": "stream",
       "stream": "stdout",
       "text": [
        "\n",
        "Adding contents of ../../BoM/AWS/Historic/HM01X_Data_090175_999999998179626.txt to ../../BoM/AWS/Current/HM01X_Data_090175.csv"
       ]
      },
      {
       "output_type": "stream",
       "stream": "stdout",
       "text": [
        "\n",
        "Adding contents of ../../BoM/AWS/Historic/HM01X_Data_090176_999999998179626.txt to ../../BoM/AWS/Current/HM01X_Data_090176.csv"
       ]
      },
      {
       "output_type": "stream",
       "stream": "stdout",
       "text": [
        "\n",
        "Adding contents of ../../BoM/AWS/Historic/HM01X_Data_090186_999999998179626.txt to ../../BoM/AWS/Current/HM01X_Data_090186.csv"
       ]
      },
      {
       "output_type": "stream",
       "stream": "stdout",
       "text": [
        "\n",
        "Adding contents of ../../BoM/AWS/Historic/HM01X_Data_094191_999999998179626.txt to ../../BoM/AWS/Current/HM01X_Data_094191.csv"
       ]
      },
      {
       "output_type": "stream",
       "stream": "stdout",
       "text": [
        "\n",
        "Adding contents of ../../BoM/AWS/Historic/HM01X_Data_094220_999999998179626.txt to ../../BoM/AWS/Current/HM01X_Data_094220.csv"
       ]
      },
      {
       "output_type": "stream",
       "stream": "stdout",
       "text": [
        "\n",
        "Adding contents of ../../BoM/AWS/Historic/HM01X_Data_097024_999999998179626.txt to ../../BoM/AWS/Current/HM01X_Data_097024.csv"
       ]
      },
      {
       "output_type": "stream",
       "stream": "stdout",
       "text": [
        "\n",
        "Adding contents of ../../BoM/AWS/Historic/HM01X_Data_097083_999999998179626.txt to ../../BoM/AWS/Current/HM01X_Data_097083.csv"
       ]
      },
      {
       "output_type": "stream",
       "stream": "stdout",
       "text": [
        "\n"
       ]
      }
     ],
     "prompt_number": 4
    },
    {
     "cell_type": "code",
     "collapsed": false,
     "input": [],
     "language": "python",
     "metadata": {},
     "outputs": []
    }
   ],
   "metadata": {}
  }
 ]
}