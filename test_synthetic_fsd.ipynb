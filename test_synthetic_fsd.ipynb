{
 "metadata": {
  "name": "",
  "signature": "sha256:286300823242324c8fff9696af3aab72fd121d693acc735333f93fd7d109f729"
 },
 "nbformat": 3,
 "nbformat_minor": 0,
 "worksheets": [
  {
   "cells": [
    {
     "cell_type": "code",
     "collapsed": false,
     "input": [
      "%run basics\n",
      "import pytz\n",
      "import math\n",
      "%matplotlib"
     ],
     "language": "python",
     "metadata": {},
     "outputs": [
      {
       "output_type": "stream",
       "stream": "stdout",
       "text": [
        "Using matplotlib backend: Qt4Agg\n"
       ]
      }
     ],
     "prompt_number": 1
    },
    {
     "cell_type": "code",
     "collapsed": false,
     "input": [
      "def get_synthetic_fsd_im(ds):\n",
      "    \"\"\"\n",
      "    Calculate downwelling radiation at surface.\n",
      "    Code from Ian McHugh.\n",
      "    \"\"\"\n",
      "    # set a value for \"k\", the extinction coefficient\n",
      "    k = 0.25\n",
      "    # get the latitude and longitude\n",
      "    lat_decdeg = float(ds.globalattributes[\"latitude\"])\n",
      "    long_decdeg = float(ds.globalattributes[\"longitude\"])\n",
      "    if \"elevation\" in ds.globalattributes:\n",
      "        ALT_m = int(ds.globalattributes[\"elevation\"])\n",
      "    else:\n",
      "        ALT_m = 1.0\n",
      "    rec_length = int(ds.globalattributes[\"time_step\"])\n",
      "    # Ian's original code queried AskGeo for the UTC offset in milliseconds\n",
      "    # and converted that to hours.  Here we use the time zone given in the\n",
      "    # netCDF file global attributes.\n",
      "    # get the time zone\n",
      "    time_zone = ds.globalattributes[\"time_zone\"]\n",
      "    # get a pytz object\n",
      "    tz = pytz.timezone(time_zone)\n",
      "    # use the same \"current\" date as Ian\n",
      "    cdt = datetime.datetime(2013,6,1,0,0,0)\n",
      "    # get the offset to UTC time as a timedelta object\n",
      "    utcoffset = tz.utcoffset(cdt)\n",
      "    # get the offset as hours\n",
      "    GMT_zone = utcoffset.seconds/float(3600)\n",
      "    # get the datetime\n",
      "    ldt = ds.series[\"DateTime\"][\"Data\"]\n",
      "    # get the day of the year from local time\n",
      "    DOY = numpy.array([dt.timetuple().tm_yday for dt in ldt])\n",
      "#    start_doy = ldt[0].timetuple().tm_yday\n",
      "#    end_doy = ldt[-2].timetuple().tm_yday\n",
      "#    DOY = numpy.arange(start_doy,end_doy+1,1)\n",
      "    # For each day calculate equation of time correction, solar noon, declination and TOA radiation\n",
      "    array_EqofTime=0.17*numpy.sin(4*numpy.pi*(DOY-80)/373)-0.129*numpy.sin(2*numpy.pi*(DOY-8)/355) # DiLaura (1984)\n",
      "    array_solar_noon=12+(GMT_zone*15.0-long_decdeg)/360*24-array_EqofTime # Me\n",
      "    array_decl=numpy.radians(23.4)*numpy.sin((DOY+284)/365.0*2*numpy.pi) # Oke (1987)\n",
      "    array_TOArad=(1+0.034*numpy.cos(DOY/365.25*2*numpy.pi))*1367.0 # Duffie and Beckman (1980)\n",
      "    # Create an hour angle array for each minute of day and each day of year\n",
      "    array_h=numpy.tile(numpy.linspace(0,1439.0/1440*24,num=1440),(len(DOY),1))\n",
      "    array_h=abs(numpy.radians((array_solar_noon.reshape(len(DOY),1)-array_h)*15))\n",
      "    # Duplicate declination array for each time of day\n",
      "    array_decl=numpy.tile(array_decl,(1440,1)).T\n",
      "    # Calculate zenith angles\n",
      "    array_z=numpy.arccos(numpy.sin(numpy.radians(lat_decdeg))*numpy.sin(array_decl)+numpy.cos(numpy.radians(lat_decdeg))*numpy.cos(array_decl)*numpy.cos(array_h))\n",
      "    array_z_msk=numpy.ma.masked_greater_equal(array_z,numpy.pi/2) # Mask night values\n",
      "    # Calculate optical air mass term for all valid Z \n",
      "    array_m=(numpy.exp(-1*ALT_m/8343.5)/(numpy.cos(array_z_msk)+0.15*(numpy.degrees(90-array_z_msk)+3.855)**-1.253)) # Wunderlich (1972)\n",
      "    # Instantaneous clear sky surface radiation in Wm-2 for each minute of the day\n",
      "    array_Kdown_clr_mins=array_TOArad.reshape(len(array_TOArad),1)*numpy.exp(-k*array_m)*numpy.cos(array_z_msk)\n",
      "    # Aggregate one-minute instantaneous clear sky rad to period average\n",
      "    array_Kdown_clr_hr=numpy.empty([len(DOY),1440/rec_length])\n",
      "    for i in xrange(len(DOY)):\n",
      "        array_temp=array_Kdown_clr_mins[i][:].reshape(1440/rec_length,rec_length) # Temporary bins\n",
      "        array_Kdown_clr_hr[i][:]=numpy.ma.mean(array_temp,axis=1) # Average bin content\n",
      "    # Aggregate to daily\n",
      "    array_Kdown_clr_daily=(array_Kdown_clr_hr*(rec_length*60.0/10**6)).sum(axis=1)\n",
      "    #return array_Kdown_clr_daily,array_Kdown_clr_hr\n",
      "    return array_Kdown_clr_hr"
     ],
     "language": "python",
     "metadata": {},
     "outputs": [],
     "prompt_number": 25
    },
    {
     "cell_type": "code",
     "collapsed": false,
     "input": [
      "def GetRadiationDirect(utc_datetime, altitude_deg):\n",
      "    # from Masters, p. 412\n",
      "    if(altitude_deg > 0):\n",
      "            day = GetDayOfYear(utc_datetime)\n",
      "            flux = GetApparentExtraterrestrialFlux(day)\n",
      "            optical_depth = GetOpticalDepth(day)\n",
      "            air_mass_ratio = GetAirMassRatio(altitude_deg)\n",
      "            #return flux * math.exp(-1 * optical_depth * air_mass_ratio)\n",
      "            return flux * math.exp(-0.25 * optical_depth * air_mass_ratio)*math.sin(math.radians(altitude_deg))\n",
      "    else:\n",
      "            return 0.0"
     ],
     "language": "python",
     "metadata": {},
     "outputs": [],
     "prompt_number": 28
    },
    {
     "cell_type": "code",
     "collapsed": false,
     "input": [
      "def GetAltitudeFast(latitude_deg, longitude_deg, utc_datetime):\n",
      "\n",
      "# expect 19 degrees for solar.GetAltitude(42.364908,-71.112828,datetime.datetime(2007, 2, 18, 20, 13, 1, 130320))\n",
      "\n",
      "        day = GetDayOfYear(utc_datetime)\n",
      "        declination_rad = math.radians(GetDeclination(day))\n",
      "        latitude_rad = math.radians(latitude_deg)\n",
      "        hour_angle = GetHourAngle(utc_datetime, longitude_deg)\n",
      "\n",
      "        first_term = math.cos(latitude_rad) * math.cos(declination_rad) * math.cos(math.radians(hour_angle))\n",
      "        second_term = math.sin(latitude_rad) * math.sin(declination_rad)\n",
      "        return math.degrees(math.asin(first_term + second_term))"
     ],
     "language": "python",
     "metadata": {},
     "outputs": [],
     "prompt_number": 4
    },
    {
     "cell_type": "code",
     "collapsed": false,
     "input": [
      "def GetDayOfYear(utc_datetime):\n",
      "        year_start = datetime.datetime(utc_datetime.year, 1, 1, tzinfo=utc_datetime.tzinfo)\n",
      "        delta = (utc_datetime - year_start)\n",
      "        return delta.days"
     ],
     "language": "python",
     "metadata": {},
     "outputs": [],
     "prompt_number": 5
    },
    {
     "cell_type": "code",
     "collapsed": false,
     "input": [
      "def GetApparentExtraterrestrialFlux(day):\n",
      "    # from Masters, p. 412\n",
      "    return 1160 + (75 * math.sin(math.radians((360./365) * (day - 275))))"
     ],
     "language": "python",
     "metadata": {},
     "outputs": [],
     "prompt_number": 6
    },
    {
     "cell_type": "code",
     "collapsed": false,
     "input": [
      "def GetOpticalDepth(day):\n",
      "    # from Masters, p. 412\n",
      "    return 0.174 + (0.035 * math.sin(math.radians((360./365) * (day - 100))))"
     ],
     "language": "python",
     "metadata": {},
     "outputs": [],
     "prompt_number": 7
    },
    {
     "cell_type": "code",
     "collapsed": false,
     "input": [
      "def GetAirMassRatio(altitude_deg):\n",
      "    # from Masters, p. 412\n",
      "    # warning: pukes on input of zero\n",
      "    return (1/math.sin(math.radians(altitude_deg)))"
     ],
     "language": "python",
     "metadata": {},
     "outputs": [],
     "prompt_number": 8
    },
    {
     "cell_type": "code",
     "collapsed": false,
     "input": [
      "def GetDeclination(day):\n",
      "        '''The declination of the sun is the angle between\n",
      "        Earth's equatorial plane and a line between the Earth and the sun.\n",
      "        The declination of the sun varies between 23.45 degrees and -23.45 degrees,\n",
      "        hitting zero on the equinoxes and peaking on the solstices.\n",
      "        '''\n",
      "        return 23.45 * math.sin((2 * math.pi / 365.0) * (day - 81))"
     ],
     "language": "python",
     "metadata": {},
     "outputs": [],
     "prompt_number": 9
    },
    {
     "cell_type": "code",
     "collapsed": false,
     "input": [
      "def GetHourAngle(utc_datetime, longitude_deg):\n",
      "        solar_time = GetSolarTime(longitude_deg, utc_datetime)\n",
      "        return 15 * (12 - solar_time)"
     ],
     "language": "python",
     "metadata": {},
     "outputs": [],
     "prompt_number": 10
    },
    {
     "cell_type": "code",
     "collapsed": false,
     "input": [
      "def GetSolarTime(longitude_deg, utc_datetime):\n",
      "        day = GetDayOfYear(utc_datetime)\n",
      "        return (((utc_datetime.hour * 60) + utc_datetime.minute + (4 * longitude_deg) + EquationOfTime(day))/60)"
     ],
     "language": "python",
     "metadata": {},
     "outputs": [],
     "prompt_number": 11
    },
    {
     "cell_type": "code",
     "collapsed": false,
     "input": [
      "def EquationOfTime(day):\n",
      "        b = (2 * math.pi / 364.0) * (day - 81)\n",
      "        return (9.87 * math.sin(2 *b)) - (7.53 * math.cos(b)) - (1.5 * math.sin(b))"
     ],
     "language": "python",
     "metadata": {},
     "outputs": [],
     "prompt_number": 12
    },
    {
     "cell_type": "code",
     "collapsed": false,
     "input": [
      "def get_synthetic_fsd_pri(ds):\n",
      "    \"\"\"\n",
      "    Purpose:\n",
      "     Calculates a time series of synthetic downwelling shortwave radiation.  The\n",
      "     solar altitude is also output.\n",
      "    Useage:\n",
      "     qcts.get_synthetic_fsd(ds)\n",
      "    Author: PRI\n",
      "    Date: Sometime in 2014\n",
      "    \"\"\"\n",
      "    # get the latitude and longitude\n",
      "    lat = float(ds.globalattributes[\"latitude\"])\n",
      "    lon = float(ds.globalattributes[\"longitude\"])\n",
      "    # get the UTC time from the local time\n",
      "    ldt_UTC = qcutils.get_UTCfromlocaltime(ds)\n",
      "    # get the solar altitude\n",
      "    alt_solar = [GetAltitudeFast(lat,lon,dt) for dt in ldt_UTC]\n",
      "    # get the synthetic downwelling shortwave radiation\n",
      "    Fsd_syn = [GetRadiationDirect(dt,alt) for dt,alt in zip(ldt_UTC,alt_solar)]\n",
      "    Fsd_syn = numpy.ma.array(Fsd_syn)\n",
      "    # get the QC flag\n",
      "    nRecs = len(Fsd_syn)\n",
      "    flag = numpy.zeros(nRecs,dtype=numpy.int32)\n",
      "    # add the synthetic downwelling shortwave radiation to the data structure\n",
      "    attr = qcutils.MakeAttributeDictionary(long_name='Synthetic downwelling shortwave radiation',units='W/m2',\n",
      "                                           standard_name='surface_downwelling_shortwave_flux_in_air')\n",
      "    qcutils.CreateSeries(ds,\"Fsd_syn\",Fsd_syn,Flag=flag,Attr=attr)\n",
      "    # add the solar altitude to the data structure\n",
      "    attr = qcutils.MakeAttributeDictionary(long_name='Solar altitude',units='deg',\n",
      "                                           standard_name='not defined')\n",
      "    qcutils.CreateSeries(ds,\"solar_altitude\",alt_solar,Flag=flag,Attr=attr)"
     ],
     "language": "python",
     "metadata": {},
     "outputs": [],
     "prompt_number": 13
    },
    {
     "cell_type": "code",
     "collapsed": false,
     "input": [
      "nc_name = qcio.get_filename_dialog()"
     ],
     "language": "python",
     "metadata": {},
     "outputs": [],
     "prompt_number": 14
    },
    {
     "cell_type": "code",
     "collapsed": false,
     "input": [
      "ds = qcio.nc_read_series(nc_name)"
     ],
     "language": "python",
     "metadata": {},
     "outputs": [],
     "prompt_number": 15
    },
    {
     "cell_type": "code",
     "collapsed": false,
     "input": [
      "Fsd_syn_IM = get_synthetic_fsd_im(ds)\n",
      "print len(Fsd_syn_IM)"
     ],
     "language": "python",
     "metadata": {},
     "outputs": [
      {
       "output_type": "stream",
       "stream": "stdout",
       "text": [
        "65850\n"
       ]
      }
     ],
     "prompt_number": 26
    },
    {
     "cell_type": "code",
     "collapsed": false,
     "input": [
      "#Fsd_syn_PRI = get_synthetic_fsd_pri(ds)\n",
      "lat = float(ds.globalattributes[\"latitude\"])\n",
      "lon = float(ds.globalattributes[\"longitude\"])\n",
      "ldt_UTC = qcutils.get_UTCfromlocaltime(ds)\n",
      "alt_solar = [GetAltitudeFast(lat,lon,dt) for dt in ldt_UTC]\n",
      "Fsd_syn_pri = [GetRadiationDirect(dt,alt) for dt,alt in zip(ldt_UTC,alt_solar)]"
     ],
     "language": "python",
     "metadata": {},
     "outputs": [],
     "prompt_number": 29
    },
    {
     "cell_type": "code",
     "collapsed": false,
     "input": [
      "ldt = ds.series[\"DateTime\"][\"Data\"]\n",
      "Fsd,f,a = qcutils.GetSeriesasMA(ds,\"Fsd\")\n",
      "Fsd_syn,f,a = qcutils.GetSeriesasMA(ds,\"Fsd_syn\")"
     ],
     "language": "python",
     "metadata": {},
     "outputs": [],
     "prompt_number": 18
    },
    {
     "cell_type": "code",
     "collapsed": false,
     "input": [
      "fig = plt.figure()\n",
      "plt.plot(ldt,Fsd,'b.')\n",
      "plt.plot(ldt,Fsd_syn_pri,'r+')\n",
      "plt.show()"
     ],
     "language": "python",
     "metadata": {},
     "outputs": [],
     "prompt_number": 30
    },
    {
     "cell_type": "code",
     "collapsed": false,
     "input": [
      "print len(ldt),len(Fsd_syn_IM.flatten(order=\"C\"))"
     ],
     "language": "python",
     "metadata": {},
     "outputs": [
      {
       "output_type": "stream",
       "stream": "stdout",
       "text": [
        "65850 3160800\n"
       ]
      }
     ],
     "prompt_number": 27
    },
    {
     "cell_type": "code",
     "collapsed": false,
     "input": [
      "fig = plt.figure()\n",
      "plt.plot(ldt,Fsd,'b.')\n",
      "plt.plot(ldt,Fsd_syn_IM.flatten(order=\"C\"),'g.')\n",
      "plt.show()"
     ],
     "language": "python",
     "metadata": {},
     "outputs": [
      {
       "ename": "ValueError",
       "evalue": "x and y must have same first dimension",
       "output_type": "pyerr",
       "traceback": [
        "\u001b[1;31m---------------------------------------------------------------------------\u001b[0m\n\u001b[1;31mValueError\u001b[0m                                Traceback (most recent call last)",
        "\u001b[1;32m<ipython-input-20-756a6660c4f6>\u001b[0m in \u001b[0;36m<module>\u001b[1;34m()\u001b[0m\n\u001b[0;32m      1\u001b[0m \u001b[0mfig\u001b[0m \u001b[1;33m=\u001b[0m \u001b[0mplt\u001b[0m\u001b[1;33m.\u001b[0m\u001b[0mfigure\u001b[0m\u001b[1;33m(\u001b[0m\u001b[1;33m)\u001b[0m\u001b[1;33m\u001b[0m\u001b[0m\n\u001b[0;32m      2\u001b[0m \u001b[0mplt\u001b[0m\u001b[1;33m.\u001b[0m\u001b[0mplot\u001b[0m\u001b[1;33m(\u001b[0m\u001b[0mldt\u001b[0m\u001b[1;33m,\u001b[0m\u001b[0mFsd\u001b[0m\u001b[1;33m,\u001b[0m\u001b[1;34m'b.'\u001b[0m\u001b[1;33m)\u001b[0m\u001b[1;33m\u001b[0m\u001b[0m\n\u001b[1;32m----> 3\u001b[1;33m \u001b[0mplt\u001b[0m\u001b[1;33m.\u001b[0m\u001b[0mplot\u001b[0m\u001b[1;33m(\u001b[0m\u001b[0mldt\u001b[0m\u001b[1;33m,\u001b[0m\u001b[0mFsd_syn_IM\u001b[0m\u001b[1;33m.\u001b[0m\u001b[0mflatten\u001b[0m\u001b[1;33m(\u001b[0m\u001b[0morder\u001b[0m\u001b[1;33m=\u001b[0m\u001b[1;34m\"C\"\u001b[0m\u001b[1;33m)\u001b[0m\u001b[1;33m,\u001b[0m\u001b[1;34m'g.'\u001b[0m\u001b[1;33m)\u001b[0m\u001b[1;33m\u001b[0m\u001b[0m\n\u001b[0m\u001b[0;32m      4\u001b[0m \u001b[0mplt\u001b[0m\u001b[1;33m.\u001b[0m\u001b[0mshow\u001b[0m\u001b[1;33m(\u001b[0m\u001b[1;33m)\u001b[0m\u001b[1;33m\u001b[0m\u001b[0m\n",
        "\u001b[1;32m/home/peter/anaconda/lib/python2.7/site-packages/matplotlib/pyplot.pyc\u001b[0m in \u001b[0;36mplot\u001b[1;34m(*args, **kwargs)\u001b[0m\n\u001b[0;32m   3097\u001b[0m         \u001b[0max\u001b[0m\u001b[1;33m.\u001b[0m\u001b[0mhold\u001b[0m\u001b[1;33m(\u001b[0m\u001b[0mhold\u001b[0m\u001b[1;33m)\u001b[0m\u001b[1;33m\u001b[0m\u001b[0m\n\u001b[0;32m   3098\u001b[0m     \u001b[1;32mtry\u001b[0m\u001b[1;33m:\u001b[0m\u001b[1;33m\u001b[0m\u001b[0m\n\u001b[1;32m-> 3099\u001b[1;33m         \u001b[0mret\u001b[0m \u001b[1;33m=\u001b[0m \u001b[0max\u001b[0m\u001b[1;33m.\u001b[0m\u001b[0mplot\u001b[0m\u001b[1;33m(\u001b[0m\u001b[1;33m*\u001b[0m\u001b[0margs\u001b[0m\u001b[1;33m,\u001b[0m \u001b[1;33m**\u001b[0m\u001b[0mkwargs\u001b[0m\u001b[1;33m)\u001b[0m\u001b[1;33m\u001b[0m\u001b[0m\n\u001b[0m\u001b[0;32m   3100\u001b[0m         \u001b[0mdraw_if_interactive\u001b[0m\u001b[1;33m(\u001b[0m\u001b[1;33m)\u001b[0m\u001b[1;33m\u001b[0m\u001b[0m\n\u001b[0;32m   3101\u001b[0m     \u001b[1;32mfinally\u001b[0m\u001b[1;33m:\u001b[0m\u001b[1;33m\u001b[0m\u001b[0m\n",
        "\u001b[1;32m/home/peter/anaconda/lib/python2.7/site-packages/matplotlib/axes/_axes.pyc\u001b[0m in \u001b[0;36mplot\u001b[1;34m(self, *args, **kwargs)\u001b[0m\n\u001b[0;32m   1372\u001b[0m         \u001b[0mlines\u001b[0m \u001b[1;33m=\u001b[0m \u001b[1;33m[\u001b[0m\u001b[1;33m]\u001b[0m\u001b[1;33m\u001b[0m\u001b[0m\n\u001b[0;32m   1373\u001b[0m \u001b[1;33m\u001b[0m\u001b[0m\n\u001b[1;32m-> 1374\u001b[1;33m         \u001b[1;32mfor\u001b[0m \u001b[0mline\u001b[0m \u001b[1;32min\u001b[0m \u001b[0mself\u001b[0m\u001b[1;33m.\u001b[0m\u001b[0m_get_lines\u001b[0m\u001b[1;33m(\u001b[0m\u001b[1;33m*\u001b[0m\u001b[0margs\u001b[0m\u001b[1;33m,\u001b[0m \u001b[1;33m**\u001b[0m\u001b[0mkwargs\u001b[0m\u001b[1;33m)\u001b[0m\u001b[1;33m:\u001b[0m\u001b[1;33m\u001b[0m\u001b[0m\n\u001b[0m\u001b[0;32m   1375\u001b[0m             \u001b[0mself\u001b[0m\u001b[1;33m.\u001b[0m\u001b[0madd_line\u001b[0m\u001b[1;33m(\u001b[0m\u001b[0mline\u001b[0m\u001b[1;33m)\u001b[0m\u001b[1;33m\u001b[0m\u001b[0m\n\u001b[0;32m   1376\u001b[0m             \u001b[0mlines\u001b[0m\u001b[1;33m.\u001b[0m\u001b[0mappend\u001b[0m\u001b[1;33m(\u001b[0m\u001b[0mline\u001b[0m\u001b[1;33m)\u001b[0m\u001b[1;33m\u001b[0m\u001b[0m\n",
        "\u001b[1;32m/home/peter/anaconda/lib/python2.7/site-packages/matplotlib/axes/_base.pyc\u001b[0m in \u001b[0;36m_grab_next_args\u001b[1;34m(self, *args, **kwargs)\u001b[0m\n\u001b[0;32m    301\u001b[0m                 \u001b[1;32mreturn\u001b[0m\u001b[1;33m\u001b[0m\u001b[0m\n\u001b[0;32m    302\u001b[0m             \u001b[1;32mif\u001b[0m \u001b[0mlen\u001b[0m\u001b[1;33m(\u001b[0m\u001b[0mremaining\u001b[0m\u001b[1;33m)\u001b[0m \u001b[1;33m<=\u001b[0m \u001b[1;36m3\u001b[0m\u001b[1;33m:\u001b[0m\u001b[1;33m\u001b[0m\u001b[0m\n\u001b[1;32m--> 303\u001b[1;33m                 \u001b[1;32mfor\u001b[0m \u001b[0mseg\u001b[0m \u001b[1;32min\u001b[0m \u001b[0mself\u001b[0m\u001b[1;33m.\u001b[0m\u001b[0m_plot_args\u001b[0m\u001b[1;33m(\u001b[0m\u001b[0mremaining\u001b[0m\u001b[1;33m,\u001b[0m \u001b[0mkwargs\u001b[0m\u001b[1;33m)\u001b[0m\u001b[1;33m:\u001b[0m\u001b[1;33m\u001b[0m\u001b[0m\n\u001b[0m\u001b[0;32m    304\u001b[0m                     \u001b[1;32myield\u001b[0m \u001b[0mseg\u001b[0m\u001b[1;33m\u001b[0m\u001b[0m\n\u001b[0;32m    305\u001b[0m                 \u001b[1;32mreturn\u001b[0m\u001b[1;33m\u001b[0m\u001b[0m\n",
        "\u001b[1;32m/home/peter/anaconda/lib/python2.7/site-packages/matplotlib/axes/_base.pyc\u001b[0m in \u001b[0;36m_plot_args\u001b[1;34m(self, tup, kwargs)\u001b[0m\n\u001b[0;32m    279\u001b[0m             \u001b[0mx\u001b[0m \u001b[1;33m=\u001b[0m \u001b[0mnp\u001b[0m\u001b[1;33m.\u001b[0m\u001b[0marange\u001b[0m\u001b[1;33m(\u001b[0m\u001b[0my\u001b[0m\u001b[1;33m.\u001b[0m\u001b[0mshape\u001b[0m\u001b[1;33m[\u001b[0m\u001b[1;36m0\u001b[0m\u001b[1;33m]\u001b[0m\u001b[1;33m,\u001b[0m \u001b[0mdtype\u001b[0m\u001b[1;33m=\u001b[0m\u001b[0mfloat\u001b[0m\u001b[1;33m)\u001b[0m\u001b[1;33m\u001b[0m\u001b[0m\n\u001b[0;32m    280\u001b[0m \u001b[1;33m\u001b[0m\u001b[0m\n\u001b[1;32m--> 281\u001b[1;33m         \u001b[0mx\u001b[0m\u001b[1;33m,\u001b[0m \u001b[0my\u001b[0m \u001b[1;33m=\u001b[0m \u001b[0mself\u001b[0m\u001b[1;33m.\u001b[0m\u001b[0m_xy_from_xy\u001b[0m\u001b[1;33m(\u001b[0m\u001b[0mx\u001b[0m\u001b[1;33m,\u001b[0m \u001b[0my\u001b[0m\u001b[1;33m)\u001b[0m\u001b[1;33m\u001b[0m\u001b[0m\n\u001b[0m\u001b[0;32m    282\u001b[0m \u001b[1;33m\u001b[0m\u001b[0m\n\u001b[0;32m    283\u001b[0m         \u001b[1;32mif\u001b[0m \u001b[0mself\u001b[0m\u001b[1;33m.\u001b[0m\u001b[0mcommand\u001b[0m \u001b[1;33m==\u001b[0m \u001b[1;34m'plot'\u001b[0m\u001b[1;33m:\u001b[0m\u001b[1;33m\u001b[0m\u001b[0m\n",
        "\u001b[1;32m/home/peter/anaconda/lib/python2.7/site-packages/matplotlib/axes/_base.pyc\u001b[0m in \u001b[0;36m_xy_from_xy\u001b[1;34m(self, x, y)\u001b[0m\n\u001b[0;32m    221\u001b[0m         \u001b[0my\u001b[0m \u001b[1;33m=\u001b[0m \u001b[0mnp\u001b[0m\u001b[1;33m.\u001b[0m\u001b[0matleast_1d\u001b[0m\u001b[1;33m(\u001b[0m\u001b[0my\u001b[0m\u001b[1;33m)\u001b[0m\u001b[1;33m\u001b[0m\u001b[0m\n\u001b[0;32m    222\u001b[0m         \u001b[1;32mif\u001b[0m \u001b[0mx\u001b[0m\u001b[1;33m.\u001b[0m\u001b[0mshape\u001b[0m\u001b[1;33m[\u001b[0m\u001b[1;36m0\u001b[0m\u001b[1;33m]\u001b[0m \u001b[1;33m!=\u001b[0m \u001b[0my\u001b[0m\u001b[1;33m.\u001b[0m\u001b[0mshape\u001b[0m\u001b[1;33m[\u001b[0m\u001b[1;36m0\u001b[0m\u001b[1;33m]\u001b[0m\u001b[1;33m:\u001b[0m\u001b[1;33m\u001b[0m\u001b[0m\n\u001b[1;32m--> 223\u001b[1;33m             \u001b[1;32mraise\u001b[0m \u001b[0mValueError\u001b[0m\u001b[1;33m(\u001b[0m\u001b[1;34m\"x and y must have same first dimension\"\u001b[0m\u001b[1;33m)\u001b[0m\u001b[1;33m\u001b[0m\u001b[0m\n\u001b[0m\u001b[0;32m    224\u001b[0m         \u001b[1;32mif\u001b[0m \u001b[0mx\u001b[0m\u001b[1;33m.\u001b[0m\u001b[0mndim\u001b[0m \u001b[1;33m>\u001b[0m \u001b[1;36m2\u001b[0m \u001b[1;32mor\u001b[0m \u001b[0my\u001b[0m\u001b[1;33m.\u001b[0m\u001b[0mndim\u001b[0m \u001b[1;33m>\u001b[0m \u001b[1;36m2\u001b[0m\u001b[1;33m:\u001b[0m\u001b[1;33m\u001b[0m\u001b[0m\n\u001b[0;32m    225\u001b[0m             \u001b[1;32mraise\u001b[0m \u001b[0mValueError\u001b[0m\u001b[1;33m(\u001b[0m\u001b[1;34m\"x and y can be no greater than 2-D\"\u001b[0m\u001b[1;33m)\u001b[0m\u001b[1;33m\u001b[0m\u001b[0m\n",
        "\u001b[1;31mValueError\u001b[0m: x and y must have same first dimension"
       ]
      }
     ],
     "prompt_number": 20
    },
    {
     "cell_type": "code",
     "collapsed": false,
     "input": [
      "print GetOpticalDepth(300)"
     ],
     "language": "python",
     "metadata": {},
     "outputs": [
      {
       "output_type": "stream",
       "stream": "stdout",
       "text": [
        "0.163615051325\n"
       ]
      }
     ],
     "prompt_number": 36
    },
    {
     "cell_type": "code",
     "collapsed": false,
     "input": [],
     "language": "python",
     "metadata": {},
     "outputs": []
    }
   ],
   "metadata": {}
  }
 ]
}