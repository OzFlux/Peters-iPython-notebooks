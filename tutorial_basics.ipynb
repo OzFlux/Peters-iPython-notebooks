{
 "metadata": {
  "name": "",
  "signature": "sha256:5a337f9ce90fe6bc5925bf3380b4f33de21f9e40fbf6d737f03ff071f72806f0"
 },
 "nbformat": 3,
 "nbformat_minor": 0,
 "worksheets": [
  {
   "cells": [
    {
     "cell_type": "code",
     "collapsed": false,
     "input": [
      "# Python on it's own is useful but limited in it's abilities.  One of it's\n",
      "# chief strengths is that it is easy to extend and it is this extensibility\n",
      "# that adds real depth and power to Python.  And makes it a community project\n",
      "# by default.\n",
      "#\n",
      "# Extensions to the basic Python are called \"modules\".  There is a large number\n",
      "# of them.  OzFluxQC makes use of many, several of which are \"external\".  External\n",
      "# modules are :\n",
      "#  - configobj\n",
      "#    - this is the module that reads control files\n",
      "# - dateutil\n",
      "#   - as the name suggests, a collection of datetime utilities\n",
      "# - matplotlib\n",
      "#   - a powerful 2D (and some 3D) plotting package\n",
      "# - netCDF4\n",
      "#   - "
     ],
     "language": "python",
     "metadata": {},
     "outputs": []
    }
   ],
   "metadata": {}
  }
 ]
}