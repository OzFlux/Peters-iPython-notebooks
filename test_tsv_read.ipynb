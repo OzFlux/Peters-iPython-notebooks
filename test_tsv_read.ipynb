{
 "metadata": {
  "name": "",
  "signature": "sha256:c3d3f705535d28918273de46c283cc9785f3d4457f89a8bf7a919b2e9ee1a953"
 },
 "nbformat": 3,
 "nbformat_minor": 0,
 "worksheets": [
  {
   "cells": [
    {
     "cell_type": "code",
     "collapsed": false,
     "input": [
      "%run basics\n",
      "%matplotlib"
     ],
     "language": "python",
     "metadata": {},
     "outputs": [
      {
       "output_type": "stream",
       "stream": "stdout",
       "text": [
        "Using matplotlib backend: Qt4Agg\n"
       ]
      }
     ],
     "prompt_number": 1
    },
    {
     "cell_type": "code",
     "collapsed": false,
     "input": [
      "# get the control file contents\n",
      "cf = qcio.load_controlfile(path=\"controlfiles\")\n",
      "# get the input filename\n",
      "csv_filename = qcio.get_infilenamefromcf(cf)\n",
      "# header, units and first data row numbers\n",
      "header_row = int(cf[\"Files\"][\"in_headerrow\"])\n",
      "first_data_row = int(cf[\"Files\"][\"in_firstdatarow\"])\n",
      "units_row = -1\n",
      "if \"in_unitsrow\" in cf[\"Files\"]: units_row = int(cf[\"Files\"][\"in_unitsrow\"])"
     ],
     "language": "python",
     "metadata": {},
     "outputs": [],
     "prompt_number": 11
    },
    {
     "cell_type": "code",
     "collapsed": false,
     "input": [
      "# sniff the file to try and find out what we are dealing with and\n",
      "# get the header and units lines\n",
      "csv_file = open(csv_filename,'rb')\n",
      "dialect = csv.Sniffer().sniff(csv_file.readline(), [' ',',','\\t'])\n",
      "csv_file.seek(0)\n",
      "csv_reader = csv.reader(csv_file,dialect)\n",
      "# read the header rows\n",
      "for i in range(1,first_data_row):\n",
      "    line = csv_reader.next()\n",
      "    if i==header_row: header = line\n",
      "    if units_row!=-1:\n",
      "        if i==units_row: units = line\n",
      "# read the first line of data\n",
      "data_line = csv_reader.next()\n",
      "csv_file.close()"
     ],
     "language": "python",
     "metadata": {},
     "outputs": [],
     "prompt_number": 12
    },
    {
     "cell_type": "code",
     "collapsed": false,
     "input": [
      "# get a list of series to be read from CSV file and check\n",
      "# to make sure the requested variables are in the csv file,\n",
      "# dump them if they aren't\n",
      "var_list = []\n",
      "csv_list = []\n",
      "for item in cf[\"Variables\"].keys():\n",
      "    if \"csv\" in cf[\"Variables\"][item].keys():\n",
      "        csv_varname = cf[\"Variables\"][item][\"csv\"][\"name\"]\n",
      "        if csv_varname in header:\n",
      "            csv_list.append(csv_varname)\n",
      "            var_list.append(item)\n",
      "    elif \"xl\" in cf[\"Variables\"][item].keys():\n",
      "        csv_varname = cf[\"Variables\"][item][\"xl\"][\"name\"]\n",
      "        if csv_varname in header:\n",
      "            csv_list.append(csv_varname)\n",
      "            var_list.append(item)\n",
      "    else:\n",
      "        print \" No csv or xl section in control file for \"+item+\", skipping ...\""
     ],
     "language": "python",
     "metadata": {},
     "outputs": [
      {
       "output_type": "stream",
       "stream": "stdout",
       "text": [
        " No csv or xl section in control file for Ah_IRGA_Av, skipping ...\n",
        " No csv or xl section in control file for Ah_HC2S3_3m, skipping ...\n"
       ]
      }
     ],
     "prompt_number": 13
    },
    {
     "cell_type": "code",
     "collapsed": false,
     "input": [
      "# read the csv file using numpy's genfromtxt\n",
      "print \"Reading from \"+csv_filename\n",
      "skip = first_data_row-1\n",
      "data = numpy.genfromtxt(csv_filename,delimiter=dialect.delimiter,skip_header=skip,names=header,\n",
      "                        usecols=csv_list,filling_values=float(-9999),dtype=None)"
     ],
     "language": "python",
     "metadata": {},
     "outputs": [
      {
       "output_type": "stream",
       "stream": "stdout",
       "text": [
        "Reading from ../Sites/GatumPasture/Data/Processed/2015/GatumPasture_2015_L1_ED1.csv\n"
       ]
      }
     ],
     "prompt_number": 14
    },
    {
     "cell_type": "code",
     "collapsed": false,
     "input": [
      "# get a data structure\n",
      "ds = qcio.DataStructure()\n",
      "# set some global attributes\n",
      "nRecs = len(data[header[0]])\n",
      "ds.globalattributes[\"nc_nrecs\"] = str(nRecs)\n",
      "ds.globalattributes['featureType'] = 'timeseries'\n",
      "ds.globalattributes['csv_filename'] = csv_filename\n",
      "ds.globalattributes['xl_datemode'] = str(0)\n",
      "s = os.stat(csv_filename)\n",
      "t = time.localtime(s.st_mtime)\n",
      "ds.globalattributes['csv_moddatetime'] = str(datetime.datetime(t[0],t[1],t[2],t[3],t[4],t[5]))"
     ],
     "language": "python",
     "metadata": {},
     "outputs": [],
     "prompt_number": 15
    },
    {
     "cell_type": "code",
     "collapsed": false,
     "input": [
      "# get the variables andput them into the data structure\n",
      "var_list = cf[\"Variables\"].keys()\n",
      "# we'll deal with DateTime and xlDateTime separately\n",
      "for item in [\"xlDateTime\",\"DateTime\"]:\n",
      "    if item in var_list: var_list.remove(item)\n",
      "for var in var_list:\n",
      "    if \"csv\" in cf[\"Variables\"][var]:\n",
      "        csv_var_name = cf[\"Variables\"][var][\"csv\"][\"name\"]\n",
      "    elif \"xl\" in cf[\"Variables\"][var]:\n",
      "        csv_var_name = cf[\"Variables\"][var][\"xl\"][\"name\"]\n",
      "    else:\n",
      "        print \" No csv or xl section found in control file for \"+var+\", skipping ...\"\n",
      "        #log.error(\" No csv or xl section found in control file for \"+var+\", skipping ...\")\n",
      "        continue\n",
      "    csv_var_name = csv_var_name.replace(\".\",\"\")\n",
      "    if csv_var_name not in data.dtype.names:\n",
      "        print \"Requested variable \"+csv_var_name+\" not found in CSV file, skipping ...\"\n",
      "        #log.warning(\"Requested variable \"+csv_var_name+\" not found in CSV file, skipping ...\")\n",
      "        continue\n",
      "    ds.series[var] = {}\n",
      "    ds.series[var][\"Data\"] = data[csv_var_name]\n",
      "    ds.series[var][\"Flag\"] = numpy.zeros(nRecs,dtype=numpy.int32)"
     ],
     "language": "python",
     "metadata": {},
     "outputs": [
      {
       "output_type": "stream",
       "stream": "stdout",
       "text": [
        " No csv or xl section found in control file for Ah_IRGA_Av, skipping ...\n",
        " No csv or xl section found in control file for Ah_HC2S3_3m, skipping ...\n"
       ]
      }
     ],
     "prompt_number": 16
    },
    {
     "cell_type": "code",
     "collapsed": false,
     "input": [
      "# now deal with the datetime\n",
      "if \"DateTime\" not in cf[\"Variables\"]:\n",
      "    msg = \"No [[DateTime]] section in control file ...\"\n",
      "    raise Exception(msg)\n",
      "ds.series[\"DateTime\"] = {}\n",
      "if \"Function\" in cf[\"Variables\"][\"DateTime\"]:\n",
      "    function_string = cf[\"Variables\"][\"DateTime\"][\"Function\"][\"func\"]\n",
      "    function_name = function_string.split(\"(\")[0]\n",
      "    function_args = function_string.split(\"(\")[1].replace(\")\",\"\").split(\",\")\n",
      "    result = getattr(qcfunc,function_name)(ds,*function_args)\n",
      "else:\n",
      "    try:\n",
      "        dt = [dateutil.parser.parse(x) for x in data[header[0]]]\n",
      "        ds.series[\"DateTime\"][\"Data\"] = dt\n",
      "        ds.series[\"DateTime\"][\"Flag\"] = numpy.zeros(nRecs,dtype=numpy.int32)\n",
      "        ds.series[\"DateTime\"][\"Attr\"] = {}\n",
      "        ds.series[\"DateTime\"][\"Attr\"][\"long_name\"] = \"Datetime in local timezone\"\n",
      "        ds.series[\"DateTime\"][\"Attr\"][\"units\"] = \"None\"\n",
      "    except:\n",
      "        msg = \"Unable to parse the first column in CSV file as a datetime string\"\n",
      "        raise Exception(msg)"
     ],
     "language": "python",
     "metadata": {},
     "outputs": [],
     "prompt_number": 17
    },
    {
     "cell_type": "code",
     "collapsed": false,
     "input": [
      "print ds.series.keys()"
     ],
     "language": "python",
     "metadata": {},
     "outputs": [
      {
       "output_type": "stream",
       "stream": "stdout",
       "text": [
        "['Fc_CR3', 'UyT', 'Ux_Sd', 'Fe_CR3', 'Signal_H2O', 'CO2_IRGA_Av', 'Tv_CSAT_Sd', 'UyC', 'Precip', 'UyH', 'ustar_CR3', 'ps', 'RH_HC2S3_3m', 'Diag_CPEC', 'UyUz', 'CellTemp_EC155', 'Ta_HC2S3_3m', 'Fg_10cmb', 'Diag_CSAT', 'Diag_IRGA', 'H2O_IRGA_Av', 'DiffPress_EC155', 'UxUy', 'UxUz', 'UxT', 'UzH', 'Ux', 'Uz', 'Uz_Sd', 'UzC', 'CellPress_EC155', 'Fh_CR3', 'UxC', 'Ws_CSAT', 'UzT', 'DateTime', 'Wd_CSAT', 'UxH', 'H2O_IRGA_Sd', 'Fg_10cma', 'Signal_CO2', 'CO2_IRGA_Sd', 'Uy', 'Tpanel', 'Fn_NR', 'Tv_CSAT', 'Uy_Sd', 'Ts_10cma', 'Vbat']\n"
       ]
      }
     ],
     "prompt_number": 18
    },
    {
     "cell_type": "code",
     "collapsed": false,
     "input": [
      "ldt=ds.series[\"DateTime\"][\"Data\"]\n",
      "NEE,f,a=qcutils.GetSeriesasMA(ds,\"NEE\")\n",
      "fig=plt.figure()\n",
      "plt.plot(ldt,NEE,'b.')\n",
      "plt.show()"
     ],
     "language": "python",
     "metadata": {},
     "outputs": [],
     "prompt_number": 10
    },
    {
     "cell_type": "code",
     "collapsed": false,
     "input": [
      "ldt=ds.series[\"DateTime\"][\"Data\"]\n",
      "NEE,f,a=qcutils.GetSeriesasMA(ds,\"Fc_CR3\")\n",
      "fig=plt.figure()\n",
      "plt.plot(ldt,NEE,'b.')\n",
      "plt.show()"
     ],
     "language": "python",
     "metadata": {},
     "outputs": [],
     "prompt_number": 19
    },
    {
     "cell_type": "code",
     "collapsed": false,
     "input": [],
     "language": "python",
     "metadata": {},
     "outputs": []
    }
   ],
   "metadata": {}
  }
 ]
}