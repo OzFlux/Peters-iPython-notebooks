{
 "metadata": {
  "name": "",
  "signature": "sha256:7ac78a2eb4e543ae098a08714db8ef3defc7c3099d84511071dc990a0f229300"
 },
 "nbformat": 3,
 "nbformat_minor": 0,
 "worksheets": [
  {
   "cells": [
    {
     "cell_type": "code",
     "collapsed": false,
     "input": [
      "%run basics\n",
      "import ast\n",
      "import collections\n",
      "import dateutil\n",
      "import xlrd"
     ],
     "language": "python",
     "metadata": {},
     "outputs": [],
     "prompt_number": 20
    },
    {
     "cell_type": "code",
     "collapsed": false,
     "input": [
      "def get_ustarthreshold_from_cpdresults(cf):\n",
      "    # do some stuff\n",
      "    cpd_path = cf[\"Files\"][\"file_path\"]\n",
      "    cpd_name = \"../\"+cpd_path+cf[\"Files\"][\"cpd_filename\"]\n",
      "    cpd_wb = xlrd.open_workbook(cpd_name)\n",
      "    annual_ws = cpd_wb.sheet_by_name(\"Annual\")\n",
      "    header_list = [x for x in annual_ws.row_values(0)]\n",
      "    year_list = [str(int(x)) for x in annual_ws.col_values(0)[1:]]\n",
      "    ustar_dict = collections.OrderedDict()\n",
      "    for i,year in enumerate(year_list):\n",
      "        ustar_dict[year] = collections.OrderedDict()\n",
      "        for item in header_list:\n",
      "            xlcol = header_list.index(item)\n",
      "            val = annual_ws.col_values(xlcol)[i+1]\n",
      "            typ = annual_ws.col_types(xlcol)[i+1]\n",
      "            if typ==2:\n",
      "                ustar_dict[year][item] = float(val)\n",
      "            else:\n",
      "                ustar_dict[year][item] = float(c.missing_value)\n",
      "    return ustar_dict"
     ],
     "language": "python",
     "metadata": {},
     "outputs": [],
     "prompt_number": 23
    },
    {
     "cell_type": "code",
     "collapsed": false,
     "input": [
      "def get_ustarthreshold_from_cf(cf,ldt):\n",
      "    ustar_dict = collections.OrderedDict()\n",
      "    ustar_threshold_list = []\n",
      "    if \"ustar_threshold\" in cf.keys():\n",
      "        for n in cf[\"ustar_threshold\"].keys():\n",
      "            ustar_threshold_list.append(ast.literal_eval(cf[\"ustar_threshold\"][str(n)]))\n",
      "        for item in ustar_threshold_list:\n",
      "            startdate = dateutil.parser.parse(item[0])\n",
      "            year = startdate.year\n",
      "            ustar_dict[str(year)] = {}\n",
      "            ustar_dict[str(year)][\"ustar_mean\"] = float(item[2])\n",
      "    else:\n",
      "        msg = \" [ustar_threshold] section not found in control file, using 0.25 m/s\"\n",
      "        print msg\n",
      "        startyear = ldt[0].year\n",
      "        endyear = ldt[-1].year\n",
      "        years = range(startyear,endyear+1)\n",
      "        for year in years:\n",
      "            ustar_dict[str(year)] = {}\n",
      "            ustar_dict[str(year)][\"ustar_mean\"] = float(0.25)\n",
      "    return ustar_dict"
     ],
     "language": "python",
     "metadata": {},
     "outputs": [],
     "prompt_number": 34
    },
    {
     "cell_type": "code",
     "collapsed": false,
     "input": [
      "cf_name = qcio.get_filename_dialog(path=\"../controlfiles/\")\n",
      "cf = qcio.get_controlfilecontents(cf_name)"
     ],
     "language": "python",
     "metadata": {},
     "outputs": [],
     "prompt_number": 8
    },
    {
     "cell_type": "code",
     "collapsed": false,
     "input": [
      "in_filename = \"../\"+qcio.get_infilenamefromcf(cf)\n",
      "ds = qcio.nc_read_series(in_filename)\n",
      "ldt = ds.series[\"DateTime\"][\"Data\"]"
     ],
     "language": "python",
     "metadata": {},
     "outputs": [],
     "prompt_number": 18
    },
    {
     "cell_type": "code",
     "collapsed": false,
     "input": [
      "ustar_dict1 = get_ustarthreshold_from_cpdresults(cf)"
     ],
     "language": "python",
     "metadata": {},
     "outputs": [],
     "prompt_number": 35
    },
    {
     "cell_type": "code",
     "collapsed": false,
     "input": [
      "ustar_dict2 = get_ustarthreshold_from_cf(cf,ldt)"
     ],
     "language": "python",
     "metadata": {},
     "outputs": [],
     "prompt_number": 36
    },
    {
     "cell_type": "code",
     "collapsed": false,
     "input": [
      "ustar_dict1[\"2010\"][\"ustar_mean\"]"
     ],
     "language": "python",
     "metadata": {},
     "outputs": [
      {
       "metadata": {},
       "output_type": "pyout",
       "prompt_number": 37,
       "text": [
        "0.6487076812065304"
       ]
      }
     ],
     "prompt_number": 37
    },
    {
     "cell_type": "code",
     "collapsed": false,
     "input": [
      "ustar_dict2[\"2010\"][\"ustar_mean\"]"
     ],
     "language": "python",
     "metadata": {},
     "outputs": [
      {
       "metadata": {},
       "output_type": "pyout",
       "prompt_number": 38,
       "text": [
        "0.57"
       ]
      }
     ],
     "prompt_number": 38
    },
    {
     "cell_type": "code",
     "collapsed": false,
     "input": [
      "ustar_dict2"
     ],
     "language": "python",
     "metadata": {},
     "outputs": [
      {
       "metadata": {},
       "output_type": "pyout",
       "prompt_number": 32,
       "text": [
        "OrderedDict([(2010, {'ustar_mean': 0.57}), (2011, {'ustar_mean': 0.64}), (2012, {'ustar_mean': 0.65}), (2013, {'ustar_mean': 0.67}), (2014, {'ustar_mean': 0.64})])"
       ]
      }
     ],
     "prompt_number": 32
    },
    {
     "cell_type": "code",
     "collapsed": false,
     "input": [],
     "language": "python",
     "metadata": {},
     "outputs": []
    }
   ],
   "metadata": {}
  }
 ]
}