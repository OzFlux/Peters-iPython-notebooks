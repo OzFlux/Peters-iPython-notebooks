{
 "metadata": {
  "name": "gf_access"
 }, 
 "nbformat": 2, 
 "worksheets": [
  {
   "cells": [
    {
     "cell_type": "code", 
     "collapsed": false, 
     "input": [
      "import qcio", 
      "import qcutils", 
      "import sys", 
      "access_name=qcio.get_filename_dialog()", 
      "tower_name=qcio.get_filename_dialog()", 
      "ds_access=qcio.nc_read_series(access_name)", 
      "ds_tower=qcio.nc_read_series(tower_name)", 
      "ldt_access=ds_access.series[\"DateTime\"][\"Data\"]", 
      "ldt_tower=ds_tower.series[\"DateTime\"][\"Data\"]", 
      "# get the start indices", 
      "if ldt_access[0]>ldt_tower[-1]:", 
      "    print \"ACCESS data starts after tower data finishes\"", 
      "    sys.exit()", 
      "if ldt_access[-1]<ldt_tower[0]:", 
      "    print \"ACCESS data end before tower data starts\"", 
      "    sys.exit()", 
      "if ldt_access[0]==ldt_tower[0]:", 
      "    si_access=0", 
      "    si_tower=0", 
      "    ei_access=len(ldt_access)", 
      "    ei_tower=len(ldt_tower)", 
      "elif (ldt_access[0]>ldt_tower[0]) and (ldt_access[-1]<ldt_tower[-1]):", 
      "    si_access=0", 
      "    si_tower=qcutils.GetDateIndex(ldt_tower,str(ldt_access[0]))", 
      "    ei_access=len(ldt_access)", 
      "    ei_tower=qcutils.GetDateIndex(ldt_tower,str(ldt_access[-1]))", 
      "elif (ldt_access[0]>ldt_tower[0]) and (ldt_access[-1]>ldt_tower[-1]):", 
      "    si_access=0", 
      "    si_tower=qcutils.GetDateIndex(ldt_tower,str(ldt_access[0]))", 
      "    ei_access=qcutils.GetDateIndex(ldt_access,str(ldt_tower[-1]))", 
      "    ei_tower=len(ldt_tower)", 
      "elif (ldt_access[0]<ldt_tower[0]) and (ldt_access[-1]<ldt_tower[-1]):", 
      "    si_access=qcutils.GetDateIndex(ldt_access,str(ldt_tower[0]))", 
      "    si_tower=0", 
      "    ei_access=len(ldt_access)", 
      "    ei_tower=qcutils.GetDateIndex(ldt_tower,str(ldt_access[-1]))", 
      "elif (ldt_access[0]<ldt_tower[0]) and (ldt_access[-1]>ldt_tower[-1]):", 
      "    si_access=qcutils.GetDateIndex(ldt_access,str(ldt_tower[0]))", 
      "    si_tower=0", 
      "    ei_access=qcutils.GetDateIndex(ldt_access,str(ldt_tower[-1]))", 
      "    ei_tower=len(ldt_tower)", 
      "else:", 
      "    print \"Unexpected start/end time condition\"", 
      "    print \"Tower: \"+str(ldt_tower[0])+\" \"+str(ldt_tower[-1])", 
      "    print \"ACCESS: \"+str(ldt_access[0])+\" \"+str(ldt_access[-1])", 
      "# loop over the series to be gap filled", 
      "gf_list = [\"Fsd\",\"Fld\",\"Fn\",\"Fg\",\"Ta\",\"q\",\"Ws\",\"Ts\",\"Sws\",\"ps\"]", 
      "for label in gf_list:", 
      "    # get the data from the data structure", 
      "    data_tower,flag_tower=qcutils.GetSeriesasMA(ds_tower,label)", 
      "    dto = data_tower[si_tower:ei_tower+1]", 
      "    access_var_list = [item for item in ds_access.series.keys() if label in item]", 
      "    r = numpy.zeros(len(access_var_list))", 
      "    for idx,val in enumerate(access_var_list):", 
      "        data_access,flag_access=qcutils.GetSeriesasMA(ds_access,val)", 
      "        dao = data_access[si_access:ei_access+1]", 
      "        r[idx] = numpy.ma.corrcoef(dto,dao)", 
      "    maxidx = numpy.argmax(r)", 
      "    var_maxr = access_var_list[maxidx]", 
      "    data_access,flag_access=qcutils.GetSeriesasMA(ds_access,val)", 
      "    # introduce a gap", 
      "    sdi=qcutils.GetDateIndex(ldt_tower,\"2012-06-10 00:30\")", 
      "    edi=qcutils.GetDateIndex(ldt_tower,\"2012-06-11 00:00\")", 
      "    Fsd_tower.mask[sdi:edi+1]=True", 
      "    # get the index of missing data", 
      "    index=numpy.ma.where(Fsd_tower.mask[si_tower:ei_tower+1]==True)[0]", 
      "    # fill the missing data with ACCESS data", 
      "    Fsd_tower[si_tower:ei_tower+1][index]=Fsd_access[index]", 
      "    Fsd_tower.mask[si_tower:ei_tower+1][index]=False", 
      "    fig=figure()", 
      "    plot(ldt_tower,Fsd_tower,\"b.\")"
     ], 
     "language": "python", 
     "outputs": [
      {
       "output_type": "stream", 
       "stream": "stderr", 
       "text": [
        "No handlers could be found for logger \"qc.utils\""
       ]
      }, 
      {
       "output_type": "pyout", 
       "prompt_number": 1, 
       "text": [
        "[<matplotlib.lines.Line2D at 0x48240d0>]"
       ]
      }
     ], 
     "prompt_number": 1
    }, 
    {
     "cell_type": "code", 
     "collapsed": false, 
     "input": [
      "print si_access,si_tower"
     ], 
     "language": "python", 
     "outputs": [
      {
       "output_type": "stream", 
       "stream": "stdout", 
       "text": [
        "0 7315"
       ]
      }
     ], 
     "prompt_number": 17
    }, 
    {
     "cell_type": "code", 
     "collapsed": false, 
     "input": [
      "print ei_access,ei_tower"
     ], 
     "language": "python", 
     "outputs": [
      {
       "output_type": "stream", 
       "stream": "stdout", 
       "text": [
        "-1 8801"
       ]
      }
     ], 
     "prompt_number": 18
    }, 
    {
     "cell_type": "code", 
     "collapsed": true, 
     "input": [
      "Fsd_tower,f=qcutils.GetSeriesasMA(ds_tower,\"Fsd\")"
     ], 
     "language": "python", 
     "outputs": [], 
     "prompt_number": 19
    }, 
    {
     "cell_type": "code", 
     "collapsed": true, 
     "input": [
      "Fsd_access,f=qcutils.GetSeriesasMA(ds_access,\"Fsd_11\")"
     ], 
     "language": "python", 
     "outputs": [], 
     "prompt_number": 20
    }, 
    {
     "cell_type": "code", 
     "collapsed": true, 
     "input": [
      "fig1=figure()"
     ], 
     "language": "python", 
     "outputs": [], 
     "prompt_number": 35
    }, 
    {
     "cell_type": "code", 
     "collapsed": false, 
     "input": [
      "plot(ldt_tower,Fsd_tower,\"b.\")"
     ], 
     "language": "python", 
     "outputs": [
      {
       "output_type": "pyout", 
       "prompt_number": 36, 
       "text": [
        "[<matplotlib.lines.Line2D at 0x8931d50>]"
       ]
      }
     ], 
     "prompt_number": 36
    }, 
    {
     "cell_type": "code", 
     "collapsed": true, 
     "input": [
      "tdt_gap=ldt_tower[si_tower:ei_tower+1]"
     ], 
     "language": "python", 
     "outputs": [], 
     "prompt_number": 25
    }, 
    {
     "cell_type": "code", 
     "collapsed": false, 
     "input": [
      "tdt_gap[0],tdt_gap[-1]"
     ], 
     "language": "python", 
     "outputs": [
      {
       "output_type": "pyout", 
       "prompt_number": 26, 
       "text": [
        "(datetime.datetime(2012, 6, 1, 9, 30), datetime.datetime(2012, 7, 2, 8, 30))"
       ]
      }
     ], 
     "prompt_number": 26
    }, 
    {
     "cell_type": "code", 
     "collapsed": true, 
     "input": [
      "sdi=qcutils.GetDateIndex(ldt_tower,\"2012-06-10 00:30\")"
     ], 
     "language": "python", 
     "outputs": [], 
     "prompt_number": 31
    }, 
    {
     "cell_type": "code", 
     "collapsed": true, 
     "input": [
      "edi=qcutils.GetDateIndex(ldt_tower,\"2012-06-11 00:00\")"
     ], 
     "language": "python", 
     "outputs": [], 
     "prompt_number": 32
    }, 
    {
     "cell_type": "code", 
     "collapsed": true, 
     "input": [
      "Fsd_tower.mask[sdi:edi+1]=True"
     ], 
     "language": "python", 
     "outputs": [], 
     "prompt_number": 34
    }, 
    {
     "cell_type": "code", 
     "collapsed": true, 
     "input": [
      "index=numpy.ma.where(Fsd_tower.mask[si_tower:ei_tower+1]==True)[0]"
     ], 
     "language": "python", 
     "outputs": [], 
     "prompt_number": 62
    }, 
    {
     "cell_type": "code", 
     "collapsed": false, 
     "input": [
      "index"
     ], 
     "language": "python", 
     "outputs": [
      {
       "output_type": "pyout", 
       "prompt_number": 63, 
       "text": [
        "array([414, 415, 416, 417, 418, 419, 420, 421, 422, 423, 424, 425, 426,", 
        "       427, 428, 429, 430, 431, 432, 433, 434, 435, 436, 437, 438, 439,", 
        "       440, 441, 442, 443, 444, 445, 446, 447, 448, 449, 450, 451, 452,", 
        "       453, 454, 455, 456, 457, 458, 459, 460, 461])"
       ]
      }
     ], 
     "prompt_number": 63
    }, 
    {
     "cell_type": "code", 
     "collapsed": true, 
     "input": [
      "Fsd_tower_gf=numpy.ma.array(Fsd_tower)"
     ], 
     "language": "python", 
     "outputs": [], 
     "prompt_number": 64
    }, 
    {
     "cell_type": "code", 
     "collapsed": true, 
     "input": [
      "Fsd_tower_gf[si_tower:ei_tower+1][index]=Fsd_access[index]"
     ], 
     "language": "python", 
     "outputs": [], 
     "prompt_number": 79
    }, 
    {
     "cell_type": "code", 
     "collapsed": true, 
     "input": [
      "Fsd_tower_gf.mask[si_tower:ei_tower+1][index]=False"
     ], 
     "language": "python", 
     "outputs": [], 
     "prompt_number": 80
    }, 
    {
     "cell_type": "code", 
     "collapsed": true, 
     "input": [
      "fig1=figure()"
     ], 
     "language": "python", 
     "outputs": [], 
     "prompt_number": 81
    }, 
    {
     "cell_type": "code", 
     "collapsed": false, 
     "input": [
      "plot(ldt_tower,Fsd_tower_gf,\"b.\")"
     ], 
     "language": "python", 
     "outputs": [
      {
       "output_type": "pyout", 
       "prompt_number": 82, 
       "text": [
        "[<matplotlib.lines.Line2D at 0x9708110>]"
       ]
      }
     ], 
     "prompt_number": 82
    }, 
    {
     "cell_type": "code", 
     "collapsed": true, 
     "input": [
      "access_list=ds_access.series.keys()"
     ], 
     "language": "python", 
     "outputs": [], 
     "prompt_number": 84
    }, 
    {
     "cell_type": "code", 
     "collapsed": false, 
     "input": [
      "Ta_list=[item in access_list if \"Ta\" in item]"
     ], 
     "language": "python", 
     "outputs": [
      {
       "ename": "SyntaxError", 
       "evalue": "invalid syntax (<ipython-input-85-b481a0648284>, line 1)", 
       "output_type": "pyerr", 
       "traceback": [
        "\u001b[1;36m  File \u001b[1;32m\"<ipython-input-85-b481a0648284>\"\u001b[1;36m, line \u001b[1;32m1\u001b[0m\n\u001b[1;33m    Ta_list=[item in access_list if \"Ta\" in item]\u001b[0m\n\u001b[1;37m                                                ^\u001b[0m\n\u001b[1;31mSyntaxError\u001b[0m\u001b[1;31m:\u001b[0m invalid syntax\n"
       ]
      }
     ], 
     "prompt_number": 85
    }, 
    {
     "cell_type": "code", 
     "collapsed": true, 
     "input": [
      "var_list=[\"Ta_00\",\"Ta_01\",\"Ta_02\",\"Fsd_00\",\"Fsd_01\",\"Fsd_02\"]"
     ], 
     "language": "python", 
     "outputs": [], 
     "prompt_number": 86
    }, 
    {
     "cell_type": "code", 
     "collapsed": false, 
     "input": [
      "\"Ta\" in \"Ta_00\""
     ], 
     "language": "python", 
     "outputs": [
      {
       "output_type": "pyout", 
       "prompt_number": 87, 
       "text": [
        "True"
       ]
      }
     ], 
     "prompt_number": 87
    }, 
    {
     "cell_type": "code", 
     "collapsed": true, 
     "input": [
      "Ta_list=[item for item in var_list if \"Ta\" in item]"
     ], 
     "language": "python", 
     "outputs": [], 
     "prompt_number": 88
    }, 
    {
     "cell_type": "code", 
     "collapsed": false, 
     "input": [
      "Ta_list"
     ], 
     "language": "python", 
     "outputs": [
      {
       "output_type": "pyout", 
       "prompt_number": 89, 
       "text": [
        "['Ta_00', 'Ta_01', 'Ta_02']"
       ]
      }
     ], 
     "prompt_number": 89
    }, 
    {
     "cell_type": "code", 
     "collapsed": true, 
     "input": [], 
     "language": "python", 
     "outputs": []
    }
   ]
  }
 ]
}