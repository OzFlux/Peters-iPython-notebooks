{
 "metadata": {
  "name": "",
  "signature": "sha256:9f6afa4362b9feb1f3368ab0ceed7458ea8f590811bf8d1cd623cb2c0a4735dd"
 },
 "nbformat": 3,
 "nbformat_minor": 0,
 "worksheets": [
  {
   "cells": [
    {
     "cell_type": "code",
     "collapsed": true,
     "input": [
      "import os\n",
      "import sys\n",
      "# check the scripts directory is present\n",
      "if not os.path.exists(\"../scripts/\"):\n",
      "    print \"The scripts directory is missing\"\n",
      "    sys.exit()\n",
      "# since the scripts directory is there, try importing the modules\n",
      "sys.path.append('../scripts')\n",
      "import dateutil\n",
      "import qcio\n",
      "import qcutils\n",
      "import qcts\n",
      "import qcplot\n",
      "import statsmodels.api as sm"
     ],
     "language": "python",
     "metadata": {},
     "outputs": [],
     "prompt_number": 1
    },
    {
     "cell_type": "code",
     "collapsed": true,
     "input": [
      "def gfACCESS_getdateindices(ldt_tower,ldt_access,access_info,si_match,ei_match):\n",
      "    startdate = access_info[\"startdate\"]\n",
      "    enddate = access_info[\"enddate\"]\n",
      "    ts = access_info[\"time_step\"]\n",
      "    # get the indices of the start and end datetimes in the tower and the ACCESS data.\n",
      "    si_tower = qcutils.GetDateIndex(ldt_tower,startdate,ts=ts,match=si_match)\n",
      "    ei_tower = qcutils.GetDateIndex(ldt_tower,enddate,ts=ts,match=ei_match)\n",
      "    si_access = qcutils.GetDateIndex(ldt_access,startdate,ts=ts,match=si_match)\n",
      "    ei_access = qcutils.GetDateIndex(ldt_access,enddate,ts=ts,match=ei_match)\n",
      "    # now make sure the start and end datetime match\n",
      "    sdt = max([ldt_tower[si_tower],ldt_access[si_access]])\n",
      "    edt = min([ldt_tower[ei_tower],ldt_access[ei_access]])\n",
      "    # and get the start and end indices again in case they didn't\n",
      "    si_tower = qcutils.GetDateIndex(ldt_tower,str(sdt),ts=ts,match=si_match)\n",
      "    ei_tower = qcutils.GetDateIndex(ldt_tower,str(edt),ts=ts,match=ei_match)\n",
      "    si_access = qcutils.GetDateIndex(ldt_access,str(sdt),ts=ts,match=si_match)\n",
      "    ei_access = qcutils.GetDateIndex(ldt_access,str(edt),ts=ts,match=ei_match)\n",
      "    return {\"si\":si_tower,\"ei\":ei_tower},{\"si\":si_access,\"ei\":ei_access}"
     ],
     "language": "python",
     "metadata": {},
     "outputs": [],
     "prompt_number": 2
    },
    {
     "cell_type": "code",
     "collapsed": true,
     "input": [
      "def gfACCESS_getACCESSvarlist(ds_access,label):\n",
      "    access_var_list = [item for item in ds_access.series.keys() if label in item]\n",
      "    # remove any extraneous Fn labels (ACCESS has Fn_lw and Fn_sw)\n",
      "    if label==\"Fn\":\n",
      "        access_var_list = [item for item in access_var_list if \"lw\" not in item]\n",
      "        access_var_list = [item for item in access_var_list if \"sw\" not in item]\n",
      "    # check the series in the ACCESS data\n",
      "    if len(access_var_list)==0:\n",
      "        print \"gfACCESS_getACCESSvarlist: series \"+label+\" not in ACCESS data file\"\n",
      "    return access_var_list"
     ],
     "language": "python",
     "metadata": {},
     "outputs": [],
     "prompt_number": 3
    },
    {
     "cell_type": "code",
     "collapsed": true,
     "input": [
      "def gfACCESS_getACCESSvaratmaxr(access_var_list,data_tower,ds_access,access_info):\n",
      "    \"\"\" Get the name of the ACCESS variable that has the highest correlation with the tower data.\"\"\"\n",
      "    # local pointers to the start and end indices\n",
      "    si = access_info[\"access\"][\"exact\"][\"si\"]\n",
      "    ei = access_info[\"access\"][\"exact\"][\"ei\"]\n",
      "    # creat an array for the correlations\n",
      "    r = numpy.ones(len(access_var_list))*float(-9999)\n",
      "    # check that the number of tower data points is greater than the minimum\n",
      "    if numpy.ma.count(data_tower)>access_info[\"min_points\"]:\n",
      "        # loop over the variables in the ACCESS file\n",
      "        for idx,var in enumerate(access_var_list):\n",
      "            # get the ACCESS data\n",
      "            data_access,flag,attr = qcutils.GetSeriesasMA(ds_access,var,si=si,ei=ei)\n",
      "            # check the lengths of the tower and ACCESS data are the same\n",
      "            if len(data_access)!=len(data_tower):\n",
      "                raise ValueError('gfACCESS_getACCESSvaratmaxr: data_tower and data_access lengths differ')\n",
      "            # put the correlation into the r array\n",
      "            r[idx] = numpy.ma.corrcoef(data_tower,data_access)[0,1]\n",
      "    # get the index of the maximum r value\n",
      "    maxidx = numpy.ma.argmax(r)\n",
      "    # save the correlation array for later plotting\n",
      "    access_info[\"r\"] = r\n",
      "    # return the name of the ACCESS variable that has the highest correlation with the tower data\n",
      "    return access_var_list[maxidx]"
     ],
     "language": "python",
     "metadata": {},
     "outputs": [],
     "prompt_number": 4
    },
    {
     "cell_type": "code",
     "collapsed": true,
     "input": [
      "def gfACCESS_getlagcorrecteddata(ds_tower,ds_access,label_tower,label_access,access_info):\n",
      "    # local pointers to the start and end indices\n",
      "    si_tower = access_info[\"tower\"][\"exact\"][\"si\"]\n",
      "    ei_tower = access_info[\"tower\"][\"exact\"][\"ei\"]\n",
      "    si_access = access_info[\"access\"][\"exact\"][\"si\"]\n",
      "    ei_access = access_info[\"access\"][\"exact\"][\"ei\"]\n",
      "    # get the data\n",
      "    data_tower,f,a = qcutils.GetSeriesasMA(ds_tower,label_tower,si=si_tower,ei=ei_tower)\n",
      "    data_access,f,a = qcutils.GetSeriesasMA(ds_access,label_access,si=si_access,ei=ei_access)\n",
      "    lags,corr = qcts.get_laggedcorrelation(data_tower,data_access,maxlags=access_info[\"nperday\"])\n",
      "    nLags = numpy.argmax(corr)-maxlags\n",
      "    si_access_lagcorr = si_access - nLags\n",
      "    ei_access_lagcorr = ei_access - nLags\n",
      "    data_access_lagcorr,f,a = qcutils.GetSeriesasMA(ds_access,label_access,si=si_access_lagcorr,ei=ei_access_lagcorr,mode=\"pad\")\n",
      "    return data_access_lagcorr,f,a"
     ],
     "language": "python",
     "metadata": {},
     "outputs": [],
     "prompt_number": 5
    },
    {
     "cell_type": "code",
     "collapsed": false,
     "input": [
      "def gfACCESS_getolscorrecteddata(x_in,y_in,results,thru0=False):\n",
      "    \"\"\"\n",
      "    Calculate the ordinary least squares fit between 2 1D arrays.\n",
      "    \"\"\"\n",
      "    if numpy.ma.isMA(x_in)!=numpy.ma.isMA(y_in):\n",
      "        raise ValueError('qcts.getolscorrecteddata: one of x or y is a masked array, the other is not')\n",
      "    if numpy.ma.isMA(x_in) and numpy.ma.isMA(y_in):\n",
      "        mask = numpy.ma.mask_or(x_in.mask,y_in.mask)\n",
      "        x = numpy.ma.array(x_in,mask=mask)\n",
      "        y = numpy.ma.array(y_in,mask=mask)\n",
      "        if numpy.ma.count(x)==0:\n",
      "            raise ValueError('qcts.getolscorrecteddata: x or y all masked')\n",
      "        x = numpy.ma.compressed(x)\n",
      "        y = numpy.ma.compressed(y)\n",
      "    nx = len(x)\n",
      "    if nx!=len(y):\n",
      "        raise ValueError('qcts.getolscorrecteddata: x and y must be equal length')\n",
      "    if thru0:\n",
      "        resols = sm.OLS(x,y).fit()\n",
      "        y_out = resols.params[0]*x_in\n",
      "    else:\n",
      "        resols = sm.OLS(x,sm.add_constant(y,prepend=False)).fit()\n",
      "        y_out = resols.params[0]*x_in+resols.params[1]\n",
      "    results[\"ols\"] = resols\n",
      "    return y_out"
     ],
     "language": "python",
     "metadata": {},
     "outputs": [],
     "prompt_number": 6
    },
    {
     "cell_type": "code",
     "collapsed": true,
     "input": [
      "def gfACCESS_getwholedaysdataas2D(ldt,odt,data,si,ei,nperday):\n",
      "    si_wholedays = odt.index(ldt[si])\n",
      "    ei_wholedays = odt.index(ldt[ei])\n",
      "    data_wholedays = data[si_wholedays:ei_wholedays+1]\n",
      "    ndays = len(data_wholedays)/nperday\n",
      "    data_2d = numpy.ma.reshape(data_wholedays,[ndays,nperday])\n",
      "    return data_2d"
     ],
     "language": "python",
     "metadata": {},
     "outputs": [],
     "prompt_number": 7
    },
    {
     "cell_type": "code",
     "collapsed": true,
     "input": [
      "ds_tower = qcio.nc_read_series(qcio.get_filename_dialog())\n",
      "ds_access = qcio.nc_read_series(qcio.get_filename_dialog())\n",
      "ts_tower = int(ds_tower.globalattributes[\"time_step\"])\n",
      "ts_access = int(ds_access.globalattributes[\"time_step\"])\n",
      "if ts_tower!=ts_access: raise ValueError('gfACCESS: time stpes differ for tower and ACCESS data')\n",
      "ldt_tower = ds_tower.series[\"DateTime\"][\"Data\"]\n",
      "ldt_access = ds_access.series[\"DateTime\"][\"Data\"]\n",
      "overlap_startdate = max([ldt_tower[0],ldt_access[0]])\n",
      "overlap_enddate = min([ldt_tower[-1],ldt_access[-1]])"
     ],
     "language": "python",
     "metadata": {},
     "outputs": []
    },
    {
     "cell_type": "code",
     "collapsed": true,
     "input": [
      "access_info = {\"overlap_startdate\":overlap_startdate.strftime(\"%Y-%m-%d %H:%M\"),\n",
      "                    \"overlap_enddate\":overlap_enddate.strftime(\"%Y-%m-%d %H:%M\")}\n",
      "access_info[\"peropt\"] = 1\n",
      "access_info[\"overwrite\"] = True\n",
      "access_info[\"min_points\"] = 100\n",
      "access_info[\"startdate\"] = \"2012-12-01 01:00\"\n",
      "access_info[\"enddate\"] = \"2012-12-31 23:00\"\n",
      "access_info[\"time_step\"] = int(ds_tower.globalattributes[\"time_step\"])\n",
      "access_info[\"nperhr\"] = int(float(60)/access_info[\"time_step\"]+0.5)\n",
      "access_info[\"nperday\"] = int(float(24)*access_info[\"nperhr\"]+0.5)\n",
      "access_info[\"tower\"] = {}\n",
      "access_info[\"access\"] = {}"
     ],
     "language": "python",
     "metadata": {},
     "outputs": [],
     "prompt_number": 12
    },
    {
     "cell_type": "code",
     "collapsed": false,
     "input": [
      "label_tower = \"Fsd\"\n",
      "gfACCESS_getdateindices(ldt_tower,ldt_access,access_info,\"exact\",\"exact\")\n",
      "data_tower,f,a = qcutils.GetSeriesasMA(ds_tower,\"Fsd\",si=access_info[\"tower\"][\"exact\"][\"si\"],ei=access_info[\"tower\"][\"exact\"][\"ei\"])\n",
      "odt_tower = ldt_tower[access_info[\"tower\"][\"exact\"][\"si\"]:access_info[\"tower\"][\"exact\"][\"ei\"]+1]\n",
      "odt_access = ldt_access[access_info[\"access\"][\"exact\"][\"si\"]:access_info[\"access\"][\"exact\"][\"ei\"]+1]\n",
      "access_var_list = gfACCESS_getACCESSvarlist(ds_access,\"Fsd\")\n",
      "label_access = gfACCESS_getACCESSvaratmaxr(access_var_list,data_tower,ds_access,access_info)\n",
      "data_access,f,a = qcutils.GetSeriesasMA(ds_access,label_access,si=access_info[\"access\"][\"exact\"][\"si\"],ei=access_info[\"access\"][\"exact\"][\"ei\"])\n",
      "maxlags = 24\n",
      "data_access_lagcorr,f,a = gfACCESS_getlagcorrecteddata(ds_tower,ds_access,label_tower,label_access,access_info)\n",
      "data_access_lagolscorr = gfACCESS_getolscorrecteddata(data_access_lagcorr,data_tower,access_info,thru0=True)\n",
      "access_info[\"tower\"][\"whole_days\"],access_info[\"access\"][\"whole_days\"] = gfACCESS_getdateindices(ldt_tower,ldt_access,access_info,\"startnextday\",\"endpreviousday\")\n",
      "si_tower = access_info[\"tower\"][\"whole_days\"][\"si\"]\n",
      "ei_tower = access_info[\"tower\"][\"whole_days\"][\"ei\"]\n",
      "si_access = access_info[\"access\"][\"whole_days\"][\"si\"]\n",
      "ei_access = access_info[\"access\"][\"whole_days\"][\"ei\"]\n",
      "nperday = access_info[\"nperday\"]\n",
      "data_tower_2D = gfACCESS_getwholedaysdataas2D(ldt_tower,odt_tower,data_tower,si_tower,ei_tower,nperday)\n",
      "data_access_2D = gfACCESS_getwholedaysdataas2D(ldt_access,odt_access,data_access,si_access,ei_access,nperday)\n",
      "data_access_lagolscorr_2D = gfACCESS_getwholedaysdataas2D(ldt_access,odt_access,data_access_lagolscorr,si_access,ei_access,nperday)"
     ],
     "language": "python",
     "metadata": {},
     "outputs": [
      {
       "output_type": "stream",
       "stream": "stdout",
       "text": [
        "2"
       ]
      }
     ],
     "prompt_number": 28
    },
    {
     "cell_type": "code",
     "collapsed": false,
     "input": [
      "fig=figure()\n",
      "plot(odt_tower,data_tower,'ro')\n",
      "plot(odt_access,data_access,'b-')\n",
      "plot(odt_access,data_access_lagolscorr,'g-')"
     ],
     "language": "python",
     "metadata": {},
     "outputs": [
      {
       "metadata": {},
       "output_type": "pyout",
       "prompt_number": 19,
       "text": [
        "[<matplotlib.lines.Line2D at 0x3d2f710>]"
       ]
      }
     ],
     "prompt_number": 19
    },
    {
     "cell_type": "code",
     "collapsed": true,
     "input": [],
     "language": "python",
     "metadata": {},
     "outputs": []
    }
   ],
   "metadata": {}
  }
 ]
}