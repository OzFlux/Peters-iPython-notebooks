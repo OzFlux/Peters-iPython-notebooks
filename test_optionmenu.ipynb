{
 "metadata": {
  "name": "test_optionmenu"
 }, 
 "nbformat": 2, 
 "worksheets": [
  {
   "cells": [
    {
     "cell_type": "code", 
     "collapsed": true, 
     "input": [
      "from Tkinter import *", 
      "", 
      "master = Tk()", 
      "", 
      "variable = StringVar(master)", 
      "variable.set(\"one\") # default value", 
      "", 
      "w = OptionMenu(master, variable, \"one\", \"two\", \"three\")", 
      "w.pack()", 
      "", 
      "mainloop()"
     ], 
     "language": "python", 
     "outputs": [], 
     "prompt_number": 1
    }, 
    {
     "cell_type": "code", 
     "collapsed": true, 
     "input": [], 
     "language": "python", 
     "outputs": []
    }
   ]
  }
 ]
}