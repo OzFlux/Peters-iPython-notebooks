{
 "metadata": {
  "name": "",
  "signature": "sha256:a8216f60ae18402f15a54395f9b1fab1e508a6982a3319d3cf83cbea7a1d2abe"
 },
 "nbformat": 3,
 "nbformat_minor": 0,
 "worksheets": [
  {
   "cells": [
    {
     "cell_type": "code",
     "collapsed": false,
     "input": [
      "%run basics"
     ],
     "language": "python",
     "metadata": {},
     "outputs": [],
     "prompt_number": 1
    },
    {
     "cell_type": "code",
     "collapsed": false,
     "input": [
      "import Tkinter"
     ],
     "language": "python",
     "metadata": {},
     "outputs": [],
     "prompt_number": 2
    },
    {
     "cell_type": "code",
     "collapsed": false,
     "input": [
      "def split_netcdf_done(split_gui):\n",
      "    split_gui.destroy()"
     ],
     "language": "python",
     "metadata": {},
     "outputs": [],
     "prompt_number": 3
    },
    {
     "cell_type": "code",
     "collapsed": false,
     "input": [
      "root = Tkinter.Frame()\n",
      "root.grid()\n",
      "splitButton = Tkinter.Button(root,text=\"Split netCDF\")\n",
      "split_gui = Tkinter.Toplevel()\n",
      "split_gui.wm_title(\"Split netCDF file\")\n",
      "split_gui.grid()\n",
      "nrow = 0\n",
      "split_gui.infilenameLabel = Tkinter.Label(split_gui,text=\"Input file\")\n",
      "split_gui.infilenameLabel.grid(row=nrow,column=0,columnspan=1)\n",
      "split_gui.infilenameEntry = Tkinter.Entry(split_gui,width=15)\n",
      "split_gui.infilenameEntry.grid(row=nrow,column=2,columnspan=3)\n",
      "# quit button\n",
      "nrow = nrow + 1\n",
      "split_gui.doneButton = Tkinter.Button(split_gui,text=\"Done\",command=lambda:split_netcdf_done(split_gui))\n",
      "split_gui.doneButton.grid(row=nrow,column=0,columnspan=3)\n",
      "\n",
      "split_gui.wait_window(split_gui)"
     ],
     "language": "python",
     "metadata": {},
     "outputs": [
      {
       "ename": "AttributeError",
       "evalue": "Frame instance has no attribute 'wm_title'",
       "output_type": "pyerr",
       "traceback": [
        "\u001b[1;31m---------------------------------------------------------------------------\u001b[0m\n\u001b[1;31mAttributeError\u001b[0m                            Traceback (most recent call last)",
        "\u001b[1;32m<ipython-input-4-fe97625f986b>\u001b[0m in \u001b[0;36m<module>\u001b[1;34m()\u001b[0m\n\u001b[0;32m      1\u001b[0m \u001b[0msplit_gui\u001b[0m \u001b[1;33m=\u001b[0m \u001b[0mTkinter\u001b[0m\u001b[1;33m.\u001b[0m\u001b[0mFrame\u001b[0m\u001b[1;33m(\u001b[0m\u001b[1;33m)\u001b[0m\u001b[1;33m\u001b[0m\u001b[0m\n\u001b[1;32m----> 2\u001b[1;33m \u001b[0msplit_gui\u001b[0m\u001b[1;33m.\u001b[0m\u001b[0mwm_title\u001b[0m\u001b[1;33m(\u001b[0m\u001b[1;34m\"Split netCDF file\"\u001b[0m\u001b[1;33m)\u001b[0m\u001b[1;33m\u001b[0m\u001b[0m\n\u001b[0m\u001b[0;32m      3\u001b[0m \u001b[0msplit_gui\u001b[0m\u001b[1;33m.\u001b[0m\u001b[0mgrid\u001b[0m\u001b[1;33m(\u001b[0m\u001b[1;33m)\u001b[0m\u001b[1;33m\u001b[0m\u001b[0m\n\u001b[0;32m      4\u001b[0m \u001b[0mnrow\u001b[0m \u001b[1;33m=\u001b[0m \u001b[1;36m0\u001b[0m\u001b[1;33m\u001b[0m\u001b[0m\n\u001b[0;32m      5\u001b[0m \u001b[0msplit_gui\u001b[0m\u001b[1;33m.\u001b[0m\u001b[0minfilenameLabel\u001b[0m \u001b[1;33m=\u001b[0m \u001b[0mTkinter\u001b[0m\u001b[1;33m.\u001b[0m\u001b[0mLabel\u001b[0m\u001b[1;33m(\u001b[0m\u001b[0msplit_gui\u001b[0m\u001b[1;33m,\u001b[0m\u001b[0mtext\u001b[0m\u001b[1;33m=\u001b[0m\u001b[1;34m\"Input file\"\u001b[0m\u001b[1;33m)\u001b[0m\u001b[1;33m\u001b[0m\u001b[0m\n",
        "\u001b[1;31mAttributeError\u001b[0m: Frame instance has no attribute 'wm_title'"
       ]
      }
     ],
     "prompt_number": 4
    },
    {
     "cell_type": "code",
     "collapsed": false,
     "input": [],
     "language": "python",
     "metadata": {},
     "outputs": []
    }
   ],
   "metadata": {}
  }
 ]
}