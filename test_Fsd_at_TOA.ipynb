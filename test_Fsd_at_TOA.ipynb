{
 "metadata": {
  "name": "",
  "signature": "sha256:dc9e9fd0239eafa41fe111cce6f147708f1d37a120402c3cf7405204c2093613"
 },
 "nbformat": 3,
 "nbformat_minor": 0,
 "worksheets": [
  {
   "cells": [
    {
     "cell_type": "code",
     "collapsed": false,
     "input": [
      "%run basics\n",
      "import math\n",
      "import pytz\n",
      "%matplotlib"
     ],
     "language": "python",
     "metadata": {},
     "outputs": [
      {
       "output_type": "stream",
       "stream": "stdout",
       "text": [
        "Using matplotlib backend: Qt4Agg\n"
       ]
      }
     ],
     "prompt_number": 1
    },
    {
     "cell_type": "code",
     "collapsed": false,
     "input": [
      "def GetRadiationDirect(utc_datetime, altitude_deg):\n",
      "    # from Masters, p. 412\n",
      "    if(altitude_deg > 0):\n",
      "            day = GetDayOfYear(utc_datetime)\n",
      "            flux = GetApparentExtraterrestrialFlux(day)\n",
      "            optical_depth = GetOpticalDepth(day)\n",
      "            air_mass_ratio = GetAirMassRatio(altitude_deg)\n",
      "            #return flux * math.exp(-1 * optical_depth * air_mass_ratio)\n",
      "            return flux * math.exp(-1 * optical_depth * air_mass_ratio)*math.sin(math.radians(altitude_deg))\n",
      "    else:\n",
      "            return 0.0\n",
      "\n",
      "def GetDayOfYear(utc_datetime):\n",
      "        year_start = datetime.datetime(utc_datetime.year, 1, 1, tzinfo=utc_datetime.tzinfo)\n",
      "        delta = (utc_datetime - year_start)\n",
      "        return delta.days\n",
      "\n",
      "def GetApparentExtraterrestrialFlux(day):\n",
      "    # from Masters, p. 412\n",
      "    return 1160 + (75 * numpy.sin(numpy.radians((360./365) * (day - 275))))"
     ],
     "language": "python",
     "metadata": {},
     "outputs": [],
     "prompt_number": 9
    },
    {
     "cell_type": "code",
     "collapsed": false,
     "input": [
      "# read the netCDF file\n",
      "nc_name = qcio.get_filename_dialog()\n",
      "ds = qcio.nc_read_series(nc_name)"
     ],
     "language": "python",
     "metadata": {},
     "outputs": [],
     "prompt_number": 3
    },
    {
     "cell_type": "code",
     "collapsed": false,
     "input": [
      "# Ian's code\n",
      "# set a value for \"k\", the extinction coefficient\n",
      "k = 0.9\n",
      "# get the latitude and longitude\n",
      "lat_decdeg = float(ds.globalattributes[\"latitude\"])\n",
      "long_decdeg = float(ds.globalattributes[\"longitude\"])\n",
      "if \"elevation\" in ds.globalattributes:\n",
      "    ALT_m = int(ds.globalattributes[\"elevation\"])\n",
      "else:\n",
      "    ALT_m = 1.0\n",
      "rec_length = int(ds.globalattributes[\"time_step\"])\n",
      "# Ian's original code queried AskGeo for the UTC offset in milliseconds\n",
      "# and converted that to hours.  Here we use the time zone given in the\n",
      "# netCDF file global attributes.\n",
      "# get the time zone\n",
      "time_zone = ds.globalattributes[\"time_zone\"]\n",
      "# get a pytz object\n",
      "tz = pytz.timezone(time_zone)\n",
      "# use the same \"current\" date as Ian\n",
      "cdt = datetime.datetime(2013,6,1,0,0,0)\n",
      "# get the offset to UTC time as a timedelta object\n",
      "utcoffset = tz.utcoffset(cdt)\n",
      "# get the offset as hours\n",
      "GMT_zone = utcoffset.seconds/float(3600)\n",
      "# get the datetime\n",
      "ldt = ds.series[\"DateTime\"][\"Data\"]\n",
      "# get the day of the year from local time\n",
      "#DOY = numpy.array([dt.timetuple().tm_yday for dt in ldt])\n",
      "start_doy = ldt[0].timetuple().tm_yday\n",
      "end_doy = ldt[-2].timetuple().tm_yday\n",
      "DOY = numpy.arange(start_doy,end_doy+1,1)\n",
      "# For each day calculate equation of time correction, solar noon, declination and TOA radiation\n",
      "array_EqofTime=0.17*numpy.sin(4*numpy.pi*(DOY-80)/373)-0.129*numpy.sin(2*numpy.pi*(DOY-8)/355) # DiLaura (1984)\n",
      "array_solar_noon=12+(GMT_zone*15.0-long_decdeg)/360*24-array_EqofTime # Me\n",
      "array_decl=numpy.radians(23.4)*numpy.sin((DOY+284)/365.0*2*numpy.pi) # Oke (1987)\n",
      "array_TOArad=(1+0.034*numpy.cos(DOY/365.25*2*numpy.pi))*1367.0 # Duffie and Beckman (1980)"
     ],
     "language": "python",
     "metadata": {},
     "outputs": [],
     "prompt_number": 4
    },
    {
     "cell_type": "code",
     "collapsed": false,
     "input": [
      "flux = GetApparentExtraterrestrialFlux(DOY)"
     ],
     "language": "python",
     "metadata": {},
     "outputs": [],
     "prompt_number": 7
    },
    {
     "cell_type": "code",
     "collapsed": false,
     "input": [
      "fig = plt.figure()\n",
      "plt.plot(DOY,array_TOArad,'b.')\n",
      "plt.plot(DOY,flux,'r+')\n",
      "plt.show()"
     ],
     "language": "python",
     "metadata": {},
     "outputs": [],
     "prompt_number": 8
    },
    {
     "cell_type": "code",
     "collapsed": false,
     "input": [],
     "language": "python",
     "metadata": {},
     "outputs": []
    }
   ],
   "metadata": {}
  }
 ]
}