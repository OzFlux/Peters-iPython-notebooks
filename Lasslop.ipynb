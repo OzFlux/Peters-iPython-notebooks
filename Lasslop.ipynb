{
 "cells": [
  {
   "cell_type": "code",
   "execution_count": null,
   "metadata": {
    "collapsed": true
   },
   "outputs": [],
   "source": [
    "%run basics\n",
    "%matplotlib"
   ]
  },
  {
   "cell_type": "code",
   "execution_count": null,
   "metadata": {
    "collapsed": true
   },
   "outputs": [],
   "source": [
    "def residuals_RHLRC_D(params,NEE,Fsd,D,T,D0,E0,weighted,weight_type):\n",
    "    alpha = params[0]\n",
    "    beta = params[1]\n",
    "    k = params[2]\n",
    "    rb = params[3]\n",
    "    resid = NEE - NEE_RHLRC_D(Fsd,D,T,alpha,beta,k,D0,rb,E0)\n",
    "    if weighted:\n",
    "        weights = CalculateWeights(resid,weight_type=weight_type)\n",
    "        return resid*weights\n",
    "    else:\n",
    "        return resid\n",
    "\n",
    "def NEE_RHLRC_D(Fsd,D,T,alpha,beta,k,D0,rb,E0):\n",
    "    NEE = -1*GPP_RHLRC_D(Fsd,D,alpha,beta,k,D0) + ER_LloydTaylor(T,rb,E0)\n",
    "    return NEE\n",
    "\n",
    "def GPP_RHLRC_D(Fsd,D,alpha,beta,k,D0):\n",
    "    beta = beta*SHD_func_Lasslop(D,k,D0)\n",
    "    GPP = alpha*beta*Fsd/(alpha*Fsd+beta)\n",
    "    return GPP\n",
    "\n",
    "def ER_LloydTaylor(T,rb,E0):\n",
    "#    return rb*numpy.exp(E0*(1/(c.Tref-c.T0)-1/(T-c.T0)))\n",
    "    return rb*numpy.exp(E0*(1/(288.13-227.13)-1/((T+273.15)-227.13)))\n",
    "\n",
    "def SHD_func_Lasslop(D,k,D0):\n",
    "    SHD_func = numpy.ones(len(D))\n",
    "    idx = numpy.where(D>D0)[0]\n",
    "    SHD_func[idx] = numpy.exp(-k*(D[idx]-D0))\n",
    "    return SHD_func"
   ]
  },
  {
   "cell_type": "code",
   "execution_count": null,
   "metadata": {
    "collapsed": true
   },
   "outputs": [],
   "source": [
    "def irls_leastsq(func,p0,args=(),maxfev=3,weight_type='Huber',mode=\"quiet\"):\n",
    "    weighted = False\n",
    "    popt,pcov = scipy.optimize.leastsq(func,p0,args=args+(weighted,weight_type))\n",
    "    if mode!=\"quiet\":\n",
    "        print 'After non-weighted call to leastsq: ',popt\n",
    "    n=1\n",
    "    weighted = True\n",
    "    while n<=maxfev:\n",
    "        popt,pcov = scipy.optimize.leastsq(func,popt,args=args+(weighted,weight_type))\n",
    "        if mode!=\"quiet\":\n",
    "            print 'Weighted call '+str(n)+' to leastsq: ',popt\n",
    "        n = n + 1\n",
    "    return popt,pcov\n",
    "\n",
    "def CalculateWeights(resid,weight_type='Huber'):\n",
    "    if weight_type.lower()=='tukey':\n",
    "        weights = TukeyBiweight(MAD_scale(resid))\n",
    "    elif weight_type.lower()=='huber':\n",
    "        weights = HuberTWeight(MAD_scale(resid))\n",
    "    elif weight_type.lower()=='ols':\n",
    "        weights = OLSWeight(MAD_scale(resid))\n",
    "    else:\n",
    "        print \"CalculateWeights: Unknown weight type, used Huber's t weight\"\n",
    "        weights = HuberTWeight(MAD_scale(resid))\n",
    "    return weights\n",
    "\n",
    "def TukeyBiweight(x):\n",
    "    return ((numpy.abs(x)<1.0)*(1.0 - x**2)**2)\n",
    "\n",
    "def HuberTWeight(x):\n",
    "    weights = numpy.ones(len(x))\n",
    "    idx = numpy.where(numpy.abs(x)>1.345)[0]\n",
    "    weights[idx] = 1.345/numpy.abs(x[idx])\n",
    "    return weights\n",
    "\n",
    "def OLSWeight(x):\n",
    "    weights = numpy.ones(len(x))\n",
    "    return weights\n",
    "\n",
    "def MAD_scale(resid):\n",
    "    scale = numpy.median(numpy.abs(resid - numpy.median(resid))) / 0.6745\n",
    "    return resid/scale"
   ]
  },
  {
   "cell_type": "code",
   "execution_count": null,
   "metadata": {
    "collapsed": true
   },
   "outputs": [],
   "source": [
    "# get the netCDF file name\n",
    "ncname = \"../Sites/Whroo/Data/Portal/Whroo_L4.nc\"\n",
    "# read the contents into a data structure\n",
    "ds = qcio.nc_read_series(ncname)\n",
    "# get the datetime series\n",
    "dt = ds.series[\"DateTime\"][\"Data\"]"
   ]
  },
  {
   "cell_type": "code",
   "execution_count": null,
   "metadata": {
    "collapsed": true
   },
   "outputs": [],
   "source": [
    "# open an Excel workbook for the results\n",
    "xlname = ncname.replace(\".nc\",\"_LRC.xls\")\n",
    "xlfile = qcio.xl_open_write(xlname)"
   ]
  },
  {
   "cell_type": "code",
   "execution_count": null,
   "metadata": {
    "collapsed": true
   },
   "outputs": [],
   "source": [
    "# rectangular hyperbolic LRC, with D function\n",
    "# set the downwelling shortwave radiation and friction velocity thresholds\n",
    "Fsd_threshold = 10\n",
    "ustar_threshold = 0.40\n",
    "D0 = 0.5\n",
    "E0 = 191\n",
    "# add a sheet to the Excel workbook\n",
    "xlsheet = xlfile.add_sheet(\"RHLRC_D\")\n",
    "# get the index of the first period at the start of the first whole month\n",
    "si = qcutils.GetDateIndex(dt,str(dt[0]),match=\"startnextmonth\")\n",
    "# get the start datetime\n",
    "start_date = dt[si]\n",
    "# create a dictionary for the results\n",
    "RHLRC_D = {\"DateTime\":{\"data\":[],\"units\":\"-\",\"format\":\"dd/mm/yyyy hh:mm\"},\n",
    "           \"alpha\":{\"data\":[],\"units\":\"-\",\"format\":\"0.0000\"},\n",
    "           \"beta\":{\"data\":[],\"units\":\"-\",\"format\":\"0.00\"},\n",
    "           \"k\":{\"data\":[],\"units\":\"-\",\"format\":\"0.000\"},\n",
    "           \"rb\":{\"data\":[],\"units\":\"-\",\"format\":\"0.00\"},\n",
    "           \"ER\":{\"data\":[],\"units\":\"-\",\"format\":\"0.00\"}}\n",
    "# loop over periods until done\n",
    "while start_date<dt[-1]:\n",
    "    # get the end datetime for this pass\n",
    "    end_date = start_date+dateutil.relativedelta.relativedelta(months=1)\n",
    "    # indices of start and end datetimes\n",
    "    si = qcutils.GetDateIndex(dt,str(start_date),default=0)\n",
    "    ei = qcutils.GetDateIndex(dt,str(end_date),default=len(dt))\n",
    "    # minimum number of points is 10%\n",
    "    min_points = int(0.1*(ei-si))\n",
    "    mi = int((si+ei)/2)\n",
    "    # get the downwelling shortwave, CO2 flux and friction velocity\n",
    "    Fsd,f,a = qcutils.GetSeriesasMA(ds,\"Fsd\",si=si,ei=ei)\n",
    "    NEE,f,a = qcutils.GetSeriesasMA(ds,\"Fc\",si=si,ei=ei)\n",
    "    ustar,f,a = qcutils.GetSeriesasMA(ds,\"ustar\",si=si,ei=ei)\n",
    "    VPD,f,a = qcutils.GetSeriesasMA(ds,\"VPD\",si=si,ei=ei)\n",
    "    T,f,a = qcutils.GetSeriesasMA(ds,\"Ta\",si=si,ei=ei)\n",
    "    # mask out the night-time ...\n",
    "    Fsd_day = numpy.ma.masked_where(Fsd<Fsd_threshold,Fsd)\n",
    "    VPD_day = numpy.ma.masked_where(Fsd<Fsd_threshold,VPD)\n",
    "    T_day = numpy.ma.masked_where(Fsd<Fsd_threshold,T)\n",
    "    NEE_day = numpy.ma.masked_where(Fsd<Fsd_threshold,NEE)\n",
    "    # get the mask across all data (one masked ==> all masked)\n",
    "    ones = numpy.ma.ones(len(Fsd))\n",
    "    for item in [Fsd_day,VPD_day,T_day,NEE_day]:\n",
    "        mask = numpy.ma.mask_or(numpy.ma.getmaskarray(ones),\n",
    "                                numpy.ma.getmaskarray(item),\n",
    "                                copy=True)\n",
    "    # remove masked elements\n",
    "    for item in [Fsd_day,VPD_day,T_day,NEE_day]:\n",
    "        item = numpy.ma.compressed(numpy.ma.masked_where(mask,item))\n",
    "    # mask out the day-time conditions ...\n",
    "    NEE_night = numpy.ma.masked_where(Fsd>=Fsd_threshold,NEE)\n",
    "    T_night = numpy.ma.masked_where(Fsd>=Fsd_threshold,T)\n",
    "    # get the mask across all data (one masked ==> all masked)\n",
    "    ones = numpy.ma.ones(len(Fsd))\n",
    "    for item in [NEE_night,T_night]:\n",
    "        mask = numpy.ma.mask_or(numpy.ma.getmaskarray(ones),\n",
    "                                numpy.ma.getmaskarray(item),\n",
    "                                copy=True)\n",
    "    # remove masked elements\n",
    "    for item in [NEE_night,T_night]:\n",
    "        item = numpy.ma.compressed(numpy.ma.masked_where(mask,item))\n",
    "    # add the mid-period datetime to the results dictionary\n",
    "    RHLRC_D[\"DateTime\"][\"data\"].append(dt[mi])\n",
    "    # call the optimisation if more than the minimum number of\n",
    "    # points available, otherwise set results to missing value\n",
    "    # set the priors\n",
    "    rb_prior = numpy.ma.mean(NEE_night)\n",
    "    beta_prior = numpy.abs(numpy.percentile(NEE_day,5)-numpy.percentile(NEE_day,95))\n",
    "    #print rb_prior,beta_prior\n",
    "    p0 = [0.01,20,0,2]\n",
    "    if len(Fsd_day)>=min_points:\n",
    "        popt,pcov = irls_leastsq(residuals_RHLRC_D,p0,\n",
    "                                 args=(NEE_day,Fsd_day,VPD_day,T_day,D0,E0),\n",
    "                                 maxfev=3,weight_type='Huber')\n",
    "    else:\n",
    "        popt = [-9999,-9999,-9999,-9999]\n",
    "    RHLRC_D[\"alpha\"][\"data\"].append(popt[0])\n",
    "    RHLRC_D[\"beta\"][\"data\"].append(popt[1])\n",
    "    RHLRC_D[\"k\"][\"data\"].append(popt[2])\n",
    "    RHLRC_D[\"rb\"][\"data\"].append(popt[3])\n",
    "    # plot the data\n",
    "    if popt[0]!=-9999:\n",
    "        NEE_fit = NEE_RHLRC_D(Fsd_day,VPD_day,T_day,popt[0],popt[1],popt[2],D0,popt[3],E0)\n",
    "        fig=plt.figure()\n",
    "        plt.plot(Fsd_day,NEE_day,'b.')\n",
    "        plt.plot(Fsd_day,NEE_fit,'r+')\n",
    "        plt.show()\n",
    "    # get the average of the u*-filtered, nocturnal Fc\n",
    "    NEE_night = numpy.ma.masked_where(ustar<=ustar_threshold,NEE_night)\n",
    "    if len(NEE_night)>=min_points:\n",
    "        RHLRC_D[\"ER\"][\"data\"].append(numpy.ma.mean(NEE_night))\n",
    "    else:\n",
    "        RHLRC_D[\"ER\"][\"data\"].append(-9999)\n",
    "    start_date = end_date\n",
    "# write the results to the Excel workbook\n",
    "qcio.xl_write_data(xlsheet,RHLRC_D,xlCol=0)"
   ]
  },
  {
   "cell_type": "code",
   "execution_count": null,
   "metadata": {
    "collapsed": true
   },
   "outputs": [],
   "source": [
    "xlfile.save(xlname)"
   ]
  }
 ],
 "metadata": {
  "kernelspec": {
   "display_name": "Python 2",
   "language": "python",
   "name": "python2"
  },
  "language_info": {
   "codemirror_mode": {
    "name": "ipython",
    "version": 2
   },
   "file_extension": ".py",
   "mimetype": "text/x-python",
   "name": "python",
   "nbconvert_exporter": "python",
   "pygments_lexer": "ipython2",
   "version": "2.7.10"
  }
 },
 "nbformat": 4,
 "nbformat_minor": 0
}
