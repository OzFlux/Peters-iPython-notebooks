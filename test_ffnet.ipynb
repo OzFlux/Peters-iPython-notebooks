{
 "metadata": {
  "name": "test_ffnet"
 }, 
 "nbformat": 2, 
 "worksheets": [
  {
   "cells": [
    {
     "cell_type": "code", 
     "collapsed": true, 
     "input": [
      "import sys", 
      "sys.path.append('../scripts')", 
      "import constants as c", 
      "import matplotlib.pyplot as plt", 
      "import numpy", 
      "import qcio", 
      "import qcutils", 
      "from ffnet import ffnet,mlgraph,tmlgraph"
     ], 
     "language": "python", 
     "outputs": [], 
     "prompt_number": 1
    }, 
    {
     "cell_type": "code", 
     "collapsed": true, 
     "input": [
      "ncname=qcio.get_filename_dialog()"
     ], 
     "language": "python", 
     "outputs": [], 
     "prompt_number": 2
    }, 
    {
     "cell_type": "code", 
     "collapsed": false, 
     "input": [
      "ds=qcio.nc_read_series(ncname)", 
      "ldt=ds.series[\"DateTime\"][\"Data\"]", 
      "Fsd,f,a,=qcutils.GetSeriesasMA(ds,\"Fsd\")", 
      "ustar,f,a=qcutils.GetSeriesasMA(ds,\"ustar\")", 
      "Fc,Fc_flag,Fc_attr=qcutils.GetSeriesasMA(ds,\"Fc\")", 
      "Reco1 = numpy.ma.masked_where(Fsd>10,Fc,copy=True)", 
      "Reco2 = numpy.ma.masked_where(ustar<0.3,Reco1,copy=True)", 
      "Reco3 = numpy.ma.masked_where(Reco2<0,Reco2,copy=True)", 
      "attr = qcutils.MakeAttributeDictionary(long_name='Ecosystem respiration (observed)',units=Fc_attr[\"units\"])", 
      "qcutils.CreateSeries(ds,\"Reco\",Reco3,Flag=Fc_flag,Attr=attr)"
     ], 
     "language": "python", 
     "outputs": [], 
     "prompt_number": 29
    }, 
    {
     "cell_type": "code", 
     "collapsed": false, 
     "input": [
      "Reco,f,a = qcutils.GetSeriesasMA(ds,\"Reco\")", 
      "drivers = [\"Ts\",\"Sws\"]", 
      "mask = numpy.ma.getmask(Reco)", 
      "for val in drivers:", 
      "    d,f,a = qcutils.GetSeriesasMA(ds,val)", 
      "    mask = numpy.ma.mask_or(mask,d.mask)", 
      "Reco.mask = mask", 
      "nRecs = numpy.ma.count(Reco)", 
      "data_nm = numpy.empty((nRecs,len(drivers)+1))", 
      "for idx,val in enumerate(drivers):", 
      "    d,f,a = qcutils.GetSeriesasMA(ds,val)", 
      "    d.mask = mask", 
      "    data_nm[:,idx] = numpy.ma.compressed(d)", 
      "data_nm[:,idx+1] = numpy.ma.compressed(Reco)", 
      "input_train = data_nm[:,0:idx+1]", 
      "target_train = data_nm[:,idx+1]"
     ], 
     "language": "python", 
     "outputs": [], 
     "prompt_number": 30
    }, 
    {
     "cell_type": "code", 
     "collapsed": false, 
     "input": [
      "conec=mlgraph((2,2,1))", 
      "net=ffnet(conec)", 
      "net.train_tnc(input_train,target_train)"
     ], 
     "language": "python", 
     "outputs": [], 
     "prompt_number": 31
    }, 
    {
     "cell_type": "code", 
     "collapsed": true, 
     "input": [
      "input_predict = numpy.empty((len(Reco),len(drivers)))", 
      "for idx,val in enumerate(drivers):", 
      "    d,f,a = qcutils.GetSeries(ds,val)", 
      "    input_predict[:,idx] = d[:]"
     ], 
     "language": "python", 
     "outputs": [], 
     "prompt_number": 36
    }, 
    {
     "cell_type": "code", 
     "collapsed": false, 
     "input": [
      "output,regress=net.test(input_train,target_train)"
     ], 
     "language": "python", 
     "outputs": [
      {
       "output_type": "stream", 
       "stream": "stdout", 
       "text": [
        "Testing results for 3388 testing cases:", 
        "OUTPUT 1 (node nr 5):", 
        "Regression line parameters:", 
        "slope         =  0.123051", 
        "intercept     =  0.967119", 
        "r-value       =  0.348901", 
        "p-value       =  0.000000", 
        "slope stderr  =  0.005680", 
        "estim. stderr =  0.298352", 
        ""
       ]
      }
     ], 
     "prompt_number": 37
    }, 
    {
     "cell_type": "code", 
     "collapsed": true, 
     "input": [
      "output=net.call(input_predict)"
     ], 
     "language": "python", 
     "outputs": [], 
     "prompt_number": 38
    }, 
    {
     "cell_type": "code", 
     "collapsed": false, 
     "input": [
      "plt.plot(ldt,Reco,'b.')", 
      "plt.plot(ldt,output,'r+')"
     ], 
     "language": "python", 
     "outputs": [
      {
       "output_type": "pyout", 
       "prompt_number": 39, 
       "text": [
        "[<matplotlib.lines.Line2D at 0xd2abc10>]"
       ]
      }
     ], 
     "prompt_number": 39
    }, 
    {
     "cell_type": "code", 
     "collapsed": true, 
     "input": [], 
     "language": "python", 
     "outputs": []
    }
   ]
  }
 ]
}