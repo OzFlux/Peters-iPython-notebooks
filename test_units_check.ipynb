{
 "metadata": {
  "name": "",
  "signature": "sha256:c5976c755547f2f09392216b52589b8b2fb00933c4ede90477a24d9a0cecc87f"
 },
 "nbformat": 3,
 "nbformat_minor": 0,
 "worksheets": [
  {
   "cells": [
    {
     "cell_type": "code",
     "collapsed": false,
     "input": [
      "%run basics"
     ],
     "language": "python",
     "metadata": {},
     "outputs": [],
     "prompt_number": 1
    },
    {
     "cell_type": "code",
     "collapsed": false,
     "input": [
      "units_row = ['(umol m)/(mol s)','mg/m2/s','mg m-2 s-1','mgm^-2s^-1']"
     ],
     "language": "python",
     "metadata": {},
     "outputs": [],
     "prompt_number": 2
    },
    {
     "cell_type": "code",
     "collapsed": false,
     "input": [
      "for item in units_row:\n",
      "    print item,'umol' in item"
     ],
     "language": "python",
     "metadata": {},
     "outputs": [
      {
       "output_type": "stream",
       "stream": "stdout",
       "text": [
        "(umol m)/(mol s) True\n",
        "mg/m2/s False\n",
        "mg m-2 s-1 False\n",
        "mgm^-2s^-1 False\n"
       ]
      }
     ],
     "prompt_number": 3
    },
    {
     "cell_type": "code",
     "collapsed": false,
     "input": [],
     "language": "python",
     "metadata": {},
     "outputs": []
    }
   ],
   "metadata": {}
  }
 ]
}