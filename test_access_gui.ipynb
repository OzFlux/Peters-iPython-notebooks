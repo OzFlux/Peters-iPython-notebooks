{
 "metadata": {
  "name": "test_access_gui"
 }, 
 "nbformat": 2, 
 "worksheets": [
  {
   "cells": [
    {
     "cell_type": "code", 
     "collapsed": true, 
     "input": [
      "from Tkinter import *"
     ], 
     "language": "python", 
     "outputs": [], 
     "prompt_number": 1
    }, 
    {
     "cell_type": "code", 
     "collapsed": false, 
     "input": [
      "master = Tk()", 
      "Label(text=\"one\").pack()", 
      "separator = Frame(bd=2, relief=RIDGE)", 
      "Label(separator,text=\"three\").pack()", 
      "separator.pack(fill=X, padx=5, pady=5)", 
      "Label(text=\"two\").pack()"
     ], 
     "language": "python", 
     "outputs": [], 
     "prompt_number": 2
    }, 
    {
     "cell_type": "code", 
     "collapsed": true, 
     "input": [
      "mainloop()"
     ], 
     "language": "python", 
     "outputs": [], 
     "prompt_number": 3
    }, 
    {
     "cell_type": "code", 
     "collapsed": true, 
     "input": [], 
     "language": "python", 
     "outputs": []
    }
   ]
  }
 ]
}