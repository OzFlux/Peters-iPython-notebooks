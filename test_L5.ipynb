{
 "cells": [
  {
   "cell_type": "code",
   "execution_count": 1,
   "metadata": {
    "collapsed": false
   },
   "outputs": [
    {
     "name": "stdout",
     "output_type": "stream",
     "text": [
      "Using matplotlib backend: Qt4Agg\n"
     ]
    }
   ],
   "source": [
    "%run basics\n",
    "%matplotlib"
   ]
  },
  {
   "cell_type": "code",
   "execution_count": 2,
   "metadata": {
    "collapsed": true
   },
   "outputs": [],
   "source": [
    "cf = qcio.load_controlfile(path='controlfiles')\n",
    "infilename = qcio.get_infilenamefromcf(cf)\n",
    "ds4 = qcio.nc_read_series(infilename)"
   ]
  },
  {
   "cell_type": "code",
   "execution_count": 3,
   "metadata": {
    "collapsed": true
   },
   "outputs": [],
   "source": [
    "ds5 = qcio.copy_datastructure(cf,ds4)\n",
    "qcutils.UpdateGlobalAttributes(cf,ds5,\"L5\")\n",
    "ds5.cf = cf\n",
    "ds_alt = {}\n",
    "qcgf.ImportSeries(cf,ds5)\n",
    "qcck.do_qcchecks(cf,ds5)\n",
    "for ThisOne in cf[\"Fluxes\"].keys():\n",
    "    qcgf.GapFillParseControlFile(cf,ds5,ThisOne,ds_alt)"
   ]
  },
  {
   "cell_type": "code",
   "execution_count": 4,
   "metadata": {
    "collapsed": true
   },
   "outputs": [],
   "source": [
    "Fc_data_nf,Fc_flag_nf,Fc_attr_nf = qcutils.GetSeriesasMA(ds5,\"Fc\")"
   ]
  },
  {
   "cell_type": "code",
   "execution_count": 5,
   "metadata": {
    "collapsed": false
   },
   "outputs": [
    {
     "name": "stderr",
     "output_type": "stream",
     "text": [
      "WARNING:qc.rp: CPD results filename not in control file\n"
     ]
    }
   ],
   "source": [
    "qcck.ApplyTurbulenceFilter(cf,ds5)"
   ]
  },
  {
   "cell_type": "code",
   "execution_count": 6,
   "metadata": {
    "collapsed": true
   },
   "outputs": [],
   "source": [
    "Fc_data_f,Fc_flag_f,Fc_attr_f = qcutils.GetSeriesasMA(ds5,\"Fc\")"
   ]
  },
  {
   "cell_type": "code",
   "execution_count": 8,
   "metadata": {
    "collapsed": false
   },
   "outputs": [
    {
     "name": "stdout",
     "output_type": "stream",
     "text": [
      "44630 22569\n"
     ]
    }
   ],
   "source": [
    "print numpy.ma.count(Fc_data_nf),numpy.ma.count(Fc_data_f)"
   ]
  },
  {
   "cell_type": "code",
   "execution_count": 11,
   "metadata": {
    "collapsed": false
   },
   "outputs": [
    {
     "name": "stdout",
     "output_type": "stream",
     "text": [
      "41144 21272\n"
     ]
    }
   ],
   "source": [
    "print len(numpy.where(Fc_flag_nf==0)[0]),len(numpy.where(Fc_flag_f==0)[0])"
   ]
  },
  {
   "cell_type": "code",
   "execution_count": null,
   "metadata": {
    "collapsed": true
   },
   "outputs": [],
   "source": []
  }
 ],
 "metadata": {
  "kernelspec": {
   "display_name": "Python 2",
   "language": "python",
   "name": "python2"
  },
  "language_info": {
   "codemirror_mode": {
    "name": "ipython",
    "version": 2
   },
   "file_extension": ".py",
   "mimetype": "text/x-python",
   "name": "python",
   "nbconvert_exporter": "python",
   "pygments_lexer": "ipython2",
   "version": "2.7.11"
  }
 },
 "nbformat": 4,
 "nbformat_minor": 0
}
