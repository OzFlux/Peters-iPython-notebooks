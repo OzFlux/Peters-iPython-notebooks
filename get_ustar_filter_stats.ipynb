{
 "cells": [
  {
   "cell_type": "code",
   "execution_count": 1,
   "metadata": {
    "collapsed": false
   },
   "outputs": [
    {
     "name": "stdout",
     "output_type": "stream",
     "text": [
      "Using matplotlib backend: Qt4Agg\n"
     ]
    }
   ],
   "source": [
    "%run basics\n",
    "%matplotlib"
   ]
  },
  {
   "cell_type": "code",
   "execution_count": 2,
   "metadata": {
    "collapsed": false
   },
   "outputs": [],
   "source": [
    "cf = {\"Files\":{},\"Options\":{}}\n",
    "cf[\"Options\"][\"Filterist\"] = [\"Fc\"]\n",
    "cf[\"Options\"][\"TurbulenceFilter\"] = \"ustar\"\n",
    "cf[\"Options\"][\"DayNightFilter\"] = \"Fsd\"\n",
    "cf[\"Options\"][\"UseFsdsyn_threshold\"] = \"No\"\n",
    "cf[\"Options\"][\"AcceptDayTimes\"] = \"Yes\"\n",
    "cf[\"Options\"][\"UseEveningFilter\"] = \"No\"\n",
    "cf[\"Options\"][\"EveningFilterLength\"] = 3\n",
    "cf[\"Options\"][\"Fsd_threshold\"] = 10\n",
    "cf[\"Options\"][\"sa_threshold\"] = -5"
   ]
  },
  {
   "cell_type": "code",
   "execution_count": 3,
   "metadata": {
    "collapsed": true
   },
   "outputs": [],
   "source": [
    "site_name_list = [\"AdelaideRiver\",\"Calperum\",\"CapeTribulation\",\"CowBay\",\"CumberlandPlains\",\n",
    "                  \"DalyPasture\",\"DalyUncleared\",\"DryRiver\",\"Emerald\",\"FoggDam\",\"Gingin\",\n",
    "                  \"GreatWesternWoodlands\",\"HowardSprings\",\"Otway\",\"RedDirtMelonFarm\",\"RiggsCreek\",\n",
    "                  \"RobsonCreek\",\"Samford\",\"SturtPlains\",\"Tumbarumba\",\"Whroo\",\"WombatStateForest\",\n",
    "                  \"Yanco\"]"
   ]
  },
  {
   "cell_type": "code",
   "execution_count": 5,
   "metadata": {
    "collapsed": false
   },
   "outputs": [
    {
     "name": "stderr",
     "output_type": "stream",
     "text": [
      "WARNING:qc.utils:get_UTCfromlocaltime: time_zone not in global attributes, checking elsewhere ...\n"
     ]
    },
    {
     "name": "stdout",
     "output_type": "stream",
     "text": [
      "Processing:  AdelaideRiver 86 62 21\n",
      "Processing:  Calperum 88 65 23\n",
      "Processing:  CapeTribulation 72 50 18\n",
      "Processing:  CowBay 71 54 22\n",
      "Processing:  CumberlandPlains 83 53 13\n",
      "Processing:  DalyPasture 71 48 13\n",
      "Processing: "
     ]
    },
    {
     "name": "stderr",
     "output_type": "stream",
     "text": [
      "WARNING:qc.utils:get_UTCfromlocaltime: time_zone not in global attributes, checking elsewhere ...\n"
     ]
    },
    {
     "name": "stdout",
     "output_type": "stream",
     "text": [
      " DalyUncleared 80 50 11\n",
      "Processing: "
     ]
    },
    {
     "name": "stderr",
     "output_type": "stream",
     "text": [
      "WARNING:qc.utils:get_UTCfromlocaltime: time_zone not in global attributes, checking elsewhere ...\n"
     ]
    },
    {
     "name": "stdout",
     "output_type": "stream",
     "text": [
      " DryRiver 71 46 11\n",
      "Processing: "
     ]
    },
    {
     "name": "stderr",
     "output_type": "stream",
     "text": [
      "WARNING:qc.utils:get_UTCfromlocaltime: time_zone not in global attributes, checking elsewhere ...\n"
     ]
    },
    {
     "name": "stdout",
     "output_type": "stream",
     "text": [
      " Emerald 78 54 21\n",
      " CPD file not found:  /mnt/OzFlux/Sites/FoggDam/Data/Portal/FoggDam_L3_CPD.xls\n",
      "Processing:  Gingin 75 52 14\n",
      "Processing:  GreatWesternWoodlands 89 58 17\n",
      " CPD file not found:  /mnt/OzFlux/Sites/HowardSprings/Data/Portal/HowardSprings_L3_CPD.xls\n",
      "Processing: "
     ]
    },
    {
     "name": "stderr",
     "output_type": "stream",
     "text": [
      "WARNING:qc.utils:get_UTCfromlocaltime: time_zone not in global attributes, checking elsewhere ...\n"
     ]
    },
    {
     "name": "stdout",
     "output_type": "stream",
     "text": [
      " Otway 79 60 19\n",
      "Processing:  RedDirtMelonFarm 84 57 15\n",
      "Processing:  RiggsCreek 75 60 20\n",
      "Processing: "
     ]
    },
    {
     "name": "stderr",
     "output_type": "stream",
     "text": [
      "WARNING:qc.utils:get_UTCfromlocaltime: time_zone not in global attributes, checking elsewhere ...\n"
     ]
    },
    {
     "name": "stdout",
     "output_type": "stream",
     "text": [
      " RobsonCreek 77 48 13\n",
      "Processing:  Samford 53 41 13\n",
      "Processing:  SturtPlains 83 53 12\n",
      "Processing:  Tumbarumba 44 36 16\n",
      "Processing: "
     ]
    },
    {
     "name": "stderr",
     "output_type": "stream",
     "text": [
      "WARNING:qc.utils:get_UTCfromlocaltime: time_zone not in global attributes, checking elsewhere ...\n"
     ]
    },
    {
     "name": "stdout",
     "output_type": "stream",
     "text": [
      " Whroo 88 61 18\n",
      "Processing:  WombatStateForest 64 47 15\n",
      "Processing:  Yanco 78 49 12\n"
     ]
    }
   ],
   "source": [
    "for site_name in site_name_list:\n",
    "    cf[\"Files\"][\"file_path\"] = \"/mnt/OzFlux/Sites/\"+site_name+\"/Data/Portal/\"\n",
    "    cf[\"Files\"][\"in_filename\"] = site_name+\"_L3.nc\"\n",
    "    cf[\"Files\"][\"cpd_filename\"] = site_name+\"_L3_CPD.xls\"\n",
    "    in_name = qcio.get_infilenamefromcf(cf)\n",
    "    cpd_name = os.path.join(cf[\"Files\"][\"file_path\"],cf[\"Files\"][\"cpd_filename\"])\n",
    "    if not os.path.exists(in_name):\n",
    "        print \" netCDF file not found: \",in_name\n",
    "        continue\n",
    "    if not os.path.exists(cpd_name):\n",
    "        print \" CPD file not found: \",cpd_name\n",
    "        continue\n",
    "    ds = qcio.nc_read_series(in_name)\n",
    "    qcck.ApplyTurbulenceFilter(cf,ds)\n",
    "    ldt = ds.series[\"DateTime\"][\"Data\"]\n",
    "    Fc_nf_data,Fc_nf_flag,attr = qcutils.GetSeriesasMA(ds,\"Fc_nofilter\")\n",
    "    Fc_f_data,Fc_f_flag,attr = qcutils.GetSeriesasMA(ds,\"Fc_filtered\")\n",
    "    dind,f,a = qcutils.GetSeries(ds,\"day_indicator\")\n",
    "    tind,f,a = qcutils.GetSeries(ds,\"turbulence_indicator\")\n",
    "    idx_nt = numpy.where((dind==0)&(tind==1))[0]\n",
    "    idx_n = numpy.where(dind==0)[0]\n",
    "    nRecs = len(ldt)\n",
    "    print \"Processing: \",site_name,int(100*float(numpy.ma.count(Fc_nf_data))/nRecs),\\\n",
    "          int(100*float(numpy.ma.count(Fc_f_data))/nRecs),int(100*float(len(idx_nt))/nRecs)"
   ]
  },
  {
   "cell_type": "code",
   "execution_count": null,
   "metadata": {
    "collapsed": true
   },
   "outputs": [],
   "source": []
  }
 ],
 "metadata": {
  "kernelspec": {
   "display_name": "Python 2",
   "language": "python",
   "name": "python2"
  },
  "language_info": {
   "codemirror_mode": {
    "name": "ipython",
    "version": 2
   },
   "file_extension": ".py",
   "mimetype": "text/x-python",
   "name": "python",
   "nbconvert_exporter": "python",
   "pygments_lexer": "ipython2",
   "version": "2.7.11"
  }
 },
 "nbformat": 4,
 "nbformat_minor": 0
}
