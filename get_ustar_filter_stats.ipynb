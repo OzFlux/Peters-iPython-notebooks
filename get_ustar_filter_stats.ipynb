{
 "cells": [
  {
   "cell_type": "code",
   "execution_count": 1,
   "metadata": {
    "collapsed": false
   },
   "outputs": [
    {
     "name": "stdout",
     "output_type": "stream",
     "text": [
      "Using matplotlib backend: Qt4Agg\n"
     ]
    }
   ],
   "source": [
    "%run basics\n",
    "%matplotlib"
   ]
  },
  {
   "cell_type": "code",
   "execution_count": 2,
   "metadata": {
    "collapsed": false
   },
   "outputs": [],
   "source": [
    "cf = {\"Files\":{},\"Options\":{}}\n",
    "cf[\"Files\"][\"file_path\"] = \"../Sites/Calperum/Data/Portal/\"\n",
    "cf[\"Files\"][\"cpd_filename\"] = \"Calperum_L3_CPD.xls\"\n",
    "cf[\"Options\"][\"Filterist\"] = [\"Fc\"]\n",
    "cf[\"Options\"][\"TurbulenceFilter\"] = \"ustar\"\n",
    "cf[\"Options\"][\"DayNightFilter\"] = \"Fsd\"\n",
    "cf[\"Options\"][\"UseFsdsyn_threshold\"] = \"No\"\n",
    "cf[\"Options\"][\"AcceptDayTimes\"] = \"Yes\"\n",
    "cf[\"Options\"][\"UseEveningFilter\"] = \"No\"\n",
    "cf[\"Options\"][\"EveningFilterLength\"] = 3\n",
    "cf[\"Options\"][\"Fsd_threshold\"] = 10\n",
    "cf[\"Options\"][\"sa_threshold\"] = -5"
   ]
  },
  {
   "cell_type": "code",
   "execution_count": 3,
   "metadata": {
    "collapsed": true
   },
   "outputs": [],
   "source": [
    "name_list = [\"../Sites/Calperum/Data/Portal/Calperum_L3.nc\"]"
   ]
  },
  {
   "cell_type": "code",
   "execution_count": 4,
   "metadata": {
    "collapsed": false
   },
   "outputs": [
    {
     "name": "stdout",
     "output_type": "stream",
     "text": [
      " Processing:  ../Sites/Calperum/Data/Portal/Calperum_L3.nc\n"
     ]
    }
   ],
   "source": [
    "nc_name = \"../Sites/Calperum/Data/Portal/Calperum_L3.nc\"\n",
    "print \" Processing: \",nc_name\n",
    "ds = qcio.nc_read_series(nc_name)\n",
    "qcck.ApplyTurbulenceFilter(cf,ds)"
   ]
  },
  {
   "cell_type": "code",
   "execution_count": 5,
   "metadata": {
    "collapsed": true
   },
   "outputs": [],
   "source": [
    "ldt = ds.series[\"DateTime\"][\"Data\"]\n",
    "Fc_nf_data,Fc_nf_flag,attr = qcutils.GetSeriesasMA(ds,\"Fc_nofilter\")\n",
    "Fc_f_data,Fc_f_flag,attr = qcutils.GetSeriesasMA(ds,\"Fc_filtered\")"
   ]
  },
  {
   "cell_type": "code",
   "execution_count": null,
   "metadata": {
    "collapsed": false
   },
   "outputs": [],
   "source": [
    "nRecs = len(ldt)\n",
    "print float(numpy.ma.count(Fc_nf_data))/nRecs,float(numpy.ma.count(Fc_f_data))/nRecs"
   ]
  },
  {
   "cell_type": "code",
   "execution_count": 11,
   "metadata": {
    "collapsed": true
   },
   "outputs": [],
   "source": [
    "dind,f,a = qcutils.GetSeries(ds,\"day_indicator\")\n",
    "tind,f,a = qcutils.GetSeries(ds,\"turbulence_indicator\")\n",
    "idx_nt = numpy.where((dind==0)&(tind==1))[0]\n",
    "idx_n = numpy.where(dind==0)[0]"
   ]
  },
  {
   "cell_type": "code",
   "execution_count": 12,
   "metadata": {
    "collapsed": false
   },
   "outputs": [
    {
     "name": "stdout",
     "output_type": "stream",
     "text": [
      "91552 45827 21583\n"
     ]
    }
   ],
   "source": [
    "print len(ldt),len(idx_n),len(idx_nt)"
   ]
  },
  {
   "cell_type": "code",
   "execution_count": 7,
   "metadata": {
    "collapsed": false
   },
   "outputs": [
    {
     "name": "stdout",
     "output_type": "stream",
     "text": [
      "2010-08-01 00:00:00 0 1\n",
      "2010-08-01 00:30:00 0 1\n",
      "2010-08-01 01:00:00 0 1\n",
      "2010-08-01 01:30:00 0 1\n",
      "2010-08-01 02:00:00 0 1\n",
      "2010-08-01 02:30:00 0 1\n",
      "2010-08-01 03:00:00 0 1\n",
      "2010-08-01 03:30:00 0 1\n",
      "2010-08-01 04:00:00 0 1\n",
      "2010-08-01 04:30:00 0 1\n",
      "2010-08-01 05:00:00 0 1\n",
      "2010-08-01 05:30:00 0 1\n",
      "2010-08-01 06:00:00 0 1\n",
      "2010-08-01 06:30:00 0 1\n",
      "2010-08-01 07:00:00 0 1\n",
      "2010-08-01 07:30:00 1 1\n",
      "2010-08-01 08:00:00 1 1\n",
      "2010-08-01 08:30:00 1 1\n",
      "2010-08-01 09:00:00 1 1\n",
      "2010-08-01 09:30:00 1 1\n",
      "2010-08-01 10:00:00 1 1\n",
      "2010-08-01 10:30:00 1 1\n",
      "2010-08-01 11:00:00 1 1\n",
      "2010-08-01 11:30:00 1 1\n"
     ]
    }
   ],
   "source": [
    "for i in range(24):\n",
    "    print ldt[i],dind[i],tind[i]"
   ]
  },
  {
   "cell_type": "code",
   "execution_count": null,
   "metadata": {
    "collapsed": true
   },
   "outputs": [],
   "source": []
  }
 ],
 "metadata": {
  "kernelspec": {
   "display_name": "Python 2",
   "language": "python",
   "name": "python2"
  },
  "language_info": {
   "codemirror_mode": {
    "name": "ipython",
    "version": 2
   },
   "file_extension": ".py",
   "mimetype": "text/x-python",
   "name": "python",
   "nbconvert_exporter": "python",
   "pygments_lexer": "ipython2",
   "version": "2.7.11"
  }
 },
 "nbformat": 4,
 "nbformat_minor": 0
}
