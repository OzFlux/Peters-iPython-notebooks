{
 "metadata": {
  "name": "test_listbox"
 }, 
 "nbformat": 2, 
 "worksheets": [
  {
   "cells": [
    {
     "cell_type": "code", 
     "collapsed": true, 
     "input": [
      "from Tkinter import *", 
      "master = Tk()", 
      "listbox = Listbox(master)", 
      "listbox.pack()", 
      "listbox.insert(END, \"a list entry\")", 
      "for item in [\"one\", \"two\", \"three\", \"four\"]:", 
      "    listbox.insert(END, item)", 
      "mainloop()"
     ], 
     "language": "python", 
     "outputs": [], 
     "prompt_number": 1
    }, 
    {
     "cell_type": "code", 
     "collapsed": true, 
     "input": [], 
     "language": "python", 
     "outputs": []
    }
   ]
  }
 ]
}