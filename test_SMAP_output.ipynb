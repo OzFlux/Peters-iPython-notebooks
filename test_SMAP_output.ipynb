{
 "metadata": {
  "name": "",
  "signature": "sha256:d92b51a7b91f24d6635e1ff8e1465ae68db75accbe66179ffaa5b9e4db1fe834"
 },
 "nbformat": 3,
 "nbformat_minor": 0,
 "worksheets": [
  {
   "cells": [
    {
     "cell_type": "code",
     "collapsed": false,
     "input": [
      "%run basics\n",
      "import csv\n",
      "from collections import OrderedDict"
     ],
     "language": "python",
     "metadata": {},
     "outputs": [],
     "prompt_number": 1
    },
    {
     "cell_type": "code",
     "collapsed": false,
     "input": [
      "def smap_datetodatadictionary(ds,data_dict,nperday,ndays):\n",
      "    ldt = ds.series[\"DateTime\"][\"Data\"][si:ei+1]\n",
      "    # do the months\n",
      "    month_1d,f,a = qcutils.GetSeries(ds,\"Month\",si=si,ei=ei)\n",
      "    data_dict[\"Mo\"] = {}\n",
      "    data_dict[\"Mo\"][\"data\"] = numpy.reshape(month_1d,[ndays,nperday])[:,0]\n",
      "    data_dict[\"Mo\"][\"fmt\"] = \"0\"\n",
      "    # do the days\n",
      "    data_dict[\"Day\"] = {}\n",
      "    day_1d,f,a = qcutils.GetSeries(ds,\"Day\",si=si,ei=ei)\n",
      "    data_dict[\"Day\"][\"data\"] = numpy.reshape(day_1d,[ndays,nperday])[:,0]\n",
      "    data_dict[\"Day\"][\"fmt\"] = \"0\"\n",
      "    # day of the year\n",
      "    data_dict[\"DOY\"] = {}\n",
      "    doy_1d = numpy.array([item.timetuple().tm_yday for item in ldt])\n",
      "    data_dict[\"DOY\"][\"data\"] = numpy.reshape(doy_1d,[ndays,nperday])[:,0]\n",
      "    data_dict[\"DOY\"][\"fmt\"] = \"0\"\n"
     ],
     "language": "python",
     "metadata": {},
     "outputs": [],
     "prompt_number": 2
    },
    {
     "cell_type": "code",
     "collapsed": false,
     "input": [
      "def smap_updatedatadictionary(cfvars,data_dict,data,flag,smap_label,nperday,ndays):\n",
      "    data_dict[smap_label] = {}\n",
      "    if cfvars[smap_label][\"daily\"].lower()==\"sum\":\n",
      "        data_dict[smap_label][\"data\"] = numpy.ma.sum(numpy.ma.reshape(data,[ndays,nperday]),axis=1)\n",
      "    elif cfvars[smap_label][\"daily\"].lower()==\"average\":\n",
      "        data_dict[smap_label][\"data\"] = numpy.ma.average(numpy.ma.reshape(data,[ndays,nperday]),axis=1)\n",
      "    elif cfvars[smap_label][\"daily\"].lower()==\"skip\":\n",
      "        data_dict[smap_label][\"data\"] = numpy.reshape(data,[ndays,nperday])[:,0]\n",
      "    else:\n",
      "        print \"smap_updatedatadictionary: unrecognised option for daily (\"+str(cfvars[smap_label][\"daily\"])+\")\"\n",
      "    data_dict[smap_label][\"fmt\"] = cfvars[smap_label][\"format\"]\n",
      "    if cfvars[smap_label][\"genqc\"]==\"True\":\n",
      "        smap_qc_label = smap_qclabel(smap_label)\n",
      "        data_dict[smap_qc_label] = {}\n",
      "        index_0 = numpy.where(flag==0)[0]\n",
      "        index_not0 = numpy.where(flag>0)[0]\n",
      "        flag[index_0] = numpy.int32(1)\n",
      "        flag[index_not0] = numpy.int32(0)\n",
      "        data_dict[smap_qc_label][\"data\"] = numpy.ma.sum(numpy.ma.reshape(flag,[ndays,nperday]),axis=1)/float(nperday)\n",
      "        data_dict[smap_qc_label][\"fmt\"] = \"0.00\""
     ],
     "language": "python",
     "metadata": {},
     "outputs": [],
     "prompt_number": 3
    },
    {
     "cell_type": "code",
     "collapsed": false,
     "input": [
      "def smap_donetshortwave(ds,smap_label,si,ei):\n",
      "    ts = int(ds.globalattributes[\"time_step\"])\n",
      "    # do the net shortwave radiation\n",
      "    Fsd,Fsd_flag,a = qcutils.GetSeriesasMA(ds,\"Fsd\",si=si,ei=ei)\n",
      "    Fsu,Fsu_flag,a = qcutils.GetSeriesasMA(ds,\"Fsu\",si=si,ei=ei)\n",
      "    # get the net shortwave radiation and convert to MJ/m2/day at the same time\n",
      "    Fnsw = ((Fsd - Fsu)*ts*60)/1E6\n",
      "    # now get the QC flag\n",
      "    Fnsw_flag = Fsd_flag+Fsu_flag\n",
      "    Fnsw = numpy.ma.filled(Fnsw,float(-9999))\n",
      "    return Fnsw,Fnsw_flag"
     ],
     "language": "python",
     "metadata": {},
     "outputs": [],
     "prompt_number": 4
    },
    {
     "cell_type": "code",
     "collapsed": false,
     "input": [
      "def smap_doshortwave(ds,smap_label,si,ei):\n",
      "    Fsd,Fsd_flag,a = qcutils.GetSeriesasMA(ds,\"Fsd\",si=si,ei=ei)\n",
      "    Fsd = (Fsd*ts*60)/1E6\n",
      "    Fsd = numpy.ma.filled(Fsd,float(-9999))\n",
      "    return Fsd,Fsd_flag"
     ],
     "language": "python",
     "metadata": {},
     "outputs": [],
     "prompt_number": 5
    },
    {
     "cell_type": "code",
     "collapsed": false,
     "input": [
      "def smap_dopressure(ds,smap_label,si,ei):\n",
      "    ps,ps_flag,attr = qcutils.GetSeriesasMA(ds,\"ps\",si=si,ei=ei)\n",
      "    ps = ps/float(1000)\n",
      "    ps = numpy.ma.filled(ps,float(-9999))\n",
      "    return ps,ps_flag"
     ],
     "language": "python",
     "metadata": {},
     "outputs": [],
     "prompt_number": 6
    },
    {
     "cell_type": "code",
     "collapsed": false,
     "input": [
      "def smap_docarbonfluxes(ds,smap_label,si,ei):\n",
      "    data,flag,attr = qcutils.GetSeriesasMA(ds,cfvars[smap_label][\"ncname\"],si=si,ei=ei)\n",
      "    data = data*12.01*1800/1E6\n",
      "    data = numpy.ma.filled(data,float(-9999))\n",
      "    return data,flag"
     ],
     "language": "python",
     "metadata": {},
     "outputs": [],
     "prompt_number": 7
    },
    {
     "cell_type": "code",
     "collapsed": false,
     "input": [
      "def smap_writeheaders(cf,csvfile):\n",
      "    writer = csv.writer(csvfile)\n",
      "    # write the header lines to the csv file\n",
      "    series_list = cf[\"Variables\"].keys()\n",
      "    for item in cf[\"General\"]:\n",
      "        if item in [\"SMAP_ID\"]: continue\n",
      "        writer.writerow([item,str(cf['General'][item])])\n",
      "    # write the units and variable name header lines to the csv file\n",
      "    units_list = [\"-\",\"-\",\"-\",\"-\"]\n",
      "    row_list = ['ID','Mo','Day','DOY']\n",
      "    for smap_label in series_list:\n",
      "        row_list.append(smap_label)\n",
      "        units_list.append(cf[\"Variables\"][smap_label][\"units\"])\n",
      "        if cf[\"Variables\"][smap_label][\"genqc\"]==\"True\":\n",
      "            smap_qc_label = smap_qclabel(smap_label)\n",
      "            row_list.append(smap_qc_label)\n",
      "            units_list.append(\"-\")\n",
      "    writer.writerow(units_list)\n",
      "    writer.writerow(row_list)\n",
      "    return writer"
     ],
     "language": "python",
     "metadata": {},
     "outputs": [],
     "prompt_number": 8
    },
    {
     "cell_type": "code",
     "collapsed": false,
     "input": [
      "def smap_parseformat(fmt):\n",
      "    if \".\" in fmt:\n",
      "        numdec = len(fmt) - (fmt.index(\".\") + 1)\n",
      "        strfmt = \"{0:.\"+str(numdec)+\"f}\"\n",
      "    else:\n",
      "        strfmt = \"{0:d}\"\n",
      "    return strfmt"
     ],
     "language": "python",
     "metadata": {},
     "outputs": [],
     "prompt_number": 9
    },
    {
     "cell_type": "code",
     "collapsed": false,
     "input": [
      "def smap_qclabel(smap_label):\n",
      "    if \"_f\" in smap_label:\n",
      "        smap_qc_label=smap_label.replace(\"_f\",\"_qc\")\n",
      "    else:\n",
      "        smap_qc_label=smap_label+\"_qc\"\n",
      "    return smap_qc_label"
     ],
     "language": "python",
     "metadata": {},
     "outputs": [],
     "prompt_number": 10
    },
    {
     "cell_type": "code",
     "collapsed": false,
     "input": [
      "cf=qcio.load_controlfile(path=\"../controlfiles/\")\n",
      "cfvars = cf[\"Variables\"]\n",
      "smap_list = cfvars.keys()\n",
      "ncFileName = qcio.get_infilenamefromcf(cf)\n",
      "csvFileName_base = qcio.get_outfilenamefromcf(cf)"
     ],
     "language": "python",
     "metadata": {},
     "outputs": [],
     "prompt_number": 11
    },
    {
     "cell_type": "code",
     "collapsed": false,
     "input": [
      "# read the netCDF file\n",
      "ds = qcio.nc_read_series(ncFileName)\n",
      "ts = int(ds.globalattributes[\"time_step\"])\n",
      "nRecs = int(ds.globalattributes[\"nc_nrecs\"])\n",
      "nperhr = int(float(60)/ts+0.5)\n",
      "nperday = int(float(24)*nperhr+0.5)\n",
      "dt = ds.series[\"DateTime\"][\"Data\"]\n",
      "# get a list of years in the data file\n",
      "year_list = range(dt[0].year,dt[-1].year+1)\n",
      "years = numpy.array([item.year for item in dt])"
     ],
     "language": "python",
     "metadata": {},
     "outputs": [],
     "prompt_number": 12
    },
    {
     "cell_type": "code",
     "collapsed": false,
     "input": [
      "# loop over years in the data file\n",
      "data_dict = OrderedDict()\n",
      "for year in year_list:\n",
      "    csvFileName = csvFileName_base+\"_\"+str(year)+\"_SMAP.csv\"\n",
      "    # open the csv file\n",
      "    csvfile = open(csvFileName,'wb')\n",
      "    # write the header lines\n",
      "    writer = smap_writeheaders(cf,csvfile)\n",
      "    # get the start and end datetime\n",
      "    year_index = numpy.where(years==year)[0]\n",
      "    # add the last record from this year\n",
      "    year_index = numpy.append(year_index,year_index[-1]+1)\n",
      "    sdate = dt[max([0,year_index[0]])]\n",
      "    edate = dt[min([year_index[-1],nRecs-1])]\n",
      "    si = qcutils.GetDateIndex(dt,str(sdate),ts=ts,default=0,match=\"startnextday\")\n",
      "    ei = qcutils.GetDateIndex(dt,str(edate),ts=ts,default=nRecs-1,match=\"endpreviousday\")\n",
      "    data_dict[\"DateTime\"] = dt[si:ei+1]\n",
      "    print data_dict[\"DateTime\"][0],data_dict[\"DateTime\"][-1]\n",
      "    ndays = len(data_dict[\"DateTime\"])/nperday\n",
      "    # put the month, day and DOY into the data dictionary\n",
      "    smap_datetodatadictionary(ds,data_dict,nperday,ndays)\n",
      "    # first column in SMAP csv file will be the SMAP ID number\n",
      "    smap_id = numpy.array([cf[\"General\"][\"SMAP_ID\"]]*ndays)\n",
      "    # loop over the data required, massage units if necessary and put the data into a dictionary for later use\n",
      "    smap_list = [\"Rn_f\",\"Rs_f\",\"PAR_f\",\"Ta\",\"VPD\",\"Ts_f\",\"PREC\",\"SWC\",\"NEE\",\"GPP\",\"Reco\",\"PRESS\",\"SNOWD\"]\n",
      "    for smap_label in smap_list:\n",
      "        if smap_label in [\"Mo\",\"Day\",\"DOY\"]: continue\n",
      "        if smap_label==\"Rn_f\":\n",
      "            data,flag = smap_donetshortwave(ds,smap_label,si,ei)\n",
      "        elif smap_label==\"Rs_f\":\n",
      "            data,flag = smap_doshortwave(ds,smap_label,si,ei)\n",
      "        elif smap_label==\"PAR_f\" or smap_label==\"SNOWD\":\n",
      "            data = numpy.array([-9999]*len(data_dict[\"DateTime\"]))\n",
      "            flag = numpy.array([1]*len(data_dict[\"DateTime\"]))\n",
      "            cfvars[smap_label][\"daily\"] = \"skip\"\n",
      "        elif smap_label==\"PRESS\":\n",
      "            data,flag = smap_dopressure(ds,smap_label,si,ei)\n",
      "        elif smap_label in [\"GPP\",\"NEE\",\"Reco\"]:\n",
      "            data,flag = smap_docarbonfluxes(ds,smap_label,si,ei)\n",
      "        else:\n",
      "            data,flag,attr = qcutils.GetSeries(ds,cfvars[smap_label][\"ncname\"],si=si,ei=ei)\n",
      "        smap_updatedatadictionary(cfvars,data_dict,data,flag,smap_label,nperday,ndays)\n",
      "    # now loop over the days and write the data out\n",
      "    for i in range(ndays):\n",
      "        data_list = []\n",
      "        data_list.append(smap_id[i])\n",
      "        for smap_label in data_dict.keys():\n",
      "            if smap_label==\"DateTime\": continue\n",
      "            strfmt = smap_parseformat(data_dict[smap_label][\"fmt\"])\n",
      "            if \"d\" in strfmt:\n",
      "                data_list.append(strfmt.format(int(round(data_dict[smap_label][\"data\"][i]))))\n",
      "            else:\n",
      "                data_list.append(strfmt.format(data_dict[smap_label][\"data\"][i]))\n",
      "        writer.writerow(data_list)\n",
      "    csvfile.close()"
     ],
     "language": "python",
     "metadata": {},
     "outputs": [
      {
       "output_type": "stream",
       "stream": "stdout",
       "text": [
        "2013-01-01 00:30:00 2014-01-01 00:00:00\n",
        "2014-01-01 00:30:00 2014-12-31 00:00:00\n"
       ]
      }
     ],
     "prompt_number": 13
    },
    {
     "cell_type": "code",
     "collapsed": false,
     "input": [
      "print data_dict.keys()"
     ],
     "language": "python",
     "metadata": {},
     "outputs": [
      {
       "output_type": "stream",
       "stream": "stdout",
       "text": [
        "['DateTime', 'Mo', 'Day', 'DOY', 'Rn_f', 'Rn_qc', 'Rs_f', 'Rs_qc', 'PAR_f', 'PAR_qc', 'Ta', 'Ta_qc', 'VPD', 'VPD_qc', 'Ts_f', 'Ts_qc', 'PREC', 'SWC', 'NEE', 'NEE_qc', 'GPP', 'GPP_qc', 'Reco', 'Reco_qc', 'PRESS', 'SNOWD']\n"
       ]
      }
     ],
     "prompt_number": 14
    },
    {
     "cell_type": "code",
     "collapsed": false,
     "input": [],
     "language": "python",
     "metadata": {},
     "outputs": []
    }
   ],
   "metadata": {}
  }
 ]
}