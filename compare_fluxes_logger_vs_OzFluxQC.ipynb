{
 "metadata": {
  "name": "",
  "signature": "sha256:2e1718b7f7e3802c6635809c4de63d544c0c22af9402222a816e63ccca121ec7"
 },
 "nbformat": 3,
 "nbformat_minor": 0,
 "worksheets": [
  {
   "cells": [
    {
     "cell_type": "code",
     "collapsed": false,
     "input": [
      "%run basics\n",
      "%matplotlib"
     ],
     "language": "python",
     "metadata": {},
     "outputs": [
      {
       "output_type": "stream",
       "stream": "stdout",
       "text": [
        "Using matplotlib backend: Qt4Agg\n"
       ]
      }
     ],
     "prompt_number": 1
    },
    {
     "cell_type": "code",
     "collapsed": false,
     "input": [
      "nc_name = qcio.get_filename_dialog(path='../Sites/')\n",
      "ds = qcio.nc_read_series(nc_name)"
     ],
     "language": "python",
     "metadata": {},
     "outputs": [],
     "prompt_number": 2
    },
    {
     "cell_type": "code",
     "collapsed": false,
     "input": [
      "dt = ds.series[\"DateTime\"][\"Data\"]\n",
      "ustar,f,a = qcutils.GetSeriesasMA(ds,\"ustar\")\n",
      "ustar_CR3,f,a = qcutils.GetSeriesasMA(ds,\"ustar_CR3\")\n",
      "Fh,f,a = qcutils.GetSeriesasMA(ds,\"Fh\")\n",
      "Fh_CR3,f,a = qcutils.GetSeriesasMA(ds,\"Fh_CR3\")\n",
      "Fe,f,a = qcutils.GetSeriesasMA(ds,\"Fe\")\n",
      "Fe_CR3,f,a = qcutils.GetSeriesasMA(ds,\"Fe_CR3\")\n",
      "Fc,f,a = qcutils.GetSeriesasMA(ds,\"Fc\")\n",
      "Fc_CR3,f,a = qcutils.GetSeriesasMA(ds,\"Fc_CR3\")"
     ],
     "language": "python",
     "metadata": {},
     "outputs": [],
     "prompt_number": 3
    },
    {
     "cell_type": "code",
     "collapsed": false,
     "input": [
      "xlabel = 'Fh_CR3 (W/m2)'; ylabel = 'Fh (W/m2)'\n",
      "qcplot.xyplot(Fh_CR3,Fh,sub=[2,2,1],regr=1,xlabel=xlabel,ylabel=ylabel)\n",
      "xlabel = 'Fe_CR3 (W/m2)'; ylabel = 'Fe (W/m2)'\n",
      "qcplot.xyplot(Fe_CR3,Fe,sub=[2,2,2],regr=1,xlabel=xlabel,ylabel=ylabel)\n",
      "xlabel = 'Fc_CR3 (g/m2/s)'; ylabel = 'Fc (g/m2/s)'\n",
      "qcplot.xyplot(Fc_CR3,Fc,sub=[2,2,3],regr=1,xlabel=xlabel,ylabel=ylabel)\n",
      "xlabel = 'u*_CR3 (m/s)'; ylabel = 'u* (m/s)'\n",
      "qcplot.xyplot(ustar_CR3,ustar,sub=[2,2,4],regr=1,xlabel=xlabel,ylabel=ylabel)"
     ],
     "language": "python",
     "metadata": {},
     "outputs": [],
     "prompt_number": 4
    },
    {
     "cell_type": "code",
     "collapsed": false,
     "input": [
      "fig=plt.figure()\n",
      "plt.plot(dt,Fh,'b.')\n",
      "plt.plot(dt,Fh_CR3,'r+')\n",
      "plt.show()"
     ],
     "language": "python",
     "metadata": {},
     "outputs": [],
     "prompt_number": 4
    },
    {
     "cell_type": "code",
     "collapsed": false,
     "input": [],
     "language": "python",
     "metadata": {},
     "outputs": []
    }
   ],
   "metadata": {}
  }
 ]
}