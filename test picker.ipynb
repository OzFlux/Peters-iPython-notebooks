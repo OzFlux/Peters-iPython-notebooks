{
 "metadata": {
  "name": "test picker"
 }, 
 "nbformat": 2, 
 "worksheets": [
  {
   "cells": [
    {
     "cell_type": "code", 
     "collapsed": true, 
     "input": [
      "import os", 
      "import sys", 
      "# check the scripts directory is present", 
      "if not os.path.exists(\"../scripts/\"):", 
      "    print \"The scripts directory is missing\"", 
      "    sys.exit()", 
      "# since the scripts directory is there, try importing the modules", 
      "sys.path.append('../scripts')", 
      "import dateutil", 
      "import qcio", 
      "import qcutils", 
      "import qcts", 
      "import qcplot", 
      "import statsmodels.api as sm"
     ], 
     "language": "python", 
     "outputs": [], 
     "prompt_number": 1
    }, 
    {
     "cell_type": "code", 
     "collapsed": true, 
     "input": [
      "import matplotlib.pyplot as plt"
     ], 
     "language": "python", 
     "outputs": [], 
     "prompt_number": 2
    }, 
    {
     "cell_type": "code", 
     "collapsed": false, 
     "input": [
      "fig = plt.figure()", 
      "ax = fig.add_subplot(111)", 
      "ax.set_title('click on points')", 
      "", 
      "line, = ax.plot(np.random.rand(100), 'o', picker=5)  # 5 points tolerance", 
      "", 
      "def onpick(event):", 
      "    thisline = event.artist", 
      "    xdata = thisline.get_xdata()", 
      "    ydata = thisline.get_ydata()", 
      "    ind = event.ind", 
      "    print 'onpick points:', zip(xdata[ind], ydata[ind])", 
      "", 
      "fig.canvas.mpl_connect('pick_event', onpick)", 
      "", 
      "plt.show()"
     ], 
     "language": "python", 
     "outputs": [
      {
       "output_type": "stream", 
       "stream": "stdout", 
       "text": [
        "onpick points: [(73.0, 0.19439319526163945)]", 
        "onpick points:"
       ]
      }, 
      {
       "output_type": "stream", 
       "stream": "stdout", 
       "text": [
        " [(73.0, 0.19439319526163945)]", 
        "onpick points:"
       ]
      }, 
      {
       "output_type": "stream", 
       "stream": "stdout", 
       "text": [
        " [(86.0, 0.26059518850460106)]", 
        "onpick points:"
       ]
      }, 
      {
       "output_type": "stream", 
       "stream": "stdout", 
       "text": [
        " [(85.0, 0.37306043241727682)]", 
        "onpick points:"
       ]
      }, 
      {
       "output_type": "stream", 
       "stream": "stdout", 
       "text": [
        " [(69.0, 0.56170384971966592)]", 
        "onpick points:"
       ]
      }, 
      {
       "output_type": "stream", 
       "stream": "stdout", 
       "text": [
        " [(14.0, 0.53225699534750881)]", 
        "onpick points:"
       ]
      }
     ], 
     "prompt_number": 3
    }, 
    {
     "cell_type": "code", 
     "collapsed": true, 
     "input": [], 
     "language": "python", 
     "outputs": []
    }
   ]
  }
 ]
}