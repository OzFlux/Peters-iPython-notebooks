{
 "metadata": {
  "name": "",
  "signature": "sha256:0406cb461c0f0a3aada67b4e57ebede0eaa2012255cf185132076b4f4622e27c"
 },
 "nbformat": 3,
 "nbformat_minor": 0,
 "worksheets": [
  {
   "cells": [
    {
     "cell_type": "code",
     "collapsed": false,
     "input": [
      "%run basics"
     ],
     "language": "python",
     "metadata": {},
     "outputs": [],
     "prompt_number": 1
    },
    {
     "cell_type": "code",
     "collapsed": false,
     "input": [
      "l3name=qcio.get_filename_dialog(path=\"../../Sites\")"
     ],
     "language": "python",
     "metadata": {},
     "outputs": [],
     "prompt_number": 2
    },
    {
     "cell_type": "code",
     "collapsed": false,
     "input": [
      "l4name=qcio.get_filename_dialog(path=\"../../Sites\")"
     ],
     "language": "python",
     "metadata": {},
     "outputs": [],
     "prompt_number": 3
    },
    {
     "cell_type": "code",
     "collapsed": false,
     "input": [
      "ds3=qcio.nc_read_series(l3name)\n",
      "ds4=qcio.nc_read_series(l4name)"
     ],
     "language": "python",
     "metadata": {},
     "outputs": [],
     "prompt_number": 4
    },
    {
     "cell_type": "code",
     "collapsed": false,
     "input": [
      "dt3=ds3.series[\"DateTime\"][\"Data\"]\n",
      "dt4=ds4.series[\"DateTime\"][\"Data\"]"
     ],
     "language": "python",
     "metadata": {},
     "outputs": [],
     "prompt_number": 8
    },
    {
     "cell_type": "code",
     "collapsed": false,
     "input": [
      "Fsd_l3_data,Fsd_l3_flag,Fsd_l3_attr=qcutils.GetSeriesasMA(ds3,\"Fsd\")\n",
      "Fsd_l4_data,Fsd_l4_flag,Fsd_l4_attr=qcutils.GetSeriesasMA(ds4,\"Fsd\")"
     ],
     "language": "python",
     "metadata": {},
     "outputs": [],
     "prompt_number": 5
    },
    {
     "cell_type": "code",
     "collapsed": false,
     "input": [
      "data_l3=ds3.series[\"Fsd\"]['Data'].copy()\n",
      "flag_l3=ds3.series[\"Fsd\"]['Flag'].copy()\n",
      "data_l4=ds4.series[\"Fsd_access\"]['Data'].copy()\n",
      "flag_l4=ds4.series[\"Fsd_access\"]['Flag'].copy()"
     ],
     "language": "python",
     "metadata": {},
     "outputs": [],
     "prompt_number": 6
    },
    {
     "cell_type": "code",
     "collapsed": false,
     "input": [
      "si=qcutils.GetDateIndex(dt3,\"2013-02-06 12:00\")\n",
      "ei=qcutils.GetDateIndex(dt3,\"2013-02-07 00:00\")"
     ],
     "language": "python",
     "metadata": {},
     "outputs": [],
     "prompt_number": 9
    },
    {
     "cell_type": "code",
     "collapsed": false,
     "input": [
      "index=numpy.where(numpy.mod(flag_l3,10)==0)[0]\n",
      "flag_l3[index]=0"
     ],
     "language": "python",
     "metadata": {},
     "outputs": [],
     "prompt_number": 12
    },
    {
     "cell_type": "code",
     "collapsed": false,
     "input": [
      "index=numpy.where(flag_l3!=0)[0]"
     ],
     "language": "python",
     "metadata": {},
     "outputs": [],
     "prompt_number": 17
    },
    {
     "cell_type": "code",
     "collapsed": false,
     "input": [
      "flag_l3[index]=flag_l4[index]"
     ],
     "language": "python",
     "metadata": {},
     "outputs": [],
     "prompt_number": 20
    },
    {
     "cell_type": "code",
     "collapsed": false,
     "input": [
      "print flag_l3[si:ei],flag_l4[si:ei]"
     ],
     "language": "python",
     "metadata": {},
     "outputs": [
      {
       "output_type": "stream",
       "stream": "stdout",
       "text": [
        "[ 0  0  0  0  0  0  0 20 20 20 20 20 20 20 20 20 20 20 20 20 20 20 20 20] [20 20 20 20 20 20 20 20 20 20 20 20 20 20 20 20 20 20 20 20 20 20 20 20]\n"
       ]
      }
     ],
     "prompt_number": 21
    },
    {
     "cell_type": "code",
     "collapsed": false,
     "input": [],
     "language": "python",
     "metadata": {},
     "outputs": []
    }
   ],
   "metadata": {}
  }
 ]
}