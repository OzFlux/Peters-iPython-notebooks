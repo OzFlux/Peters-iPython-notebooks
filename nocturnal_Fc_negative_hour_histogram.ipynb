{
 "metadata": {
  "name": "",
  "signature": "sha256:d9e8e30514fcf063319f51ffbb461dd1badd78f2712e1998d5252ff3c50ecc39"
 },
 "nbformat": 3,
 "nbformat_minor": 0,
 "worksheets": [
  {
   "cells": [
    {
     "cell_type": "code",
     "collapsed": false,
     "input": [
      "%run basics\n",
      "%matplotlib"
     ],
     "language": "python",
     "metadata": {},
     "outputs": [
      {
       "output_type": "stream",
       "stream": "stdout",
       "text": [
        "Using matplotlib backend: Qt4Agg\n"
       ]
      }
     ],
     "prompt_number": 1
    },
    {
     "cell_type": "code",
     "collapsed": false,
     "input": [
      "# get the netCDF file name\n",
      "ncname = qcio.get_filename_dialog(path=\"../../Sites\")"
     ],
     "language": "python",
     "metadata": {},
     "outputs": [],
     "prompt_number": 2
    },
    {
     "cell_type": "code",
     "collapsed": false,
     "input": [
      "# read the netCDF file contents into the data structure\n",
      "ds = qcio.nc_read_series(ncname)"
     ],
     "language": "python",
     "metadata": {},
     "outputs": [],
     "prompt_number": 3
    },
    {
     "cell_type": "code",
     "collapsed": false,
     "input": [
      "# get the necessary data from the data structure\n",
      "dt = ds.series[\"DateTime\"][\"Data\"]\n",
      "Fsd,f,a = qcutils.GetSeriesasMA(ds,\"Fsd\")\n",
      "Fsd_syn,f,a = qcutils.GetSeriesasMA(ds,\"Fsd_syn\")\n",
      "Fsd_filtered,f,a = qcutils.GetSeriesasMA(ds,\"Fsd_filtered\")\n",
      "Fc,f,a = qcutils.GetSeriesasMA(ds,\"Fc\")\n",
      "ustar,f,a = qcutils.GetSeriesasMA(ds,\"ustar\")\n",
      "Hour,f,a = qcutils.GetSeriesasMA(ds,\"Hour\")\n",
      "sa,f,a = qcutils.GetSeriesasMA(ds,\"solar_altitude\")\n",
      "Ts,f,a = qcutils.GetSeriesasMA(ds,\"Ts\")"
     ],
     "language": "python",
     "metadata": {},
     "outputs": [],
     "prompt_number": 45
    },
    {
     "cell_type": "code",
     "collapsed": false,
     "input": [
      "Fc_filtered = numpy.ma.masked_where(numpy.ma.getmaskarray(Fsd_filtered)==True,Fc)\n",
      "ustar_filtered = numpy.ma.masked_where(numpy.ma.getmaskarray(Fsd_filtered)==True,ustar)\n",
      "Hour_filtered = numpy.ma.masked_where(numpy.ma.getmaskarray(Fsd_filtered)==True,Hour)\n",
      "Ts_filtered = numpy.ma.masked_where(numpy.ma.getmaskarray(Fsd_filtered)==True,Ts)\n",
      "index = numpy.ma.where(Fc_filtered<=0)[0]\n",
      "Hour_filtered_Fcnegative = Hour_filtered[index]"
     ],
     "language": "python",
     "metadata": {},
     "outputs": [],
     "prompt_number": 46
    },
    {
     "cell_type": "code",
     "collapsed": false,
     "input": [
      "fig=plt.figure()\n",
      "ax0 = plt.subplot(411)\n",
      "ax0.plot(dt,sa,'bo')\n",
      "ax1 = plt.subplot(412,sharex=ax0)\n",
      "ax1.plot(dt,Fsd_filtered,'bo')\n",
      "ax2 = plt.subplot(413,sharex=ax0)\n",
      "ax2.plot(dt,Fc_filtered,'bo')\n",
      "ax2.plot([dt[0],dt[-1]],[0,0],'r-')\n",
      "ax3 = plt.subplot(414,sharex=ax0)\n",
      "ax3.plot(dt,ustar_filtered,'bo')\n",
      "plt.show()"
     ],
     "language": "python",
     "metadata": {},
     "outputs": [],
     "prompt_number": 47
    },
    {
     "cell_type": "code",
     "collapsed": false,
     "input": [
      "bins=[i-0.5 for i in range(0,25)]\n",
      "fig=plt.figure()\n",
      "plt.hist(numpy.ma.compressed(Hour_filtered_Fcnegative),bins=bins)\n",
      "plt.show()"
     ],
     "language": "python",
     "metadata": {},
     "outputs": [],
     "prompt_number": 57
    },
    {
     "cell_type": "code",
     "collapsed": false,
     "input": [
      "Hour_f = numpy.ma.compressed(Hour_filtered)\n",
      "Ts_f = numpy.ma.compressed(Ts_filtered)\n",
      "bin_mean,bin_edges,bin_number = scipy.stats.binned_statistic(Hour_f,Ts_f,statistic='mean',bins=bins)\n",
      "bin_width = bin_edges[1] - bin_edges[0]\n",
      "bin_centers = bin_edges[1:] - bin_width/2"
     ],
     "language": "python",
     "metadata": {},
     "outputs": [],
     "prompt_number": 66
    },
    {
     "cell_type": "code",
     "collapsed": false,
     "input": [
      "fig=plt.figure()\n",
      "plt.plot(bin_centers,bin_mean,'bo')\n",
      "plt.ylabel(\"Ts (C)\")\n",
      "plt.xlabel(\"Hour\")\n",
      "plt.show()"
     ],
     "language": "python",
     "metadata": {},
     "outputs": [],
     "prompt_number": 69
    },
    {
     "cell_type": "code",
     "collapsed": false,
     "input": [],
     "language": "python",
     "metadata": {},
     "outputs": []
    }
   ],
   "metadata": {}
  }
 ]
}