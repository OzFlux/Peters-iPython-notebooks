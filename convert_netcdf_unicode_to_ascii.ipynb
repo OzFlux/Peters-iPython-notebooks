{
 "cells": [
  {
   "cell_type": "code",
   "execution_count": 1,
   "metadata": {
    "collapsed": false
   },
   "outputs": [
    {
     "name": "stdout",
     "output_type": "stream",
     "text": [
      "Using matplotlib backend: Qt4Agg\n"
     ]
    }
   ],
   "source": [
    "%run basics\n",
    "%matplotlib"
   ]
  },
  {
   "cell_type": "code",
   "execution_count": 8,
   "metadata": {
    "collapsed": false
   },
   "outputs": [],
   "source": [
    "l5name = qcio.get_filename_dialog(path=\"../Sites\")\n",
    "#l3name = qcio.get_filename_dialog(path=\"../Sites\")"
   ]
  },
  {
   "cell_type": "code",
   "execution_count": 3,
   "metadata": {
    "collapsed": false
   },
   "outputs": [],
   "source": [
    "# get the file name\n",
    "l5name = qcio.get_filename_dialog(path=\"../Sites\")\n",
    "# read the netCDF file\n",
    "ds_l5 = qcio.nc_read_series(l5name)\n",
    "# convert global attributes from Unicode to ASCII\n",
    "for item in ds_l5.globalattributes.keys():\n",
    "    #print item,type(ds_l5.globalattributes[item])\n",
    "    attr = str(ds_l5.globalattributes[item])\n",
    "    ds_l5.globalattributes.pop(item,None)\n",
    "    item = item.encode('ascii','ignore')\n",
    "    ds_l5.globalattributes[item] = attr.encode('ascii','ignore')\n",
    "# convert variable attributes\n",
    "for item in ds_l5.series.keys():\n",
    "    attr_dict = ds_l5.series[item][\"Attr\"]\n",
    "    for attr in attr_dict:\n",
    "        value = str(ds_l5.series[item][\"Attr\"][attr])\n",
    "        ds_l5.series[item][\"Attr\"].pop(attr,None)\n",
    "        attr = attr.encode('ascii','ignore')\n",
    "        ds_l5.series[item][\"Attr\"][attr] = value.encode('ascii','ignore')\n",
    "# convert variable names from Unicode to ASCII\n",
    "for item in ds_l5.series.keys():\n",
    "    tmp = ds_l5.series[item]\n",
    "    ds_l5.series.pop(item,None)\n",
    "    ds_l5.series[item.encode('ascii','ignore')] = tmp\n",
    "outname = l5name.replace(\".nc\",\"_ascii.nc\")\n",
    "ncfile = qcio.nc_open_write(outname)\n",
    "qcio.nc_write_series(ncfile,ds_l5)"
   ]
  },
  {
   "cell_type": "code",
   "execution_count": 3,
   "metadata": {
    "collapsed": true
   },
   "outputs": [],
   "source": [
    "for nl in [0,10,20,30,40,50,60,70]:\n",
    "#for nl in [0,1,2,3,4,5,6,7,8,9]:\n",
    "    n = 0\n",
    "    ds = qcio.nc_read_series(ncname)\n",
    "    for item in ds.globalattributes.keys():\n",
    "        n = n + 1\n",
    "        if n>nl: ds.globalattributes.pop(item,None)\n",
    "    outname = ncname.replace(\".nc\",\"_\"+str(nl)+\".nc\")\n",
    "    ncfile = qcio.nc_open_write(outname)\n",
    "    qcio.nc_write_series(ncfile,ds)"
   ]
  },
  {
   "cell_type": "code",
   "execution_count": 12,
   "metadata": {
    "collapsed": true
   },
   "outputs": [],
   "source": [
    "l5name = qcio.get_filename_dialog(path=\"../Sites\")\n",
    "l3name = qcio.get_filename_dialog(path=\"../Sites\")\n",
    "ds_l5 = qcio.nc_read_series(l5name)\n",
    "ds_l3 = qcio.nc_read_series(l3name)\n",
    "for item in ds_l5.globalattributes.keys():\n",
    "    ds_l5.globalattributes.pop(item,None)\n",
    "for item in ds_l3.globalattributes.keys():\n",
    "    ds_l5.globalattributes[item] = ds_l3.globalattributes[item]\n",
    "outname = l5name.replace(\".nc\",\"_c.nc\")\n",
    "ncfile = qcio.nc_open_write(outname)\n",
    "qcio.nc_write_series(ncfile,ds_l5)"
   ]
  },
  {
   "cell_type": "code",
   "execution_count": null,
   "metadata": {
    "collapsed": true
   },
   "outputs": [],
   "source": []
  }
 ],
 "metadata": {
  "kernelspec": {
   "display_name": "Python 2",
   "language": "python",
   "name": "python2"
  },
  "language_info": {
   "codemirror_mode": {
    "name": "ipython",
    "version": 2
   },
   "file_extension": ".py",
   "mimetype": "text/x-python",
   "name": "python",
   "nbconvert_exporter": "python",
   "pygments_lexer": "ipython2",
   "version": "2.7.10"
  }
 },
 "nbformat": 4,
 "nbformat_minor": 0
}
