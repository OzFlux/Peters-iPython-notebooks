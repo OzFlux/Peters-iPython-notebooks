{
 "metadata": {
  "name": "accessnc2xls"
 }, 
 "nbformat": 2, 
 "worksheets": [
  {
   "cells": [
    {
     "cell_type": "code", 
     "collapsed": true, 
     "input": [
      "import glob", 
      "from netCDF4 import Dataset", 
      "import qcio", 
      "import qcutils"
     ], 
     "language": "python", 
     "outputs": [], 
     "prompt_number": 1
    }, 
    {
     "cell_type": "code", 
     "collapsed": true, 
     "input": [
      "infilename = qcio.get_filename_dialog()", 
      "xlfilename= infilename.replace('.nc','.xls')", 
      "ds_60minutes = qcio.DataStructure()", 
      "ncFile = Dataset(infilename)", 
      "nRecs = len(ncFile.dimensions[\"time\"])", 
      "for attr in ncFile.ncattrs():", 
      "    ds_60minutes.globalattributes[attr] = getattr(ncFile,attr)", 
      "flag_60minutes = numpy.zeros(nRecs)", 
      "item_list=[item for item in ncFile.variables.keys() if \"time\" in ncFile.variables[item].dimensions]", 
      "for label in item_list:", 
      "    attr = {}", 
      "    for this_attr in ncFile.variables[label].ncattrs():", 
      "        attr[this_attr] = getattr(ncFile.variables[label],this_attr)", 
      "    var_dim_list = list(ncFile.variables[label].dimensions)", 
      "    if len(var_dim_list)==1:", 
      "        # only the \"time\" dimension", 
      "        series = ncFile.variables[label][:]", 
      "        qcutils.CreateSeries(ds_60minutes,label,series,Flag=flag_60minutes,Attr=attr)", 
      "    if len(var_dim_list)==3:", 
      "        var_dim_list.remove(\"time\")", 
      "        for i in range(0,len(ncFile.dimensions[var_dim_list[0]])):", 
      "            for j in range(0,len(ncFile.dimensions[var_dim_list[1]])):", 
      "                label_ij = label+'_'+str(i)+str(j)", 
      "                series = ncFile.variables[label][:,i,j]", 
      "                qcutils.CreateSeries(ds_60minutes,label_ij,series,Flag=flag_60minutes,Attr=attr)", 
      "#    if len(var_dim_list)==4:", 
      "#        var_dim_list.remove(\"time\")", 
      "#        for i in range(0,len(ncFile.dimensions[var_dim_list[0]])):", 
      "#            for j in range(0,len(ncFile.dimensions[var_dim_list[1]])):", 
      "#                for k in range(0,len(ncFile.dimensions[var_dim_list[2]])):", 
      "#                    label_ijk = label+'_'+str(i)+str(j)+str(k)", 
      "#                    series = ncFile.variables[label][:,k,i,j]", 
      "#                    qcutils.CreateSeries(ds_60minutes,label_ijk,series,Flag=flag_60minutes,Attr=attr)", 
      "", 
      "qcio.xl_write_series(ds_60minutes, xlfilename, outputlist=None)"
     ], 
     "language": "python", 
     "outputs": [], 
     "prompt_number": 5
    }, 
    {
     "cell_type": "code", 
     "collapsed": true, 
     "input": [], 
     "language": "python", 
     "outputs": []
    }
   ]
  }
 ]
}