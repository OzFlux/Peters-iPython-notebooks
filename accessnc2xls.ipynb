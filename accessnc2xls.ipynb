{
 "metadata": {
  "name": "",
  "signature": "sha256:6ce34a3d061e2b1f4dbbe2896281f42c3c3260e38da52b3bc4ab60e065d8ad2a"
 },
 "nbformat": 3,
 "nbformat_minor": 0,
 "worksheets": [
  {
   "cells": [
    {
     "cell_type": "code",
     "collapsed": true,
     "input": [
      "%run basics\n",
      "import glob\n",
      "import pytz"
     ],
     "language": "python",
     "metadata": {},
     "outputs": [],
     "prompt_number": 1
    },
    {
     "cell_type": "code",
     "collapsed": false,
     "input": [
      "infilename = qcio.get_filename_dialog(path=\"../../ACCESS\")\n",
      "xlfilename= infilename.replace('.nc','.xls')"
     ],
     "language": "python",
     "metadata": {},
     "outputs": [],
     "prompt_number": 2
    },
    {
     "cell_type": "code",
     "collapsed": true,
     "input": [
      "ds_60minutes = qcio.DataStructure()\n",
      "ncFile = netCDF4.Dataset(infilename)\n",
      "nRecs = len(ncFile.dimensions[\"time\"])\n",
      "for attr in ncFile.ncattrs():\n",
      "    ds_60minutes.globalattributes[attr] = getattr(ncFile,attr)\n",
      "ds_60minutes.globalattributes[\"xl_datemode\"] = str(0)\n",
      "ds_60minutes.globalattributes[\"nc_nrecs\"] = str(nRecs)\n",
      "flag_60minutes = numpy.zeros(nRecs)\n",
      "item_list=[item for item in ncFile.variables.keys() if \"time\" in ncFile.variables[item].dimensions]\n",
      "for label in item_list:\n",
      "    attr = {}\n",
      "    for this_attr in ncFile.variables[label].ncattrs():\n",
      "        attr[this_attr] = getattr(ncFile.variables[label],this_attr)\n",
      "    var_dim_list = list(ncFile.variables[label].dimensions)\n",
      "    if len(var_dim_list)==1:\n",
      "        # only the \"time\" dimension\n",
      "        series = ncFile.variables[label][:]\n",
      "        qcutils.CreateSeries(ds_60minutes,label,series,Flag=flag_60minutes,Attr=attr)\n",
      "    if len(var_dim_list)==3:\n",
      "        var_dim_list.remove(\"time\")\n",
      "        for i in range(0,len(ncFile.dimensions[var_dim_list[0]])):\n",
      "            for j in range(0,len(ncFile.dimensions[var_dim_list[1]])):\n",
      "                label_ij = label+'_'+str(i)+str(j)\n",
      "                series = ncFile.variables[label][:,i,j]\n",
      "                qcutils.CreateSeries(ds_60minutes,label_ij,series,Flag=flag_60minutes,Attr=attr)\n",
      "#    if len(var_dim_list)==4:\n",
      "#        var_dim_list.remove(\"time\")\n",
      "#        for i in range(0,len(ncFile.dimensions[var_dim_list[0]])):\n",
      "#            for j in range(0,len(ncFile.dimensions[var_dim_list[1]])):\n",
      "#                for k in range(0,len(ncFile.dimensions[var_dim_list[2]])):\n",
      "#                    label_ijk = label+'_'+str(i)+str(j)+str(k)\n",
      "#                    series = ncFile.variables[label][:,k,i,j]\n",
      "#                    qcutils.CreateSeries(ds_60minutes,label_ijk,series,Flag=flag_60minutes,Attr=attr)\n",
      "# do some datetime things\n",
      "valid_date = ncFile.variables[\"valid_date\"][:]\n",
      "valid_time = ncFile.variables[\"valid_time\"][:]\n",
      "#ncFile.close()"
     ],
     "language": "python",
     "metadata": {},
     "outputs": [],
     "prompt_number": 3
    },
    {
     "cell_type": "code",
     "collapsed": false,
     "input": [
      "# trap valid_date==0 occurrences, these happened in some of the files produced\n",
      "# in the second batch while the accum_prcp was being sorted out\n",
      "index = numpy.where(valid_date==0)[0]\n",
      "# if there are some valid_date==0 then replace them with the correct date\n",
      "if len(index)!=0:\n",
      "    for i in index:\n",
      "        dt = datetime.datetime.strptime(str(int(valid_date[i-1])),\"%Y%m%d\")\n",
      "        dt = dt+datetime.timedelta(days=1)\n",
      "        valid_date[i] = datetime.datetime.strftime(dt,\"%Y%m%d\")\n",
      "print \"Finished replacing valid_date when 0\"\n",
      "dt_utc_60minutes=[datetime.datetime.strptime(str(int(valid_date[i])*10000+int(valid_time[i])),\"%Y%m%d%H%M\") for i in range(0,len(valid_date))]\n",
      "# make utc_dt timezone aware\n",
      "dt_utc_60minutes=[x.replace(tzinfo=pytz.utc) for x in dt_utc_60minutes]\n",
      "# get local time from UTC\n",
      "print \"Getting the local time from UTC\"\n",
      "site_name = ds_60minutes.globalattributes[\"site_name\"]\n",
      "print site_name\n",
      "site_timezone = c.tz_dict[site_name.lower().replace(\" \",\"\").replace(\"_\",\"\")]\n",
      "print site_timezone\n",
      "site_tz = pytz.timezone(site_timezone)\n",
      "print \"Got pytz timezone\"\n",
      "dt_loc_60minutes=[x.astimezone(site_tz) for x in dt_utc_60minutes]\n",
      "print \"Finished getting local time\"\n",
      "# NOTE: will have to disable daylight saving at some stage, towers stay on Standard Time\n",
      "# PRI hopes that the following line will do this ...\n",
      "dt_loc_60minutes=[x-x.dst() for x in dt_loc_60minutes]\n",
      "print \"Disabled daylight saving\"\n",
      "# make local time timezone naive to match datetimes in OzFluxQC\n",
      "dt_loc_60minutes=[x.replace(tzinfo=None) for x in dt_loc_60minutes]\n",
      "print \"Made local time timezone naive\"\n",
      "ds_60minutes.series[\"DateTime\"] = {}\n",
      "ds_60minutes.series[\"DateTime\"][\"Data\"] = dt_loc_60minutes\n",
      "print \"Added local datetime to data structure\"\n",
      "# get the year, month etc from the datetime\n",
      "flag_60minutes = numpy.zeros(nRecs,dtype=numpy.int32)\n",
      "ds_60minutes.series[\"DateTime\"][\"Flag\"] = flag_60minutes\n",
      "qcutils.get_xldatefromdatetime(ds_60minutes)\n",
      "print \"Got the xlDateTime\""
     ],
     "language": "python",
     "metadata": {},
     "outputs": [
      {
       "output_type": "stream",
       "stream": "stdout",
       "text": [
        "Finished replacing valid_date when 0\n",
        "Getting the local time from UTC\n",
        "Alice Springs Mulga\n",
        "Australia/Darwin\n",
        "Got pytz timezone\n",
        "Finished getting local time\n",
        "Disabled daylight saving\n",
        "Made local time timezone naive\n",
        "Added local datetime to data structure\n",
        "Got the xlDateTime\n"
       ]
      }
     ],
     "prompt_number": 7
    },
    {
     "cell_type": "code",
     "collapsed": true,
     "input": [
      "qcio.xl_write_series(ds_60minutes, xlfilename, outputlist=None)"
     ],
     "language": "python",
     "metadata": {},
     "outputs": [],
     "prompt_number": 8
    },
    {
     "cell_type": "code",
     "collapsed": false,
     "input": [],
     "language": "python",
     "metadata": {},
     "outputs": []
    }
   ],
   "metadata": {}
  }
 ]
}