{
 "metadata": {
  "name": "",
  "signature": "sha256:74a9d0b68127f1e40ead95526b68137ae493073dd11c07e5a8aa3cee3bf7f1f0"
 },
 "nbformat": 3,
 "nbformat_minor": 0,
 "worksheets": [
  {
   "cells": [
    {
     "cell_type": "code",
     "collapsed": false,
     "input": [
      "%run basics\n",
      "%matplotlib"
     ],
     "language": "python",
     "metadata": {},
     "outputs": [
      {
       "output_type": "stream",
       "stream": "stdout",
       "text": [
        "Using matplotlib backend: Qt4Agg\n"
       ]
      }
     ],
     "prompt_number": 1
    },
    {
     "cell_type": "code",
     "collapsed": false,
     "input": [
      "def round_datetime(ds,mode=\"nearest_timestep\"):\n",
      "    \"\"\"\n",
      "    Purpose:\n",
      "     Round the series of Python datetimes to the nearest time based on mode\n",
      "    Usage:\n",
      "     qcutils.round_datetime(ds,mode=mode)\n",
      "     where;\n",
      "      mode = \"nearest_second\" rounds to the nearesy second\n",
      "      mode = \"nearest_timestep\" rounds to the nearest time step\n",
      "    Author: PRI\n",
      "    Date: February 2015\n",
      "    \"\"\"\n",
      "    # local pointer to the datetime series\n",
      "    ldt = ds.series[\"DateTime\"][\"Data\"]\n",
      "    # check which rounding option has been chosen\n",
      "    if mode.lower()==\"nearest_timestep\":\n",
      "        # get the time step\n",
      "        if \"time_step\" in ds.globalattributes:\n",
      "            ts = int(ds.globalattributes[\"time_step\"])\n",
      "        else:\n",
      "            ts = numpy.mean(qcutils.get_timestep(ds)/60)\n",
      "            ts = roundtobase(ts,base=30)\n",
      "            ds.globalattributes[\"time_step\"] = ts\n",
      "        # round to the nearest time step\n",
      "        rldt = [rounddttots(dt,ts=ts) for dt in ldt]\n",
      "    elif mode.lower()==\"nearest_second\":\n",
      "        # round to the nearest second\n",
      "        rldt = [rounddttoseconds(dt) for dt in ldt]\n",
      "    else:\n",
      "        # unrecognised option for mode, return original datetime series\n",
      "        log.error(\" round_datetime: unrecognised mode (\"+str(mode)+\")\"+\" ,returning original time series\")\n",
      "        rldt = ds.series[\"DateTime\"][\"Data\"]\n",
      "    # replace the original datetime series with the rounded one\n",
      "    ds.series[\"DateTime\"][\"Data\"] = rldt"
     ],
     "language": "python",
     "metadata": {},
     "outputs": [],
     "prompt_number": 2
    },
    {
     "cell_type": "code",
     "collapsed": false,
     "input": [
      "def rounddttots(dt,ts=30):\n",
      "    dt += datetime.timedelta(minutes=int(ts/2))\n",
      "    dt -= datetime.timedelta(minutes=dt.minute % int(ts),seconds=dt.second,microseconds=dt.microsecond)\n",
      "    return dt    \n",
      "\n",
      "def rounddttoseconds(dt):\n",
      "    dt += datetime.timedelta(seconds=0.5)\n",
      "    dt -= datetime.timedelta(seconds=dt.second % 1,microseconds=dt.microsecond)\n",
      "    return dt\n",
      "\n",
      "def roundtobase(x,base=5):\n",
      "    return int(base*round(float(x)/base))"
     ],
     "language": "python",
     "metadata": {},
     "outputs": [],
     "prompt_number": 3
    },
    {
     "cell_type": "code",
     "collapsed": false,
     "input": [
      "def read_eddypro_full(csvname):\n",
      "    ds = qcio.DataStructure()\n",
      "    csvfile = open(csvname,'rb')\n",
      "    csvreader = csv.reader(csvfile)\n",
      "    n = 0\n",
      "    adatetime = []\n",
      "    us_data_list = []\n",
      "    us_flag_list = []\n",
      "    Fh_data_list = []\n",
      "    Fh_flag_list = []\n",
      "    Fe_data_list = []\n",
      "    Fe_flag_list = []\n",
      "    Fc_data_list = []\n",
      "    Fc_flag_list = []\n",
      "    for row in csvreader:\n",
      "        if n==0:\n",
      "            header=row\n",
      "        elif n==1:\n",
      "            varlist=row\n",
      "            us_data_col = varlist.index('u*')\n",
      "            us_flag_col = varlist.index('qc_Tau')\n",
      "            Fh_data_col = varlist.index('H')\n",
      "            Fh_flag_col = varlist.index('qc_H')\n",
      "            Fe_data_col = varlist.index('LE')\n",
      "            Fe_flag_col = varlist.index('qc_LE')\n",
      "            Fc_data_col = varlist.index('co2_flux')\n",
      "            Fc_flag_col = varlist.index('qc_co2_flux')\n",
      "        elif n==2:\n",
      "            unitlist=row\n",
      "        else:\n",
      "            adatetime.append(datetime.datetime.strptime(row[1]+' '+row[2],'%Y-%m-%d %H:%M'))\n",
      "            us_data_list.append(float(row[us_data_col]))\n",
      "            us_flag_list.append(float(row[us_flag_col]))\n",
      "            Fh_data_list.append(float(row[Fh_data_col]))\n",
      "            Fh_flag_list.append(float(row[Fh_flag_col]))\n",
      "            Fe_data_list.append(float(row[Fe_data_col]))\n",
      "            Fe_flag_list.append(float(row[Fe_flag_col]))\n",
      "            Fc_data_list.append(float(row[Fc_data_col]))\n",
      "            Fc_flag_list.append(float(row[Fc_flag_col]))\n",
      "        n = n + 1\n",
      "    nRecs = len(adatetime)\n",
      "    ds.series['DateTime'] = {}\n",
      "    ds.series['DateTime']['Data'] = adatetime\n",
      "    round_datetime(ds,mode=\"nearest_timestep\")\n",
      "    ds.series['ustar'] = {}\n",
      "    ds.series['ustar']['Data'] = numpy.array(us_data_list,dtype=numpy.float64)\n",
      "    ds.series['ustar']['Flag'] = numpy.array(us_flag_list,dtype=numpy.int32)\n",
      "    ds.series['Fh'] = {}\n",
      "    ds.series['Fh']['Data'] = numpy.array(Fh_data_list,dtype=numpy.float64)\n",
      "    ds.series['Fh']['Flag'] = numpy.array(Fh_flag_list,dtype=numpy.int32)\n",
      "    ds.series['Fe'] = {}\n",
      "    ds.series['Fe']['Data'] = numpy.array(Fe_data_list,dtype=numpy.float64)\n",
      "    ds.series['Fe']['Flag'] = numpy.array(Fe_flag_list,dtype=numpy.int32)\n",
      "    ds.series['Fc'] = {}\n",
      "    ds.series['Fc']['Data'] = numpy.array(Fc_data_list,dtype=numpy.float64)\n",
      "    ds.series['Fc']['Flag'] = numpy.array(Fc_flag_list,dtype=numpy.int32)\n",
      "    ds.globalattributes[\"nc_nrecs\"] = nRecs\n",
      "    return ds"
     ],
     "language": "python",
     "metadata": {},
     "outputs": [],
     "prompt_number": 4
    },
    {
     "cell_type": "code",
     "collapsed": false,
     "input": [
      "epname = qcio.get_filename_dialog(title='Choose an EddyPro full output file')\n",
      "ofname = qcio.get_filename_dialog(title='Choose an L3 output file')\n",
      "ds_ep = read_eddypro_full(epname)\n",
      "ds_of = qcio.nc_read_series(ofname)"
     ],
     "language": "python",
     "metadata": {},
     "outputs": [],
     "prompt_number": 5
    },
    {
     "cell_type": "code",
     "collapsed": false,
     "input": [
      "dt_ep = ds_ep.series['DateTime']['Data']\n",
      "dt_of = ds_of.series['DateTime']['Data']\n",
      "si = dt_of.index(dt_ep[0])\n",
      "ei = dt_of.index(dt_ep[-1])"
     ],
     "language": "python",
     "metadata": {},
     "outputs": [],
     "prompt_number": 6
    },
    {
     "cell_type": "code",
     "collapsed": false,
     "input": [
      "print dt_ep[0],dt_of[si]\n",
      "print dt_ep[-1],dt_of[ei]"
     ],
     "language": "python",
     "metadata": {},
     "outputs": [
      {
       "output_type": "stream",
       "stream": "stdout",
       "text": [
        "2011-06-09 16:30:00 2011-06-09 16:30:00\n",
        "2011-08-05 15:00:00 2011-08-05 15:00:00\n"
       ]
      }
     ],
     "prompt_number": 7
    },
    {
     "cell_type": "code",
     "collapsed": false,
     "input": [
      "us_of,f,a = qcutils.GetSeriesasMA(ds_of,'ustar',si=si,ei=ei)\n",
      "us_ep,f,a = qcutils.GetSeriesasMA(ds_ep,'ustar')\n",
      "Fh_of,f,a = qcutils.GetSeriesasMA(ds_of,'Fh',si=si,ei=ei)\n",
      "Fh_ep,f,a = qcutils.GetSeriesasMA(ds_ep,'Fh')\n",
      "Fe_of,f,a = qcutils.GetSeriesasMA(ds_of,'Fe',si=si,ei=ei)\n",
      "Fe_ep,f,a = qcutils.GetSeriesasMA(ds_ep,'Fe')\n",
      "Fc_of,f,a = qcutils.GetSeriesasMA(ds_of,'Fc',si=si,ei=ei)\n",
      "Fc_ep,f,a = qcutils.GetSeriesasMA(ds_ep,'Fc')"
     ],
     "language": "python",
     "metadata": {},
     "outputs": [],
     "prompt_number": 8
    },
    {
     "cell_type": "code",
     "collapsed": false,
     "input": [
      "us_of.mask = numpy.ma.mask_or(us_of.mask,us_ep.mask)\n",
      "us_ep.mask = numpy.ma.mask_or(us_of.mask,us_ep.mask)\n",
      "Fh_of.mask = numpy.ma.mask_or(Fh_of.mask,Fh_ep.mask)\n",
      "Fh_ep.mask = numpy.ma.mask_or(Fh_of.mask,Fh_ep.mask)\n",
      "Fe_of.mask = numpy.ma.mask_or(Fe_of.mask,Fe_ep.mask)\n",
      "Fe_ep.mask = numpy.ma.mask_or(Fe_of.mask,Fe_ep.mask)\n",
      "Fc_of.mask = numpy.ma.mask_or(Fc_of.mask,Fc_ep.mask)\n",
      "Fc_ep.mask = numpy.ma.mask_or(Fc_of.mask,Fc_ep.mask)"
     ],
     "language": "python",
     "metadata": {},
     "outputs": [],
     "prompt_number": 9
    },
    {
     "cell_type": "code",
     "collapsed": false,
     "input": [
      "fig = plt.figure(1,figsize=(8,8))\n",
      "qcplot.xyplot(us_ep,us_of,sub=[2,2,1],regr=1,xlabel='u*_EP (m/s)',ylabel='u*_OF (m/s)')\n",
      "qcplot.xyplot(Fh_ep,Fh_of,sub=[2,2,2],regr=1,xlabel='Fh_EP (W/m2)',ylabel='Fh_OF (W/m2)')\n",
      "qcplot.xyplot(Fe_ep,Fe_of,sub=[2,2,3],regr=1,xlabel='Fe_EP (W/m2)',ylabel='Fe_OF (W/m2)')\n",
      "qcplot.xyplot(Fc_ep,Fc_of,sub=[2,2,4],regr=1,xlabel='Fc_EP (umol/m2/s)',ylabel='Fc_OF (umol/m2/s)')\n",
      "plt.tight_layout()\n",
      "plt.show()"
     ],
     "language": "python",
     "metadata": {},
     "outputs": [],
     "prompt_number": 10
    },
    {
     "cell_type": "code",
     "collapsed": false,
     "input": [
      "fig=plt.figure()\n",
      "plt.plot(dt_ep,Fh_ep,'b.')\n",
      "plt.plot(dt_of[si:ei+1],Fh_of,'r+')\n",
      "plt.show()"
     ],
     "language": "python",
     "metadata": {},
     "outputs": [],
     "prompt_number": 19
    },
    {
     "cell_type": "code",
     "collapsed": false,
     "input": [],
     "language": "python",
     "metadata": {},
     "outputs": []
    }
   ],
   "metadata": {}
  }
 ]
}