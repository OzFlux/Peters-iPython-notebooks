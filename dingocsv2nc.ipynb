{
 "metadata": {
  "name": "",
  "signature": "sha256:a95f8d0f6964d01618da6ab3aec801663d1b1e1c743b25fb8eb2813d17ef0b17"
 },
 "nbformat": 3,
 "nbformat_minor": 0,
 "worksheets": [
  {
   "cells": [
    {
     "cell_type": "code",
     "collapsed": false,
     "input": [
      "%run basics\n",
      "import csv\n",
      "%matplotlib"
     ],
     "language": "python",
     "metadata": {},
     "outputs": [
      {
       "output_type": "stream",
       "stream": "stdout",
       "text": [
        "Using matplotlib backend: Qt4Agg\n"
       ]
      }
     ],
     "prompt_number": 1
    },
    {
     "cell_type": "code",
     "collapsed": false,
     "input": [
      "# get the control file\n",
      "cf = qcio.load_controlfile(path='../controlfiles')\n",
      "# list of series to be read from CSV file\n",
      "series_list = cf[\"Variables\"].keys()\n",
      "csv_list = []\n",
      "for item in series_list:\n",
      "    csv_list.append(cf[\"Variables\"][item][\"csv\"][\"name\"])\n",
      "# name of input CSV file\n",
      "csv_name = qcio.get_infilenamefromcf(cf)\n",
      "# get the header row\n",
      "csv_file = open(csv_name, \"rb\")\n",
      "datareader = csv.reader(csv_file)\n",
      "headerrow = datareader.next()\n",
      "csv_file.close()\n",
      "# read the CSV file\n",
      "data = numpy.genfromtxt(csv_name,delimiter=\",\",skip_header=1,names=headerrow,\n",
      "                        usecols=csv_list,filling_values=-9999,dtype=None)\n",
      "# get an instance of the data structure\n",
      "ds = qcio.DataStructure()\n",
      "# set some global attributes\n",
      "ds.globalattributes['featureType'] = 'timeseries'\n",
      "ds.globalattributes['csv_filename'] = csv_name\n",
      "ds.globalattributes['nc_nrecs'] = len(data)\n",
      "for gattr in cf['Global'].keys():\n",
      "    ds.globalattributes[gattr] = cf['Global'][gattr]\n",
      "label = cf[\"Variables\"][\"DateTime\"][\"csv\"][\"name\"]\n",
      "dt = [datetime.datetime.strptime(x,\"%Y-%m-%d %H:%M:%S\") for x in data[label]]\n",
      "ds.series[\"DateTime\"] = {}\n",
      "ds.series[\"DateTime\"][\"Data\"] = dt\n",
      "ds.series[\"DateTime\"][\"Flag\"] = numpy.zeros(len(data),dtype=numpy.int32)\n",
      "ds.series[\"DateTime\"][\"Attr\"] = {\"long_name\":\"Datetime in local timezone\",\"units\":\"None\" }\n",
      "if \"DateTime\" in series_list: series_list.remove(\"DateTime\")\n",
      "# put the data into the data structure\n",
      "nRecs = ds.globalattributes[\"nc_nrecs\"]\n",
      "for item in series_list:\n",
      "    ds.series[item] = {}\n",
      "    ds.series[item][\"Data\"] = numpy.array(data[cf[\"Variables\"][item][\"csv\"][\"name\"]],dtype=numpy.float64)\n",
      "    ds.series[item][\"Flag\"] = numpy.zeros(nRecs,dtype=numpy.int32)\n",
      "    ds.series[item][\"Attr\"] = cf[\"Variables\"][item][\"Attr\"]\n",
      "# get the datetime series\n",
      "qcutils.round_datetime(ds,mode=\"nearest_second\")\n",
      "fixtimestepmethod = qcutils.get_keyvaluefromcf(cf,[\"Options\"],\"FixTimeStepMethod\",default=\"round\")\n",
      "if qcutils.CheckTimeStep(ds): qcutils.FixTimeStep(ds,fixtimestepmethod=fixtimestepmethod)\n",
      "qcutils.get_xldatefromdatetime(ds)\n",
      "qcutils.get_ymdhmsfromdatetime(ds)\n",
      "ds.globalattributes['start_date'] = str(ds.series['DateTime']['Data'][0])\n",
      "ds.globalattributes['end_date'] = str(ds.series['DateTime']['Data'][-1])\n",
      "# write the data to an OzFlux netCDF file\n",
      "outfilename = qcio.get_outfilenamefromcf(cf)\n",
      "nc_file = qcio.nc_open_write(outfilename)\n",
      "qcio.nc_write_series(nc_file,ds)"
     ],
     "language": "python",
     "metadata": {},
     "outputs": [],
     "prompt_number": 43
    },
    {
     "cell_type": "code",
     "collapsed": false,
     "input": [],
     "language": "python",
     "metadata": {},
     "outputs": []
    }
   ],
   "metadata": {}
  }
 ]
}