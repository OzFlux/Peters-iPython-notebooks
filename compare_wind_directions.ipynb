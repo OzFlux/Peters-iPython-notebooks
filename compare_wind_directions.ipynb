{
 "metadata": {
  "name": "",
  "signature": "sha256:66464a3bc761ef1f3a84cfdc0b3ad1ba2f702f76baece195f316549bb5067dcc"
 },
 "nbformat": 3,
 "nbformat_minor": 0,
 "worksheets": [
  {
   "cells": [
    {
     "cell_type": "code",
     "collapsed": false,
     "input": [
      "%run basics\n",
      "%matplotlib"
     ],
     "language": "python",
     "metadata": {},
     "outputs": [
      {
       "output_type": "stream",
       "stream": "stdout",
       "text": [
        "Using matplotlib backend: Qt4Agg\n"
       ]
      }
     ],
     "prompt_number": 1
    },
    {
     "cell_type": "code",
     "collapsed": false,
     "input": [
      "l3_name = qcio.get_filename_dialog()\n",
      "ds_l3 = qcio.nc_read_series(l3_name)\n",
      "access_name = qcio.get_filename_dialog()\n",
      "ds_access = qcio.nc_read_series(access_name)"
     ],
     "language": "python",
     "metadata": {},
     "outputs": [],
     "prompt_number": 26
    },
    {
     "cell_type": "code",
     "collapsed": false,
     "input": [
      "ldt_l3 = ds_l3.series[\"DateTime\"][\"Data\"]\n",
      "ldt_access = ds_access.series[\"DateTime\"][\"Data\"]\n",
      "start_date = max([ldt_l3[0],ldt_access[0]])\n",
      "end_date = min([ldt_l3[-1],ldt_access[-1]])\n",
      "print start_date,end_date\n",
      "si_access = qcutils.GetDateIndex(ldt_access,str(start_date))\n",
      "ei_access = qcutils.GetDateIndex(ldt_access,str(end_date))\n",
      "si_l3 = qcutils.GetDateIndex(ldt_l3,str(start_date))\n",
      "ei_l3 = qcutils.GetDateIndex(ldt_l3,str(end_date))\n",
      "print si_access,ei_access,si_l3,ei_l3"
     ],
     "language": "python",
     "metadata": {},
     "outputs": [
      {
       "output_type": "stream",
       "stream": "stdout",
       "text": [
        "2015-01-01 00:30:00 2015-09-01 09:30:00\n",
        "70109 81791 0 11682\n"
       ]
      }
     ],
     "prompt_number": 29
    },
    {
     "cell_type": "code",
     "collapsed": false,
     "input": [
      "Wd_16m,f,a = qcutils.GetSeriesasMA(ds_l3,\"Wd_16m\",si=si_l3,ei=ei_l3)\n",
      "Ws_16m,f,a = qcutils.GetSeriesasMA(ds_l3,\"Ws_16m\",si=si_l3,ei=ei_l3)\n",
      "Wd_8m,f,a = qcutils.GetSeriesasMA(ds_l3,\"Wd_8m\",si=si_l3,ei=ei_l3)\n",
      "Wd_4m,f,a = qcutils.GetSeriesasMA(ds_l3,\"Wd_4m\",si=si_l3,ei=ei_l3)\n",
      "Wd_access,f,a = qcutils.GetSeriesasMA(ds_access,\"Wd_11\",si=si_access,ei=ei_access)\n",
      "Wd_diff_16m = Wd_16m-Wd_access\n",
      "Wd_diff_8m = Wd_8m-Wd_access\n",
      "Wd_diff_4m = Wd_4m-Wd_access\n",
      "Wd_diff_16m = numpy.ma.masked_where(Ws_16m<5,Wd_diff_16m)\n",
      "Wd_diff_16m = numpy.ma.masked_where(abs(Wd_diff_16m)>180,Wd_diff_16m)\n",
      "Wd_diff_8m = numpy.ma.masked_where(Ws_16m<5,Wd_diff_8m)\n",
      "Wd_diff_4m = numpy.ma.masked_where(Ws_16m<5,Wd_diff_4m)"
     ],
     "language": "python",
     "metadata": {},
     "outputs": [],
     "prompt_number": 30
    },
    {
     "cell_type": "code",
     "collapsed": false,
     "input": [
      "fig=plt.figure()\n",
      "plt.plot(ldt_l3,Wd_16m,'b.')\n",
      "plt.plot(ldt_l3,Wd_8m,'g^')\n",
      "plt.plot(ldt_l3,Wd_4m,'yo')\n",
      "plt.plot(ldt_l3,Wd_access,'r+')\n",
      "plt.show()"
     ],
     "language": "python",
     "metadata": {},
     "outputs": [],
     "prompt_number": 7
    },
    {
     "cell_type": "code",
     "collapsed": false,
     "input": [
      "fig=plt.figure()\n",
      "plt.plot(ldt_l3,Wd_diff_16m,'b.')\n",
      "plt.plot(ldt_l3,Wd_diff_8m,'g^')\n",
      "plt.plot(ldt_l3,Wd_diff_4m,'yo')\n",
      "plt.show()"
     ],
     "language": "python",
     "metadata": {},
     "outputs": [],
     "prompt_number": 15
    },
    {
     "cell_type": "code",
     "collapsed": false,
     "input": [
      "bins = range(-180,180,10)\n",
      "fig = plt.figure()\n",
      "n, bins, patches = plt.hist(Wd_diff_16m, bins, normed=1, facecolor='green', alpha=0.75)\n",
      "plt.xlabel(\"Wd Difference (16m - ACCESS)\")\n",
      "plt.ylabel(\"Frequency\")\n",
      "plt.title(\"Yanco: 2015\")\n",
      "plt.show()"
     ],
     "language": "python",
     "metadata": {},
     "outputs": [],
     "prompt_number": 32
    },
    {
     "cell_type": "code",
     "collapsed": false,
     "input": [
      "si1_l3 = qcutils.GetDateIndex(ldt_l3,\"2012-07-02 00:30\")\n",
      "ei1_l3 = qcutils.GetDateIndex(ldt_l3,\"2012-07-10 12:00\")\n",
      "si1_access = qcutils.GetDateIndex(ldt_access,\"2012-07-02 00:30\")\n",
      "ei1_access = qcutils.GetDateIndex(ldt_access,\"2012-07-10 12:00\")\n"
     ],
     "language": "python",
     "metadata": {},
     "outputs": [],
     "prompt_number": 11
    },
    {
     "cell_type": "code",
     "collapsed": false,
     "input": [
      "ldt_l3_1 = ldt_l3[si1_l3:ei1_l3+1]\n",
      "Wd_16m_1,f,a = qcutils.GetSeriesasMA(ds_l3,\"Wd_16m\",si=si1_l3,ei=ei1_l3)\n",
      "Wd_8m_1,f,a = qcutils.GetSeriesasMA(ds_l3,\"Wd_8m\",si=si1_l3,ei=ei1_l3)\n",
      "Wd_access_1,f,a = qcutils.GetSeriesasMA(ds_access,\"Wd_11\",si=si1_access,ei=ei1_access)"
     ],
     "language": "python",
     "metadata": {},
     "outputs": [],
     "prompt_number": 13
    },
    {
     "cell_type": "code",
     "collapsed": false,
     "input": [
      "fig=plt.figure()\n",
      "plt.plot(ldt_l3_1,Wd_16m_1,'b.')\n",
      "plt.plot(ldt_l3_1,Wd_8m_1,'g^')\n",
      "plt.plot(ldt_l3_1,Wd_access_1,'r+')\n",
      "plt.show()"
     ],
     "language": "python",
     "metadata": {},
     "outputs": [],
     "prompt_number": 14
    },
    {
     "cell_type": "code",
     "collapsed": false,
     "input": [
      "avgdiff_16 = numpy.ma.mean(Wd_16m_1-Wd_access_1)\n",
      "print avgdiff_16"
     ],
     "language": "python",
     "metadata": {},
     "outputs": [
      {
       "output_type": "stream",
       "stream": "stdout",
       "text": [
        "42.577265739\n"
       ]
      }
     ],
     "prompt_number": 16
    },
    {
     "cell_type": "code",
     "collapsed": false,
     "input": [],
     "language": "python",
     "metadata": {},
     "outputs": []
    }
   ],
   "metadata": {}
  }
 ]
}