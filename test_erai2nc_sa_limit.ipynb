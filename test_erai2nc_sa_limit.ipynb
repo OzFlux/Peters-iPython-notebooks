{
 "cells": [
  {
   "cell_type": "code",
   "execution_count": 1,
   "metadata": {
    "collapsed": false
   },
   "outputs": [
    {
     "name": "stdout",
     "output_type": "stream",
     "text": [
      "Using matplotlib backend: Qt4Agg\n"
     ]
    }
   ],
   "source": [
    "%run basics\n",
    "%matplotlib\n",
    "import pytz\n",
    "import pysolar\n",
    "from scipy.interpolate import InterpolatedUnivariateSpline"
   ]
  },
  {
   "cell_type": "code",
   "execution_count": 2,
   "metadata": {
    "collapsed": false
   },
   "outputs": [],
   "source": [
    "erai_name = \"../ERAI/ERAI_2012.nc\"\n",
    "erai_file = netCDF4.Dataset(erai_name)\n",
    "latitude = erai_file.variables[\"latitude\"][:]\n",
    "longitude = erai_file.variables[\"longitude\"][:]\n",
    "lat_resolution = abs(latitude[-1]-latitude[0])/(len(latitude)-1)\n",
    "lon_resolution = abs(longitude[-1]-longitude[0])/(len(longitude)-1)\n",
    "# get the time and convert to Python datetime object\n",
    "erai_time = erai_file.variables[\"time\"][:]\n",
    "time_units = getattr(erai_file.variables[\"time\"],\"units\")\n",
    "dt_erai = netCDF4.num2date(erai_time,time_units)\n",
    "hour_utc = numpy.array([dt.hour for dt in dt_erai])\n",
    "erai_timestep = 180"
   ]
  },
  {
   "cell_type": "code",
   "execution_count": 3,
   "metadata": {
    "collapsed": false
   },
   "outputs": [
    {
     "name": "stdout",
     "output_type": "stream",
     "text": [
      "-36.67305 -36.75\n",
      "145.02621 144.75\n"
     ]
    }
   ],
   "source": [
    "# details for Whroo\n",
    "site_name = \"Whroo\"\n",
    "site_timezone = \"Australia/Melbourne\"\n",
    "site_latitude = -36.67305\n",
    "site_longitude = 145.02621\n",
    "site_timestep = 30\n",
    "site_lat_index = int(((latitude[0]-site_latitude)/lat_resolution)+0.5)\n",
    "erai_latitude = latitude[site_lat_index]\n",
    "site_lon_index = int(((site_longitude-longitude[0])/lon_resolution)+0.5)\n",
    "erai_longitude = longitude[site_lon_index]\n",
    "print site_latitude,erai_latitude\n",
    "print site_longitude,erai_longitude"
   ]
  },
  {
   "cell_type": "code",
   "execution_count": 4,
   "metadata": {
    "collapsed": false
   },
   "outputs": [],
   "source": [
    "# get the UTC and local datetime series\n",
    "site_tz = pytz.timezone(site_timezone)\n",
    "# make utc_dt timezone aware\n",
    "dt_erai_utc = [x.replace(tzinfo=pytz.utc) for x in dt_erai]\n",
    "# get local time from UTC\n",
    "dt_erai_loc = [x.astimezone(site_tz) for x in dt_erai_utc]\n",
    "dt_erai_loc = [x-x.dst() for x in dt_erai_loc]\n",
    "dt_erai_loc_ntz = [x.replace(tzinfo=None) for x in dt_erai_loc]\n",
    "dt_erai_utc_ntz = [x.replace(tzinfo=None) for x in dt_erai_utc]\n",
    "erai_offset = datetime.timedelta(minutes=float(erai_timestep)/2)\n",
    "dt_erai_loc_cor = [x - erai_offset for x in dt_erai_loc_ntz]\n",
    "dt_erai_utc_cor = [x - erai_offset for x in dt_erai_utc_ntz]\n",
    "tdts = datetime.timedelta(minutes=site_timestep)\n",
    "start_date = dt_erai_loc_cor[0]\n",
    "end_date = dt_erai_loc_cor[-1]\n",
    "dt_erai_loc_tts = [x for x in qcutils.perdelta(start_date,end_date,tdts)]\n",
    "start_date = dt_erai_utc_cor[0]\n",
    "end_date = dt_erai_utc_cor[-1]\n",
    "dt_erai_utc_tts = [x for x in qcutils.perdelta(start_date,end_date,tdts)]\n",
    "erai_time_tts = netCDF4.date2num(dt_erai_utc_tts,time_units)\n",
    "erai_time_3hr = netCDF4.date2num(dt_erai_utc_cor,time_units)\n",
    "alt_solar_3hr = numpy.array([pysolar.GetAltitude(erai_latitude,erai_longitude,dt) for dt in dt_erai_utc_cor])\n",
    "alt_solar_tts = numpy.array([pysolar.GetAltitude(erai_latitude,erai_longitude,dt) for dt in dt_erai_utc_tts])\n",
    "idx = numpy.where(alt_solar_tts<=0)[0]\n",
    "alt_solar_tts[idx] = float(0)"
   ]
  },
  {
   "cell_type": "code",
   "execution_count": 5,
   "metadata": {
    "collapsed": true
   },
   "outputs": [],
   "source": [
    "Fsd_3d = erai_file.variables[\"ssrd\"][:,:,:]\n",
    "Fsd_accum = Fsd_3d[:,site_lat_index,site_lon_index]\n",
    "Fsd_erai_3hr = numpy.ediff1d(Fsd_accum,to_begin=0)\n",
    "idx = numpy.where((hour_utc==3)|(hour_utc==15))[0]\n",
    "Fsd_erai_3hr[idx] = Fsd_accum[idx]\n",
    "Fsd_erai_3hr = Fsd_erai_3hr/(erai_timestep*60)"
   ]
  },
  {
   "cell_type": "code",
   "execution_count": null,
   "metadata": {
    "collapsed": true
   },
   "outputs": [],
   "source": [
    "fig = plt.figure()\n",
    "plt.plot(dt_erai_loc_cor,Fsd_erai_3hr)\n",
    "plt.show()"
   ]
  },
  {
   "cell_type": "code",
   "execution_count": 18,
   "metadata": {
    "collapsed": false
   },
   "outputs": [],
   "source": [
    "#sa = numpy.array(alt_solar_3hr,copy=True)\n",
    "#idx = numpy.where(sa<=float(5))[0]\n",
    "#sa[idx] = float(5)\n",
    "fives = float(5)*numpy.ones(len(alt_solar_3hr))\n",
    "sa = numpy.where(alt_solar_3hr<=float(5),fives,alt_solar_3hr)\n",
    "coef_3hr = Fsd_erai_3hr/numpy.sin(numpy.deg2rad(sa))\n",
    "s = InterpolatedUnivariateSpline(erai_time_3hr,coef_3hr,k=1)\n",
    "coef_tts = s(erai_time_tts)\n",
    "Fsd_erai_tts = coef_tts*numpy.sin(numpy.deg2rad(alt_solar_tts))"
   ]
  },
  {
   "cell_type": "code",
   "execution_count": 19,
   "metadata": {
    "collapsed": true
   },
   "outputs": [],
   "source": [
    "fig=plt.figure()\n",
    "ax1 = plt.subplot(311)\n",
    "ax1.plot(dt_erai_loc_cor,coef_3hr,'ro')\n",
    "ax1.plot(dt_erai_loc_tts,coef_tts,'b+')\n",
    "ax2 = plt.subplot(312,sharex=ax1)\n",
    "ax2.plot(dt_erai_loc_cor,numpy.sin(numpy.deg2rad(alt_solar_3hr)),'ro')\n",
    "ax3 = plt.subplot(313,sharex=ax1)\n",
    "ax3.plot(dt_erai_loc_cor,Fsd_erai_3hr,'ro')\n",
    "ax3.plot(dt_erai_loc_tts,Fsd_erai_tts,'b+')\n",
    "plt.show()"
   ]
  },
  {
   "cell_type": "code",
   "execution_count": 13,
   "metadata": {
    "collapsed": false
   },
   "outputs": [
    {
     "name": "stdout",
     "output_type": "stream",
     "text": [
      "0.0871557427477\n"
     ]
    }
   ],
   "source": [
    "print numpy.sin(numpy.deg2rad(5))"
   ]
  },
  {
   "cell_type": "code",
   "execution_count": null,
   "metadata": {
    "collapsed": true
   },
   "outputs": [],
   "source": []
  }
 ],
 "metadata": {
  "kernelspec": {
   "display_name": "Python 2",
   "language": "python",
   "name": "python2"
  },
  "language_info": {
   "codemirror_mode": {
    "name": "ipython",
    "version": 2
   },
   "file_extension": ".py",
   "mimetype": "text/x-python",
   "name": "python",
   "nbconvert_exporter": "python",
   "pygments_lexer": "ipython2",
   "version": "2.7.11"
  }
 },
 "nbformat": 4,
 "nbformat_minor": 0
}
