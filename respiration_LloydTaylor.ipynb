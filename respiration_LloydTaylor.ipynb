{
 "metadata": {
  "name": "",
  "signature": "sha256:3968c053ae0ee52db48d3440e687d8be13547974499fe13dd32a6bbf2f2f5b59"
 },
 "nbformat": 3,
 "nbformat_minor": 0,
 "worksheets": [
  {
   "cells": [
    {
     "cell_type": "code",
     "collapsed": false,
     "input": [
      "%run basics\n",
      "%matplotlib"
     ],
     "language": "python",
     "metadata": {},
     "outputs": [
      {
       "output_type": "stream",
       "stream": "stdout",
       "text": [
        "Using matplotlib backend: Qt4Agg\n"
       ]
      }
     ],
     "prompt_number": 1
    },
    {
     "cell_type": "code",
     "collapsed": false,
     "input": [
      "def Fre_LloydTaylor(T,rb,E0):\n",
      "    \"\"\"\n",
      "    Lloyd-Taylor expression for respiration as a function of temperature.\n",
      "         E0 is the activation energy (sensitivity of respiration to temperature)\n",
      "         rb is the baseline respiration\n",
      "    \"\"\"\n",
      "#    return rb*numpy.exp(E0*(1/(c.Tref-c.T0)-1/(T-c.T0)))\n",
      "    return rb*numpy.exp(E0*(1/(288.13-227.13)-1/((T+273.15)-227.13)))"
     ],
     "language": "python",
     "metadata": {},
     "outputs": [],
     "prompt_number": 2
    },
    {
     "cell_type": "code",
     "collapsed": false,
     "input": [
      "def plot_Reco(fig,i,Reco,T,Sws,weight_type='Huber'):\n",
      "    ax = fig.add_subplot(2,2,i)\n",
      "    popt,pcov = irls_leastsq(residuals_LT,[2,200],args=(Reco,T),maxfev=3,weight_type=weight_type)\n",
      "    resid = Reco - Reco_LloydTaylor(T,popt[0],popt[1])\n",
      "    weights = CalculateWeights(resid,weight_type=weight_type)\n",
      "    plt.scatter(T,Reco,c=weights)\n",
      "    #mean,edges,number = scipy.stats.binned_statistic(T,Reco,statistic='mean')\n",
      "    #mid = [(edges[i]+edges[i+1])/2 for i in range(0,len(edges)-1)]\n",
      "    #plt.plot(mid,mean,'ro')\n",
      "    Xfit = numpy.linspace(numpy.min(T),numpy.max(T),100)\n",
      "    Yfit = Reco_LloydTaylor(Xfit,popt[0],popt[1])\n",
      "    plt.plot(Xfit,Yfit,'r-')\n",
      "    text_str = ('%.2f < Sws < %.2f'%(Sws[0],Sws[-1]))\n",
      "    plt.text(0.5,0.9,text_str,horizontalalignment='center',transform=ax.transAxes)\n",
      "    text_str = ('rb=%.2f,E0=%.2f'%(popt[0],popt[-1]))\n",
      "    plt.text(0.5,0.8,text_str,horizontalalignment='center',transform=ax.transAxes)"
     ],
     "language": "python",
     "metadata": {},
     "outputs": [],
     "prompt_number": 3
    },
    {
     "cell_type": "code",
     "collapsed": false,
     "input": [
      "def irls_leastsq(func,p0,args=(),maxfev=3,weight_type='Huber'):\n",
      "    weighted = False\n",
      "    popt,pcov = scipy.optimize.leastsq(func,p0,args=args+(weighted,weight_type))\n",
      "    print 'After non-weighted call to leastsq: ',popt\n",
      "    n=1\n",
      "    weighted = True\n",
      "    while n<=maxfev:\n",
      "        popt,pcov = scipy.optimize.leastsq(func,popt,args=args+(weighted,weight_type))\n",
      "        print 'Weighted call '+str(n)+' to leastsq: ',popt\n",
      "        n = n + 1\n",
      "    return popt,pcov"
     ],
     "language": "python",
     "metadata": {},
     "outputs": [],
     "prompt_number": 4
    },
    {
     "cell_type": "code",
     "collapsed": false,
     "input": [
      "def residuals_LloydTaylor(params,Fre,T,weighted,weight_type):\n",
      "    rb = params[0]\n",
      "    E0 = params[1]\n",
      "    resid = Fre - Fre_LloydTaylor(T,rb,E0)\n",
      "    if weighted:\n",
      "        weights = CalculateWeights(resid,weight_type=weight_type)\n",
      "        return resid*weights\n",
      "    else:\n",
      "        return resid"
     ],
     "language": "python",
     "metadata": {},
     "outputs": [],
     "prompt_number": 5
    },
    {
     "cell_type": "code",
     "collapsed": false,
     "input": [
      "def CalculateWeights(resid,weight_type='Huber'):\n",
      "    if weight_type.lower()=='tukey':\n",
      "        weights = TukeyBiweight(MAD_scale(resid))\n",
      "    elif weight_type.lower()=='huber':\n",
      "        weights = HuberTWeight(MAD_scale(resid))\n",
      "    elif weight_type.lower()=='ols':\n",
      "        weights = OLSWeight(MAD_scale(resid))\n",
      "    else:\n",
      "        print \"CalculateWeights: Unknown weight type, used Huber's t weight\"\n",
      "        weights = HuberTWeight(MAD_scale(resid))\n",
      "    return weights"
     ],
     "language": "python",
     "metadata": {},
     "outputs": [],
     "prompt_number": 6
    },
    {
     "cell_type": "code",
     "collapsed": false,
     "input": [
      "def TukeyBiweight(x):\n",
      "    return ((numpy.abs(x)<1.0)*(1.0 - x**2)**2)"
     ],
     "language": "python",
     "metadata": {},
     "outputs": [],
     "prompt_number": 7
    },
    {
     "cell_type": "code",
     "collapsed": false,
     "input": [
      "def HuberTWeight(x):\n",
      "    weights = numpy.ones(len(x))\n",
      "    idx = numpy.where(numpy.abs(x)>1.345)[0]\n",
      "    weights[idx] = 1.345/numpy.abs(x[idx])\n",
      "    return weights"
     ],
     "language": "python",
     "metadata": {},
     "outputs": [],
     "prompt_number": 8
    },
    {
     "cell_type": "code",
     "collapsed": false,
     "input": [
      "def OLSWeight(x):\n",
      "    weights = numpy.ones(len(x))\n",
      "    return weights"
     ],
     "language": "python",
     "metadata": {},
     "outputs": [],
     "prompt_number": 9
    },
    {
     "cell_type": "code",
     "collapsed": false,
     "input": [
      "def MAD_scale(resid):\n",
      "    scale = numpy.median(numpy.abs(resid - numpy.median(resid))) / 0.6745\n",
      "    return resid/scale"
     ],
     "language": "python",
     "metadata": {},
     "outputs": [],
     "prompt_number": 10
    },
    {
     "cell_type": "code",
     "collapsed": false,
     "input": [
      "ncname = qcio.get_filename_dialog(path=\"../../Sites/HowardSprings/Data/Processed/all\")\n",
      "print ncname\n",
      "ds = qcio.nc_read_series(ncname)\n",
      "ldt = ds.series[\"DateTime\"][\"Data\"]\n",
      "ts = int(ds.globalattributes[\"time_step\"])\n",
      "site_name = ds.globalattributes[\"site_name\"]"
     ],
     "language": "python",
     "metadata": {},
     "outputs": [
      {
       "output_type": "stream",
       "stream": "stdout",
       "text": [
        "/home/peter/OzFlux/Sites/HowardSprings/Data/Processed/all/HowardSprings_2011_to_2013_L5.nc\n"
       ]
      }
     ],
     "prompt_number": 11
    },
    {
     "cell_type": "code",
     "collapsed": false,
     "input": [
      "Fsd,Fsd_flag,Fsd_attr = qcutils.GetSeriesasMA(ds,\"Fsd\")\n",
      "Fc,Fc_flag,Fc_attr = qcutils.GetSeriesasMA(ds,\"Fc\")\n",
      "T,T_flag,T_attr = qcutils.GetSeriesasMA(ds,\"Ts\")\n",
      "ustar,ustar_flag,ustar_attr = qcutils.GetSeriesasMA(ds,\"ustar\")"
     ],
     "language": "python",
     "metadata": {},
     "outputs": [],
     "prompt_number": 12
    },
    {
     "cell_type": "code",
     "collapsed": false,
     "input": [
      "fig = plt.figure(1)\n",
      "ax1=plt.subplot(411)\n",
      "plt.plot(ldt,Fsd)\n",
      "ax2=plt.subplot(412,sharex=ax1)\n",
      "plt.plot(ldt,Fc)\n",
      "ax3=plt.subplot(413,sharex=ax1)\n",
      "plt.plot(ldt,ustar)\n",
      "ax4=plt.subplot(414,sharex=ax1)\n",
      "plt.plot(ldt,T)\n",
      "plt.show()"
     ],
     "language": "python",
     "metadata": {},
     "outputs": [],
     "prompt_number": 13
    },
    {
     "cell_type": "code",
     "collapsed": false,
     "input": [
      "# only use Fc when Fc QC flag=0\n",
      "Fc_best = numpy.ma.masked_where(Fc_flag!=0,Fc)\n",
      "Fc_best = numpy.ma.masked_where(Fc_best<0,Fc_best)\n",
      "# mask day time values\n",
      "Fc_nocturnal = numpy.ma.masked_where(Fsd>=10,Fc_best)\n",
      "# mask low ustar values\n",
      "# NOTE: ustar threshold value to be read from control file\n",
      "Fre = numpy.ma.masked_where(ustar<0.25,Fc_nocturnal)\n",
      "# synchronise masks across drivers and targets\n",
      "mask = Fre.mask\n",
      "for item in [T]:\n",
      "    mask = numpy.ma.mask_or(mask,item.mask)\n",
      "# apply synchronised mask across drivers and targets\n",
      "Fre = numpy.ma.array(Fre,mask=mask)\n",
      "T = numpy.ma.array(T,mask=mask)"
     ],
     "language": "python",
     "metadata": {},
     "outputs": [],
     "prompt_number": 16
    },
    {
     "cell_type": "code",
     "collapsed": false,
     "input": [
      "fig = plt.figure(1)\n",
      "ax1=plt.subplot(211)\n",
      "plt.plot(ldt,Fre)\n",
      "ax2=plt.subplot(212,sharex=ax1)\n",
      "plt.plot(ldt,T)\n",
      "plt.show()"
     ],
     "language": "python",
     "metadata": {},
     "outputs": [],
     "prompt_number": 17
    },
    {
     "cell_type": "code",
     "collapsed": false,
     "input": [
      "# get the yearly E0 values\n",
      "first_date = ldt[0]\n",
      "last_date = ldt[-1]\n",
      "years = [yr for yr in range(first_date.year,last_date.year+1)]\n",
      "for year in [yr for yr in range(first_date.year,last_date.year+1)]:\n",
      "    idx = numpy.where(ds.series[\"Year\"][\"Data\"]==year)[0]\n",
      "    Fre_year = numpy.ma.compressed(Fre[idx])\n",
      "    T_year = numpy.ma.compressed(T[idx])\n",
      "    popt,pcov = irls_leastsq(residuals_LloydTaylor,[1,100],args=(Fre_year,T_year),maxfev=3,weight_type='Huber')\n",
      "    Fre_fit = Fre_LloydTaylor(T_year,popt[0],popt[1])\n",
      "    fig = plt.figure()\n",
      "    plt.plot(T_year,Fre_year,'b.')\n",
      "    plt.plot(T_year,Fre_fit,'r-')\n",
      "    plt.show()"
     ],
     "language": "python",
     "metadata": {},
     "outputs": [
      {
       "output_type": "stream",
       "stream": "stdout",
       "text": [
        "After non-weighted call to leastsq:  [   2.52165456  140.81456929]\n",
        "Weighted call 1 to leastsq:  [   2.52165456  140.81456929]\n",
        "Weighted call 2 to leastsq:  [   2.52165456  140.81456929]\n",
        "Weighted call 3 to leastsq:  [   2.52165456  140.81456929]\n",
        "After non-weighted call to leastsq:  [   1.41258216  307.53834432]\n",
        "Weighted call 1 to leastsq: "
       ]
      },
      {
       "output_type": "stream",
       "stream": "stdout",
       "text": [
        " [   1.41258216  308.87819755]\n",
        "Weighted call 2 to leastsq:  [   1.41258216  308.87819755]\n",
        "Weighted call 3 to leastsq:  [   1.41258216  308.87819755]\n",
        "After non-weighted call to leastsq: "
       ]
      },
      {
       "output_type": "stream",
       "stream": "stdout",
       "text": [
        " [   2.68473425  143.59185815]\n",
        "Weighted call 1 to leastsq:  [   2.68473425  143.59185815]\n",
        "Weighted call 2 to leastsq:  [   2.68473425  143.59185815]\n",
        "Weighted call 3 to leastsq:  [   2.68473425  143.59185815]\n"
       ]
      }
     ],
     "prompt_number": 35
    },
    {
     "cell_type": "code",
     "collapsed": false,
     "input": [
      "def update_end_date(end_date,window_units,window_length,window_overlap):\n",
      "    if window_units.lower()==\"days\":\n",
      "        end_date = start_date + dateutil.relativedelta.relativedelta(days=window_length)\n",
      "    elif window_units.lower()==\"months\":\n",
      "        end_date = start_date + dateutil.relativedelta.relativedelta(months=window_length)\n",
      "    elif window_units.lower()==\"years\":\n",
      "        end_date = start_date + dateutil.relativedelta.relativedelta(years=window_length)\n",
      "    else:\n",
      "        print \"Unrecognised option for window length units\"\n",
      "    return end_date\n",
      "def update_start_date(start_date,window_units,window_length,window_overlap):\n",
      "    window_jump = window_length - window_overlap\n",
      "    if window_units.lower()==\"days\":\n",
      "        start_date = start_date + dateutil.relativedelta.relativedelta(days=window_jump)\n",
      "    elif window_units.lower()==\"months\":\n",
      "        start_date = start_date + dateutil.relativedelta.relativedelta(months=window_jump)\n",
      "    elif window_units.lower()==\"years\":\n",
      "        start_date = start_date + dateutil.relativedelta.relativedelta(years=window_jump)\n",
      "    else:\n",
      "        print \"Unrecognised option for window length units\"\n",
      "    return start_date"
     ],
     "language": "python",
     "metadata": {},
     "outputs": [],
     "prompt_number": 36
    },
    {
     "cell_type": "code",
     "collapsed": false,
     "input": [
      "# Get the long term E0\n",
      "# set the window units, length and overlap\n",
      "# these will be read from the control file\n",
      "window_units = \"years\"\n",
      "window_length = 1\n",
      "window_overlap = 0\n",
      "# get the first and last dates in the data set\n",
      "first_date = ldt[0]\n",
      "last_date = ldt[-1]\n",
      "print first_date,last_date\n",
      "# get the initial start date\n",
      "start_date = ldt[0]\n",
      "# get the initial end date\n",
      "end_date = update_end_date(start_date,window_units,window_length,window_overlap)\n",
      "# create empty lists to hold the start and end dates of the data window\n",
      "start_dates = []\n",
      "end_dates = []\n",
      "# loop until the last date to create the lists of start and end dates\n",
      "while start_date<last_date:\n",
      "    start_dates.append(start_date)\n",
      "    end_dates.append(end_date)\n",
      "    start_date = update_start_date(start_date,window_units,window_length,window_overlap)\n",
      "    end_date = update_end_date(end_date,window_units,window_length,window_overlap)\n",
      "\n",
      "for sd,ed in zip(start_dates,end_dates):\n",
      "    si = qcutils.GetDateIndex(ldt,str(sd),ts=ts,default=0)\n",
      "    ei = qcutils.GetDateIndex(ldt,str(ed),ts=ts,default=len(ldt))\n",
      "    print sd,si,ed,ei\n",
      "    Fre_year = numpy.ma.compressed(Fre[si:ei+1])\n",
      "    T_year = numpy.ma.compressed(T[si:ei+1])\n",
      "    popt,pcov = irls_leastsq(residuals_LloydTaylor,[1,100],args=(Fre_year,T_year),maxfev=3,weight_type='Huber')\n",
      "    Fre_fit = Fre_LloydTaylor(T_year,popt[0],popt[1])\n",
      "    fig = plt.figure()\n",
      "    plt.plot(T_year,Fre_year,'b.')\n",
      "    plt.plot(T_year,Fre_fit,'r-')\n",
      "    plt.show()\n",
      "\n",
      "# one year\n",
      "#end_date = datetime.datetime(start_date.year+1,1,1)+datetime.timedelta(minutes=ts)\n",
      "#end_date = datetime.datetime(start_date.year+1,1,1)+datetime.timedelta(minutes=ts)\n",
      "#this_date = start_date + dateutil.relativedelta.relativedelta(months=1)\n",
      "#while this_date<end_date:\n",
      "#si = qcutils.GetDateIndex(ldt,str(start_date),ts=ts)\n",
      "#ei = qcutils.GetDateIndex(ldt,str(this_date),ts=ts)\n",
      "#ldt_plt = ldt[si:ei+1]\n",
      "#Fre_plt = Fc_nocturnal_filtered[si:ei+1]\n",
      "#T_plt = T[si:ei+1]\n",
      "#idx = numpy.ma.where(Fre_plt.mask==False)[0]\n",
      "#ldt_plt = [ldt_plt[i] for i in idx]\n",
      "#Fre_plt = numpy.ma.compressed(Fre_plt)\n",
      "#T_plt = numpy.ma.compressed(T_plt)"
     ],
     "language": "python",
     "metadata": {},
     "outputs": [
      {
       "output_type": "stream",
       "stream": "stdout",
       "text": [
        "2011-01-01 00:30:00 2013-12-31 23:30:00\n",
        "2011-01-01 00:30:00 0 2012-01-01 00:30:00 17520\n",
        "After non-weighted call to leastsq:  [   2.52165456  140.81456929]\n",
        "Weighted call 1 to leastsq:  [   2.52165456  140.81456929]\n",
        "Weighted call 2 to leastsq:  [   2.52165456  140.81456929]\n",
        "Weighted call 3 to leastsq:  [   2.52165456  140.81456929]\n",
        "2012-01-01 00:30:00"
       ]
      },
      {
       "output_type": "stream",
       "stream": "stdout",
       "text": [
        " 17520 2013-01-01 00:30:00 35088\n",
        "After non-weighted call to leastsq:  [   1.41258216  307.53834432]\n",
        "Weighted call 1 to leastsq:  [   1.41258216  308.87819755]\n",
        "Weighted call 2 to leastsq:  [   1.41258216  308.87819755]\n",
        "Weighted call 3 to leastsq:  [   1.41258216  308.87819755]\n",
        "2013-01-01 00:30:00"
       ]
      },
      {
       "output_type": "stream",
       "stream": "stdout",
       "text": [
        " 35088 2014-01-01 00:30:00 52607\n",
        "After non-weighted call to leastsq:  [   2.68473425  143.59185815]\n",
        "Weighted call 1 to leastsq:  [   2.68473425  143.59185815]\n",
        "Weighted call 2 to leastsq:  [   2.68473425  143.59185815]\n",
        "Weighted call 3 to leastsq:  [   2.68473425  143.59185815]\n"
       ]
      }
     ],
     "prompt_number": 45
    },
    {
     "cell_type": "code",
     "collapsed": false,
     "input": [
      "print [year for year in range(first_date.year,last_date.year+1)]"
     ],
     "language": "python",
     "metadata": {},
     "outputs": [
      {
       "output_type": "stream",
       "stream": "stdout",
       "text": [
        "[2011, 2012, 2013]\n"
       ]
      }
     ],
     "prompt_number": 27
    },
    {
     "cell_type": "code",
     "collapsed": false,
     "input": [
      "fig=plt.figure(1)\n",
      "ax1=plt.subplot(211)\n",
      "plt.plot(ldt_plt,Fre_plt,'b.')\n",
      "ax2=plt.subplot(212,sharex=ax1)\n",
      "plt.plot(ldt_plt,T_plt,'b.')\n",
      "plt.show()"
     ],
     "language": "python",
     "metadata": {},
     "outputs": [],
     "prompt_number": 17
    },
    {
     "cell_type": "code",
     "collapsed": false,
     "input": [
      "fig=plt.figure(1)\n",
      "plt.plot(T_plt,Fre_plt,'b.')\n",
      "plt.show()"
     ],
     "language": "python",
     "metadata": {},
     "outputs": []
    },
    {
     "cell_type": "code",
     "collapsed": false,
     "input": [
      "popt,pcov = irls_leastsq(residuals_Isaac,[0.1,100,1,1],args=(NEE_plt,Fsd_plt,D_plt,T_plt,0.005,50),maxfev=3,weight_type='Huber')\n",
      "print start_date,this_date,popt\n",
      "start_date = start_date + datetime.timedelta(days=5)\n",
      "this_date = start_date + datetime.timedelta(days=10)"
     ],
     "language": "python",
     "metadata": {},
     "outputs": []
    }
   ],
   "metadata": {}
  }
 ]
}