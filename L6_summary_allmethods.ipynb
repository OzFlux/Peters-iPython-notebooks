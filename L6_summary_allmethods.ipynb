{
 "cells": [
  {
   "cell_type": "code",
   "execution_count": 1,
   "metadata": {
    "collapsed": false
   },
   "outputs": [
    {
     "name": "stdout",
     "output_type": "stream",
     "text": [
      "Using matplotlib backend: Qt4Agg\n"
     ]
    }
   ],
   "source": [
    "%run basics\n",
    "%matplotlib"
   ]
  },
  {
   "cell_type": "code",
   "execution_count": 2,
   "metadata": {
    "collapsed": false
   },
   "outputs": [],
   "source": [
    "cf = {\"Files\":{},\"Options\":{},\"NEE\":{},\"GPP\":{},\"ER\":{}}\n",
    "cf[\"Files\"][\"plot_path\"] = \"../Sites/Calperum/Plots/\"\n",
    "cf[\"Files\"][\"file_path\"] = \"../Sites/Calperum/Data/Portal/\"\n",
    "cf[\"Files\"][\"out_filename\"] = \"Calperum_L6_All.nc\"\n",
    "cf[\"Options\"][\"call_mode\"] = \"interactive\""
   ]
  },
  {
   "cell_type": "code",
   "execution_count": 3,
   "metadata": {
    "collapsed": true
   },
   "outputs": [],
   "source": [
    "ofqc_name = \"../Sites/Calperum/Data/Portal/Calperum_L6.nc\"\n",
    "rep_name = \"../Sites/Calperum/Data/REddyProc/Calperum_L6.nc\"\n",
    "dgo_name = \"../Sites/Calperum/Data/DINGO/V12a/Calperum_L6.nc\""
   ]
  },
  {
   "cell_type": "code",
   "execution_count": 4,
   "metadata": {
    "collapsed": false
   },
   "outputs": [],
   "source": [
    "bd = {\"OzFluxQC\":{},\"REddyProc\":{},\"DINGO\":{}}\n",
    "bd[\"OzFluxQC\"][\"ds\"] = qcio.nc_read_series(ofqc_name)\n",
    "bd[\"REddyProc\"][\"ds\"] = qcio.nc_read_series(rep_name)\n",
    "bd[\"DINGO\"][\"ds\"] = qcio.nc_read_series(dgo_name)"
   ]
  },
  {
   "cell_type": "code",
   "execution_count": 5,
   "metadata": {
    "collapsed": false
   },
   "outputs": [],
   "source": [
    "ofqc_gpp_list = [item for item in bd[\"OzFluxQC\"][\"ds\"].series.keys() if \"GPP\" in item]\n",
    "ofqc_nee_list = [item for item in bd[\"OzFluxQC\"][\"ds\"].series.keys() if \"NEE\" in item]\n",
    "ofqc_er_list = [item for item in bd[\"OzFluxQC\"][\"ds\"].series.keys() if \"ER\" in item]\n",
    "type_list = []\n",
    "for item in ofqc_er_list:\n",
    "    type_list.append(item[2:])\n",
    "for item in type_list:\n",
    "    if \"NEE\"+item not in ofqc_nee_list:\n",
    "        if \"ER\"+item in ofqc_er_list: ofqc_er_list.remove(\"ER\"+item)\n",
    "        if \"GPP\"+item in ofqc_gpp_list: ofqc_gpp_list.remove(\"GPP\"+item)\n",
    "    if \"GPP\"+item not in ofqc_gpp_list:\n",
    "        if \"ER\"+item in ofqc_er_list: ofqc_er_list.remove(\"ER\"+item)\n",
    "        if \"NEE\"+item in ofqc_nee_list: ofqc_nee_list.remove(\"NEE\"+item)\n",
    "for item in ofqc_nee_list:\n",
    "    cf[\"NEE\"][item] = {}\n",
    "for item in ofqc_gpp_list:\n",
    "    cf[\"GPP\"][item] = {}\n",
    "for item in ofqc_er_list:\n",
    "    cf[\"ER\"][item] = {}\n",
    "rep_gpp_list = [item for item in bd[\"REddyProc\"][\"ds\"].series.keys() if \"GPP\" in item]\n",
    "rep_nee_list = [item for item in bd[\"REddyProc\"][\"ds\"].series.keys() if \"NEE\" in item]\n",
    "rep_er_list = [item for item in bd[\"REddyProc\"][\"ds\"].series.keys() if \"ER\" in item]\n",
    "bd[\"REddyProc\"][\"series_list\"] = rep_gpp_list+rep_nee_list+rep_er_list\n",
    "dgo_gpp_list = [item for item in bd[\"DINGO\"][\"ds\"].series.keys() if \"GPP\" in item]\n",
    "dgo_nee_list = [item for item in bd[\"DINGO\"][\"ds\"].series.keys() if \"NEE\" in item]\n",
    "dgo_er_list = [item for item in bd[\"DINGO\"][\"ds\"].series.keys() if \"ER\" in item]\n",
    "bd[\"DINGO\"][\"series_list\"] = dgo_gpp_list+dgo_nee_list+dgo_er_list"
   ]
  },
  {
   "cell_type": "code",
   "execution_count": 6,
   "metadata": {
    "collapsed": false
   },
   "outputs": [],
   "source": [
    "ds_ofqc = bd[\"OzFluxQC\"][\"ds\"]\n",
    "nRecs = int(ds_ofqc.globalattributes[\"nc_nrecs\"])\n",
    "dt_ofqc = ds_ofqc.series[\"DateTime\"][\"Data\"]\n",
    "start_date = dt_ofqc[0]\n",
    "end_date = dt_ofqc[-1]\n",
    "for item in [\"REddyProc\",\"DINGO\"]:\n",
    "    ds = bd[item][\"ds\"]\n",
    "    ts = ds.globalattributes[\"time_step\"]\n",
    "    dt = ds.series[\"DateTime\"][\"Data\"]\n",
    "    si = qcutils.GetDateIndex(dt,str(start_date),ts=ts,default=0,match=\"exact\")\n",
    "    ei = qcutils.GetDateIndex(dt,str(end_date),ts=ts,default=len(dt)-1,match=\"exact\")\n",
    "    dt = dt[si:ei+1]\n",
    "    index = qcutils.FindIndicesOfBInA(dt,dt_ofqc)\n",
    "    for label in bd[item][\"series_list\"]:\n",
    "        data = numpy.ma.ones(nRecs)*float(c.missing_value)\n",
    "        flag = numpy.ma.ones(nRecs)\n",
    "        data_import,flag_import,attr_import = qcutils.GetSeriesasMA(ds,label,si=si,ei=ei)\n",
    "        data[index] = data_import\n",
    "        flag[index] = flag_import\n",
    "        if \"NEE\" in label: cf[\"NEE\"][label+\"_\"+item] = {}\n",
    "        if \"GPP\" in label: cf[\"GPP\"][label+\"_\"+item] = {}\n",
    "        if \"ER\" in label: cf[\"ER\"][label+\"_\"+item] = {}\n",
    "        qcutils.CreateSeries(ds_ofqc,label+\"_\"+item,data,Flag=flag,Attr=attr_import)"
   ]
  },
  {
   "cell_type": "code",
   "execution_count": 7,
   "metadata": {
    "collapsed": false
   },
   "outputs": [
    {
     "name": "stderr",
     "output_type": "stream",
     "text": [
      "/home/peter/anaconda2/lib/python2.7/site-packages/numpy/ma/core.py:4085: UserWarning: Warning: converting a masked element to nan.\n",
      "  warnings.warn(\"Warning: converting a masked element to nan.\")\n"
     ]
    },
    {
     "ename": "IndexError",
     "evalue": "too many indices for array",
     "output_type": "error",
     "traceback": [
      "\u001b[1;31m---------------------------------------------------------------------------\u001b[0m",
      "\u001b[1;31mIndexError\u001b[0m                                Traceback (most recent call last)",
      "\u001b[1;32m<ipython-input-7-94827cb1fa94>\u001b[0m in \u001b[0;36m<module>\u001b[1;34m()\u001b[0m\n\u001b[1;32m----> 1\u001b[1;33m \u001b[0mqcrp\u001b[0m\u001b[1;33m.\u001b[0m\u001b[0mL6_summary\u001b[0m\u001b[1;33m(\u001b[0m\u001b[0mcf\u001b[0m\u001b[1;33m,\u001b[0m\u001b[0mds_ofqc\u001b[0m\u001b[1;33m)\u001b[0m\u001b[1;33m\u001b[0m\u001b[0m\n\u001b[0m",
      "\u001b[1;32m/home/peter/OzFlux/OzFluxQC/scripts/qcrp.pyc\u001b[0m in \u001b[0;36mL6_summary\u001b[1;34m(cf, ds)\u001b[0m\n\u001b[0;32m    837\u001b[0m     \u001b[1;31m# monthly averages and totals\u001b[0m\u001b[1;33m\u001b[0m\u001b[1;33m\u001b[0m\u001b[0m\n\u001b[0;32m    838\u001b[0m     \u001b[0mmonthly_dict\u001b[0m \u001b[1;33m=\u001b[0m \u001b[0mL6_summary_monthly\u001b[0m\u001b[1;33m(\u001b[0m\u001b[0mds\u001b[0m\u001b[1;33m,\u001b[0m\u001b[0mseries_dict\u001b[0m\u001b[1;33m)\u001b[0m\u001b[1;33m\u001b[0m\u001b[0m\n\u001b[1;32m--> 839\u001b[1;33m     \u001b[0mL6_summary_write_xlfile\u001b[0m\u001b[1;33m(\u001b[0m\u001b[0mxl_file\u001b[0m\u001b[1;33m,\u001b[0m\u001b[1;34m\"Monthly\"\u001b[0m\u001b[1;33m,\u001b[0m\u001b[0mmonthly_dict\u001b[0m\u001b[1;33m)\u001b[0m\u001b[1;33m\u001b[0m\u001b[0m\n\u001b[0m\u001b[0;32m    840\u001b[0m     \u001b[1;31m# annual averages and totals\u001b[0m\u001b[1;33m\u001b[0m\u001b[1;33m\u001b[0m\u001b[0m\n\u001b[0;32m    841\u001b[0m     \u001b[0mannual_dict\u001b[0m \u001b[1;33m=\u001b[0m \u001b[0mL6_summary_annual\u001b[0m\u001b[1;33m(\u001b[0m\u001b[0mds\u001b[0m\u001b[1;33m,\u001b[0m\u001b[0mseries_dict\u001b[0m\u001b[1;33m)\u001b[0m\u001b[1;33m\u001b[0m\u001b[0m\n",
      "\u001b[1;32m/home/peter/OzFlux/OzFluxQC/scripts/qcrp.pyc\u001b[0m in \u001b[0;36mL6_summary_write_xlfile\u001b[1;34m(xl_file, sheet_name, data_dict)\u001b[0m\n\u001b[0;32m   1147\u001b[0m     \u001b[1;31m# add the daily worksheet to the summary Excel file\u001b[0m\u001b[1;33m\u001b[0m\u001b[1;33m\u001b[0m\u001b[0m\n\u001b[0;32m   1148\u001b[0m     \u001b[0mxl_sheet\u001b[0m \u001b[1;33m=\u001b[0m \u001b[0mxl_file\u001b[0m\u001b[1;33m.\u001b[0m\u001b[0madd_sheet\u001b[0m\u001b[1;33m(\u001b[0m\u001b[0msheet_name\u001b[0m\u001b[1;33m)\u001b[0m\u001b[1;33m\u001b[0m\u001b[0m\n\u001b[1;32m-> 1149\u001b[1;33m     \u001b[0mqcio\u001b[0m\u001b[1;33m.\u001b[0m\u001b[0mxl_write_data\u001b[0m\u001b[1;33m(\u001b[0m\u001b[0mxl_sheet\u001b[0m\u001b[1;33m,\u001b[0m\u001b[0mdata_dict\u001b[0m\u001b[1;33m)\u001b[0m\u001b[1;33m\u001b[0m\u001b[0m\n\u001b[0m\u001b[0;32m   1150\u001b[0m \u001b[1;33m\u001b[0m\u001b[0m\n\u001b[0;32m   1151\u001b[0m \u001b[1;32mdef\u001b[0m \u001b[0mL6_summary_monthly\u001b[0m\u001b[1;33m(\u001b[0m\u001b[0mds\u001b[0m\u001b[1;33m,\u001b[0m\u001b[0mseries_dict\u001b[0m\u001b[1;33m)\u001b[0m\u001b[1;33m:\u001b[0m\u001b[1;33m\u001b[0m\u001b[0m\n",
      "\u001b[1;32m/home/peter/OzFlux/OzFluxQC/scripts/qcio.py\u001b[0m in \u001b[0;36mxl_write_data\u001b[1;34m(xl_sheet, data, xlCol)\u001b[0m\n\u001b[0;32m   1980\u001b[0m         \u001b[0md_xf\u001b[0m \u001b[1;33m=\u001b[0m \u001b[0mxlwt\u001b[0m\u001b[1;33m.\u001b[0m\u001b[0measyxf\u001b[0m\u001b[1;33m(\u001b[0m\u001b[0mnum_format_str\u001b[0m\u001b[1;33m=\u001b[0m\u001b[0mdata\u001b[0m\u001b[1;33m[\u001b[0m\u001b[0mitem\u001b[0m\u001b[1;33m]\u001b[0m\u001b[1;33m[\u001b[0m\u001b[1;34m\"format\"\u001b[0m\u001b[1;33m]\u001b[0m\u001b[1;33m)\u001b[0m\u001b[1;33m\u001b[0m\u001b[0m\n\u001b[0;32m   1981\u001b[0m         \u001b[1;32mfor\u001b[0m \u001b[0mj\u001b[0m \u001b[1;32min\u001b[0m \u001b[0mrange\u001b[0m\u001b[1;33m(\u001b[0m\u001b[0mnrows\u001b[0m\u001b[1;33m)\u001b[0m\u001b[1;33m:\u001b[0m\u001b[1;33m\u001b[0m\u001b[0m\n\u001b[1;32m-> 1982\u001b[1;33m             \u001b[0mxl_sheet\u001b[0m\u001b[1;33m.\u001b[0m\u001b[0mwrite\u001b[0m\u001b[1;33m(\u001b[0m\u001b[0mj\u001b[0m\u001b[1;33m+\u001b[0m\u001b[1;36m2\u001b[0m\u001b[1;33m,\u001b[0m\u001b[0mxlCol\u001b[0m\u001b[1;33m,\u001b[0m\u001b[0mfloat\u001b[0m\u001b[1;33m(\u001b[0m\u001b[0mdata\u001b[0m\u001b[1;33m[\u001b[0m\u001b[0mitem\u001b[0m\u001b[1;33m]\u001b[0m\u001b[1;33m[\u001b[0m\u001b[1;34m\"data\"\u001b[0m\u001b[1;33m]\u001b[0m\u001b[1;33m[\u001b[0m\u001b[0mj\u001b[0m\u001b[1;33m]\u001b[0m\u001b[1;33m)\u001b[0m\u001b[1;33m,\u001b[0m\u001b[0md_xf\u001b[0m\u001b[1;33m)\u001b[0m\u001b[1;33m\u001b[0m\u001b[0m\n\u001b[0m\u001b[0;32m   1983\u001b[0m \u001b[1;33m\u001b[0m\u001b[0m\n\u001b[0;32m   1984\u001b[0m \u001b[1;32mdef\u001b[0m \u001b[0mxl_write_series\u001b[0m\u001b[1;33m(\u001b[0m\u001b[0mds\u001b[0m\u001b[1;33m,\u001b[0m \u001b[0mxlfullname\u001b[0m\u001b[1;33m,\u001b[0m \u001b[0moutputlist\u001b[0m\u001b[1;33m=\u001b[0m\u001b[0mNone\u001b[0m\u001b[1;33m)\u001b[0m\u001b[1;33m:\u001b[0m\u001b[1;33m\u001b[0m\u001b[0m\n",
      "\u001b[1;32m/home/peter/anaconda2/lib/python2.7/site-packages/numpy/ma/core.pyc\u001b[0m in \u001b[0;36m__getitem__\u001b[1;34m(self, indx)\u001b[0m\n\u001b[0;32m   3109\u001b[0m \u001b[1;33m\u001b[0m\u001b[0m\n\u001b[0;32m   3110\u001b[0m         \"\"\"\n\u001b[1;32m-> 3111\u001b[1;33m         \u001b[0mdout\u001b[0m \u001b[1;33m=\u001b[0m \u001b[0mself\u001b[0m\u001b[1;33m.\u001b[0m\u001b[0mdata\u001b[0m\u001b[1;33m[\u001b[0m\u001b[0mindx\u001b[0m\u001b[1;33m]\u001b[0m\u001b[1;33m\u001b[0m\u001b[0m\n\u001b[0m\u001b[0;32m   3112\u001b[0m         \u001b[1;31m# We could directly use ndarray.__getitem__ on self.\u001b[0m\u001b[1;33m\u001b[0m\u001b[1;33m\u001b[0m\u001b[0m\n\u001b[0;32m   3113\u001b[0m         \u001b[1;31m# But then we would have to modify __array_finalize__ to prevent the\u001b[0m\u001b[1;33m\u001b[0m\u001b[1;33m\u001b[0m\u001b[0m\n",
      "\u001b[1;31mIndexError\u001b[0m: too many indices for array"
     ]
    }
   ],
   "source": [
    "qcrp.L6_summary(cf,ds_ofqc)"
   ]
  },
  {
   "cell_type": "code",
   "execution_count": null,
   "metadata": {
    "collapsed": true
   },
   "outputs": [],
   "source": []
  }
 ],
 "metadata": {
  "kernelspec": {
   "display_name": "Python 2",
   "language": "python",
   "name": "python2"
  },
  "language_info": {
   "codemirror_mode": {
    "name": "ipython",
    "version": 2
   },
   "file_extension": ".py",
   "mimetype": "text/x-python",
   "name": "python",
   "nbconvert_exporter": "python",
   "pygments_lexer": "ipython2",
   "version": "2.7.10"
  }
 },
 "nbformat": 4,
 "nbformat_minor": 0
}
