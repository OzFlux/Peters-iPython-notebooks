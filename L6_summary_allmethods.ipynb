{
 "cells": [
  {
   "cell_type": "code",
   "execution_count": 1,
   "metadata": {
    "collapsed": false
   },
   "outputs": [
    {
     "name": "stdout",
     "output_type": "stream",
     "text": [
      "Using matplotlib backend: Qt4Agg\n"
     ]
    }
   ],
   "source": [
    "%run basics\n",
    "%matplotlib"
   ]
  },
  {
   "cell_type": "code",
   "execution_count": 20,
   "metadata": {
    "collapsed": false
   },
   "outputs": [],
   "source": [
    "site_name = \"DryRiver\"\n",
    "cf = {\"Files\":{},\"Options\":{},\"NEE\":{},\"GPP\":{},\"ER\":{}}\n",
    "cf[\"Files\"][\"plot_path\"] = \"../Sites/\"+site_name+\"/Plots/\"\n",
    "cf[\"Files\"][\"file_path\"] = \"../Sites/\"+site_name+\"/Data/Portal/\"\n",
    "cf[\"Files\"][\"out_filename\"] = site_name+\"_L6_All.nc\"\n",
    "cf[\"Options\"][\"call_mode\"] = \"interactive\""
   ]
  },
  {
   "cell_type": "code",
   "execution_count": 21,
   "metadata": {
    "collapsed": true
   },
   "outputs": [],
   "source": [
    "ofqc_name = \"../Sites/\"+site_name+\"/Data/Portal/\"+site_name+\"_L6.nc\"\n",
    "rep_name = \"../Sites/\"+site_name+\"/Data/REddyProc/\"+site_name+\"_L6.nc\"\n",
    "dgo_name = \"../Sites/\"+site_name+\"/Data/DINGO/V12a/\"+site_name+\"_L6.nc\""
   ]
  },
  {
   "cell_type": "code",
   "execution_count": 22,
   "metadata": {
    "collapsed": false
   },
   "outputs": [],
   "source": [
    "bd = {\"OzFluxQC\":{},\"REddyProc\":{},\"DINGO\":{}}\n",
    "bd[\"OzFluxQC\"][\"ds\"] = qcio.nc_read_series(ofqc_name)\n",
    "bd[\"REddyProc\"][\"ds\"] = qcio.nc_read_series(rep_name)\n",
    "bd[\"DINGO\"][\"ds\"] = qcio.nc_read_series(dgo_name)"
   ]
  },
  {
   "cell_type": "code",
   "execution_count": 23,
   "metadata": {
    "collapsed": false
   },
   "outputs": [],
   "source": [
    "ofqc_gpp_list = [item for item in bd[\"OzFluxQC\"][\"ds\"].series.keys() if \"GPP\" in item]\n",
    "ofqc_nee_list = [item for item in bd[\"OzFluxQC\"][\"ds\"].series.keys() if \"NEE\" in item]\n",
    "ofqc_er_list = [item for item in bd[\"OzFluxQC\"][\"ds\"].series.keys() if \"ER\" in item]\n",
    "type_list = []\n",
    "for item in ofqc_er_list:\n",
    "    type_list.append(item[2:])\n",
    "for item in type_list:\n",
    "    if \"NEE\"+item not in ofqc_nee_list:\n",
    "        if \"ER\"+item in ofqc_er_list: ofqc_er_list.remove(\"ER\"+item)\n",
    "        if \"GPP\"+item in ofqc_gpp_list: ofqc_gpp_list.remove(\"GPP\"+item)\n",
    "    if \"GPP\"+item not in ofqc_gpp_list:\n",
    "        if \"ER\"+item in ofqc_er_list: ofqc_er_list.remove(\"ER\"+item)\n",
    "        if \"NEE\"+item in ofqc_nee_list: ofqc_nee_list.remove(\"NEE\"+item)\n",
    "for item in ofqc_nee_list:\n",
    "    cf[\"NEE\"][item] = {}\n",
    "for item in ofqc_gpp_list:\n",
    "    cf[\"GPP\"][item] = {}\n",
    "for item in ofqc_er_list:\n",
    "    cf[\"ER\"][item] = {}\n",
    "rep_gpp_list = [item for item in bd[\"REddyProc\"][\"ds\"].series.keys() if \"GPP\" in item]\n",
    "rep_nee_list = [item for item in bd[\"REddyProc\"][\"ds\"].series.keys() if \"NEE\" in item]\n",
    "rep_er_list = [item for item in bd[\"REddyProc\"][\"ds\"].series.keys() if \"ER\" in item]\n",
    "bd[\"REddyProc\"][\"series_list\"] = rep_gpp_list+rep_nee_list+rep_er_list\n",
    "dgo_gpp_list = [item for item in bd[\"DINGO\"][\"ds\"].series.keys() if \"GPP\" in item]\n",
    "dgo_nee_list = [item for item in bd[\"DINGO\"][\"ds\"].series.keys() if \"NEE\" in item]\n",
    "dgo_er_list = [item for item in bd[\"DINGO\"][\"ds\"].series.keys() if \"ER\" in item]\n",
    "bd[\"DINGO\"][\"series_list\"] = dgo_gpp_list+dgo_nee_list+dgo_er_list"
   ]
  },
  {
   "cell_type": "code",
   "execution_count": 24,
   "metadata": {
    "collapsed": false
   },
   "outputs": [],
   "source": [
    "ds_ofqc = bd[\"OzFluxQC\"][\"ds\"]\n",
    "nRecs = int(ds_ofqc.globalattributes[\"nc_nrecs\"])\n",
    "dt_ofqc = ds_ofqc.series[\"DateTime\"][\"Data\"]\n",
    "start_date = dt_ofqc[0]\n",
    "end_date = dt_ofqc[-1]\n",
    "for item in [\"REddyProc\",\"DINGO\"]:\n",
    "    ds = bd[item][\"ds\"]\n",
    "    ts = ds.globalattributes[\"time_step\"]\n",
    "    dt = ds.series[\"DateTime\"][\"Data\"]\n",
    "    si = qcutils.GetDateIndex(dt,str(start_date),ts=ts,default=0,match=\"exact\")\n",
    "    ei = qcutils.GetDateIndex(dt,str(end_date),ts=ts,default=len(dt)-1,match=\"exact\")\n",
    "    dt = dt[si:ei+1]\n",
    "    index = qcutils.FindIndicesOfBInA(dt,dt_ofqc)\n",
    "    for label in bd[item][\"series_list\"]:\n",
    "        data = numpy.ma.ones(nRecs)*float(c.missing_value)\n",
    "        flag = numpy.ma.ones(nRecs)\n",
    "        data_import,flag_import,attr_import = qcutils.GetSeriesasMA(ds,label,si=si,ei=ei)\n",
    "        data[index] = data_import\n",
    "        flag[index] = flag_import\n",
    "        if \"NEE\" in label: cf[\"NEE\"][label+\"_\"+item] = {}\n",
    "        if \"GPP\" in label: cf[\"GPP\"][label+\"_\"+item] = {}\n",
    "        if \"ER\" in label: cf[\"ER\"][label+\"_\"+item] = {}\n",
    "        qcutils.CreateSeries(ds_ofqc,label+\"_\"+item,data,Flag=flag,Attr=attr_import)"
   ]
  },
  {
   "cell_type": "code",
   "execution_count": 25,
   "metadata": {
    "collapsed": false
   },
   "outputs": [],
   "source": [
    "qcrp.L6_summary(cf,ds_ofqc)"
   ]
  },
  {
   "cell_type": "code",
   "execution_count": null,
   "metadata": {
    "collapsed": true
   },
   "outputs": [],
   "source": []
  }
 ],
 "metadata": {
  "kernelspec": {
   "display_name": "Python 2",
   "language": "python",
   "name": "python2"
  },
  "language_info": {
   "codemirror_mode": {
    "name": "ipython",
    "version": 2
   },
   "file_extension": ".py",
   "mimetype": "text/x-python",
   "name": "python",
   "nbconvert_exporter": "python",
   "pygments_lexer": "ipython2",
   "version": "2.7.10"
  }
 },
 "nbformat": 4,
 "nbformat_minor": 0
}
