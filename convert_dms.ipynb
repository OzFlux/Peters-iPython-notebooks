{
 "metadata": {
  "name": "convert_dms"
 }, 
 "nbformat": 2, 
 "worksheets": [
  {
   "cells": [
    {
     "cell_type": "code", 
     "collapsed": true, 
     "input": [
      "def conversion(old):", 
      "    try:", 
      "        return float(old)", 
      "    except ValueError:", 
      "        direction = {'N':1, 'S':-1, 'E': 1, 'W':-1}", 
      "        new = old.replace(u'\u00b0',' ').replace('\\'',' ').replace('\"',' ')", 
      "        new = new.split()", 
      "        new_dir = new.pop()", 
      "        new.extend([0,0,0])", 
      "        return (float(new[0])+float(new[1])/60.0+float(new[2])/3600.0) * direction[new_dir]"
     ], 
     "language": "python", 
     "outputs": [], 
     "prompt_number": 31
    }, 
    {
     "cell_type": "code", 
     "collapsed": false, 
     "input": [
      "print conversion('''34 12' 24.123\" S''')"
     ], 
     "language": "python", 
     "outputs": [
      {
       "output_type": "stream", 
       "stream": "stdout", 
       "text": [
        "-34.2067008333"
       ]
      }
     ], 
     "prompt_number": 37
    }, 
    {
     "cell_type": "code", 
     "collapsed": true, 
     "input": [], 
     "language": "python", 
     "outputs": []
    }
   ]
  }
 ]
}