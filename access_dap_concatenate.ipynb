{
 "metadata": {
  "name": "",
  "signature": "sha256:387981567dc681852f14356b13d36a42f953205d5f0ba379eda96ce8c53ff5b6"
 },
 "nbformat": 3,
 "nbformat_minor": 0,
 "worksheets": [
  {
   "cells": [
    {
     "cell_type": "code",
     "collapsed": false,
     "input": [
      "import datetime\n",
      "import netCDF4\n",
      "import numpy\n",
      "import os\n",
      "import sys\n",
      "\n",
      "sys.path.append('../OzFluxQC/scripts')\n",
      "import qcio"
     ],
     "language": "python",
     "metadata": {},
     "outputs": []
    },
    {
     "cell_type": "code",
     "collapsed": false,
     "input": [],
     "language": "python",
     "metadata": {},
     "outputs": []
    }
   ],
   "metadata": {}
  }
 ]
}