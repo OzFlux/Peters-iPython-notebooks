{
 "metadata": {
  "name": "",
  "signature": "sha256:b4c28d85f79179c2a107785bda067bdc901587e1fa054b3535a83b803805576f"
 },
 "nbformat": 3,
 "nbformat_minor": 0,
 "worksheets": [
  {
   "cells": [
    {
     "cell_type": "code",
     "collapsed": false,
     "input": [
      "import csv\n",
      "import datetime\n",
      "import numpy\n",
      "import matplotlib.pyplot as plt\n",
      "import sys\n",
      "sys.path.append('../scripts')\n",
      "import qcio\n",
      "import qcutils"
     ],
     "language": "python",
     "metadata": {},
     "outputs": [],
     "prompt_number": 1
    },
    {
     "cell_type": "code",
     "collapsed": false,
     "input": [
      "def get_datetimefromymdhms(ds):\n",
      "    ''' Creates a series of Python datetime objects from the year, month,\n",
      "    day, hour, minute and second series stored in the netCDF file.'''\n",
      "    SeriesList = ds.series.keys()\n",
      "    if 'Year' not in SeriesList or 'Month' not in SeriesList or 'Day' not in SeriesList or 'Hour' not in SeriesList or 'Minute' not in SeriesList or 'Second' not in SeriesList:\n",
      "        #log.info(' get_datetimefromymdhms: unable to find all datetime fields required')\n",
      "        print 'get_datetimefromymdhms: unable to find all datetime fields required'\n",
      "        return\n",
      "    #log.info(' Getting the date and time series')\n",
      "    print 'Getting the date and time series'\n",
      "    nRecs = ds.globalattributes[\"nc_nrecs\"]\n",
      "    ds.series[unicode('DateTime')] = {}\n",
      "    ds.series['DateTime']['Data'] = [None]*nRecs\n",
      "    ds.series[unicode('Date')] = {}\n",
      "    ds.series['Date']['Data'] = [None]*nRecs\n",
      "    ds.series[unicode('Time')] = {}\n",
      "    ds.series['Time']['Data'] = [None]*nRecs\n",
      "    if \"Microsecond\" in ds.series.keys():\n",
      "        microseconds = ds.series[\"Microsecond\"][\"Data\"]\n",
      "    else:\n",
      "        microseconds = numpy.zeros(nRecs,dtype=numpy.float64)\n",
      "    for i in range(nRecs):\n",
      "        ds.series['DateTime']['Data'][i] = datetime.datetime(int(ds.series['Year']['Data'][i]),\n",
      "                                                       int(ds.series['Month']['Data'][i]),\n",
      "                                                       int(ds.series['Day']['Data'][i]),\n",
      "                                                       int(ds.series['Hour']['Data'][i]),\n",
      "                                                       int(ds.series['Minute']['Data'][i]),\n",
      "                                                       int(ds.series['Second']['Data'][i]),\n",
      "                                                       int(microseconds[i]))\n",
      "        ds.series['Date']['Data'][i] = datetime.date(int(ds.series['Year']['Data'][i]),\n",
      "                                                       int(ds.series['Month']['Data'][i]),\n",
      "                                                       int(ds.series['Day']['Data'][i]))\n",
      "        ds.series['Time']['Data'][i] = datetime.time(int(ds.series['Hour']['Data'][i]),\n",
      "                                                       int(ds.series['Minute']['Data'][i]),\n",
      "                                                       int(ds.series['Second']['Data'][i]),\n",
      "                                                       int(microseconds[i]))\n",
      "    ds.series['DateTime']['Flag'] = numpy.zeros(nRecs)\n",
      "    ds.series['DateTime']['Attr'] = {}\n",
      "    ds.series['DateTime']['Attr']['long_name'] = 'Date-time object'\n",
      "    ds.series['DateTime']['Attr']['units'] = 'None'\n",
      "    ds.series['Date']['Flag'] = numpy.zeros(nRecs)\n",
      "    ds.series['Date']['Attr'] = {}\n",
      "    ds.series['Date']['Attr']['long_name'] = 'Date object'\n",
      "    ds.series['Date']['Attr']['units'] = 'None'\n",
      "    ds.series['Time']['Flag'] = numpy.zeros(nRecs)\n",
      "    ds.series['Time']['Attr'] = {}\n",
      "    ds.series['Time']['Attr']['long_name'] = 'Time object'\n",
      "    ds.series['Time']['Attr']['units'] = 'None'"
     ],
     "language": "python",
     "metadata": {},
     "outputs": [],
     "prompt_number": 3
    },
    {
     "cell_type": "code",
     "collapsed": false,
     "input": [
      "infilename = \"../../Sites/WombatStateForest/Data/Fast/3952/test_3952.dat\"\n",
      "# columns are:\n",
      "# data file description\n",
      "# 0    0    Year\n",
      "# 1    1    Month\n",
      "# 2    2    Day\n",
      "# 3    3    Hour\n",
      "# 4    4    Minute\n",
      "# 5    5    Second\n",
      "# 6    7    Ux\n",
      "# 7    8    Uy\n",
      "# 8    9    Uz\n",
      "# 9   12    Tv\n",
      "#10   13    Diag_CSAT\n",
      "data_3952 = numpy.genfromtxt(infilename,skip_header=4,delimiter=\",\",usecols=(0,1,2,3,4,5,7,8,9,12,13),\n",
      "                      missing_values=-9999,filling_values=-9999)\n",
      "data_3952 = numpy.ma.masked_equal(data,float(-9999),copy=True)\n",
      "nRecs = data_3952.shape[0]\n",
      "flag = numpy.zeros(nRecs,dtype=numpy.int32)\n",
      "ds_3952=qcio.DataStructure()\n",
      "ds_3952.globalattributes[\"nc_nrecs\"] = nRecs\n",
      "seconds = numpy.array(data[:,5],dtype=numpy.int32)\n",
      "microseconds = numpy.rint((data[:,5]%1)*float(1000000))\n",
      "qcutils.CreateSeries(ds_3952,'Year',data[:,0],Flag=flag,Attr=qcutils.MakeAttributeDictionary(long_name='Year',units='years'))\n",
      "qcutils.CreateSeries(ds_3952,'Month',data[:,1],Flag=flag,Attr=qcutils.MakeAttributeDictionary(long_name='Month',units='months'))\n",
      "qcutils.CreateSeries(ds_3952,'Day',data[:,2],Flag=flag,Attr=qcutils.MakeAttributeDictionary(long_name='Day',units='days'))\n",
      "qcutils.CreateSeries(ds_3952,'Hour',data[:,3],Flag=flag,Attr=qcutils.MakeAttributeDictionary(long_name='Hour',units='hours'))\n",
      "qcutils.CreateSeries(ds_3952,'Minute',data[:,4],Flag=flag,Attr=qcutils.MakeAttributeDictionary(long_name='Minute',units='minutes'))\n",
      "qcutils.CreateSeries(ds_3952,'Second',seconds,Flag=flag,Attr=qcutils.MakeAttributeDictionary(long_name='Second',units='seconds'))\n",
      "qcutils.CreateSeries(ds_3952,'Microsecond',microseconds,Flag=flag,Attr=qcutils.MakeAttributeDictionary(long_name='Microseconds',units='microseconds'))\n",
      "get_datetimefromymdhms(ds_3952)"
     ],
     "language": "python",
     "metadata": {},
     "outputs": [
      {
       "output_type": "stream",
       "stream": "stdout",
       "text": [
        "Getting the date and time series\n"
       ]
      }
     ],
     "prompt_number": 4
    },
    {
     "cell_type": "code",
     "collapsed": false,
     "input": [
      "infilename = \"../../Sites/WombatStateForest/Data/Fast/6281/test_6281.dat\"\n",
      "# columns are:\n",
      "# data file description\n",
      "# 0    0    Year\n",
      "# 1    1    Month\n",
      "# 2    2    Day\n",
      "# 3    3    Hour\n",
      "# 4    4    Minute\n",
      "# 5    5    Second\n",
      "# 6    7    Ux\n",
      "# 7    8    Uy\n",
      "# 8    9    Uz\n",
      "# 9   10    Cc_7500\n",
      "#10   11    Ah_7500\n",
      "#11   12    Tv\n",
      "#12   13    Diag_CSAT\n",
      "#13   14    Diag_7500\n",
      "data_6281 = numpy.genfromtxt(infilename,skip_header=4,delimiter=\",\",usecols=(0,1,2,3,4,5,7,8,9,10,11,12,13,14),\n",
      "                      missing_values=-9999,filling_values=-9999)\n",
      "data_6281 = numpy.ma.masked_equal(data,float(-9999),copy=True)\n",
      "nRecs = data_6281.shape[0]\n",
      "seconds = numpy.array(data[:,5],dtype=numpy.int32)\n",
      "microseconds = numpy.rint((data[:,5]%1)*float(1000000))\n",
      "ldt_6281 = [None]*nRecs\n",
      "for i in range(0,nRecs):\n",
      "    ldt_6281[i] = datetime.datetime(int(data_6281[i,0]),int(data_6281[i,1]),int(data_6281[i,2]),\n",
      "                                    int(data_6281[i,3]),int(data_6281[i,4]),int(seconds[i]),int(microseconds[i]))\n"
     ],
     "language": "python",
     "metadata": {},
     "outputs": [],
     "prompt_number": 21
    },
    {
     "cell_type": "code",
     "collapsed": false,
     "input": [
      "ldt_3952=ds_3952.series[\"DateTime\"][\"Data\"]\n",
      "ldt_6281=ds_6281.series[\"DateTime\"][\"Data\"]\n",
      "ld_3952=ds_3952.series[\"Date\"][\"Data\"]\n",
      "ld_6281=ds_6281.series[\"Date\"][\"Data\"]\n",
      "lt_3952=ds_3952.series[\"Time\"][\"Data\"]\n",
      "lt_6281=ds_6281.series[\"Time\"][\"Data\"]"
     ],
     "language": "python",
     "metadata": {},
     "outputs": [],
     "prompt_number": 22
    },
    {
     "cell_type": "code",
     "collapsed": false,
     "input": [
      "ldt_10hz = [x for x in qcutils.perdelta(ldt_3952[0],ldt_3952[-1],datetime.timedelta(seconds=0.1))]"
     ],
     "language": "python",
     "metadata": {},
     "outputs": [],
     "prompt_number": 23
    },
    {
     "cell_type": "code",
     "collapsed": false,
     "input": [
      "for i in range(10,20):\n",
      "    print ldt_10hz[i],ldt_3952[i],ldt_6281[i],microseconds[i]"
     ],
     "language": "python",
     "metadata": {},
     "outputs": [
      {
       "output_type": "stream",
       "stream": "stdout",
       "text": [
        "2014-08-31 15:11:01.100000 2014-08-31 15:11:01.100000 2014-08-31 15:11:01.100000 100000.0\n",
        "2014-08-31 15:11:01.200000 2014-08-31 15:11:01.200000 2014-08-31 15:11:01.200000 200000.0\n",
        "2014-08-31 15:11:01.300000 2014-08-31 15:11:01.300000 2014-08-31 15:11:01.300000 300000.0\n",
        "2014-08-31 15:11:01.400000 2014-08-31 15:11:01.400000 2014-08-31 15:11:01.400000 400000.0\n",
        "2014-08-31 15:11:01.500000 2014-08-31 15:11:01.500000 2014-08-31 15:11:01.500000 500000.0\n",
        "2014-08-31 15:11:01.600000 2014-08-31 15:11:01.600000 2014-08-31 15:11:01.600000 600000.0\n",
        "2014-08-31 15:11:01.700000 2014-08-31 15:11:01.700000 2014-08-31 15:11:01.700000 700000.0\n",
        "2014-08-31 15:11:01.800000 2014-08-31 15:11:01.800000 2014-08-31 15:11:01.800000 800000.0\n",
        "2014-08-31 15:11:01.900000 2014-08-31 15:11:01.900000 2014-08-31 15:11:01.900000 900000.0\n",
        "2014-08-31 15:11:02 2014-08-31 15:11:02 2014-08-31 15:11:02 0.0\n"
       ]
      }
     ],
     "prompt_number": 24
    },
    {
     "cell_type": "code",
     "collapsed": false,
     "input": [
      "data_10hz = numpy.ma.array((len(ldt_10hz),13))"
     ],
     "language": "python",
     "metadata": {},
     "outputs": [],
     "prompt_number": 10
    },
    {
     "cell_type": "code",
     "collapsed": false,
     "input": [
      "idx=qcutils.find_indices(ldt_10hz,ldt_3952)"
     ],
     "language": "python",
     "metadata": {},
     "outputs": [],
     "prompt_number": 12
    },
    {
     "cell_type": "code",
     "collapsed": false,
     "input": [
      "data_10hz[idx,0]=data_3952[:,0]"
     ],
     "language": "python",
     "metadata": {},
     "outputs": [
      {
       "ename": "NameError",
       "evalue": "name 'data_3952' is not defined",
       "output_type": "pyerr",
       "traceback": [
        "\u001b[1;31m---------------------------------------------------------------------------\u001b[0m\n\u001b[1;31mNameError\u001b[0m                                 Traceback (most recent call last)",
        "\u001b[1;32m<ipython-input-15-bec882678152>\u001b[0m in \u001b[0;36m<module>\u001b[1;34m()\u001b[0m\n\u001b[1;32m----> 1\u001b[1;33m \u001b[0mdata_10hz\u001b[0m\u001b[1;33m[\u001b[0m\u001b[0midx\u001b[0m\u001b[1;33m,\u001b[0m\u001b[1;36m0\u001b[0m\u001b[1;33m]\u001b[0m\u001b[1;33m=\u001b[0m\u001b[0mdata_3952\u001b[0m\u001b[1;33m[\u001b[0m\u001b[1;33m:\u001b[0m\u001b[1;33m,\u001b[0m\u001b[1;36m0\u001b[0m\u001b[1;33m]\u001b[0m\u001b[1;33m\u001b[0m\u001b[0m\n\u001b[0m",
        "\u001b[1;31mNameError\u001b[0m: name 'data_3952' is not defined"
       ]
      }
     ],
     "prompt_number": 15
    },
    {
     "cell_type": "code",
     "collapsed": false,
     "input": [],
     "language": "python",
     "metadata": {},
     "outputs": []
    }
   ],
   "metadata": {}
  }
 ]
}