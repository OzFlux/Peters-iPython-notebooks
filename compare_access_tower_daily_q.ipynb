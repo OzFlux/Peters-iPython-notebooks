{
 "metadata": {
  "name": "",
  "signature": "sha256:9cf80b7ce0f8db3d7cc1535890cfb5c51957f3d43dc355ec33867dcacb1f5a76"
 },
 "nbformat": 3,
 "nbformat_minor": 0,
 "worksheets": [
  {
   "cells": [
    {
     "cell_type": "code",
     "collapsed": false,
     "input": [
      "%run basics"
     ],
     "language": "python",
     "metadata": {},
     "outputs": [],
     "prompt_number": 1
    },
    {
     "cell_type": "code",
     "collapsed": false,
     "input": [
      "access_name=qcio.get_filename_dialog()"
     ],
     "language": "python",
     "metadata": {},
     "outputs": [],
     "prompt_number": 2
    },
    {
     "cell_type": "code",
     "collapsed": false,
     "input": [
      "tower_name=qcio.get_filename_dialog()"
     ],
     "language": "python",
     "metadata": {},
     "outputs": [],
     "prompt_number": 3
    },
    {
     "cell_type": "code",
     "collapsed": false,
     "input": [
      "ds_access=qcio.nc_read_series(access_name)\n",
      "ds_tower=qcio.nc_read_series(tower_name)"
     ],
     "language": "python",
     "metadata": {},
     "outputs": [
      {
       "output_type": "stream",
       "stream": "stderr",
       "text": [
        "ERROR:qc.utils:get_UTCfromlocaltime: time_zone not in global attributes, checking elsewhere ...\n"
       ]
      }
     ],
     "prompt_number": 4
    },
    {
     "cell_type": "code",
     "collapsed": false,
     "input": [
      "ts = int(ds_tower.globalattributes[\"time_step\"])\n",
      "ldt_tower=ds_tower.series[\"DateTime\"][\"Data\"]\n",
      "ldt_access=ds_access.series[\"DateTime\"][\"Data\"]\n",
      "ldt_start=max(ldt_tower[0],ldt_access[0])\n",
      "ldt_end=min(ldt_tower[-1],ldt_access[-1])\n",
      "print ldt_start,ldt_end\n",
      "si_tower=qcutils.GetDateIndex(ldt_tower,str(ldt_start),match=\"startnextday\",ts=ts)\n",
      "ei_tower=qcutils.GetDateIndex(ldt_tower,str(ldt_end),match=\"endpreviousday\",ts=ts)\n",
      "si_access=qcutils.GetDateIndex(ldt_access,str(ldt_start),match=\"startnextday\",ts=ts)\n",
      "ei_access=qcutils.GetDateIndex(ldt_access,str(ldt_end),match=\"endpreviousday\",ts=ts)\n",
      "ldt_tower=ldt_tower[si_tower:ei_tower+1]\n",
      "ldt_access=ldt_access[si_access:ei_access+1]\n",
      "print ldt_tower[0],ldt_tower[-1]\n",
      "print ldt_access[0],ldt_access[-1]"
     ],
     "language": "python",
     "metadata": {},
     "outputs": [
      {
       "output_type": "stream",
       "stream": "stdout",
       "text": [
        "2011-01-01 08:00:00 2013-11-30 23:00:00\n",
        "2011-01-02 00:30:00 2013-11-30 00:00:00\n",
        "2011-01-02 00:30:00 2013-11-30 00:00:00\n"
       ]
      }
     ],
     "prompt_number": 14
    },
    {
     "cell_type": "code",
     "collapsed": false,
     "input": [
      "nPerHr = int(float(60)/ts+0.5)\n",
      "nPerDay = int(float(24)*nPerHr+0.5)\n",
      "nDays = len(ldt_tower)/nPerDay"
     ],
     "language": "python",
     "metadata": {},
     "outputs": [],
     "prompt_number": 15
    },
    {
     "cell_type": "code",
     "collapsed": false,
     "input": [
      "q_tower,f,a=qcutils.GetSeriesasMA(ds_tower,\"q\",si=si_tower,ei=ei_tower)\n",
      "q_access,f,a=qcutils.GetSeriesasMA(ds_access,\"q_11\",si=si_access,ei=ei_access)\n",
      "q_tower_day = q_tower.reshape(nDays,nPerDay)\n",
      "q_access_day = q_access.reshape(nDays,nPerDay)\n",
      "ldt_tower_day = ldt_tower[0::nPerDay]\n",
      "mask = numpy.ma.mask_or(q_tower_day.mask,q_access_day.mask)\n",
      "q_tower_day = numpy.ma.array(q_tower_day,mask=mask)\n",
      "q_access_day = numpy.ma.array(q_access_day,mask=mask)\n",
      "q_tower_day_avg = numpy.ma.average(q_tower_day,axis=1)\n",
      "q_access_day_avg = numpy.ma.average(q_access_day,axis=1)"
     ],
     "language": "python",
     "metadata": {},
     "outputs": [],
     "prompt_number": 18
    },
    {
     "cell_type": "code",
     "collapsed": false,
     "input": [
      "fig=plt.figure()\n",
      "plt.plot(ldt_tower_day,q_tower_day_avg,'b')\n",
      "plt.plot(ldt_tower_day,q_access_day_avg,'r+')\n",
      "plt.show()"
     ],
     "language": "python",
     "metadata": {},
     "outputs": []
    },
    {
     "cell_type": "code",
     "collapsed": false,
     "input": [],
     "language": "python",
     "metadata": {},
     "outputs": []
    }
   ],
   "metadata": {}
  }
 ]
}