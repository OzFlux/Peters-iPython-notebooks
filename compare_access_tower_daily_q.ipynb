{
 "metadata": {
  "name": "",
  "signature": "sha256:7e93874d224e662e77a2b4cf2a32f97206c959aed818da215fec5e7ac65049fc"
 },
 "nbformat": 3,
 "nbformat_minor": 0,
 "worksheets": [
  {
   "cells": [
    {
     "cell_type": "code",
     "collapsed": false,
     "input": [
      "%run basics"
     ],
     "language": "python",
     "metadata": {},
     "outputs": [],
     "prompt_number": 1
    },
    {
     "cell_type": "code",
     "collapsed": false,
     "input": [
      "def match_masks(series_list):\n",
      "    if len(series_list)<2:\n",
      "        print \"match_masks: only 1 series, nothing to do\"\n",
      "        return\n",
      "    mask=numpy.ma.mask_or(series_list[0].mask,series_list[1].mask)\n",
      "    if len(series_list)>2:\n",
      "        for item in series_list[2:]:\n",
      "            mask=numpy.ma.mask_or(mask,item.mask)\n",
      "    for item in series_list:\n",
      "        item.mask=mask\n",
      "    return"
     ],
     "language": "python",
     "metadata": {},
     "outputs": [],
     "prompt_number": 2
    },
    {
     "cell_type": "code",
     "collapsed": false,
     "input": [
      "access_name=qcio.get_filename_dialog()"
     ],
     "language": "python",
     "metadata": {},
     "outputs": [],
     "prompt_number": 3
    },
    {
     "cell_type": "code",
     "collapsed": false,
     "input": [
      "aws_name=qcio.get_filename_dialog()"
     ],
     "language": "python",
     "metadata": {},
     "outputs": [],
     "prompt_number": 4
    },
    {
     "cell_type": "code",
     "collapsed": false,
     "input": [
      "tower_name=qcio.get_filename_dialog()"
     ],
     "language": "python",
     "metadata": {},
     "outputs": [],
     "prompt_number": 5
    },
    {
     "cell_type": "code",
     "collapsed": false,
     "input": [
      "ds={}\n",
      "ds[\"access\"]=qcio.nc_read_series(access_name)\n",
      "ds[\"aws\"]=qcio.nc_read_series(aws_name)\n",
      "ds[\"tower\"]=qcio.nc_read_series(tower_name)"
     ],
     "language": "python",
     "metadata": {},
     "outputs": [
      {
       "output_type": "stream",
       "stream": "stderr",
       "text": [
        "ERROR:qc.utils:get_UTCfromlocaltime: time_zone not in global attributes, checking elsewhere ...\n"
       ]
      },
      {
       "output_type": "stream",
       "stream": "stderr",
       "text": [
        "ERROR:qc.utils:get_UTCfromlocaltime: time_zone not in global attributes, checking elsewhere ...\n"
       ]
      }
     ],
     "prompt_number": 6
    },
    {
     "cell_type": "code",
     "collapsed": false,
     "input": [
      "ts = int(ds[\"tower\"].globalattributes[\"time_step\"])\n",
      "ldt={\"tower\":{},\"access\":{},\"aws\":{}}\n",
      "for item in [\"tower\",\"access\",\"aws\"]:\n",
      "    ldt[item][\"30minute\"]=ds[item].series[\"DateTime\"][\"Data\"]\n",
      "ldt_start=ldt[\"tower\"][\"30minute\"][0]\n",
      "ldt_end=ldt[\"tower\"][\"30minute\"][-1]\n",
      "for item in [\"access\",\"aws\"]:\n",
      "    ldt_start=max(ldt_start,ldt[item][\"30minute\"][0])\n",
      "    ldt_end=min(ldt_end,ldt[item][\"30minute\"][-1])\n",
      "print ldt_start,ldt_end\n",
      "si={}\n",
      "ei={}\n",
      "for item in [\"tower\",\"access\",\"aws\"]:\n",
      "    si[item]=qcutils.GetDateIndex(ldt[item][\"30minute\"],str(ldt_start),match=\"startnextday\",ts=ts)\n",
      "    ei[item]=qcutils.GetDateIndex(ldt[item][\"30minute\"],str(ldt_end),match=\"endpreviousday\",ts=ts)\n",
      "    ldt[item][\"30minute\"]=ldt[item][\"30minute\"][si[item]:ei[item]+1]\n",
      "    print ldt[item][\"30minute\"][0],ldt[item][\"30minute\"][-1]"
     ],
     "language": "python",
     "metadata": {},
     "outputs": [
      {
       "output_type": "stream",
       "stream": "stdout",
       "text": [
        "2011-01-01 08:00:00 2013-11-30 23:00:00\n",
        "2011-01-02 00:30:00 2013-11-30 00:00:00\n",
        "2011-01-02 00:30:00 2013-11-30 00:00:00\n",
        "2011-01-02 00:30:00 2013-11-30 00:00:00\n"
       ]
      }
     ],
     "prompt_number": 11
    },
    {
     "cell_type": "code",
     "collapsed": false,
     "input": [
      "nPerHr = int(float(60)/ts+0.5)\n",
      "nPerDay = int(float(24)*nPerHr+0.5)\n",
      "nDays = len(ldt[\"tower\"][\"30minute\"])/nPerDay"
     ],
     "language": "python",
     "metadata": {},
     "outputs": [],
     "prompt_number": 12
    },
    {
     "cell_type": "code",
     "collapsed": false,
     "input": [
      "RH={\"tower\":{},\"access\":{},\"aws\":{}}\n",
      "Ta={\"tower\":{},\"access\":{},\"aws\":{}}\n",
      "ps={\"tower\":{},\"access\":{},\"aws\":{}}\n",
      "q={\"tower\":{},\"access\":{},\"aws\":{}}\n",
      "for item,label in zip([\"tower\",\"access\",\"aws\"],[\"RH\",\"RH_11\",\"RH_0\"]):\n",
      "    RH[item][\"30minute\"],f,a=qcutils.GetSeriesasMA(ds[item],label,si=si[item],ei=ei[item])\n",
      "for item,label in zip([\"tower\",\"access\",\"aws\"],[\"Ta\",\"Ta_11\",\"Ta_0\"]):\n",
      "    Ta[item][\"30minute\"],f,a=qcutils.GetSeriesasMA(ds[item],label,si=si[item],ei=ei[item])\n",
      "for item,label in zip([\"tower\",\"access\",\"aws\"],[\"ps\",\"ps_11\",\"ps_0\"]):\n",
      "    ps[item][\"30minute\"],f,a=qcutils.GetSeriesasMA(ds[item],label,si=si[item],ei=ei[item])\n",
      "for item,label in zip([\"tower\",\"access\"],[\"q\",\"q_11\"]):\n",
      "    q[item][\"30minute\"],f,a=qcutils.GetSeriesasMA(ds[item],label,si=si[item],ei=ei[item])\n",
      "q[\"aws\"][\"30minute\"]=mf.specifichumidityfromRH(RH[\"aws\"][\"30minute\"],Ta[\"aws\"][\"30minute\"],ps[\"aws\"][\"30minute\"])\n",
      "ldt[\"tower\"][\"day\"]=ldt[\"tower\"][\"30minute\"][0::nPerDay]\n",
      "match_masks([q[\"tower\"][\"30minute\"],q[\"access\"][\"30minute\"],q[\"aws\"][\"30minute\"]])\n",
      "for item in [\"tower\",\"access\",\"aws\"]:\n",
      "    q[item][\"day\"]=q[item][\"30minute\"].reshape(nDays,nPerDay)\n",
      "    q[item][\"day_avg\"]=numpy.ma.average(q[item][\"day\"],axis=1)\n",
      "for item in [\"tower\",\"access\",\"aws\"]:\n",
      "    RH[item][\"day\"]=RH[item][\"30minute\"].reshape(nDays,nPerDay)\n",
      "    RH[item][\"day_avg\"]=numpy.ma.average(RH[item][\"day\"],axis=1)\n",
      "for item in [\"tower\",\"access\",\"aws\"]:\n",
      "    Ta[item][\"day\"]=Ta[item][\"30minute\"].reshape(nDays,nPerDay)\n",
      "    Ta[item][\"day_avg\"]=numpy.ma.average(Ta[item][\"day\"],axis=1)"
     ],
     "language": "python",
     "metadata": {},
     "outputs": [],
     "prompt_number": 19
    },
    {
     "cell_type": "code",
     "collapsed": false,
     "input": [
      "fig=plt.figure()\n",
      "plt.plot(ldt[\"tower\"][\"day\"],q[\"tower\"][\"day_avg\"],'b')\n",
      "plt.plot(ldt[\"tower\"][\"day\"],q[\"access\"][\"day_avg\"],'r+')\n",
      "plt.plot(ldt[\"tower\"][\"day\"],q[\"aws\"][\"day_avg\"],'go')\n",
      "plt.show()"
     ],
     "language": "python",
     "metadata": {},
     "outputs": [],
     "prompt_number": 15
    },
    {
     "cell_type": "code",
     "collapsed": false,
     "input": [
      "fig=plt.figure()\n",
      "plt.plot(ldt[\"tower\"][\"day\"],RH[\"tower\"][\"day_avg\"],'b')\n",
      "plt.plot(ldt[\"tower\"][\"day\"],RH[\"access\"][\"day_avg\"],'r+')\n",
      "plt.plot(ldt[\"tower\"][\"day\"],RH[\"aws\"][\"day_avg\"],'go')\n",
      "plt.show()"
     ],
     "language": "python",
     "metadata": {},
     "outputs": [],
     "prompt_number": 18
    },
    {
     "cell_type": "code",
     "collapsed": false,
     "input": [
      "fig=plt.figure()\n",
      "plt.plot(ldt[\"tower\"][\"day\"],Ta[\"tower\"][\"day_avg\"],'b')\n",
      "plt.plot(ldt[\"tower\"][\"day\"],Ta[\"access\"][\"day_avg\"],'r+')\n",
      "plt.plot(ldt[\"tower\"][\"day\"],Ta[\"aws\"][\"day_avg\"],'go')\n",
      "plt.show()"
     ],
     "language": "python",
     "metadata": {},
     "outputs": [],
     "prompt_number": 20
    },
    {
     "cell_type": "code",
     "collapsed": false,
     "input": [],
     "language": "python",
     "metadata": {},
     "outputs": []
    }
   ],
   "metadata": {}
  }
 ]
}