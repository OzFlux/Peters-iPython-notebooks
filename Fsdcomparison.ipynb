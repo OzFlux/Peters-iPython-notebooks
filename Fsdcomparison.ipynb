{
 "metadata": {
  "name": "Fsdcomparison"
 }, 
 "nbformat": 2, 
 "worksheets": [
  {
   "cells": [
    {
     "cell_type": "code", 
     "collapsed": true, 
     "input": [
      "import os", 
      "import sys", 
      "# check the scripts directory is present", 
      "if not os.path.exists(\"../scripts/\"):", 
      "    print \"compare_access: the scripts directory is missing\"", 
      "    sys.exit()", 
      "# since the scripts directory is there, try importing the modules", 
      "sys.path.append('../scripts')", 
      "import qcio", 
      "import qcutils", 
      "import qcplot"
     ], 
     "language": "python", 
     "outputs": [], 
     "prompt_number": 1
    }, 
    {
     "cell_type": "code", 
     "collapsed": false, 
     "input": [
      "drname=qcio.get_filename_dialog(path=\"../../Sites\")", 
      "ds_dr=qcio.nc_read_series(drname)"
     ], 
     "language": "python", 
     "outputs": [
      {
       "output_type": "stream", 
       "stream": "stderr", 
       "text": [
        "No handlers could be found for logger \"qc.utils\""
       ]
      }
     ], 
     "prompt_number": 9
    }, 
    {
     "cell_type": "code", 
     "collapsed": true, 
     "input": [
      "dsname=qcio.get_filename_dialog(path=\"../../Sites\")", 
      "ds_ds=qcio.nc_read_series(dsname)"
     ], 
     "language": "python", 
     "outputs": [], 
     "prompt_number": 4
    }, 
    {
     "cell_type": "code", 
     "collapsed": false, 
     "input": [
      "ldt_dr=ds_dr.series[\"DateTime\"][\"Data\"]", 
      "ldt_ds=ds_ds.series[\"DateTime\"][\"Data\"]", 
      "print ldt_dr[0],ldt_ds[0]", 
      "print ldt_dr[-1],ldt_ds[-1]"
     ], 
     "language": "python", 
     "outputs": [
      {
       "output_type": "stream", 
       "stream": "stdout", 
       "text": [
        "2009-01-01 00:00:00 2009-01-01 00:00:00", 
        "2009-12-31 23:30:00 2009-12-31 23:30:00"
       ]
      }
     ], 
     "prompt_number": 6
    }, 
    {
     "cell_type": "code", 
     "collapsed": true, 
     "input": [
      "Fsd_dr,f,a=qcutils.GetSeriesasMA(ds_dr,\"Fsd\")", 
      "Fsd_ds,f,a=qcutils.GetSeriesasMA(ds_ds,\"Fsd\")"
     ], 
     "language": "python", 
     "outputs": [], 
     "prompt_number": 7
    }, 
    {
     "cell_type": "code", 
     "collapsed": true, 
     "input": [
      "fig=figure()", 
      "qcplot.xyplot(Fsd_dr,Fsd_ds,regr=1,", 
      "              title='2009',", 
      "              xlabel='Fsd Regrowth (W/m2)',", 
      "              ylabel='Fsd Savanna (W/m2)')"
     ], 
     "language": "python", 
     "outputs": [], 
     "prompt_number": 8
    }, 
    {
     "cell_type": "code", 
     "collapsed": true, 
     "input": [], 
     "language": "python", 
     "outputs": []
    }
   ]
  }
 ]
}