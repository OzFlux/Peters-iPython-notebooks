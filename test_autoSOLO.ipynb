{
 "metadata": {
  "name": "",
  "signature": "sha256:0a22945b1bc9db903c8b0b438e3e3e0c8cd5156d2554b1035a28ae8b98b09152"
 },
 "nbformat": 3,
 "nbformat_minor": 0,
 "worksheets": [
  {
   "cells": [
    {
     "cell_type": "code",
     "collapsed": false,
     "input": [
      "%run basics"
     ],
     "language": "python",
     "metadata": {},
     "outputs": [],
     "prompt_number": 1
    },
    {
     "cell_type": "code",
     "collapsed": false,
     "input": [
      "ncname=qcio.get_filename_dialog(path=\"../../Sites\")"
     ],
     "language": "python",
     "metadata": {},
     "outputs": [],
     "prompt_number": 2
    },
    {
     "cell_type": "code",
     "collapsed": false,
     "input": [
      "ds=qcio.nc_read_series(ncname)\n",
      "Fc_SOLO,f,a=qcutils.GetSeriesasMA(ds,\"Fc_SOLO\")\n",
      "Fc_SOLO_mask=numpy.ma.getmaskarray(Fc_SOLO)\n",
      "idx_array = qcutils.contiguous_regions(Fc_SOLO_mask)"
     ],
     "language": "python",
     "metadata": {},
     "outputs": [],
     "prompt_number": 3
    },
    {
     "cell_type": "code",
     "collapsed": false,
     "input": [
      "print idx_array.shape,idx_array.shape[0],idx_array.shape[1]"
     ],
     "language": "python",
     "metadata": {},
     "outputs": [
      {
       "output_type": "stream",
       "stream": "stdout",
       "text": [
        "(6, 2) 6 2\n"
       ]
      }
     ],
     "prompt_number": 16
    },
    {
     "cell_type": "code",
     "collapsed": false,
     "input": [
      "print idx_array"
     ],
     "language": "python",
     "metadata": {},
     "outputs": [
      {
       "output_type": "stream",
       "stream": "stdout",
       "text": [
        "[[  7297  11568]\n",
        " [ 40849  42336]\n",
        " [ 59857  61248]\n",
        " [ 62737  64176]\n",
        " [ 86113  89040]\n",
        " [103633 105120]]\n"
       ]
      }
     ],
     "prompt_number": 5
    },
    {
     "cell_type": "code",
     "collapsed": false,
     "input": [
      "si_gap=idx_array[0,0]\n",
      "ei_gap=idx_array[0,1]"
     ],
     "language": "python",
     "metadata": {},
     "outputs": [],
     "prompt_number": 6
    },
    {
     "cell_type": "code",
     "collapsed": false,
     "input": [
      "ldt = ds.series[\"DateTime\"][\"Data\"]\n",
      "Fc,f,a=qcutils.GetSeriesasMA(ds,\"Fc\")"
     ],
     "language": "python",
     "metadata": {},
     "outputs": [],
     "prompt_number": 14
    },
    {
     "cell_type": "code",
     "collapsed": false,
     "input": [
      "si_gfperiod = si_gap\n",
      "ei_gfperiod = ei_gap\n",
      "min_points = int((ei_gfperiod-si_gfperiod)/2)\n",
      "num_good_points = numpy.ma.count(Fc[si_gfperiod:ei_gfperiod])\n",
      "print min_points,num_good_points\n",
      "while num_good_points<min_points:\n",
      "    si_gfperiod = si_gfperiod - 48\n",
      "    ei_gfperiod = ei_gfperiod + 48\n",
      "    min_points = int((ei_gfperiod-si_gfperiod)/2)\n",
      "    num_good_points = numpy.ma.count(Fc[si_gfperiod:ei_gfperiod])\n",
      "    print ldt[si_gfperiod],ldt[ei_gfperiod],num_good_points,min_points"
     ],
     "language": "python",
     "metadata": {},
     "outputs": [
      {
       "output_type": "stream",
       "stream": "stdout",
       "text": [
        "2135 0\n",
        "2009-02-27 00:30:00 2009-05-29 00:00:00 96 2183\n",
        "2009-02-26 00:30:00 2009-05-30 00:00:00 192 2231\n",
        "2009-02-25 00:30:00 2009-05-31 00:00:00 288 2279\n",
        "2009-02-24 00:30:00 2009-06-01 00:00:00 384 2327\n",
        "2009-02-23 00:30:00 2009-06-02 00:00:00 480 2375\n",
        "2009-02-22 00:30:00 2009-06-03 00:00:00 576 2423\n",
        "2009-02-21 00:30:00 2009-06-04 00:00:00 672 2471\n",
        "2009-02-20 00:30:00 2009-06-05 00:00:00 768 2519\n",
        "2009-02-19 00:30:00 2009-06-06 00:00:00 864 2567\n",
        "2009-02-18 00:30:00 2009-06-07 00:00:00 960 2615\n",
        "2009-02-17 00:30:00 2009-06-08 00:00:00 1056 2663\n",
        "2009-02-16 00:30:00 2009-06-09 00:00:00 1152 2711\n",
        "2009-02-15 00:30:00 2009-06-10 00:00:00 1248 2759\n",
        "2009-02-14 00:30:00 2009-06-11 00:00:00 1344 2807\n",
        "2009-02-13 00:30:00 2009-06-12 00:00:00 1440 2855\n",
        "2009-02-12 00:30:00 2009-06-13 00:00:00 1536 2903\n",
        "2009-02-11 00:30:00 2009-06-14 00:00:00 1632 2951\n",
        "2009-02-10 00:30:00 2009-06-15 00:00:00 1728 2999\n",
        "2009-02-09 00:30:00 2009-06-16 00:00:00 1824 3047\n",
        "2009-02-08 00:30:00 2009-06-17 00:00:00 1920 3095\n",
        "2009-02-07 00:30:00 2009-06-18 00:00:00 2016 3143\n",
        "2009-02-06 00:30:00 2009-06-19 00:00:00 2112 3191\n",
        "2009-02-05 00:30:00 2009-06-20 00:00:00 2208 3239\n",
        "2009-02-04 00:30:00 2009-06-21 00:00:00 2304 3287\n",
        "2009-02-03 00:30:00 2009-06-22 00:00:00 2400 3335\n",
        "2009-02-02 00:30:00 2009-06-23 00:00:00 2496 3383\n",
        "2009-02-01 00:30:00 2009-06-24 00:00:00 2592 3431\n",
        "2009-01-31 00:30:00 2009-06-25 00:00:00 2688 3479\n",
        "2009-01-30 00:30:00 2009-06-26 00:00:00 2784 3527\n",
        "2009-01-29 00:30:00 2009-06-27 00:00:00 2880 3575\n",
        "2009-01-28 00:30:00 2009-06-28 00:00:00 2976 3623\n",
        "2009-01-27 00:30:00 2009-06-29 00:00:00 3072 3671\n",
        "2009-01-26 00:30:00 2009-06-30 00:00:00 3168 3719\n",
        "2009-01-25 00:30:00 2009-07-01 00:00:00 3264 3767\n",
        "2009-01-24 00:30:00 2009-07-02 00:00:00 3360 3815\n",
        "2009-01-23 00:30:00 2009-07-03 00:00:00 3456 3863\n",
        "2009-01-22 00:30:00 2009-07-04 00:00:00 3552 3911\n",
        "2009-01-21 00:30:00 2009-07-05 00:00:00 3648 3959\n",
        "2009-01-20 00:30:00 2009-07-06 00:00:00 3744 4007\n",
        "2009-01-19 00:30:00 2009-07-07 00:00:00 3840 4055\n",
        "2009-01-18 00:30:00 2009-07-08 00:00:00 3936 4103\n",
        "2009-01-17 00:30:00 2009-07-09 00:00:00 4032 4151\n",
        "2009-01-16 00:30:00 2009-07-10 00:00:00 4128 4199\n",
        "2009-01-15 00:30:00 2009-07-11 00:00:00 4224 4247\n",
        "2009-01-14 00:30:00 2009-07-12 00:00:00 4320 4295\n"
       ]
      }
     ],
     "prompt_number": 15
    },
    {
     "cell_type": "code",
     "collapsed": false,
     "input": [],
     "language": "python",
     "metadata": {},
     "outputs": []
    }
   ],
   "metadata": {}
  }
 ]
}