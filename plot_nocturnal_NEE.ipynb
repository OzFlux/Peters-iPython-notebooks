{
 "metadata": {
  "name": "",
  "signature": "sha256:7a094830a145b88589a851cf63487957d5c85e0b290a2fefe3cc157f876c2f1b"
 },
 "nbformat": 3,
 "nbformat_minor": 0,
 "worksheets": [
  {
   "cells": [
    {
     "cell_type": "code",
     "collapsed": false,
     "input": [
      "%run basics\n",
      "%matplotlib"
     ],
     "language": "python",
     "metadata": {},
     "outputs": [
      {
       "output_type": "stream",
       "stream": "stdout",
       "text": [
        "Using matplotlib backend: Qt4Agg\n"
       ]
      }
     ],
     "prompt_number": 1
    },
    {
     "cell_type": "code",
     "collapsed": false,
     "input": [
      "ncname=qcio.get_filename_dialog()"
     ],
     "language": "python",
     "metadata": {},
     "outputs": [],
     "prompt_number": 2
    },
    {
     "cell_type": "code",
     "collapsed": false,
     "input": [
      "ds=qcio.nc_read_series(ncname)"
     ],
     "language": "python",
     "metadata": {},
     "outputs": [],
     "prompt_number": 3
    },
    {
     "cell_type": "code",
     "collapsed": false,
     "input": [
      "Fsd,f,a=qcutils.GetSeriesasMA(ds,\"Fsd\")\n",
      "Fc,f,a=qcutils.GetSeriesasMA(ds,\"Fc\")\n",
      "Ts,f,a=qcutils.GetSeriesasMA(ds,\"Ts\")\n",
      "ustar,f,a=qcutils.GetSeriesasMA(ds,\"ustar\")"
     ],
     "language": "python",
     "metadata": {},
     "outputs": [],
     "prompt_number": 12
    },
    {
     "cell_type": "code",
     "collapsed": false,
     "input": [
      "Fc_night=numpy.ma.masked_where(Fsd>10,Fc)\n",
      "ustar_night=numpy.ma.masked_where(Fsd>10,ustar)\n",
      "Ts_night=numpy.ma.masked_where(Fsd>10,Ts)\n",
      "Fc_night_filtered=numpy.ma.masked_where(ustar<0.4,Fc_night)\n",
      "Ts_night_filtered=numpy.ma.masked_where(ustar<0.4,Ts_night)\n",
      "Fc_night_filtered_mean=numpy.ma.mean(Fc_night_filtered)\n",
      "ustar_min=numpy.ma.minimum(ustar_night)\n",
      "ustar_max=numpy.ma.maximum(ustar_night)"
     ],
     "language": "python",
     "metadata": {},
     "outputs": [],
     "prompt_number": 15
    },
    {
     "cell_type": "code",
     "collapsed": false,
     "input": [
      "fig=plt.figure()\n",
      "plt.plot(ustar_night,Fc_night,'b.')\n",
      "plt.plot([ustar_min,ustar_max],[Fc_night_filtered_mean,Fc_night_filtered_mean],'r-')\n",
      "plt.xlabel(\"u* (m/s)\")\n",
      "plt.ylabel(\"NEE (umol/m2/s)\")\n",
      "plt.show()"
     ],
     "language": "python",
     "metadata": {},
     "outputs": [],
     "prompt_number": 11
    },
    {
     "cell_type": "code",
     "collapsed": false,
     "input": [
      "fig=plt.figure()\n",
      "plt.plot(Ts_night_filtered,Fc_night_filtered,'bo')\n",
      "plt.xlabel(\"Ts (C)\")\n",
      "plt.ylabel(\"NEE (umol/m2/s)\")\n",
      "plt.title(\"Howard Springs: Nocturnal NEE vs Ts\")\n",
      "plt.show()"
     ],
     "language": "python",
     "metadata": {},
     "outputs": [],
     "prompt_number": 18
    },
    {
     "cell_type": "code",
     "collapsed": false,
     "input": [],
     "language": "python",
     "metadata": {},
     "outputs": []
    }
   ],
   "metadata": {}
  }
 ]
}