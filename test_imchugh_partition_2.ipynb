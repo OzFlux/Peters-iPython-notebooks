{
 "metadata": {
  "name": "",
  "signature": "sha256:9bbcf3aa166c1018da61825f29f068dac6b0e592a01e25bd9f03f1dc8a587b53"
 },
 "nbformat": 3,
 "nbformat_minor": 0,
 "worksheets": [
  {
   "cells": [
    {
     "cell_type": "code",
     "collapsed": false,
     "input": [
      "%run basics\n",
      "%matplotlib\n",
      "sys.path.append('dev/imchugh')"
     ],
     "language": "python",
     "metadata": {},
     "outputs": [
      {
       "output_type": "stream",
       "stream": "stdout",
       "text": [
        "Using matplotlib backend: Qt4Agg\n"
       ]
      }
     ],
     "prompt_number": 1
    },
    {
     "cell_type": "code",
     "collapsed": false,
     "input": [
      "import dark_T_response_functions as dark\n",
      "import light_and_T_response_functions as light\n",
      "import Partition_NEE as part"
     ],
     "language": "python",
     "metadata": {},
     "outputs": [],
     "prompt_number": 2
    },
    {
     "cell_type": "code",
     "collapsed": false,
     "input": [
      "def get_configs_dict(cf,ds):\n",
      "#    configs_dict = {'nan_value': -9999,\n",
      "#                    'minimum_temperature_spread': 5,\n",
      "#                    'step_size_days': 5,\n",
      "#                    'window_size_days': 15,\n",
      "#                    'min_pct_annual': 30,\n",
      "#                    'min_pct_noct_window': 20,\n",
      "#                    'min_pct_day_window': 50,\n",
      "#                    'output_plots': False,\n",
      "#                    'measurement_interval': 0.5,\n",
      "#                    'QC_accept_code': 0,\n",
      "#                    'plot_output_path': '/home/imchugh/Documents'}\n",
      "    configs_dict = {}\n",
      "    configs_dict[\"nan_value\"] = int(c.missing_value)\n",
      "    opt = qcutils.get_keyvaluefromcf(cf,[\"ER\",\"ER_LL\",\"ERUsingLasslop\"],\n",
      "                                     \"minimum_temperature_spread\",\n",
      "                                     default=5)\n",
      "    configs_dict[\"minimum_temperature_spread\"] = int(opt)\n",
      "    opt = qcutils.get_keyvaluefromcf(cf,[\"ER\",\"ER_LL\",\"ERUsingLasslop\"],\n",
      "                                     \"step_size_days\",\n",
      "                                     default=5)\n",
      "    configs_dict[\"step_size_days\"] = int(opt)\n",
      "    opt = qcutils.get_keyvaluefromcf(cf,[\"ER\",\"ER_LL\",\"ERUsingLasslop\"],\n",
      "                                     \"window_size_days\",\n",
      "                                     default=15)\n",
      "    configs_dict[\"window_size_days\"] = int(opt)\n",
      "    opt = qcutils.get_keyvaluefromcf(cf,[\"ER\",\"ER_LL\",\"ERUsingLasslop\"],\n",
      "                                     \"minimum_percent_annual\",\n",
      "                                     default=30)\n",
      "    configs_dict[\"minimum_pct_annual\"] = int(opt)\n",
      "    opt = qcutils.get_keyvaluefromcf(cf,[\"ER\",\"ER_LL\",\"ERUsingLasslop\"],\n",
      "                                     \"minimum_percent_noct_window\",\n",
      "                                     default=20)\n",
      "    configs_dict[\"minimum_pct_noct_window\"] = int(opt)\n",
      "    opt = qcutils.get_keyvaluefromcf(cf,[\"ER\",\"ER_LL\",\"ERUsingLasslop\"],\n",
      "                                     \"minimum_percent_day_window\",\n",
      "                                     default=50)\n",
      "    configs_dict[\"minimum_pct_day_window\"] = int(opt)\n",
      "    opt = qcutils.get_keyvaluefromcf(cf,[\"ER\",\"ER_LL\",\"ERUsingLasslop\"],\n",
      "                                     \"output_plots\",\n",
      "                                     default=False)\n",
      "    configs_dict[\"output_plots\"] = (opt==\"True\")\n",
      "    configs_dict[\"output_results\"] = True\n",
      "    ts = int(ds.globalattributes[\"time_step\"])\n",
      "    configs_dict[\"measurement_interval\"] = float(ts)/60.0\n",
      "    configs_dict[\"QC_accept_code\"] = 0\n",
      "    opt = qcutils.get_keyvaluefromcf(cf,[\"Files\"],\"plot_path\",default=\"plots/\")\n",
      "    configs_dict[\"output_path\"] = os.path.join(opt,\"respiration/\")\n",
      "    return configs_dict"
     ],
     "language": "python",
     "metadata": {},
     "outputs": [],
     "prompt_number": 3
    },
    {
     "cell_type": "code",
     "collapsed": false,
     "input": [
      "def get_data_dict(ds,config_dict):\n",
      "    data = {}\n",
      "    # NOTE: series are ndarrays not masked arrays\n",
      "    Fc,Fc_flag,a = qcutils.GetSeries(ds,\"Fc\")\n",
      "    Fsd,Fsd_flag,a = qcutils.GetSeries(ds,\"Fsd\")\n",
      "    T,T_flag,a = qcutils.GetSeries(ds,\"Ta\")\n",
      "    VPD,VPD_flag,a = qcutils.GetSeries(ds,\"VPD\")\n",
      "    ustar,ustar_flag,a = qcutils.GetSeries(ds,\"ustar\")\n",
      "    # replace c.missing_value with numpy.nan\n",
      "    Fc = numpy.where((Fc_flag!=0)|(Fc==c.missing_value),\n",
      "                     numpy.nan,Fc)\n",
      "    Fsd = numpy.where((Fsd_flag!=0)|(Fsd==c.missing_value),\n",
      "                      numpy.nan,Fsd)\n",
      "    T = numpy.where((T_flag!=0)|(T==c.missing_value),\n",
      "                    numpy.nan,T)\n",
      "    VPD = numpy.where((VPD_flag!=0)|(VPD==c.missing_value),\n",
      "                      numpy.nan,VPD)\n",
      "    ustar = numpy.where((ustar_flag!=0)|(ustar==c.missing_value),\n",
      "                        numpy.nan,ustar)\n",
      "    # put the data in the dictionary\n",
      "    data[\"NEE\"] = Fc\n",
      "    data[\"PAR\"] = Fsd*0.46*4.6\n",
      "    data[\"TempC\"] = T\n",
      "    data[\"VPD\"] = VPD\n",
      "    data[\"ustar\"] = ustar\n",
      "    data[\"date_time\"] = numpy.array(ds.series[\"DateTime\"][\"Data\"])\n",
      "    return data"
     ],
     "language": "python",
     "metadata": {},
     "outputs": [],
     "prompt_number": 4
    },
    {
     "cell_type": "code",
     "collapsed": false,
     "input": [
      "def cleanup_ustar_dict(ds,ustar_dict):\n",
      "    \"\"\"\n",
      "    Purpose:\n",
      "     Clean up the ustar dictionary;\n",
      "      - make sure all years are included\n",
      "      - fill missing year values with the mean\n",
      "    Usage:\n",
      "    Author: PRI\n",
      "    Date: September 2015\n",
      "    \"\"\"\n",
      "    ldt = ds.series[\"DateTime\"][\"Data\"]\n",
      "    start_year = ldt[0].year\n",
      "    end_year = ldt[-1].year\n",
      "    data_years = range(start_year,end_year+1)\n",
      "    ustar_years = ustar_dict.keys()\n",
      "    ustar_list = ustar_dict[ustar_years[0]]\n",
      "    for year in data_years:\n",
      "            if str(year) not in ustar_years:\n",
      "                ustar_dict[str(year)] = {}\n",
      "                for item in ustar_list:\n",
      "                    ustar_dict[str(year)][item] = float(c.missing_value)\n",
      "    # loop over the list of ustar thresholds\n",
      "    year_list = ustar_dict.keys()\n",
      "    year_list.sort()\n",
      "    # get the average of good ustar threshold values\n",
      "    good_values = []\n",
      "    for year in year_list:\n",
      "        ustar_threshold = float(ustar_dict[year][\"ustar_mean\"])\n",
      "        if ustar_threshold!=float(c.missing_value):\n",
      "            good_values.append(ustar_threshold)\n",
      "    ustar_threshold_mean = numpy.sum(numpy.array(good_values))/len(good_values)\n",
      "    # replace missing vaues with mean\n",
      "    for year in year_list:\n",
      "        if ustar_dict[year][\"ustar_mean\"]==float(c.missing_value):\n",
      "            ustar_dict[year][\"ustar_mean\"] = ustar_threshold_mean"
     ],
     "language": "python",
     "metadata": {},
     "outputs": [],
     "prompt_number": 5
    },
    {
     "cell_type": "code",
     "collapsed": false,
     "input": [
      "def get_turbulence_indicator_ustar(ds,ustar_dict):\n",
      "    year_list = ustar_dict.keys()\n",
      "    year_list.sort()\n",
      "    # now loop over the years in the data to apply the ustar threshold\n",
      "    ldt = ds.series[\"DateTime\"][\"Data\"]\n",
      "    ts = int(ds.globalattributes[\"time_step\"])\n",
      "    ustar,f,a = qcutils.GetSeriesasMA(ds,\"ustar\")\n",
      "    turbulence_indicator = numpy.ones(len(ldt),dtype=numpy.int32)\n",
      "    for year in year_list:\n",
      "        start_date = str(year)+\"-01-01 00:30\"\n",
      "        if ts==60: start_date = str(year)+\"-01-01 01:00\"\n",
      "        end_date = str(int(year)+1)+\"-01-01 00:00\"\n",
      "        # get the ustar threshold\n",
      "        ustar_threshold = float(ustar_dict[year][\"ustar_mean\"])\n",
      "        # get the start and end datetime indices\n",
      "        si = qcutils.GetDateIndex(ldt,start_date,ts=ts,default=0,match='exact')\n",
      "        ei = qcutils.GetDateIndex(ldt,end_date,ts=ts,default=len(ldt),match='exact')\n",
      "        # set the QC flag\n",
      "        index_lowustar = numpy.ma.where(ustar[si:ei]<ustar_threshold)[0]\n",
      "        turbulence_indicator[si:ei][index_lowustar] = numpy.int32(0)\n",
      "    return turbulence_indicator"
     ],
     "language": "python",
     "metadata": {},
     "outputs": [],
     "prompt_number": 6
    },
    {
     "cell_type": "code",
     "collapsed": false,
     "input": [
      "def apply_turbulence_filter(data_dict,indicator):\n",
      "    data_dict[\"NEE\"] = numpy.where(indicator==0,numpy.nan,data_dict[\"NEE\"])"
     ],
     "language": "python",
     "metadata": {},
     "outputs": [],
     "prompt_number": 7
    },
    {
     "cell_type": "code",
     "collapsed": false,
     "input": [
      "# read the control file and construct the configuration dictionary\n",
      "cf = qcio.load_controlfile(path=\"controlfiles\")\n",
      "in_name = qcio.get_infilenamefromcf(cf)\n",
      "ds = qcio.nc_read_series(in_name)\n",
      "ts = int(ds.globalattributes[\"time_step\"])\n",
      "ldt = ds.series[\"DateTime\"][\"Data\"]"
     ],
     "language": "python",
     "metadata": {},
     "outputs": [],
     "prompt_number": 8
    },
    {
     "cell_type": "code",
     "collapsed": false,
     "input": [
      "configs_dict = get_configs_dict(cf,ds)\n",
      "data_dict = get_data_dict(ds,configs_dict)\n",
      "ustar_dict = qcrp.get_ustarthreshold_from_cpdresults(cf)\n",
      "cleanup_ustar_dict(ds,ustar_dict)\n",
      "turbulence_indicator = get_turbulence_indicator_ustar(ds,ustar_dict)\n",
      "apply_turbulence_filter(data_dict,turbulence_indicator)"
     ],
     "language": "python",
     "metadata": {},
     "outputs": [],
     "prompt_number": 9
    },
    {
     "cell_type": "code",
     "collapsed": false,
     "input": [
      "# *** start of main code ***\n",
      "# If user wants individual window plots, check whether output directories\n",
      "# are present, and create if not\n",
      "if configs_dict['output_plots']:\n",
      "    output_path = configs_dict['output_path']\n",
      "    configs_dict['window_plot_output_path'] = output_path\n",
      "    if not os.path.isdir(output_path):\n",
      "        os.makedirs(output_path)\n",
      "# Get arrays of all datetimes, all dates and stepped dates\n",
      "# original code\n",
      "datetime_array = data_dict.pop('date_time')\n",
      "(step_date_index_dict, \n",
      " all_date_index_dict,\n",
      " year_index_dict) = part.get_dates(datetime_array, configs_dict)\n",
      "date_array = numpy.array(all_date_index_dict.keys())\n",
      "date_array.sort()\n",
      "step_date_array = numpy.array(step_date_index_dict.keys())\n",
      "step_date_array.sort()\n",
      "# Create variable name lists for results output\n",
      "series_rslt_list = ['Nocturnally derived Re', 'GPP from nocturnal derived Re',\n",
      "                    'Daytime derived Re', 'GPP from daytime derived Re']\n",
      "new_param_list = ['Eo', 'rb_noct', 'rb_day', 'alpha_fixed_rb', \n",
      "                  'alpha_free_rb', 'beta_fixed_rb', 'beta_free_rb', \n",
      "                  'k_fixed_rb', 'k_free_rb', 'Eo error code', \n",
      "                  'Nocturnal rb error code', \n",
      "                  'Light response parameters + fixed rb error code', \n",
      "                  'Light response parameters + free rb error code']\n",
      "# Create dictionaries for results\n",
      "# First the parameter estimates and error codes...\n",
      "empty_array = numpy.empty([len(date_array)])\n",
      "empty_array[:] = numpy.nan\n",
      "opt_params_dict = {var: empty_array.copy() for var in new_param_list}\n",
      "opt_params_dict['date'] = date_array\n",
      "# Then the time series estimation\n",
      "empty_array = numpy.empty([len(datetime_array)])\n",
      "empty_array[:] = numpy.nan\n",
      "series_est_dict = {var: empty_array.copy() for var in series_rslt_list}\n",
      "series_est_dict['date_time'] = datetime_array\n",
      "# Create a dictionary containing initial guesses for each parameter\n",
      "params_dict = part.make_initial_guess_dict(data_dict)"
     ],
     "language": "python",
     "metadata": {},
     "outputs": [],
     "prompt_number": 10
    },
    {
     "cell_type": "code",
     "collapsed": false,
     "input": [
      "# *** start of annual estimates of E0 code ***\n",
      "# Get the annual estimates of Eo\n",
      "print 'Optimising fit for Eo for each year...'\n",
      "Eo_dict, EoQC_dict = part.optimise_annual_Eo(data_dict,params_dict,configs_dict,year_index_dict)\n",
      "print 'Done!'\n",
      "# Write to result arrays\n",
      "year_array = numpy.array([i.year for i in date_array])\n",
      "for yr in year_array:\n",
      "    index = numpy.where(year_array == yr)\n",
      "    opt_params_dict['Eo'][index] = Eo_dict[yr]\n",
      "    opt_params_dict['Eo error code'][index] = EoQC_dict[yr]\n",
      "# *** end of annual estimates of E0 code ***"
     ],
     "language": "python",
     "metadata": {},
     "outputs": [
      {
       "output_type": "stream",
       "stream": "stdout",
       "text": [
        "Optimising fit for Eo for each year...\n",
        "Eo optimised using whole year is as follows:\n",
        "    - 2011: nan\n",
        "    - 2012: 187.1\n",
        "    - 2013: 183.4\n",
        "    - 2014: 186.9\n",
        "    - 2015: nan\n",
        "Eo optimisation failed for the following years: 2011, 2015\n",
        "Eo for these years estimated from the mean of all other years\n",
        "Done!\n"
       ]
      }
     ],
     "prompt_number": 11
    },
    {
     "cell_type": "code",
     "collapsed": false,
     "input": [
      "# *** start of estimating rb code for each window ***\n",
      "# Rewrite the parameters dictionary so that there will be one set of \n",
      "# defaults for the free and one set of defaults for the fixed parameters\n",
      "params_dict = {'fixed_rb': part.make_initial_guess_dict(data_dict),\n",
      "               'free_rb': part.make_initial_guess_dict(data_dict)}\n",
      "# Do nocturnal optimisation for each window\n",
      "print 'Optimising fit for rb using nocturnal data...'\n",
      "for date in step_date_array:\n",
      "    # Get Eo for the relevant year and write to the parameters dictionary\n",
      "    param_index = numpy.where(date_array == date)\n",
      "    params_dict['fixed_rb']['Eo_default'] = opt_params_dict['Eo'][param_index]\n",
      "    # Subset the data and check length\n",
      "    sub_dict = part.subset_window(data_dict, step_date_index_dict[date])\n",
      "    # Subset again to remove daytime and then nan\n",
      "    noct_dict = part.subset_daynight(sub_dict, noct_flag = True)\n",
      "    len_all_noct = len(noct_dict['NEE'])\n",
      "    noct_dict = part.subset_nan(noct_dict)\n",
      "    len_valid_noct = len(noct_dict['NEE'])\n",
      "    # Do optimisation only if data passes minimum threshold\n",
      "    if round(float(len_valid_noct) / len_all_noct * 100) > \\\n",
      "    configs_dict['minimum_pct_noct_window']:\n",
      "        params, error_state = dark.optimise_rb(noct_dict,params_dict['fixed_rb'])\n",
      "    else:\n",
      "        params, error_state = [numpy.nan], 10                                                      \n",
      "    # Send data to the results dict\n",
      "    opt_params_dict['rb_noct'][param_index] = params\n",
      "    opt_params_dict['Nocturnal rb error code'][param_index] = error_state\n",
      "    # Estimate time series and plot if requested\n",
      "    if error_state == 0 and configs_dict['output_plots']:        \n",
      "        this_params_dict = {'Eo': opt_params_dict['Eo'][param_index],\n",
      "                            'rb': opt_params_dict['rb_noct'][param_index]}\n",
      "        est_series_dict = part.estimate_Re_GPP(sub_dict, this_params_dict)\n",
      "        combine_dict = dict(sub_dict, **est_series_dict)\n",
      "        part.plot_windows(combine_dict, configs_dict, date, noct_flag = True)\n",
      "# Interpolate\n",
      "opt_params_dict['rb_noct'] = part.interp_params(opt_params_dict['rb_noct'])\n",
      "print 'Done!'\n",
      "# *** end of estimating rb code for each window ***"
     ],
     "language": "python",
     "metadata": {},
     "outputs": [
      {
       "output_type": "stream",
       "stream": "stdout",
       "text": [
        "Optimising fit for rb using nocturnal data...\n",
        "Done!"
       ]
      },
      {
       "output_type": "stream",
       "stream": "stdout",
       "text": [
        "\n"
       ]
      }
     ],
     "prompt_number": 12
    },
    {
     "cell_type": "code",
     "collapsed": false,
     "input": [
      "def ER_LloydTaylor(T,E0,rb):\n",
      "    t1 = 1/(c.Tref-c.T0)\n",
      "    t2 = 1/(Ts-c.T0)\n",
      "    ER = rb*numpy.exp(E0*(t1-t2))\n",
      "    return ER"
     ],
     "language": "python",
     "metadata": {},
     "outputs": [],
     "prompt_number": 17
    },
    {
     "cell_type": "code",
     "collapsed": false,
     "input": [
      "E0 = numpy.zeros(len(ldt))\n",
      "rb = numpy.zeros(len(ldt))\n",
      "ldt_year = numpy.array([dt.year for dt in ldt])\n",
      "ldt_month = numpy.array([dt.month for dt in ldt])\n",
      "ldt_day = numpy.array([dt.day for dt in ldt])\n",
      "for date,E0_val,rb_val in zip(opt_params_dict[\"date\"],opt_params_dict[\"Eo\"],opt_params_dict[\"rb_noct\"]):\n",
      "    param_year = date.year\n",
      "    param_month = date.month\n",
      "    param_day = date.day\n",
      "    idx = numpy.where((ldt_year==param_year)&(ldt_month==param_month)&(ldt_day==param_day))[0]\n",
      "    E0[idx] = E0_val\n",
      "    rb[idx] = rb_val\n",
      "\n",
      "Ts,f,a = qcutils.GetSeriesasMA(ds,\"Ts\")\n",
      "ER_LT = ER_LloydTaylor(Ts,E0,rb)"
     ],
     "language": "python",
     "metadata": {},
     "outputs": [],
     "prompt_number": 19
    },
    {
     "cell_type": "code",
     "collapsed": false,
     "input": [
      "ds_l6 = qcio.nc_read_series(\"../Sites/Whroo/Data/Processed/all/Whroo_L6.nc\")\n",
      "ER_SOLO,f,a = qcutils.GetSeriesasMA(ds_l6,\"ER_SOLO\")"
     ],
     "language": "python",
     "metadata": {},
     "outputs": [],
     "prompt_number": 22
    },
    {
     "cell_type": "code",
     "collapsed": false,
     "input": [
      "fig=plt.figure()\n",
      "plt.plot(ldt,ER_LT,'b.')\n",
      "plt.plot(ldt,ER_SOLO,'r+')\n",
      "plt.show()"
     ],
     "language": "python",
     "metadata": {},
     "outputs": [],
     "prompt_number": 24
    },
    {
     "cell_type": "code",
     "collapsed": false,
     "input": [
      "fig=plt.figure()\n",
      "plt.plot(ldt,qcts.smooth(ER_LT,window_len=240),'b.')\n",
      "plt.plot(ldt,qcts.smooth(ER_SOLO,window_len=240),'r+')\n",
      "plt.show()"
     ],
     "language": "python",
     "metadata": {},
     "outputs": [],
     "prompt_number": 25
    },
    {
     "cell_type": "code",
     "collapsed": false,
     "input": [
      "# *** start of code to estimate LRC parameters using fixed and free rb ***\n",
      "print 'Optimising fit for light response parameters using fixed and free rb...'\n",
      "# Now do daytime\n",
      "for date in step_date_array:\n",
      "    # Get Eo for the relevant year and write to the parameters dictionary\n",
      "    param_index = np.where(date_array == date)\n",
      "    # Subset the data and check length\n",
      "    sub_dict = subset_window(data_dict, step_date_index_dict[date])\n",
      "    # Subset the data and check length\n",
      "    sub_dict = subset_window(data_dict, step_date_index_dict[date])\n",
      "    day_dict = subset_daynight(sub_dict, noct_flag = False)\n",
      "    len_all_day = len(day_dict['NEE'])\n",
      "    day_dict = subset_nan(day_dict)\n",
      "    len_valid_day = len(day_dict['NEE'])"
     ],
     "language": "python",
     "metadata": {},
     "outputs": [],
     "prompt_number": 34
    },
    {
     "cell_type": "code",
     "collapsed": false,
     "input": [
      "# *** start of code to estimate GPP and ER from Lloyd-Taylor\n",
      "print 'Calculating time series from interpolated model parameters and drivers...'\n",
      "# Loop through interpolated data and construct the time series\n",
      "for ind, date in enumerate(date_array):\n",
      "    # Subset the data (single day)\n",
      "    sub_dict = part.subset_window(data_dict, all_date_index_dict[date])\n",
      "    # Get the indices for inserting the calculated data into the array\n",
      "    start_ind = all_date_index_dict[date][0]\n",
      "    end_ind = all_date_index_dict[date][1]\n",
      "    # For each parameter set, write current parameters to estimated\n",
      "    # parameters dictionary, then estimate the time series\n",
      "    swap_dict = {'Eo': 'Eo',\n",
      "                 'rb': 'rb_noct',\n",
      "                 "
     ],
     "language": "python",
     "metadata": {},
     "outputs": []
    }
   ],
   "metadata": {}
  }
 ]
}