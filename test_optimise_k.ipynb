{
 "metadata": {
  "name": "",
  "signature": "sha256:1f455ec93adc4c2478777156aa3340440a5fa9cb96f348718a4ccac03dad4cd6"
 },
 "nbformat": 3,
 "nbformat_minor": 0,
 "worksheets": [
  {
   "cells": [
    {
     "cell_type": "code",
     "collapsed": false,
     "input": [
      "%run basics\n",
      "import pytz\n",
      "import re\n",
      "%matplotlib"
     ],
     "language": "python",
     "metadata": {},
     "outputs": [
      {
       "output_type": "stream",
       "stream": "stdout",
       "text": [
        "Using matplotlib backend: Qt4Agg\n"
       ]
      }
     ],
     "prompt_number": 1
    },
    {
     "cell_type": "code",
     "collapsed": false,
     "input": [
      "def get_clearsky_Fsd(ddd,hhh,k,info):\n",
      "    longitude = info[\"longitude\"]\n",
      "    latitude = info[\"latitude\"]\n",
      "    altitude = info[\"altitude\"]\n",
      "    GMT_zone = info[\"GMT_zone\"]\n",
      "    eot = 0.17*numpy.sin(4*numpy.pi*(ddd-80)/373)-0.129*numpy.sin(2*numpy.pi*(ddd-8)/355)\n",
      "    solar_noon = 12+(GMT_zone*15.0-longitude)/360*24-eot\n",
      "    declination = numpy.radians(23.4)*numpy.sin((ddd+284)/365.0*2*numpy.pi)\n",
      "    Fsd_TOA = (1+0.034*numpy.cos(ddd/365.25*2*numpy.pi))*1367.0\n",
      "    hour_angle = abs(numpy.radians((solar_noon-hhh)*15))\n",
      "    zenith = numpy.arccos(numpy.sin(numpy.radians(latitude))*numpy.sin(declination)+\n",
      "                          numpy.cos(numpy.radians(latitude))*numpy.cos(declination)*\n",
      "                          numpy.cos(hour_angle))\n",
      "    zenith = numpy.ma.masked_greater_equal(zenith,numpy.pi/2)\n",
      "    air_mass_ratio = (numpy.exp(-1*altitude/8343.5)/\n",
      "                      (numpy.cos(zenith)+0.15*(numpy.degrees(90-zenith)+3.855)**-1.253))\n",
      "    Fsd_cs = Fsd_TOA*numpy.exp(-k*air_mass_ratio)*numpy.cos(zenith)\n",
      "    return Fsd_cs"
     ],
     "language": "python",
     "metadata": {},
     "outputs": [],
     "prompt_number": 2
    },
    {
     "cell_type": "code",
     "collapsed": false,
     "input": [
      "def residuals(params,Fsd_obs,ddd,hhh,info,weighted,weight_type):\n",
      "    k = params[0]\n",
      "    nDays = info[\"nDays\"]\n",
      "    ntsInDay = info[\"ntsInDay\"]\n",
      "    Fsd_obs_max = numpy.ma.max(Fsd_obs.reshape(nDays,ntsInDay),axis=0)\n",
      "    Fsd_cs = get_clearsky_Fsd(ddd,hhh,k,info)\n",
      "    Fsd_cs_max = numpy.ma.max(Fsd_cs.reshape(nDays,ntsInDay),axis=0)\n",
      "    resid = Fsd_obs_max - Fsd_cs_max\n",
      "    if weighted:\n",
      "        weights = CalculateWeights(resid,weight_type=weight_type)\n",
      "        return resid*weights\n",
      "    else:\n",
      "        return resid"
     ],
     "language": "python",
     "metadata": {},
     "outputs": [],
     "prompt_number": 3
    },
    {
     "cell_type": "code",
     "collapsed": false,
     "input": [
      "def irls_leastsq(func,p0,args=(),maxfev=3,weight_type='Huber',mode='verbose'):\n",
      "    weighted = False\n",
      "    popt,pcov = scipy.optimize.leastsq(func,p0,args=args+(weighted,weight_type))\n",
      "    if mode!=\"quiet\":\n",
      "        print 'After non-weighted call to leastsq: ',popt\n",
      "    n=1\n",
      "    weighted = True\n",
      "    while n<=maxfev:\n",
      "        popt,pcov = scipy.optimize.leastsq(func,popt,args=args+(weighted,weight_type))\n",
      "        if mode!=\"quiet\":\n",
      "            print 'Weighted call '+str(n)+' to leastsq: ',popt\n",
      "        n = n + 1\n",
      "    return popt,pcov\n",
      "\n",
      "def CalculateWeights(resid,weight_type='Huber'):\n",
      "    if weight_type.lower()=='tukey':\n",
      "        weights = TukeyBiweight(MAD_scale(resid))\n",
      "    elif weight_type.lower()=='huber':\n",
      "        weights = HuberTWeight(MAD_scale(resid))\n",
      "    elif weight_type.lower()=='ols':\n",
      "        weights = OLSWeight(MAD_scale(resid))\n",
      "    else:\n",
      "        print \"CalculateWeights: Unknown weight type, used Huber's t weight\"\n",
      "        weights = HuberTWeight(MAD_scale(resid))\n",
      "    return weights\n",
      "\n",
      "def TukeyBiweight(x):\n",
      "    return ((numpy.abs(x)<1.0)*(1.0 - x**2)**2)\n",
      "\n",
      "def HuberTWeight(x):\n",
      "    weights = numpy.ones(len(x))\n",
      "    idx = numpy.where(numpy.abs(x)>1.345)[0]\n",
      "    weights[idx] = 1.345/numpy.abs(x[idx])\n",
      "    return weights\n",
      "\n",
      "def OLSWeight(x):\n",
      "    weights = numpy.ones(len(x))\n",
      "    return weights\n",
      "\n",
      "def MAD_scale(resid):\n",
      "    scale = numpy.median(numpy.abs(resid - numpy.median(resid))) / 0.6745\n",
      "    return resid/scale"
     ],
     "language": "python",
     "metadata": {},
     "outputs": [],
     "prompt_number": 4
    },
    {
     "cell_type": "code",
     "collapsed": false,
     "input": [
      "# read the netCDF file\n",
      "ncname = qcio.get_filename_dialog()\n",
      "ds = qcio.nc_read_series(ncname)\n",
      "dt = ds.series[\"DateTime\"][\"Data\"]"
     ],
     "language": "python",
     "metadata": {},
     "outputs": [],
     "prompt_number": 19
    },
    {
     "cell_type": "code",
     "collapsed": false,
     "input": [
      "# create the info dictionary to hold useful stuff\n",
      "info = {}\n",
      "ts = int(ds.globalattributes[\"time_step\"])\n",
      "info[\"ntsInDay\"] = int(24.0*60.0/float(ts))\n",
      "info[\"longitude\"] = float(ds.globalattributes[\"longitude\"])\n",
      "info[\"latitude\"] = float(ds.globalattributes[\"latitude\"])\n",
      "if \"elevation\" in ds.globalattributes:\n",
      "    info[\"altitude\"] = int(re.sub(\"[^0123456789\\.]\",\"\",str(ds.globalattributes[\"elevation\"])))\n",
      "else:\n",
      "    info[\"altitude\"] = 1.0\n",
      "time_zone = ds.globalattributes[\"time_zone\"]\n",
      "tz = pytz.timezone(time_zone)\n",
      "cdt = datetime.datetime(2013,6,1,0,0,0)\n",
      "utcoffset = tz.utcoffset(cdt)\n",
      "info[\"GMT_zone\"] = utcoffset.seconds/float(3600)"
     ],
     "language": "python",
     "metadata": {},
     "outputs": [],
     "prompt_number": 20
    },
    {
     "cell_type": "code",
     "collapsed": false,
     "input": [
      "# do each year and month separately\n",
      "start_date = dt[0]\n",
      "end_date = start_date+dateutil.relativedelta.relativedelta(months=1)\n",
      "last_date = dt[-1]\n",
      "while start_date<last_date:\n",
      "    si = qcutils.GetDateIndex(dt,str(start_date),ts=ts,match=\"startnextday\",default=0)\n",
      "    ei = qcutils.GetDateIndex(dt,str(end_date),ts=ts,match=\"endpreviousday\",default=len(dt)-1)\n",
      "    mi = int((si+ei)/2)\n",
      "    info[\"nDays\"] = int((ei-si+1)/info[\"ntsInDay\"])\n",
      "    ddd,f,a = qcutils.GetSeries(ds,\"Ddd\",si=si,ei=ei)\n",
      "    hhh,f,a = qcutils.GetSeries(ds,\"Hdh\",si=si,ei=ei)\n",
      "    Fsd,f,a = qcutils.GetSeries(ds,\"Fsd\",si=si,ei=ei)\n",
      "    # correct decimal hour to refer to centre of period rather than end of period\n",
      "    hhh = hhh - float(ts)/(60.0*2)\n",
      "    popt,pcov = irls_leastsq(residuals,[0.27],args=(Fsd,ddd,hhh,info),maxfev=3,weight_type='huber',mode=\"quiet\")\n",
      "    print dt[si],dt[mi],dt[ei],popt[0]\n",
      "    start_date = end_date\n",
      "    end_date = start_date+dateutil.relativedelta.relativedelta(months=1)"
     ],
     "language": "python",
     "metadata": {},
     "outputs": [
      {
       "output_type": "stream",
       "stream": "stdout",
       "text": [
        "2011-12-02 00:30:00 2011-12-17 00:00:00 2012-01-01 00:00:00 0.171097494998\n",
        "2012-01-02 00:30:00"
       ]
      },
      {
       "output_type": "stream",
       "stream": "stdout",
       "text": [
        " 2012-01-17 00:00:00 2012-02-01 00:00:00 0.159090026949\n",
        "2012-02-02 00:30:00"
       ]
      },
      {
       "output_type": "stream",
       "stream": "stdout",
       "text": [
        " 2012-02-16 00:00:00 2012-03-01 00:00:00 0.169450041296\n",
        "2012-03-02 00:30:00"
       ]
      },
      {
       "output_type": "stream",
       "stream": "stdout",
       "text": [
        " 2012-03-17 00:00:00 2012-04-01 00:00:00 0.179720817963\n",
        "2012-04-02 00:30:00"
       ]
      },
      {
       "output_type": "stream",
       "stream": "stdout",
       "text": [
        " 2012-04-16 12:00:00 2012-05-01 00:00:00 0.18033042664\n",
        "2012-05-02 00:30:00"
       ]
      },
      {
       "output_type": "stream",
       "stream": "stdout",
       "text": [
        " 2012-05-17 00:00:00 2012-06-01 00:00:00 0.131008029484\n",
        "2012-06-02 00:30:00"
       ]
      },
      {
       "output_type": "stream",
       "stream": "stdout",
       "text": [
        " 2012-06-16 12:00:00 2012-07-01 00:00:00 0.106438051526\n",
        "2012-07-02 00:30:00"
       ]
      },
      {
       "output_type": "stream",
       "stream": "stdout",
       "text": [
        " 2012-07-17 00:00:00 2012-08-01 00:00:00 0.143160414167\n",
        "2012-08-02 00:30:00"
       ]
      },
      {
       "output_type": "stream",
       "stream": "stdout",
       "text": [
        " 2012-08-17 00:00:00 2012-09-01 00:00:00 0.194387476767\n",
        "2012-09-02 00:30:00"
       ]
      },
      {
       "output_type": "stream",
       "stream": "stdout",
       "text": [
        " 2012-09-16 12:00:00 2012-10-01 00:00:00 0.186718932064\n",
        "2012-10-02 00:30:00"
       ]
      },
      {
       "output_type": "stream",
       "stream": "stdout",
       "text": [
        " 2012-10-17 00:00:00 2012-11-01 00:00:00 0.195935651163\n",
        "2012-11-02 00:30:00"
       ]
      },
      {
       "output_type": "stream",
       "stream": "stdout",
       "text": [
        " 2012-11-16 12:00:00 2012-12-01 00:00:00 0.196132515937\n",
        "2012-12-02 00:30:00"
       ]
      },
      {
       "output_type": "stream",
       "stream": "stdout",
       "text": [
        " 2012-12-17 00:00:00 2013-01-01 00:00:00 0.17028889026\n",
        "2013-01-02 00:30:00"
       ]
      },
      {
       "output_type": "stream",
       "stream": "stdout",
       "text": [
        " 2013-01-17 00:00:00 2013-02-01 00:00:00 0.171752113462\n",
        "2013-02-02 00:30:00"
       ]
      },
      {
       "output_type": "stream",
       "stream": "stdout",
       "text": [
        " 2013-02-15 12:00:00 2013-03-01 00:00:00 0.190850385746\n",
        "2013-03-02 00:30:00"
       ]
      },
      {
       "output_type": "stream",
       "stream": "stdout",
       "text": [
        " 2013-03-17 00:00:00 2013-04-01 00:00:00 0.194417835938\n",
        "2013-04-02 00:30:00"
       ]
      },
      {
       "output_type": "stream",
       "stream": "stdout",
       "text": [
        " 2013-04-16 12:00:00 2013-05-01 00:00:00 0.169720038122\n",
        "2013-05-02 00:30:00"
       ]
      },
      {
       "output_type": "stream",
       "stream": "stdout",
       "text": [
        " 2013-05-17 00:00:00 2013-06-01 00:00:00 0.13543852573\n",
        "2013-06-02 00:30:00"
       ]
      },
      {
       "output_type": "stream",
       "stream": "stdout",
       "text": [
        " 2013-06-16 12:00:00 2013-07-01 00:00:00 0.120377278855\n",
        "2013-07-02 00:30:00"
       ]
      },
      {
       "output_type": "stream",
       "stream": "stdout",
       "text": [
        " 2013-07-17 00:00:00 2013-08-01 00:00:00 0.142257852545\n",
        "2013-08-02 00:30:00"
       ]
      },
      {
       "output_type": "stream",
       "stream": "stdout",
       "text": [
        " 2013-08-17 00:00:00 2013-09-01 00:00:00 0.170064739603\n",
        "2013-09-02 00:30:00"
       ]
      },
      {
       "output_type": "stream",
       "stream": "stdout",
       "text": [
        " 2013-09-16 12:00:00 2013-10-01 00:00:00 0.198225458732\n",
        "2013-10-02 00:30:00"
       ]
      },
      {
       "output_type": "stream",
       "stream": "stdout",
       "text": [
        " 2013-10-17 00:00:00 2013-11-01 00:00:00 0.177900742699\n",
        "2013-11-02 00:30:00"
       ]
      },
      {
       "output_type": "stream",
       "stream": "stdout",
       "text": [
        " 2013-11-16 12:00:00 2013-12-01 00:00:00 0.172072482029\n",
        "2013-12-02 00:30:00"
       ]
      },
      {
       "output_type": "stream",
       "stream": "stdout",
       "text": [
        " 2013-12-17 00:00:00 2014-01-01 00:00:00 0.165436125861\n",
        "2014-01-02 00:30:00"
       ]
      },
      {
       "output_type": "stream",
       "stream": "stdout",
       "text": [
        " 2014-01-17 00:00:00 2014-02-01 00:00:00 0.218111430381\n",
        "2014-02-02 00:30:00"
       ]
      },
      {
       "output_type": "stream",
       "stream": "stdout",
       "text": [
        " 2014-02-15 12:00:00 2014-03-01 00:00:00 0.177930944456\n",
        "2014-03-02 00:30:00"
       ]
      },
      {
       "output_type": "stream",
       "stream": "stdout",
       "text": [
        " 2014-03-17 00:00:00 2014-04-01 00:00:00 0.154725649696\n",
        "2014-04-02 00:30:00"
       ]
      },
      {
       "output_type": "stream",
       "stream": "stdout",
       "text": [
        " 2014-04-16 12:00:00 2014-05-01 00:00:00 0.176487991216\n",
        "2014-05-02 00:30:00"
       ]
      },
      {
       "output_type": "stream",
       "stream": "stdout",
       "text": [
        " 2014-05-17 00:00:00 2014-06-01 00:00:00 0.152442738512\n",
        "2014-06-02 00:30:00"
       ]
      },
      {
       "output_type": "stream",
       "stream": "stdout",
       "text": [
        " 2014-06-16 12:00:00 2014-07-01 00:00:00 0.123414390319\n",
        "2014-07-02 00:30:00"
       ]
      },
      {
       "output_type": "stream",
       "stream": "stdout",
       "text": [
        " 2014-07-17 00:00:00 2014-08-01 00:00:00 0.135694266875\n",
        "2014-08-02 00:30:00"
       ]
      },
      {
       "output_type": "stream",
       "stream": "stdout",
       "text": [
        " 2014-08-17 00:00:00 2014-09-01 00:00:00 0.154764248029\n",
        "2014-09-02 00:30:00"
       ]
      },
      {
       "output_type": "stream",
       "stream": "stdout",
       "text": [
        " 2014-09-16 12:00:00 2014-10-01 00:00:00 0.213097033399\n",
        "2014-10-02 00:30:00"
       ]
      },
      {
       "output_type": "stream",
       "stream": "stdout",
       "text": [
        " 2014-10-17 00:00:00 2014-11-01 00:00:00 0.177730930402\n",
        "2014-11-02 00:30:00"
       ]
      },
      {
       "output_type": "stream",
       "stream": "stdout",
       "text": [
        " 2014-11-16 12:00:00 2014-12-01 00:00:00 0.20347748754\n",
        "2014-12-02 00:30:00"
       ]
      },
      {
       "output_type": "stream",
       "stream": "stdout",
       "text": [
        " 2014-12-17 00:00:00 2015-01-01 00:00:00 0.16186171329\n",
        "2015-01-02 00:30:00"
       ]
      },
      {
       "output_type": "stream",
       "stream": "stdout",
       "text": [
        " 2015-01-17 00:00:00 2015-02-01 00:00:00 0.200833388298\n",
        "2015-02-02 00:30:00"
       ]
      },
      {
       "output_type": "stream",
       "stream": "stdout",
       "text": [
        " 2015-02-15 12:00:00 2015-03-01 00:00:00 0.179871759979\n",
        "2015-03-02 00:30:00"
       ]
      },
      {
       "output_type": "stream",
       "stream": "stdout",
       "text": [
        " 2015-03-17 00:00:00 2015-04-01 00:00:00 0.158640750227\n",
        "2015-04-02 00:30:00"
       ]
      },
      {
       "output_type": "stream",
       "stream": "stdout",
       "text": [
        " 2015-04-16 12:00:00 2015-05-01 00:00:00 0.151088766201\n",
        "2015-05-02 00:30:00"
       ]
      },
      {
       "output_type": "stream",
       "stream": "stdout",
       "text": [
        " 2015-05-17 00:00:00 2015-06-01 00:00:00 0.153895356243\n",
        "2015-06-02 00:30:00"
       ]
      },
      {
       "output_type": "stream",
       "stream": "stdout",
       "text": [
        " 2015-06-16 12:00:00 2015-07-01 00:00:00 0.12053151592\n",
        "2015-07-02 00:30:00"
       ]
      },
      {
       "output_type": "stream",
       "stream": "stdout",
       "text": [
        " 2015-07-05 00:00:00 2015-07-08 00:00:00 0.122633698109\n"
       ]
      }
     ],
     "prompt_number": 21
    },
    {
     "cell_type": "code",
     "collapsed": false,
     "input": [
      "month,f,a = qcutils.GetSeries(ds,\"Month\")\n",
      "ddd_all,f,a = qcutils.GetSeries(ds,\"Ddd\")\n",
      "hhh_all,f,a = qcutils.GetSeries(ds,\"Hdh\")\n",
      "Fsd_all,f,a = qcutils.GetSeries(ds,\"Fsd\")\n",
      "for m in range(1,13):\n",
      "    idx = numpy.where(month==m)[0]\n",
      "    ddd = ddd_all[idx]\n",
      "    hhh = hhh_all[idx]\n",
      "    Fsd = Fsd_all[idx]\n",
      "    info[\"nDays\"] = int(len(idx)/info[\"ntsInDay\"])\n",
      "    # correct decimal hour to refer to centre of period rather than end of period\n",
      "    hhh = hhh - float(ts)/(60.0*2)\n",
      "    popt,pcov = irls_leastsq(residuals,[0.27],args=(Fsd,ddd,hhh,info),maxfev=3,weight_type='huber',mode=\"quiet\")\n",
      "    print m,popt[0]"
     ],
     "language": "python",
     "metadata": {},
     "outputs": [
      {
       "output_type": "stream",
       "stream": "stdout",
       "text": [
        "1 0.127691800436\n",
        "2"
       ]
      },
      {
       "output_type": "stream",
       "stream": "stdout",
       "text": [
        " 0.153471734324\n",
        "3"
       ]
      },
      {
       "output_type": "stream",
       "stream": "stdout",
       "text": [
        " 0.139227758809\n",
        "4"
       ]
      },
      {
       "output_type": "stream",
       "stream": "stdout",
       "text": [
        " 0.140089763987\n",
        "5"
       ]
      },
      {
       "output_type": "stream",
       "stream": "stdout",
       "text": [
        " 0.119699030812\n",
        "6"
       ]
      },
      {
       "output_type": "stream",
       "stream": "stdout",
       "text": [
        " 0.0930729344311\n"
       ]
      },
      {
       "ename": "ValueError",
       "evalue": "total size of new array must be unchanged",
       "output_type": "pyerr",
       "traceback": [
        "\u001b[1;31m---------------------------------------------------------------------------\u001b[0m\n\u001b[1;31mValueError\u001b[0m                                Traceback (most recent call last)",
        "\u001b[1;32m<ipython-input-22-c93ff974d179>\u001b[0m in \u001b[0;36m<module>\u001b[1;34m()\u001b[0m\n\u001b[0;32m     11\u001b[0m     \u001b[1;31m# correct decimal hour to refer to centre of period rather than end of period\u001b[0m\u001b[1;33m\u001b[0m\u001b[1;33m\u001b[0m\u001b[0m\n\u001b[0;32m     12\u001b[0m     \u001b[0mhhh\u001b[0m \u001b[1;33m=\u001b[0m \u001b[0mhhh\u001b[0m \u001b[1;33m-\u001b[0m \u001b[0mfloat\u001b[0m\u001b[1;33m(\u001b[0m\u001b[0mts\u001b[0m\u001b[1;33m)\u001b[0m\u001b[1;33m/\u001b[0m\u001b[1;33m(\u001b[0m\u001b[1;36m60.0\u001b[0m\u001b[1;33m*\u001b[0m\u001b[1;36m2\u001b[0m\u001b[1;33m)\u001b[0m\u001b[1;33m\u001b[0m\u001b[0m\n\u001b[1;32m---> 13\u001b[1;33m     \u001b[0mpopt\u001b[0m\u001b[1;33m,\u001b[0m\u001b[0mpcov\u001b[0m \u001b[1;33m=\u001b[0m \u001b[0mirls_leastsq\u001b[0m\u001b[1;33m(\u001b[0m\u001b[0mresiduals\u001b[0m\u001b[1;33m,\u001b[0m\u001b[1;33m[\u001b[0m\u001b[1;36m0.27\u001b[0m\u001b[1;33m]\u001b[0m\u001b[1;33m,\u001b[0m\u001b[0margs\u001b[0m\u001b[1;33m=\u001b[0m\u001b[1;33m(\u001b[0m\u001b[0mFsd\u001b[0m\u001b[1;33m,\u001b[0m\u001b[0mddd\u001b[0m\u001b[1;33m,\u001b[0m\u001b[0mhhh\u001b[0m\u001b[1;33m,\u001b[0m\u001b[0minfo\u001b[0m\u001b[1;33m)\u001b[0m\u001b[1;33m,\u001b[0m\u001b[0mmaxfev\u001b[0m\u001b[1;33m=\u001b[0m\u001b[1;36m3\u001b[0m\u001b[1;33m,\u001b[0m\u001b[0mweight_type\u001b[0m\u001b[1;33m=\u001b[0m\u001b[1;34m'huber'\u001b[0m\u001b[1;33m,\u001b[0m\u001b[0mmode\u001b[0m\u001b[1;33m=\u001b[0m\u001b[1;34m\"quiet\"\u001b[0m\u001b[1;33m)\u001b[0m\u001b[1;33m\u001b[0m\u001b[0m\n\u001b[0m\u001b[0;32m     14\u001b[0m     \u001b[1;32mprint\u001b[0m \u001b[0mm\u001b[0m\u001b[1;33m,\u001b[0m\u001b[0mpopt\u001b[0m\u001b[1;33m[\u001b[0m\u001b[1;36m0\u001b[0m\u001b[1;33m]\u001b[0m\u001b[1;33m\u001b[0m\u001b[0m\n",
        "\u001b[1;32m<ipython-input-4-0f29344ef8af>\u001b[0m in \u001b[0;36mirls_leastsq\u001b[1;34m(func, p0, args, maxfev, weight_type, mode)\u001b[0m\n\u001b[0;32m      1\u001b[0m \u001b[1;32mdef\u001b[0m \u001b[0mirls_leastsq\u001b[0m\u001b[1;33m(\u001b[0m\u001b[0mfunc\u001b[0m\u001b[1;33m,\u001b[0m\u001b[0mp0\u001b[0m\u001b[1;33m,\u001b[0m\u001b[0margs\u001b[0m\u001b[1;33m=\u001b[0m\u001b[1;33m(\u001b[0m\u001b[1;33m)\u001b[0m\u001b[1;33m,\u001b[0m\u001b[0mmaxfev\u001b[0m\u001b[1;33m=\u001b[0m\u001b[1;36m3\u001b[0m\u001b[1;33m,\u001b[0m\u001b[0mweight_type\u001b[0m\u001b[1;33m=\u001b[0m\u001b[1;34m'Huber'\u001b[0m\u001b[1;33m,\u001b[0m\u001b[0mmode\u001b[0m\u001b[1;33m=\u001b[0m\u001b[1;34m'verbose'\u001b[0m\u001b[1;33m)\u001b[0m\u001b[1;33m:\u001b[0m\u001b[1;33m\u001b[0m\u001b[0m\n\u001b[0;32m      2\u001b[0m     \u001b[0mweighted\u001b[0m \u001b[1;33m=\u001b[0m \u001b[0mFalse\u001b[0m\u001b[1;33m\u001b[0m\u001b[0m\n\u001b[1;32m----> 3\u001b[1;33m     \u001b[0mpopt\u001b[0m\u001b[1;33m,\u001b[0m\u001b[0mpcov\u001b[0m \u001b[1;33m=\u001b[0m \u001b[0mscipy\u001b[0m\u001b[1;33m.\u001b[0m\u001b[0moptimize\u001b[0m\u001b[1;33m.\u001b[0m\u001b[0mleastsq\u001b[0m\u001b[1;33m(\u001b[0m\u001b[0mfunc\u001b[0m\u001b[1;33m,\u001b[0m\u001b[0mp0\u001b[0m\u001b[1;33m,\u001b[0m\u001b[0margs\u001b[0m\u001b[1;33m=\u001b[0m\u001b[0margs\u001b[0m\u001b[1;33m+\u001b[0m\u001b[1;33m(\u001b[0m\u001b[0mweighted\u001b[0m\u001b[1;33m,\u001b[0m\u001b[0mweight_type\u001b[0m\u001b[1;33m)\u001b[0m\u001b[1;33m)\u001b[0m\u001b[1;33m\u001b[0m\u001b[0m\n\u001b[0m\u001b[0;32m      4\u001b[0m     \u001b[1;32mif\u001b[0m \u001b[0mmode\u001b[0m\u001b[1;33m!=\u001b[0m\u001b[1;34m\"quiet\"\u001b[0m\u001b[1;33m:\u001b[0m\u001b[1;33m\u001b[0m\u001b[0m\n\u001b[0;32m      5\u001b[0m         \u001b[1;32mprint\u001b[0m \u001b[1;34m'After non-weighted call to leastsq: '\u001b[0m\u001b[1;33m,\u001b[0m\u001b[0mpopt\u001b[0m\u001b[1;33m\u001b[0m\u001b[0m\n",
        "\u001b[1;32m/home/peter/anaconda/lib/python2.7/site-packages/scipy/optimize/minpack.pyc\u001b[0m in \u001b[0;36mleastsq\u001b[1;34m(func, x0, args, Dfun, full_output, col_deriv, ftol, xtol, gtol, maxfev, epsfcn, factor, diag)\u001b[0m\n\u001b[0;32m    369\u001b[0m     \u001b[1;32mif\u001b[0m \u001b[1;32mnot\u001b[0m \u001b[0misinstance\u001b[0m\u001b[1;33m(\u001b[0m\u001b[0margs\u001b[0m\u001b[1;33m,\u001b[0m \u001b[0mtuple\u001b[0m\u001b[1;33m)\u001b[0m\u001b[1;33m:\u001b[0m\u001b[1;33m\u001b[0m\u001b[0m\n\u001b[0;32m    370\u001b[0m         \u001b[0margs\u001b[0m \u001b[1;33m=\u001b[0m \u001b[1;33m(\u001b[0m\u001b[0margs\u001b[0m\u001b[1;33m,\u001b[0m\u001b[1;33m)\u001b[0m\u001b[1;33m\u001b[0m\u001b[0m\n\u001b[1;32m--> 371\u001b[1;33m     \u001b[0mshape\u001b[0m\u001b[1;33m,\u001b[0m \u001b[0mdtype\u001b[0m \u001b[1;33m=\u001b[0m \u001b[0m_check_func\u001b[0m\u001b[1;33m(\u001b[0m\u001b[1;34m'leastsq'\u001b[0m\u001b[1;33m,\u001b[0m \u001b[1;34m'func'\u001b[0m\u001b[1;33m,\u001b[0m \u001b[0mfunc\u001b[0m\u001b[1;33m,\u001b[0m \u001b[0mx0\u001b[0m\u001b[1;33m,\u001b[0m \u001b[0margs\u001b[0m\u001b[1;33m,\u001b[0m \u001b[0mn\u001b[0m\u001b[1;33m)\u001b[0m\u001b[1;33m\u001b[0m\u001b[0m\n\u001b[0m\u001b[0;32m    372\u001b[0m     \u001b[0mm\u001b[0m \u001b[1;33m=\u001b[0m \u001b[0mshape\u001b[0m\u001b[1;33m[\u001b[0m\u001b[1;36m0\u001b[0m\u001b[1;33m]\u001b[0m\u001b[1;33m\u001b[0m\u001b[0m\n\u001b[0;32m    373\u001b[0m     \u001b[1;32mif\u001b[0m \u001b[0mn\u001b[0m \u001b[1;33m>\u001b[0m \u001b[0mm\u001b[0m\u001b[1;33m:\u001b[0m\u001b[1;33m\u001b[0m\u001b[0m\n",
        "\u001b[1;32m/home/peter/anaconda/lib/python2.7/site-packages/scipy/optimize/minpack.pyc\u001b[0m in \u001b[0;36m_check_func\u001b[1;34m(checker, argname, thefunc, x0, args, numinputs, output_shape)\u001b[0m\n\u001b[0;32m     18\u001b[0m def _check_func(checker, argname, thefunc, x0, args, numinputs,\n\u001b[0;32m     19\u001b[0m                 output_shape=None):\n\u001b[1;32m---> 20\u001b[1;33m     \u001b[0mres\u001b[0m \u001b[1;33m=\u001b[0m \u001b[0matleast_1d\u001b[0m\u001b[1;33m(\u001b[0m\u001b[0mthefunc\u001b[0m\u001b[1;33m(\u001b[0m\u001b[1;33m*\u001b[0m\u001b[1;33m(\u001b[0m\u001b[1;33m(\u001b[0m\u001b[0mx0\u001b[0m\u001b[1;33m[\u001b[0m\u001b[1;33m:\u001b[0m\u001b[0mnuminputs\u001b[0m\u001b[1;33m]\u001b[0m\u001b[1;33m,\u001b[0m\u001b[1;33m)\u001b[0m \u001b[1;33m+\u001b[0m \u001b[0margs\u001b[0m\u001b[1;33m)\u001b[0m\u001b[1;33m)\u001b[0m\u001b[1;33m)\u001b[0m\u001b[1;33m\u001b[0m\u001b[0m\n\u001b[0m\u001b[0;32m     21\u001b[0m     \u001b[1;32mif\u001b[0m \u001b[1;33m(\u001b[0m\u001b[0moutput_shape\u001b[0m \u001b[1;32mis\u001b[0m \u001b[1;32mnot\u001b[0m \u001b[0mNone\u001b[0m\u001b[1;33m)\u001b[0m \u001b[1;32mand\u001b[0m \u001b[1;33m(\u001b[0m\u001b[0mshape\u001b[0m\u001b[1;33m(\u001b[0m\u001b[0mres\u001b[0m\u001b[1;33m)\u001b[0m \u001b[1;33m!=\u001b[0m \u001b[0moutput_shape\u001b[0m\u001b[1;33m)\u001b[0m\u001b[1;33m:\u001b[0m\u001b[1;33m\u001b[0m\u001b[0m\n\u001b[0;32m     22\u001b[0m         \u001b[1;32mif\u001b[0m \u001b[1;33m(\u001b[0m\u001b[0moutput_shape\u001b[0m\u001b[1;33m[\u001b[0m\u001b[1;36m0\u001b[0m\u001b[1;33m]\u001b[0m \u001b[1;33m!=\u001b[0m \u001b[1;36m1\u001b[0m\u001b[1;33m)\u001b[0m\u001b[1;33m:\u001b[0m\u001b[1;33m\u001b[0m\u001b[0m\n",
        "\u001b[1;32m<ipython-input-3-2519171d024b>\u001b[0m in \u001b[0;36mresiduals\u001b[1;34m(params, Fsd_obs, ddd, hhh, info, weighted, weight_type)\u001b[0m\n\u001b[0;32m      3\u001b[0m     \u001b[0mnDays\u001b[0m \u001b[1;33m=\u001b[0m \u001b[0minfo\u001b[0m\u001b[1;33m[\u001b[0m\u001b[1;34m\"nDays\"\u001b[0m\u001b[1;33m]\u001b[0m\u001b[1;33m\u001b[0m\u001b[0m\n\u001b[0;32m      4\u001b[0m     \u001b[0mntsInDay\u001b[0m \u001b[1;33m=\u001b[0m \u001b[0minfo\u001b[0m\u001b[1;33m[\u001b[0m\u001b[1;34m\"ntsInDay\"\u001b[0m\u001b[1;33m]\u001b[0m\u001b[1;33m\u001b[0m\u001b[0m\n\u001b[1;32m----> 5\u001b[1;33m     \u001b[0mFsd_obs_max\u001b[0m \u001b[1;33m=\u001b[0m \u001b[0mnumpy\u001b[0m\u001b[1;33m.\u001b[0m\u001b[0mma\u001b[0m\u001b[1;33m.\u001b[0m\u001b[0mmax\u001b[0m\u001b[1;33m(\u001b[0m\u001b[0mFsd_obs\u001b[0m\u001b[1;33m.\u001b[0m\u001b[0mreshape\u001b[0m\u001b[1;33m(\u001b[0m\u001b[0mnDays\u001b[0m\u001b[1;33m,\u001b[0m\u001b[0mntsInDay\u001b[0m\u001b[1;33m)\u001b[0m\u001b[1;33m,\u001b[0m\u001b[0maxis\u001b[0m\u001b[1;33m=\u001b[0m\u001b[1;36m0\u001b[0m\u001b[1;33m)\u001b[0m\u001b[1;33m\u001b[0m\u001b[0m\n\u001b[0m\u001b[0;32m      6\u001b[0m     \u001b[0mFsd_cs\u001b[0m \u001b[1;33m=\u001b[0m \u001b[0mget_clearsky_Fsd\u001b[0m\u001b[1;33m(\u001b[0m\u001b[0mddd\u001b[0m\u001b[1;33m,\u001b[0m\u001b[0mhhh\u001b[0m\u001b[1;33m,\u001b[0m\u001b[0mk\u001b[0m\u001b[1;33m,\u001b[0m\u001b[0minfo\u001b[0m\u001b[1;33m)\u001b[0m\u001b[1;33m\u001b[0m\u001b[0m\n\u001b[0;32m      7\u001b[0m     \u001b[0mFsd_cs_max\u001b[0m \u001b[1;33m=\u001b[0m \u001b[0mnumpy\u001b[0m\u001b[1;33m.\u001b[0m\u001b[0mma\u001b[0m\u001b[1;33m.\u001b[0m\u001b[0mmax\u001b[0m\u001b[1;33m(\u001b[0m\u001b[0mFsd_cs\u001b[0m\u001b[1;33m.\u001b[0m\u001b[0mreshape\u001b[0m\u001b[1;33m(\u001b[0m\u001b[0mnDays\u001b[0m\u001b[1;33m,\u001b[0m\u001b[0mntsInDay\u001b[0m\u001b[1;33m)\u001b[0m\u001b[1;33m,\u001b[0m\u001b[0maxis\u001b[0m\u001b[1;33m=\u001b[0m\u001b[1;36m0\u001b[0m\u001b[1;33m)\u001b[0m\u001b[1;33m\u001b[0m\u001b[0m\n",
        "\u001b[1;31mValueError\u001b[0m: total size of new array must be unchanged"
       ]
      }
     ],
     "prompt_number": 22
    },
    {
     "cell_type": "code",
     "collapsed": false,
     "input": [],
     "language": "python",
     "metadata": {},
     "outputs": []
    }
   ],
   "metadata": {}
  }
 ]
}