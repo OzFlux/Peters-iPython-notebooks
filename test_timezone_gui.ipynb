{
 "metadata": {
  "name": "test_timezone_gui"
 }, 
 "nbformat": 2, 
 "worksheets": [
  {
   "cells": [
    {
     "cell_type": "code", 
     "collapsed": true, 
     "input": [
      "import Tkinter, tkSimpleDialog"
     ], 
     "language": "python", 
     "outputs": [], 
     "prompt_number": 1
    }, 
    {
     "cell_type": "code", 
     "collapsed": false, 
     "input": [
      "root = Tkinter.Tk(); root.withdraw()", 
      "time_zone = tkSimpleDialog.askstring(\"Time zone\",\"Enter time zone eg Australia/Melbourne\")", 
      "root.destroy()", 
      "print time_zone"
     ], 
     "language": "python", 
     "outputs": [
      {
       "output_type": "stream", 
       "stream": "stdout", 
       "text": [
        "Australia/Darwin"
       ]
      }
     ], 
     "prompt_number": 2
    }, 
    {
     "cell_type": "code", 
     "collapsed": true, 
     "input": [], 
     "language": "python", 
     "outputs": []
    }
   ]
  }
 ]
}