{
 "metadata": {
  "name": "",
  "signature": "sha256:d25d548783fae5a17a262185def6a9a5027cb4030fe958eeb27afbb3e4a96831"
 },
 "nbformat": 3,
 "nbformat_minor": 0,
 "worksheets": [
  {
   "cells": [
    {
     "cell_type": "code",
     "collapsed": false,
     "input": [
      "%run basics\n",
      "%matplotlib"
     ],
     "language": "python",
     "metadata": {},
     "outputs": [
      {
       "output_type": "stream",
       "stream": "stdout",
       "text": [
        "Using matplotlib backend: Qt4Agg\n"
       ]
      }
     ],
     "prompt_number": 1
    },
    {
     "cell_type": "code",
     "collapsed": false,
     "input": [
      "dingo_name = \"../../Sites/Whroo/Data/DINGO/V12a/Whroo_2011_to_2014_L6.nc\"\n",
      "ofqc_name = \"../../Sites/Whroo/Data/Processed/all/Whroo_2011_to_2014_L6.nc\""
     ],
     "language": "python",
     "metadata": {},
     "outputs": [],
     "prompt_number": 2
    },
    {
     "cell_type": "code",
     "collapsed": false,
     "input": [
      "ds_dingo = qcio.nc_read_series(dingo_name)\n",
      "ds_ofqc = qcio.nc_read_series(ofqc_name)\n",
      "dt_dingo = ds_dingo.series[\"DateTime\"][\"Data\"]\n",
      "dt_ofqc = ds_ofqc.series[\"DateTime\"][\"Data\"]\n",
      "ts = int(ds_ofqc.globalattributes[\"time_step\"])"
     ],
     "language": "python",
     "metadata": {},
     "outputs": [],
     "prompt_number": 3
    },
    {
     "cell_type": "code",
     "collapsed": false,
     "input": [
      "start_date = \"2011-01-01 00:30\"\n",
      "end_date = \"2015-01-01 00:00\"\n",
      "si_dingo = qcutils.GetDateIndex(dt_dingo,start_date,ts=ts,default=0,match=\"startnextday\")\n",
      "ei_dingo = qcutils.GetDateIndex(dt_dingo,end_date,ts=ts,default=len(dt_dingo)-1,match=\"endpreviousday\")\n",
      "si_ofqc = qcutils.GetDateIndex(dt_ofqc,start_date,ts=ts,default=0,match=\"startnextday\")\n",
      "ei_ofqc = qcutils.GetDateIndex(dt_ofqc,end_date,ts=ts,default=len(dt_ofqc)-1,match=\"endpreviousday\")\n",
      "print si_dingo,ei_dingo\n",
      "print si_ofqc,ei_ofqc"
     ],
     "language": "python",
     "metadata": {},
     "outputs": [],
     "prompt_number": 11
    },
    {
     "cell_type": "code",
     "collapsed": false,
     "input": [
      "ldt_dingo = dt_dingo[si_dingo:ei_dingo+1]\n",
      "ldt_ofqc = dt_ofqc[si_ofqc:ei_ofqc+1]\n",
      "NEE_dingo,f,a = qcutils.GetSeriesasMA(ds_dingo,\"NEE\",si=si_dingo,ei=ei_dingo)\n",
      "NEE_ofqc,f,a = qcutils.GetSeriesasMA(ds_ofqc,\"NEE_SOLO\",si=si_ofqc,ei=ei_ofqc)\n",
      "Fc_ofqc,f,a = qcutils.GetSeriesasMA(ds_ofqc,\"Fc\",si=si_ofqc,ei=ei_ofqc)\n",
      "ustar_ofqc,f,a = qcutils.GetSeriesasMA(ds_ofqc,\"ustar\",si=si_ofqc,ei=ei_ofqc)\n",
      "Fsd_ofqc,f,a = qcutils.GetSeriesasMA(ds_ofqc,\"Fsd\",si=si_ofqc,ei=ei_ofqc)"
     ],
     "language": "python",
     "metadata": {},
     "outputs": [],
     "prompt_number": 13
    },
    {
     "cell_type": "code",
     "collapsed": false,
     "input": [
      "Fre_obs = numpy.ma.masked_where((Fsd_ofqc>10)|(ustar_ofqc<0.25),Fc_ofqc)\n",
      "Fre_dingo = numpy.ma.masked_where((Fsd_ofqc>10)|(ustar_ofqc<0.25),NEE_dingo)\n",
      "Fre_ofqc = numpy.ma.masked_where((Fsd_ofqc>10)|(ustar_ofqc<0.25),NEE_ofqc)"
     ],
     "language": "python",
     "metadata": {},
     "outputs": [],
     "prompt_number": 14
    },
    {
     "cell_type": "code",
     "collapsed": false,
     "input": [
      "fig=plt.figure()\n",
      "plt.plot(ldt_ofqc,NEE_ofqc,'b.')\n",
      "plt.plot(ldt_ofqc,Fre_obs,'go')\n",
      "plt.plot(ldt_dingo,NEE_dingo,'r+')\n",
      "plt.show()"
     ],
     "language": "python",
     "metadata": {},
     "outputs": [],
     "prompt_number": 15
    },
    {
     "cell_type": "code",
     "collapsed": false,
     "input": [
      "nperhour = int(float(60)/float(ts)+0.5)\n",
      "nperday = int(float(24)*nperhour+0.5)\n",
      "ndays = int(len(ldt_ofqc)/nperday)\n",
      "ldt_daily = numpy.ma.reshape(ldt_ofqc,[ndays,nperday])\n",
      "Fre_obs_daily = numpy.ma.reshape(Fre_obs,[ndays,nperday])\n",
      "Fre_dingo_daily = numpy.ma.reshape(Fre_dingo,[ndays,nperday])\n",
      "Fre_ofqc_daily = numpy.ma.reshape(Fre_ofqc,[ndays,nperday])\n",
      "Fre_obs_daily_avg = numpy.ma.average(Fre_obs_daily,axis=1)\n",
      "Fre_dingo_daily_avg = numpy.ma.average(Fre_dingo_daily,axis=1)\n",
      "Fre_ofqc_daily_avg = numpy.ma.average(Fre_ofqc_daily,axis=1)\n",
      "fig=plt.figure()\n",
      "plt.plot(ldt_daily[:,0],Fre_ofqc_daily_avg,'b.')\n",
      "plt.plot(ldt_daily[:,0],Fre_obs_daily_avg,'go')\n",
      "plt.plot(ldt_daily[:,0],Fre_dingo_daily_avg,'r+')\n",
      "plt.show()"
     ],
     "language": "python",
     "metadata": {},
     "outputs": [],
     "prompt_number": 16
    },
    {
     "cell_type": "code",
     "collapsed": false,
     "input": [
      "NEE_dingo_night = numpy.ma.masked_where(Fsd_ofqc>10,NEE_dingo)\n",
      "NEE_ofqc_night = numpy.ma.masked_where(Fsd_ofqc>10,NEE_ofqc)\n",
      "NEE_dingo_night_daily = numpy.ma.reshape(NEE_dingo_night,[ndays,nperday])\n",
      "NEE_ofqc_night_daily = numpy.ma.reshape(NEE_ofqc_night,[ndays,nperday])\n",
      "NEE_dingo_night_daily_avg = numpy.ma.average(NEE_dingo_night_daily,axis=1)\n",
      "NEE_ofqc_night_daily_avg = numpy.ma.average(NEE_ofqc_night_daily,axis=1)\n",
      "fig=plt.figure()\n",
      "plt.plot(ldt_daily[:,0],NEE_ofqc_night_daily_avg,'b.')\n",
      "plt.plot(ldt_daily[:,0],Fre_obs_daily_avg,'go')\n",
      "plt.plot(ldt_daily[:,0],NEE_dingo_night_daily_avg,'r+')\n",
      "plt.show()"
     ],
     "language": "python",
     "metadata": {},
     "outputs": [],
     "prompt_number": 17
    },
    {
     "cell_type": "code",
     "collapsed": false,
     "input": [
      "Fre_obs_daily_avg_mt15 = numpy.ma.masked_where(numpy.ma.count(Fre_obs_daily,axis=1)<15,Fre_obs_daily_avg)\n",
      "fig=plt.figure()\n",
      "plt.plot(ldt_daily[:,0],NEE_ofqc_night_daily_avg,'b.')\n",
      "plt.plot(ldt_daily[:,0],Fre_obs_daily_avg_mt15,'go')\n",
      "plt.plot(ldt_daily[:,0],NEE_dingo_night_daily_avg,'r+')\n",
      "plt.show()"
     ],
     "language": "python",
     "metadata": {},
     "outputs": [],
     "prompt_number": 34
    },
    {
     "cell_type": "code",
     "collapsed": false,
     "input": [
      "print numpy.ma.sum(Fre_obs_daily_avg_mt15-NEE_ofqc_night_daily_avg),numpy.ma.sum(Fre_obs_daily_avg_mt15-NEE_dingo_night_daily_avg)"
     ],
     "language": "python",
     "metadata": {},
     "outputs": [
      {
       "output_type": "stream",
       "stream": "stdout",
       "text": [
        "-21.0808367218 -93.700227942\n"
       ]
      }
     ],
     "prompt_number": 11
    },
    {
     "cell_type": "code",
     "collapsed": false,
     "input": [
      "print numpy.ma.sum(NEE_ofqc),numpy.ma.sum(NEE_dingo)"
     ],
     "language": "python",
     "metadata": {},
     "outputs": [
      {
       "output_type": "stream",
       "stream": "stdout",
       "text": [
        "-75546.8538883 -69303.9435135\n"
       ]
      }
     ],
     "prompt_number": 12
    },
    {
     "cell_type": "code",
     "collapsed": false,
     "input": [
      "Year_dingo,f,a = qcutils.GetSeriesasMA(ds_dingo,\"Year\")\n",
      "NEE_dingo,f,a = qcutils.GetSeriesasMA(ds_dingo,\"NEE\")\n",
      "GPP_dingo,f,a = qcutils.GetSeriesasMA(ds_dingo,\"GPP\")\n",
      "Fre_dingo,f,a = qcutils.GetSeriesasMA(ds_dingo,\"Fre\")\n",
      "Year_ofqc,f,a = qcutils.GetSeriesasMA(ds_ofqc,\"Year\")\n",
      "NEE_ofqc,f,a = qcutils.GetSeriesasMA(ds_ofqc,\"NEE_SOLO\")\n",
      "GPP_ofqc,f,a = qcutils.GetSeriesasMA(ds_ofqc,\"GPP_SOLO\")\n",
      "Fre_ofqc,f,a = qcutils.GetSeriesasMA(ds_ofqc,\"Fre_SOLO\")\n",
      "year_list = [2008,2009,2010,2011,2012,2013,2014]\n",
      "for year in year_list:\n",
      "    ind_dingo = numpy.ma.where(Year_dingo==year)[0]\n",
      "    NEE_dingo_year = NEE_dingo[ind_dingo]\n",
      "    GPP_dingo_year = GPP_dingo[ind_dingo]\n",
      "    Fre_dingo_year = Fre_dingo[ind_dingo]\n",
      "    ind_ofqc = numpy.ma.where(Year_ofqc==year)[0]\n",
      "    NEE_ofqc_year = NEE_ofqc[ind_ofqc]\n",
      "    GPP_ofqc_year = GPP_ofqc[ind_ofqc]\n",
      "    Fre_ofqc_year = Fre_ofqc[ind_ofqc]\n",
      "    print year,numpy.ma.sum(NEE_dingo_year),numpy.ma.sum(NEE_ofqc_year),\\\n",
      "               numpy.ma.sum(GPP_dingo_year),numpy.ma.sum(GPP_ofqc_year),\\\n",
      "               numpy.ma.sum(Fre_dingo_year),numpy.ma.sum(Fre_ofqc_year)\n"
     ],
     "language": "python",
     "metadata": {},
     "outputs": [
      {
       "output_type": "stream",
       "stream": "stdout",
       "text": [
        "2008 -- 0.0 -- 0.0 -- 0.0\n",
        "2009 -- 0.0 -- 0.0 -- 0.0\n",
        "2010 -- 0.0 -- 0.0 -- 0.0\n",
        "2011 -2542.27565658 -2724.07589936 -6837.7041331 6683.86811878 4295.42847653 3959.79\n",
        "2012 -13071.1520101 -14010.9729386 -59165.941426 55219.7499531 46094.7894159 41208.8\n",
        "2013 -9643.81973637 -14891.6924913 -55565.6626663 49482.030716 45921.8429299 34590.3\n",
        "2014 -17992.7975269 -19114.4759544 -61576.353793 60912.245213 45074.7722054 41797.8\n"
       ]
      }
     ],
     "prompt_number": 18
    },
    {
     "cell_type": "code",
     "collapsed": false,
     "input": [],
     "language": "python",
     "metadata": {},
     "outputs": []
    }
   ],
   "metadata": {}
  }
 ]
}