{
 "cells": [
  {
   "cell_type": "code",
   "execution_count": 1,
   "metadata": {
    "collapsed": false
   },
   "outputs": [
    {
     "name": "stdout",
     "output_type": "stream",
     "text": [
      "Using matplotlib backend: Qt4Agg\n"
     ]
    }
   ],
   "source": [
    "%run basics\n",
    "%matplotlib"
   ]
  },
  {
   "cell_type": "code",
   "execution_count": 2,
   "metadata": {
    "collapsed": true
   },
   "outputs": [],
   "source": [
    "log = logging.getLogger('test')"
   ]
  },
  {
   "cell_type": "code",
   "execution_count": 3,
   "metadata": {
    "collapsed": true
   },
   "outputs": [],
   "source": [
    "def ApplyTurbulenceFilter(cf,ds):\n",
    "    \"\"\"\n",
    "    Purpose:\n",
    "    Usage:\n",
    "    Author:\n",
    "    Date:\n",
    "    \"\"\"\n",
    "    opt = ApplyTurbulenceFilter_checks(cf,ds)\n",
    "    if not opt[\"OK\"]: return\n",
    "    # local point to datetime series\n",
    "    ldt = ds.series[\"DateTime\"][\"Data\"]\n",
    "    # time step\n",
    "    ts = int(ds.globalattributes[\"time_step\"])\n",
    "    # dictionary of utar thresold values\n",
    "    ustar_dict = qcrp.get_ustar_thresholds(cf,ldt)\n",
    "    # initialise a dictionary for the indicator series\n",
    "    indicators = {}\n",
    "    # get data for the indicator series\n",
    "    ustar,ustar_flag,ustar_attr = qcutils.GetSeriesasMA(ds,\"ustar\")\n",
    "    Fsd,f,a = qcutils.GetSeriesasMA(ds,\"Fsd\")\n",
    "    if \"solar_altitude\" not in ds.series.keys(): qcts.get_synthetic_fsd(ds)\n",
    "    Fsd_syn,f,a = qcutils.GetSeriesasMA(ds,\"Fsd_syn\")\n",
    "    sa,f,a = qcutils.GetSeriesasMA(ds,\"solar_altitude\")\n",
    "    # get the turbulence indicator series\n",
    "    if opt[\"turbulence_filter\"].lower()==\"ustar\":\n",
    "        # indicators[\"turbulence\"] = 1 ==> turbulent, indicators[\"turbulence\"] = 0 ==> not turbulent\n",
    "        indicators[\"turbulence\"] = qcrp.get_turbulence_indicator_ustar(ldt,ustar,ustar_dict,ts)\n",
    "    elif opt[\"turbulence_filter\"].lower()==\"l\":\n",
    "        #indicators[\"turbulence] = get_turbulence_indicator_l(ldt,L,z,d,zmdonL_threshold)\n",
    "        indicators[\"turbulence\"] = numpy.ones(len(ldt))\n",
    "        msg = \" Use of L as turbulence indicator not implemented, no filter applied\"\n",
    "        log.warning(msg)\n",
    "    else:\n",
    "        msg = \" Unrecognised turbulence filter option (\"\n",
    "        msg = msg+opt[\"turbulence_filter\"]+\"), no filter applied\"\n",
    "        log.error(msg)\n",
    "        return\n",
    "    # initialise the final indicator series as the turbulence indicator\n",
    "    # subsequent filters will modify the final indicator series\n",
    "    indicators[\"final\"] = indicators[\"turbulence\"].copy()\n",
    "    # get the day/night indicator series\n",
    "    # indicators[\"day\"] = 1 ==> day time, indicators[\"day\"] = 0 ==> night time\n",
    "    indicators[\"day\"] = qcrp.get_day_indicator(cf,Fsd,Fsd_syn,sa)\n",
    "    if opt[\"accept_day_times\"].lower()==\"yes\":\n",
    "        idx = numpy.where(indicators[\"day\"][\"values\"]==1)[0]\n",
    "        indicators[\"final\"][\"values\"][idx] = numpy.int(1)\n",
    "        indicators[\"final\"][\"attr\"].update(indicators[\"day\"][\"attr\"])\n",
    "    # get the evening indicator series\n",
    "    indicators[\"evening\"] = qcrp.get_evening_indicator(cf,Fsd,Fsd_syn,sa,ts)\n",
    "    indicators[\"dayevening\"] = {\"values\":indicators[\"day\"][\"values\"]+indicators[\"evening\"][\"values\"]}\n",
    "    indicators[\"dayevening\"][\"attr\"] = indicators[\"day\"][\"attr\"].copy()\n",
    "    indicators[\"dayevening\"][\"attr\"].update(indicators[\"evening\"][\"attr\"])\n",
    "    if opt[\"use_evening_filter\"].lower()==\"yes\":\n",
    "        idx = numpy.where(indicators[\"dayevening\"][\"values\"]==0)[0]\n",
    "        indicators[\"final\"][\"values\"][idx] = numpy.int(0)\n",
    "        indicators[\"final\"][\"attr\"].update(indicators[\"dayevening\"][\"attr\"])\n",
    "    # save the indicator series\n",
    "    ind_flag = numpy.zeros(len(ldt))\n",
    "    long_name = \"Turbulence indicator, 1 for turbulent, 0 for non-turbulent\"\n",
    "    ind_attr = qcutils.MakeAttributeDictionary(long_name=long_name,units=\"None\")\n",
    "    qcutils.CreateSeries(ds,\"turbulence_indicator\",indicators[\"turbulence\"][\"values\"],Flag=ind_flag,Attr=ind_attr)\n",
    "    long_name = \"Day indicator, 1 for day time, 0 for night time\"\n",
    "    ind_attr = qcutils.MakeAttributeDictionary(long_name=long_name,units=\"None\")\n",
    "    qcutils.CreateSeries(ds,\"day_indicator\",indicators[\"day\"][\"values\"],Flag=ind_flag,Attr=ind_attr)\n",
    "    long_name = \"Evening indicator, 1 for evening, 0 for not evening\"\n",
    "    ind_attr = qcutils.MakeAttributeDictionary(long_name=long_name,units=\"None\")\n",
    "    qcutils.CreateSeries(ds,\"evening_indicator\",indicators[\"evening\"][\"values\"],Flag=ind_flag,Attr=ind_attr)\n",
    "    long_name = \"Day/evening indicator, 1 for day/evening, 0 for not day/evening\"\n",
    "    ind_attr = qcutils.MakeAttributeDictionary(long_name=long_name,units=\"None\")\n",
    "    qcutils.CreateSeries(ds,\"dayevening_indicator\",indicators[\"dayevening\"][\"values\"],Flag=ind_flag,Attr=ind_attr)\n",
    "    long_name = \"Final indicator, 1 for use data, 0 for don't use data\"\n",
    "    ind_attr = qcutils.MakeAttributeDictionary(long_name=long_name,units=\"None\")\n",
    "    qcutils.CreateSeries(ds,\"final_indicator\",indicators[\"final\"][\"values\"],Flag=ind_flag,Attr=ind_attr)\n",
    "    # loop over the series to be filtered\n",
    "    for series in opt[\"filter_list\"]:\n",
    "        msg = \" Applying \"+opt[\"turbulence_filter\"]+\" filter to \"+series\n",
    "        log.info(msg)\n",
    "        # get the data\n",
    "        data,flag,attr = qcutils.GetSeriesasMA(ds,series)\n",
    "        # continue to next series if this series has been filtered before\n",
    "        if \"turbulence_filter\" in attr:\n",
    "            msg = \" Series \"+series+\" has already been filtered, skipping ...\"\n",
    "            log.warning(msg)\n",
    "            continue\n",
    "        # save the non-filtered data\n",
    "        qcutils.CreateSeries(ds,series+\"_nofilter\",data,Flag=flag,Attr=attr)\n",
    "        # now apply the filter\n",
    "        data_filtered = numpy.ma.masked_where(indicators[\"final\"][\"values\"]==0,data,copy=True)\n",
    "        # update the series attributes\n",
    "        for item in indicators[\"final\"][\"attr\"].keys():\n",
    "            attr[item] = indicators[\"final\"][\"attr\"][item]\n",
    "        # and write the filtered datas to the data structure\n",
    "        qcutils.CreateSeries(ds,series,data_filtered,Flag=flag,Attr=attr)\n",
    "        # and write a copy of the filtered datas to the data structure so it\n",
    "        # will still exist once the gap filling has been done\n",
    "        qcutils.CreateSeries(ds,series+\"_filtered\",data_filtered,Flag=flag,Attr=attr)\n",
    "    return"
   ]
  },
  {
   "cell_type": "code",
   "execution_count": 4,
   "metadata": {
    "collapsed": true
   },
   "outputs": [],
   "source": [
    "def ApplyTurbulenceFilter_checks(cf,ds):\n",
    "    \"\"\"\n",
    "    Purpose:\n",
    "    Usage:\n",
    "    Author:\n",
    "    Date:\n",
    "    \"\"\"\n",
    "    opt = {\"OK\":True,\"turbulence_filter\":\"ustar\",\"filter_list\":['Fc']}\n",
    "    # return if there is no Options section in control file\n",
    "    if \"Options\" not in cf:\n",
    "        msg = \" ApplyTurbulenceFilter: Options section not found in control file\"\n",
    "        log.warning(msg)\n",
    "        opt[\"OK\"] = False\n",
    "        return opt\n",
    "    # get the value of the TurbulenceFilter key in the Options section\n",
    "    opt[\"turbulence_filter\"] = qcutils.get_keyvaluefromcf(cf,[\"Options\"],\"TurbulenceFilter\",default=\"None\")\n",
    "    # return if turbulence filter disabled\n",
    "    if opt[\"turbulence_filter\"].lower()==\"none\":\n",
    "        msg = \" Turbulence filter disabled in control file\"\n",
    "        log.warning(msg)\n",
    "        opt[\"OK\"] = False\n",
    "        return opt\n",
    "    # check to see if filter type can be handled\n",
    "    if opt[\"turbulence_filter\"].lower() not in [\"ustar\",\"l\"]:\n",
    "        msg = \" Unrecognised turbulence filter option (\"\n",
    "        msg = msg+opt[\"turbulence_filter\"]+\"), no filter applied\"\n",
    "        log.error(msg)\n",
    "        opt[\"OK\"] = False\n",
    "        return opt\n",
    "    # get the list of series to be filtered\n",
    "    if \"FilterList\" in cf[\"Options\"]:\n",
    "        opt[\"filter_list\"] = ast.literal_eval(cf[\"Options\"][\"FilterList\"])\n",
    "    # check to see if the series are in the data structure\n",
    "    for item in opt[\"filter_list\"]:\n",
    "        if item not in ds.series.keys():\n",
    "            msg = \" Series \"+item+\" given in FilterList not found in data stucture\"\n",
    "            log.warning(msg)\n",
    "            opt[\"filter_list\"].remove(item)\n",
    "    # return if the filter list is empty\n",
    "    if len(opt[\"filter_list\"])==0:\n",
    "        msg = \" FilterList in control file is empty, skipping turbulence filter\"\n",
    "        log.warning(msg)\n",
    "        opt[\"OK\"] = False\n",
    "        return opt\n",
    "    # get the value of the DayNightFilter key in the Options section\n",
    "    opt[\"daynight_filter\"] = qcutils.get_keyvaluefromcf(cf,[\"Options\"],\"DayNightFilter\",default=\"None\")\n",
    "    # check to see if filter type can be handled\n",
    "    if opt[\"daynight_filter\"].lower() not in [\"fsd\",\"sa\",\"none\"]:\n",
    "        msg = \" Unrecognised day/night filter option (\"\n",
    "        msg = msg+opt[\"daynight_filter\"]+\"), no filter applied\"\n",
    "        log.error(msg)\n",
    "        opt[\"OK\"] = False\n",
    "        return opt\n",
    "    # check to see if all day time values are to be accepted\n",
    "    opt[\"accept_day_times\"] = qcutils.get_keyvaluefromcf(cf,[\"Options\"],\"AcceptDayTimes\",default=\"Yes\")\n",
    "    opt[\"use_evening_filter\"] = qcutils.get_keyvaluefromcf(cf,[\"Options\"],\"UseEveningFilter\",default=\"Yes\")\n",
    "    \n",
    "    return opt"
   ]
  },
  {
   "cell_type": "code",
   "execution_count": 5,
   "metadata": {
    "collapsed": true
   },
   "outputs": [],
   "source": [
    "cf = qcio.load_controlfile(path='controlfiles')\n",
    "infilename = qcio.get_infilenamefromcf(cf)\n",
    "ds4 = qcio.nc_read_series(infilename)\n",
    "ds5 = qcio.copy_datastructure(cf,ds4)\n",
    "ds_alt = {}\n",
    "for ThisOne in cf[\"Fluxes\"].keys():\n",
    "    qcgf.GapFillParseControlFile(cf,ds5,ThisOne,ds_alt)"
   ]
  },
  {
   "cell_type": "code",
   "execution_count": 6,
   "metadata": {
    "collapsed": false
   },
   "outputs": [],
   "source": [
    "ApplyTurbulenceFilter(cf,ds5)"
   ]
  },
  {
   "cell_type": "code",
   "execution_count": 7,
   "metadata": {
    "collapsed": false
   },
   "outputs": [],
   "source": [
    "ldt = ds5.series[\"DateTime\"][\"Data\"]\n",
    "ustar,f,a = qcutils.GetSeriesasMA(ds5,\"ustar\")\n",
    "Fsd,f,a = qcutils.GetSeriesasMA(ds5,\"Fsd\")\n",
    "day_indicator,f,a = qcutils.GetSeriesasMA(ds5,\"day_indicator\")\n",
    "final_indicator,f,a = qcutils.GetSeriesasMA(ds5,\"final_indicator\")\n",
    "fig=plt.figure(figsize=(24,6))\n",
    "ax1 = plt.subplot(411)\n",
    "plt.plot(ldt,ustar,'b.')\n",
    "plt.axhline(y=0.4,linewidth=2,color='r')\n",
    "ax2 = plt.subplot(412,sharex=ax1)\n",
    "plt.plot(ldt,Fsd,'b.')\n",
    "plt.axhline(y=10,linewidth=2,color='r')\n",
    "ax3 = plt.subplot(413,sharex=ax1)\n",
    "plt.plot(ldt,day_indicator,'b.')\n",
    "plt.ylim([-0.5,1.5])\n",
    "ax4 = plt.subplot(414,sharex=ax1)\n",
    "plt.plot(ldt,final_indicator,'b.')\n",
    "plt.ylim([-0.5,1.5])\n",
    "plt.tight_layout()\n",
    "plt.show()"
   ]
  },
  {
   "cell_type": "code",
   "execution_count": null,
   "metadata": {
    "collapsed": true
   },
   "outputs": [],
   "source": [
    "outfilename = qcio.get_outfilenamefromcf(cf)\n",
    "outfilename.replace(\".nc\",\"_test.nc\")\n",
    "ncFile = qcio.nc_open_write(outfilename.replace(\".nc\",\"_test.nc\"))\n",
    "outputlist = qcio.get_outputlistfromcf(cf,'nc')\n",
    "qcio.nc_write_series(ncFile,ds5)"
   ]
  },
  {
   "cell_type": "code",
   "execution_count": null,
   "metadata": {
    "collapsed": true
   },
   "outputs": [],
   "source": []
  }
 ],
 "metadata": {
  "kernelspec": {
   "display_name": "Python 2",
   "language": "python",
   "name": "python2"
  },
  "language_info": {
   "codemirror_mode": {
    "name": "ipython",
    "version": 2
   },
   "file_extension": ".py",
   "mimetype": "text/x-python",
   "name": "python",
   "nbconvert_exporter": "python",
   "pygments_lexer": "ipython2",
   "version": "2.7.11"
  }
 },
 "nbformat": 4,
 "nbformat_minor": 0
}
