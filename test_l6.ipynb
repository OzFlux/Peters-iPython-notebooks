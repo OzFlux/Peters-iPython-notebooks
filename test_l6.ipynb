{
 "metadata": {
  "name": "",
  "signature": "sha256:ceab8a3856a165143ce56afcc5770f8831ebb3a31cd4c0aec62d6127aa60264d"
 },
 "nbformat": 3,
 "nbformat_minor": 0,
 "worksheets": [
  {
   "cells": [
    {
     "cell_type": "code",
     "collapsed": false,
     "input": [
      "%run basics\n",
      "%matplotlib"
     ],
     "language": "python",
     "metadata": {},
     "outputs": [
      {
       "output_type": "stream",
       "stream": "stdout",
       "text": [
        "Using matplotlib backend: Qt4Agg\n"
       ]
      }
     ],
     "prompt_number": 1
    },
    {
     "cell_type": "code",
     "collapsed": false,
     "input": [
      "cf = qcio.load_controlfile()"
     ],
     "language": "python",
     "metadata": {},
     "outputs": [],
     "prompt_number": 2
    },
    {
     "cell_type": "code",
     "collapsed": false,
     "input": [
      "file_path = qcutils.get_keyvaluefromcf(cf,[\"Files\"],\"file_path\")\n",
      "infilename = qcutils.get_keyvaluefromcf(cf,[\"Files\"],\"in_filename\")\n",
      "l5name = file_path+infilename\n",
      "print l5name\n",
      "ds5 = qcio.nc_read_series(l5name)"
     ],
     "language": "python",
     "metadata": {},
     "outputs": [
      {
       "output_type": "stream",
       "stream": "stdout",
       "text": [
        "../Sites/Tumbarumba/Data/Processed/all/Tumbarumba_L5.nc\n"
       ]
      }
     ],
     "prompt_number": 3
    },
    {
     "cell_type": "code",
     "collapsed": false,
     "input": [
      "ds6 = qcio.copy_datastructure(cf,ds5)"
     ],
     "language": "python",
     "metadata": {},
     "outputs": [],
     "prompt_number": 4
    },
    {
     "cell_type": "code",
     "collapsed": false,
     "input": [
      "qcutils.UpdateGlobalAttributes(cf,ds6,\"L6\")"
     ],
     "language": "python",
     "metadata": {},
     "outputs": [],
     "prompt_number": 5
    },
    {
     "cell_type": "code",
     "collapsed": false,
     "input": [
      "qcrp.ParseL6ControlFile(cf,ds6)"
     ],
     "language": "python",
     "metadata": {},
     "outputs": [],
     "prompt_number": 6
    },
    {
     "cell_type": "code",
     "collapsed": false,
     "input": [
      "qcgf.ImportSeries(cf,ds6)"
     ],
     "language": "python",
     "metadata": {},
     "outputs": [],
     "prompt_number": 7
    },
    {
     "cell_type": "code",
     "collapsed": false,
     "input": [
      "if (\"Fsd_syn\" not in ds6.series.keys() or\n",
      "    \"solar_altitude\" not in ds6.series.keys()): qcts.get_synthetic_fsd(ds6)"
     ],
     "language": "python",
     "metadata": {},
     "outputs": [],
     "prompt_number": 8
    },
    {
     "cell_type": "code",
     "collapsed": false,
     "input": [
      "qcrp.GetFreFromFc(cf,ds6)"
     ],
     "language": "python",
     "metadata": {},
     "outputs": [
      {
       "output_type": "stream",
       "stream": "stderr",
       "text": [
        "WARNING:qc.rp: CPD results filename not in control file\n"
       ]
      }
     ],
     "prompt_number": 9
    },
    {
     "cell_type": "code",
     "collapsed": false,
     "input": [
      "Fre,Fre_flag,Fre_attr=qcutils.GetSeries(ds6,\"Fre\")\n",
      "Fc,Fc_flag,Fc_attr=qcutils.GetSeries(ds6,\"Fc\")\n",
      "print min(Fre),min(Fc)\n",
      "print 8 in Fre_flag,8 in Fc_flag\n",
      "index = numpy.where(Fre==-9999)[0]\n",
      "print len(Fre),len(index)"
     ],
     "language": "python",
     "metadata": {},
     "outputs": [
      {
       "output_type": "stream",
       "stream": "stdout",
       "text": [
        "-9999.0 -49.2868841748\n",
        "False False\n",
        "122710 114993\n"
       ]
      }
     ],
     "prompt_number": 10
    },
    {
     "cell_type": "code",
     "collapsed": false,
     "input": [
      "qcrp.FreUsingSOLO(cf,ds6)"
     ],
     "language": "python",
     "metadata": {},
     "outputs": [],
     "prompt_number": 11
    },
    {
     "cell_type": "code",
     "collapsed": false,
     "input": [
      "Fre_SOLO_all,f,a=qcutils.GetSeries(ds6,\"Fre_SOLO_all\")\n",
      "print min(Fre_SOLO_all)"
     ],
     "language": "python",
     "metadata": {},
     "outputs": [
      {
       "output_type": "stream",
       "stream": "stdout",
       "text": [
        "-1.7243\n"
       ]
      }
     ],
     "prompt_number": 12
    },
    {
     "cell_type": "code",
     "collapsed": false,
     "input": [
      "qcrp.FreUsingFFNET(cf,ds6)"
     ],
     "language": "python",
     "metadata": {},
     "outputs": [],
     "prompt_number": 13
    },
    {
     "cell_type": "code",
     "collapsed": false,
     "input": [
      "Fre_FFNET_all,f,a=qcutils.GetSeries(ds6,\"Fre_FFNET_all\")\n",
      "print min(Fre_FFNET_all)"
     ],
     "language": "python",
     "metadata": {},
     "outputs": [
      {
       "output_type": "stream",
       "stream": "stdout",
       "text": [
        "-20.3559563204\n"
       ]
      }
     ],
     "prompt_number": 14
    },
    {
     "cell_type": "code",
     "collapsed": false,
     "input": [
      "qcts.MergeSeriesUsingDict(ds6,merge_order=\"standard\")"
     ],
     "language": "python",
     "metadata": {},
     "outputs": [],
     "prompt_number": 15
    },
    {
     "cell_type": "code",
     "collapsed": false,
     "input": [
      "Fre_SOLO,f,a=qcutils.GetSeries(ds6,\"Fre_SOLO\")\n",
      "print min(Fre_SOLO)"
     ],
     "language": "python",
     "metadata": {},
     "outputs": [
      {
       "output_type": "stream",
       "stream": "stdout",
       "text": [
        "-49.2868841748\n"
       ]
      }
     ],
     "prompt_number": 16
    },
    {
     "cell_type": "code",
     "collapsed": false,
     "input": [
      "print max(Fre_SOLO)"
     ],
     "language": "python",
     "metadata": {},
     "outputs": [
      {
       "output_type": "stream",
       "stream": "stdout",
       "text": [
        "47.7344640742\n"
       ]
      }
     ],
     "prompt_number": 17
    },
    {
     "cell_type": "code",
     "collapsed": false,
     "input": [
      "index=numpy.where(Fre_SOLO==-9999)[0]"
     ],
     "language": "python",
     "metadata": {},
     "outputs": [],
     "prompt_number": 18
    },
    {
     "cell_type": "code",
     "collapsed": false,
     "input": [
      "print len(index)"
     ],
     "language": "python",
     "metadata": {},
     "outputs": [
      {
       "output_type": "stream",
       "stream": "stdout",
       "text": [
        "0\n"
       ]
      }
     ],
     "prompt_number": 19
    },
    {
     "cell_type": "code",
     "collapsed": false,
     "input": [
      "dt=ds6.series[\"DateTime\"][\"Data\"]"
     ],
     "language": "python",
     "metadata": {},
     "outputs": [],
     "prompt_number": 33
    },
    {
     "cell_type": "code",
     "collapsed": false,
     "input": [
      "print dt[index[0]]"
     ],
     "language": "python",
     "metadata": {},
     "outputs": [
      {
       "output_type": "stream",
       "stream": "stdout",
       "text": [
        "2001-02-23 16:00:00\n"
       ]
      }
     ],
     "prompt_number": 34
    },
    {
     "cell_type": "code",
     "collapsed": false,
     "input": [
      "print index[0]"
     ],
     "language": "python",
     "metadata": {},
     "outputs": [
      {
       "output_type": "stream",
       "stream": "stdout",
       "text": [
        "1287\n"
       ]
      }
     ],
     "prompt_number": 35
    },
    {
     "cell_type": "code",
     "collapsed": false,
     "input": [
      "Fsd,Fsd_flag,Fsd_attr=qcutils.GetSeries(ds6,\"Fsd\")\n",
      "ustar,ustar_flag,ustar_attr=qcutils.GetSeries(ds6,\"ustar\")\n",
      "print Fre[1286:1290],Fre_flag[1286:1290]\n",
      "print Fc[1286:1290],Fc_flag[1286:1290]\n",
      "print Fsd[1286:1290],Fsd_flag[1286:1290]\n",
      "print ustar[1286:1290],ustar_flag[1286:1290]"
     ],
     "language": "python",
     "metadata": {},
     "outputs": [
      {
       "output_type": "stream",
       "stream": "stdout",
       "text": [
        "[-9999. -9999. -9999. -9999.] [61  0  0 62]\n",
        "[-17.996       -5.56892014  -8.14562776   0.31901555] [30  0  0  0]\n",
        "[ 900.5   613.38  366.03  154.25] [0 0 0 0]\n",
        "[ 0.60175543  0.67238793  0.56304166  0.41522211] [0 0 0 0]\n"
       ]
      }
     ],
     "prompt_number": 42
    },
    {
     "cell_type": "code",
     "collapsed": false,
     "input": [],
     "language": "python",
     "metadata": {},
     "outputs": []
    }
   ],
   "metadata": {}
  }
 ]
}