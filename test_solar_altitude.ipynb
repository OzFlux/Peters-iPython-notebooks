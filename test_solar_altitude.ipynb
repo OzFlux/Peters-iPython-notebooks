{
 "cells": [
  {
   "cell_type": "code",
   "execution_count": 1,
   "metadata": {
    "collapsed": false
   },
   "outputs": [
    {
     "name": "stdout",
     "output_type": "stream",
     "text": [
      "Using matplotlib backend: Qt4Agg\n"
     ]
    }
   ],
   "source": [
    "%run basics\n",
    "%matplotlib\n",
    "import pysolar\n",
    "import pytz"
   ]
  },
  {
   "cell_type": "code",
   "execution_count": 2,
   "metadata": {
    "collapsed": true
   },
   "outputs": [],
   "source": [
    "def solar_zenith_im(ldt,latitude,longitude,time_zone):\n",
    "    # get a pytz object\n",
    "    tz = pytz.timezone(time_zone)\n",
    "    # use the same \"current\" date as Ian\n",
    "    cdt = datetime.datetime(2013,6,1,0,0,0)\n",
    "    # get the offset to UTC time as a timedelta object\n",
    "    utcoffset = tz.utcoffset(cdt)\n",
    "    # get the offset as hours\n",
    "    GMT_zone = utcoffset.seconds/float(3600)\n",
    "    # get the day of the year from local time\n",
    "    DOY = numpy.array([dt.timetuple().tm_yday for dt in ldt])\n",
    "    # For each day calculate equation of time correction, solar noon and declination\n",
    "    array_EqofTime=0.17*numpy.sin(4*numpy.pi*(DOY-80)/373)-0.129*numpy.sin(2*numpy.pi*(DOY-8)/355) # DiLaura (1984)\n",
    "    array_solar_noon=12+(GMT_zone*15.0-longitude)/360*24-array_EqofTime # Me\n",
    "    array_decl=numpy.radians(23.4)*numpy.sin((DOY+284)/365.0*2*numpy.pi) # Oke (1987)\n",
    "    # Create an hour angle array for each minute of day and each day of year\n",
    "    array_h=numpy.tile(numpy.linspace(0,1439.0/1440*24,num=1440),(len(DOY),1))\n",
    "    array_h=abs(numpy.radians((array_solar_noon.reshape(len(DOY),1)-array_h)*15))\n",
    "    # Duplicate declination array for each time of day\n",
    "    array_decl=numpy.tile(array_decl,(1440,1)).T\n",
    "    # Calculate zenith angles\n",
    "    array_z=numpy.arccos(numpy.sin(numpy.radians(latitude))*numpy.sin(array_decl)+numpy.cos(numpy.radians(latitude))*numpy.cos(array_decl)*numpy.cos(array_h))\n",
    "    return array_z,array_h"
   ]
  },
  {
   "cell_type": "code",
   "execution_count": 3,
   "metadata": {
    "collapsed": true
   },
   "outputs": [],
   "source": [
    "def solar_zenith_pri(ldt,latitude,longitude,time_zone):\n",
    "    # get a pytz object\n",
    "    tz = pytz.timezone(time_zone)\n",
    "    # use the same \"current\" date as Ian\n",
    "    cdt = datetime.datetime(2013,6,1,0,0,0)\n",
    "    # get the offset to UTC time as a timedelta object\n",
    "    utcoffset = tz.utcoffset(cdt)\n",
    "    # get the offset as hours\n",
    "    GMT_zone = utcoffset.seconds/float(3600)\n",
    "    # get the day of the year from local time\n",
    "    DOY = numpy.array([dt.timetuple().tm_yday for dt in ldt])\n",
    "    # For each day calculate equation of time correction, solar noon and declination\n",
    "    eqn_of_time = 0.17*numpy.sin(4*numpy.pi*(DOY-80)/373)-0.129*numpy.sin(2*numpy.pi*(DOY-8)/355)\n",
    "    solar_noon = 12+(GMT_zone*15.0-site_longitude)/360*24-eqn_of_time\n",
    "    decln = numpy.radians(23.4)*numpy.sin((DOY+284)/365.0*2*numpy.pi)\n",
    "    Hdh = numpy.array([dt.hour+dt.minute/float(60) for dt in ldt])\n",
    "    Hdh = abs(numpy.radians((solar_noon-Hdh)*15))\n",
    "    solar_zenith = numpy.arccos(numpy.sin(numpy.radians(site_latitude))\n",
    "                                *numpy.sin(decln)\n",
    "                                +numpy.cos(numpy.radians(site_latitude))\n",
    "                                *numpy.cos(decln)*numpy.cos(Hdh))\n",
    "    return solar_zenith,Hdh"
   ]
  },
  {
   "cell_type": "code",
   "execution_count": 4,
   "metadata": {
    "collapsed": true
   },
   "outputs": [],
   "source": [
    "def solar_altitude_from_zenith(solar_zenith):\n",
    "    return numpy.pi/2-solar_zenith"
   ]
  },
  {
   "cell_type": "code",
   "execution_count": 5,
   "metadata": {
    "collapsed": true
   },
   "outputs": [],
   "source": [
    "site_name = \"Whroo\"\n",
    "nc_name = \"../Sites/Whroo/Data/Processed/2014/Whroo_2014_L3.nc\""
   ]
  },
  {
   "cell_type": "code",
   "execution_count": 6,
   "metadata": {
    "collapsed": true
   },
   "outputs": [],
   "source": [
    "ds = qcio.nc_read_series(nc_name)\n",
    "site_timezone = ds.globalattributes[\"time_zone\"]\n",
    "site_latitude = float(ds.globalattributes[\"latitude\"])\n",
    "site_longitude = float(ds.globalattributes[\"longitude\"])\n",
    "ldt = ds.series[\"DateTime\"][\"Data\"]"
   ]
  },
  {
   "cell_type": "code",
   "execution_count": 7,
   "metadata": {
    "collapsed": false
   },
   "outputs": [],
   "source": [
    "tz = pytz.timezone(site_timezone)\n",
    "cdt = datetime.datetime(2013,6,1,0,0,0)\n",
    "utcoffset = tz.utcoffset(cdt)\n",
    "GMT_zone = utcoffset.seconds/float(3600)\n",
    "DOY = numpy.array([dt.timetuple().tm_yday for dt in ldt])"
   ]
  },
  {
   "cell_type": "code",
   "execution_count": 9,
   "metadata": {
    "collapsed": false
   },
   "outputs": [],
   "source": [
    "sz_pri,Hdh = solar_zenith_pri(ldt,site_latitude,site_longitude,site_timezone)\n",
    "sz_im,array_h = solar_zenith_im(ldt,site_latitude,site_longitude,site_timezone)"
   ]
  },
  {
   "cell_type": "code",
   "execution_count": 11,
   "metadata": {
    "collapsed": false
   },
   "outputs": [],
   "source": [
    "fig=plt.figure()\n",
    "plt.plot(Hdh[0:47],sz_pri[0:47])\n",
    "plt.show()"
   ]
  },
  {
   "cell_type": "code",
   "execution_count": 12,
   "metadata": {
    "collapsed": true
   },
   "outputs": [],
   "source": [
    "fig=plt.figure()\n",
    "plt.plot(array_h[0,:],sz_im[0,:])\n",
    "plt.show()"
   ]
  },
  {
   "cell_type": "code",
   "execution_count": null,
   "metadata": {
    "collapsed": true
   },
   "outputs": [],
   "source": [
    "sa_pri = solar_altitude_from_zenith(sz_pri)\n",
    "sa_im = solar_altitude_from_zenith(sz_im)"
   ]
  }
 ],
 "metadata": {
  "kernelspec": {
   "display_name": "Python 2",
   "language": "python",
   "name": "python2"
  },
  "language_info": {
   "codemirror_mode": {
    "name": "ipython",
    "version": 2
   },
   "file_extension": ".py",
   "mimetype": "text/x-python",
   "name": "python",
   "nbconvert_exporter": "python",
   "pygments_lexer": "ipython2",
   "version": "2.7.10"
  }
 },
 "nbformat": 4,
 "nbformat_minor": 0
}
