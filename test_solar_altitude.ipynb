{
 "cells": [
  {
   "cell_type": "code",
   "execution_count": 1,
   "metadata": {
    "collapsed": false
   },
   "outputs": [
    {
     "name": "stdout",
     "output_type": "stream",
     "text": [
      "Using matplotlib backend: Qt4Agg\n"
     ]
    }
   ],
   "source": [
    "%run basics\n",
    "%matplotlib\n",
    "import pysolar\n",
    "import pytz"
   ]
  },
  {
   "cell_type": "code",
   "execution_count": null,
   "metadata": {
    "collapsed": true
   },
   "outputs": [],
   "source": [
    "def solar_altitude_IM(ldt,latitude,longitude,time_zone):\n",
    "    # get a pytz object\n",
    "    tz = pytz.timezone(time_zone)\n",
    "    # use the same \"current\" date as Ian\n",
    "    cdt = datetime.datetime(2013,6,1,0,0,0)\n",
    "    # get the offset to UTC time as a timedelta object\n",
    "    utcoffset = tz.utcoffset(cdt)\n",
    "    # get the offset as hours\n",
    "    GMT_zone = utcoffset.seconds/float(3600)\n",
    "    # get the day of the year from local time\n",
    "    DOY = numpy.array([dt.timetuple().tm_yday for dt in ldt])\n",
    "    # For each day calculate equation of time correction, solar noon and declination\n",
    "    eqn_of_time = 0.17*numpy.sin(4*numpy.pi*(DOY-80)/373)-0.129*numpy.sin(2*numpy.pi*(DOY-8)/355) # DiLaura (1984)\n",
    "    solar_noon = 12+(GMT_zone*15.0-longitude)/360*24-eqn_of_time # Me\n",
    "    decln = numpy.radians(23.4)*numpy.sin((DOY+284)/365.0*2*numpy.pi) # Oke (1987)\n",
    "    # Create an hour angle array for each minute of day and each day of year\n",
    "    hour_angle = numpy.tile(numpy.linspace(0,1439.0/1440*24,num=1440),(len(DOY),1))\n",
    "    hour_angle = abs(numpy.radians((solar_noon.reshape(len(DOY),1)-hour_angle)*15))\n",
    "    # Duplicate declination array for each time of day\n",
    "    decln = numpy.tile(decln,(1440,1)).T\n",
    "    # Calculate zenith angles\n",
    "    array_z=numpy.arccos(numpy.sin(numpy.radians(lat_decdeg))*numpy.sin(array_decl)+numpy.cos(numpy.radians(lat_decdeg))*numpy.cos(array_decl)*numpy.cos(array_h))\n"
   ]
  },
  {
   "cell_type": "code",
   "execution_count": 2,
   "metadata": {
    "collapsed": true
   },
   "outputs": [],
   "source": [
    "site_name = \"Whroo\"\n",
    "nc_name = \"../Sites/Whroo/Data/Portal/Whroo_2014_L3.nc\"\n",
    "site_timezone = \"Australia/Melbourne\"\n",
    "site_latitude = -36.67305\n",
    "site_longitude = 145.02621"
   ]
  },
  {
   "cell_type": "code",
   "execution_count": 3,
   "metadata": {
    "collapsed": true
   },
   "outputs": [],
   "source": [
    "ds = qcio.nc_read_series(nc_name)\n",
    "ldt = ds.series[\"DateTime\"][\"Data\"]"
   ]
  },
  {
   "cell_type": "code",
   "execution_count": 7,
   "metadata": {
    "collapsed": false
   },
   "outputs": [],
   "source": [
    "tz = pytz.timezone(site_timezone)\n",
    "cdt = datetime.datetime(2013,6,1,0,0,0)\n",
    "utcoffset = tz.utcoffset(cdt)\n",
    "GMT_zone = utcoffset.seconds/float(3600)\n",
    "DOY = numpy.array([dt.timetuple().tm_yday for dt in ldt])\n",
    "eqn_of_time = 0.17*numpy.sin(4*numpy.pi*(DOY-80)/373)-0.129*numpy.sin(2*numpy.pi*(DOY-8)/355)\n",
    "solar_noon = 12+(GMT_zone*15.0-site_longitude)/360*24-eqn_of_time\n",
    "decln = numpy.radians(23.4)*numpy.sin((DOY+284)/365.0*2*numpy.pi)\n",
    "Hdh = numpy.array([dt.hour+dt.minute/float(60) for dt in ldt])\n",
    "solar_zenith = numpy.arccos(numpy.sin(numpy.radians(site_latitude))\n",
    "                            *numpy.sin(decln)\n",
    "                            +numpy.cos(numpy.radians(site_latitude))\n",
    "                            *numpy.cos(decln)*numpy.cos(Hdh))"
   ]
  },
  {
   "cell_type": "code",
   "execution_count": 9,
   "metadata": {
    "collapsed": false
   },
   "outputs": [],
   "source": [
    "fig=plt.figure()\n",
    "plt.plot(ldt,solar_zenith)\n",
    "plt.show()"
   ]
  },
  {
   "cell_type": "code",
   "execution_count": null,
   "metadata": {
    "collapsed": true
   },
   "outputs": [],
   "source": []
  }
 ],
 "metadata": {
  "kernelspec": {
   "display_name": "Python 2",
   "language": "python",
   "name": "python2"
  },
  "language_info": {
   "codemirror_mode": {
    "name": "ipython",
    "version": 2
   },
   "file_extension": ".py",
   "mimetype": "text/x-python",
   "name": "python",
   "nbconvert_exporter": "python",
   "pygments_lexer": "ipython2",
   "version": "2.7.11"
  }
 },
 "nbformat": 4,
 "nbformat_minor": 0
}
