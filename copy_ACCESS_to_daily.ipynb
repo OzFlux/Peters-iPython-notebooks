{
 "metadata": {
  "name": "",
  "signature": "sha256:6803e19ca2344b6f6b31ea1de10cc534b4462f5214d61ee2e1730ae25966a9d6"
 },
 "nbformat": 3,
 "nbformat_minor": 0,
 "worksheets": [
  {
   "cells": [
    {
     "cell_type": "code",
     "collapsed": false,
     "input": [
      "%run basics\n",
      "import glob\n",
      "import shutil"
     ],
     "language": "python",
     "metadata": {},
     "outputs": [],
     "prompt_number": 1
    },
    {
     "cell_type": "code",
     "collapsed": false,
     "input": [
      "dir_dict = {}\n",
      "dir_dict[\"AdelaideRiver\"]=\"access_Adelaide_River_*.nc\"\n",
      "dir_dict[\"AliceSpringsMulga\"]=\"access_Alice_Springs_Mulga_*.nc\"\n",
      "dir_dict[\"Arcturus\"]=\"access_Arcturus_*.nc\"\n",
      "dir_dict[\"Calperum\"]=\"access_Calperum_*.nc\"\n",
      "dir_dict[\"CapeTribulation\"]=\"access_Cape_Tribulation_*.nc\"\n",
      "dir_dict[\"CumberlandPlains\"]=\"access_Cumberland_Plains_*.nc\"\n",
      "dir_dict[\"Daintree\"]=\"access_Daintree_*.nc\"\n",
      "dir_dict[\"DalyPasture\"]=\"access_Daly_Pasture_*.nc\"\n",
      "dir_dict[\"DalyUncleared\"]=\"access_Daly_Uncleared_*.nc\"\n",
      "dir_dict[\"Darbalara\"]=\"access_Darbalara_*.nc\"\n",
      "dir_dict[\"Dargo\"]=\"access_Dargo_*.nc\"\n",
      "dir_dict[\"DryRiver\"]=\"access_Dry_River_*.nc\"\n",
      "dir_dict[\"Gingin\"]=\"access_Gingin_*.nc\"\n",
      "dir_dict[\"GreatWesternWoodlands\"]=\"access_Great_Western_Woodlands_*.nc\"\n",
      "dir_dict[\"HowardSprings\"]=\"access_Howard_Springs_*.nc\"\n",
      "dir_dict[\"Jaxa\"]=\"access_Jaxa_*.nc\"\n",
      "dir_dict[\"Litchfield\"]=\"access_Litchfield_*.nc\"\n",
      "dir_dict[\"Nimmo\"]=\"access_Nimmo_*.nc\"\n",
      "dir_dict[\"RedDirtMelonFarm\"]=\"access_Red_Dirt_Melon_Farm_*.nc\"\n",
      "dir_dict[\"RiggsCreek\"]=\"access_Riggs_Creek_*.nc\"\n",
      "dir_dict[\"RobsonCreek\"]=\"access_Robson_Creek_*.nc\"\n",
      "dir_dict[\"Samford\"]=\"access_Samford_*.nc\"\n",
      "dir_dict[\"SturtPlains\"]=\"access_Sturt_Plains_*.nc\"\n",
      "dir_dict[\"TiTreeEast\"]=\"access_Ti_Tree_East_*.nc\"\n",
      "dir_dict[\"Tumbarumba\"]=\"access_Tumbarumba_*.nc\"\n",
      "dir_dict[\"WallabyCreek\"]=\"access_Wallaby_Creek_*.nc\"\n",
      "dir_dict[\"Warra\"]=\"access_Warra_*.nc\"\n",
      "dir_dict[\"Whroo\"]=\"access_Whroo_*.nc\"\n",
      "dir_dict[\"WombatStateForest\"]=\"access_Wombat_State_Forest_*.nc\""
     ],
     "language": "python",
     "metadata": {},
     "outputs": [],
     "prompt_number": 2
    },
    {
     "cell_type": "code",
     "collapsed": false,
     "input": [
      "in_path = \"/home/peter/OzFlux/ACCESS/Incoming/\"\n",
      "outpath_base = \"/home/peter/OzFlux/ACCESS/\""
     ],
     "language": "python",
     "metadata": {},
     "outputs": [],
     "prompt_number": 3
    },
    {
     "cell_type": "code",
     "collapsed": false,
     "input": [
      "dir_list = dir_dict.keys()\n",
      "#dir_list = [\"AliceSpringsMulga\"]\n",
      "for dir_name in dir_list:\n",
      "    print \"Copying \"+dir_name\n",
      "    outpath = outpath_base+str(dir_name)+\"/Daily/\"\n",
      "    in_filename = in_path+dir_dict[dir_name]\n",
      "    file_list = sorted(glob.glob(in_filename))\n",
      "    for file_name in file_list:\n",
      "        #print \"Copying \"+file_name+\" to \"+outpath\n",
      "        shutil.copy2(file_name,outpath)"
     ],
     "language": "python",
     "metadata": {},
     "outputs": [
      {
       "output_type": "stream",
       "stream": "stdout",
       "text": [
        "Copying RiggsCreek\n",
        "Copying WombatStateForest"
       ]
      },
      {
       "output_type": "stream",
       "stream": "stdout",
       "text": [
        "\n",
        "Copying Daintree"
       ]
      },
      {
       "output_type": "stream",
       "stream": "stdout",
       "text": [
        "\n",
        "Copying Warra"
       ]
      },
      {
       "output_type": "stream",
       "stream": "stdout",
       "text": [
        "\n",
        "Copying Gingin"
       ]
      },
      {
       "output_type": "stream",
       "stream": "stdout",
       "text": [
        "\n",
        "Copying AliceSpringsMulga"
       ]
      },
      {
       "output_type": "stream",
       "stream": "stdout",
       "text": [
        "\n",
        "Copying Nimmo"
       ]
      },
      {
       "output_type": "stream",
       "stream": "stdout",
       "text": [
        "\n",
        "Copying RobsonCreek"
       ]
      },
      {
       "output_type": "stream",
       "stream": "stdout",
       "text": [
        "\n",
        "Copying GreatWesternWoodlands"
       ]
      },
      {
       "output_type": "stream",
       "stream": "stdout",
       "text": [
        "\n",
        "Copying CumberlandPlains"
       ]
      },
      {
       "output_type": "stream",
       "stream": "stdout",
       "text": [
        "\n",
        "Copying Dargo"
       ]
      },
      {
       "output_type": "stream",
       "stream": "stdout",
       "text": [
        "\n",
        "Copying AdelaideRiver"
       ]
      },
      {
       "output_type": "stream",
       "stream": "stdout",
       "text": [
        "\n",
        "Copying DryRiver"
       ]
      },
      {
       "output_type": "stream",
       "stream": "stdout",
       "text": [
        "\n",
        "Copying Litchfield"
       ]
      },
      {
       "output_type": "stream",
       "stream": "stdout",
       "text": [
        "\n",
        "Copying WallabyCreek"
       ]
      },
      {
       "output_type": "stream",
       "stream": "stdout",
       "text": [
        "\n",
        "Copying RedDirtMelonFarm"
       ]
      },
      {
       "output_type": "stream",
       "stream": "stdout",
       "text": [
        "\n",
        "Copying TiTreeEast"
       ]
      },
      {
       "output_type": "stream",
       "stream": "stdout",
       "text": [
        "\n",
        "Copying SturtPlains"
       ]
      },
      {
       "output_type": "stream",
       "stream": "stdout",
       "text": [
        "\n",
        "Copying Calperum"
       ]
      },
      {
       "output_type": "stream",
       "stream": "stdout",
       "text": [
        "\n",
        "Copying Arcturus"
       ]
      },
      {
       "output_type": "stream",
       "stream": "stdout",
       "text": [
        "\n",
        "Copying HowardSprings"
       ]
      },
      {
       "output_type": "stream",
       "stream": "stdout",
       "text": [
        "\n",
        "Copying DalyUncleared"
       ]
      },
      {
       "output_type": "stream",
       "stream": "stdout",
       "text": [
        "\n",
        "Copying DalyPasture"
       ]
      },
      {
       "output_type": "stream",
       "stream": "stdout",
       "text": [
        "\n",
        "Copying Darbalara"
       ]
      },
      {
       "output_type": "stream",
       "stream": "stdout",
       "text": [
        "\n",
        "Copying Tumbarumba"
       ]
      },
      {
       "output_type": "stream",
       "stream": "stdout",
       "text": [
        "\n",
        "Copying Samford"
       ]
      },
      {
       "output_type": "stream",
       "stream": "stdout",
       "text": [
        "\n",
        "Copying Whroo"
       ]
      },
      {
       "output_type": "stream",
       "stream": "stdout",
       "text": [
        "\n",
        "Copying CapeTribulation"
       ]
      },
      {
       "output_type": "stream",
       "stream": "stdout",
       "text": [
        "\n",
        "Copying Jaxa"
       ]
      },
      {
       "output_type": "stream",
       "stream": "stdout",
       "text": [
        "\n"
       ]
      }
     ],
     "prompt_number": 5
    },
    {
     "cell_type": "code",
     "collapsed": false,
     "input": [],
     "language": "python",
     "metadata": {},
     "outputs": []
    }
   ],
   "metadata": {}
  }
 ]
}