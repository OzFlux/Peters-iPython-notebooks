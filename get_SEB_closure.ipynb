{
 "cells": [
  {
   "cell_type": "code",
   "execution_count": 1,
   "metadata": {
    "collapsed": false
   },
   "outputs": [
    {
     "name": "stdout",
     "output_type": "stream",
     "text": [
      "Using matplotlib backend: Qt4Agg\n"
     ]
    }
   ],
   "source": [
    "%run basics\n",
    "%matplotlib"
   ]
  },
  {
   "cell_type": "code",
   "execution_count": 42,
   "metadata": {
    "collapsed": true
   },
   "outputs": [],
   "source": [
    "site_name_list = [\"AdelaideRiver\",\"Calperum\",\"CapeTribulation\",\"CowBay\",\"CumberlandPlains\",\n",
    "                  \"DalyPasture\",\"DalyUncleared\",\"DryRiver\",\"Emerald\",\"FoggDam\",\"Gingin\",\n",
    "                  \"GreatWesternWoodlands\",\"HowardSprings\",\"Otway\",\"RedDirtMelonFarm\",\"RiggsCreek\",\n",
    "                  \"RobsonCreek\",\"Samford\",\"SturtPlains\",\"Tumbarumba\",\"Whroo\",\"WombatStateForest\",\n",
    "                  \"Yanco\"]"
   ]
  },
  {
   "cell_type": "code",
   "execution_count": 2,
   "metadata": {
    "collapsed": true
   },
   "outputs": [],
   "source": [
    "site_name_list = [\"Calperum\"]"
   ]
  },
  {
   "cell_type": "code",
   "execution_count": 46,
   "metadata": {
    "collapsed": false
   },
   "outputs": [
    {
     "name": "stdout",
     "output_type": "stream",
     "text": [
      "Processing site:  AdelaideRiver\n",
      "Not enough days in year  2007 75\n",
      "AdelaideRiver 2008 0.998253211457 0.954920650843\n",
      "Not enough days in year  2009 143\n",
      "Processing site:  Calperum\n",
      "Not enough days in year  2010 153\n",
      "Calperum 2011 0.886211740219 0.991108563456\n",
      "Calperum 2012 0.918026731725 0.992434829507\n",
      "Calperum 2013 0.915439974595 0.989566040668\n",
      "Calperum 2014 0.884973398339 0.990591701153\n",
      "Calperum 2015 0.875843886491 0.988307898064\n",
      "Processing site:  CapeTribulation\n",
      "Not enough good data for CapeTribulation 2013\n",
      "Not enough good data for CapeTribulation 2014\n",
      "Not enough days in year  2015 245\n",
      "Processing site:  CowBay\n",
      "Not enough good data for CowBay 2009\n",
      "Not enough good data for CowBay 2010\n",
      "CowBay 2011 0.929385885001 0.835468434272\n",
      "CowBay 2012 0.919783669279 0.894046934041\n",
      "CowBay 2013 0.995664645354 0.690791998986\n",
      "CowBay 2014 0.891102634422 0.747830889456\n",
      "Not enough days in year  2015 131\n",
      "Processing site:  CumberlandPlains\n",
      "Not enough days in year  2012 74\n",
      "CumberlandPlains 2013 0.780353628324 0.948494638038\n",
      "CumberlandPlains 2014 0.710517869226 0.969683876873\n",
      "CumberlandPlains 2015 0.77761108941 0.975118471942\n",
      "Processing site:  DalyPasture\n",
      "DalyPasture 2008 0.902095561745 0.90010938832\n",
      "DalyPasture 2009 0.94110968103 0.858207360511\n",
      "DalyPasture 2010 0.810983531565 0.856413467968\n",
      "DalyPasture 2011 0.812939369902 0.876201408825\n",
      "DalyPasture 2012 0.858889565031 0.958334499856\n",
      "DalyPasture 2013 0.86306861537 0.931604265142\n",
      "Processing site:  DalyUncleared\n",
      "DalyUncleared 2008 0.997401567233 0.900781415033\n",
      "DalyUncleared 2009 1.00588498972 0.525207272459\n",
      "DalyUncleared 2010 0.890144624656 0.919303050796\n",
      "DalyUncleared 2011 0.856232058521 0.881939322541\n",
      "DalyUncleared 2012 0.896612498489 0.960097762782\n",
      "DalyUncleared 2013 0.861783887373 0.926091180184\n",
      "DalyUncleared 2014 0.902231157424 0.936631273813\n",
      "Not enough days in year  2015 216\n",
      "Processing site:  DryRiver\n",
      "Not enough days in year  2008 122\n",
      "DryRiver 2009 0.833852882194 0.910841242168\n",
      "DryRiver 2010 0.795158289554 0.890069570051\n",
      "DryRiver 2011 0.783756757169 0.830583297214\n",
      "DryRiver 2012 0.844732816263 0.92294816612\n",
      "DryRiver 2013 0.829041039577 0.92679909387\n",
      "DryRiver 2014 0.84623075596 0.923552962269\n",
      "Not enough days in year  2015 215\n",
      "Processing site:  Emerald\n",
      "Not enough days in year  2011 205\n",
      "Emerald 2012 0.716992778073 0.920550302074\n",
      "Emerald 2013 0.723053101928 0.928373130058\n",
      "Processing site:  FoggDam\n",
      "FoggDam 2006 0.849564740825 0.691493217885\n",
      "FoggDam 2007 0.743934562331 0.953302930004\n",
      "FoggDam 2008 0.739498073098 0.716591700319\n",
      "Processing site:  Gingin\n",
      "Not enough days in year  2011 79\n",
      "Gingin 2012 0.94397241883 0.985554147935\n",
      "Gingin 2013 0.913320322246 0.986703764546\n",
      "Gingin 2014 0.883535623099 0.983134394007\n",
      "Gingin 2015 0.866100101494 0.981421879281\n",
      "Processing site:  GreatWesternWoodlands\n",
      "GreatWesternWoodlands 2013 0.723690504729 0.949015114419\n",
      "GreatWesternWoodlands 2014 0.760979837408 0.96531717337\n",
      "GreatWesternWoodlands 2015 0.792463421326 0.947815312891\n",
      "Processing site:  HowardSprings\n",
      "Not enough good data for HowardSprings 2002\n",
      "HowardSprings 2003 0.758149871246 0.547640393063\n",
      "Not enough good data for HowardSprings 2004\n",
      "Not enough good data for HowardSprings 2005\n",
      "HowardSprings 2006 0.867947718057 0.814621307371\n",
      "HowardSprings 2007 0.950830128075 0.90562135144\n",
      "HowardSprings 2008 0.960591771252 0.915273192476\n",
      "Not enough good data for HowardSprings 2009\n",
      "HowardSprings 2010 1.03471045564 0.918420325163\n",
      "HowardSprings 2011 0.971905936713 0.892802260535\n",
      "HowardSprings 2012 0.978188838237 0.921272827953\n",
      "HowardSprings 2013 0.968341253051 0.939342746816\n",
      "HowardSprings 2014 0.918841236705 0.951596818537\n",
      "Not enough days in year  2015 245\n",
      "Processing site:  Otway\n",
      "Not enough days in year  2007 143\n",
      "Otway 2008 0.865354996181 0.951564741243\n",
      "Otway 2009 0.879474612095 0.949745284186\n",
      "Otway 2010 0.900089745627 0.949785863357\n",
      "Processing site:  RedDirtMelonFarm\n",
      "Not enough days in year  2011 99\n",
      "RedDirtMelonFarm 2012 0.889472420004 0.925599545315\n",
      "Not enough days in year  2013 201\n",
      "Processing site:  RiggsCreek\n",
      "RiggsCreek 2011 0.716048502807 0.970021259588\n",
      "RiggsCreek 2012 0.79584938276 0.947969692242\n",
      "RiggsCreek 2013 0.882123430086 0.984782182325\n",
      "RiggsCreek 2014 0.839255233829 0.981088247368\n",
      "Not enough days in year  2015 186\n",
      "Processing site:  RobsonCreek\n",
      "Not enough days in year  2013 152\n",
      "RobsonCreek 2014 0.708986130754 0.692742234737\n",
      "Not enough days in year  2015 131\n",
      "Processing site:  Samford\n",
      "Not enough days in year  2010 212\n",
      "Samford 2011 0.737226428293 0.992060124175\n",
      "Samford 2012 0.734524947993 0.982876810125\n",
      "Samford 2013 0.722667196108 0.976972387378\n",
      "Samford 2014 0.716362097953 0.978403486732\n",
      "Not enough days in year  2015 180\n",
      "Processing site:  SturtPlains\n",
      "Not enough days in year  2008 125\n",
      "SturtPlains 2009 1.03318285151 0.924838524349\n",
      "SturtPlains 2010 1.02982405882 0.926863484704\n",
      "SturtPlains 2011 1.03117738572 0.896488152657\n",
      "SturtPlains 2012 0.961422550423 0.896931738793\n",
      "SturtPlains 2013 0.966973307854 0.921122487111\n",
      "SturtPlains 2014 0.932040740245 0.889814668448\n",
      "Not enough days in year  2015 245\n",
      "Processing site:  Tumbarumba\n",
      "Not enough good data for Tumbarumba 2002\n",
      "Tumbarumba 2003 1.25294429243 0.343656498236\n",
      "Not enough good data for Tumbarumba 2004\n",
      "Not enough good data for Tumbarumba 2005\n",
      "Not enough good data for Tumbarumba 2006\n",
      "Not enough good data for Tumbarumba 2007\n",
      "Not enough good data for Tumbarumba 2008\n",
      "Not enough good data for Tumbarumba 2009\n",
      "Not enough good data for Tumbarumba 2010\n",
      "Not enough good data for Tumbarumba 2011\n",
      "Not enough good data for Tumbarumba 2012\n",
      "Not enough good data for Tumbarumba 2013\n",
      "Not enough good data for Tumbarumba 2014\n",
      "Processing site:  Whroo\n",
      "Not enough days in year  2011 30\n",
      "Whroo 2012 0.897847004447 0.982304435084\n",
      "Whroo 2013 0.903700648637 0.977837267698\n",
      "Whroo 2014 0.908223026775 0.976654362005\n",
      "Not enough days in year  2015 245\n",
      "Processing site:  WombatStateForest\n",
      "WombatStateForest 2010 0.715834777233 0.959078508411\n",
      "WombatStateForest 2011 0.69060175623 0.967828756037\n",
      "WombatStateForest 2012 0.77063347491 0.975703603846\n",
      "WombatStateForest 2013 0.844281783408 0.978020409856\n",
      "WombatStateForest 2014 0.866010391683 0.966289705077\n",
      "Not enough days in year  2015 62\n",
      "Processing site:  Yanco\n",
      "Not enough days in year  2012 216\n",
      "Yanco 2013 0.732402441515 0.942788168894\n",
      "Yanco 2014 0.719534050378 0.94580178016\n",
      "Not enough days in year  2015 173\n"
     ]
    }
   ],
   "source": [
    "results = numpy.array([])\n",
    "for site_name in site_name_list:\n",
    "    print \"Processing site: \",site_name\n",
    "    in_name = \"/mnt/OzFlux/Sites/\"+site_name+\"/Data/Portal/\"+site_name+\"_L3.nc\"\n",
    "    if not os.path.exists(in_name):\n",
    "        print \" File not found: \"+in_name\n",
    "        continue\n",
    "    ds = qcio.nc_read_series(in_name)\n",
    "    ts = int(ds.globalattributes[\"time_step\"])\n",
    "    ntsInDay = int(float(24.0*60.0/float(ts)))\n",
    "    nts_threshold = int(ntsInDay*0.8+0.5)\n",
    "    ldt = ds.series[\"DateTime\"][\"Data\"]\n",
    "    for year in range(ldt[0].year,ldt[-1].year+1):\n",
    "    #for year in [2015]:\n",
    "        start_date = datetime.datetime(year,1,1)+datetime.timedelta(minutes=ts)\n",
    "        si = qcutils.GetDateIndex(ldt,str(start_date),ts=ts,match=\"startnextday\",default=0)\n",
    "        end_date = datetime.datetime(year+1,1,1)\n",
    "        ei = qcutils.GetDateIndex(ldt,str(end_date),ts=ts,match=\"endpreviousday\",default=len(ldt)-1)\n",
    "        dt = numpy.array(ldt[si:ei+1])\n",
    "        nDays = int(float(len(dt))/ntsInDay)\n",
    "        if nDays<250:\n",
    "            print \"Not enough days in year \",year,nDays\n",
    "            continue\n",
    "        # get the data\n",
    "        Fa,f,a = qcutils.GetSeriesasMA(ds,\"Fa\",si=si,ei=ei)\n",
    "        Fe,f,a = qcutils.GetSeriesasMA(ds,\"Fe\",si=si,ei=ei)\n",
    "        Fh,f,a = qcutils.GetSeriesasMA(ds,\"Fh\",si=si,ei=ei)\n",
    "        mask = numpy.ma.mask_or(numpy.ma.getmaskarray(Fa),numpy.ma.getmaskarray(Fe))\n",
    "        mask = numpy.ma.mask_or(mask,numpy.ma.getmaskarray(Fh))\n",
    "        Fa = numpy.ma.array(Fa,mask=mask)\n",
    "        Fe = numpy.ma.array(Fe,mask=mask)\n",
    "        Fh = numpy.ma.array(Fh,mask=mask)\n",
    "        # reshape into 2D array of (days,timesteps)\n",
    "        dt_daily = dt.reshape(nDays,ntsInDay)\n",
    "        Fa_daily = Fa.reshape(nDays,ntsInDay)\n",
    "        Fe_daily = Fe.reshape(nDays,ntsInDay)\n",
    "        Fh_daily = Fh.reshape(nDays,ntsInDay)\n",
    "        # get the daily averages and the number of non-masked points in each day\n",
    "        Fa_daily_avg = numpy.ma.average(Fa_daily,axis=1)\n",
    "        Fa_daily_count = numpy.ma.count(Fa_daily,axis=1)\n",
    "        Fe_daily_avg = numpy.ma.average(Fe_daily,axis=1)\n",
    "        Fe_daily_count = numpy.ma.count(Fe_daily,axis=1)\n",
    "        Fh_daily_avg = numpy.ma.average(Fh_daily,axis=1)\n",
    "        Fh_daily_count = numpy.ma.count(Fh_daily,axis=1)\n",
    "        # only use days where more than 80% of the data is present\n",
    "        condition = (Fa_daily_count<nts_threshold)|(Fe_daily_count<nts_threshold)|(Fh_daily_count<nts_threshold)\n",
    "        Fa_daily_avg = numpy.ma.masked_where(condition,Fa_daily_avg)\n",
    "        Fe_daily_avg = numpy.ma.masked_where(condition,Fe_daily_avg)\n",
    "        Fh_daily_avg = numpy.ma.masked_where(condition,Fh_daily_avg)\n",
    "        Fa_daily_avg = numpy.ma.compressed(Fa_daily_avg)\n",
    "        Fe_daily_avg = numpy.ma.compressed(Fe_daily_avg)\n",
    "        Fh_daily_avg = numpy.ma.compressed(Fh_daily_avg)\n",
    "        FepFh = Fe_daily_avg + Fh_daily_avg\n",
    "        if len(Fa_daily_avg)<2:\n",
    "            print \"Not enough good data for\",site_name,year\n",
    "            continue\n",
    "        x = numpy.array(Fa_daily_avg,copy=True)\n",
    "        y = numpy.array(FepFh,copy=True)\n",
    "        x = x[:,numpy.newaxis]\n",
    "        a, _, _, _ = numpy.linalg.lstsq(x, y)\n",
    "        pr = scipy.stats.stats.pearsonr(Fa_daily_avg,FepFh)\n",
    "        print site_name,year,a[0],pr[0]\n",
    "        results = numpy.append(results,a[0])"
   ]
  },
  {
   "cell_type": "code",
   "execution_count": 47,
   "metadata": {
    "collapsed": false
   },
   "outputs": [
    {
     "name": "stdout",
     "output_type": "stream",
     "text": [
      "83\n"
     ]
    }
   ],
   "source": [
    "print len(results)"
   ]
  },
  {
   "cell_type": "code",
   "execution_count": 55,
   "metadata": {
    "collapsed": false
   },
   "outputs": [],
   "source": [
    "bins = [0.70,0.75,0.80,0.85,0.90,0.95,1.00,1.05]\n",
    "bin_labels = [\">0.70\",\">0.75\",\">0.80\",\">0.85\",\">0.90\",\">0.95\",\">1.00\",\">1.05\"]\n",
    "#bins = [0.70,0.80,0.90,1.00,1.10]\n",
    "#bin_labels = [\">0.70\",\">0.80\",\">0.90\",\">1.00\",\">1.10\"]\n",
    "hist,edges = numpy.histogram(results,bins=bins)\n",
    "hist = hist.astype(float)/float(numpy.sum(hist))\n",
    "bar_width = 0.25\n",
    "fig,axs = plt.subplots(1,figsize=(6,6))\n",
    "index = numpy.arange(len(hist))\n",
    "axs.bar(index,hist)\n",
    "axs.set_xticks(index+bar_width)\n",
    "axs.set_xticklabels(bin_labels)\n",
    "axs.set_ylabel(\"Frequency\",fontsize=16)\n",
    "axs.set_xlabel(\"SEB ratio\",fontsize=16)\n",
    "plt.show()"
   ]
  },
  {
   "cell_type": "code",
   "execution_count": null,
   "metadata": {
    "collapsed": true
   },
   "outputs": [],
   "source": []
  }
 ],
 "metadata": {
  "kernelspec": {
   "display_name": "Python 2",
   "language": "python",
   "name": "python2"
  },
  "language_info": {
   "codemirror_mode": {
    "name": "ipython",
    "version": 2
   },
   "file_extension": ".py",
   "mimetype": "text/x-python",
   "name": "python",
   "nbconvert_exporter": "python",
   "pygments_lexer": "ipython2",
   "version": "2.7.11"
  }
 },
 "nbformat": 4,
 "nbformat_minor": 0
}
