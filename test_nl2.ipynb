{
 "metadata": {
  "name": "",
  "signature": "sha256:ee6079914835c536ae10fd1563fe42dd416098eedc2b8c85eb87725c1cd8f5cf"
 },
 "nbformat": 3,
 "nbformat_minor": 0,
 "worksheets": [
  {
   "cells": [
    {
     "cell_type": "code",
     "collapsed": false,
     "input": [
      "# -*- coding: utf-8 -*-\n",
      "import neurolab as nl\n",
      "import numpy as np\n",
      "import matplotlib.pyplot as plt"
     ],
     "language": "python",
     "metadata": {},
     "outputs": [],
     "prompt_number": 1
    },
    {
     "cell_type": "code",
     "collapsed": false,
     "input": [
      "# Create train samples\n",
      "x = np.linspace(-7, 7, 100)\n",
      "y = np.sin(x) * 0.5\n",
      "size = len(x)\n",
      "inp = x.reshape(size,1)\n",
      "tar = y.reshape(size,1)"
     ],
     "language": "python",
     "metadata": {},
     "outputs": [],
     "prompt_number": 34
    },
    {
     "cell_type": "code",
     "collapsed": false,
     "input": [
      "x = np.array([ -55.55314636,  -65.10617065,  -70.06878662,  -73.85668945,\n",
      "        -75.45127869,  -79.01815033,  -61.11135483,   39.18991089,\n",
      "        240.60343933,  443.12762451,  565.97528076,  721.25946045,\n",
      "        688.79193115,  747.73071289,  521.52142334,  162.62878418,\n",
      "         67.57603455,  114.57978058,   56.45625305,  -39.98975372,\n",
      "        -90.85538483,  -96.85674286, -105.04946899, -104.99243164,\n",
      "       -104.94757843, -102.07447052, -105.10523224, -110.2276535 ,\n",
      "       -111.37414551, -103.603302  ,  -84.02243042,   26.85051537,\n",
      "        265.19674683,  242.63238525,  603.84710693,  693.66717529,\n",
      "        708.67352295,  826.24505615,  475.85739136,  673.72344971,\n",
      "        339.55862427,  194.75097656,   20.10501289,  -53.2533989 ,\n",
      "        -83.5115509 ,  -77.96046448,  -78.35413361,  -87.11660004,\n",
      "        -94.29645538])\n",
      "y = np.array([ -27.77657318,  -32.55308533,  -35.03439331,  -36.92834473,\n",
      "        -37.72563934,  -39.50907516,  -30.55567741,   19.59495544,\n",
      "        120.30171967,  221.56381226,  282.98764038,  360.62973022,\n",
      "        344.39596558,  373.86535645,  260.76071167,   81.31439209,\n",
      "         33.78801727,   57.28989029,   28.22812653,  -19.99487686,\n",
      "        -45.42769241,  -48.42837143,  -52.5247345 ,  -52.49621582,\n",
      "        -52.47378922,  -51.03723526,  -52.55261612,  -55.11382675,\n",
      "        -55.68707275,  -51.801651  ,  -42.01121521,   13.42525768,\n",
      "        132.59837341,  121.31619263,  301.92355347,  346.83358765,\n",
      "        354.33676147,  413.12252808,  237.92869568,  336.86172485,\n",
      "        169.77931213,   97.37548828,   10.05250645,  -26.62669945,\n",
      "        -41.75577545,  -38.98023224,  -39.1770668 ,  -43.55830002,\n",
      "        -47.14822769])\n",
      "size = len(x)\n",
      "inp = x.reshape(size,1)\n",
      "tar = y.reshape(size,1)"
     ],
     "language": "python",
     "metadata": {},
     "outputs": [],
     "prompt_number": 2
    },
    {
     "cell_type": "code",
     "collapsed": false,
     "input": [
      "inp_min = np.min(inp)\n",
      "inp_max = np.max(inp)\n",
      "print inp_min,inp_max"
     ],
     "language": "python",
     "metadata": {},
     "outputs": [
      {
       "output_type": "stream",
       "stream": "stdout",
       "text": [
        "-111.37414551 826.24505615\n"
       ]
      }
     ],
     "prompt_number": 3
    },
    {
     "cell_type": "code",
     "collapsed": false,
     "input": [
      "# first try that worked, used newelm\n",
      "#net = nl.net.newelm([[inp_min, inp_max]],[5, 1],[nl.trans.TanSig(), nl.trans.PureLin()])\n",
      "#net.trainf = nl.train.train_rprop\n",
      "# second try\n",
      "#net = nl.net.newff([[inp_min, inp_max]],[5, 1],[nl.trans.TanSig(), nl.trans.PureLin()])\n",
      "#net.trainf = nl.train.train_rprop\n",
      "# third try\n",
      "net = nl.net.newff([[inp_min, inp_max]],[5, 1],[nl.trans.PureLin(), nl.trans.PureLin()])\n",
      "net.trainf = nl.train.train_rprop"
     ],
     "language": "python",
     "metadata": {},
     "outputs": [],
     "prompt_number": 6
    },
    {
     "cell_type": "code",
     "collapsed": false,
     "input": [
      "error = net.train(inp, tar, epochs=1000, show=100, goal=0.00002)"
     ],
     "language": "python",
     "metadata": {},
     "outputs": [
      {
       "output_type": "stream",
       "stream": "stdout",
       "text": [
        "The goal of learning is reached\n"
       ]
      }
     ],
     "prompt_number": 7
    },
    {
     "cell_type": "code",
     "collapsed": false,
     "input": [
      "fig=plt.figure()\n",
      "plt.plot(error)\n",
      "plt.show()"
     ],
     "language": "python",
     "metadata": {},
     "outputs": [],
     "prompt_number": 8
    },
    {
     "cell_type": "code",
     "collapsed": false,
     "input": [
      "out = net.sim(inp)"
     ],
     "language": "python",
     "metadata": {},
     "outputs": [],
     "prompt_number": 9
    },
    {
     "cell_type": "code",
     "collapsed": false,
     "input": [
      "fig=plt.figure()\n",
      "plt.plot(tar,'b.')\n",
      "plt.plot(out,'r-')\n",
      "plt.show()"
     ],
     "language": "python",
     "metadata": {},
     "outputs": [],
     "prompt_number": 10
    },
    {
     "cell_type": "code",
     "collapsed": false,
     "input": [],
     "language": "python",
     "metadata": {},
     "outputs": []
    }
   ],
   "metadata": {}
  }
 ]
}